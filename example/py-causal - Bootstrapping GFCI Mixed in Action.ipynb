{
 "cells": [
  {
   "cell_type": "code",
   "execution_count": 1,
   "metadata": {},
   "outputs": [],
   "source": [
    "import pandas as pd"
   ]
  },
  {
   "cell_type": "markdown",
   "metadata": {},
   "source": [
    "#### Load the example dataset"
   ]
  },
  {
   "cell_type": "code",
   "execution_count": 2,
   "metadata": {},
   "outputs": [],
   "source": [
    "data_dir = \"https://raw.githubusercontent.com/bd2kccd/py-causal/master/data/charity.txt\"\n",
    "df = pd.read_table(data_dir, sep=\"\\t\")"
   ]
  },
  {
   "cell_type": "markdown",
   "metadata": {
    "collapsed": true
   },
   "source": [
    "#### Start Java VM"
   ]
  },
  {
   "cell_type": "code",
   "execution_count": 3,
   "metadata": {},
   "outputs": [],
   "source": [
    "from pycausal.pycausal import pycausal as pc\n",
    "pc = pc()\n",
    "pc.start_vm()"
   ]
  },
  {
   "cell_type": "markdown",
   "metadata": {},
   "source": [
    "#### Create the Prior Knowledge Object"
   ]
  },
  {
   "cell_type": "code",
   "execution_count": 4,
   "metadata": {},
   "outputs": [
    {
     "data": {
      "text/plain": [
       "Instance of edu.cmu.tetrad.data.Knowledge2: /knowledge\n",
       "addtemporal\n",
       "\n",
       "0* Imaginability TangibilityCondition \n",
       "1 AmountDonated Sympathy \n",
       "2 Impact \n",
       "\n",
       "forbiddirect\n",
       "\n",
       "TangibilityCondition ==> Impact \n",
       "requiredirect\n",
       "\n",
       "Sympathy ==> TangibilityCondition "
      ]
     },
     "execution_count": 4,
     "metadata": {},
     "output_type": "execute_result"
    }
   ],
   "source": [
    "from pycausal import prior as p\n",
    "forbid = [['TangibilityCondition','Impact']]\n",
    "require =[['Sympathy','TangibilityCondition']]\n",
    "tempForbid = p.ForbiddenWithin(['TangibilityCondition','Imaginability'])\n",
    "temporal = [tempForbid,['Sympathy','AmountDonated'],['Impact']]\n",
    "prior = p.knowledge(forbiddirect = forbid, requiredirect = require, addtemporal = temporal)\n",
    "prior"
   ]
  },
  {
   "cell_type": "markdown",
   "metadata": {
    "collapsed": true
   },
   "source": [
    "#### Load causal algorithms from the py-causal library and Run GFCI"
   ]
  },
  {
   "cell_type": "code",
   "execution_count": 5,
   "metadata": {},
   "outputs": [
    {
     "name": "stdout",
     "output_type": "stream",
     "text": [
      "alpha: Cutoff for p values (alpha) (min = 0.0) (java.lang.Double) [default:0.01]\n",
      "discretize: Yes if continuous variables should be discretized when child is discrete (java.lang.Boolean) [default:true]\n",
      "structurePrior: Structure prior coefficient (min = 1.0) (java.lang.Double) [default:1.0]\n",
      "discretize: Yes if continuous variables should be discretized when child is discrete (java.lang.Boolean) [default:true]\n",
      "faithfulnessAssumed: Yes if (one edge) faithfulness should be assumed (java.lang.Boolean) [default:true]\n",
      "maxDegree: The maximum degree of the graph (min = -1) (java.lang.Integer) [default:100]\n",
      "maxPathLength: The maximum length for any discriminating path. -1 if unlimited (min = -1) (java.lang.Integer) [default:-1]\n",
      "completeRuleSetUsed: Yes if the complete FCI rule set should be used (java.lang.Boolean) [default:false]\n",
      "bootstrapSampleSize: The number of bootstraps (min = 0) (java.lang.Integer) [default:0]\n",
      "bootstrapEnsemble: Ensemble method: Preserved (0), Highest (1), Majority (2) (java.lang.Integer) [default:1]\n",
      "verbose: Yes if verbose output should be printed or logged (java.lang.Boolean) [default:false]\n"
     ]
    }
   ],
   "source": [
    "from pycausal import search as s\n",
    "tetrad = s.tetradrunner()\n",
    "tetrad.getAlgorithmParameters(algoId = 'gfci', testId = 'cond-gauss-lrt', scoreId = 'cond-gauss-bic')"
   ]
  },
  {
   "cell_type": "code",
   "execution_count": 6,
   "metadata": {},
   "outputs": [],
   "source": [
    "tetrad.run(algoId = 'gfci', dfs = df, testId = 'cond-gauss-lrt', scoreId = 'cond-gauss-bic', \n",
    "           priorKnowledge = prior, dataType = 'mixed', numCategoriesToDiscretize = 4,\n",
    "           penaltyDiscount = 2, structurePrior = 1.0, maxDegree = 3, maxPathLength = -1, alpha = 0.05, \n",
    "           completeRuleSetUsed = False, faithfulnessAssumed = True, verbose = True,\n",
    "           bootstrapSampleSize = 5, bootstrapEnsemble = 0)"
   ]
  },
  {
   "cell_type": "markdown",
   "metadata": {
    "collapsed": true
   },
   "source": [
    "#### GFCI Mixed' Result's Nodes"
   ]
  },
  {
   "cell_type": "code",
   "execution_count": 7,
   "metadata": {},
   "outputs": [
    {
     "data": {
      "text/plain": [
       "['AmountDonated',\n",
       " 'Imaginability',\n",
       " 'Impact',\n",
       " 'Sympathy',\n",
       " 'TangibilityCondition']"
      ]
     },
     "execution_count": 7,
     "metadata": {},
     "output_type": "execute_result"
    }
   ],
   "source": [
    "tetrad.getNodes()"
   ]
  },
  {
   "cell_type": "markdown",
   "metadata": {},
   "source": [
    "#### GFCI Mixed' Result's Edges"
   ]
  },
  {
   "cell_type": "code",
   "execution_count": 8,
   "metadata": {},
   "outputs": [
    {
     "data": {
      "text/plain": [
       "['Sympathy o-> Impact [Impact <-- Sympathy nl dd]:0.2000;[Impact <-o Sympathy]:0.8000;',\n",
       " 'Imaginability o-> AmountDonated [AmountDonated <-o Imaginability]:0.2000;[no edge]:0.8000;',\n",
       " 'Sympathy --> TangibilityCondition [Sympathy --> TangibilityCondition nl dd]:0.2000;[Sympathy --> TangibilityCondition nl pd]:0.8000; nl pd',\n",
       " 'TangibilityCondition --> AmountDonated [AmountDonated <-- TangibilityCondition nl dd]:0.2000;[no edge]:0.8000; nl dd',\n",
       " 'AmountDonated o-> Impact [AmountDonated o-> Impact]:0.4000;[AmountDonated --> Impact nl dd]:0.2000;[no edge]:0.4000;',\n",
       " 'Imaginability o-> Sympathy [Imaginability o-> Sympathy]:0.2000;[no edge]:0.8000;',\n",
       " 'Imaginability o-> Impact [Imaginability o-> Impact]:0.4000;[no edge]:0.6000;']"
      ]
     },
     "execution_count": 8,
     "metadata": {},
     "output_type": "execute_result"
    }
   ],
   "source": [
    "tetrad.getEdges()"
   ]
  },
  {
   "cell_type": "markdown",
   "metadata": {},
   "source": [
    "#### Plot The Result's Graph"
   ]
  },
  {
   "cell_type": "code",
   "execution_count": 9,
   "metadata": {},
   "outputs": [
    {
     "data": {
      "image/svg+xml": [
       "<svg height=\"545pt\" viewBox=\"0.00 0.00 825.52 545.00\" width=\"826pt\" xmlns=\"http://www.w3.org/2000/svg\" xmlns:xlink=\"http://www.w3.org/1999/xlink\">\n",
       "<g class=\"graph\" id=\"graph0\" transform=\"scale(1 1) rotate(0) translate(4 541)\">\n",
       "<title>g</title>\n",
       "<polygon fill=\"white\" points=\"-4,4 -4,-541 821.524,-541 821.524,4 -4,4\" stroke=\"none\"/>\n",
       "<!-- Impact -->\n",
       "<g class=\"node\" id=\"node1\"><title>Impact</title>\n",
       "<ellipse cx=\"77.5241\" cy=\"-256.5\" fill=\"none\" rx=\"44.393\" ry=\"18\" stroke=\"black\"/>\n",
       "<text font-family=\"Times,serif\" font-size=\"14.00\" text-anchor=\"middle\" x=\"77.5241\" y=\"-252.8\">Impact</text>\n",
       "</g>\n",
       "<!-- Sympathy -->\n",
       "<g class=\"node\" id=\"node2\"><title>Sympathy</title>\n",
       "<ellipse cx=\"248.524\" cy=\"-135\" fill=\"none\" rx=\"57.3905\" ry=\"18\" stroke=\"black\"/>\n",
       "<text font-family=\"Times,serif\" font-size=\"14.00\" text-anchor=\"middle\" x=\"248.524\" y=\"-131.3\">Sympathy</text>\n",
       "</g>\n",
       "<!-- Impact&#45;&gt;Sympathy -->\n",
       "<g class=\"edge\" id=\"edge1\"><title>Impact-&gt;Sympathy</title>\n",
       "<path d=\"M84.5385,-228.498C90.7552,-209.768 101.68,-185.644 119.524,-171 138.218,-155.658 163.069,-147.007 185.967,-142.142\" fill=\"none\" stroke=\"black\"/>\n",
       "<polygon fill=\"black\" points=\"81.1323,-227.669 81.5552,-238.255 87.8263,-229.716 81.1323,-227.669\" stroke=\"black\"/>\n",
       "<ellipse cx=\"190.046\" cy=\"-141.343\" fill=\"none\" rx=\"4.00001\" ry=\"4.00001\" stroke=\"black\"/>\n",
       "<text font-family=\"Courier,monospace\" font-size=\"14.00\" text-anchor=\"middle\" x=\"190.024\" y=\"-204.8\">Impact - Sympathy</text>\n",
       "<text font-family=\"Courier,monospace\" font-size=\"14.00\" text-anchor=\"middle\" x=\"190.024\" y=\"-189.8\">[&lt;-- nl dd]:0.2</text>\n",
       "<text font-family=\"Courier,monospace\" font-size=\"14.00\" text-anchor=\"middle\" x=\"190.024\" y=\"-174.8\">[&lt;-o]:0.8</text>\n",
       "</g>\n",
       "<!-- TangibilityCondition -->\n",
       "<g class=\"node\" id=\"node5\"><title>TangibilityCondition</title>\n",
       "<ellipse cx=\"383.524\" cy=\"-18\" fill=\"none\" rx=\"105.082\" ry=\"18\" stroke=\"black\"/>\n",
       "<text font-family=\"Times,serif\" font-size=\"14.00\" text-anchor=\"middle\" x=\"383.524\" y=\"-14.3\">TangibilityCondition</text>\n",
       "</g>\n",
       "<!-- Sympathy&#45;&gt;TangibilityCondition -->\n",
       "<g class=\"edge\" id=\"edge3\"><title>Sympathy-&gt;TangibilityCondition</title>\n",
       "<path d=\"M243.301,-117.057C238.982,-99.3886 235.573,-71.8316 249.524,-54 256.397,-45.2159 275.886,-38.2019 297.945,-32.8287\" fill=\"none\" stroke=\"black\"/>\n",
       "<polygon fill=\"black\" points=\"298.91,-36.1982 307.874,-30.5506 297.344,-29.3755 298.91,-36.1982\" stroke=\"black\"/>\n",
       "<text font-family=\"Courier,monospace\" font-size=\"14.00\" text-anchor=\"middle\" x=\"377.524\" y=\"-87.8\">Sympathy - TangibilityCondition</text>\n",
       "<text font-family=\"Courier,monospace\" font-size=\"14.00\" text-anchor=\"middle\" x=\"377.524\" y=\"-72.8\">[--&gt; nl dd]:0.2</text>\n",
       "<text font-family=\"Courier,monospace\" font-size=\"14.00\" text-anchor=\"middle\" x=\"377.524\" y=\"-57.8\">[--&gt; nl pd]:0.8</text>\n",
       "</g>\n",
       "<!-- AmountDonated -->\n",
       "<g class=\"node\" id=\"node3\"><title>AmountDonated</title>\n",
       "<ellipse cx=\"264.524\" cy=\"-519\" fill=\"none\" rx=\"86.3847\" ry=\"18\" stroke=\"black\"/>\n",
       "<text font-family=\"Times,serif\" font-size=\"14.00\" text-anchor=\"middle\" x=\"264.524\" y=\"-515.3\">AmountDonated</text>\n",
       "</g>\n",
       "<!-- AmountDonated&#45;&gt;Impact -->\n",
       "<g class=\"edge\" id=\"edge5\"><title>AmountDonated-&gt;Impact</title>\n",
       "<path d=\"M178.881,-509.572C120.823,-498.896 48.0636,-474.721 10.5241,-420 -20.3203,-375.039 24.5293,-313.679 54.4368,-280.714\" fill=\"none\" stroke=\"black\"/>\n",
       "<ellipse cx=\"183.031\" cy=\"-510.3\" fill=\"none\" rx=\"4.00001\" ry=\"4.00001\" stroke=\"black\"/>\n",
       "<polygon fill=\"black\" points=\"57.0369,-283.058 61.295,-273.357 51.9163,-278.285 57.0369,-283.058\" stroke=\"black\"/>\n",
       "<text font-family=\"Courier,monospace\" font-size=\"14.00\" text-anchor=\"middle\" x=\"101.524\" y=\"-408.8\">AmountDonated - Impact</text>\n",
       "<text font-family=\"Courier,monospace\" font-size=\"14.00\" text-anchor=\"middle\" x=\"101.524\" y=\"-393.8\">[o-&gt;]:0.4</text>\n",
       "<text font-family=\"Courier,monospace\" font-size=\"14.00\" text-anchor=\"middle\" x=\"101.524\" y=\"-378.8\">[--&gt; nl dd]:0.2</text>\n",
       "<text font-family=\"Courier,monospace\" font-size=\"14.00\" text-anchor=\"middle\" x=\"101.524\" y=\"-363.8\">[no edge]:0.4</text>\n",
       "</g>\n",
       "<!-- Imaginability -->\n",
       "<g class=\"node\" id=\"node4\"><title>Imaginability</title>\n",
       "<ellipse cx=\"274.524\" cy=\"-390\" fill=\"none\" rx=\"72.5877\" ry=\"18\" stroke=\"black\"/>\n",
       "<text font-family=\"Times,serif\" font-size=\"14.00\" text-anchor=\"middle\" x=\"274.524\" y=\"-386.3\">Imaginability</text>\n",
       "</g>\n",
       "<!-- AmountDonated&#45;&gt;Imaginability -->\n",
       "<g class=\"edge\" id=\"edge2\"><title>AmountDonated-&gt;Imaginability</title>\n",
       "<path d=\"M263.671,-490.36C263.494,-474.918 263.769,-455.348 265.524,-438 266.246,-430.871 267.502,-423.21 268.852,-416.186\" fill=\"none\" stroke=\"black\"/>\n",
       "<polygon fill=\"black\" points=\"260.179,-490.851 263.864,-500.784 267.178,-490.721 260.179,-490.851\" stroke=\"black\"/>\n",
       "<ellipse cx=\"269.657\" cy=\"-412.222\" fill=\"none\" rx=\"4.00001\" ry=\"4.00001\" stroke=\"black\"/>\n",
       "<text font-family=\"Courier,monospace\" font-size=\"14.00\" text-anchor=\"middle\" x=\"385.524\" y=\"-471.8\">AmountDonated - Imaginability</text>\n",
       "<text font-family=\"Courier,monospace\" font-size=\"14.00\" text-anchor=\"middle\" x=\"385.524\" y=\"-456.8\">[&lt;-o]:0.2</text>\n",
       "<text font-family=\"Courier,monospace\" font-size=\"14.00\" text-anchor=\"middle\" x=\"385.524\" y=\"-441.8\">[no edge]:0.8</text>\n",
       "</g>\n",
       "<!-- AmountDonated&#45;&gt;TangibilityCondition -->\n",
       "<g class=\"edge\" id=\"edge4\"><title>AmountDonated-&gt;TangibilityCondition</title>\n",
       "<path d=\"M360.136,-515.503C418.261,-511.888 485.107,-503.279 505.524,-483 534.869,-453.854 519.524,-432.36 519.524,-391 519.524,-391 519.524,-391 519.524,-134 519.524,-97.9041 529.658,-80.8416 505.524,-54 495.064,-42.3662 481.022,-34.4934 466.189,-29.1902\" fill=\"none\" stroke=\"black\"/>\n",
       "<polygon fill=\"black\" points=\"359.927,-512.01 350.146,-516.082 360.332,-518.998 359.927,-512.01\" stroke=\"black\"/>\n",
       "<text font-family=\"Courier,monospace\" font-size=\"14.00\" text-anchor=\"middle\" x=\"668.524\" y=\"-267.8\">AmountDonated - TangibilityCondition</text>\n",
       "<text font-family=\"Courier,monospace\" font-size=\"14.00\" text-anchor=\"middle\" x=\"668.524\" y=\"-252.8\">[&lt;-- nl dd]:0.2</text>\n",
       "<text font-family=\"Courier,monospace\" font-size=\"14.00\" text-anchor=\"middle\" x=\"668.524\" y=\"-237.8\">[no edge]:0.8</text>\n",
       "</g>\n",
       "<!-- Imaginability&#45;&gt;Impact -->\n",
       "<g class=\"edge\" id=\"edge7\"><title>Imaginability-&gt;Impact</title>\n",
       "<path d=\"M228.022,-371.992C215.036,-367.656 200.834,-363.295 187.524,-360 163.693,-354.1 94.5172,-360.626 78.5241,-342 65.1997,-326.482 66.0913,-302.805 69.6669,-284.458\" fill=\"none\" stroke=\"black\"/>\n",
       "<ellipse cx=\"232.144\" cy=\"-373.392\" fill=\"none\" rx=\"4.00001\" ry=\"4.00001\" stroke=\"black\"/>\n",
       "<polygon fill=\"black\" points=\"73.0951,-285.167 71.9253,-274.637 66.2732,-283.598 73.0951,-285.167\" stroke=\"black\"/>\n",
       "<text font-family=\"Courier,monospace\" font-size=\"14.00\" text-anchor=\"middle\" x=\"169.524\" y=\"-330.8\">Imaginability - Impact</text>\n",
       "<text font-family=\"Courier,monospace\" font-size=\"14.00\" text-anchor=\"middle\" x=\"169.524\" y=\"-315.8\">[o-&gt;]:0.4</text>\n",
       "<text font-family=\"Courier,monospace\" font-size=\"14.00\" text-anchor=\"middle\" x=\"169.524\" y=\"-300.8\">[no edge]:0.6</text>\n",
       "</g>\n",
       "<!-- Imaginability&#45;&gt;Sympathy -->\n",
       "<g class=\"edge\" id=\"edge6\"><title>Imaginability-&gt;Sympathy</title>\n",
       "<path d=\"M275.064,-363.774C275.459,-322.876 274.26,-239.746 260.524,-171 259.988,-168.317 259.298,-165.558 258.52,-162.822\" fill=\"none\" stroke=\"black\"/>\n",
       "<ellipse cx=\"275.011\" cy=\"-367.84\" fill=\"none\" rx=\"4\" ry=\"4\" stroke=\"black\"/>\n",
       "<polygon fill=\"black\" points=\"261.821,-161.651 255.437,-153.195 255.154,-163.786 261.821,-161.651\" stroke=\"black\"/>\n",
       "<text font-family=\"Courier,monospace\" font-size=\"14.00\" text-anchor=\"middle\" x=\"373.024\" y=\"-267.8\">Imaginability - Sympathy</text>\n",
       "<text font-family=\"Courier,monospace\" font-size=\"14.00\" text-anchor=\"middle\" x=\"373.024\" y=\"-252.8\">[o-&gt;]:0.2</text>\n",
       "<text font-family=\"Courier,monospace\" font-size=\"14.00\" text-anchor=\"middle\" x=\"373.024\" y=\"-237.8\">[no edge]:0.8</text>\n",
       "</g>\n",
       "</g>\n",
       "</svg>"
      ],
      "text/plain": [
       "<IPython.core.display.SVG object>"
      ]
     },
     "execution_count": 9,
     "metadata": {},
     "output_type": "execute_result"
    }
   ],
   "source": [
    "import pydot\n",
    "from IPython.display import SVG\n",
    "dot_str = pc.tetradGraphToDot(tetrad.getTetradGraph())\n",
    "graphs = pydot.graph_from_dot_data(dot_str)\n",
    "svg_str = graphs[0].create_svg()\n",
    "SVG(svg_str)"
   ]
  },
  {
   "cell_type": "markdown",
   "metadata": {
    "collapsed": true
   },
   "source": [
    "#### Stop Java VM"
   ]
  },
  {
   "cell_type": "code",
   "execution_count": 10,
   "metadata": {},
   "outputs": [],
   "source": [
    "pc.stop_vm()"
   ]
  },
  {
   "cell_type": "code",
   "execution_count": null,
   "metadata": {
    "collapsed": true
   },
   "outputs": [],
   "source": []
  }
 ],
 "metadata": {
  "kernelspec": {
   "display_name": "Python 3",
   "language": "python",
   "name": "python3"
  },
  "language_info": {
   "codemirror_mode": {
    "name": "ipython",
    "version": 3
   },
   "file_extension": ".py",
   "mimetype": "text/x-python",
   "name": "python",
   "nbconvert_exporter": "python",
   "pygments_lexer": "ipython3",
   "version": "3.5.4"
  },
  "widgets": {
   "state": {},
   "version": "1.1.1"
  }
 },
 "nbformat": 4,
 "nbformat_minor": 1
}
