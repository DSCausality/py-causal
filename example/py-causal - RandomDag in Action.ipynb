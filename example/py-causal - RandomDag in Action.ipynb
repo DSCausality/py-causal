{
 "cells": [
  {
   "cell_type": "code",
   "execution_count": 1,
   "metadata": {
    "collapsed": true
   },
   "outputs": [],
   "source": [
    "import pandas as pd\n",
    "import pydot\n",
    "from IPython.display import SVG"
   ]
  },
  {
   "cell_type": "markdown",
   "metadata": {
    "collapsed": true
   },
   "source": [
    "#### Start Java VM"
   ]
  },
  {
   "cell_type": "code",
   "execution_count": 2,
   "metadata": {
    "collapsed": true
   },
   "outputs": [],
   "source": [
    "from pycausal.pycausal import pycausal as pc\n",
    "pc = pc()\n",
    "pc.start_vm()"
   ]
  },
  {
   "cell_type": "markdown",
   "metadata": {
    "collapsed": true
   },
   "source": [
    "#### Load causal algorithms from the py-causal library and Run RandomDag"
   ]
  },
  {
   "cell_type": "code",
   "execution_count": 3,
   "metadata": {
    "collapsed": true
   },
   "outputs": [],
   "source": [
    "from pycausal import search as s\n",
    "randomDag = s.randomDag(seed = 123, numNodes = 20, numEdges = 40)"
   ]
  },
  {
   "cell_type": "markdown",
   "metadata": {
    "collapsed": true
   },
   "source": [
    "#### RandomDag's Result's Nodes"
   ]
  },
  {
   "cell_type": "code",
   "execution_count": 4,
   "metadata": {},
   "outputs": [
    {
     "data": {
      "text/plain": [
       "[u'X1',\n",
       " u'X2',\n",
       " u'X3',\n",
       " u'X4',\n",
       " u'X5',\n",
       " u'X6',\n",
       " u'X7',\n",
       " u'X8',\n",
       " u'X9',\n",
       " u'X10',\n",
       " u'X11',\n",
       " u'X12',\n",
       " u'X13',\n",
       " u'X14',\n",
       " u'X15',\n",
       " u'X16',\n",
       " u'X17',\n",
       " u'X18',\n",
       " u'X19',\n",
       " u'X20']"
      ]
     },
     "execution_count": 4,
     "metadata": {},
     "output_type": "execute_result"
    }
   ],
   "source": [
    "randomDag.getNodes()"
   ]
  },
  {
   "cell_type": "markdown",
   "metadata": {},
   "source": [
    "#### RandomDag's Result's Edges"
   ]
  },
  {
   "cell_type": "code",
   "execution_count": 5,
   "metadata": {},
   "outputs": [
    {
     "data": {
      "text/plain": [
       "[u'X7 --> X9',\n",
       " u'X11 --> X20',\n",
       " u'X10 --> X20',\n",
       " u'X13 --> X20',\n",
       " u'X2 --> X11',\n",
       " u'X3 --> X12',\n",
       " u'X6 --> X12',\n",
       " u'X1 --> X17',\n",
       " u'X5 --> X12',\n",
       " u'X2 --> X15',\n",
       " u'X1 --> X16',\n",
       " u'X6 --> X13',\n",
       " u'X8 --> X11',\n",
       " u'X4 --> X15',\n",
       " u'X5 --> X14',\n",
       " u'X4 --> X18',\n",
       " u'X5 --> X17',\n",
       " u'X6 --> X15',\n",
       " u'X5 --> X19',\n",
       " u'X7 --> X19',\n",
       " u'X10 --> X15',\n",
       " u'X2 --> X20',\n",
       " u'X11 --> X14',\n",
       " u'X11 --> X12',\n",
       " u'X12 --> X16',\n",
       " u'X7 --> X20',\n",
       " u'X10 --> X18',\n",
       " u'X1 --> X4',\n",
       " u'X11 --> X16',\n",
       " u'X1 --> X6',\n",
       " u'X13 --> X14',\n",
       " u'X13 --> X19',\n",
       " u'X15 --> X17',\n",
       " u'X1 --> X8',\n",
       " u'X2 --> X8',\n",
       " u'X14 --> X17',\n",
       " u'X5 --> X8',\n",
       " u'X15 --> X19',\n",
       " u'X7 --> X8',\n",
       " u'X17 --> X18']"
      ]
     },
     "execution_count": 5,
     "metadata": {},
     "output_type": "execute_result"
    }
   ],
   "source": [
    "randomDag.getEdges()"
   ]
  },
  {
   "cell_type": "markdown",
   "metadata": {},
   "source": [
    "#### Plot The Result's Graph"
   ]
  },
  {
   "cell_type": "code",
   "execution_count": 6,
   "metadata": {},
   "outputs": [
    {
     "data": {
      "image/svg+xml": [
       "<svg height=\"404pt\" viewBox=\"0.00 0.00 821.34 404.00\" width=\"821pt\" xmlns=\"http://www.w3.org/2000/svg\" xmlns:xlink=\"http://www.w3.org/1999/xlink\">\n",
       "<g class=\"graph\" id=\"graph0\" transform=\"scale(1 1) rotate(0) translate(4 400)\">\n",
       "<title>G</title>\n",
       "<polygon fill=\"white\" points=\"-4,4 -4,-400 817.343,-400 817.343,4 -4,4\" stroke=\"none\"/>\n",
       "<!-- X2 -->\n",
       "<g class=\"node\" id=\"node1\"><title>X2</title>\n",
       "<ellipse cx=\"288.328\" cy=\"-378\" fill=\"none\" rx=\"27\" ry=\"18\" stroke=\"black\"/>\n",
       "<text font-family=\"Times,serif\" font-size=\"14.00\" text-anchor=\"middle\" x=\"288.328\" y=\"-374.3\">X2</text>\n",
       "</g>\n",
       "<!-- X20 -->\n",
       "<g class=\"node\" id=\"node2\"><title>X20</title>\n",
       "<ellipse cx=\"119.328\" cy=\"-162\" fill=\"none\" rx=\"27\" ry=\"18\" stroke=\"black\"/>\n",
       "<text font-family=\"Times,serif\" font-size=\"14.00\" text-anchor=\"middle\" x=\"119.328\" y=\"-158.3\">X20</text>\n",
       "</g>\n",
       "<!-- X2&#45;&gt;X20 -->\n",
       "<g class=\"edge\" id=\"edge1\"><title>X2-&gt;X20</title>\n",
       "<path d=\"M261.213,-377.38C222.866,-376.271 153.845,-367.862 121.328,-324 92.3607,-284.927 101.847,-224.591 110.896,-189.947\" fill=\"none\" stroke=\"black\"/>\n",
       "<polygon fill=\"black\" points=\"114.335,-190.645 113.647,-180.072 107.592,-188.766 114.335,-190.645\" stroke=\"black\"/>\n",
       "</g>\n",
       "<!-- X8 -->\n",
       "<g class=\"node\" id=\"node3\"><title>X8</title>\n",
       "<ellipse cx=\"381.328\" cy=\"-306\" fill=\"none\" rx=\"27\" ry=\"18\" stroke=\"black\"/>\n",
       "<text font-family=\"Times,serif\" font-size=\"14.00\" text-anchor=\"middle\" x=\"381.328\" y=\"-302.3\">X8</text>\n",
       "</g>\n",
       "<!-- X2&#45;&gt;X8 -->\n",
       "<g class=\"edge\" id=\"edge2\"><title>X2-&gt;X8</title>\n",
       "<path d=\"M305.82,-363.834C319.849,-353.274 339.744,-338.3 355.59,-326.373\" fill=\"none\" stroke=\"black\"/>\n",
       "<polygon fill=\"black\" points=\"358.029,-328.918 363.914,-320.107 353.819,-323.325 358.029,-328.918\" stroke=\"black\"/>\n",
       "</g>\n",
       "<!-- X11 -->\n",
       "<g class=\"node\" id=\"node4\"><title>X11</title>\n",
       "<ellipse cx=\"267.328\" cy=\"-234\" fill=\"none\" rx=\"27\" ry=\"18\" stroke=\"black\"/>\n",
       "<text font-family=\"Times,serif\" font-size=\"14.00\" text-anchor=\"middle\" x=\"267.328\" y=\"-230.3\">X11</text>\n",
       "</g>\n",
       "<!-- X2&#45;&gt;X11 -->\n",
       "<g class=\"edge\" id=\"edge3\"><title>X2-&gt;X11</title>\n",
       "<path d=\"M285.795,-359.871C282.216,-335.67 275.641,-291.211 271.379,-262.393\" fill=\"none\" stroke=\"black\"/>\n",
       "<polygon fill=\"black\" points=\"274.795,-261.57 269.87,-252.189 267.871,-262.594 274.795,-261.57\" stroke=\"black\"/>\n",
       "</g>\n",
       "<!-- X15 -->\n",
       "<g class=\"node\" id=\"node5\"><title>X15</title>\n",
       "<ellipse cx=\"525.328\" cy=\"-234\" fill=\"none\" rx=\"27\" ry=\"18\" stroke=\"black\"/>\n",
       "<text font-family=\"Times,serif\" font-size=\"14.00\" text-anchor=\"middle\" x=\"525.328\" y=\"-230.3\">X15</text>\n",
       "</g>\n",
       "<!-- X2&#45;&gt;X15 -->\n",
       "<g class=\"edge\" id=\"edge4\"><title>X2-&gt;X15</title>\n",
       "<path d=\"M294.707,-360.309C303.23,-340.216 320.232,-306.832 345.328,-288 368.22,-270.822 444.486,-252.256 490.073,-242.301\" fill=\"none\" stroke=\"black\"/>\n",
       "<polygon fill=\"black\" points=\"490.814,-245.721 499.853,-240.194 489.34,-238.878 490.814,-245.721\" stroke=\"black\"/>\n",
       "</g>\n",
       "<!-- X8&#45;&gt;X11 -->\n",
       "<g class=\"edge\" id=\"edge18\"><title>X8-&gt;X11</title>\n",
       "<path d=\"M361.989,-293.125C343.728,-281.913 316.133,-264.968 295.441,-252.263\" fill=\"none\" stroke=\"black\"/>\n",
       "<polygon fill=\"black\" points=\"297.114,-249.183 286.761,-246.933 293.452,-255.148 297.114,-249.183\" stroke=\"black\"/>\n",
       "</g>\n",
       "<!-- X11&#45;&gt;X20 -->\n",
       "<g class=\"edge\" id=\"edge24\"><title>X11-&gt;X20</title>\n",
       "<path d=\"M245.807,-222.821C220.597,-210.898 178.646,-191.056 150.026,-177.519\" fill=\"none\" stroke=\"black\"/>\n",
       "<polygon fill=\"black\" points=\"151.411,-174.303 140.874,-173.191 148.418,-180.631 151.411,-174.303\" stroke=\"black\"/>\n",
       "</g>\n",
       "<!-- X14 -->\n",
       "<g class=\"node\" id=\"node7\"><title>X14</title>\n",
       "<ellipse cx=\"363.328\" cy=\"-162\" fill=\"none\" rx=\"27\" ry=\"18\" stroke=\"black\"/>\n",
       "<text font-family=\"Times,serif\" font-size=\"14.00\" text-anchor=\"middle\" x=\"363.328\" y=\"-158.3\">X14</text>\n",
       "</g>\n",
       "<!-- X11&#45;&gt;X14 -->\n",
       "<g class=\"edge\" id=\"edge23\"><title>X11-&gt;X14</title>\n",
       "<path d=\"M284.936,-220.161C299.686,-209.405 320.941,-193.907 337.599,-181.761\" fill=\"none\" stroke=\"black\"/>\n",
       "<polygon fill=\"black\" points=\"339.814,-184.477 345.832,-175.758 335.689,-178.821 339.814,-184.477\" stroke=\"black\"/>\n",
       "</g>\n",
       "<!-- X12 -->\n",
       "<g class=\"node\" id=\"node9\"><title>X12</title>\n",
       "<ellipse cx=\"599.328\" cy=\"-162\" fill=\"none\" rx=\"27\" ry=\"18\" stroke=\"black\"/>\n",
       "<text font-family=\"Times,serif\" font-size=\"14.00\" text-anchor=\"middle\" x=\"599.328\" y=\"-158.3\">X12</text>\n",
       "</g>\n",
       "<!-- X11&#45;&gt;X12 -->\n",
       "<g class=\"edge\" id=\"edge26\"><title>X11-&gt;X12</title>\n",
       "<path d=\"M292.3,-227.111C306.63,-223.77 324.97,-219.559 341.328,-216 420.586,-198.758 513.877,-179.964 563.701,-170.047\" fill=\"none\" stroke=\"black\"/>\n",
       "<polygon fill=\"black\" points=\"564.527,-173.451 573.653,-168.069 563.162,-166.586 564.527,-173.451\" stroke=\"black\"/>\n",
       "</g>\n",
       "<!-- X16 -->\n",
       "<g class=\"node\" id=\"node17\"><title>X16</title>\n",
       "<ellipse cx=\"599.328\" cy=\"-90\" fill=\"none\" rx=\"27\" ry=\"18\" stroke=\"black\"/>\n",
       "<text font-family=\"Times,serif\" font-size=\"14.00\" text-anchor=\"middle\" x=\"599.328\" y=\"-86.3\">X16</text>\n",
       "</g>\n",
       "<!-- X11&#45;&gt;X16 -->\n",
       "<g class=\"edge\" id=\"edge25\"><title>X11-&gt;X16</title>\n",
       "<path d=\"M273.838,-216.259C282.707,-195.792 300.607,-161.7 327.328,-144 346.833,-131.08 493.731,-107.195 563.169,-96.4675\" fill=\"none\" stroke=\"black\"/>\n",
       "<polygon fill=\"black\" points=\"563.87,-99.9009 573.223,-94.9227 562.807,-92.9821 563.87,-99.9009\" stroke=\"black\"/>\n",
       "</g>\n",
       "<!-- X19 -->\n",
       "<g class=\"node\" id=\"node8\"><title>X19</title>\n",
       "<ellipse cx=\"451.328\" cy=\"-162\" fill=\"none\" rx=\"27\" ry=\"18\" stroke=\"black\"/>\n",
       "<text font-family=\"Times,serif\" font-size=\"14.00\" text-anchor=\"middle\" x=\"451.328\" y=\"-158.3\">X19</text>\n",
       "</g>\n",
       "<!-- X15&#45;&gt;X19 -->\n",
       "<g class=\"edge\" id=\"edge36\"><title>X15-&gt;X19</title>\n",
       "<path d=\"M510.353,-218.834C499.821,-208.872 485.546,-195.369 473.673,-184.137\" fill=\"none\" stroke=\"black\"/>\n",
       "<polygon fill=\"black\" points=\"475.951,-181.474 466.281,-177.144 471.14,-186.559 475.951,-181.474\" stroke=\"black\"/>\n",
       "</g>\n",
       "<!-- X17 -->\n",
       "<g class=\"node\" id=\"node10\"><title>X17</title>\n",
       "<ellipse cx=\"444.328\" cy=\"-90\" fill=\"none\" rx=\"27\" ry=\"18\" stroke=\"black\"/>\n",
       "<text font-family=\"Times,serif\" font-size=\"14.00\" text-anchor=\"middle\" x=\"444.328\" y=\"-86.3\">X17</text>\n",
       "</g>\n",
       "<!-- X15&#45;&gt;X17 -->\n",
       "<g class=\"edge\" id=\"edge37\"><title>X15-&gt;X17</title>\n",
       "<path d=\"M519.763,-216.257C513.29,-197.85 501.642,-167.74 487.328,-144 480.957,-133.434 472.656,-122.695 465.047,-113.672\" fill=\"none\" stroke=\"black\"/>\n",
       "<polygon fill=\"black\" points=\"467.525,-111.187 458.33,-105.922 462.235,-115.771 467.525,-111.187\" stroke=\"black\"/>\n",
       "</g>\n",
       "<!-- X5 -->\n",
       "<g class=\"node\" id=\"node6\"><title>X5</title>\n",
       "<ellipse cx=\"436.328\" cy=\"-378\" fill=\"none\" rx=\"27\" ry=\"18\" stroke=\"black\"/>\n",
       "<text font-family=\"Times,serif\" font-size=\"14.00\" text-anchor=\"middle\" x=\"436.328\" y=\"-374.3\">X5</text>\n",
       "</g>\n",
       "<!-- X5&#45;&gt;X8 -->\n",
       "<g class=\"edge\" id=\"edge7\"><title>X5-&gt;X8</title>\n",
       "<path d=\"M424.394,-361.811C417.114,-352.546 407.665,-340.52 399.473,-330.094\" fill=\"none\" stroke=\"black\"/>\n",
       "<polygon fill=\"black\" points=\"402.169,-327.86 393.239,-322.159 396.665,-332.185 402.169,-327.86\" stroke=\"black\"/>\n",
       "</g>\n",
       "<!-- X5&#45;&gt;X14 -->\n",
       "<g class=\"edge\" id=\"edge5\"><title>X5-&gt;X14</title>\n",
       "<path d=\"M436.972,-359.711C436.797,-340.261 433.7,-308.692 417.328,-288 394.137,-258.69 361.315,-283.583 341.328,-252 328.95,-232.44 337.735,-206.382 347.633,-187.52\" fill=\"none\" stroke=\"black\"/>\n",
       "<polygon fill=\"black\" points=\"350.777,-189.071 352.649,-178.643 344.683,-185.628 350.777,-189.071\" stroke=\"black\"/>\n",
       "</g>\n",
       "<!-- X5&#45;&gt;X19 -->\n",
       "<g class=\"edge\" id=\"edge6\"><title>X5-&gt;X19</title>\n",
       "<path d=\"M441.978,-360.034C445.112,-349.74 448.697,-336.264 450.328,-324 456.526,-277.403 455.012,-222.548 453.244,-190.394\" fill=\"none\" stroke=\"black\"/>\n",
       "<polygon fill=\"black\" points=\"456.714,-189.79 452.62,-180.018 449.727,-190.21 456.714,-189.79\" stroke=\"black\"/>\n",
       "</g>\n",
       "<!-- X5&#45;&gt;X12 -->\n",
       "<g class=\"edge\" id=\"edge8\"><title>X5-&gt;X12</title>\n",
       "<path d=\"M463.353,-375.486C497.013,-372.029 553.583,-360.742 582.328,-324 612.463,-285.482 609.487,-224.946 604.488,-190.118\" fill=\"none\" stroke=\"black\"/>\n",
       "<polygon fill=\"black\" points=\"607.936,-189.512 602.906,-180.187 601.023,-190.613 607.936,-189.512\" stroke=\"black\"/>\n",
       "</g>\n",
       "<!-- X5&#45;&gt;X17 -->\n",
       "<g class=\"edge\" id=\"edge9\"><title>X5-&gt;X17</title>\n",
       "<path d=\"M411.488,-370.793C350.49,-354.1 200.472,-303.49 231.328,-216 244.995,-177.248 255.673,-167.576 289.328,-144 325.584,-118.602 375.054,-104.495 408.265,-97.3388\" fill=\"none\" stroke=\"black\"/>\n",
       "<polygon fill=\"black\" points=\"409.345,-100.69 418.439,-95.2539 407.94,-93.8327 409.345,-100.69\" stroke=\"black\"/>\n",
       "</g>\n",
       "<!-- X14&#45;&gt;X17 -->\n",
       "<g class=\"edge\" id=\"edge17\"><title>X14-&gt;X17</title>\n",
       "<path d=\"M379.331,-147.17C391.091,-137.008 407.264,-123.03 420.535,-111.561\" fill=\"none\" stroke=\"black\"/>\n",
       "<polygon fill=\"black\" points=\"423.081,-113.988 428.358,-104.801 418.503,-108.692 423.081,-113.988\" stroke=\"black\"/>\n",
       "</g>\n",
       "<!-- X12&#45;&gt;X16 -->\n",
       "<g class=\"edge\" id=\"edge27\"><title>X12-&gt;X16</title>\n",
       "<path d=\"M599.328,-143.697C599.328,-135.983 599.328,-126.712 599.328,-118.112\" fill=\"none\" stroke=\"black\"/>\n",
       "<polygon fill=\"black\" points=\"602.828,-118.104 599.328,-108.104 595.828,-118.104 602.828,-118.104\" stroke=\"black\"/>\n",
       "</g>\n",
       "<!-- X18 -->\n",
       "<g class=\"node\" id=\"node16\"><title>X18</title>\n",
       "<ellipse cx=\"444.328\" cy=\"-18\" fill=\"none\" rx=\"27\" ry=\"18\" stroke=\"black\"/>\n",
       "<text font-family=\"Times,serif\" font-size=\"14.00\" text-anchor=\"middle\" x=\"444.328\" y=\"-14.3\">X18</text>\n",
       "</g>\n",
       "<!-- X17&#45;&gt;X18 -->\n",
       "<g class=\"edge\" id=\"edge40\"><title>X17-&gt;X18</title>\n",
       "<path d=\"M444.328,-71.6966C444.328,-63.9827 444.328,-54.7125 444.328,-46.1124\" fill=\"none\" stroke=\"black\"/>\n",
       "<polygon fill=\"black\" points=\"447.828,-46.1043 444.328,-36.1043 440.828,-46.1044 447.828,-46.1043\" stroke=\"black\"/>\n",
       "</g>\n",
       "<!-- X13 -->\n",
       "<g class=\"node\" id=\"node11\"><title>X13</title>\n",
       "<ellipse cx=\"377.328\" cy=\"-234\" fill=\"none\" rx=\"27\" ry=\"18\" stroke=\"black\"/>\n",
       "<text font-family=\"Times,serif\" font-size=\"14.00\" text-anchor=\"middle\" x=\"377.328\" y=\"-230.3\">X13</text>\n",
       "</g>\n",
       "<!-- X13&#45;&gt;X20 -->\n",
       "<g class=\"edge\" id=\"edge11\"><title>X13-&gt;X20</title>\n",
       "<path d=\"M352.59,-226.288C306.358,-213.744 206.761,-186.722 153.909,-172.382\" fill=\"none\" stroke=\"black\"/>\n",
       "<polygon fill=\"black\" points=\"154.559,-168.932 143.991,-169.692 152.726,-175.688 154.559,-168.932\" stroke=\"black\"/>\n",
       "</g>\n",
       "<!-- X13&#45;&gt;X14 -->\n",
       "<g class=\"edge\" id=\"edge10\"><title>X13-&gt;X14</title>\n",
       "<path d=\"M373.939,-216.055C372.397,-208.346 370.533,-199.027 368.801,-190.364\" fill=\"none\" stroke=\"black\"/>\n",
       "<polygon fill=\"black\" points=\"372.176,-189.395 366.783,-180.275 365.312,-190.768 372.176,-189.395\" stroke=\"black\"/>\n",
       "</g>\n",
       "<!-- X13&#45;&gt;X19 -->\n",
       "<g class=\"edge\" id=\"edge12\"><title>X13-&gt;X19</title>\n",
       "<path d=\"M392.303,-218.834C402.835,-208.872 417.11,-195.369 428.983,-184.137\" fill=\"none\" stroke=\"black\"/>\n",
       "<polygon fill=\"black\" points=\"431.516,-186.559 436.375,-177.144 426.705,-181.474 431.516,-186.559\" stroke=\"black\"/>\n",
       "</g>\n",
       "<!-- X7 -->\n",
       "<g class=\"node\" id=\"node12\"><title>X7</title>\n",
       "<ellipse cx=\"130.328\" cy=\"-378\" fill=\"none\" rx=\"27\" ry=\"18\" stroke=\"black\"/>\n",
       "<text font-family=\"Times,serif\" font-size=\"14.00\" text-anchor=\"middle\" x=\"130.328\" y=\"-374.3\">X7</text>\n",
       "</g>\n",
       "<!-- X7&#45;&gt;X20 -->\n",
       "<g class=\"edge\" id=\"edge13\"><title>X7-&gt;X20</title>\n",
       "<path d=\"M103.962,-373.815C75.1209,-368.767 30.2213,-355.961 9.3279,-324 -25.2436,-271.115 49.0645,-209.765 91.8669,-180.404\" fill=\"none\" stroke=\"black\"/>\n",
       "<polygon fill=\"black\" points=\"93.8619,-183.281 100.219,-174.805 89.9637,-177.466 93.8619,-183.281\" stroke=\"black\"/>\n",
       "</g>\n",
       "<!-- X7&#45;&gt;X8 -->\n",
       "<g class=\"edge\" id=\"edge15\"><title>X7-&gt;X8</title>\n",
       "<path d=\"M154.852,-370.161C199.838,-357.615 295.64,-330.897 347.044,-316.561\" fill=\"none\" stroke=\"black\"/>\n",
       "<polygon fill=\"black\" points=\"348.012,-319.925 356.704,-313.867 346.132,-313.182 348.012,-319.925\" stroke=\"black\"/>\n",
       "</g>\n",
       "<!-- X7&#45;&gt;X19 -->\n",
       "<g class=\"edge\" id=\"edge14\"><title>X7-&gt;X19</title>\n",
       "<path d=\"M150.731,-365.88C183.71,-348.143 251.029,-312.912 310.328,-288 355.036,-269.218 377.904,-285.117 413.328,-252 430.909,-235.564 440.713,-209.653 445.939,-190.019\" fill=\"none\" stroke=\"black\"/>\n",
       "<polygon fill=\"black\" points=\"449.381,-190.675 448.331,-180.132 442.577,-189.028 449.381,-190.675\" stroke=\"black\"/>\n",
       "</g>\n",
       "<!-- X9 -->\n",
       "<g class=\"node\" id=\"node13\"><title>X9</title>\n",
       "<ellipse cx=\"45.3279\" cy=\"-306\" fill=\"none\" rx=\"27\" ry=\"18\" stroke=\"black\"/>\n",
       "<text font-family=\"Times,serif\" font-size=\"14.00\" text-anchor=\"middle\" x=\"45.3279\" y=\"-302.3\">X9</text>\n",
       "</g>\n",
       "<!-- X7&#45;&gt;X9 -->\n",
       "<g class=\"edge\" id=\"edge16\"><title>X7-&gt;X9</title>\n",
       "<path d=\"M113.939,-363.503C101.357,-353.142 83.7897,-338.674 69.5811,-326.973\" fill=\"none\" stroke=\"black\"/>\n",
       "<polygon fill=\"black\" points=\"71.6108,-324.111 61.6664,-320.455 67.1608,-329.514 71.6108,-324.111\" stroke=\"black\"/>\n",
       "</g>\n",
       "<!-- X3 -->\n",
       "<g class=\"node\" id=\"node14\"><title>X3</title>\n",
       "<ellipse cx=\"673.328\" cy=\"-234\" fill=\"none\" rx=\"27\" ry=\"18\" stroke=\"black\"/>\n",
       "<text font-family=\"Times,serif\" font-size=\"14.00\" text-anchor=\"middle\" x=\"673.328\" y=\"-230.3\">X3</text>\n",
       "</g>\n",
       "<!-- X3&#45;&gt;X12 -->\n",
       "<g class=\"edge\" id=\"edge19\"><title>X3-&gt;X12</title>\n",
       "<path d=\"M658.353,-218.834C647.821,-208.872 633.546,-195.369 621.673,-184.137\" fill=\"none\" stroke=\"black\"/>\n",
       "<polygon fill=\"black\" points=\"623.951,-181.474 614.281,-177.144 619.14,-186.559 623.951,-181.474\" stroke=\"black\"/>\n",
       "</g>\n",
       "<!-- X10 -->\n",
       "<g class=\"node\" id=\"node15\"><title>X10</title>\n",
       "<ellipse cx=\"157.328\" cy=\"-306\" fill=\"none\" rx=\"27\" ry=\"18\" stroke=\"black\"/>\n",
       "<text font-family=\"Times,serif\" font-size=\"14.00\" text-anchor=\"middle\" x=\"157.328\" y=\"-302.3\">X10</text>\n",
       "</g>\n",
       "<!-- X10&#45;&gt;X20 -->\n",
       "<g class=\"edge\" id=\"edge20\"><title>X10-&gt;X20</title>\n",
       "<path d=\"M152.82,-288.153C146.306,-263.813 134.198,-218.568 126.464,-189.665\" fill=\"none\" stroke=\"black\"/>\n",
       "<polygon fill=\"black\" points=\"129.797,-188.58 123.83,-179.825 123.034,-190.39 129.797,-188.58\" stroke=\"black\"/>\n",
       "</g>\n",
       "<!-- X10&#45;&gt;X15 -->\n",
       "<g class=\"edge\" id=\"edge22\"><title>X10-&gt;X15</title>\n",
       "<path d=\"M182.913,-300.133C247.075,-287.929 414.979,-255.99 489.179,-241.876\" fill=\"none\" stroke=\"black\"/>\n",
       "<polygon fill=\"black\" points=\"490.253,-245.235 499.423,-239.928 488.945,-238.358 490.253,-245.235\" stroke=\"black\"/>\n",
       "</g>\n",
       "<!-- X10&#45;&gt;X18 -->\n",
       "<g class=\"edge\" id=\"edge21\"><title>X10-&gt;X18</title>\n",
       "<path d=\"M163.093,-288.183C174.515,-256.8 202.578,-188.475 244.328,-144 293.726,-91.3778 369.919,-51.9588 412.587,-32.5092\" fill=\"none\" stroke=\"black\"/>\n",
       "<polygon fill=\"black\" points=\"414.223,-35.6118 421.919,-28.3309 411.362,-29.223 414.223,-35.6118\" stroke=\"black\"/>\n",
       "</g>\n",
       "<!-- X1 -->\n",
       "<g class=\"node\" id=\"node18\"><title>X1</title>\n",
       "<ellipse cx=\"692.328\" cy=\"-378\" fill=\"none\" rx=\"27\" ry=\"18\" stroke=\"black\"/>\n",
       "<text font-family=\"Times,serif\" font-size=\"14.00\" text-anchor=\"middle\" x=\"692.328\" y=\"-374.3\">X1</text>\n",
       "</g>\n",
       "<!-- X1&#45;&gt;X8 -->\n",
       "<g class=\"edge\" id=\"edge28\"><title>X1-&gt;X8</title>\n",
       "<path d=\"M667.141,-371.331C611.938,-358.906 480.164,-329.246 416.691,-314.959\" fill=\"none\" stroke=\"black\"/>\n",
       "<polygon fill=\"black\" points=\"417.274,-311.503 406.75,-312.722 415.737,-318.333 417.274,-311.503\" stroke=\"black\"/>\n",
       "</g>\n",
       "<!-- X1&#45;&gt;X17 -->\n",
       "<g class=\"edge\" id=\"edge32\"><title>X1-&gt;X17</title>\n",
       "<path d=\"M706.078,-362.069C714.289,-352.1 723.947,-338.247 728.328,-324 742.653,-277.416 733.905,-258.086 709.328,-216 686.188,-176.374 675.123,-166.848 635.328,-144 586.016,-115.688 520.79,-101.844 480.736,-95.586\" fill=\"none\" stroke=\"black\"/>\n",
       "<polygon fill=\"black\" points=\"481.036,-92.0923 470.631,-94.0852 480.008,-99.0163 481.036,-92.0923\" stroke=\"black\"/>\n",
       "</g>\n",
       "<!-- X1&#45;&gt;X16 -->\n",
       "<g class=\"edge\" id=\"edge29\"><title>X1-&gt;X16</title>\n",
       "<path d=\"M716.671,-369.851C737.715,-362.234 766.816,-347.912 780.328,-324 819.686,-254.351 828.294,-208.025 780.328,-144 762.952,-120.807 683.068,-104.348 635.426,-96.3994\" fill=\"none\" stroke=\"black\"/>\n",
       "<polygon fill=\"black\" points=\"635.929,-92.9353 625.497,-94.7878 634.808,-99.8448 635.929,-92.9353\" stroke=\"black\"/>\n",
       "</g>\n",
       "<!-- X6 -->\n",
       "<g class=\"node\" id=\"node19\"><title>X6</title>\n",
       "<ellipse cx=\"546.328\" cy=\"-306\" fill=\"none\" rx=\"27\" ry=\"18\" stroke=\"black\"/>\n",
       "<text font-family=\"Times,serif\" font-size=\"14.00\" text-anchor=\"middle\" x=\"546.328\" y=\"-302.3\">X6</text>\n",
       "</g>\n",
       "<!-- X1&#45;&gt;X6 -->\n",
       "<g class=\"edge\" id=\"edge30\"><title>X1-&gt;X6</title>\n",
       "<path d=\"M671.098,-366.821C646.229,-354.898 604.844,-335.056 576.611,-321.519\" fill=\"none\" stroke=\"black\"/>\n",
       "<polygon fill=\"black\" points=\"578.114,-318.358 567.583,-317.191 575.087,-324.67 578.114,-318.358\" stroke=\"black\"/>\n",
       "</g>\n",
       "<!-- X4 -->\n",
       "<g class=\"node\" id=\"node20\"><title>X4</title>\n",
       "<ellipse cx=\"692.328\" cy=\"-306\" fill=\"none\" rx=\"27\" ry=\"18\" stroke=\"black\"/>\n",
       "<text font-family=\"Times,serif\" font-size=\"14.00\" text-anchor=\"middle\" x=\"692.328\" y=\"-302.3\">X4</text>\n",
       "</g>\n",
       "<!-- X1&#45;&gt;X4 -->\n",
       "<g class=\"edge\" id=\"edge31\"><title>X1-&gt;X4</title>\n",
       "<path d=\"M692.328,-359.697C692.328,-351.983 692.328,-342.712 692.328,-334.112\" fill=\"none\" stroke=\"black\"/>\n",
       "<polygon fill=\"black\" points=\"695.828,-334.104 692.328,-324.104 688.828,-334.104 695.828,-334.104\" stroke=\"black\"/>\n",
       "</g>\n",
       "<!-- X6&#45;&gt;X15 -->\n",
       "<g class=\"edge\" id=\"edge35\"><title>X6-&gt;X15</title>\n",
       "<path d=\"M541.244,-288.055C538.845,-280.059 535.927,-270.331 533.248,-261.4\" fill=\"none\" stroke=\"black\"/>\n",
       "<polygon fill=\"black\" points=\"536.591,-260.362 530.365,-251.789 529.886,-262.373 536.591,-260.362\" stroke=\"black\"/>\n",
       "</g>\n",
       "<!-- X6&#45;&gt;X12 -->\n",
       "<g class=\"edge\" id=\"edge34\"><title>X6-&gt;X12</title>\n",
       "<path d=\"M552.511,-288.433C561.598,-264.088 578.649,-218.404 589.474,-189.402\" fill=\"none\" stroke=\"black\"/>\n",
       "<polygon fill=\"black\" points=\"592.802,-190.494 593.02,-179.902 586.244,-188.047 592.802,-190.494\" stroke=\"black\"/>\n",
       "</g>\n",
       "<!-- X6&#45;&gt;X13 -->\n",
       "<g class=\"edge\" id=\"edge33\"><title>X6-&gt;X13</title>\n",
       "<path d=\"M523.886,-295.705C494.385,-283.485 442.392,-261.95 408.924,-248.087\" fill=\"none\" stroke=\"black\"/>\n",
       "<polygon fill=\"black\" points=\"410.172,-244.816 399.593,-244.222 407.493,-251.283 410.172,-244.816\" stroke=\"black\"/>\n",
       "</g>\n",
       "<!-- X4&#45;&gt;X15 -->\n",
       "<g class=\"edge\" id=\"edge39\"><title>X4-&gt;X15</title>\n",
       "<path d=\"M670.152,-295.705C641.08,-283.519 589.906,-262.069 556.825,-248.202\" fill=\"none\" stroke=\"black\"/>\n",
       "<polygon fill=\"black\" points=\"558.172,-244.972 547.596,-244.334 555.465,-251.428 558.172,-244.972\" stroke=\"black\"/>\n",
       "</g>\n",
       "<!-- X4&#45;&gt;X18 -->\n",
       "<g class=\"edge\" id=\"edge38\"><title>X4-&gt;X18</title>\n",
       "<path d=\"M699.687,-288.494C706.711,-270.548 715.394,-241.075 709.328,-216 692.409,-146.061 691.125,-117.435 635.328,-72 590.802,-35.7431 523.176,-24.234 481.479,-20.615\" fill=\"none\" stroke=\"black\"/>\n",
       "<polygon fill=\"black\" points=\"481.703,-17.122 471.466,-19.8546 481.173,-24.1019 481.703,-17.122\" stroke=\"black\"/>\n",
       "</g>\n",
       "</g>\n",
       "</svg>"
      ],
      "text/plain": [
       "<IPython.core.display.SVG object>"
      ]
     },
     "execution_count": 6,
     "metadata": {},
     "output_type": "execute_result"
    }
   ],
   "source": [
    "dot = randomDag.getDot()\n",
    "svg_str = dot.create_svg(prog='dot')\n",
    "SVG(svg_str)"
   ]
  },
  {
   "cell_type": "markdown",
   "metadata": {
    "collapsed": true
   },
   "source": [
    "#### Stop Java VM"
   ]
  },
  {
   "cell_type": "code",
   "execution_count": 7,
   "metadata": {
    "collapsed": true
   },
   "outputs": [],
   "source": [
    "pc.stop_vm()"
   ]
  },
  {
   "cell_type": "code",
   "execution_count": null,
   "metadata": {
    "collapsed": true
   },
   "outputs": [],
   "source": []
  }
 ],
 "metadata": {
  "kernelspec": {
   "display_name": "Python 2",
   "language": "python",
   "name": "python2"
  },
  "language_info": {
   "codemirror_mode": {
    "name": "ipython",
    "version": 2
   },
   "file_extension": ".py",
   "mimetype": "text/x-python",
   "name": "python",
   "nbconvert_exporter": "python",
   "pygments_lexer": "ipython2",
   "version": "2.7.13"
  },
  "widgets": {
   "state": {},
   "version": "1.1.1"
  }
 },
 "nbformat": 4,
 "nbformat_minor": 1
}
