{
 "cells": [
  {
   "cell_type": "code",
   "execution_count": 1,
   "metadata": {},
   "outputs": [],
   "source": [
    "import pandas as pd\n",
    "import pydot\n",
    "from IPython.display import SVG"
   ]
  },
  {
   "cell_type": "markdown",
   "metadata": {},
   "source": [
    "#### Load the example dataset"
   ]
  },
  {
   "cell_type": "code",
   "execution_count": 2,
   "metadata": {},
   "outputs": [],
   "source": [
    "data_dir = \"https://raw.githubusercontent.com/bd2kccd/py-causal/master/data/charity.txt\"\n",
    "df = pd.read_table(data_dir, sep=\"\\t\")"
   ]
  },
  {
   "cell_type": "markdown",
   "metadata": {
    "collapsed": true
   },
   "source": [
    "#### Start Java VM"
   ]
  },
  {
   "cell_type": "code",
   "execution_count": 3,
   "metadata": {},
   "outputs": [],
   "source": [
    "from pycausal import pycausal as pc\n",
    "pc.start_vm()"
   ]
  },
  {
   "cell_type": "markdown",
   "metadata": {},
   "source": [
    "#### Create the Prior Knowledge Object"
   ]
  },
  {
   "cell_type": "code",
   "execution_count": 4,
   "metadata": {},
   "outputs": [
    {
     "data": {
      "text/plain": [
       "Instance of edu.cmu.tetrad.data.Knowledge2: /knowledge\n",
       "addtemporal\n",
       "\n",
       "0* TangibilityCondition Imaginability \n",
       "1 Sympathy AmountDonated \n",
       "2 Impact \n",
       "\n",
       "forbiddirect\n",
       "\n",
       "TangibilityCondition ==> Impact \n",
       "requiredirect\n",
       "\n",
       "Sympathy ==> TangibilityCondition "
      ]
     },
     "execution_count": 4,
     "metadata": {},
     "output_type": "execute_result"
    }
   ],
   "source": [
    "from pycausal import prior as p\n",
    "forbid = [['TangibilityCondition','Impact']]\n",
    "require =[['Sympathy','TangibilityCondition']]\n",
    "tempForbid = p.ForbiddenWithin(['TangibilityCondition','Imaginability'])\n",
    "temporal = [tempForbid,['Sympathy','AmountDonated'],['Impact']]\n",
    "prior = p.knowledge(forbiddirect = forbid, requiredirect = require, addtemporal = temporal)\n",
    "prior"
   ]
  },
  {
   "cell_type": "markdown",
   "metadata": {
    "collapsed": true
   },
   "source": [
    "#### Load causal algorithms from the py-causal library and Run FGES Continuous"
   ]
  },
  {
   "cell_type": "code",
   "execution_count": 5,
   "metadata": {},
   "outputs": [],
   "source": [
    "from pycausal import search as s\n",
    "fges = s.fges(df,penaltyDiscount = 2, maxDegree = -1, faithfulnessAssumed = True, verbose = True, priorKnowledge = prior)"
   ]
  },
  {
   "cell_type": "markdown",
   "metadata": {
    "collapsed": true
   },
   "source": [
    "#### FGES Continuous' Result's Nodes"
   ]
  },
  {
   "cell_type": "code",
   "execution_count": 6,
   "metadata": {},
   "outputs": [
    {
     "data": {
      "text/plain": [
       "[u'TangibilityCondition',\n",
       " u'AmountDonated',\n",
       " u'Sympathy',\n",
       " u'Imaginability',\n",
       " u'Impact']"
      ]
     },
     "execution_count": 6,
     "metadata": {},
     "output_type": "execute_result"
    }
   ],
   "source": [
    "fges.getNodes()"
   ]
  },
  {
   "cell_type": "markdown",
   "metadata": {},
   "source": [
    "#### FGES Continuous' Result's Edges"
   ]
  },
  {
   "cell_type": "code",
   "execution_count": 7,
   "metadata": {},
   "outputs": [
    {
     "data": {
      "text/plain": [
       "[u'Sympathy --> TangibilityCondition',\n",
       " u'Sympathy --> Impact',\n",
       " u'Sympathy --> AmountDonated',\n",
       " u'Imaginability --> Sympathy',\n",
       " u'Imaginability --> Impact']"
      ]
     },
     "execution_count": 7,
     "metadata": {},
     "output_type": "execute_result"
    }
   ],
   "source": [
    "fges.getEdges()"
   ]
  },
  {
   "cell_type": "markdown",
   "metadata": {},
   "source": [
    "#### Plot The Result's Graph"
   ]
  },
  {
   "cell_type": "code",
   "execution_count": 8,
   "metadata": {},
   "outputs": [
    {
     "data": {
      "image/svg+xml": [
       "<svg height=\"188pt\" viewBox=\"0.00 0.00 419.83 188.00\" width=\"420pt\" xmlns=\"http://www.w3.org/2000/svg\" xmlns:xlink=\"http://www.w3.org/1999/xlink\">\n",
       "<g class=\"graph\" id=\"graph0\" transform=\"scale(1 1) rotate(0) translate(4 184)\">\n",
       "<title>G</title>\n",
       "<polygon fill=\"white\" points=\"-4,4 -4,-184 415.826,-184 415.826,4 -4,4\" stroke=\"none\"/>\n",
       "<!-- TangibilityCondition -->\n",
       "<g class=\"node\" id=\"node1\"><title>TangibilityCondition</title>\n",
       "<ellipse cx=\"84.1665\" cy=\"-18\" fill=\"none\" rx=\"84.3334\" ry=\"18\" stroke=\"black\"/>\n",
       "<text font-family=\"Times,serif\" font-size=\"14.00\" text-anchor=\"middle\" x=\"84.1665\" y=\"-13.8\">TangibilityCondition</text>\n",
       "</g>\n",
       "<!-- AmountDonated -->\n",
       "<g class=\"node\" id=\"node2\"><title>AmountDonated</title>\n",
       "<ellipse cx=\"255.167\" cy=\"-18\" fill=\"none\" rx=\"69.1064\" ry=\"18\" stroke=\"black\"/>\n",
       "<text font-family=\"Times,serif\" font-size=\"14.00\" text-anchor=\"middle\" x=\"255.167\" y=\"-13.8\">AmountDonated</text>\n",
       "</g>\n",
       "<!-- Sympathy -->\n",
       "<g class=\"node\" id=\"node3\"><title>Sympathy</title>\n",
       "<ellipse cx=\"267.167\" cy=\"-90\" fill=\"none\" rx=\"45.9459\" ry=\"18\" stroke=\"black\"/>\n",
       "<text font-family=\"Times,serif\" font-size=\"14.00\" text-anchor=\"middle\" x=\"267.167\" y=\"-85.8\">Sympathy</text>\n",
       "</g>\n",
       "<!-- Sympathy&#45;&gt;TangibilityCondition -->\n",
       "<g class=\"edge\" id=\"edge1\"><title>Sympathy-&gt;TangibilityCondition</title>\n",
       "<path d=\"M235.29,-76.8069C207.078,-66.0154 165.471,-50.1002 133.053,-37.6998\" fill=\"none\" stroke=\"black\"/>\n",
       "<polygon fill=\"black\" points=\"133.903,-34.2775 123.312,-33.9738 131.402,-40.8156 133.903,-34.2775\" stroke=\"black\"/>\n",
       "</g>\n",
       "<!-- Sympathy&#45;&gt;AmountDonated -->\n",
       "<g class=\"edge\" id=\"edge3\"><title>Sympathy-&gt;AmountDonated</title>\n",
       "<path d=\"M264.2,-71.6966C262.878,-63.9827 261.289,-54.7125 259.814,-46.1124\" fill=\"none\" stroke=\"black\"/>\n",
       "<polygon fill=\"black\" points=\"263.238,-45.3692 258.099,-36.1043 256.339,-46.552 263.238,-45.3692\" stroke=\"black\"/>\n",
       "</g>\n",
       "<!-- Impact -->\n",
       "<g class=\"node\" id=\"node5\"><title>Impact</title>\n",
       "<ellipse cx=\"377.167\" cy=\"-18\" fill=\"none\" rx=\"34.8198\" ry=\"18\" stroke=\"black\"/>\n",
       "<text font-family=\"Times,serif\" font-size=\"14.00\" text-anchor=\"middle\" x=\"377.167\" y=\"-13.8\">Impact</text>\n",
       "</g>\n",
       "<!-- Sympathy&#45;&gt;Impact -->\n",
       "<g class=\"edge\" id=\"edge2\"><title>Sympathy-&gt;Impact</title>\n",
       "<path d=\"M290.226,-74.3257C306.75,-63.8108 329.159,-49.5503 347.088,-38.141\" fill=\"none\" stroke=\"black\"/>\n",
       "<polygon fill=\"black\" points=\"349.443,-40.7911 356,-32.4695 345.684,-34.8855 349.443,-40.7911\" stroke=\"black\"/>\n",
       "</g>\n",
       "<!-- Imaginability -->\n",
       "<g class=\"node\" id=\"node4\"><title>Imaginability</title>\n",
       "<ellipse cx=\"304.167\" cy=\"-162\" fill=\"none\" rx=\"57.5065\" ry=\"18\" stroke=\"black\"/>\n",
       "<text font-family=\"Times,serif\" font-size=\"14.00\" text-anchor=\"middle\" x=\"304.167\" y=\"-157.8\">Imaginability</text>\n",
       "</g>\n",
       "<!-- Imaginability&#45;&gt;Sympathy -->\n",
       "<g class=\"edge\" id=\"edge4\"><title>Imaginability-&gt;Sympathy</title>\n",
       "<path d=\"M295.21,-144.055C290.892,-135.887 285.62,-125.912 280.817,-116.824\" fill=\"none\" stroke=\"black\"/>\n",
       "<polygon fill=\"black\" points=\"283.808,-114.994 276.041,-107.789 277.62,-118.266 283.808,-114.994\" stroke=\"black\"/>\n",
       "</g>\n",
       "<!-- Imaginability&#45;&gt;Impact -->\n",
       "<g class=\"edge\" id=\"edge5\"><title>Imaginability-&gt;Impact</title>\n",
       "<path d=\"M312.827,-144.153C325.45,-119.6 349.009,-73.7727 363.847,-44.9083\" fill=\"none\" stroke=\"black\"/>\n",
       "<polygon fill=\"black\" points=\"367.058,-46.3188 368.517,-35.825 360.832,-43.1183 367.058,-46.3188\" stroke=\"black\"/>\n",
       "</g>\n",
       "</g>\n",
       "</svg>"
      ],
      "text/plain": [
       "<IPython.core.display.SVG object>"
      ]
     },
     "execution_count": 8,
     "metadata": {},
     "output_type": "execute_result"
    }
   ],
   "source": [
    "dot = fges.getDot()\n",
    "svg_str = dot.create_svg(prog='dot')\n",
    "SVG(svg_str)"
   ]
  },
  {
   "cell_type": "markdown",
   "metadata": {
    "collapsed": true
   },
   "source": [
    "#### Stop Java VM"
   ]
  },
  {
   "cell_type": "code",
   "execution_count": 9,
   "metadata": {},
   "outputs": [],
   "source": [
    "pc.stop_vm()"
   ]
  },
  {
   "cell_type": "code",
   "execution_count": null,
   "metadata": {
    "collapsed": true
   },
   "outputs": [],
   "source": []
  }
 ],
 "metadata": {
  "kernelspec": {
   "display_name": "Python 2",
   "language": "python",
   "name": "python2"
  },
  "language_info": {
   "codemirror_mode": {
    "name": "ipython",
    "version": 2
   },
   "file_extension": ".py",
   "mimetype": "text/x-python",
   "name": "python",
   "nbconvert_exporter": "python",
   "pygments_lexer": "ipython2",
   "version": "2.7.11"
  }
 },
 "nbformat": 4,
 "nbformat_minor": 1
}
