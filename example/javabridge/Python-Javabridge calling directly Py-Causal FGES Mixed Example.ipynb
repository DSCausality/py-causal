{
 "cells": [
  {
   "cell_type": "code",
   "execution_count": 1,
   "metadata": {},
   "outputs": [],
   "source": [
    "import javabridge\n",
    "import os\n",
    "import glob\n",
    "import pandas as pd\n",
    "import pydot\n",
    "from IPython.display import SVG"
   ]
  },
  {
   "cell_type": "code",
   "execution_count": 2,
   "metadata": {},
   "outputs": [
    {
     "name": "stdout",
     "output_type": "stream",
     "text": [
      "/home/jovyan/py-causal/example/javabridge/../../src/pycausal/lib/causal-cmd-1.0.0-jar-with-dependencies.jar\n"
     ]
    }
   ],
   "source": [
    "tetrad_libdir = os.path.join(os.getcwd(), '..','..','src', 'pycausal', 'lib')\n",
    "for l in glob.glob(tetrad_libdir + os.sep + \"*.jar\"):\n",
    "    print (l)\n",
    "    javabridge.JARS.append(str(l))"
   ]
  },
  {
   "cell_type": "code",
   "execution_count": 3,
   "metadata": {},
   "outputs": [
    {
     "data": {
      "text/plain": [
       "<JB_Env at 0x556fa8e189e0>"
      ]
     },
     "execution_count": 3,
     "metadata": {},
     "output_type": "execute_result"
    }
   ],
   "source": [
    "javabridge.start_vm(run_headless=True, max_heap_size = '100M')\n",
    "javabridge.attach()"
   ]
  },
  {
   "cell_type": "code",
   "execution_count": 4,
   "metadata": {},
   "outputs": [
    {
     "data": {
      "text/plain": [
       "'/home/jovyan/py-causal/example/javabridge/../../data/charity.txt'"
      ]
     },
     "execution_count": 4,
     "metadata": {},
     "output_type": "execute_result"
    }
   ],
   "source": [
    "data_dir = os.path.join(os.getcwd(), '..','..','data', 'charity.txt')\n",
    "data_dir"
   ]
  },
  {
   "cell_type": "code",
   "execution_count": 5,
   "metadata": {},
   "outputs": [
    {
     "data": {
      "text/html": [
       "<div>\n",
       "<style scoped>\n",
       "    .dataframe tbody tr th:only-of-type {\n",
       "        vertical-align: middle;\n",
       "    }\n",
       "\n",
       "    .dataframe tbody tr th {\n",
       "        vertical-align: top;\n",
       "    }\n",
       "\n",
       "    .dataframe thead th {\n",
       "        text-align: right;\n",
       "    }\n",
       "</style>\n",
       "<table border=\"1\" class=\"dataframe\">\n",
       "  <thead>\n",
       "    <tr style=\"text-align: right;\">\n",
       "      <th></th>\n",
       "      <th>TangibilityCondition</th>\n",
       "      <th>AmountDonated</th>\n",
       "      <th>Sympathy</th>\n",
       "      <th>Imaginability</th>\n",
       "      <th>Impact</th>\n",
       "    </tr>\n",
       "  </thead>\n",
       "  <tbody>\n",
       "    <tr>\n",
       "      <th>0</th>\n",
       "      <td>1.0</td>\n",
       "      <td>0.0</td>\n",
       "      <td>7.0</td>\n",
       "      <td>4.0</td>\n",
       "      <td>4.5</td>\n",
       "    </tr>\n",
       "    <tr>\n",
       "      <th>1</th>\n",
       "      <td>1.0</td>\n",
       "      <td>0.0</td>\n",
       "      <td>2.0</td>\n",
       "      <td>2.0</td>\n",
       "      <td>2.0</td>\n",
       "    </tr>\n",
       "    <tr>\n",
       "      <th>2</th>\n",
       "      <td>1.0</td>\n",
       "      <td>0.0</td>\n",
       "      <td>7.0</td>\n",
       "      <td>3.0</td>\n",
       "      <td>3.0</td>\n",
       "    </tr>\n",
       "    <tr>\n",
       "      <th>3</th>\n",
       "      <td>1.0</td>\n",
       "      <td>0.0</td>\n",
       "      <td>4.0</td>\n",
       "      <td>3.0</td>\n",
       "      <td>4.5</td>\n",
       "    </tr>\n",
       "    <tr>\n",
       "      <th>4</th>\n",
       "      <td>1.0</td>\n",
       "      <td>0.0</td>\n",
       "      <td>3.0</td>\n",
       "      <td>7.0</td>\n",
       "      <td>1.0</td>\n",
       "    </tr>\n",
       "  </tbody>\n",
       "</table>\n",
       "</div>"
      ],
      "text/plain": [
       "   TangibilityCondition  AmountDonated  Sympathy  Imaginability  Impact\n",
       "0                   1.0            0.0       7.0            4.0     4.5\n",
       "1                   1.0            0.0       2.0            2.0     2.0\n",
       "2                   1.0            0.0       7.0            3.0     3.0\n",
       "3                   1.0            0.0       4.0            3.0     4.5\n",
       "4                   1.0            0.0       3.0            7.0     1.0"
      ]
     },
     "execution_count": 5,
     "metadata": {},
     "output_type": "execute_result"
    }
   ],
   "source": [
    "df = pd.read_table(data_dir, sep=\"\\t\")\n",
    "df.head()"
   ]
  },
  {
   "cell_type": "code",
   "execution_count": 6,
   "metadata": {},
   "outputs": [],
   "source": [
    "numCategoriesToDiscretize = 4\n",
    "node_list = javabridge.JClassWrapper('java.util.ArrayList')()\n",
    "cont_list = []\n",
    "disc_list = []\n",
    "col_no = 0\n",
    "for col in df.columns:\n",
    "\n",
    "    cat_array = sorted(set(df[col]))\n",
    "    if(len(cat_array) > numCategoriesToDiscretize):\n",
    "        # Continuous variable\n",
    "        nodi = javabridge.JClassWrapper('edu.cmu.tetrad.data.ContinuousVariable')(col)\n",
    "        node_list.add(nodi)\n",
    "\n",
    "        cont_list.append(col_no)\n",
    "\n",
    "    else:\n",
    "        # Discrete variable\n",
    "        cat_list = javabridge.JClassWrapper('java.util.ArrayList')()\n",
    "        for cat in cat_array:\n",
    "            cat = str(cat)\n",
    "            cat_list.add(cat)\n",
    "\n",
    "        nodname = javabridge.JClassWrapper('java.lang.String')(col)\n",
    "        nodi = javabridge.JClassWrapper('edu.cmu.tetrad.data.DiscreteVariable')(nodname,cat_list)\n",
    "        node_list.add(nodi)\n",
    "\n",
    "        disc_list.append(col_no)\n",
    "\n",
    "    col_no = col_no + 1"
   ]
  },
  {
   "cell_type": "code",
   "execution_count": 7,
   "metadata": {},
   "outputs": [],
   "source": [
    "mixedDataBox = javabridge.JClassWrapper('edu.cmu.tetrad.data.MixedDataBox')(node_list, len(df.index))"
   ]
  },
  {
   "cell_type": "code",
   "execution_count": 8,
   "metadata": {},
   "outputs": [],
   "source": [
    "for row in df.index:\n",
    "\n",
    "    for col in cont_list:\n",
    "        value = javabridge.JClassWrapper('java.lang.Double')(df.iloc[row,col])\n",
    "        mixedDataBox.set(row,col,value)\n",
    "\n",
    "    for col in disc_list:\n",
    "        cat_array = sorted(set(df[df.columns[col]]))\n",
    "        value = javabridge.JClassWrapper('java.lang.Integer')(cat_array.index(df.iloc[row,col]))\n",
    "        mixedDataBox.set(row,col,value)"
   ]
  },
  {
   "cell_type": "code",
   "execution_count": 9,
   "metadata": {},
   "outputs": [],
   "source": [
    "tetradData = javabridge.JClassWrapper('edu.cmu.tetrad.data.BoxDataSet')(mixedDataBox, node_list)"
   ]
  },
  {
   "cell_type": "code",
   "execution_count": 10,
   "metadata": {},
   "outputs": [],
   "source": [
    "structurePrior = 1.0\n",
    "score = javabridge.JClassWrapper('edu.cmu.tetrad.search.ConditionalGaussianScore')(tetradData, structurePrior, True)\n",
    "score.setPenaltyDiscount(2)# set to 2 if variable# <= 50 otherwise set it to 4"
   ]
  },
  {
   "cell_type": "code",
   "execution_count": 11,
   "metadata": {},
   "outputs": [],
   "source": [
    "fges = javabridge.JClassWrapper(\"edu.cmu.tetrad.search.Fges\")(score)"
   ]
  },
  {
   "cell_type": "code",
   "execution_count": 12,
   "metadata": {},
   "outputs": [],
   "source": [
    "fges.setMaxDegree(-1)\n",
    "fges.setNumPatternsToStore(0)\n",
    "fges.setFaithfulnessAssumed(True)\n",
    "fges.setParallelism(2)\n",
    "fges.setVerbose(True)"
   ]
  },
  {
   "cell_type": "code",
   "execution_count": 13,
   "metadata": {},
   "outputs": [
    {
     "data": {
      "text/plain": [
       "Instance of edu.cmu.tetrad.data.Knowledge2: /knowledge\n",
       "addtemporal\n",
       "\n",
       "1*  Imaginability TangibilityCondition\n",
       "2  AmountDonated Sympathy\n",
       "3  Impact\n",
       "\n",
       "forbiddirect\n",
       "TangibilityCondition Impact\n",
       "\n",
       "requiredirect\n",
       "Sympathy TangibilityCondition"
      ]
     },
     "execution_count": 13,
     "metadata": {},
     "output_type": "execute_result"
    }
   ],
   "source": [
    "prior = javabridge.JClassWrapper('edu.cmu.tetrad.data.Knowledge2')()\n",
    "prior.setForbidden('TangibilityCondition', 'Impact') # forbidden directed edges\n",
    "prior.setRequired('Sympathy','TangibilityCondition') # required directed edges\n",
    "prior.setTierForbiddenWithin(0, True)\n",
    "prior.addToTier(0, 'TangibilityCondition')\n",
    "prior.addToTier(0, 'Imaginability')\n",
    "prior.addToTier(1, 'Sympathy')\n",
    "prior.addToTier(1, 'AmountDonated')\n",
    "prior.addToTier(2, 'Impact')\n",
    "fges.setKnowledge(prior)\n",
    "prior"
   ]
  },
  {
   "cell_type": "code",
   "execution_count": 14,
   "metadata": {},
   "outputs": [
    {
     "data": {
      "text/plain": [
       "Instance of edu.cmu.tetrad.graph.EdgeListGraphSingleConnections: Graph Nodes:\n",
       "TangibilityCondition;AmountDonated;Sympathy;Imaginability;Impact\n",
       "\n",
       "Graph Edges:\n",
       "1. Imaginability --> Impact\n",
       "2. Imaginability --> Sympathy\n",
       "3. Sympathy --> Impact\n",
       "4. Sympathy --> TangibilityCondition\n",
       "\n",
       "Graph Attributes:\n",
       "BIC: -1437.620656\n",
       "\n",
       "Graph Node Attributes:\n",
       "BIC: [TangibilityCondition: -136.005693;AmountDonated: -214.984633;Sympathy: -392.541511;Imaginability: -391.976367;Impact: -369.040327]"
      ]
     },
     "execution_count": 14,
     "metadata": {},
     "output_type": "execute_result"
    }
   ],
   "source": [
    "tetradGraph = fges.search()\n",
    "tetradGraph"
   ]
  },
  {
   "cell_type": "code",
   "execution_count": 15,
   "metadata": {},
   "outputs": [
    {
     "data": {
      "text/plain": [
       "'Graph Nodes:\\nTangibilityCondition;AmountDonated;Sympathy;Imaginability;Impact\\n\\nGraph Edges:\\n1. Imaginability --> Impact\\n2. Imaginability --> Sympathy\\n3. Sympathy --> Impact\\n4. Sympathy --> TangibilityCondition\\n\\nGraph Attributes:\\nBIC: -1437.620656\\n\\nGraph Node Attributes:\\nBIC: [TangibilityCondition: -136.005693;AmountDonated: -214.984633;Sympathy: -392.541511;Imaginability: -391.976367;Impact: -369.040327]\\n'"
      ]
     },
     "execution_count": 15,
     "metadata": {},
     "output_type": "execute_result"
    }
   ],
   "source": [
    "tetradGraph.toString()"
   ]
  },
  {
   "cell_type": "code",
   "execution_count": 16,
   "metadata": {},
   "outputs": [
    {
     "data": {
      "text/plain": [
       "Instance of java.util.ArrayList: [TangibilityCondition, AmountDonated, Sympathy, Imaginability, Impact]"
      ]
     },
     "execution_count": 16,
     "metadata": {},
     "output_type": "execute_result"
    }
   ],
   "source": [
    "tetradGraph.getNodeNames()"
   ]
  },
  {
   "cell_type": "code",
   "execution_count": 17,
   "metadata": {},
   "outputs": [
    {
     "data": {
      "text/plain": [
       "Instance of java.util.HashSet: [Sympathy --> Impact, Sympathy --> TangibilityCondition, Imaginability --> Sympathy, Imaginability --> Impact]"
      ]
     },
     "execution_count": 17,
     "metadata": {},
     "output_type": "execute_result"
    }
   ],
   "source": [
    "tetradGraph.getEdges()"
   ]
  },
  {
   "cell_type": "code",
   "execution_count": 18,
   "metadata": {},
   "outputs": [
    {
     "data": {
      "image/svg+xml": [
       "<svg height=\"260pt\" viewBox=\"0.00 0.00 218.58 260.00\" width=\"219pt\" xmlns=\"http://www.w3.org/2000/svg\" xmlns:xlink=\"http://www.w3.org/1999/xlink\">\n",
       "<g class=\"graph\" id=\"graph0\" transform=\"scale(1 1) rotate(0) translate(4 256)\">\n",
       "<title>g</title>\n",
       "<polygon fill=\"white\" points=\"-4,4 -4,-256 214.581,-256 214.581,4 -4,4\" stroke=\"none\"/>\n",
       "<!-- Impact -->\n",
       "<g class=\"node\" id=\"node1\"><title>Impact</title>\n",
       "<ellipse cx=\"69.2907\" cy=\"-162\" fill=\"none\" rx=\"44.393\" ry=\"18\" stroke=\"black\"/>\n",
       "<text font-family=\"Times,serif\" font-size=\"14.00\" text-anchor=\"middle\" x=\"69.2907\" y=\"-158.3\">Impact</text>\n",
       "</g>\n",
       "<!-- Sympathy -->\n",
       "<g class=\"node\" id=\"node2\"><title>Sympathy</title>\n",
       "<ellipse cx=\"105.291\" cy=\"-90\" fill=\"none\" rx=\"57.3905\" ry=\"18\" stroke=\"black\"/>\n",
       "<text font-family=\"Times,serif\" font-size=\"14.00\" text-anchor=\"middle\" x=\"105.291\" y=\"-86.3\">Sympathy</text>\n",
       "</g>\n",
       "<!-- Impact&#45;&gt;Sympathy -->\n",
       "<g class=\"edge\" id=\"edge1\"><title>Impact-&gt;Sympathy</title>\n",
       "<path d=\"M82.5896,-135.141C87.1954,-126.185 92.2428,-116.371 96.4062,-108.275\" fill=\"none\" stroke=\"black\"/>\n",
       "<polygon fill=\"black\" points=\"79.4663,-133.561 78.0053,-144.055 85.6913,-136.763 79.4663,-133.561\" stroke=\"black\"/>\n",
       "</g>\n",
       "<!-- TangibilityCondition -->\n",
       "<g class=\"node\" id=\"node3\"><title>TangibilityCondition</title>\n",
       "<ellipse cx=\"105.291\" cy=\"-18\" fill=\"none\" rx=\"105.082\" ry=\"18\" stroke=\"black\"/>\n",
       "<text font-family=\"Times,serif\" font-size=\"14.00\" text-anchor=\"middle\" x=\"105.291\" y=\"-14.3\">TangibilityCondition</text>\n",
       "</g>\n",
       "<!-- Sympathy&#45;&gt;TangibilityCondition -->\n",
       "<g class=\"edge\" id=\"edge2\"><title>Sympathy-&gt;TangibilityCondition</title>\n",
       "<path d=\"M105.291,-71.6966C105.291,-63.9827 105.291,-54.7125 105.291,-46.1124\" fill=\"none\" stroke=\"black\"/>\n",
       "<polygon fill=\"black\" points=\"108.791,-46.1043 105.291,-36.1043 101.791,-46.1044 108.791,-46.1043\" stroke=\"black\"/>\n",
       "</g>\n",
       "<!-- Imaginability -->\n",
       "<g class=\"node\" id=\"node4\"><title>Imaginability</title>\n",
       "<ellipse cx=\"105.291\" cy=\"-234\" fill=\"none\" rx=\"72.5877\" ry=\"18\" stroke=\"black\"/>\n",
       "<text font-family=\"Times,serif\" font-size=\"14.00\" text-anchor=\"middle\" x=\"105.291\" y=\"-230.3\">Imaginability</text>\n",
       "</g>\n",
       "<!-- Imaginability&#45;&gt;Impact -->\n",
       "<g class=\"edge\" id=\"edge4\"><title>Imaginability-&gt;Impact</title>\n",
       "<path d=\"M96.5761,-216.055C92.3752,-207.887 87.2452,-197.912 82.5718,-188.824\" fill=\"none\" stroke=\"black\"/>\n",
       "<polygon fill=\"black\" points=\"85.611,-187.081 77.925,-179.789 79.386,-190.283 85.611,-187.081\" stroke=\"black\"/>\n",
       "</g>\n",
       "<!-- Imaginability&#45;&gt;Sympathy -->\n",
       "<g class=\"edge\" id=\"edge3\"><title>Imaginability-&gt;Sympathy</title>\n",
       "<path d=\"M112.357,-215.665C116.129,-205.47 120.379,-192.22 122.291,-180 124.764,-164.192 124.764,-159.808 122.291,-144 120.931,-135.312 118.39,-126.104 115.68,-117.843\" fill=\"none\" stroke=\"black\"/>\n",
       "<polygon fill=\"black\" points=\"118.96,-116.62 112.357,-108.335 112.352,-118.93 118.96,-116.62\" stroke=\"black\"/>\n",
       "</g>\n",
       "</g>\n",
       "</svg>"
      ],
      "text/plain": [
       "<IPython.core.display.SVG object>"
      ]
     },
     "execution_count": 18,
     "metadata": {},
     "output_type": "execute_result"
    }
   ],
   "source": [
    "dot_str = javabridge.static_call('edu/cmu/tetrad/graph/GraphUtils',\n",
    "                                   'graphToDot',\n",
    "                                   '(Ledu/cmu/tetrad/graph/Graph;)Ljava/lang/String;', \n",
    "                                   tetradGraph)\n",
    "graphs = pydot.graph_from_dot_data(dot_str)\n",
    "svg_str = graphs[0].create_svg()\n",
    "SVG(svg_str)"
   ]
  },
  {
   "cell_type": "code",
   "execution_count": 19,
   "metadata": {},
   "outputs": [],
   "source": [
    "javabridge.detach()\n",
    "javabridge.kill_vm()"
   ]
  },
  {
   "cell_type": "code",
   "execution_count": null,
   "metadata": {},
   "outputs": [],
   "source": []
  }
 ],
 "metadata": {
  "kernelspec": {
   "display_name": "Python 3",
   "language": "python",
   "name": "python3"
  },
  "language_info": {
   "codemirror_mode": {
    "name": "ipython",
    "version": 3
   },
   "file_extension": ".py",
   "mimetype": "text/x-python",
   "name": "python",
   "nbconvert_exporter": "python",
   "pygments_lexer": "ipython3",
   "version": "3.5.4"
  },
  "widgets": {
   "state": {},
   "version": "1.1.1"
  }
 },
 "nbformat": 4,
 "nbformat_minor": 1
}
