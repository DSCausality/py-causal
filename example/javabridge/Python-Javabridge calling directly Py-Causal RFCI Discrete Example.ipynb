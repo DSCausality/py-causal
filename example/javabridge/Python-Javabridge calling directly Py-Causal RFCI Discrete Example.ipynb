{
 "cells": [
  {
   "cell_type": "code",
   "execution_count": 1,
   "metadata": {
    "collapsed": true
   },
   "outputs": [],
   "source": [
    "import javabridge\n",
    "import os\n",
    "import glob\n",
    "import pandas as pd\n",
    "import pydot\n",
    "from IPython.display import SVG"
   ]
  },
  {
   "cell_type": "code",
   "execution_count": 2,
   "metadata": {},
   "outputs": [
    {
     "name": "stdout",
     "output_type": "stream",
     "text": [
      "/home/jovyan/py-causal/example/javabridge/../../src/pycausal/lib/causal-cmd-0.2.0-SNAPSHOT.jar\n",
      "/home/jovyan/py-causal/example/javabridge/../../src/pycausal/lib/tetrad-lib-6.4.0-SNAPSHOT-tetradcmd.jar\n",
      "/home/jovyan/py-causal/example/javabridge/../../src/pycausal/lib/data-reader-0.2.0-SNAPSHOT.jar\n"
     ]
    }
   ],
   "source": [
    "tetrad_libdir = os.path.join(os.getcwd(), '../../','src', 'pycausal', 'lib')\n",
    "for l in glob.glob(tetrad_libdir + os.sep + \"*.jar\"):\n",
    "    print l\n",
    "    javabridge.JARS.append(str(l))"
   ]
  },
  {
   "cell_type": "code",
   "execution_count": 3,
   "metadata": {},
   "outputs": [
    {
     "data": {
      "text/plain": [
       "<JB_Env at 0x1aee9e0>"
      ]
     },
     "execution_count": 3,
     "metadata": {},
     "output_type": "execute_result"
    }
   ],
   "source": [
    "javabridge.start_vm(run_headless=True, max_heap_size = '100M')\n",
    "javabridge.attach()"
   ]
  },
  {
   "cell_type": "code",
   "execution_count": 4,
   "metadata": {},
   "outputs": [
    {
     "data": {
      "text/plain": [
       "'/home/jovyan/py-causal/example/javabridge/../../data/audiology.txt'"
      ]
     },
     "execution_count": 4,
     "metadata": {},
     "output_type": "execute_result"
    }
   ],
   "source": [
    "data_dir = os.path.join(os.getcwd(), '../../','data', 'audiology.txt')\n",
    "data_dir"
   ]
  },
  {
   "cell_type": "code",
   "execution_count": 5,
   "metadata": {},
   "outputs": [
    {
     "data": {
      "text/html": [
       "<div>\n",
       "<table border=\"1\" class=\"dataframe\">\n",
       "  <thead>\n",
       "    <tr style=\"text-align: right;\">\n",
       "      <th></th>\n",
       "      <th>age_gt_60</th>\n",
       "      <th>air</th>\n",
       "      <th>airBoneGap</th>\n",
       "      <th>ar_c</th>\n",
       "      <th>ar_u</th>\n",
       "      <th>bone</th>\n",
       "      <th>boneAbnormal</th>\n",
       "      <th>bser</th>\n",
       "      <th>history_buzzing</th>\n",
       "      <th>history_dizziness</th>\n",
       "      <th>...</th>\n",
       "      <th>s_sn_gt_2k</th>\n",
       "      <th>s_sn_gt_4k</th>\n",
       "      <th>speech</th>\n",
       "      <th>static_normal</th>\n",
       "      <th>tymp</th>\n",
       "      <th>viith_nerve_signs</th>\n",
       "      <th>wave_V_delayed</th>\n",
       "      <th>waveform_ItoV_prolonged</th>\n",
       "      <th>indentifier</th>\n",
       "      <th>class</th>\n",
       "    </tr>\n",
       "  </thead>\n",
       "  <tbody>\n",
       "    <tr>\n",
       "      <th>0</th>\n",
       "      <td>f</td>\n",
       "      <td>mild</td>\n",
       "      <td>f</td>\n",
       "      <td>normal</td>\n",
       "      <td>normal</td>\n",
       "      <td>?</td>\n",
       "      <td>t</td>\n",
       "      <td>?</td>\n",
       "      <td>f</td>\n",
       "      <td>f</td>\n",
       "      <td>...</td>\n",
       "      <td>f</td>\n",
       "      <td>f</td>\n",
       "      <td>normal</td>\n",
       "      <td>t</td>\n",
       "      <td>a</td>\n",
       "      <td>f</td>\n",
       "      <td>f</td>\n",
       "      <td>f</td>\n",
       "      <td>p1</td>\n",
       "      <td>cochlear_unknown</td>\n",
       "    </tr>\n",
       "    <tr>\n",
       "      <th>1</th>\n",
       "      <td>f</td>\n",
       "      <td>moderate</td>\n",
       "      <td>f</td>\n",
       "      <td>normal</td>\n",
       "      <td>normal</td>\n",
       "      <td>?</td>\n",
       "      <td>t</td>\n",
       "      <td>?</td>\n",
       "      <td>f</td>\n",
       "      <td>f</td>\n",
       "      <td>...</td>\n",
       "      <td>f</td>\n",
       "      <td>f</td>\n",
       "      <td>normal</td>\n",
       "      <td>t</td>\n",
       "      <td>a</td>\n",
       "      <td>f</td>\n",
       "      <td>f</td>\n",
       "      <td>f</td>\n",
       "      <td>p2</td>\n",
       "      <td>cochlear_unknown</td>\n",
       "    </tr>\n",
       "    <tr>\n",
       "      <th>2</th>\n",
       "      <td>t</td>\n",
       "      <td>mild</td>\n",
       "      <td>t</td>\n",
       "      <td>?</td>\n",
       "      <td>absent</td>\n",
       "      <td>mild</td>\n",
       "      <td>t</td>\n",
       "      <td>?</td>\n",
       "      <td>f</td>\n",
       "      <td>f</td>\n",
       "      <td>...</td>\n",
       "      <td>f</td>\n",
       "      <td>f</td>\n",
       "      <td>normal</td>\n",
       "      <td>t</td>\n",
       "      <td>as</td>\n",
       "      <td>f</td>\n",
       "      <td>f</td>\n",
       "      <td>f</td>\n",
       "      <td>p3</td>\n",
       "      <td>mixed_cochlear_age_fixation</td>\n",
       "    </tr>\n",
       "    <tr>\n",
       "      <th>3</th>\n",
       "      <td>t</td>\n",
       "      <td>mild</td>\n",
       "      <td>t</td>\n",
       "      <td>?</td>\n",
       "      <td>absent</td>\n",
       "      <td>mild</td>\n",
       "      <td>f</td>\n",
       "      <td>?</td>\n",
       "      <td>f</td>\n",
       "      <td>f</td>\n",
       "      <td>...</td>\n",
       "      <td>f</td>\n",
       "      <td>f</td>\n",
       "      <td>normal</td>\n",
       "      <td>t</td>\n",
       "      <td>b</td>\n",
       "      <td>f</td>\n",
       "      <td>f</td>\n",
       "      <td>f</td>\n",
       "      <td>p4</td>\n",
       "      <td>mixed_cochlear_age_otitis_media</td>\n",
       "    </tr>\n",
       "    <tr>\n",
       "      <th>4</th>\n",
       "      <td>t</td>\n",
       "      <td>mild</td>\n",
       "      <td>f</td>\n",
       "      <td>normal</td>\n",
       "      <td>normal</td>\n",
       "      <td>mild</td>\n",
       "      <td>t</td>\n",
       "      <td>?</td>\n",
       "      <td>f</td>\n",
       "      <td>f</td>\n",
       "      <td>...</td>\n",
       "      <td>f</td>\n",
       "      <td>f</td>\n",
       "      <td>good</td>\n",
       "      <td>t</td>\n",
       "      <td>a</td>\n",
       "      <td>f</td>\n",
       "      <td>f</td>\n",
       "      <td>f</td>\n",
       "      <td>p5</td>\n",
       "      <td>cochlear_age</td>\n",
       "    </tr>\n",
       "  </tbody>\n",
       "</table>\n",
       "<p>5 rows × 71 columns</p>\n",
       "</div>"
      ],
      "text/plain": [
       "  age_gt_60       air airBoneGap    ar_c    ar_u  bone boneAbnormal bser  \\\n",
       "0         f      mild          f  normal  normal     ?            t    ?   \n",
       "1         f  moderate          f  normal  normal     ?            t    ?   \n",
       "2         t      mild          t       ?  absent  mild            t    ?   \n",
       "3         t      mild          t       ?  absent  mild            f    ?   \n",
       "4         t      mild          f  normal  normal  mild            t    ?   \n",
       "\n",
       "  history_buzzing  history_dizziness               ...                 \\\n",
       "0               f                  f               ...                  \n",
       "1               f                  f               ...                  \n",
       "2               f                  f               ...                  \n",
       "3               f                  f               ...                  \n",
       "4               f                  f               ...                  \n",
       "\n",
       "  s_sn_gt_2k s_sn_gt_4k  speech static_normal tymp viith_nerve_signs  \\\n",
       "0          f          f  normal             t    a                 f   \n",
       "1          f          f  normal             t    a                 f   \n",
       "2          f          f  normal             t   as                 f   \n",
       "3          f          f  normal             t    b                 f   \n",
       "4          f          f    good             t    a                 f   \n",
       "\n",
       "  wave_V_delayed waveform_ItoV_prolonged indentifier  \\\n",
       "0              f                       f          p1   \n",
       "1              f                       f          p2   \n",
       "2              f                       f          p3   \n",
       "3              f                       f          p4   \n",
       "4              f                       f          p5   \n",
       "\n",
       "                             class  \n",
       "0                 cochlear_unknown  \n",
       "1                 cochlear_unknown  \n",
       "2      mixed_cochlear_age_fixation  \n",
       "3  mixed_cochlear_age_otitis_media  \n",
       "4                     cochlear_age  \n",
       "\n",
       "[5 rows x 71 columns]"
      ]
     },
     "execution_count": 5,
     "metadata": {},
     "output_type": "execute_result"
    }
   ],
   "source": [
    "dframe = pd.read_table(data_dir, sep=\"\\t\")\n",
    "dframe.head()"
   ]
  },
  {
   "cell_type": "code",
   "execution_count": 6,
   "metadata": {
    "collapsed": true
   },
   "outputs": [],
   "source": [
    "dataBox = javabridge.JClassWrapper(\"edu.cmu.tetrad.data.VerticalIntDataBox\")(len(dframe.index),dframe.columns.size)"
   ]
  },
  {
   "cell_type": "code",
   "execution_count": 7,
   "metadata": {
    "collapsed": true
   },
   "outputs": [],
   "source": [
    "node_list = javabridge.JClassWrapper(\"java.util.ArrayList\")()\n",
    "# load dataset\n",
    "col_no = 0\n",
    "for col in dframe.columns:\n",
    "    \n",
    "    cat_array = sorted(set(dframe[col]))\n",
    "    cat_list = javabridge.JClassWrapper(\"java.util.ArrayList\")()\n",
    "\n",
    "    for cat in cat_array:\n",
    "        cat = str(cat)\n",
    "        cat_list.add(cat)\n",
    "        \n",
    "    nodi = javabridge.JClassWrapper(\"edu.cmu.tetrad.data.DiscreteVariable\")(col, cat_list)\n",
    "    node_list.add(nodi)\n",
    "    \n",
    "    for row in dframe.index:\n",
    "        value = javabridge.JClassWrapper(\"java.lang.Integer\") (cat_array.index(dframe.ix[row][col_no]))\n",
    "        dataBox.set(row,col_no,value)\n",
    "    \n",
    "    col_no = col_no + 1"
   ]
  },
  {
   "cell_type": "code",
   "execution_count": 8,
   "metadata": {
    "collapsed": true
   },
   "outputs": [],
   "source": [
    "boxData = javabridge.JClassWrapper(\"edu.cmu.tetrad.data.BoxDataSet\")(dataBox, node_list)"
   ]
  },
  {
   "cell_type": "code",
   "execution_count": 9,
   "metadata": {
    "collapsed": true
   },
   "outputs": [],
   "source": [
    "alpha = 0.05\n",
    "indTest = javabridge.JClassWrapper('edu.cmu.tetrad.search.IndTestChiSquare')(boxData, alpha)"
   ]
  },
  {
   "cell_type": "code",
   "execution_count": 10,
   "metadata": {},
   "outputs": [],
   "source": [
    "rfci = javabridge.JClassWrapper('edu.cmu.tetrad.search.Rfci')(indTest)"
   ]
  },
  {
   "cell_type": "code",
   "execution_count": 11,
   "metadata": {
    "collapsed": true
   },
   "outputs": [],
   "source": [
    "rfci.setDepth(-1)\n",
    "rfci.setVerbose(True)"
   ]
  },
  {
   "cell_type": "code",
   "execution_count": 12,
   "metadata": {},
   "outputs": [
    {
     "data": {
      "text/plain": [
       "Instance of edu.cmu.tetrad.data.Knowledge2: /knowledge\n",
       "addtemporal\n",
       "\n",
       "0* class history_fluctuating history_noise \n",
       "\n",
       "forbiddirect\n",
       "\n",
       "history_fluctuating ==> class \n",
       "history_noise ==> class \n",
       "requiredirect\n"
      ]
     },
     "execution_count": 12,
     "metadata": {},
     "output_type": "execute_result"
    }
   ],
   "source": [
    "prior = javabridge.JClassWrapper('edu.cmu.tetrad.data.Knowledge2')()\n",
    "prior.setForbidden('history_noise','class') # forbidden directed edges\n",
    "prior.setForbidden('history_fluctuating','class') # forbidden directed edges\n",
    "prior.setTierForbiddenWithin(0, True)\n",
    "prior.addToTier(0, 'class')\n",
    "prior.addToTier(0, 'history_fluctuating')\n",
    "prior.addToTier(0, 'history_noise')\n",
    "rfci.setKnowledge(prior)\n",
    "prior"
   ]
  },
  {
   "cell_type": "code",
   "execution_count": 13,
   "metadata": {},
   "outputs": [
    {
     "data": {
      "text/plain": [
       "Instance of edu.cmu.tetrad.graph.EdgeListGraphSingleConnections: Graph Nodes:\n",
       "age_gt_60,air,airBoneGap,ar_c,ar_u,bone,boneAbnormal,bser,history_buzzing,history_dizziness,history_fluctuating,history_fullness,history_heredity,history_nausea,history_noise,history_recruitment,history_ringing,history_roaring,history_vomiting,late_wave_poor,m_at_2k,m_cond_lt_1k,m_gt_1k,m_m_gt_2k,m_m_sn,m_m_sn_gt_1k,m_m_sn_gt_2k,m_m_sn_gt_500,m_p_sn_gt_2k,m_s_gt_500,m_s_sn,m_s_sn_gt_1k,m_s_sn_gt_2k,m_s_sn_gt_3k,m_s_sn_gt_4k,m_sn_2_3k,m_sn_gt_1k,m_sn_gt_2k,m_sn_gt_3k,m_sn_gt_4k,m_sn_gt_500,m_sn_gt_6k,m_sn_lt_1k,m_sn_lt_2k,m_sn_lt_3k,middle_wave_poor,mod_gt_4k,mod_mixed,mod_s_mixed,mod_s_sn_gt_500,mod_sn,mod_sn_gt_1k,mod_sn_gt_2k,mod_sn_gt_3k,mod_sn_gt_4k,mod_sn_gt_500,notch_4k,notch_at_4k,o_ar_c,o_ar_u,s_sn_gt_1k,s_sn_gt_2k,s_sn_gt_4k,speech,static_normal,tymp,viith_nerve_signs,wave_V_delayed,waveform_ItoV_prolonged,indentifier,class\n",
       "\n",
       "Graph Edges:\n",
       "1. age_gt_60 o-> class\n",
       "2. air <-> class\n",
       "3. ar_c o-> o_ar_u\n",
       "4. ar_u <-> o_ar_u\n",
       "5. bone o-o air\n",
       "6. bone <-> class\n",
       "7. boneAbnormal o-> air\n",
       "8. boneAbnormal o-> bone\n",
       "9. bser o-> class\n",
       "10. history_nausea o-o history_dizziness\n",
       "11. history_roaring o-o history_nausea\n",
       "12. m_sn_gt_1k o-o history_recruitment\n",
       "13. m_sn_gt_2k o-o bser\n",
       "14. m_sn_gt_500 o-o history_ringing\n",
       "15. notch_4k o-o m_m_sn_gt_2k\n",
       "16. notch_at_4k o-> class\n",
       "17. o_ar_c o-> ar_u\n",
       "18. speech o-> air\n",
       "19. speech o-> bone\n",
       "20. tymp o-> class"
      ]
     },
     "execution_count": 13,
     "metadata": {},
     "output_type": "execute_result"
    }
   ],
   "source": [
    "tetradGraph = rfci.search()\n",
    "tetradGraph"
   ]
  },
  {
   "cell_type": "code",
   "execution_count": 14,
   "metadata": {},
   "outputs": [
    {
     "data": {
      "text/plain": [
       "u'Graph Nodes:\\nage_gt_60,air,airBoneGap,ar_c,ar_u,bone,boneAbnormal,bser,history_buzzing,history_dizziness,history_fluctuating,history_fullness,history_heredity,history_nausea,history_noise,history_recruitment,history_ringing,history_roaring,history_vomiting,late_wave_poor,m_at_2k,m_cond_lt_1k,m_gt_1k,m_m_gt_2k,m_m_sn,m_m_sn_gt_1k,m_m_sn_gt_2k,m_m_sn_gt_500,m_p_sn_gt_2k,m_s_gt_500,m_s_sn,m_s_sn_gt_1k,m_s_sn_gt_2k,m_s_sn_gt_3k,m_s_sn_gt_4k,m_sn_2_3k,m_sn_gt_1k,m_sn_gt_2k,m_sn_gt_3k,m_sn_gt_4k,m_sn_gt_500,m_sn_gt_6k,m_sn_lt_1k,m_sn_lt_2k,m_sn_lt_3k,middle_wave_poor,mod_gt_4k,mod_mixed,mod_s_mixed,mod_s_sn_gt_500,mod_sn,mod_sn_gt_1k,mod_sn_gt_2k,mod_sn_gt_3k,mod_sn_gt_4k,mod_sn_gt_500,notch_4k,notch_at_4k,o_ar_c,o_ar_u,s_sn_gt_1k,s_sn_gt_2k,s_sn_gt_4k,speech,static_normal,tymp,viith_nerve_signs,wave_V_delayed,waveform_ItoV_prolonged,indentifier,class\\n\\nGraph Edges:\\n1. age_gt_60 o-> class\\n2. air <-> class\\n3. ar_c o-> o_ar_u\\n4. ar_u <-> o_ar_u\\n5. bone o-o air\\n6. bone <-> class\\n7. boneAbnormal o-> air\\n8. boneAbnormal o-> bone\\n9. bser o-> class\\n10. history_nausea o-o history_dizziness\\n11. history_roaring o-o history_nausea\\n12. m_sn_gt_1k o-o history_recruitment\\n13. m_sn_gt_2k o-o bser\\n14. m_sn_gt_500 o-o history_ringing\\n15. notch_4k o-o m_m_sn_gt_2k\\n16. notch_at_4k o-> class\\n17. o_ar_c o-> ar_u\\n18. speech o-> air\\n19. speech o-> bone\\n20. tymp o-> class\\n'"
      ]
     },
     "execution_count": 14,
     "metadata": {},
     "output_type": "execute_result"
    }
   ],
   "source": [
    "tetradGraph.toString()"
   ]
  },
  {
   "cell_type": "code",
   "execution_count": 15,
   "metadata": {},
   "outputs": [
    {
     "data": {
      "text/plain": [
       "Instance of java.util.ArrayList: [age_gt_60, air, airBoneGap, ar_c, ar_u, bone, boneAbnormal, bser, history_buzzing, history_dizziness, history_fluctuating, history_fullness, history_heredity, history_nausea, history_noise, history_recruitment, history_ringing, history_roaring, history_vomiting, late_wave_poor, m_at_2k, m_cond_lt_1k, m_gt_1k, m_m_gt_2k, m_m_sn, m_m_sn_gt_1k, m_m_sn_gt_2k, m_m_sn_gt_500, m_p_sn_gt_2k, m_s_gt_500, m_s_sn, m_s_sn_gt_1k, m_s_sn_gt_2k, m_s_sn_gt_3k, m_s_sn_gt_4k, m_sn_2_3k, m_sn_gt_1k, m_sn_gt_2k, m_sn_gt_3k, m_sn_gt_4k, m_sn_gt_500, m_sn_gt_6k, m_sn_lt_1k, m_sn_lt_2k, m_sn_lt_3k, middle_wave_poor, mod_gt_4k, mod_mixed, mod_s_mixed, mod_s_sn_gt_500, mod_sn, mod_sn_gt_1k, mod_sn_gt_2k, mod_sn_gt_3k, mod_sn_gt_4k, mod_sn_gt_500, notch_4k, notch_at_4k, o_ar_c, o_ar_u, s_sn_gt_1k, s_sn_gt_2k, s_sn_gt_4k, speech, static_normal, tymp, viith_nerve_signs, wave_V_delayed, waveform_ItoV_prolonged, indentifier, class]"
      ]
     },
     "execution_count": 15,
     "metadata": {},
     "output_type": "execute_result"
    }
   ],
   "source": [
    "tetradGraph.getNodeNames()"
   ]
  },
  {
   "cell_type": "code",
   "execution_count": 16,
   "metadata": {},
   "outputs": [
    {
     "data": {
      "text/plain": [
       "Instance of java.util.HashSet: [m_sn_gt_2k o-o bser, history_roaring o-o history_nausea, m_sn_gt_1k o-o history_recruitment, boneAbnormal o-> air, notch_4k o-o m_m_sn_gt_2k, o_ar_c o-> ar_u, ar_c o-> o_ar_u, bone <-> class, age_gt_60 o-> class, speech o-> air, bser o-> class, ar_u <-> o_ar_u, m_sn_gt_500 o-o history_ringing, notch_at_4k o-> class, tymp o-> class, bone o-o air, boneAbnormal o-> bone, speech o-> bone, history_nausea o-o history_dizziness, air <-> class]"
      ]
     },
     "execution_count": 16,
     "metadata": {},
     "output_type": "execute_result"
    }
   ],
   "source": [
    "tetradGraph.getEdges()"
   ]
  },
  {
   "cell_type": "code",
   "execution_count": 17,
   "metadata": {
    "collapsed": true
   },
   "outputs": [],
   "source": [
    "javabridge.detach()\n",
    "javabridge.kill_vm()"
   ]
  },
  {
   "cell_type": "code",
   "execution_count": null,
   "metadata": {
    "collapsed": true
   },
   "outputs": [],
   "source": []
  }
 ],
 "metadata": {
  "kernelspec": {
   "display_name": "Python 2",
   "language": "python",
   "name": "python2"
  },
  "language_info": {
   "codemirror_mode": {
    "name": "ipython",
    "version": 2
   },
   "file_extension": ".py",
   "mimetype": "text/x-python",
   "name": "python",
   "nbconvert_exporter": "python",
   "pygments_lexer": "ipython2",
   "version": "2.7.13"
  },
  "widgets": {
   "state": {},
   "version": "1.1.1"
  }
 },
 "nbformat": 4,
 "nbformat_minor": 1
}
