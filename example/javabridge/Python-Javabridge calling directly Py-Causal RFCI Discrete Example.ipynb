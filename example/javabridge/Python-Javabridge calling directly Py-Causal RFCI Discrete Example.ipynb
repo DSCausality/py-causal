{
 "cells": [
  {
   "cell_type": "code",
   "execution_count": 1,
   "metadata": {},
   "outputs": [],
   "source": [
    "import javabridge\n",
    "import os\n",
    "import glob\n",
    "import pandas as pd\n",
    "import pydot\n",
    "from IPython.display import SVG"
   ]
  },
  {
   "cell_type": "code",
   "execution_count": 2,
   "metadata": {},
   "outputs": [
    {
     "name": "stdout",
     "output_type": "stream",
     "text": [
      "/home/jovyan/py-causal/example/javabridge/../../src/pycausal/lib/causal-cmd-0.4.0-SNAPSHOT-jar-with-dependencies.jar\n"
     ]
    }
   ],
   "source": [
    "tetrad_libdir = os.path.join(os.getcwd(), '../../','src', 'pycausal', 'lib')\n",
    "for l in glob.glob(tetrad_libdir + os.sep + \"*.jar\"):\n",
    "    print (l)\n",
    "    javabridge.JARS.append(str(l))"
   ]
  },
  {
   "cell_type": "code",
   "execution_count": 3,
   "metadata": {},
   "outputs": [
    {
     "data": {
      "text/plain": [
       "<JB_Env at 0x55b60cc511e0>"
      ]
     },
     "execution_count": 3,
     "metadata": {},
     "output_type": "execute_result"
    }
   ],
   "source": [
    "javabridge.start_vm(run_headless=True, max_heap_size = '100M')\n",
    "javabridge.attach()"
   ]
  },
  {
   "cell_type": "code",
   "execution_count": 4,
   "metadata": {},
   "outputs": [
    {
     "data": {
      "text/plain": [
       "'/home/jovyan/py-causal/example/javabridge/../../data/audiology.txt'"
      ]
     },
     "execution_count": 4,
     "metadata": {},
     "output_type": "execute_result"
    }
   ],
   "source": [
    "data_dir = os.path.join(os.getcwd(), '../../','data', 'audiology.txt')\n",
    "data_dir"
   ]
  },
  {
   "cell_type": "code",
   "execution_count": 5,
   "metadata": {},
   "outputs": [
    {
     "data": {
      "text/html": [
       "<div>\n",
       "<style scoped>\n",
       "    .dataframe tbody tr th:only-of-type {\n",
       "        vertical-align: middle;\n",
       "    }\n",
       "\n",
       "    .dataframe tbody tr th {\n",
       "        vertical-align: top;\n",
       "    }\n",
       "\n",
       "    .dataframe thead th {\n",
       "        text-align: right;\n",
       "    }\n",
       "</style>\n",
       "<table border=\"1\" class=\"dataframe\">\n",
       "  <thead>\n",
       "    <tr style=\"text-align: right;\">\n",
       "      <th></th>\n",
       "      <th>age_gt_60</th>\n",
       "      <th>air</th>\n",
       "      <th>airBoneGap</th>\n",
       "      <th>ar_c</th>\n",
       "      <th>ar_u</th>\n",
       "      <th>bone</th>\n",
       "      <th>boneAbnormal</th>\n",
       "      <th>bser</th>\n",
       "      <th>history_buzzing</th>\n",
       "      <th>history_dizziness</th>\n",
       "      <th>...</th>\n",
       "      <th>s_sn_gt_2k</th>\n",
       "      <th>s_sn_gt_4k</th>\n",
       "      <th>speech</th>\n",
       "      <th>static_normal</th>\n",
       "      <th>tymp</th>\n",
       "      <th>viith_nerve_signs</th>\n",
       "      <th>wave_V_delayed</th>\n",
       "      <th>waveform_ItoV_prolonged</th>\n",
       "      <th>indentifier</th>\n",
       "      <th>class</th>\n",
       "    </tr>\n",
       "  </thead>\n",
       "  <tbody>\n",
       "    <tr>\n",
       "      <th>0</th>\n",
       "      <td>f</td>\n",
       "      <td>mild</td>\n",
       "      <td>f</td>\n",
       "      <td>normal</td>\n",
       "      <td>normal</td>\n",
       "      <td>?</td>\n",
       "      <td>t</td>\n",
       "      <td>?</td>\n",
       "      <td>f</td>\n",
       "      <td>f</td>\n",
       "      <td>...</td>\n",
       "      <td>f</td>\n",
       "      <td>f</td>\n",
       "      <td>normal</td>\n",
       "      <td>t</td>\n",
       "      <td>a</td>\n",
       "      <td>f</td>\n",
       "      <td>f</td>\n",
       "      <td>f</td>\n",
       "      <td>p1</td>\n",
       "      <td>cochlear_unknown</td>\n",
       "    </tr>\n",
       "    <tr>\n",
       "      <th>1</th>\n",
       "      <td>f</td>\n",
       "      <td>moderate</td>\n",
       "      <td>f</td>\n",
       "      <td>normal</td>\n",
       "      <td>normal</td>\n",
       "      <td>?</td>\n",
       "      <td>t</td>\n",
       "      <td>?</td>\n",
       "      <td>f</td>\n",
       "      <td>f</td>\n",
       "      <td>...</td>\n",
       "      <td>f</td>\n",
       "      <td>f</td>\n",
       "      <td>normal</td>\n",
       "      <td>t</td>\n",
       "      <td>a</td>\n",
       "      <td>f</td>\n",
       "      <td>f</td>\n",
       "      <td>f</td>\n",
       "      <td>p2</td>\n",
       "      <td>cochlear_unknown</td>\n",
       "    </tr>\n",
       "    <tr>\n",
       "      <th>2</th>\n",
       "      <td>t</td>\n",
       "      <td>mild</td>\n",
       "      <td>t</td>\n",
       "      <td>?</td>\n",
       "      <td>absent</td>\n",
       "      <td>mild</td>\n",
       "      <td>t</td>\n",
       "      <td>?</td>\n",
       "      <td>f</td>\n",
       "      <td>f</td>\n",
       "      <td>...</td>\n",
       "      <td>f</td>\n",
       "      <td>f</td>\n",
       "      <td>normal</td>\n",
       "      <td>t</td>\n",
       "      <td>as</td>\n",
       "      <td>f</td>\n",
       "      <td>f</td>\n",
       "      <td>f</td>\n",
       "      <td>p3</td>\n",
       "      <td>mixed_cochlear_age_fixation</td>\n",
       "    </tr>\n",
       "    <tr>\n",
       "      <th>3</th>\n",
       "      <td>t</td>\n",
       "      <td>mild</td>\n",
       "      <td>t</td>\n",
       "      <td>?</td>\n",
       "      <td>absent</td>\n",
       "      <td>mild</td>\n",
       "      <td>f</td>\n",
       "      <td>?</td>\n",
       "      <td>f</td>\n",
       "      <td>f</td>\n",
       "      <td>...</td>\n",
       "      <td>f</td>\n",
       "      <td>f</td>\n",
       "      <td>normal</td>\n",
       "      <td>t</td>\n",
       "      <td>b</td>\n",
       "      <td>f</td>\n",
       "      <td>f</td>\n",
       "      <td>f</td>\n",
       "      <td>p4</td>\n",
       "      <td>mixed_cochlear_age_otitis_media</td>\n",
       "    </tr>\n",
       "    <tr>\n",
       "      <th>4</th>\n",
       "      <td>t</td>\n",
       "      <td>mild</td>\n",
       "      <td>f</td>\n",
       "      <td>normal</td>\n",
       "      <td>normal</td>\n",
       "      <td>mild</td>\n",
       "      <td>t</td>\n",
       "      <td>?</td>\n",
       "      <td>f</td>\n",
       "      <td>f</td>\n",
       "      <td>...</td>\n",
       "      <td>f</td>\n",
       "      <td>f</td>\n",
       "      <td>good</td>\n",
       "      <td>t</td>\n",
       "      <td>a</td>\n",
       "      <td>f</td>\n",
       "      <td>f</td>\n",
       "      <td>f</td>\n",
       "      <td>p5</td>\n",
       "      <td>cochlear_age</td>\n",
       "    </tr>\n",
       "  </tbody>\n",
       "</table>\n",
       "<p>5 rows × 71 columns</p>\n",
       "</div>"
      ],
      "text/plain": [
       "  age_gt_60       air airBoneGap    ar_c    ar_u  bone boneAbnormal bser  \\\n",
       "0         f      mild          f  normal  normal     ?            t    ?   \n",
       "1         f  moderate          f  normal  normal     ?            t    ?   \n",
       "2         t      mild          t       ?  absent  mild            t    ?   \n",
       "3         t      mild          t       ?  absent  mild            f    ?   \n",
       "4         t      mild          f  normal  normal  mild            t    ?   \n",
       "\n",
       "  history_buzzing  history_dizziness               ...                 \\\n",
       "0               f                  f               ...                  \n",
       "1               f                  f               ...                  \n",
       "2               f                  f               ...                  \n",
       "3               f                  f               ...                  \n",
       "4               f                  f               ...                  \n",
       "\n",
       "  s_sn_gt_2k s_sn_gt_4k  speech static_normal tymp viith_nerve_signs  \\\n",
       "0          f          f  normal             t    a                 f   \n",
       "1          f          f  normal             t    a                 f   \n",
       "2          f          f  normal             t   as                 f   \n",
       "3          f          f  normal             t    b                 f   \n",
       "4          f          f    good             t    a                 f   \n",
       "\n",
       "  wave_V_delayed waveform_ItoV_prolonged indentifier  \\\n",
       "0              f                       f          p1   \n",
       "1              f                       f          p2   \n",
       "2              f                       f          p3   \n",
       "3              f                       f          p4   \n",
       "4              f                       f          p5   \n",
       "\n",
       "                             class  \n",
       "0                 cochlear_unknown  \n",
       "1                 cochlear_unknown  \n",
       "2      mixed_cochlear_age_fixation  \n",
       "3  mixed_cochlear_age_otitis_media  \n",
       "4                     cochlear_age  \n",
       "\n",
       "[5 rows x 71 columns]"
      ]
     },
     "execution_count": 5,
     "metadata": {},
     "output_type": "execute_result"
    }
   ],
   "source": [
    "dframe = pd.read_table(data_dir, sep=\"\\t\")\n",
    "dframe.head()"
   ]
  },
  {
   "cell_type": "code",
   "execution_count": 6,
   "metadata": {},
   "outputs": [],
   "source": [
    "dataBox = javabridge.JClassWrapper(\"edu.cmu.tetrad.data.VerticalIntDataBox\")(len(dframe.index),dframe.columns.size)"
   ]
  },
  {
   "cell_type": "code",
   "execution_count": 7,
   "metadata": {},
   "outputs": [],
   "source": [
    "node_list = javabridge.JClassWrapper(\"java.util.ArrayList\")()\n",
    "# load dataset\n",
    "col_no = 0\n",
    "for col in dframe.columns:\n",
    "    \n",
    "    cat_array = sorted(set(dframe[col]))\n",
    "    cat_list = javabridge.JClassWrapper(\"java.util.ArrayList\")()\n",
    "\n",
    "    for cat in cat_array:\n",
    "        cat = str(cat)\n",
    "        cat_list.add(cat)\n",
    "        \n",
    "    nodi = javabridge.JClassWrapper(\"edu.cmu.tetrad.data.DiscreteVariable\")(col, cat_list)\n",
    "    node_list.add(nodi)\n",
    "    \n",
    "    for row in dframe.index:\n",
    "        value = javabridge.JClassWrapper(\"java.lang.Integer\") (cat_array.index(dframe.iloc[row,col_no]))\n",
    "        dataBox.set(row,col_no,value)\n",
    "    \n",
    "    col_no = col_no + 1"
   ]
  },
  {
   "cell_type": "code",
   "execution_count": 8,
   "metadata": {},
   "outputs": [],
   "source": [
    "boxData = javabridge.JClassWrapper(\"edu.cmu.tetrad.data.BoxDataSet\")(dataBox, node_list)"
   ]
  },
  {
   "cell_type": "code",
   "execution_count": 9,
   "metadata": {},
   "outputs": [],
   "source": [
    "alpha = 0.05\n",
    "indTest = javabridge.JClassWrapper('edu.cmu.tetrad.search.IndTestChiSquare')(boxData, alpha)"
   ]
  },
  {
   "cell_type": "code",
   "execution_count": 10,
   "metadata": {},
   "outputs": [],
   "source": [
    "rfci = javabridge.JClassWrapper('edu.cmu.tetrad.search.Rfci')(indTest)"
   ]
  },
  {
   "cell_type": "code",
   "execution_count": 11,
   "metadata": {},
   "outputs": [],
   "source": [
    "rfci.setDepth(-1)\n",
    "rfci.setVerbose(True)"
   ]
  },
  {
   "cell_type": "code",
   "execution_count": 12,
   "metadata": {},
   "outputs": [
    {
     "data": {
      "text/plain": [
       "Instance of edu.cmu.tetrad.data.Knowledge2: /knowledge\n",
       "addtemporal\n",
       "\n",
       "0* class history_fluctuating history_noise \n",
       "\n",
       "forbiddirect\n",
       "\n",
       "history_fluctuating ==> class \n",
       "history_noise ==> class \n",
       "requiredirect\n"
      ]
     },
     "execution_count": 12,
     "metadata": {},
     "output_type": "execute_result"
    }
   ],
   "source": [
    "prior = javabridge.JClassWrapper('edu.cmu.tetrad.data.Knowledge2')()\n",
    "prior.setForbidden('history_noise','class') # forbidden directed edges\n",
    "prior.setForbidden('history_fluctuating','class') # forbidden directed edges\n",
    "prior.setTierForbiddenWithin(0, True)\n",
    "prior.addToTier(0, 'class')\n",
    "prior.addToTier(0, 'history_fluctuating')\n",
    "prior.addToTier(0, 'history_noise')\n",
    "rfci.setKnowledge(prior)\n",
    "prior"
   ]
  },
  {
   "cell_type": "code",
   "execution_count": 13,
   "metadata": {},
   "outputs": [
    {
     "data": {
      "text/plain": [
       "Instance of edu.cmu.tetrad.graph.EdgeListGraphSingleConnections: Graph Nodes:\n",
       "age_gt_60,air,airBoneGap,ar_c,ar_u,bone,boneAbnormal,bser,history_buzzing,history_dizziness,history_fluctuating,history_fullness,history_heredity,history_nausea,history_noise,history_recruitment,history_ringing,history_roaring,history_vomiting,late_wave_poor,m_at_2k,m_cond_lt_1k,m_gt_1k,m_m_gt_2k,m_m_sn,m_m_sn_gt_1k,m_m_sn_gt_2k,m_m_sn_gt_500,m_p_sn_gt_2k,m_s_gt_500,m_s_sn,m_s_sn_gt_1k,m_s_sn_gt_2k,m_s_sn_gt_3k,m_s_sn_gt_4k,m_sn_2_3k,m_sn_gt_1k,m_sn_gt_2k,m_sn_gt_3k,m_sn_gt_4k,m_sn_gt_500,m_sn_gt_6k,m_sn_lt_1k,m_sn_lt_2k,m_sn_lt_3k,middle_wave_poor,mod_gt_4k,mod_mixed,mod_s_mixed,mod_s_sn_gt_500,mod_sn,mod_sn_gt_1k,mod_sn_gt_2k,mod_sn_gt_3k,mod_sn_gt_4k,mod_sn_gt_500,notch_4k,notch_at_4k,o_ar_c,o_ar_u,s_sn_gt_1k,s_sn_gt_2k,s_sn_gt_4k,speech,static_normal,tymp,viith_nerve_signs,wave_V_delayed,waveform_ItoV_prolonged,indentifier,class\n",
       "\n",
       "Graph Edges:\n",
       "1. age_gt_60 o-> class\n",
       "2. air <-> class\n",
       "3. ar_c o-> o_ar_u\n",
       "4. ar_u <-> o_ar_u\n",
       "5. bone o-o air\n",
       "6. bone <-> class\n",
       "7. boneAbnormal o-> air\n",
       "8. boneAbnormal o-> bone\n",
       "9. bser <-> class\n",
       "10. history_nausea o-o history_dizziness\n",
       "11. history_roaring o-o history_nausea\n",
       "12. m_sn_gt_1k o-o history_recruitment\n",
       "13. m_sn_gt_2k o-> bser\n",
       "14. m_sn_gt_500 o-o history_ringing\n",
       "15. notch_4k o-o m_m_sn_gt_2k\n",
       "16. notch_at_4k o-> class\n",
       "17. o_ar_c o-> ar_u\n",
       "18. speech o-> air\n",
       "19. speech o-> bone\n",
       "20. tymp o-> class"
      ]
     },
     "execution_count": 13,
     "metadata": {},
     "output_type": "execute_result"
    }
   ],
   "source": [
    "tetradGraph = rfci.search()\n",
    "tetradGraph"
   ]
  },
  {
   "cell_type": "code",
   "execution_count": 14,
   "metadata": {},
   "outputs": [
    {
     "data": {
      "text/plain": [
       "'Graph Nodes:\\nage_gt_60,air,airBoneGap,ar_c,ar_u,bone,boneAbnormal,bser,history_buzzing,history_dizziness,history_fluctuating,history_fullness,history_heredity,history_nausea,history_noise,history_recruitment,history_ringing,history_roaring,history_vomiting,late_wave_poor,m_at_2k,m_cond_lt_1k,m_gt_1k,m_m_gt_2k,m_m_sn,m_m_sn_gt_1k,m_m_sn_gt_2k,m_m_sn_gt_500,m_p_sn_gt_2k,m_s_gt_500,m_s_sn,m_s_sn_gt_1k,m_s_sn_gt_2k,m_s_sn_gt_3k,m_s_sn_gt_4k,m_sn_2_3k,m_sn_gt_1k,m_sn_gt_2k,m_sn_gt_3k,m_sn_gt_4k,m_sn_gt_500,m_sn_gt_6k,m_sn_lt_1k,m_sn_lt_2k,m_sn_lt_3k,middle_wave_poor,mod_gt_4k,mod_mixed,mod_s_mixed,mod_s_sn_gt_500,mod_sn,mod_sn_gt_1k,mod_sn_gt_2k,mod_sn_gt_3k,mod_sn_gt_4k,mod_sn_gt_500,notch_4k,notch_at_4k,o_ar_c,o_ar_u,s_sn_gt_1k,s_sn_gt_2k,s_sn_gt_4k,speech,static_normal,tymp,viith_nerve_signs,wave_V_delayed,waveform_ItoV_prolonged,indentifier,class\\n\\nGraph Edges:\\n1. age_gt_60 o-> class\\n2. air <-> class\\n3. ar_c o-> o_ar_u\\n4. ar_u <-> o_ar_u\\n5. bone o-o air\\n6. bone <-> class\\n7. boneAbnormal o-> air\\n8. boneAbnormal o-> bone\\n9. bser <-> class\\n10. history_nausea o-o history_dizziness\\n11. history_roaring o-o history_nausea\\n12. m_sn_gt_1k o-o history_recruitment\\n13. m_sn_gt_2k o-> bser\\n14. m_sn_gt_500 o-o history_ringing\\n15. notch_4k o-o m_m_sn_gt_2k\\n16. notch_at_4k o-> class\\n17. o_ar_c o-> ar_u\\n18. speech o-> air\\n19. speech o-> bone\\n20. tymp o-> class\\n'"
      ]
     },
     "execution_count": 14,
     "metadata": {},
     "output_type": "execute_result"
    }
   ],
   "source": [
    "tetradGraph.toString()"
   ]
  },
  {
   "cell_type": "code",
   "execution_count": 15,
   "metadata": {},
   "outputs": [
    {
     "data": {
      "text/plain": [
       "Instance of java.util.ArrayList: [age_gt_60, air, airBoneGap, ar_c, ar_u, bone, boneAbnormal, bser, history_buzzing, history_dizziness, history_fluctuating, history_fullness, history_heredity, history_nausea, history_noise, history_recruitment, history_ringing, history_roaring, history_vomiting, late_wave_poor, m_at_2k, m_cond_lt_1k, m_gt_1k, m_m_gt_2k, m_m_sn, m_m_sn_gt_1k, m_m_sn_gt_2k, m_m_sn_gt_500, m_p_sn_gt_2k, m_s_gt_500, m_s_sn, m_s_sn_gt_1k, m_s_sn_gt_2k, m_s_sn_gt_3k, m_s_sn_gt_4k, m_sn_2_3k, m_sn_gt_1k, m_sn_gt_2k, m_sn_gt_3k, m_sn_gt_4k, m_sn_gt_500, m_sn_gt_6k, m_sn_lt_1k, m_sn_lt_2k, m_sn_lt_3k, middle_wave_poor, mod_gt_4k, mod_mixed, mod_s_mixed, mod_s_sn_gt_500, mod_sn, mod_sn_gt_1k, mod_sn_gt_2k, mod_sn_gt_3k, mod_sn_gt_4k, mod_sn_gt_500, notch_4k, notch_at_4k, o_ar_c, o_ar_u, s_sn_gt_1k, s_sn_gt_2k, s_sn_gt_4k, speech, static_normal, tymp, viith_nerve_signs, wave_V_delayed, waveform_ItoV_prolonged, indentifier, class]"
      ]
     },
     "execution_count": 15,
     "metadata": {},
     "output_type": "execute_result"
    }
   ],
   "source": [
    "tetradGraph.getNodeNames()"
   ]
  },
  {
   "cell_type": "code",
   "execution_count": 16,
   "metadata": {},
   "outputs": [
    {
     "data": {
      "text/plain": [
       "Instance of java.util.HashSet: [tymp o-> class, bone <-> class, m_sn_gt_1k o-o history_recruitment, notch_at_4k o-> class, age_gt_60 o-> class, speech o-> air, bser <-> class, boneAbnormal o-> air, ar_u <-> o_ar_u, notch_4k o-o m_m_sn_gt_2k, boneAbnormal o-> bone, bone o-o air, o_ar_c o-> ar_u, m_sn_gt_2k o-> bser, speech o-> bone, ar_c o-> o_ar_u, m_sn_gt_500 o-o history_ringing, history_nausea o-o history_dizziness, history_roaring o-o history_nausea, air <-> class]"
      ]
     },
     "execution_count": 16,
     "metadata": {},
     "output_type": "execute_result"
    }
   ],
   "source": [
    "tetradGraph.getEdges()"
   ]
  },
  {
   "cell_type": "code",
   "execution_count": 17,
   "metadata": {},
   "outputs": [
    {
     "data": {
      "image/svg+xml": [
       "<svg height=\"260pt\" viewBox=\"0.00 0.00 1387.54 260.00\" width=\"1388pt\" xmlns=\"http://www.w3.org/2000/svg\" xmlns:xlink=\"http://www.w3.org/1999/xlink\">\n",
       "<g class=\"graph\" id=\"graph0\" transform=\"scale(1 1) rotate(0) translate(4 256)\">\n",
       "<title>g</title>\n",
       "<polygon fill=\"white\" points=\"-4,4 -4,-256 1383.54,-256 1383.54,4 -4,4\" stroke=\"none\"/>\n",
       "<!-- class -->\n",
       "<g class=\"node\" id=\"node1\"><title>class</title>\n",
       "<ellipse cx=\"314.546\" cy=\"-90\" fill=\"none\" rx=\"34.394\" ry=\"18\" stroke=\"black\"/>\n",
       "<text font-family=\"Times,serif\" font-size=\"14.00\" text-anchor=\"middle\" x=\"314.546\" y=\"-86.3\">class</text>\n",
       "</g>\n",
       "<!-- tymp -->\n",
       "<g class=\"node\" id=\"node2\"><title>tymp</title>\n",
       "<ellipse cx=\"254.546\" cy=\"-18\" fill=\"none\" rx=\"34.394\" ry=\"18\" stroke=\"black\"/>\n",
       "<text font-family=\"Times,serif\" font-size=\"14.00\" text-anchor=\"middle\" x=\"254.546\" y=\"-14.3\">tymp</text>\n",
       "</g>\n",
       "<!-- class&#45;&gt;tymp -->\n",
       "<g class=\"edge\" id=\"edge1\"><title>class-&gt;tymp</title>\n",
       "<path d=\"M294.33,-65.4145C287.584,-57.544 280.097,-48.8088 273.454,-41.0588\" fill=\"none\" stroke=\"black\"/>\n",
       "<polygon fill=\"black\" points=\"291.766,-67.8011 300.931,-73.1159 297.081,-63.2455 291.766,-67.8011\" stroke=\"black\"/>\n",
       "<ellipse cx=\"270.71\" cy=\"-37.8583\" fill=\"none\" rx=\"4.00002\" ry=\"4.00002\" stroke=\"black\"/>\n",
       "</g>\n",
       "<!-- notch_at_4k -->\n",
       "<g class=\"node\" id=\"node6\"><title>notch_at_4k</title>\n",
       "<ellipse cx=\"374.546\" cy=\"-18\" fill=\"none\" rx=\"67.6881\" ry=\"18\" stroke=\"black\"/>\n",
       "<text font-family=\"Times,serif\" font-size=\"14.00\" text-anchor=\"middle\" x=\"374.546\" y=\"-14.3\">notch_at_4k</text>\n",
       "</g>\n",
       "<!-- class&#45;&gt;notch_at_4k -->\n",
       "<g class=\"edge\" id=\"edge4\"><title>class-&gt;notch_at_4k</title>\n",
       "<path d=\"M334.817,-65.3512C341.311,-57.7738 348.489,-49.4002 354.936,-41.8788\" fill=\"none\" stroke=\"black\"/>\n",
       "<polygon fill=\"black\" points=\"332.012,-63.2455 328.161,-73.1159 337.326,-67.8011 332.012,-63.2455\" stroke=\"black\"/>\n",
       "<ellipse cx=\"357.545\" cy=\"-38.8344\" fill=\"none\" rx=\"4.00002\" ry=\"4.00002\" stroke=\"black\"/>\n",
       "</g>\n",
       "<!-- bone -->\n",
       "<g class=\"node\" id=\"node3\"><title>bone</title>\n",
       "<ellipse cx=\"124.546\" cy=\"-162\" fill=\"none\" rx=\"33.2948\" ry=\"18\" stroke=\"black\"/>\n",
       "<text font-family=\"Times,serif\" font-size=\"14.00\" text-anchor=\"middle\" x=\"124.546\" y=\"-158.3\">bone</text>\n",
       "</g>\n",
       "<!-- bone&#45;&gt;class -->\n",
       "<g class=\"edge\" id=\"edge2\"><title>bone-&gt;class</title>\n",
       "<path d=\"M161.303,-148.097C191.108,-137.551 234.154,-122.129 271.546,-108 273.764,-107.162 276.042,-106.291 278.337,-105.406\" fill=\"none\" stroke=\"black\"/>\n",
       "<polygon fill=\"black\" points=\"159.994,-144.848 151.73,-151.478 162.325,-151.448 159.994,-144.848\" stroke=\"black\"/>\n",
       "<polygon fill=\"black\" points=\"279.71,-108.628 287.758,-101.736 277.169,-102.105 279.71,-108.628\" stroke=\"black\"/>\n",
       "</g>\n",
       "<!-- speech -->\n",
       "<g class=\"node\" id=\"node9\"><title>speech</title>\n",
       "<ellipse cx=\"43.5461\" cy=\"-90\" fill=\"none\" rx=\"43.5923\" ry=\"18\" stroke=\"black\"/>\n",
       "<text font-family=\"Times,serif\" font-size=\"14.00\" text-anchor=\"middle\" x=\"43.5461\" y=\"-86.3\">speech</text>\n",
       "</g>\n",
       "<!-- bone&#45;&gt;speech -->\n",
       "<g class=\"edge\" id=\"edge15\"><title>bone-&gt;speech</title>\n",
       "<path d=\"M99.6622,-139.495C89.4638,-130.682 77.7055,-120.52 67.5951,-111.783\" fill=\"none\" stroke=\"black\"/>\n",
       "<polygon fill=\"black\" points=\"97.5134,-142.264 107.368,-146.155 102.09,-136.968 97.5134,-142.264\" stroke=\"black\"/>\n",
       "<ellipse cx=\"64.568\" cy=\"-109.167\" fill=\"none\" rx=\"4.00002\" ry=\"4.00002\" stroke=\"black\"/>\n",
       "</g>\n",
       "<!-- boneAbnormal -->\n",
       "<g class=\"node\" id=\"node11\"><title>boneAbnormal</title>\n",
       "<ellipse cx=\"183.546\" cy=\"-90\" fill=\"none\" rx=\"78.7863\" ry=\"18\" stroke=\"black\"/>\n",
       "<text font-family=\"Times,serif\" font-size=\"14.00\" text-anchor=\"middle\" x=\"183.546\" y=\"-86.3\">boneAbnormal</text>\n",
       "</g>\n",
       "<!-- bone&#45;&gt;boneAbnormal -->\n",
       "<g class=\"edge\" id=\"edge11\"><title>bone-&gt;boneAbnormal</title>\n",
       "<path d=\"M144.479,-137.351C150.738,-129.925 157.641,-121.735 163.881,-114.331\" fill=\"none\" stroke=\"black\"/>\n",
       "<polygon fill=\"black\" points=\"141.703,-135.214 137.934,-145.116 147.055,-139.725 141.703,-135.214\" stroke=\"black\"/>\n",
       "<ellipse cx=\"166.81\" cy=\"-110.856\" fill=\"none\" rx=\"4.00002\" ry=\"4.00002\" stroke=\"black\"/>\n",
       "</g>\n",
       "<!-- history_recruitment -->\n",
       "<g class=\"node\" id=\"node4\"><title>history_recruitment</title>\n",
       "<ellipse cx=\"542.546\" cy=\"-234\" fill=\"none\" rx=\"104.782\" ry=\"18\" stroke=\"black\"/>\n",
       "<text font-family=\"Times,serif\" font-size=\"14.00\" text-anchor=\"middle\" x=\"542.546\" y=\"-230.3\">history_recruitment</text>\n",
       "</g>\n",
       "<!-- m_sn_gt_1k -->\n",
       "<g class=\"node\" id=\"node5\"><title>m_sn_gt_1k</title>\n",
       "<ellipse cx=\"542.546\" cy=\"-162\" fill=\"none\" rx=\"66.0889\" ry=\"18\" stroke=\"black\"/>\n",
       "<text font-family=\"Times,serif\" font-size=\"14.00\" text-anchor=\"middle\" x=\"542.546\" y=\"-158.3\">m_sn_gt_1k</text>\n",
       "</g>\n",
       "<!-- history_recruitment&#45;&gt;m_sn_gt_1k -->\n",
       "<g class=\"edge\" id=\"edge3\"><title>history_recruitment-&gt;m_sn_gt_1k</title>\n",
       "<path d=\"M542.546,-207.64C542.546,-201.348 542.546,-194.605 542.546,-188.316\" fill=\"none\" stroke=\"black\"/>\n",
       "<ellipse cx=\"542.546\" cy=\"-211.697\" fill=\"none\" rx=\"4\" ry=\"4\" stroke=\"black\"/>\n",
       "<ellipse cx=\"542.546\" cy=\"-184.104\" fill=\"none\" rx=\"4\" ry=\"4\" stroke=\"black\"/>\n",
       "</g>\n",
       "<!-- age_gt_60 -->\n",
       "<g class=\"node\" id=\"node7\"><title>age_gt_60</title>\n",
       "<ellipse cx=\"314.546\" cy=\"-162\" fill=\"none\" rx=\"58.4896\" ry=\"18\" stroke=\"black\"/>\n",
       "<text font-family=\"Times,serif\" font-size=\"14.00\" text-anchor=\"middle\" x=\"314.546\" y=\"-158.3\">age_gt_60</text>\n",
       "</g>\n",
       "<!-- age_gt_60&#45;&gt;class -->\n",
       "<g class=\"edge\" id=\"edge5\"><title>age_gt_60-&gt;class</title>\n",
       "<path d=\"M314.546,-135.64C314.546,-130.063 314.546,-124.132 314.546,-118.476\" fill=\"none\" stroke=\"black\"/>\n",
       "<ellipse cx=\"314.546\" cy=\"-139.697\" fill=\"none\" rx=\"4\" ry=\"4\" stroke=\"black\"/>\n",
       "<polygon fill=\"black\" points=\"318.046,-118.104 314.546,-108.104 311.046,-118.104 318.046,-118.104\" stroke=\"black\"/>\n",
       "</g>\n",
       "<!-- air -->\n",
       "<g class=\"node\" id=\"node8\"><title>air</title>\n",
       "<ellipse cx=\"154.546\" cy=\"-234\" fill=\"none\" rx=\"27\" ry=\"18\" stroke=\"black\"/>\n",
       "<text font-family=\"Times,serif\" font-size=\"14.00\" text-anchor=\"middle\" x=\"154.546\" y=\"-230.3\">air</text>\n",
       "</g>\n",
       "<!-- air&#45;&gt;class -->\n",
       "<g class=\"edge\" id=\"edge20\"><title>air-&gt;class</title>\n",
       "<path d=\"M176.311,-211.043C194.818,-192.65 222.327,-165.956 247.546,-144 260.361,-132.843 275.124,-121.058 287.525,-111.441\" fill=\"none\" stroke=\"black\"/>\n",
       "<polygon fill=\"black\" points=\"173.567,-208.837 168.963,-218.379 178.513,-213.79 173.567,-208.837\" stroke=\"black\"/>\n",
       "<polygon fill=\"black\" points=\"289.891,-114.037 295.68,-105.164 285.621,-108.49 289.891,-114.037\" stroke=\"black\"/>\n",
       "</g>\n",
       "<!-- air&#45;&gt;bone -->\n",
       "<g class=\"edge\" id=\"edge12\"><title>air-&gt;bone</title>\n",
       "<path d=\"M144.165,-208.778C141.239,-201.95 138.053,-194.516 135.116,-187.663\" fill=\"none\" stroke=\"black\"/>\n",
       "<ellipse cx=\"145.861\" cy=\"-212.734\" fill=\"none\" rx=\"4.00002\" ry=\"4.00002\" stroke=\"black\"/>\n",
       "<ellipse cx=\"133.389\" cy=\"-183.633\" fill=\"none\" rx=\"4.00001\" ry=\"4.00001\" stroke=\"black\"/>\n",
       "</g>\n",
       "<!-- air&#45;&gt;speech -->\n",
       "<g class=\"edge\" id=\"edge6\"><title>air-&gt;speech</title>\n",
       "<path d=\"M125.644,-216.733C111.207,-207.463 94.348,-194.756 82.5461,-180 67.2413,-160.864 56.7489,-134.792 50.5348,-115.815\" fill=\"none\" stroke=\"black\"/>\n",
       "<polygon fill=\"black\" points=\"123.906,-219.773 134.254,-222.048 127.583,-213.817 123.906,-219.773\" stroke=\"black\"/>\n",
       "<ellipse cx=\"49.3296\" cy=\"-111.973\" fill=\"none\" rx=\"4.00001\" ry=\"4.00001\" stroke=\"black\"/>\n",
       "</g>\n",
       "<!-- air&#45;&gt;boneAbnormal -->\n",
       "<g class=\"edge\" id=\"edge8\"><title>air-&gt;boneAbnormal</title>\n",
       "<path d=\"M160.865,-205.914C162.751,-197.612 164.785,-188.442 166.546,-180 171.019,-158.562 175.655,-134.119 178.953,-116.281\" fill=\"none\" stroke=\"black\"/>\n",
       "<polygon fill=\"black\" points=\"157.411,-205.317 158.585,-215.846 164.234,-206.883 157.411,-205.317\" stroke=\"black\"/>\n",
       "<ellipse cx=\"179.735\" cy=\"-112.03\" fill=\"none\" rx=\"4.00001\" ry=\"4.00001\" stroke=\"black\"/>\n",
       "</g>\n",
       "<!-- bser -->\n",
       "<g class=\"node\" id=\"node10\"><title>bser</title>\n",
       "<ellipse cx=\"427.546\" cy=\"-162\" fill=\"none\" rx=\"31.3957\" ry=\"18\" stroke=\"black\"/>\n",
       "<text font-family=\"Times,serif\" font-size=\"14.00\" text-anchor=\"middle\" x=\"427.546\" y=\"-158.3\">bser</text>\n",
       "</g>\n",
       "<!-- bser&#45;&gt;class -->\n",
       "<g class=\"edge\" id=\"edge7\"><title>bser-&gt;class</title>\n",
       "<path d=\"M398.571,-143.051C382.101,-132.848 361.503,-120.088 344.823,-109.755\" fill=\"none\" stroke=\"black\"/>\n",
       "<polygon fill=\"black\" points=\"396.738,-146.033 407.083,-148.324 400.425,-140.082 396.738,-146.033\" stroke=\"black\"/>\n",
       "<polygon fill=\"black\" points=\"346.355,-106.587 336.01,-104.296 342.668,-112.538 346.355,-106.587\" stroke=\"black\"/>\n",
       "</g>\n",
       "<!-- m_sn_gt_2k -->\n",
       "<g class=\"node\" id=\"node17\"><title>m_sn_gt_2k</title>\n",
       "<ellipse cx=\"433.546\" cy=\"-90\" fill=\"none\" rx=\"66.0889\" ry=\"18\" stroke=\"black\"/>\n",
       "<text font-family=\"Times,serif\" font-size=\"14.00\" text-anchor=\"middle\" x=\"433.546\" y=\"-86.3\">m_sn_gt_2k</text>\n",
       "</g>\n",
       "<!-- bser&#45;&gt;m_sn_gt_2k -->\n",
       "<g class=\"edge\" id=\"edge14\"><title>bser-&gt;m_sn_gt_2k</title>\n",
       "<path d=\"M429.889,-133.665C430.385,-127.879 430.906,-121.8 431.395,-116.101\" fill=\"none\" stroke=\"black\"/>\n",
       "<polygon fill=\"black\" points=\"426.396,-133.434 429.029,-143.697 433.371,-134.032 426.396,-133.434\" stroke=\"black\"/>\n",
       "<ellipse cx=\"431.738\" cy=\"-112.09\" fill=\"none\" rx=\"4\" ry=\"4\" stroke=\"black\"/>\n",
       "</g>\n",
       "<!-- ar_u -->\n",
       "<g class=\"node\" id=\"node12\"><title>ar_u</title>\n",
       "<ellipse cx=\"782.546\" cy=\"-234\" fill=\"none\" rx=\"31.3957\" ry=\"18\" stroke=\"black\"/>\n",
       "<text font-family=\"Times,serif\" font-size=\"14.00\" text-anchor=\"middle\" x=\"782.546\" y=\"-230.3\">ar_u</text>\n",
       "</g>\n",
       "<!-- o_ar_u -->\n",
       "<g class=\"node\" id=\"node13\"><title>o_ar_u</title>\n",
       "<ellipse cx=\"695.546\" cy=\"-162\" fill=\"none\" rx=\"41.6928\" ry=\"18\" stroke=\"black\"/>\n",
       "<text font-family=\"Times,serif\" font-size=\"14.00\" text-anchor=\"middle\" x=\"695.546\" y=\"-158.3\">o_ar_u</text>\n",
       "</g>\n",
       "<!-- ar_u&#45;&gt;o_ar_u -->\n",
       "<g class=\"edge\" id=\"edge9\"><title>ar_u-&gt;o_ar_u</title>\n",
       "<path d=\"M756.874,-212.344C746.005,-203.599 733.339,-193.408 722.35,-184.566\" fill=\"none\" stroke=\"black\"/>\n",
       "<polygon fill=\"black\" points=\"754.955,-215.293 764.94,-218.834 759.343,-209.839 754.955,-215.293\" stroke=\"black\"/>\n",
       "<polygon fill=\"black\" points=\"724.315,-181.655 714.33,-178.114 719.927,-187.109 724.315,-181.655\" stroke=\"black\"/>\n",
       "</g>\n",
       "<!-- o_ar_c -->\n",
       "<g class=\"node\" id=\"node16\"><title>o_ar_c</title>\n",
       "<ellipse cx=\"796.546\" cy=\"-162\" fill=\"none\" rx=\"40.8928\" ry=\"18\" stroke=\"black\"/>\n",
       "<text font-family=\"Times,serif\" font-size=\"14.00\" text-anchor=\"middle\" x=\"796.546\" y=\"-158.3\">o_ar_c</text>\n",
       "</g>\n",
       "<!-- ar_u&#45;&gt;o_ar_c -->\n",
       "<g class=\"edge\" id=\"edge13\"><title>ar_u-&gt;o_ar_c</title>\n",
       "<path d=\"M787.945,-206.005C789.107,-200.198 790.33,-194.08 791.478,-188.338\" fill=\"none\" stroke=\"black\"/>\n",
       "<polygon fill=\"black\" points=\"784.464,-205.563 785.935,-216.055 791.328,-206.936 784.464,-205.563\" stroke=\"black\"/>\n",
       "<ellipse cx=\"792.307\" cy=\"-184.198\" fill=\"none\" rx=\"4.00001\" ry=\"4.00001\" stroke=\"black\"/>\n",
       "</g>\n",
       "<!-- m_m_sn_gt_2k -->\n",
       "<g class=\"node\" id=\"node14\"><title>m_m_sn_gt_2k</title>\n",
       "<ellipse cx=\"917.546\" cy=\"-234\" fill=\"none\" rx=\"79.8859\" ry=\"18\" stroke=\"black\"/>\n",
       "<text font-family=\"Times,serif\" font-size=\"14.00\" text-anchor=\"middle\" x=\"917.546\" y=\"-230.3\">m_m_sn_gt_2k</text>\n",
       "</g>\n",
       "<!-- notch_4k -->\n",
       "<g class=\"node\" id=\"node15\"><title>notch_4k</title>\n",
       "<ellipse cx=\"917.546\" cy=\"-162\" fill=\"none\" rx=\"53.8905\" ry=\"18\" stroke=\"black\"/>\n",
       "<text font-family=\"Times,serif\" font-size=\"14.00\" text-anchor=\"middle\" x=\"917.546\" y=\"-158.3\">notch_4k</text>\n",
       "</g>\n",
       "<!-- m_m_sn_gt_2k&#45;&gt;notch_4k -->\n",
       "<g class=\"edge\" id=\"edge10\"><title>m_m_sn_gt_2k-&gt;notch_4k</title>\n",
       "<path d=\"M917.546,-207.64C917.546,-201.348 917.546,-194.605 917.546,-188.316\" fill=\"none\" stroke=\"black\"/>\n",
       "<ellipse cx=\"917.546\" cy=\"-211.697\" fill=\"none\" rx=\"4\" ry=\"4\" stroke=\"black\"/>\n",
       "<ellipse cx=\"917.546\" cy=\"-184.104\" fill=\"none\" rx=\"4\" ry=\"4\" stroke=\"black\"/>\n",
       "</g>\n",
       "<!-- ar_c -->\n",
       "<g class=\"node\" id=\"node18\"><title>ar_c</title>\n",
       "<ellipse cx=\"695.546\" cy=\"-234\" fill=\"none\" rx=\"30.5947\" ry=\"18\" stroke=\"black\"/>\n",
       "<text font-family=\"Times,serif\" font-size=\"14.00\" text-anchor=\"middle\" x=\"695.546\" y=\"-230.3\">ar_c</text>\n",
       "</g>\n",
       "<!-- ar_c&#45;&gt;o_ar_u -->\n",
       "<g class=\"edge\" id=\"edge16\"><title>ar_c-&gt;o_ar_u</title>\n",
       "<path d=\"M695.546,-207.64C695.546,-202.063 695.546,-196.132 695.546,-190.476\" fill=\"none\" stroke=\"black\"/>\n",
       "<ellipse cx=\"695.546\" cy=\"-211.697\" fill=\"none\" rx=\"4\" ry=\"4\" stroke=\"black\"/>\n",
       "<polygon fill=\"black\" points=\"699.046,-190.104 695.546,-180.104 692.046,-190.104 699.046,-190.104\" stroke=\"black\"/>\n",
       "</g>\n",
       "<!-- history_ringing -->\n",
       "<g class=\"node\" id=\"node19\"><title>history_ringing</title>\n",
       "<ellipse cx=\"1097.55\" cy=\"-234\" fill=\"none\" rx=\"81.7856\" ry=\"18\" stroke=\"black\"/>\n",
       "<text font-family=\"Times,serif\" font-size=\"14.00\" text-anchor=\"middle\" x=\"1097.55\" y=\"-230.3\">history_ringing</text>\n",
       "</g>\n",
       "<!-- m_sn_gt_500 -->\n",
       "<g class=\"node\" id=\"node20\"><title>m_sn_gt_500</title>\n",
       "<ellipse cx=\"1097.55\" cy=\"-162\" fill=\"none\" rx=\"72.2875\" ry=\"18\" stroke=\"black\"/>\n",
       "<text font-family=\"Times,serif\" font-size=\"14.00\" text-anchor=\"middle\" x=\"1097.55\" y=\"-158.3\">m_sn_gt_500</text>\n",
       "</g>\n",
       "<!-- history_ringing&#45;&gt;m_sn_gt_500 -->\n",
       "<g class=\"edge\" id=\"edge17\"><title>history_ringing-&gt;m_sn_gt_500</title>\n",
       "<path d=\"M1097.55,-207.64C1097.55,-201.348 1097.55,-194.605 1097.55,-188.316\" fill=\"none\" stroke=\"black\"/>\n",
       "<ellipse cx=\"1097.55\" cy=\"-211.697\" fill=\"none\" rx=\"4\" ry=\"4\" stroke=\"black\"/>\n",
       "<ellipse cx=\"1097.55\" cy=\"-184.104\" fill=\"none\" rx=\"4\" ry=\"4\" stroke=\"black\"/>\n",
       "</g>\n",
       "<!-- history_dizziness -->\n",
       "<g class=\"node\" id=\"node21\"><title>history_dizziness</title>\n",
       "<ellipse cx=\"1288.55\" cy=\"-234\" fill=\"none\" rx=\"90.9839\" ry=\"18\" stroke=\"black\"/>\n",
       "<text font-family=\"Times,serif\" font-size=\"14.00\" text-anchor=\"middle\" x=\"1288.55\" y=\"-230.3\">history_dizziness</text>\n",
       "</g>\n",
       "<!-- history_nausea -->\n",
       "<g class=\"node\" id=\"node22\"><title>history_nausea</title>\n",
       "<ellipse cx=\"1288.55\" cy=\"-162\" fill=\"none\" rx=\"81.4863\" ry=\"18\" stroke=\"black\"/>\n",
       "<text font-family=\"Times,serif\" font-size=\"14.00\" text-anchor=\"middle\" x=\"1288.55\" y=\"-158.3\">history_nausea</text>\n",
       "</g>\n",
       "<!-- history_dizziness&#45;&gt;history_nausea -->\n",
       "<g class=\"edge\" id=\"edge18\"><title>history_dizziness-&gt;history_nausea</title>\n",
       "<path d=\"M1288.55,-207.64C1288.55,-201.348 1288.55,-194.605 1288.55,-188.316\" fill=\"none\" stroke=\"black\"/>\n",
       "<ellipse cx=\"1288.55\" cy=\"-211.697\" fill=\"none\" rx=\"4\" ry=\"4\" stroke=\"black\"/>\n",
       "<ellipse cx=\"1288.55\" cy=\"-184.104\" fill=\"none\" rx=\"4\" ry=\"4\" stroke=\"black\"/>\n",
       "</g>\n",
       "<!-- history_roaring -->\n",
       "<g class=\"node\" id=\"node23\"><title>history_roaring</title>\n",
       "<ellipse cx=\"1288.55\" cy=\"-90\" fill=\"none\" rx=\"82.5854\" ry=\"18\" stroke=\"black\"/>\n",
       "<text font-family=\"Times,serif\" font-size=\"14.00\" text-anchor=\"middle\" x=\"1288.55\" y=\"-86.3\">history_roaring</text>\n",
       "</g>\n",
       "<!-- history_nausea&#45;&gt;history_roaring -->\n",
       "<g class=\"edge\" id=\"edge19\"><title>history_nausea-&gt;history_roaring</title>\n",
       "<path d=\"M1288.55,-135.64C1288.55,-129.348 1288.55,-122.605 1288.55,-116.316\" fill=\"none\" stroke=\"black\"/>\n",
       "<ellipse cx=\"1288.55\" cy=\"-139.697\" fill=\"none\" rx=\"4\" ry=\"4\" stroke=\"black\"/>\n",
       "<ellipse cx=\"1288.55\" cy=\"-112.104\" fill=\"none\" rx=\"4\" ry=\"4\" stroke=\"black\"/>\n",
       "</g>\n",
       "</g>\n",
       "</svg>"
      ],
      "text/plain": [
       "<IPython.core.display.SVG object>"
      ]
     },
     "execution_count": 17,
     "metadata": {},
     "output_type": "execute_result"
    }
   ],
   "source": [
    "dot_str = javabridge.static_call('edu/cmu/tetrad/graph/GraphUtils',\n",
    "                                   'graphToDot',\n",
    "                                   '(Ledu/cmu/tetrad/graph/Graph;)Ljava/lang/String;', \n",
    "                                   tetradGraph)\n",
    "graphs = pydot.graph_from_dot_data(dot_str)\n",
    "svg_str = graphs[0].create_svg()\n",
    "SVG(svg_str)"
   ]
  },
  {
   "cell_type": "code",
   "execution_count": 18,
   "metadata": {},
   "outputs": [],
   "source": [
    "javabridge.detach()\n",
    "javabridge.kill_vm()"
   ]
  },
  {
   "cell_type": "code",
   "execution_count": null,
   "metadata": {
    "collapsed": true
   },
   "outputs": [],
   "source": []
  }
 ],
 "metadata": {
  "kernelspec": {
   "display_name": "Python 3",
   "language": "python",
   "name": "python3"
  },
  "language_info": {
   "codemirror_mode": {
    "name": "ipython",
    "version": 3
   },
   "file_extension": ".py",
   "mimetype": "text/x-python",
   "name": "python",
   "nbconvert_exporter": "python",
   "pygments_lexer": "ipython3",
   "version": "3.5.4"
  },
  "widgets": {
   "state": {},
   "version": "1.1.1"
  }
 },
 "nbformat": 4,
 "nbformat_minor": 1
}
