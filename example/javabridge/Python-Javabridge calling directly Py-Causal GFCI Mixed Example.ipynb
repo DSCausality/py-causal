{
 "cells": [
  {
   "cell_type": "code",
   "execution_count": 1,
   "metadata": {
    "collapsed": true
   },
   "outputs": [],
   "source": [
    "import javabridge\n",
    "import os\n",
    "import glob\n",
    "import pandas as pd\n",
    "import pydot\n",
    "from IPython.display import SVG"
   ]
  },
  {
   "cell_type": "code",
   "execution_count": 2,
   "metadata": {},
   "outputs": [
    {
     "name": "stdout",
     "output_type": "stream",
     "text": [
      "/home/jovyan/py-causal/example/javabridge/../../src/pycausal/lib/tetrad-lib-6.4.0-SNAPSHOT-tetradcmd.jar\n",
      "/home/jovyan/py-causal/example/javabridge/../../src/pycausal/lib/data-reader-0.2.3-SNAPSHOT.jar\n"
     ]
    }
   ],
   "source": [
    "tetrad_libdir = os.path.join(os.getcwd(), '..','..','src', 'pycausal', 'lib')\n",
    "for l in glob.glob(tetrad_libdir + os.sep + \"*.jar\"):\n",
    "    print (l)\n",
    "    javabridge.JARS.append(str(l))"
   ]
  },
  {
   "cell_type": "code",
   "execution_count": 3,
   "metadata": {},
   "outputs": [
    {
     "data": {
      "text/plain": [
       "<JB_Env at 0x1a1e9e0>"
      ]
     },
     "execution_count": 3,
     "metadata": {},
     "output_type": "execute_result"
    }
   ],
   "source": [
    "javabridge.start_vm(run_headless=True, max_heap_size = '100M')\n",
    "javabridge.attach()"
   ]
  },
  {
   "cell_type": "code",
   "execution_count": 4,
   "metadata": {},
   "outputs": [
    {
     "data": {
      "text/plain": [
       "'/home/jovyan/py-causal/example/javabridge/../../data/charity.txt'"
      ]
     },
     "execution_count": 4,
     "metadata": {},
     "output_type": "execute_result"
    }
   ],
   "source": [
    "data_dir = os.path.join(os.getcwd(), '..','..','data', 'charity.txt')\n",
    "data_dir"
   ]
  },
  {
   "cell_type": "code",
   "execution_count": 5,
   "metadata": {},
   "outputs": [
    {
     "data": {
      "text/html": [
       "<div>\n",
       "<table border=\"1\" class=\"dataframe\">\n",
       "  <thead>\n",
       "    <tr style=\"text-align: right;\">\n",
       "      <th></th>\n",
       "      <th>TangibilityCondition</th>\n",
       "      <th>AmountDonated</th>\n",
       "      <th>Sympathy</th>\n",
       "      <th>Imaginability</th>\n",
       "      <th>Impact</th>\n",
       "    </tr>\n",
       "  </thead>\n",
       "  <tbody>\n",
       "    <tr>\n",
       "      <th>0</th>\n",
       "      <td>1.0</td>\n",
       "      <td>0.0</td>\n",
       "      <td>7.0</td>\n",
       "      <td>4.0</td>\n",
       "      <td>4.5</td>\n",
       "    </tr>\n",
       "    <tr>\n",
       "      <th>1</th>\n",
       "      <td>1.0</td>\n",
       "      <td>0.0</td>\n",
       "      <td>2.0</td>\n",
       "      <td>2.0</td>\n",
       "      <td>2.0</td>\n",
       "    </tr>\n",
       "    <tr>\n",
       "      <th>2</th>\n",
       "      <td>1.0</td>\n",
       "      <td>0.0</td>\n",
       "      <td>7.0</td>\n",
       "      <td>3.0</td>\n",
       "      <td>3.0</td>\n",
       "    </tr>\n",
       "    <tr>\n",
       "      <th>3</th>\n",
       "      <td>1.0</td>\n",
       "      <td>0.0</td>\n",
       "      <td>4.0</td>\n",
       "      <td>3.0</td>\n",
       "      <td>4.5</td>\n",
       "    </tr>\n",
       "    <tr>\n",
       "      <th>4</th>\n",
       "      <td>1.0</td>\n",
       "      <td>0.0</td>\n",
       "      <td>3.0</td>\n",
       "      <td>7.0</td>\n",
       "      <td>1.0</td>\n",
       "    </tr>\n",
       "  </tbody>\n",
       "</table>\n",
       "</div>"
      ],
      "text/plain": [
       "   TangibilityCondition  AmountDonated  Sympathy  Imaginability  Impact\n",
       "0                   1.0            0.0       7.0            4.0     4.5\n",
       "1                   1.0            0.0       2.0            2.0     2.0\n",
       "2                   1.0            0.0       7.0            3.0     3.0\n",
       "3                   1.0            0.0       4.0            3.0     4.5\n",
       "4                   1.0            0.0       3.0            7.0     1.0"
      ]
     },
     "execution_count": 5,
     "metadata": {},
     "output_type": "execute_result"
    }
   ],
   "source": [
    "df = pd.read_table(data_dir, sep=\"\\t\")\n",
    "df.head()"
   ]
  },
  {
   "cell_type": "code",
   "execution_count": 6,
   "metadata": {
    "collapsed": true
   },
   "outputs": [],
   "source": [
    "numCategoriesToDiscretize = 4\n",
    "node_list = javabridge.JClassWrapper('java.util.ArrayList')()\n",
    "cont_list = []\n",
    "disc_list = []\n",
    "col_no = 0\n",
    "for col in df.columns:\n",
    "\n",
    "    cat_array = sorted(set(df[col]))\n",
    "    if(len(cat_array) > numCategoriesToDiscretize):\n",
    "        # Continuous variable\n",
    "        nodi = javabridge.JClassWrapper('edu.cmu.tetrad.data.ContinuousVariable')(col)\n",
    "        node_list.add(nodi)\n",
    "\n",
    "        cont_list.append(col_no)\n",
    "\n",
    "    else:\n",
    "        # Discrete variable\n",
    "        cat_list = javabridge.JClassWrapper('java.util.ArrayList')()\n",
    "        for cat in cat_array:\n",
    "            cat = str(cat)\n",
    "            cat_list.add(cat)\n",
    "\n",
    "        nodname = javabridge.JClassWrapper('java.lang.String')(col)\n",
    "        nodi = javabridge.JClassWrapper('edu.cmu.tetrad.data.DiscreteVariable')(nodname,cat_list)\n",
    "        node_list.add(nodi)\n",
    "\n",
    "        disc_list.append(col_no)\n",
    "\n",
    "    col_no = col_no + 1"
   ]
  },
  {
   "cell_type": "code",
   "execution_count": 7,
   "metadata": {
    "collapsed": true
   },
   "outputs": [],
   "source": [
    "mixedDataBox = javabridge.JClassWrapper('edu.cmu.tetrad.data.MixedDataBox')(node_list, len(df.index))"
   ]
  },
  {
   "cell_type": "code",
   "execution_count": 8,
   "metadata": {
    "collapsed": true
   },
   "outputs": [],
   "source": [
    "for row in df.index:\n",
    "\n",
    "    for col in cont_list:\n",
    "        value = javabridge.JClassWrapper('java.lang.Double')(df.iloc[row,col])\n",
    "        mixedDataBox.set(row,col,value)\n",
    "\n",
    "    for col in disc_list:\n",
    "        cat_array = sorted(set(df[df.columns[col]]))\n",
    "        value = javabridge.JClassWrapper('java.lang.Integer')(cat_array.index(df.iloc[row,col]))\n",
    "        mixedDataBox.set(row,col,value)"
   ]
  },
  {
   "cell_type": "code",
   "execution_count": 9,
   "metadata": {
    "collapsed": true
   },
   "outputs": [],
   "source": [
    "tetradData = javabridge.JClassWrapper('edu.cmu.tetrad.data.BoxDataSet')(mixedDataBox, node_list)"
   ]
  },
  {
   "cell_type": "code",
   "execution_count": 10,
   "metadata": {
    "collapsed": true
   },
   "outputs": [],
   "source": [
    "alpha = 0.05\n",
    "discretize = False\n",
    "indTest = javabridge.JClassWrapper('edu.cmu.tetrad.search.IndTestConditionalGaussianLRT')(tetradData, alpha, discretize)"
   ]
  },
  {
   "cell_type": "code",
   "execution_count": 11,
   "metadata": {
    "collapsed": true
   },
   "outputs": [],
   "source": [
    "penaltydiscount = 2 # set to 2 if variable# <= 50 otherwise set it to 4\n",
    "structurePrior = 1.0\n",
    "score = javabridge.JClassWrapper('edu.cmu.tetrad.search.ConditionalGaussianScore')(tetradData, structurePrior, discretize)\n",
    "score.setPenaltyDiscount(penaltydiscount) "
   ]
  },
  {
   "cell_type": "code",
   "execution_count": 12,
   "metadata": {
    "collapsed": true
   },
   "outputs": [],
   "source": [
    "gfci = javabridge.JClassWrapper('edu.cmu.tetrad.search.GFci')(indTest, score)"
   ]
  },
  {
   "cell_type": "code",
   "execution_count": 13,
   "metadata": {
    "collapsed": true
   },
   "outputs": [],
   "source": [
    "gfci.setMaxDegree(3)\n",
    "gfci.setMaxPathLength(-1)\n",
    "gfci.setCompleteRuleSetUsed(False)\n",
    "gfci.setFaithfulnessAssumed(True)\n",
    "gfci.setVerbose(True)"
   ]
  },
  {
   "cell_type": "code",
   "execution_count": 14,
   "metadata": {},
   "outputs": [
    {
     "data": {
      "text/plain": [
       "Instance of edu.cmu.tetrad.data.Knowledge2: /knowledge\n",
       "addtemporal\n",
       "\n",
       "0* Imaginability TangibilityCondition \n",
       "1 AmountDonated Sympathy \n",
       "2 Impact \n",
       "\n",
       "forbiddirect\n",
       "\n",
       "TangibilityCondition ==> Impact \n",
       "requiredirect\n",
       "\n",
       "Sympathy ==> TangibilityCondition "
      ]
     },
     "execution_count": 14,
     "metadata": {},
     "output_type": "execute_result"
    }
   ],
   "source": [
    "prior = javabridge.JClassWrapper('edu.cmu.tetrad.data.Knowledge2')()\n",
    "prior.setForbidden('TangibilityCondition', 'Impact') # forbidden directed edges\n",
    "prior.setRequired('Sympathy','TangibilityCondition') # required directed edges\n",
    "prior.setTierForbiddenWithin(0, True)\n",
    "prior.addToTier(0, 'TangibilityCondition')\n",
    "prior.addToTier(0, 'Imaginability')\n",
    "prior.addToTier(1, 'Sympathy')\n",
    "prior.addToTier(1, 'AmountDonated')\n",
    "prior.addToTier(2, 'Impact')\n",
    "gfci.setKnowledge(prior)\n",
    "prior"
   ]
  },
  {
   "cell_type": "code",
   "execution_count": 15,
   "metadata": {},
   "outputs": [
    {
     "data": {
      "text/plain": [
       "Instance of edu.cmu.tetrad.graph.EdgeListGraphSingleConnections: Graph Nodes:\n",
       "TangibilityCondition,AmountDonated,Sympathy,Imaginability,Impact\n",
       "\n",
       "Graph Edges:\n",
       "1. Imaginability o-> Impact\n",
       "2. Sympathy o-> Impact\n",
       "3. Sympathy --> TangibilityCondition nl pd"
      ]
     },
     "execution_count": 15,
     "metadata": {},
     "output_type": "execute_result"
    }
   ],
   "source": [
    "tetradGraph = gfci.search()\n",
    "tetradGraph"
   ]
  },
  {
   "cell_type": "code",
   "execution_count": 16,
   "metadata": {},
   "outputs": [
    {
     "data": {
      "text/plain": [
       "'Graph Nodes:\\nTangibilityCondition,AmountDonated,Sympathy,Imaginability,Impact\\n\\nGraph Edges:\\n1. Imaginability o-> Impact\\n2. Sympathy o-> Impact\\n3. Sympathy --> TangibilityCondition nl pd\\n'"
      ]
     },
     "execution_count": 16,
     "metadata": {},
     "output_type": "execute_result"
    }
   ],
   "source": [
    "tetradGraph.toString()"
   ]
  },
  {
   "cell_type": "code",
   "execution_count": 17,
   "metadata": {},
   "outputs": [
    {
     "data": {
      "text/plain": [
       "Instance of java.util.ArrayList: [TangibilityCondition, AmountDonated, Sympathy, Imaginability, Impact]"
      ]
     },
     "execution_count": 17,
     "metadata": {},
     "output_type": "execute_result"
    }
   ],
   "source": [
    "tetradGraph.getNodeNames()"
   ]
  },
  {
   "cell_type": "code",
   "execution_count": 18,
   "metadata": {},
   "outputs": [
    {
     "data": {
      "text/plain": [
       "Instance of java.util.HashSet: [Sympathy o-> Impact, Sympathy --> TangibilityCondition, Imaginability o-> Impact]"
      ]
     },
     "execution_count": 18,
     "metadata": {},
     "output_type": "execute_result"
    }
   ],
   "source": [
    "tetradGraph.getEdges()"
   ]
  },
  {
   "cell_type": "code",
   "execution_count": 19,
   "metadata": {
    "collapsed": true
   },
   "outputs": [],
   "source": [
    "graph = pydot.Dot(graph_type='digraph')\n",
    "n = tetradGraph.getNodeNames().toString()\n",
    "n = n[1:len(n)-1]\n",
    "n = n.split(\",\")\n",
    "nodes = []\n",
    "for i in range(0,len(n)):\n",
    "    node = n[i]\n",
    "    n[i] = node.strip()\n",
    "    nodes.append(pydot.Node(n[i]))\n",
    "    graph.add_node(nodes[i])"
   ]
  },
  {
   "cell_type": "code",
   "execution_count": 20,
   "metadata": {
    "collapsed": true
   },
   "outputs": [],
   "source": [
    "def isNodeExisting(nodes,node):\n",
    "    try:\n",
    "        nodes.index(node)\n",
    "        return True\n",
    "    except IndexError:\n",
    "        print (\"Node {} does not exist!\".format (node))\n",
    "        return False\n",
    "\n",
    "e = tetradGraph.getEdges().toString()\n",
    "e = e[1:len(e)-1]\n",
    "e = e.split(\",\")\n",
    "for i in range(0,len(e)):\n",
    "    e[i] = e[i].strip()\n",
    "    token = e[i].split(\" \")\n",
    "    if(len(token) == 3):\n",
    "        src = token[0]\n",
    "        arc = token[1]\n",
    "        dst = token[2]\n",
    "        if(isNodeExisting(n,src) and isNodeExisting(n,dst)):\n",
    "            edge = pydot.Edge(nodes[n.index(src)],nodes[n.index(dst)])\n",
    "            \n",
    "            if(arc[0] != \"-\"):\n",
    "                edge.set_dir(\"both\")\n",
    "            \n",
    "            if(arc[0] == \"o\"):\n",
    "                edge.set_arrowtail(\"odot\")\n",
    "            elif(arc[0] == \"<\"):\n",
    "                edge.set_arrowtail(\"normal\")\n",
    "            \n",
    "            if(arc[2] == \"-\"):\n",
    "                edge.set_arrowhead(\"none\")\n",
    "            elif(arc[2] == \"o\"):\n",
    "                edge.set_arrowhead(\"odot\")\n",
    "            else:\n",
    "                edge.set_arrowhead(\"normal\")\n",
    "            \n",
    "            graph.add_edge(edge)"
   ]
  },
  {
   "cell_type": "code",
   "execution_count": 21,
   "metadata": {},
   "outputs": [
    {
     "data": {
      "image/svg+xml": [
       "<svg height=\"116pt\" viewBox=\"0.00 0.00 447.69 116.00\" width=\"448pt\" xmlns=\"http://www.w3.org/2000/svg\" xmlns:xlink=\"http://www.w3.org/1999/xlink\">\n",
       "<g class=\"graph\" id=\"graph0\" transform=\"scale(1 1) rotate(0) translate(4 112)\">\n",
       "<title>G</title>\n",
       "<polygon fill=\"white\" points=\"-4,4 -4,-112 443.686,-112 443.686,4 -4,4\" stroke=\"none\"/>\n",
       "<!-- TangibilityCondition -->\n",
       "<g class=\"node\" id=\"node1\"><title>TangibilityCondition</title>\n",
       "<ellipse cx=\"85.1424\" cy=\"-18\" fill=\"none\" rx=\"85.2851\" ry=\"18\" stroke=\"black\"/>\n",
       "<text font-family=\"Times,serif\" font-size=\"14.00\" text-anchor=\"middle\" x=\"85.1424\" y=\"-14.3\">TangibilityCondition</text>\n",
       "</g>\n",
       "<!-- AmountDonated -->\n",
       "<g class=\"node\" id=\"node2\"><title>AmountDonated</title>\n",
       "<ellipse cx=\"370.142\" cy=\"-90\" fill=\"none\" rx=\"69.5877\" ry=\"18\" stroke=\"black\"/>\n",
       "<text font-family=\"Times,serif\" font-size=\"14.00\" text-anchor=\"middle\" x=\"370.142\" y=\"-86.3\">AmountDonated</text>\n",
       "</g>\n",
       "<!-- Sympathy -->\n",
       "<g class=\"node\" id=\"node3\"><title>Sympathy</title>\n",
       "<ellipse cx=\"93.1424\" cy=\"-90\" fill=\"none\" rx=\"46.5926\" ry=\"18\" stroke=\"black\"/>\n",
       "<text font-family=\"Times,serif\" font-size=\"14.00\" text-anchor=\"middle\" x=\"93.1424\" y=\"-86.3\">Sympathy</text>\n",
       "</g>\n",
       "<!-- Sympathy&#45;&gt;TangibilityCondition -->\n",
       "<g class=\"edge\" id=\"edge2\"><title>Sympathy-&gt;TangibilityCondition</title>\n",
       "<path d=\"M91.1649,-71.6966C90.2833,-63.9827 89.2239,-54.7125 88.241,-46.1124\" fill=\"none\" stroke=\"black\"/>\n",
       "<polygon fill=\"black\" points=\"91.7101,-45.6422 87.0972,-36.1043 84.7554,-46.4371 91.7101,-45.6422\" stroke=\"black\"/>\n",
       "</g>\n",
       "<!-- Impact -->\n",
       "<g class=\"node\" id=\"node5\"><title>Impact</title>\n",
       "<ellipse cx=\"224.142\" cy=\"-18\" fill=\"none\" rx=\"35.9954\" ry=\"18\" stroke=\"black\"/>\n",
       "<text font-family=\"Times,serif\" font-size=\"14.00\" text-anchor=\"middle\" x=\"224.142\" y=\"-14.3\">Impact</text>\n",
       "</g>\n",
       "<!-- Sympathy&#45;&gt;Impact -->\n",
       "<g class=\"edge\" id=\"edge1\"><title>Sympathy-&gt;Impact</title>\n",
       "<path d=\"M126.585,-71.1298C146.576,-60.4477 171.854,-46.9402 191.67,-36.3516\" fill=\"none\" stroke=\"black\"/>\n",
       "<ellipse cx=\"122.865\" cy=\"-73.1175\" fill=\"none\" rx=\"4.00002\" ry=\"4.00002\" stroke=\"black\"/>\n",
       "<polygon fill=\"black\" points=\"193.461,-39.3631 200.631,-31.5632 190.162,-33.1892 193.461,-39.3631\" stroke=\"black\"/>\n",
       "</g>\n",
       "<!-- Imaginability -->\n",
       "<g class=\"node\" id=\"node4\"><title>Imaginability</title>\n",
       "<ellipse cx=\"224.142\" cy=\"-90\" fill=\"none\" rx=\"58.4896\" ry=\"18\" stroke=\"black\"/>\n",
       "<text font-family=\"Times,serif\" font-size=\"14.00\" text-anchor=\"middle\" x=\"224.142\" y=\"-86.3\">Imaginability</text>\n",
       "</g>\n",
       "<!-- Imaginability&#45;&gt;Impact -->\n",
       "<g class=\"edge\" id=\"edge3\"><title>Imaginability-&gt;Impact</title>\n",
       "<path d=\"M224.142,-63.6398C224.142,-58.0629 224.142,-52.1319 224.142,-46.4761\" fill=\"none\" stroke=\"black\"/>\n",
       "<ellipse cx=\"224.142\" cy=\"-67.6966\" fill=\"none\" rx=\"4\" ry=\"4\" stroke=\"black\"/>\n",
       "<polygon fill=\"black\" points=\"227.643,-46.1043 224.142,-36.1043 220.643,-46.1044 227.643,-46.1043\" stroke=\"black\"/>\n",
       "</g>\n",
       "</g>\n",
       "</svg>"
      ],
      "text/plain": [
       "<IPython.core.display.SVG object>"
      ]
     },
     "execution_count": 21,
     "metadata": {},
     "output_type": "execute_result"
    }
   ],
   "source": [
    "svg_str = graph.create_svg(prog='dot')\n",
    "SVG(svg_str)"
   ]
  },
  {
   "cell_type": "code",
   "execution_count": 22,
   "metadata": {
    "collapsed": true
   },
   "outputs": [],
   "source": [
    "javabridge.detach()\n",
    "javabridge.kill_vm()"
   ]
  },
  {
   "cell_type": "code",
   "execution_count": null,
   "metadata": {
    "collapsed": true
   },
   "outputs": [],
   "source": []
  }
 ],
 "metadata": {
  "kernelspec": {
   "display_name": "Python 3",
   "language": "python",
   "name": "python3"
  },
  "language_info": {
   "codemirror_mode": {
    "name": "ipython",
    "version": 3
   },
   "file_extension": ".py",
   "mimetype": "text/x-python",
   "name": "python",
   "nbconvert_exporter": "python",
   "pygments_lexer": "ipython3",
   "version": "3.6.1"
  },
  "widgets": {
   "state": {},
   "version": "1.1.1"
  }
 },
 "nbformat": 4,
 "nbformat_minor": 1
}
