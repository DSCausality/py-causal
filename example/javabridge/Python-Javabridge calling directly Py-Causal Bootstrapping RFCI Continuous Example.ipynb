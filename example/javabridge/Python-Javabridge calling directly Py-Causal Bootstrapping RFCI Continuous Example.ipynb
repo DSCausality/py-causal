{
 "cells": [
  {
   "cell_type": "code",
   "execution_count": 1,
   "metadata": {
    "collapsed": true
   },
   "outputs": [],
   "source": [
    "import javabridge\n",
    "import os\n",
    "import glob\n",
    "import pandas as pd\n",
    "import pydot"
   ]
  },
  {
   "cell_type": "code",
   "execution_count": 2,
   "metadata": {},
   "outputs": [
    {
     "name": "stdout",
     "output_type": "stream",
     "text": [
      "/home/jovyan/py-causal/example/javabridge/../../src/pycausal/lib/causal-cmd-0.2.0-SNAPSHOT.jar\n",
      "/home/jovyan/py-causal/example/javabridge/../../src/pycausal/lib/tetrad-lib-6.4.0-SNAPSHOT-tetradcmd.jar\n",
      "/home/jovyan/py-causal/example/javabridge/../../src/pycausal/lib/data-reader-0.2.0-SNAPSHOT.jar\n"
     ]
    }
   ],
   "source": [
    "tetrad_libdir = os.path.join(os.getcwd(), '../../','src', 'pycausal', 'lib')\n",
    "for l in glob.glob(tetrad_libdir + os.sep + \"*.jar\"):\n",
    "    print l\n",
    "    javabridge.JARS.append(str(l))"
   ]
  },
  {
   "cell_type": "code",
   "execution_count": 3,
   "metadata": {},
   "outputs": [
    {
     "data": {
      "text/plain": [
       "<JB_Env at 0x209d9e0>"
      ]
     },
     "execution_count": 3,
     "metadata": {},
     "output_type": "execute_result"
    }
   ],
   "source": [
    "javabridge.start_vm(run_headless=True, max_heap_size = '100M')\n",
    "javabridge.attach()"
   ]
  },
  {
   "cell_type": "code",
   "execution_count": 4,
   "metadata": {},
   "outputs": [
    {
     "data": {
      "text/plain": [
       "'/home/jovyan/py-causal/example/javabridge/../../data/charity.txt'"
      ]
     },
     "execution_count": 4,
     "metadata": {},
     "output_type": "execute_result"
    }
   ],
   "source": [
    "data_dir = os.path.join(os.getcwd(), '../../','data', 'charity.txt')\n",
    "data_dir"
   ]
  },
  {
   "cell_type": "code",
   "execution_count": 5,
   "metadata": {},
   "outputs": [
    {
     "data": {
      "text/html": [
       "<div>\n",
       "<table border=\"1\" class=\"dataframe\">\n",
       "  <thead>\n",
       "    <tr style=\"text-align: right;\">\n",
       "      <th></th>\n",
       "      <th>TangibilityCondition</th>\n",
       "      <th>AmountDonated</th>\n",
       "      <th>Sympathy</th>\n",
       "      <th>Imaginability</th>\n",
       "      <th>Impact</th>\n",
       "    </tr>\n",
       "  </thead>\n",
       "  <tbody>\n",
       "    <tr>\n",
       "      <th>0</th>\n",
       "      <td>1.0</td>\n",
       "      <td>0.0</td>\n",
       "      <td>7.0</td>\n",
       "      <td>4.0</td>\n",
       "      <td>4.5</td>\n",
       "    </tr>\n",
       "    <tr>\n",
       "      <th>1</th>\n",
       "      <td>1.0</td>\n",
       "      <td>0.0</td>\n",
       "      <td>2.0</td>\n",
       "      <td>2.0</td>\n",
       "      <td>2.0</td>\n",
       "    </tr>\n",
       "    <tr>\n",
       "      <th>2</th>\n",
       "      <td>1.0</td>\n",
       "      <td>0.0</td>\n",
       "      <td>7.0</td>\n",
       "      <td>3.0</td>\n",
       "      <td>3.0</td>\n",
       "    </tr>\n",
       "    <tr>\n",
       "      <th>3</th>\n",
       "      <td>1.0</td>\n",
       "      <td>0.0</td>\n",
       "      <td>4.0</td>\n",
       "      <td>3.0</td>\n",
       "      <td>4.5</td>\n",
       "    </tr>\n",
       "    <tr>\n",
       "      <th>4</th>\n",
       "      <td>1.0</td>\n",
       "      <td>0.0</td>\n",
       "      <td>3.0</td>\n",
       "      <td>7.0</td>\n",
       "      <td>1.0</td>\n",
       "    </tr>\n",
       "  </tbody>\n",
       "</table>\n",
       "</div>"
      ],
      "text/plain": [
       "   TangibilityCondition  AmountDonated  Sympathy  Imaginability  Impact\n",
       "0                   1.0            0.0       7.0            4.0     4.5\n",
       "1                   1.0            0.0       2.0            2.0     2.0\n",
       "2                   1.0            0.0       7.0            3.0     3.0\n",
       "3                   1.0            0.0       4.0            3.0     4.5\n",
       "4                   1.0            0.0       3.0            7.0     1.0"
      ]
     },
     "execution_count": 5,
     "metadata": {},
     "output_type": "execute_result"
    }
   ],
   "source": [
    "dframe = pd.read_table(data_dir, sep=\"\\t\")\n",
    "dframe.head()"
   ]
  },
  {
   "cell_type": "code",
   "execution_count": 6,
   "metadata": {
    "collapsed": true
   },
   "outputs": [],
   "source": [
    "node_list = javabridge.JClassWrapper(\"java.util.ArrayList\")()\n",
    "# load dataset\n",
    "for col in dframe.columns:\n",
    "    nodi = javabridge.JClassWrapper(\"edu.cmu.tetrad.data.ContinuousVariable\") (col)\n",
    "    node_list.add(nodi)"
   ]
  },
  {
   "cell_type": "code",
   "execution_count": 7,
   "metadata": {
    "collapsed": true
   },
   "outputs": [],
   "source": [
    "dataBox = javabridge.JClassWrapper(\"edu.cmu.tetrad.data.DoubleDataBox\")(len(dframe.index),dframe.columns.size)"
   ]
  },
  {
   "cell_type": "code",
   "execution_count": 8,
   "metadata": {
    "collapsed": true
   },
   "outputs": [],
   "source": [
    "for col in range(0,dframe.columns.size):\n",
    "    for row in dframe.index:\n",
    "        value = javabridge.JClassWrapper(\"java.lang.Double\")(dframe.ix[row][col])\n",
    "        dataBox.set(row,col,value)"
   ]
  },
  {
   "cell_type": "code",
   "execution_count": 9,
   "metadata": {
    "collapsed": true
   },
   "outputs": [],
   "source": [
    "boxData = javabridge.JClassWrapper(\"edu.cmu.tetrad.data.BoxDataSet\")(dataBox, node_list)"
   ]
  },
  {
   "cell_type": "code",
   "execution_count": 10,
   "metadata": {
    "collapsed": true
   },
   "outputs": [],
   "source": [
    "alpha = 0.05\n",
    "depth = -1\n",
    "verbose = True\n",
    "numBootstrap = 5\n",
    "ensembleMethod = 'Preserved'"
   ]
  },
  {
   "cell_type": "code",
   "execution_count": 11,
   "metadata": {
    "collapsed": true
   },
   "outputs": [],
   "source": [
    "indTest = javabridge.JClassWrapper('edu.cmu.tetrad.algcomparison.independence.FisherZ')()\n",
    "algorithm = javabridge.JClassWrapper('edu.cmu.tetrad.algcomparison.algorithm.oracle.pag.Rfci')(indTest)"
   ]
  },
  {
   "cell_type": "code",
   "execution_count": 12,
   "metadata": {
    "collapsed": true
   },
   "outputs": [],
   "source": [
    "parameters = javabridge.JClassWrapper('edu.cmu.tetrad.util.Parameters')()\n",
    "parameters.set('depth', depth)\n",
    "parameters.set('alpha', alpha)\n",
    "parameters.set('verbose', verbose)"
   ]
  },
  {
   "cell_type": "code",
   "execution_count": 13,
   "metadata": {
    "collapsed": true
   },
   "outputs": [],
   "source": [
    "rfci = javabridge.JClassWrapper('edu.pitt.dbmi.algo.bootstrap.GeneralBootstrapTest')(boxData, algorithm, numBootstrap)"
   ]
  },
  {
   "cell_type": "code",
   "execution_count": 14,
   "metadata": {
    "collapsed": true
   },
   "outputs": [],
   "source": [
    "edgeEnsemble = javabridge.get_static_field('edu/pitt/dbmi/algo/bootstrap/BootstrapEdgeEnsemble',\n",
    "                                               ensembleMethod,\n",
    "                                               'Ledu/pitt/dbmi/algo/bootstrap/BootstrapEdgeEnsemble;')\n",
    "rfci.setEdgeEnsemble(edgeEnsemble)\n",
    "rfci.setParameters(parameters)"
   ]
  },
  {
   "cell_type": "code",
   "execution_count": 15,
   "metadata": {},
   "outputs": [
    {
     "data": {
      "text/plain": [
       "Instance of edu.cmu.tetrad.data.Knowledge2: /knowledge\n",
       "addtemporal\n",
       "\n",
       "0* Imaginability TangibilityCondition \n",
       "1 AmountDonated Sympathy \n",
       "2 Impact \n",
       "\n",
       "forbiddirect\n",
       "\n",
       "TangibilityCondition ==> Impact \n",
       "requiredirect\n",
       "\n",
       "Sympathy ==> TangibilityCondition "
      ]
     },
     "execution_count": 15,
     "metadata": {},
     "output_type": "execute_result"
    }
   ],
   "source": [
    "prior = javabridge.JClassWrapper('edu.cmu.tetrad.data.Knowledge2')()\n",
    "prior.setForbidden('TangibilityCondition', 'Impact') # forbidden directed edges\n",
    "prior.setRequired('Sympathy','TangibilityCondition') # required directed edges\n",
    "prior.setTierForbiddenWithin(0, True)\n",
    "prior.addToTier(0, 'TangibilityCondition')\n",
    "prior.addToTier(0, 'Imaginability')\n",
    "prior.addToTier(1, 'Sympathy')\n",
    "prior.addToTier(1, 'AmountDonated')\n",
    "prior.addToTier(2, 'Impact')\n",
    "rfci.setKnowledge(prior)\n",
    "prior"
   ]
  },
  {
   "cell_type": "code",
   "execution_count": 16,
   "metadata": {},
   "outputs": [
    {
     "data": {
      "text/plain": [
       "Instance of edu.cmu.tetrad.graph.EdgeListGraph: Graph Nodes:\n",
       "TangibilityCondition,AmountDonated,Sympathy,Imaginability,Impact\n",
       "\n",
       "Graph Edges:\n",
       "1. AmountDonated o-o Impact [no edge]:0.2000[-->]:0.0000[<--]:0.0000[o->]:0.0000[<-o]:0.0000[o-o]:0.8000[<->]:0.0000[---]:0.0000 [no edge]:0.2000 [-->]:0.0000 [<--]:0.0000 [o->]:0.0000 [<-o]:0.0000 [o-o]:0.8000 [<->]:0.0000 [---]:0.0000 \n",
       "2. AmountDonated o-> Sympathy [no edge]:0.6000[-->]:0.0000[<--]:0.0000[o->]:0.4000[<-o]:0.0000[o-o]:0.0000[<->]:0.0000[---]:0.0000 [no edge]:0.6000 [-->]:0.0000 [<--]:0.0000 [o->]:0.4000 [<-o]:0.0000 [o-o]:0.0000 [<->]:0.0000 [---]:0.0000 \n",
       "3. Imaginability o-o Impact [no edge]:0.0000[-->]:0.0000[<--]:0.2000[o->]:0.0000[<-o]:0.0000[o-o]:0.8000[<->]:0.0000[---]:0.0000 [no edge]:0.0000 [-->]:0.0000 [<--]:0.2000 [o->]:0.0000 [<-o]:0.0000 [o-o]:0.8000 [<->]:0.0000 [---]:0.0000 \n",
       "4. Impact o-> Sympathy [no edge]:0.0000[-->]:0.2000[<--]:0.0000[o->]:0.0000[<-o]:0.8000[o-o]:0.0000[<->]:0.0000[---]:0.0000 [no edge]:0.0000 [-->]:0.2000 [<--]:0.0000 [o->]:0.0000 [<-o]:0.8000 [o-o]:0.0000 [<->]:0.0000 [---]:0.0000 \n",
       "5. TangibilityCondition o-> Sympathy [no edge]:0.0000[-->]:0.0000[<--]:0.0000[o->]:1.0000[<-o]:0.0000[o-o]:0.0000[<->]:0.0000[---]:0.0000 [no edge]:0.0000 [-->]:0.0000 [<--]:0.0000 [o->]:1.0000 [<-o]:0.0000 [o-o]:0.0000 [<->]:0.0000 [---]:0.0000 "
      ]
     },
     "execution_count": 16,
     "metadata": {},
     "output_type": "execute_result"
    }
   ],
   "source": [
    "tetradGraph = rfci.search()\n",
    "tetradGraph"
   ]
  },
  {
   "cell_type": "code",
   "execution_count": 17,
   "metadata": {},
   "outputs": [
    {
     "data": {
      "text/plain": [
       "u'Graph Nodes:\\nTangibilityCondition,AmountDonated,Sympathy,Imaginability,Impact\\n\\nGraph Edges:\\n1. AmountDonated o-o Impact [no edge]:0.2000[-->]:0.0000[<--]:0.0000[o->]:0.0000[<-o]:0.0000[o-o]:0.8000[<->]:0.0000[---]:0.0000 [no edge]:0.2000 [-->]:0.0000 [<--]:0.0000 [o->]:0.0000 [<-o]:0.0000 [o-o]:0.8000 [<->]:0.0000 [---]:0.0000 \\n2. AmountDonated o-> Sympathy [no edge]:0.6000[-->]:0.0000[<--]:0.0000[o->]:0.4000[<-o]:0.0000[o-o]:0.0000[<->]:0.0000[---]:0.0000 [no edge]:0.6000 [-->]:0.0000 [<--]:0.0000 [o->]:0.4000 [<-o]:0.0000 [o-o]:0.0000 [<->]:0.0000 [---]:0.0000 \\n3. Imaginability o-o Impact [no edge]:0.0000[-->]:0.0000[<--]:0.2000[o->]:0.0000[<-o]:0.0000[o-o]:0.8000[<->]:0.0000[---]:0.0000 [no edge]:0.0000 [-->]:0.0000 [<--]:0.2000 [o->]:0.0000 [<-o]:0.0000 [o-o]:0.8000 [<->]:0.0000 [---]:0.0000 \\n4. Impact o-> Sympathy [no edge]:0.0000[-->]:0.2000[<--]:0.0000[o->]:0.0000[<-o]:0.8000[o-o]:0.0000[<->]:0.0000[---]:0.0000 [no edge]:0.0000 [-->]:0.2000 [<--]:0.0000 [o->]:0.0000 [<-o]:0.8000 [o-o]:0.0000 [<->]:0.0000 [---]:0.0000 \\n5. TangibilityCondition o-> Sympathy [no edge]:0.0000[-->]:0.0000[<--]:0.0000[o->]:1.0000[<-o]:0.0000[o-o]:0.0000[<->]:0.0000[---]:0.0000 [no edge]:0.0000 [-->]:0.0000 [<--]:0.0000 [o->]:1.0000 [<-o]:0.0000 [o-o]:0.0000 [<->]:0.0000 [---]:0.0000 \\n'"
      ]
     },
     "execution_count": 17,
     "metadata": {},
     "output_type": "execute_result"
    }
   ],
   "source": [
    "tetradGraph.toString()"
   ]
  },
  {
   "cell_type": "code",
   "execution_count": 18,
   "metadata": {},
   "outputs": [
    {
     "data": {
      "text/plain": [
       "Instance of java.util.ArrayList: [TangibilityCondition, AmountDonated, Sympathy, Imaginability, Impact]"
      ]
     },
     "execution_count": 18,
     "metadata": {},
     "output_type": "execute_result"
    }
   ],
   "source": [
    "tetradGraph.getNodeNames()"
   ]
  },
  {
   "cell_type": "code",
   "execution_count": 19,
   "metadata": {},
   "outputs": [
    {
     "data": {
      "text/plain": [
       "Instance of java.util.HashSet: [TangibilityCondition o-> Sympathy [no edge]:0.0000[-->]:0.0000[<--]:0.0000[o->]:1.0000[<-o]:0.0000[o-o]:0.0000[<->]:0.0000[---]:0.0000, AmountDonated o-> Sympathy [no edge]:0.6000[-->]:0.0000[<--]:0.0000[o->]:0.4000[<-o]:0.0000[o-o]:0.0000[<->]:0.0000[---]:0.0000, Impact o-> Sympathy [no edge]:0.0000[-->]:0.2000[<--]:0.0000[o->]:0.0000[<-o]:0.8000[o-o]:0.0000[<->]:0.0000[---]:0.0000, AmountDonated o-o Impact [no edge]:0.2000[-->]:0.0000[<--]:0.0000[o->]:0.0000[<-o]:0.0000[o-o]:0.8000[<->]:0.0000[---]:0.0000, Imaginability o-o Impact [no edge]:0.0000[-->]:0.0000[<--]:0.2000[o->]:0.0000[<-o]:0.0000[o-o]:0.8000[<->]:0.0000[---]:0.0000]"
      ]
     },
     "execution_count": 19,
     "metadata": {},
     "output_type": "execute_result"
    }
   ],
   "source": [
    "tetradGraph.getEdges()"
   ]
  },
  {
   "cell_type": "code",
   "execution_count": 20,
   "metadata": {
    "collapsed": true
   },
   "outputs": [],
   "source": [
    "javabridge.detach()\n",
    "javabridge.kill_vm()"
   ]
  },
  {
   "cell_type": "code",
   "execution_count": null,
   "metadata": {
    "collapsed": true
   },
   "outputs": [],
   "source": []
  }
 ],
 "metadata": {
  "kernelspec": {
   "display_name": "Python 2",
   "language": "python",
   "name": "python2"
  },
  "language_info": {
   "codemirror_mode": {
    "name": "ipython",
    "version": 2
   },
   "file_extension": ".py",
   "mimetype": "text/x-python",
   "name": "python",
   "nbconvert_exporter": "python",
   "pygments_lexer": "ipython2",
   "version": "2.7.13"
  },
  "widgets": {
   "state": {},
   "version": "1.1.1"
  }
 },
 "nbformat": 4,
 "nbformat_minor": 1
}
