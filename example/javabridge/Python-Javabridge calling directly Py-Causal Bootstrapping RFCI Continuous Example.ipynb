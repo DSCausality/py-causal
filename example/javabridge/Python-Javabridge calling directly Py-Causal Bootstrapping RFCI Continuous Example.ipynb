{
 "cells": [
  {
   "cell_type": "code",
   "execution_count": 1,
   "metadata": {
    "collapsed": true
   },
   "outputs": [],
   "source": [
    "import javabridge\n",
    "import os\n",
    "import glob\n",
    "import pandas as pd\n",
    "import pydot\n",
    "from IPython.display import SVG"
   ]
  },
  {
   "cell_type": "code",
   "execution_count": 2,
   "metadata": {},
   "outputs": [
    {
     "name": "stdout",
     "output_type": "stream",
     "text": [
      "/home/jovyan/py-causal/example/javabridge/../../src/pycausal/lib/tetrad-lib-6.4.0-SNAPSHOT-tetradcmd.jar\n",
      "/home/jovyan/py-causal/example/javabridge/../../src/pycausal/lib/data-reader-0.2.3-SNAPSHOT.jar\n"
     ]
    }
   ],
   "source": [
    "tetrad_libdir = os.path.join(os.getcwd(), '../../','src', 'pycausal', 'lib')\n",
    "for l in glob.glob(tetrad_libdir + os.sep + \"*.jar\"):\n",
    "    print (l)\n",
    "    javabridge.JARS.append(str(l))"
   ]
  },
  {
   "cell_type": "code",
   "execution_count": 3,
   "metadata": {},
   "outputs": [
    {
     "data": {
      "text/plain": [
       "<JB_Env at 0x16001e0>"
      ]
     },
     "execution_count": 3,
     "metadata": {},
     "output_type": "execute_result"
    }
   ],
   "source": [
    "javabridge.start_vm(run_headless=True, max_heap_size = '100M')\n",
    "javabridge.attach()"
   ]
  },
  {
   "cell_type": "code",
   "execution_count": 4,
   "metadata": {},
   "outputs": [
    {
     "data": {
      "text/plain": [
       "'/home/jovyan/py-causal/example/javabridge/../../data/charity.txt'"
      ]
     },
     "execution_count": 4,
     "metadata": {},
     "output_type": "execute_result"
    }
   ],
   "source": [
    "data_dir = os.path.join(os.getcwd(), '../../','data', 'charity.txt')\n",
    "data_dir"
   ]
  },
  {
   "cell_type": "code",
   "execution_count": 5,
   "metadata": {},
   "outputs": [
    {
     "data": {
      "text/html": [
       "<div>\n",
       "<table border=\"1\" class=\"dataframe\">\n",
       "  <thead>\n",
       "    <tr style=\"text-align: right;\">\n",
       "      <th></th>\n",
       "      <th>TangibilityCondition</th>\n",
       "      <th>AmountDonated</th>\n",
       "      <th>Sympathy</th>\n",
       "      <th>Imaginability</th>\n",
       "      <th>Impact</th>\n",
       "    </tr>\n",
       "  </thead>\n",
       "  <tbody>\n",
       "    <tr>\n",
       "      <th>0</th>\n",
       "      <td>1.0</td>\n",
       "      <td>0.0</td>\n",
       "      <td>7.0</td>\n",
       "      <td>4.0</td>\n",
       "      <td>4.5</td>\n",
       "    </tr>\n",
       "    <tr>\n",
       "      <th>1</th>\n",
       "      <td>1.0</td>\n",
       "      <td>0.0</td>\n",
       "      <td>2.0</td>\n",
       "      <td>2.0</td>\n",
       "      <td>2.0</td>\n",
       "    </tr>\n",
       "    <tr>\n",
       "      <th>2</th>\n",
       "      <td>1.0</td>\n",
       "      <td>0.0</td>\n",
       "      <td>7.0</td>\n",
       "      <td>3.0</td>\n",
       "      <td>3.0</td>\n",
       "    </tr>\n",
       "    <tr>\n",
       "      <th>3</th>\n",
       "      <td>1.0</td>\n",
       "      <td>0.0</td>\n",
       "      <td>4.0</td>\n",
       "      <td>3.0</td>\n",
       "      <td>4.5</td>\n",
       "    </tr>\n",
       "    <tr>\n",
       "      <th>4</th>\n",
       "      <td>1.0</td>\n",
       "      <td>0.0</td>\n",
       "      <td>3.0</td>\n",
       "      <td>7.0</td>\n",
       "      <td>1.0</td>\n",
       "    </tr>\n",
       "  </tbody>\n",
       "</table>\n",
       "</div>"
      ],
      "text/plain": [
       "   TangibilityCondition  AmountDonated  Sympathy  Imaginability  Impact\n",
       "0                   1.0            0.0       7.0            4.0     4.5\n",
       "1                   1.0            0.0       2.0            2.0     2.0\n",
       "2                   1.0            0.0       7.0            3.0     3.0\n",
       "3                   1.0            0.0       4.0            3.0     4.5\n",
       "4                   1.0            0.0       3.0            7.0     1.0"
      ]
     },
     "execution_count": 5,
     "metadata": {},
     "output_type": "execute_result"
    }
   ],
   "source": [
    "dframe = pd.read_table(data_dir, sep=\"\\t\")\n",
    "dframe.head()"
   ]
  },
  {
   "cell_type": "code",
   "execution_count": 6,
   "metadata": {
    "collapsed": true
   },
   "outputs": [],
   "source": [
    "node_list = javabridge.JClassWrapper(\"java.util.ArrayList\")()\n",
    "# load dataset\n",
    "for col in dframe.columns:\n",
    "    nodi = javabridge.JClassWrapper(\"edu.cmu.tetrad.data.ContinuousVariable\") (col)\n",
    "    node_list.add(nodi)"
   ]
  },
  {
   "cell_type": "code",
   "execution_count": 7,
   "metadata": {
    "collapsed": true
   },
   "outputs": [],
   "source": [
    "dataBox = javabridge.JClassWrapper(\"edu.cmu.tetrad.data.DoubleDataBox\")(len(dframe.index),dframe.columns.size)"
   ]
  },
  {
   "cell_type": "code",
   "execution_count": 8,
   "metadata": {
    "collapsed": true
   },
   "outputs": [],
   "source": [
    "for col in range(0,dframe.columns.size):\n",
    "    for row in dframe.index:\n",
    "        value = javabridge.JClassWrapper(\"java.lang.Double\")(dframe.iloc[row,col])\n",
    "        dataBox.set(row,col,value)"
   ]
  },
  {
   "cell_type": "code",
   "execution_count": 9,
   "metadata": {
    "collapsed": true
   },
   "outputs": [],
   "source": [
    "boxData = javabridge.JClassWrapper(\"edu.cmu.tetrad.data.BoxDataSet\")(dataBox, node_list)"
   ]
  },
  {
   "cell_type": "code",
   "execution_count": 10,
   "metadata": {
    "collapsed": true
   },
   "outputs": [],
   "source": [
    "alpha = 0.05\n",
    "depth = -1\n",
    "verbose = True\n",
    "numBootstrap = 5\n",
    "ensembleMethod = 'Preserved'"
   ]
  },
  {
   "cell_type": "code",
   "execution_count": 11,
   "metadata": {
    "collapsed": true
   },
   "outputs": [],
   "source": [
    "indTest = javabridge.JClassWrapper('edu.cmu.tetrad.algcomparison.independence.FisherZ')()\n",
    "algorithm = javabridge.JClassWrapper('edu.cmu.tetrad.algcomparison.algorithm.oracle.pag.Rfci')(indTest)"
   ]
  },
  {
   "cell_type": "code",
   "execution_count": 12,
   "metadata": {
    "collapsed": true
   },
   "outputs": [],
   "source": [
    "parameters = javabridge.JClassWrapper('edu.cmu.tetrad.util.Parameters')()\n",
    "parameters.set('depth', depth)\n",
    "parameters.set('alpha', alpha)\n",
    "parameters.set('verbose', verbose)"
   ]
  },
  {
   "cell_type": "code",
   "execution_count": 13,
   "metadata": {
    "collapsed": true
   },
   "outputs": [],
   "source": [
    "rfci = javabridge.JClassWrapper('edu.pitt.dbmi.algo.bootstrap.GeneralBootstrapTest')(boxData, algorithm, numBootstrap)"
   ]
  },
  {
   "cell_type": "code",
   "execution_count": 14,
   "metadata": {
    "collapsed": true
   },
   "outputs": [],
   "source": [
    "edgeEnsemble = javabridge.get_static_field('edu/pitt/dbmi/algo/bootstrap/BootstrapEdgeEnsemble',\n",
    "                                               ensembleMethod,\n",
    "                                               'Ledu/pitt/dbmi/algo/bootstrap/BootstrapEdgeEnsemble;')\n",
    "rfci.setEdgeEnsemble(edgeEnsemble)\n",
    "rfci.setParameters(parameters)"
   ]
  },
  {
   "cell_type": "code",
   "execution_count": 15,
   "metadata": {},
   "outputs": [
    {
     "data": {
      "text/plain": [
       "Instance of edu.cmu.tetrad.data.Knowledge2: /knowledge\n",
       "addtemporal\n",
       "\n",
       "0* Imaginability TangibilityCondition \n",
       "1 AmountDonated Sympathy \n",
       "2 Impact \n",
       "\n",
       "forbiddirect\n",
       "\n",
       "TangibilityCondition ==> Impact \n",
       "requiredirect\n",
       "\n",
       "Sympathy ==> TangibilityCondition "
      ]
     },
     "execution_count": 15,
     "metadata": {},
     "output_type": "execute_result"
    }
   ],
   "source": [
    "prior = javabridge.JClassWrapper('edu.cmu.tetrad.data.Knowledge2')()\n",
    "prior.setForbidden('TangibilityCondition', 'Impact') # forbidden directed edges\n",
    "prior.setRequired('Sympathy','TangibilityCondition') # required directed edges\n",
    "prior.setTierForbiddenWithin(0, True)\n",
    "prior.addToTier(0, 'TangibilityCondition')\n",
    "prior.addToTier(0, 'Imaginability')\n",
    "prior.addToTier(1, 'Sympathy')\n",
    "prior.addToTier(1, 'AmountDonated')\n",
    "prior.addToTier(2, 'Impact')\n",
    "rfci.setKnowledge(prior)\n",
    "prior"
   ]
  },
  {
   "cell_type": "code",
   "execution_count": 16,
   "metadata": {},
   "outputs": [
    {
     "data": {
      "text/plain": [
       "Instance of edu.cmu.tetrad.graph.EdgeListGraph: Graph Nodes:\n",
       "AmountDonated,Imaginability,Impact,Sympathy,TangibilityCondition\n",
       "\n",
       "Graph Edges:\n",
       "1. AmountDonated o-> Impact [no edge]:0.8000[-->]:0.0000[<--]:0.0000[o->]:0.2000[<-o]:0.0000[o-o]:0.0000[<->]:0.0000[---]:0.0000\n",
       "2. AmountDonated o-o Sympathy [no edge]:0.0000[-->]:0.0000[<--]:0.4000[o->]:0.0000[<-o]:0.0000[o-o]:0.6000[<->]:0.0000[---]:0.0000\n",
       "3. Imaginability o-> Impact [no edge]:0.0000[-->]:0.0000[<--]:0.0000[o->]:1.0000[<-o]:0.0000[o-o]:0.0000[<->]:0.0000[---]:0.0000\n",
       "4. Imaginability o-> Sympathy [no edge]:0.6000[-->]:0.0000[<--]:0.0000[o->]:0.4000[<-o]:0.0000[o-o]:0.0000[<->]:0.0000[---]:0.0000\n",
       "5. Sympathy o-> Impact [no edge]:0.0000[-->]:0.0000[<--]:0.0000[o->]:0.0000[<-o]:1.0000[o-o]:0.0000[<->]:0.0000[---]:0.0000\n",
       "6. Sympathy --> TangibilityCondition [no edge]:0.0000[-->]:1.0000[<--]:0.0000[o->]:0.0000[<-o]:0.0000[o-o]:0.0000[<->]:0.0000[---]:0.0000"
      ]
     },
     "execution_count": 16,
     "metadata": {},
     "output_type": "execute_result"
    }
   ],
   "source": [
    "tetradGraph = rfci.search()\n",
    "tetradGraph"
   ]
  },
  {
   "cell_type": "code",
   "execution_count": 17,
   "metadata": {},
   "outputs": [
    {
     "data": {
      "text/plain": [
       "'Graph Nodes:\\nAmountDonated,Imaginability,Impact,Sympathy,TangibilityCondition\\n\\nGraph Edges:\\n1. AmountDonated o-> Impact [no edge]:0.8000[-->]:0.0000[<--]:0.0000[o->]:0.2000[<-o]:0.0000[o-o]:0.0000[<->]:0.0000[---]:0.0000\\n2. AmountDonated o-o Sympathy [no edge]:0.0000[-->]:0.0000[<--]:0.4000[o->]:0.0000[<-o]:0.0000[o-o]:0.6000[<->]:0.0000[---]:0.0000\\n3. Imaginability o-> Impact [no edge]:0.0000[-->]:0.0000[<--]:0.0000[o->]:1.0000[<-o]:0.0000[o-o]:0.0000[<->]:0.0000[---]:0.0000\\n4. Imaginability o-> Sympathy [no edge]:0.6000[-->]:0.0000[<--]:0.0000[o->]:0.4000[<-o]:0.0000[o-o]:0.0000[<->]:0.0000[---]:0.0000\\n5. Sympathy o-> Impact [no edge]:0.0000[-->]:0.0000[<--]:0.0000[o->]:0.0000[<-o]:1.0000[o-o]:0.0000[<->]:0.0000[---]:0.0000\\n6. Sympathy --> TangibilityCondition [no edge]:0.0000[-->]:1.0000[<--]:0.0000[o->]:0.0000[<-o]:0.0000[o-o]:0.0000[<->]:0.0000[---]:0.0000\\n'"
      ]
     },
     "execution_count": 17,
     "metadata": {},
     "output_type": "execute_result"
    }
   ],
   "source": [
    "tetradGraph.toString()"
   ]
  },
  {
   "cell_type": "code",
   "execution_count": 18,
   "metadata": {},
   "outputs": [
    {
     "data": {
      "text/plain": [
       "Instance of java.util.ArrayList: [AmountDonated, Imaginability, Impact, Sympathy, TangibilityCondition]"
      ]
     },
     "execution_count": 18,
     "metadata": {},
     "output_type": "execute_result"
    }
   ],
   "source": [
    "tetradGraph.getNodeNames()"
   ]
  },
  {
   "cell_type": "code",
   "execution_count": 19,
   "metadata": {},
   "outputs": [
    {
     "data": {
      "text/plain": [
       "Instance of java.util.HashSet: [AmountDonated o-o Sympathy [no edge]:0.0000[-->]:0.0000[<--]:0.4000[o->]:0.0000[<-o]:0.0000[o-o]:0.6000[<->]:0.0000[---]:0.0000, Sympathy o-> Impact [no edge]:0.0000[-->]:0.0000[<--]:0.0000[o->]:0.0000[<-o]:1.0000[o-o]:0.0000[<->]:0.0000[---]:0.0000, Sympathy --> TangibilityCondition [no edge]:0.0000[-->]:1.0000[<--]:0.0000[o->]:0.0000[<-o]:0.0000[o-o]:0.0000[<->]:0.0000[---]:0.0000, AmountDonated o-> Impact [no edge]:0.8000[-->]:0.0000[<--]:0.0000[o->]:0.2000[<-o]:0.0000[o-o]:0.0000[<->]:0.0000[---]:0.0000, Imaginability o-> Sympathy [no edge]:0.6000[-->]:0.0000[<--]:0.0000[o->]:0.4000[<-o]:0.0000[o-o]:0.0000[<->]:0.0000[---]:0.0000, Imaginability o-> Impact [no edge]:0.0000[-->]:0.0000[<--]:0.0000[o->]:1.0000[<-o]:0.0000[o-o]:0.0000[<->]:0.0000[---]:0.0000]"
      ]
     },
     "execution_count": 19,
     "metadata": {},
     "output_type": "execute_result"
    }
   ],
   "source": [
    "tetradGraph.getEdges()"
   ]
  },
  {
   "cell_type": "code",
   "execution_count": 20,
   "metadata": {
    "collapsed": true
   },
   "outputs": [],
   "source": [
    "graph = pydot.Dot(graph_type='digraph')\n",
    "\n",
    "# causal search and get edges\n",
    "tetradString = tetradGraph.toString()\n",
    "graph_edges = []\n",
    "token = tetradString.split('\\n')\n",
    "for edge in token[4:-1]:\n",
    "    if len(str(edge).split('. ')) > 1:\n",
    "        graph_edges.append(str(edge).split('. ')[1])\n",
    "\n",
    "# gets the nodes in sorted order\n",
    "nodes_sorted = str(token[1]).split(',')\n",
    "nodes_sorted.sort()\n",
    "\n",
    "# create dictionaries of the nodes and edges\n",
    "nodes = {}\n",
    "edges = {}\n",
    "bootstraps = {}\n",
    "for edge in graph_edges:\n",
    "    token = str(edge).split()\n",
    "    n1 = token[0]\n",
    "    arc = token[1]\n",
    "    n2 = token[2]\n",
    "    if n1 not in nodes: nodes[n1] = []\n",
    "    if n2 not in nodes: nodes[n2] = []\n",
    "    nodes[n1].append(n2)\n",
    "    nodes[n2].append(n1)\n",
    "    edges[n1, n2] = n1 + ' ' + arc + ' ' + n2\n",
    "    if len(str(edge)) > 100:\n",
    "        bootstraps[n1, n2] = str(edge[-100:])\n",
    "\n",
    "# graph plot the variables and edges\n",
    "for v0 in nodes.keys():\n",
    "    for v1 in nodes.keys():\n",
    "        if (v0, v1) in edges.keys():\n",
    "            arc = edges[v0, v1].split()[1]\n",
    "            edge = pydot.Edge(v0, v1)\n",
    "            if(arc[0] != \"-\"):\n",
    "                edge.set_dir(\"both\")\n",
    "            \n",
    "            if(arc[0] == \"o\"):\n",
    "                edge.set_arrowtail(\"odot\")\n",
    "            elif(arc[0] == \"<\"):\n",
    "                edge.set_arrowtail(\"normal\")\n",
    "\n",
    "            if(arc[2] == \"-\"):\n",
    "                edge.set_arrowhead(\"none\")\n",
    "            elif(arc[2] == \"o\"):\n",
    "                edge.set_arrowhead(\"odot\")\n",
    "            else:\n",
    "                edge.set_arrowhead(\"normal\")\n",
    "\n",
    "            if len(bootstraps) > 0:\n",
    "                # nodes reported in sorted order\n",
    "                if nodes_sorted.index(v0) < nodes_sorted.index(v1): \n",
    "                    label = v0 + ' - ' + v1 + '\\n' \n",
    "                else:\n",
    "                    label = v1 + ' - ' + v0 + '\\n'            \n",
    "\n",
    "                # Bootstrapping distribution\n",
    "                # [no edge]\n",
    "                if '0.0000' not in bootstraps[v0, v1][0:16]:\n",
    "                    label += bootstraps[v0, v1][0:16] + '\\n'\n",
    "                for i in range(0,7):\n",
    "                    e = bootstraps[v0, v1][16+i*12:28+i*12]\n",
    "                    if '0.0000' not in e:                    \n",
    "                        label += e + '\\n'\n",
    "\n",
    "                edge.set('fontname', 'courier')\n",
    "                edge.set('label', label)\n",
    "\n",
    "            graph.add_edge(edge)"
   ]
  },
  {
   "cell_type": "code",
   "execution_count": 21,
   "metadata": {},
   "outputs": [
    {
     "data": {
      "image/svg+xml": [
       "<svg height=\"272pt\" viewBox=\"0.00 0.00 937.14 272.00\" width=\"937pt\" xmlns=\"http://www.w3.org/2000/svg\" xmlns:xlink=\"http://www.w3.org/1999/xlink\">\n",
       "<g class=\"graph\" id=\"graph0\" transform=\"scale(1 1) rotate(0) translate(4 268)\">\n",
       "<title>G</title>\n",
       "<polygon fill=\"white\" points=\"-4,4 -4,-268 933.142,-268 933.142,4 -4,4\" stroke=\"none\"/>\n",
       "<!-- AmountDonated -->\n",
       "<g class=\"node\" id=\"node1\"><title>AmountDonated</title>\n",
       "<ellipse cx=\"634.142\" cy=\"-246\" fill=\"none\" rx=\"69.5877\" ry=\"18\" stroke=\"black\"/>\n",
       "<text font-family=\"Times,serif\" font-size=\"14.00\" text-anchor=\"middle\" x=\"634.142\" y=\"-242.3\">AmountDonated</text>\n",
       "</g>\n",
       "<!-- Impact -->\n",
       "<g class=\"node\" id=\"node2\"><title>Impact</title>\n",
       "<ellipse cx=\"520.142\" cy=\"-18\" fill=\"none\" rx=\"35.9954\" ry=\"18\" stroke=\"black\"/>\n",
       "<text font-family=\"Times,serif\" font-size=\"14.00\" text-anchor=\"middle\" x=\"520.142\" y=\"-14.3\">Impact</text>\n",
       "</g>\n",
       "<!-- AmountDonated&#45;&gt;Impact -->\n",
       "<g class=\"edge\" id=\"edge1\"><title>AmountDonated-&gt;Impact</title>\n",
       "<path d=\"M708.633,-238.387C725.892,-233.165 742.346,-224.429 753.142,-210 765.124,-193.986 758.159,-184.361 753.142,-165 745.108,-133.993 742.004,-123.368 718.142,-102 673.285,-61.8307 606.194,-39.3064 562.793,-28.1538\" fill=\"none\" stroke=\"black\"/>\n",
       "<ellipse cx=\"704.525\" cy=\"-239.501\" fill=\"none\" rx=\"4.00001\" ry=\"4.00001\" stroke=\"black\"/>\n",
       "<polygon fill=\"black\" points=\"563.384,-24.6944 552.836,-25.6876 561.701,-31.4891 563.384,-24.6944\" stroke=\"black\"/>\n",
       "<text font-family=\"Courier,monospace\" font-size=\"14.00\" text-anchor=\"middle\" x=\"838.142\" y=\"-135.8\">AmountDonated - Impact</text>\n",
       "<text font-family=\"Courier,monospace\" font-size=\"14.00\" text-anchor=\"middle\" x=\"838.142\" y=\"-120.8\">[no edge]:0.8000</text>\n",
       "<text font-family=\"Courier,monospace\" font-size=\"14.00\" text-anchor=\"middle\" x=\"838.142\" y=\"-105.8\">[o-&gt;]:0.2000</text>\n",
       "</g>\n",
       "<!-- Sympathy -->\n",
       "<g class=\"node\" id=\"node3\"><title>Sympathy</title>\n",
       "<ellipse cx=\"335.142\" cy=\"-124.5\" fill=\"none\" rx=\"46.5926\" ry=\"18\" stroke=\"black\"/>\n",
       "<text font-family=\"Times,serif\" font-size=\"14.00\" text-anchor=\"middle\" x=\"335.142\" y=\"-120.8\">Sympathy</text>\n",
       "</g>\n",
       "<!-- AmountDonated&#45;&gt;Sympathy -->\n",
       "<g class=\"edge\" id=\"edge2\"><title>AmountDonated-&gt;Sympathy</title>\n",
       "<path d=\"M586.689,-227.822C575.567,-222.84 564.074,-216.861 554.142,-210 531.128,-194.102 534.564,-178.638 510.142,-165 472.726,-144.105 424.977,-134.26 388.81,-129.623\" fill=\"none\" stroke=\"black\"/>\n",
       "<ellipse cx=\"590.634\" cy=\"-229.524\" fill=\"none\" rx=\"4.00002\" ry=\"4.00002\" stroke=\"black\"/>\n",
       "<ellipse cx=\"384.784\" cy=\"-129.138\" fill=\"none\" rx=\"4.00001\" ry=\"4.00001\" stroke=\"black\"/>\n",
       "<text font-family=\"Courier,monospace\" font-size=\"14.00\" text-anchor=\"middle\" x=\"653.642\" y=\"-198.8\">AmountDonated - Sympathy</text>\n",
       "<text font-family=\"Courier,monospace\" font-size=\"14.00\" text-anchor=\"middle\" x=\"653.642\" y=\"-183.8\">[&lt;--]:0.4000</text>\n",
       "<text font-family=\"Courier,monospace\" font-size=\"14.00\" text-anchor=\"middle\" x=\"653.642\" y=\"-168.8\">[o-o]:0.6000</text>\n",
       "</g>\n",
       "<!-- Sympathy&#45;&gt;Impact -->\n",
       "<g class=\"edge\" id=\"edge3\"><title>Sympathy-&gt;Impact</title>\n",
       "<path d=\"M339.999,-98.3353C344.18,-83.3389 351.746,-65.1177 365.142,-54 395.54,-28.7739 440.424,-20.8174 474.08,-18.7038\" fill=\"none\" stroke=\"black\"/>\n",
       "<ellipse cx=\"338.982\" cy=\"-102.389\" fill=\"none\" rx=\"4.00001\" ry=\"4.00001\" stroke=\"black\"/>\n",
       "<polygon fill=\"black\" points=\"474.315,-22.1966 484.136,-18.2227 473.98,-15.2046 474.315,-22.1966\" stroke=\"black\"/>\n",
       "<text font-family=\"Courier,monospace\" font-size=\"14.00\" text-anchor=\"middle\" x=\"435.642\" y=\"-72.8\">Impact - Sympathy</text>\n",
       "<text font-family=\"Courier,monospace\" font-size=\"14.00\" text-anchor=\"middle\" x=\"435.642\" y=\"-57.8\">[&lt;-o]:1.0000</text>\n",
       "</g>\n",
       "<!-- TangibilityCondition -->\n",
       "<g class=\"node\" id=\"node4\"><title>TangibilityCondition</title>\n",
       "<ellipse cx=\"85.1424\" cy=\"-18\" fill=\"none\" rx=\"85.2851\" ry=\"18\" stroke=\"black\"/>\n",
       "<text font-family=\"Times,serif\" font-size=\"14.00\" text-anchor=\"middle\" x=\"85.1424\" y=\"-14.3\">TangibilityCondition</text>\n",
       "</g>\n",
       "<!-- Sympathy&#45;&gt;TangibilityCondition -->\n",
       "<g class=\"edge\" id=\"edge4\"><title>Sympathy-&gt;TangibilityCondition</title>\n",
       "<path d=\"M288.35,-122.969C223.632,-121.136 111.844,-113.636 86.1424,-84 77.2737,-73.7738 76.4956,-58.8623 78.1737,-45.9004\" fill=\"none\" stroke=\"black\"/>\n",
       "<polygon fill=\"black\" points=\"81.6201,-46.5104 79.9386,-36.0498 74.7298,-45.2758 81.6201,-46.5104\" stroke=\"black\"/>\n",
       "<text font-family=\"Courier,monospace\" font-size=\"14.00\" text-anchor=\"middle\" x=\"214.142\" y=\"-72.8\">Sympathy - TangibilityCondition</text>\n",
       "<text font-family=\"Courier,monospace\" font-size=\"14.00\" text-anchor=\"middle\" x=\"214.142\" y=\"-57.8\">[--&gt;]:1.0000</text>\n",
       "</g>\n",
       "<!-- Imaginability -->\n",
       "<g class=\"node\" id=\"node5\"><title>Imaginability</title>\n",
       "<ellipse cx=\"438.142\" cy=\"-246\" fill=\"none\" rx=\"58.4896\" ry=\"18\" stroke=\"black\"/>\n",
       "<text font-family=\"Times,serif\" font-size=\"14.00\" text-anchor=\"middle\" x=\"438.142\" y=\"-242.3\">Imaginability</text>\n",
       "</g>\n",
       "<!-- Imaginability&#45;&gt;Impact -->\n",
       "<g class=\"edge\" id=\"edge5\"><title>Imaginability-&gt;Impact</title>\n",
       "<path d=\"M485.664,-228.629C493.677,-223.824 501.04,-217.716 506.142,-210 539.239,-159.955 532.632,-85.5583 525.851,-46.0076\" fill=\"none\" stroke=\"black\"/>\n",
       "<ellipse cx=\"481.686\" cy=\"-230.78\" fill=\"none\" rx=\"4.00002\" ry=\"4.00002\" stroke=\"black\"/>\n",
       "<polygon fill=\"black\" points=\"529.271,-45.2511 524.012,-36.0535 522.387,-46.523 529.271,-45.2511\" stroke=\"black\"/>\n",
       "<text font-family=\"Courier,monospace\" font-size=\"14.00\" text-anchor=\"middle\" x=\"623.142\" y=\"-128.3\">Imaginability - Impact</text>\n",
       "<text font-family=\"Courier,monospace\" font-size=\"14.00\" text-anchor=\"middle\" x=\"623.142\" y=\"-113.3\">[o-&gt;]:1.0000</text>\n",
       "</g>\n",
       "<!-- Imaginability&#45;&gt;Sympathy -->\n",
       "<g class=\"edge\" id=\"edge6\"><title>Imaginability-&gt;Sympathy</title>\n",
       "<path d=\"M377.925,-236.157C347.93,-230.392 316.158,-221.74 307.142,-210 294.961,-194.137 301.073,-184.057 307.142,-165 308.759,-159.924 311.291,-154.94 314.187,-150.315\" fill=\"none\" stroke=\"black\"/>\n",
       "<ellipse cx=\"381.972\" cy=\"-236.906\" fill=\"none\" rx=\"4.00001\" ry=\"4.00001\" stroke=\"black\"/>\n",
       "<polygon fill=\"black\" points=\"317.189,-152.129 320.057,-141.93 311.454,-148.114 317.189,-152.129\" stroke=\"black\"/>\n",
       "<text font-family=\"Courier,monospace\" font-size=\"14.00\" text-anchor=\"middle\" x=\"406.642\" y=\"-198.8\">Imaginability - Sympathy</text>\n",
       "<text font-family=\"Courier,monospace\" font-size=\"14.00\" text-anchor=\"middle\" x=\"406.642\" y=\"-183.8\">[no edge]:0.6000</text>\n",
       "<text font-family=\"Courier,monospace\" font-size=\"14.00\" text-anchor=\"middle\" x=\"406.642\" y=\"-168.8\">[o-&gt;]:0.4000</text>\n",
       "</g>\n",
       "</g>\n",
       "</svg>"
      ],
      "text/plain": [
       "<IPython.core.display.SVG object>"
      ]
     },
     "execution_count": 21,
     "metadata": {},
     "output_type": "execute_result"
    }
   ],
   "source": [
    "svg_str = graph.create_svg(prog='dot')\n",
    "SVG(svg_str)"
   ]
  },
  {
   "cell_type": "code",
   "execution_count": 22,
   "metadata": {
    "collapsed": true
   },
   "outputs": [],
   "source": [
    "javabridge.detach()\n",
    "javabridge.kill_vm()"
   ]
  },
  {
   "cell_type": "code",
   "execution_count": null,
   "metadata": {
    "collapsed": true
   },
   "outputs": [],
   "source": []
  }
 ],
 "metadata": {
  "kernelspec": {
   "display_name": "Python 3",
   "language": "python",
   "name": "python3"
  },
  "language_info": {
   "codemirror_mode": {
    "name": "ipython",
    "version": 3
   },
   "file_extension": ".py",
   "mimetype": "text/x-python",
   "name": "python",
   "nbconvert_exporter": "python",
   "pygments_lexer": "ipython3",
   "version": "3.6.1"
  },
  "widgets": {
   "state": {},
   "version": "1.1.1"
  }
 },
 "nbformat": 4,
 "nbformat_minor": 1
}
