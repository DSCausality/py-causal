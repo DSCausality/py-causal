{
 "cells": [
  {
   "cell_type": "code",
   "execution_count": 1,
   "metadata": {},
   "outputs": [],
   "source": [
    "import javabridge\n",
    "import os\n",
    "import glob\n",
    "import pandas as pd\n",
    "import pydot\n",
    "from IPython.display import SVG"
   ]
  },
  {
   "cell_type": "code",
   "execution_count": 2,
   "metadata": {},
   "outputs": [
    {
     "name": "stdout",
     "output_type": "stream",
     "text": [
      "/home/jovyan/py-causal/example/javabridge/../../src/pycausal/lib/causal-cmd-1.2.0-SNAPSHOT-jar-with-dependencies.jar\n"
     ]
    }
   ],
   "source": [
    "tetrad_libdir = os.path.join(os.getcwd(), '..','..','src', 'pycausal', 'lib')\n",
    "for l in glob.glob(tetrad_libdir + os.sep + \"*.jar\"):\n",
    "    print (l)\n",
    "    javabridge.JARS.append(str(l))"
   ]
  },
  {
   "cell_type": "code",
   "execution_count": 3,
   "metadata": {},
   "outputs": [
    {
     "data": {
      "text/plain": [
       "<JB_Env at 0x55acd45b31e0>"
      ]
     },
     "execution_count": 3,
     "metadata": {},
     "output_type": "execute_result"
    }
   ],
   "source": [
    "javabridge.start_vm(run_headless=True, max_heap_size = '100M')\n",
    "javabridge.attach()"
   ]
  },
  {
   "cell_type": "code",
   "execution_count": 4,
   "metadata": {},
   "outputs": [
    {
     "data": {
      "text/plain": [
       "'/home/jovyan/py-causal/example/javabridge/../../data/charity.txt'"
      ]
     },
     "execution_count": 4,
     "metadata": {},
     "output_type": "execute_result"
    }
   ],
   "source": [
    "data_dir = os.path.join(os.getcwd(), '..','..','data', 'charity.txt')\n",
    "data_dir"
   ]
  },
  {
   "cell_type": "code",
   "execution_count": 5,
   "metadata": {},
   "outputs": [
    {
     "data": {
      "text/html": [
       "<div>\n",
       "<style scoped>\n",
       "    .dataframe tbody tr th:only-of-type {\n",
       "        vertical-align: middle;\n",
       "    }\n",
       "\n",
       "    .dataframe tbody tr th {\n",
       "        vertical-align: top;\n",
       "    }\n",
       "\n",
       "    .dataframe thead th {\n",
       "        text-align: right;\n",
       "    }\n",
       "</style>\n",
       "<table border=\"1\" class=\"dataframe\">\n",
       "  <thead>\n",
       "    <tr style=\"text-align: right;\">\n",
       "      <th></th>\n",
       "      <th>TangibilityCondition</th>\n",
       "      <th>AmountDonated</th>\n",
       "      <th>Sympathy</th>\n",
       "      <th>Imaginability</th>\n",
       "      <th>Impact</th>\n",
       "    </tr>\n",
       "  </thead>\n",
       "  <tbody>\n",
       "    <tr>\n",
       "      <th>0</th>\n",
       "      <td>1.0</td>\n",
       "      <td>0.0</td>\n",
       "      <td>7.0</td>\n",
       "      <td>4.0</td>\n",
       "      <td>4.5</td>\n",
       "    </tr>\n",
       "    <tr>\n",
       "      <th>1</th>\n",
       "      <td>1.0</td>\n",
       "      <td>0.0</td>\n",
       "      <td>2.0</td>\n",
       "      <td>2.0</td>\n",
       "      <td>2.0</td>\n",
       "    </tr>\n",
       "    <tr>\n",
       "      <th>2</th>\n",
       "      <td>1.0</td>\n",
       "      <td>0.0</td>\n",
       "      <td>7.0</td>\n",
       "      <td>3.0</td>\n",
       "      <td>3.0</td>\n",
       "    </tr>\n",
       "    <tr>\n",
       "      <th>3</th>\n",
       "      <td>1.0</td>\n",
       "      <td>0.0</td>\n",
       "      <td>4.0</td>\n",
       "      <td>3.0</td>\n",
       "      <td>4.5</td>\n",
       "    </tr>\n",
       "    <tr>\n",
       "      <th>4</th>\n",
       "      <td>1.0</td>\n",
       "      <td>0.0</td>\n",
       "      <td>3.0</td>\n",
       "      <td>7.0</td>\n",
       "      <td>1.0</td>\n",
       "    </tr>\n",
       "  </tbody>\n",
       "</table>\n",
       "</div>"
      ],
      "text/plain": [
       "   TangibilityCondition  AmountDonated  Sympathy  Imaginability  Impact\n",
       "0                   1.0            0.0       7.0            4.0     4.5\n",
       "1                   1.0            0.0       2.0            2.0     2.0\n",
       "2                   1.0            0.0       7.0            3.0     3.0\n",
       "3                   1.0            0.0       4.0            3.0     4.5\n",
       "4                   1.0            0.0       3.0            7.0     1.0"
      ]
     },
     "execution_count": 5,
     "metadata": {},
     "output_type": "execute_result"
    }
   ],
   "source": [
    "dframe = pd.read_table(data_dir, sep=\"\\t\")\n",
    "dframe.head()"
   ]
  },
  {
   "cell_type": "code",
   "execution_count": 6,
   "metadata": {},
   "outputs": [],
   "source": [
    "node_list = javabridge.JClassWrapper(\"java.util.ArrayList\")()\n",
    "# load dataset\n",
    "for col in dframe.columns:\n",
    "    nodi = javabridge.JClassWrapper(\"edu.cmu.tetrad.data.ContinuousVariable\") (col)\n",
    "    node_list.add(nodi)"
   ]
  },
  {
   "cell_type": "code",
   "execution_count": 7,
   "metadata": {},
   "outputs": [],
   "source": [
    "dataBox = javabridge.JClassWrapper(\"edu.cmu.tetrad.data.DoubleDataBox\")(len(dframe.index),dframe.columns.size)"
   ]
  },
  {
   "cell_type": "code",
   "execution_count": 8,
   "metadata": {},
   "outputs": [],
   "source": [
    "for col in range(0,dframe.columns.size):\n",
    "    for row in dframe.index:\n",
    "        value = javabridge.JClassWrapper(\"java.lang.Double\")(dframe.iloc[row,col])\n",
    "        dataBox.set(row,col,value)"
   ]
  },
  {
   "cell_type": "code",
   "execution_count": 9,
   "metadata": {},
   "outputs": [],
   "source": [
    "boxData = javabridge.JClassWrapper(\"edu.cmu.tetrad.data.BoxDataSet\")(dataBox, node_list)"
   ]
  },
  {
   "cell_type": "code",
   "execution_count": 10,
   "metadata": {},
   "outputs": [],
   "source": [
    "numLags = 1\n",
    "tetradData = javabridge.static_call('edu/cmu/tetrad/search/TimeSeriesUtils',\n",
    "                                    'createLagData',\n",
    "                                    '(Ledu/cmu/tetrad/data/DataSet;I)Ledu/cmu/tetrad/data/DataSet;', \n",
    "                                    boxData, numLags)"
   ]
  },
  {
   "cell_type": "code",
   "execution_count": 11,
   "metadata": {},
   "outputs": [],
   "source": [
    "alpha = 0.05\n",
    "IndTest = javabridge.JClassWrapper('edu.cmu.tetrad.search.IndTestFisherZ')(tetradData, alpha)"
   ]
  },
  {
   "cell_type": "code",
   "execution_count": 12,
   "metadata": {},
   "outputs": [],
   "source": [
    "penaltydiscount = 2 # set to 2 if variable# <= 50 otherwise set it to 4\n",
    "score = javabridge.JClassWrapper('edu.cmu.tetrad.search.SemBicScore')(tetradData)\n",
    "score.setPenaltyDiscount(penaltydiscount) "
   ]
  },
  {
   "cell_type": "code",
   "execution_count": 13,
   "metadata": {},
   "outputs": [],
   "source": [
    "tsgfci = javabridge.JClassWrapper('edu.cmu.tetrad.search.TsGFci')(IndTest, score)"
   ]
  },
  {
   "cell_type": "code",
   "execution_count": 14,
   "metadata": {},
   "outputs": [],
   "source": [
    "tsgfci.setMaxIndegree(3)\n",
    "tsgfci.setMaxPathLength(-1)\n",
    "tsgfci.setCompleteRuleSetUsed(False)\n",
    "tsgfci.setFaithfulnessAssumed(True)\n",
    "tsgfci.setVerbose(True)"
   ]
  },
  {
   "cell_type": "code",
   "execution_count": 15,
   "metadata": {},
   "outputs": [
    {
     "data": {
      "text/plain": [
       "Instance of edu.cmu.tetrad.data.Knowledge2: /knowledge\n",
       "addtemporal\n",
       "\n",
       "1  AmountDonated:1 Imaginability:1 Impact:1 Sympathy:1 TangibilityCondition:1\n",
       "2  AmountDonated Imaginability Impact Sympathy TangibilityCondition\n",
       "\n",
       "forbiddirect\n",
       "\n",
       "requiredirect"
      ]
     },
     "execution_count": 15,
     "metadata": {},
     "output_type": "execute_result"
    }
   ],
   "source": [
    "prior = javabridge.JClassWrapper('edu.cmu.tetrad.data.Knowledge2')()\n",
    "prior.addToTier(0, 'AmountDonated:1')\n",
    "prior.addToTier(0, 'Imaginability:1')\n",
    "prior.addToTier(0, 'Impact:1')\n",
    "prior.addToTier(0, 'Sympathy:1')\n",
    "prior.addToTier(0, 'TangibilityCondition:1')\n",
    "prior.addToTier(1, 'AmountDonated')\n",
    "prior.addToTier(1, 'Imaginability')\n",
    "prior.addToTier(1, 'Impact')\n",
    "prior.addToTier(1, 'Sympathy')\n",
    "prior.addToTier(1, 'TangibilityCondition')\n",
    "tsgfci.setKnowledge(prior)\n",
    "prior"
   ]
  },
  {
   "cell_type": "code",
   "execution_count": 16,
   "metadata": {},
   "outputs": [
    {
     "data": {
      "text/plain": [
       "Instance of edu.cmu.tetrad.graph.EdgeListGraphSingleConnections: Graph Nodes:\n",
       "TangibilityCondition;AmountDonated;Sympathy;Imaginability;Impact;TangibilityCondition:1;AmountDonated:1;Sympathy:1;Imaginability:1;Impact:1\n",
       "\n",
       "Graph Edges:\n",
       "1. Impact --> Imaginability dd nl\n",
       "2. Impact --> Sympathy dd nl\n",
       "3. Impact:1 --> Imaginability:1 dd pl\n",
       "4. Impact:1 --> Sympathy:1 dd pl\n",
       "5. AmountDonated:1 o-> AmountDonated\n",
       "6. AmountDonated:1 o-> Impact\n",
       "7. TangibilityCondition:1 o-> Sympathy\n",
       "8. TangibilityCondition:1 o-> TangibilityCondition\n"
      ]
     },
     "execution_count": 16,
     "metadata": {},
     "output_type": "execute_result"
    }
   ],
   "source": [
    "tetradGraph = tsgfci.search()\n",
    "tetradGraph"
   ]
  },
  {
   "cell_type": "code",
   "execution_count": 17,
   "metadata": {},
   "outputs": [
    {
     "data": {
      "text/plain": [
       "'Graph Nodes:\\nTangibilityCondition;AmountDonated;Sympathy;Imaginability;Impact;TangibilityCondition:1;AmountDonated:1;Sympathy:1;Imaginability:1;Impact:1\\n\\nGraph Edges:\\n1. Impact --> Imaginability dd nl\\n2. Impact --> Sympathy dd nl\\n3. Impact:1 --> Imaginability:1 dd pl\\n4. Impact:1 --> Sympathy:1 dd pl\\n5. AmountDonated:1 o-> AmountDonated\\n6. AmountDonated:1 o-> Impact\\n7. TangibilityCondition:1 o-> Sympathy\\n8. TangibilityCondition:1 o-> TangibilityCondition\\n\\n'"
      ]
     },
     "execution_count": 17,
     "metadata": {},
     "output_type": "execute_result"
    }
   ],
   "source": [
    "tetradGraph.toString()"
   ]
  },
  {
   "cell_type": "code",
   "execution_count": 18,
   "metadata": {},
   "outputs": [
    {
     "data": {
      "text/plain": [
       "Instance of java.util.ArrayList: [TangibilityCondition, AmountDonated, Sympathy, Imaginability, Impact, TangibilityCondition:1, AmountDonated:1, Sympathy:1, Imaginability:1, Impact:1]"
      ]
     },
     "execution_count": 18,
     "metadata": {},
     "output_type": "execute_result"
    }
   ],
   "source": [
    "tetradGraph.getNodeNames()"
   ]
  },
  {
   "cell_type": "code",
   "execution_count": 19,
   "metadata": {},
   "outputs": [
    {
     "data": {
      "text/plain": [
       "Instance of java.util.HashSet: [Impact --> Sympathy dd nl, TangibilityCondition:1 o-> Sympathy, AmountDonated:1 o-> Impact, AmountDonated:1 o-> AmountDonated, Impact:1 --> Imaginability:1 dd pl, Impact:1 --> Sympathy:1 dd pl, TangibilityCondition:1 o-> TangibilityCondition, Impact --> Imaginability dd nl]"
      ]
     },
     "execution_count": 19,
     "metadata": {},
     "output_type": "execute_result"
    }
   ],
   "source": [
    "tetradGraph.getEdges()"
   ]
  },
  {
   "cell_type": "code",
   "execution_count": 20,
   "metadata": {},
   "outputs": [
    {
     "data": {
      "image/svg+xml": [
       "<svg height=\"332pt\" viewBox=\"0.00 0.00 610.53 332.00\" width=\"611pt\" xmlns=\"http://www.w3.org/2000/svg\" xmlns:xlink=\"http://www.w3.org/1999/xlink\">\n",
       "<g class=\"graph\" id=\"graph0\" transform=\"scale(1 1) rotate(0) translate(4 328)\">\n",
       "<title>g</title>\n",
       "<polygon fill=\"white\" points=\"-4,4 -4,-328 606.533,-328 606.533,4 -4,4\" stroke=\"none\"/>\n",
       "<!-- Impact -->\n",
       "<g class=\"node\" id=\"node1\"><title>Impact</title>\n",
       "<ellipse cx=\"285.291\" cy=\"-162\" fill=\"none\" rx=\"44.393\" ry=\"18\" stroke=\"black\"/>\n",
       "<text font-family=\"Times,serif\" font-size=\"14.00\" text-anchor=\"middle\" x=\"285.291\" y=\"-158.3\">Impact</text>\n",
       "</g>\n",
       "<!-- Sympathy -->\n",
       "<g class=\"node\" id=\"node2\"><title>Sympathy</title>\n",
       "<ellipse cx=\"285.291\" cy=\"-90\" fill=\"none\" rx=\"57.3905\" ry=\"18\" stroke=\"black\"/>\n",
       "<text font-family=\"Times,serif\" font-size=\"14.00\" text-anchor=\"middle\" x=\"285.291\" y=\"-86.3\">Sympathy</text>\n",
       "</g>\n",
       "<!-- Impact&#45;&gt;Sympathy -->\n",
       "<g class=\"edge\" id=\"edge1\"><title>Impact-&gt;Sympathy</title>\n",
       "<path d=\"M285.291,-143.697C285.291,-135.983 285.291,-126.712 285.291,-118.112\" fill=\"none\" stroke=\"black\"/>\n",
       "<polygon fill=\"black\" points=\"288.791,-118.104 285.291,-108.104 281.791,-118.104 288.791,-118.104\" stroke=\"black\"/>\n",
       "</g>\n",
       "<!-- TangibilityCondition:1 -->\n",
       "<g class=\"node\" id=\"node3\"><title>TangibilityCondition:1</title>\n",
       "<ellipse cx=\"195.291\" cy=\"-18\" fill=\"none\" rx=\"114.28\" ry=\"18\" stroke=\"black\"/>\n",
       "<text font-family=\"Times,serif\" font-size=\"14.00\" text-anchor=\"middle\" x=\"195.291\" y=\"-14.3\">TangibilityCondition:1</text>\n",
       "</g>\n",
       "<!-- Sympathy&#45;&gt;TangibilityCondition:1 -->\n",
       "<g class=\"edge\" id=\"edge2\"><title>Sympathy-&gt;TangibilityCondition:1</title>\n",
       "<path d=\"M256.743,-66.7959C246.055,-58.4831 233.931,-49.0535 223.293,-40.7795\" fill=\"none\" stroke=\"black\"/>\n",
       "<polygon fill=\"black\" points=\"254.826,-69.7392 264.868,-73.1159 259.124,-64.2137 254.826,-69.7392\" stroke=\"black\"/>\n",
       "<ellipse cx=\"220.045\" cy=\"-38.2531\" fill=\"none\" rx=\"4.00002\" ry=\"4.00002\" stroke=\"black\"/>\n",
       "</g>\n",
       "<!-- AmountDonated:1 -->\n",
       "<g class=\"node\" id=\"node4\"><title>AmountDonated:1</title>\n",
       "<ellipse cx=\"192.291\" cy=\"-234\" fill=\"none\" rx=\"94.7833\" ry=\"18\" stroke=\"black\"/>\n",
       "<text font-family=\"Times,serif\" font-size=\"14.00\" text-anchor=\"middle\" x=\"192.291\" y=\"-230.3\">AmountDonated:1</text>\n",
       "</g>\n",
       "<!-- AmountDonated:1&#45;&gt;Impact -->\n",
       "<g class=\"edge\" id=\"edge3\"><title>AmountDonated:1-&gt;Impact</title>\n",
       "<path d=\"M221.078,-211.332C232.417,-202.798 245.408,-193.019 256.725,-184.501\" fill=\"none\" stroke=\"black\"/>\n",
       "<ellipse cx=\"217.526\" cy=\"-214.005\" fill=\"none\" rx=\"4.00002\" ry=\"4.00002\" stroke=\"black\"/>\n",
       "<polygon fill=\"black\" points=\"259.113,-187.084 264.998,-178.274 254.904,-181.491 259.113,-187.084\" stroke=\"black\"/>\n",
       "</g>\n",
       "<!-- AmountDonated -->\n",
       "<g class=\"node\" id=\"node5\"><title>AmountDonated</title>\n",
       "<ellipse cx=\"192.291\" cy=\"-306\" fill=\"none\" rx=\"86.3847\" ry=\"18\" stroke=\"black\"/>\n",
       "<text font-family=\"Times,serif\" font-size=\"14.00\" text-anchor=\"middle\" x=\"192.291\" y=\"-302.3\">AmountDonated</text>\n",
       "</g>\n",
       "<!-- AmountDonated&#45;&gt;AmountDonated:1 -->\n",
       "<g class=\"edge\" id=\"edge4\"><title>AmountDonated-&gt;AmountDonated:1</title>\n",
       "<path d=\"M192.291,-277.665C192.291,-272.014 192.291,-266.082 192.291,-260.5\" fill=\"none\" stroke=\"black\"/>\n",
       "<polygon fill=\"black\" points=\"188.791,-277.697 192.291,-287.697 195.791,-277.697 188.791,-277.697\" stroke=\"black\"/>\n",
       "<ellipse cx=\"192.291\" cy=\"-256.104\" fill=\"none\" rx=\"4\" ry=\"4\" stroke=\"black\"/>\n",
       "</g>\n",
       "<!-- Imaginability:1 -->\n",
       "<g class=\"node\" id=\"node6\"><title>Imaginability:1</title>\n",
       "<ellipse cx=\"521.291\" cy=\"-306\" fill=\"none\" rx=\"81.4863\" ry=\"18\" stroke=\"black\"/>\n",
       "<text font-family=\"Times,serif\" font-size=\"14.00\" text-anchor=\"middle\" x=\"521.291\" y=\"-302.3\">Imaginability:1</text>\n",
       "</g>\n",
       "<!-- Impact:1 -->\n",
       "<g class=\"node\" id=\"node7\"><title>Impact:1</title>\n",
       "<ellipse cx=\"521.291\" cy=\"-234\" fill=\"none\" rx=\"52.7911\" ry=\"18\" stroke=\"black\"/>\n",
       "<text font-family=\"Times,serif\" font-size=\"14.00\" text-anchor=\"middle\" x=\"521.291\" y=\"-230.3\">Impact:1</text>\n",
       "</g>\n",
       "<!-- Imaginability:1&#45;&gt;Impact:1 -->\n",
       "<g class=\"edge\" id=\"edge5\"><title>Imaginability:1-&gt;Impact:1</title>\n",
       "<path d=\"M521.291,-277.665C521.291,-269.054 521.291,-259.791 521.291,-252.104\" fill=\"none\" stroke=\"black\"/>\n",
       "<polygon fill=\"black\" points=\"517.791,-277.697 521.291,-287.697 524.791,-277.697 517.791,-277.697\" stroke=\"black\"/>\n",
       "</g>\n",
       "<!-- Sympathy:1 -->\n",
       "<g class=\"node\" id=\"node8\"><title>Sympathy:1</title>\n",
       "<ellipse cx=\"521.291\" cy=\"-162\" fill=\"none\" rx=\"65.7887\" ry=\"18\" stroke=\"black\"/>\n",
       "<text font-family=\"Times,serif\" font-size=\"14.00\" text-anchor=\"middle\" x=\"521.291\" y=\"-158.3\">Sympathy:1</text>\n",
       "</g>\n",
       "<!-- Impact:1&#45;&gt;Sympathy:1 -->\n",
       "<g class=\"edge\" id=\"edge6\"><title>Impact:1-&gt;Sympathy:1</title>\n",
       "<path d=\"M521.291,-215.697C521.291,-207.983 521.291,-198.712 521.291,-190.112\" fill=\"none\" stroke=\"black\"/>\n",
       "<polygon fill=\"black\" points=\"524.791,-190.104 521.291,-180.104 517.791,-190.104 524.791,-190.104\" stroke=\"black\"/>\n",
       "</g>\n",
       "<!-- TangibilityCondition -->\n",
       "<g class=\"node\" id=\"node9\"><title>TangibilityCondition</title>\n",
       "<ellipse cx=\"105.291\" cy=\"-90\" fill=\"none\" rx=\"105.082\" ry=\"18\" stroke=\"black\"/>\n",
       "<text font-family=\"Times,serif\" font-size=\"14.00\" text-anchor=\"middle\" x=\"105.291\" y=\"-86.3\">TangibilityCondition</text>\n",
       "</g>\n",
       "<!-- TangibilityCondition&#45;&gt;TangibilityCondition:1 -->\n",
       "<g class=\"edge\" id=\"edge7\"><title>TangibilityCondition-&gt;TangibilityCondition:1</title>\n",
       "<path d=\"M135.064,-65.8427C145.422,-57.7868 156.999,-48.782 167.215,-40.8367\" fill=\"none\" stroke=\"black\"/>\n",
       "<polygon fill=\"black\" points=\"132.822,-63.1528 127.077,-72.055 137.119,-68.6782 132.822,-63.1528\" stroke=\"black\"/>\n",
       "<ellipse cx=\"170.547\" cy=\"-38.2448\" fill=\"none\" rx=\"4.00002\" ry=\"4.00002\" stroke=\"black\"/>\n",
       "</g>\n",
       "<!-- Imaginability -->\n",
       "<g class=\"node\" id=\"node10\"><title>Imaginability</title>\n",
       "<ellipse cx=\"378.291\" cy=\"-234\" fill=\"none\" rx=\"72.5877\" ry=\"18\" stroke=\"black\"/>\n",
       "<text font-family=\"Times,serif\" font-size=\"14.00\" text-anchor=\"middle\" x=\"378.291\" y=\"-230.3\">Imaginability</text>\n",
       "</g>\n",
       "<!-- Imaginability&#45;&gt;Impact -->\n",
       "<g class=\"edge\" id=\"edge8\"><title>Imaginability-&gt;Impact</title>\n",
       "<path d=\"M348.345,-210.46C334.326,-199.908 317.998,-187.618 305.47,-178.189\" fill=\"none\" stroke=\"black\"/>\n",
       "<polygon fill=\"black\" points=\"346.626,-213.547 356.721,-216.765 350.836,-207.954 346.626,-213.547\" stroke=\"black\"/>\n",
       "</g>\n",
       "</g>\n",
       "</svg>"
      ],
      "text/plain": [
       "<IPython.core.display.SVG object>"
      ]
     },
     "execution_count": 20,
     "metadata": {},
     "output_type": "execute_result"
    }
   ],
   "source": [
    "dot_str = javabridge.static_call('edu/cmu/tetrad/graph/GraphUtils',\n",
    "                                   'graphToDot',\n",
    "                                   '(Ledu/cmu/tetrad/graph/Graph;)Ljava/lang/String;', \n",
    "                                   tetradGraph)\n",
    "graphs = pydot.graph_from_dot_data(dot_str)\n",
    "svg_str = graphs[0].create_svg()\n",
    "SVG(svg_str)"
   ]
  },
  {
   "cell_type": "code",
   "execution_count": 21,
   "metadata": {},
   "outputs": [],
   "source": [
    "javabridge.detach()\n",
    "javabridge.kill_vm()"
   ]
  },
  {
   "cell_type": "code",
   "execution_count": null,
   "metadata": {},
   "outputs": [],
   "source": []
  }
 ],
 "metadata": {
  "kernelspec": {
   "display_name": "Python 3",
   "language": "python",
   "name": "python3"
  },
  "language_info": {
   "codemirror_mode": {
    "name": "ipython",
    "version": 3
   },
   "file_extension": ".py",
   "mimetype": "text/x-python",
   "name": "python",
   "nbconvert_exporter": "python",
   "pygments_lexer": "ipython3",
   "version": "3.5.4"
  },
  "widgets": {
   "state": {},
   "version": "1.1.1"
  }
 },
 "nbformat": 4,
 "nbformat_minor": 1
}
