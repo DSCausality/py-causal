{
 "cells": [
  {
   "cell_type": "code",
   "execution_count": 1,
   "metadata": {
    "collapsed": true
   },
   "outputs": [],
   "source": [
    "import javabridge\n",
    "import os\n",
    "import glob\n",
    "import pandas as pd\n",
    "import pydot\n",
    "from IPython.display import SVG"
   ]
  },
  {
   "cell_type": "code",
   "execution_count": 2,
   "metadata": {},
   "outputs": [
    {
     "name": "stdout",
     "output_type": "stream",
     "text": [
      "/home/jovyan/py-causal/example/javabridge/../../src/pycausal/lib/tetrad-lib-6.4.0-SNAPSHOT-tetradcmd.jar\n",
      "/home/jovyan/py-causal/example/javabridge/../../src/pycausal/lib/data-reader-0.2.3-SNAPSHOT.jar\n"
     ]
    }
   ],
   "source": [
    "tetrad_libdir = os.path.join(os.getcwd(), '../../','src', 'pycausal', 'lib')\n",
    "for l in glob.glob(tetrad_libdir + os.sep + \"*.jar\"):\n",
    "    print (l)\n",
    "    javabridge.JARS.append(str(l))"
   ]
  },
  {
   "cell_type": "code",
   "execution_count": 3,
   "metadata": {},
   "outputs": [
    {
     "data": {
      "text/plain": [
       "<JB_Env at 0x2d999e0>"
      ]
     },
     "execution_count": 3,
     "metadata": {},
     "output_type": "execute_result"
    }
   ],
   "source": [
    "javabridge.start_vm(run_headless=True, max_heap_size = '100M')\n",
    "javabridge.attach()"
   ]
  },
  {
   "cell_type": "code",
   "execution_count": 4,
   "metadata": {},
   "outputs": [
    {
     "data": {
      "text/plain": [
       "'/home/jovyan/py-causal/example/javabridge/../../data/charity.txt'"
      ]
     },
     "execution_count": 4,
     "metadata": {},
     "output_type": "execute_result"
    }
   ],
   "source": [
    "data_dir = os.path.join(os.getcwd(), '../../','data', 'charity.txt')\n",
    "data_dir"
   ]
  },
  {
   "cell_type": "code",
   "execution_count": 5,
   "metadata": {},
   "outputs": [
    {
     "data": {
      "text/html": [
       "<div>\n",
       "<table border=\"1\" class=\"dataframe\">\n",
       "  <thead>\n",
       "    <tr style=\"text-align: right;\">\n",
       "      <th></th>\n",
       "      <th>TangibilityCondition</th>\n",
       "      <th>AmountDonated</th>\n",
       "      <th>Sympathy</th>\n",
       "      <th>Imaginability</th>\n",
       "      <th>Impact</th>\n",
       "    </tr>\n",
       "  </thead>\n",
       "  <tbody>\n",
       "    <tr>\n",
       "      <th>0</th>\n",
       "      <td>1.0</td>\n",
       "      <td>0.0</td>\n",
       "      <td>7.0</td>\n",
       "      <td>4.0</td>\n",
       "      <td>4.5</td>\n",
       "    </tr>\n",
       "    <tr>\n",
       "      <th>1</th>\n",
       "      <td>1.0</td>\n",
       "      <td>0.0</td>\n",
       "      <td>2.0</td>\n",
       "      <td>2.0</td>\n",
       "      <td>2.0</td>\n",
       "    </tr>\n",
       "    <tr>\n",
       "      <th>2</th>\n",
       "      <td>1.0</td>\n",
       "      <td>0.0</td>\n",
       "      <td>7.0</td>\n",
       "      <td>3.0</td>\n",
       "      <td>3.0</td>\n",
       "    </tr>\n",
       "    <tr>\n",
       "      <th>3</th>\n",
       "      <td>1.0</td>\n",
       "      <td>0.0</td>\n",
       "      <td>4.0</td>\n",
       "      <td>3.0</td>\n",
       "      <td>4.5</td>\n",
       "    </tr>\n",
       "    <tr>\n",
       "      <th>4</th>\n",
       "      <td>1.0</td>\n",
       "      <td>0.0</td>\n",
       "      <td>3.0</td>\n",
       "      <td>7.0</td>\n",
       "      <td>1.0</td>\n",
       "    </tr>\n",
       "  </tbody>\n",
       "</table>\n",
       "</div>"
      ],
      "text/plain": [
       "   TangibilityCondition  AmountDonated  Sympathy  Imaginability  Impact\n",
       "0                   1.0            0.0       7.0            4.0     4.5\n",
       "1                   1.0            0.0       2.0            2.0     2.0\n",
       "2                   1.0            0.0       7.0            3.0     3.0\n",
       "3                   1.0            0.0       4.0            3.0     4.5\n",
       "4                   1.0            0.0       3.0            7.0     1.0"
      ]
     },
     "execution_count": 5,
     "metadata": {},
     "output_type": "execute_result"
    }
   ],
   "source": [
    "dframe = pd.read_table(data_dir, sep=\"\\t\")\n",
    "dframe.head()"
   ]
  },
  {
   "cell_type": "code",
   "execution_count": 6,
   "metadata": {
    "collapsed": true
   },
   "outputs": [],
   "source": [
    "node_list = javabridge.JClassWrapper(\"java.util.ArrayList\")()\n",
    "# load dataset\n",
    "for col in dframe.columns:\n",
    "    nodi = javabridge.JClassWrapper(\"edu.cmu.tetrad.data.ContinuousVariable\") (col)\n",
    "    node_list.add(nodi)"
   ]
  },
  {
   "cell_type": "code",
   "execution_count": 7,
   "metadata": {
    "collapsed": true
   },
   "outputs": [],
   "source": [
    "dataBox = javabridge.JClassWrapper(\"edu.cmu.tetrad.data.DoubleDataBox\")(len(dframe.index),dframe.columns.size)"
   ]
  },
  {
   "cell_type": "code",
   "execution_count": 8,
   "metadata": {
    "collapsed": true
   },
   "outputs": [],
   "source": [
    "for col in range(0,dframe.columns.size):\n",
    "    for row in dframe.index:\n",
    "        value = javabridge.make_instance(\"java/lang/Double\", \"(D)V\", dframe.iloc[row,col])\n",
    "        dataBox.set(row,col,value)"
   ]
  },
  {
   "cell_type": "code",
   "execution_count": 9,
   "metadata": {
    "collapsed": true
   },
   "outputs": [],
   "source": [
    "boxData = javabridge.JClassWrapper(\"edu.cmu.tetrad.data.BoxDataSet\")(dataBox, node_list)"
   ]
  },
  {
   "cell_type": "code",
   "execution_count": 10,
   "metadata": {
    "collapsed": true
   },
   "outputs": [],
   "source": [
    "tetradData = javabridge.JClassWrapper(\"edu.cmu.tetrad.data.CovarianceMatrixOnTheFly\")(boxData)"
   ]
  },
  {
   "cell_type": "code",
   "execution_count": 11,
   "metadata": {
    "collapsed": true
   },
   "outputs": [],
   "source": [
    "testType = 'TETRAD_WISHART'\n",
    "fofcAlgorithm = 'GAP'\n",
    "alpha = .01"
   ]
  },
  {
   "cell_type": "code",
   "execution_count": 12,
   "metadata": {
    "collapsed": true
   },
   "outputs": [],
   "source": [
    "testType = javabridge.get_static_field('edu/cmu/tetrad/search/TestType',testType,'Ledu/cmu/tetrad/search/TestType;')"
   ]
  },
  {
   "cell_type": "code",
   "execution_count": 13,
   "metadata": {
    "collapsed": true
   },
   "outputs": [],
   "source": [
    "fofcAlgorithm = javabridge.get_static_field('edu/cmu/tetrad/search/FindOneFactorClusters$Algorithm', \n",
    "                                            fofcAlgorithm, \n",
    "                                            'Ledu/cmu/tetrad/search/FindOneFactorClusters$Algorithm;')"
   ]
  },
  {
   "cell_type": "code",
   "execution_count": 14,
   "metadata": {
    "collapsed": true
   },
   "outputs": [],
   "source": [
    "fofc = javabridge.JClassWrapper('edu.cmu.tetrad.search.FindOneFactorClusters')(tetradData, testType, fofcAlgorithm, alpha)"
   ]
  },
  {
   "cell_type": "code",
   "execution_count": 15,
   "metadata": {
    "collapsed": true
   },
   "outputs": [],
   "source": [
    "tetradGraph = fofc.search()"
   ]
  },
  {
   "cell_type": "code",
   "execution_count": 16,
   "metadata": {},
   "outputs": [
    {
     "data": {
      "text/plain": [
       "'Graph Nodes:\\nTangibilityCondition,AmountDonated,Sympathy,Imaginability,Impact,_L1\\n\\nGraph Edges:\\n1. _L1 --> AmountDonated\\n2. _L1 --> Imaginability\\n3. _L1 --> Impact\\n4. _L1 --> Sympathy\\n5. _L1 --> TangibilityCondition\\n'"
      ]
     },
     "execution_count": 16,
     "metadata": {},
     "output_type": "execute_result"
    }
   ],
   "source": [
    "tetradGraph.toString()"
   ]
  },
  {
   "cell_type": "code",
   "execution_count": 17,
   "metadata": {},
   "outputs": [
    {
     "data": {
      "text/plain": [
       "Instance of java.util.ArrayList: [TangibilityCondition, AmountDonated, Sympathy, Imaginability, Impact, _L1]"
      ]
     },
     "execution_count": 17,
     "metadata": {},
     "output_type": "execute_result"
    }
   ],
   "source": [
    "tetradGraph.getNodeNames()"
   ]
  },
  {
   "cell_type": "code",
   "execution_count": 18,
   "metadata": {},
   "outputs": [
    {
     "data": {
      "text/plain": [
       "Instance of java.util.HashSet: [_L1 --> AmountDonated, _L1 --> TangibilityCondition, _L1 --> Imaginability, _L1 --> Sympathy, _L1 --> Impact]"
      ]
     },
     "execution_count": 18,
     "metadata": {},
     "output_type": "execute_result"
    }
   ],
   "source": [
    "tetradGraph.getEdges()"
   ]
  },
  {
   "cell_type": "code",
   "execution_count": 19,
   "metadata": {
    "collapsed": true
   },
   "outputs": [],
   "source": [
    "graph = pydot.Dot(graph_type='digraph')"
   ]
  },
  {
   "cell_type": "code",
   "execution_count": 20,
   "metadata": {
    "collapsed": true
   },
   "outputs": [],
   "source": [
    "n = tetradGraph.getNodeNames().toString()\n",
    "n = n[1:len(n)-1]\n",
    "n = n.split(\",\")\n",
    "nodes = []\n",
    "for i in range(0,len(n)):\n",
    "    node = n[i]\n",
    "    n[i] = node.strip()\n",
    "    nodes.append(pydot.Node(n[i]))\n",
    "    graph.add_node(nodes[i])"
   ]
  },
  {
   "cell_type": "code",
   "execution_count": 21,
   "metadata": {
    "collapsed": true
   },
   "outputs": [],
   "source": [
    "def isNodeExisting(nodes,node):\n",
    "    try:\n",
    "        nodes.index(node)\n",
    "        return True\n",
    "    except IndexError:\n",
    "        print (\"Node {} does not exist!\".format (node))\n",
    "        return False\n"
   ]
  },
  {
   "cell_type": "code",
   "execution_count": 22,
   "metadata": {
    "collapsed": true
   },
   "outputs": [],
   "source": [
    "e = tetradGraph.getEdges().toString()\n",
    "e = e[1:len(e)-1]\n",
    "e = e.split(\",\")\n",
    "for i in range(0,len(e)):\n",
    "    e[i] = e[i].strip()\n",
    "    token = e[i].split(\" \")\n",
    "    if(len(token) == 3):\n",
    "        src = token[0]\n",
    "        arc = token[1]\n",
    "        dst = token[2]\n",
    "        if(isNodeExisting(n,src) and isNodeExisting(n,dst)):\n",
    "            edge = pydot.Edge(nodes[n.index(src)],nodes[n.index(dst)])\n",
    "            \n",
    "            if(arc[0] != \"-\"):\n",
    "                edge.set_dir(\"both\")\n",
    "            \n",
    "            if(arc[0] == \"o\"):\n",
    "                edge.set_arrowtail(\"odot\")\n",
    "            elif(arc[0] == \"<\"):\n",
    "                edge.set_arrowtail(\"normal\")\n",
    "            \n",
    "            if(arc[2] == \"-\"):\n",
    "                edge.set_arrowhead(\"none\")\n",
    "            elif(arc[2] == \"o\"):\n",
    "                edge.set_arrowhead(\"odot\")\n",
    "            else:\n",
    "                edge.set_arrowhead(\"normal\")\n",
    "            \n",
    "            graph.add_edge(edge)"
   ]
  },
  {
   "cell_type": "code",
   "execution_count": 23,
   "metadata": {},
   "outputs": [
    {
     "data": {
      "image/svg+xml": [
       "<svg height=\"116pt\" viewBox=\"0.00 0.00 670.89 116.00\" width=\"671pt\" xmlns=\"http://www.w3.org/2000/svg\" xmlns:xlink=\"http://www.w3.org/1999/xlink\">\n",
       "<g class=\"graph\" id=\"graph0\" transform=\"scale(1 1) rotate(0) translate(4 112)\">\n",
       "<title>G</title>\n",
       "<polygon fill=\"white\" points=\"-4,4 -4,-112 666.889,-112 666.889,4 -4,4\" stroke=\"none\"/>\n",
       "<!-- TangibilityCondition -->\n",
       "<g class=\"node\" id=\"node1\"><title>TangibilityCondition</title>\n",
       "<ellipse cx=\"85.1424\" cy=\"-18\" fill=\"none\" rx=\"85.2851\" ry=\"18\" stroke=\"black\"/>\n",
       "<text font-family=\"Times,serif\" font-size=\"14.00\" text-anchor=\"middle\" x=\"85.1424\" y=\"-14.3\">TangibilityCondition</text>\n",
       "</g>\n",
       "<!-- AmountDonated -->\n",
       "<g class=\"node\" id=\"node2\"><title>AmountDonated</title>\n",
       "<ellipse cx=\"258.142\" cy=\"-18\" fill=\"none\" rx=\"69.5877\" ry=\"18\" stroke=\"black\"/>\n",
       "<text font-family=\"Times,serif\" font-size=\"14.00\" text-anchor=\"middle\" x=\"258.142\" y=\"-14.3\">AmountDonated</text>\n",
       "</g>\n",
       "<!-- Sympathy -->\n",
       "<g class=\"node\" id=\"node3\"><title>Sympathy</title>\n",
       "<ellipse cx=\"392.142\" cy=\"-18\" fill=\"none\" rx=\"46.5926\" ry=\"18\" stroke=\"black\"/>\n",
       "<text font-family=\"Times,serif\" font-size=\"14.00\" text-anchor=\"middle\" x=\"392.142\" y=\"-14.3\">Sympathy</text>\n",
       "</g>\n",
       "<!-- Imaginability -->\n",
       "<g class=\"node\" id=\"node4\"><title>Imaginability</title>\n",
       "<ellipse cx=\"515.142\" cy=\"-18\" fill=\"none\" rx=\"58.4896\" ry=\"18\" stroke=\"black\"/>\n",
       "<text font-family=\"Times,serif\" font-size=\"14.00\" text-anchor=\"middle\" x=\"515.142\" y=\"-14.3\">Imaginability</text>\n",
       "</g>\n",
       "<!-- Impact -->\n",
       "<g class=\"node\" id=\"node5\"><title>Impact</title>\n",
       "<ellipse cx=\"627.142\" cy=\"-18\" fill=\"none\" rx=\"35.9954\" ry=\"18\" stroke=\"black\"/>\n",
       "<text font-family=\"Times,serif\" font-size=\"14.00\" text-anchor=\"middle\" x=\"627.142\" y=\"-14.3\">Impact</text>\n",
       "</g>\n",
       "<!-- _L1 -->\n",
       "<g class=\"node\" id=\"node6\"><title>_L1</title>\n",
       "<ellipse cx=\"392.142\" cy=\"-90\" fill=\"none\" rx=\"27\" ry=\"18\" stroke=\"black\"/>\n",
       "<text font-family=\"Times,serif\" font-size=\"14.00\" text-anchor=\"middle\" x=\"392.142\" y=\"-86.3\">_L1</text>\n",
       "</g>\n",
       "<!-- _L1&#45;&gt;TangibilityCondition -->\n",
       "<g class=\"edge\" id=\"edge2\"><title>_L1-&gt;TangibilityCondition</title>\n",
       "<path d=\"M367.019,-83.2716C320.231,-72.6032 218.371,-49.3778 150.779,-33.9661\" fill=\"none\" stroke=\"black\"/>\n",
       "<polygon fill=\"black\" points=\"151.181,-30.4679 140.653,-31.6571 149.625,-37.2927 151.181,-30.4679\" stroke=\"black\"/>\n",
       "</g>\n",
       "<!-- _L1&#45;&gt;AmountDonated -->\n",
       "<g class=\"edge\" id=\"edge1\"><title>_L1-&gt;AmountDonated</title>\n",
       "<path d=\"M371.499,-78.2159C351.579,-67.81 320.936,-51.8026 296.53,-39.0532\" fill=\"none\" stroke=\"black\"/>\n",
       "<polygon fill=\"black\" points=\"298.001,-35.8729 287.517,-34.3449 294.76,-42.0773 298.001,-35.8729\" stroke=\"black\"/>\n",
       "</g>\n",
       "<!-- _L1&#45;&gt;Sympathy -->\n",
       "<g class=\"edge\" id=\"edge4\"><title>_L1-&gt;Sympathy</title>\n",
       "<path d=\"M392.142,-71.6966C392.142,-63.9827 392.142,-54.7125 392.142,-46.1124\" fill=\"none\" stroke=\"black\"/>\n",
       "<polygon fill=\"black\" points=\"395.643,-46.1043 392.142,-36.1043 388.643,-46.1044 395.643,-46.1043\" stroke=\"black\"/>\n",
       "</g>\n",
       "<!-- _L1&#45;&gt;Imaginability -->\n",
       "<g class=\"edge\" id=\"edge3\"><title>_L1-&gt;Imaginability</title>\n",
       "<path d=\"M412.178,-77.5975C430.486,-67.1783 457.971,-51.5368 479.939,-39.0342\" fill=\"none\" stroke=\"black\"/>\n",
       "<polygon fill=\"black\" points=\"481.707,-42.0552 488.667,-34.0671 478.245,-35.9715 481.707,-42.0552\" stroke=\"black\"/>\n",
       "</g>\n",
       "<!-- _L1&#45;&gt;Impact -->\n",
       "<g class=\"edge\" id=\"edge5\"><title>_L1-&gt;Impact</title>\n",
       "<path d=\"M416.948,-82.8346C453.429,-73.5979 523.565,-55.1924 582.142,-36 584.732,-35.1517 587.392,-34.2435 590.063,-33.3044\" fill=\"none\" stroke=\"black\"/>\n",
       "<polygon fill=\"black\" points=\"591.466,-36.5188 599.675,-29.8207 589.08,-29.9377 591.466,-36.5188\" stroke=\"black\"/>\n",
       "</g>\n",
       "</g>\n",
       "</svg>"
      ],
      "text/plain": [
       "<IPython.core.display.SVG object>"
      ]
     },
     "execution_count": 23,
     "metadata": {},
     "output_type": "execute_result"
    }
   ],
   "source": [
    "svg_str = graph.create_svg(prog='dot')\n",
    "SVG(svg_str)"
   ]
  },
  {
   "cell_type": "code",
   "execution_count": 24,
   "metadata": {
    "collapsed": true
   },
   "outputs": [],
   "source": [
    "javabridge.detach()\n",
    "javabridge.kill_vm()"
   ]
  },
  {
   "cell_type": "code",
   "execution_count": null,
   "metadata": {
    "collapsed": true
   },
   "outputs": [],
   "source": []
  }
 ],
 "metadata": {
  "kernelspec": {
   "display_name": "Python 3",
   "language": "python",
   "name": "python3"
  },
  "language_info": {
   "codemirror_mode": {
    "name": "ipython",
    "version": 3
   },
   "file_extension": ".py",
   "mimetype": "text/x-python",
   "name": "python",
   "nbconvert_exporter": "python",
   "pygments_lexer": "ipython3",
   "version": "3.6.1"
  },
  "widgets": {
   "state": {},
   "version": "1.1.1"
  }
 },
 "nbformat": 4,
 "nbformat_minor": 1
}
