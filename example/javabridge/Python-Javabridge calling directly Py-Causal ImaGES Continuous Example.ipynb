{
 "cells": [
  {
   "cell_type": "code",
   "execution_count": 1,
   "metadata": {
    "collapsed": true
   },
   "outputs": [],
   "source": [
    "import javabridge\n",
    "import os\n",
    "import glob\n",
    "import pandas as pd\n",
    "import pydot\n",
    "from IPython.display import SVG"
   ]
  },
  {
   "cell_type": "code",
   "execution_count": 2,
   "metadata": {},
   "outputs": [
    {
     "name": "stdout",
     "output_type": "stream",
     "text": [
      "/home/jovyan/py-causal/example/javabridge/../../src/pycausal/lib/tetrad-lib-6.4.0-SNAPSHOT-tetradcmd.jar\n",
      "/home/jovyan/py-causal/example/javabridge/../../src/pycausal/lib/data-reader-0.2.3-SNAPSHOT.jar\n"
     ]
    }
   ],
   "source": [
    "tetrad_libdir = os.path.join(os.getcwd(), '../../','src', 'pycausal', 'lib')\n",
    "for l in glob.glob(tetrad_libdir + os.sep + \"*.jar\"):\n",
    "    print (l)\n",
    "    javabridge.JARS.append(str(l))"
   ]
  },
  {
   "cell_type": "code",
   "execution_count": 3,
   "metadata": {},
   "outputs": [
    {
     "data": {
      "text/plain": [
       "<JB_Env at 0x27dd9e0>"
      ]
     },
     "execution_count": 3,
     "metadata": {},
     "output_type": "execute_result"
    }
   ],
   "source": [
    "javabridge.start_vm(run_headless=True, max_heap_size = '100M')\n",
    "javabridge.attach()"
   ]
  },
  {
   "cell_type": "code",
   "execution_count": 4,
   "metadata": {
    "collapsed": true
   },
   "outputs": [],
   "source": [
    "def loadContinuousData(df, outputDataset = False):\n",
    "    tetradData = None\n",
    "\n",
    "    node_list = javabridge.JClassWrapper(\"java.util.ArrayList\")()\n",
    "    # load dataset\n",
    "    for col in df.columns:\n",
    "        nodi = javabridge.JClassWrapper(\"edu.cmu.tetrad.data.ContinuousVariable\") (col)\n",
    "        node_list.add(nodi)\n",
    "    \n",
    "    dataBox = javabridge.JClassWrapper(\"edu.cmu.tetrad.data.DoubleDataBox\")(len(df.index),df.columns.size)\n",
    "    \n",
    "    for col in range(0,df.columns.size):\n",
    "        for row in df.index:\n",
    "            value = javabridge.make_instance(\"java/lang/Double\", \"(D)V\", df.iloc[row,col])\n",
    "            dataBox.set(row,col,value)\n",
    "    \n",
    "    tetradData = javabridge.JClassWrapper(\"edu.cmu.tetrad.data.BoxDataSet\")(dataBox, node_list)\n",
    "    \n",
    "    if(not outputDataset):\n",
    "        tetradData = javabridge.JClassWrapper('edu.cmu.tetrad.data.CovarianceMatrixOnTheFly')(tetradData)\n",
    "        \n",
    "    return tetradData"
   ]
  },
  {
   "cell_type": "code",
   "execution_count": 5,
   "metadata": {},
   "outputs": [
    {
     "name": "stdout",
     "output_type": "stream",
     "text": [
      "/home/jovyan/py-causal/example/javabridge/../../data/9var/sub001.cent-table.9.dat.txt\n",
      "/home/jovyan/py-causal/example/javabridge/../../data/9var/sub016.cent-table.9.dat.txt\n",
      "/home/jovyan/py-causal/example/javabridge/../../data/9var/sub014.cent-table.9.dat.txt\n",
      "/home/jovyan/py-causal/example/javabridge/../../data/9var/sub010.cent-table.9.dat.txt\n",
      "/home/jovyan/py-causal/example/javabridge/../../data/9var/sub013.cent-table.9.dat.txt\n",
      "/home/jovyan/py-causal/example/javabridge/../../data/9var/sub017.cent-table.9.dat.txt\n",
      "/home/jovyan/py-causal/example/javabridge/../../data/9var/sub005.cent-table.9.dat.txt\n",
      "/home/jovyan/py-causal/example/javabridge/../../data/9var/sub009.cent-table.9.dat.txt\n",
      "/home/jovyan/py-causal/example/javabridge/../../data/9var/sub004.cent-table.9.dat.txt\n"
     ]
    }
   ],
   "source": [
    "datasets = javabridge.JClassWrapper('java.util.ArrayList')()\n",
    "tetrad_images_dir = os.path.join(os.getcwd(), '../../', 'data', '9var')\n",
    "for d in glob.glob(tetrad_images_dir + os.sep + \"*.txt\"):\n",
    "    print (d)\n",
    "    df = pd.read_table(d, sep=\"\\t\")\n",
    "    tetradData = loadContinuousData(df)\n",
    "    datasets.add(tetradData)"
   ]
  },
  {
   "cell_type": "code",
   "execution_count": 6,
   "metadata": {
    "collapsed": true
   },
   "outputs": [],
   "source": [
    "penaltyDiscount = 4\n",
    "maxDegree = 3\n",
    "faithfulnessAssumed = True\n",
    "verbose = True\n",
    "# numBootstrap = 5\n",
    "# ensembleMethod = 'Highest'"
   ]
  },
  {
   "cell_type": "code",
   "execution_count": 7,
   "metadata": {
    "collapsed": true
   },
   "outputs": [],
   "source": [
    "score = javabridge.JClassWrapper('edu.cmu.tetrad.search.SemBicScoreImages')(datasets)\n",
    "score.setPenaltyDiscount(penaltyDiscount)"
   ]
  },
  {
   "cell_type": "code",
   "execution_count": 8,
   "metadata": {
    "collapsed": true
   },
   "outputs": [],
   "source": [
    "fges = javabridge.JClassWrapper('edu.cmu.tetrad.search.Fges')(score)\n",
    "fges.setMaxDegree(maxDegree)\n",
    "fges.setNumPatternsToStore(0)\n",
    "fges.setFaithfulnessAssumed(faithfulnessAssumed)\n",
    "fges.setVerbose(verbose)"
   ]
  },
  {
   "cell_type": "code",
   "execution_count": 9,
   "metadata": {},
   "outputs": [
    {
     "data": {
      "text/plain": [
       "Instance of edu.cmu.tetrad.graph.EdgeListGraphSingleConnections: Graph Nodes:\n",
       "LOCC,LACC,LIFG,LIPL,ROCC,RACC,RIFG,RIPL,I\n",
       "\n",
       "Graph Edges:\n",
       "1. LIFG --- LACC\n",
       "2. LIFG --- RIFG\n",
       "3. LIPL --- LIFG\n",
       "4. LIPL --- LOCC\n",
       "5. LIPL --- RIPL\n",
       "6. LOCC --- I\n",
       "7. RACC --- LACC\n",
       "8. ROCC --- LOCC"
      ]
     },
     "execution_count": 9,
     "metadata": {},
     "output_type": "execute_result"
    }
   ],
   "source": [
    "tetradGraph = fges.search()\n",
    "tetradGraph"
   ]
  },
  {
   "cell_type": "code",
   "execution_count": 10,
   "metadata": {},
   "outputs": [
    {
     "data": {
      "text/plain": [
       "'Graph Nodes:\\nLOCC,LACC,LIFG,LIPL,ROCC,RACC,RIFG,RIPL,I\\n\\nGraph Edges:\\n1. LIFG --- LACC\\n2. LIFG --- RIFG\\n3. LIPL --- LIFG\\n4. LIPL --- LOCC\\n5. LIPL --- RIPL\\n6. LOCC --- I\\n7. RACC --- LACC\\n8. ROCC --- LOCC\\n'"
      ]
     },
     "execution_count": 10,
     "metadata": {},
     "output_type": "execute_result"
    }
   ],
   "source": [
    "tetradGraph.toString()"
   ]
  },
  {
   "cell_type": "code",
   "execution_count": 11,
   "metadata": {},
   "outputs": [
    {
     "data": {
      "text/plain": [
       "Instance of java.util.ArrayList: [LOCC, LACC, LIFG, LIPL, ROCC, RACC, RIFG, RIPL, I]"
      ]
     },
     "execution_count": 11,
     "metadata": {},
     "output_type": "execute_result"
    }
   ],
   "source": [
    "tetradGraph.getNodeNames()"
   ]
  },
  {
   "cell_type": "code",
   "execution_count": 12,
   "metadata": {},
   "outputs": [
    {
     "data": {
      "text/plain": [
       "Instance of java.util.HashSet: [LIPL --- LIFG, LIFG --- LACC, LIPL --- RIPL, ROCC --- LOCC, LIPL --- LOCC, LIFG --- RIFG, RACC --- LACC, LOCC --- I]"
      ]
     },
     "execution_count": 12,
     "metadata": {},
     "output_type": "execute_result"
    }
   ],
   "source": [
    "tetradGraph.getEdges()"
   ]
  },
  {
   "cell_type": "code",
   "execution_count": 13,
   "metadata": {
    "collapsed": true
   },
   "outputs": [],
   "source": [
    "graph = pydot.Dot(graph_type='digraph')"
   ]
  },
  {
   "cell_type": "code",
   "execution_count": 14,
   "metadata": {},
   "outputs": [
    {
     "name": "stdout",
     "output_type": "stream",
     "text": [
      "LOCC\n",
      "LACC\n",
      "LIFG\n",
      "LIPL\n",
      "ROCC\n",
      "RACC\n",
      "RIFG\n",
      "RIPL\n",
      "I\n"
     ]
    }
   ],
   "source": [
    "n = tetradGraph.getNodeNames().toString()\n",
    "n = n[1:len(n)-1]\n",
    "n = n.split(\",\")\n",
    "nodes = []\n",
    "for i in range(0,len(n)):\n",
    "    node = n[i]\n",
    "    n[i] = node.strip()\n",
    "    print (n[i])\n",
    "    nodes.append(pydot.Node(n[i]))\n",
    "    graph.add_node(nodes[i])"
   ]
  },
  {
   "cell_type": "code",
   "execution_count": 15,
   "metadata": {},
   "outputs": [],
   "source": [
    "def isNodeExisting(nodes,node):\n",
    "    try:\n",
    "        nodes.index(node)\n",
    "        return True\n",
    "    except IndexError:\n",
    "        print (\"Node {} does not exist!\".format(node))\n",
    "        return False\n",
    "\n",
    "e = tetradGraph.getEdges().toString()\n",
    "e = e[1:len(e)-1]\n",
    "e = e.split(\",\")\n",
    "for i in range(0,len(e)):\n",
    "    e[i] = e[i].strip()\n",
    "    token = e[i].split(\" \")\n",
    "    if(len(token) >= 3):\n",
    "        src = token[0]\n",
    "        arc = token[1]\n",
    "        dst = token[2]\n",
    "        if(isNodeExisting(n,src) and isNodeExisting(n,dst)):\n",
    "            edge = pydot.Edge(nodes[n.index(src)],nodes[n.index(dst)])\n",
    "            \n",
    "            if(arc[0] != \"-\"):\n",
    "                edge.set_dir(\"both\")\n",
    "            \n",
    "            if(arc[0] == \"o\"):\n",
    "                edge.set_arrowtail(\"odot\")\n",
    "            elif(arc[0] == \"<\"):\n",
    "                edge.set_arrowtail(\"normal\")\n",
    "            \n",
    "            if(arc[2] == \"-\"):\n",
    "                edge.set_arrowhead(\"none\")\n",
    "            elif(arc[2] == \"o\"):\n",
    "                edge.set_arrowhead(\"odot\")\n",
    "            else:\n",
    "                edge.set_arrowhead(\"normal\")\n",
    "            \n",
    "            graph.add_edge(edge)"
   ]
  },
  {
   "cell_type": "code",
   "execution_count": 16,
   "metadata": {},
   "outputs": [
    {
     "data": {
      "image/svg+xml": [
       "<svg height=\"188pt\" viewBox=\"0.00 0.00 319.89 188.00\" width=\"320pt\" xmlns=\"http://www.w3.org/2000/svg\" xmlns:xlink=\"http://www.w3.org/1999/xlink\">\n",
       "<g class=\"graph\" id=\"graph0\" transform=\"scale(1 1) rotate(0) translate(4 184)\">\n",
       "<title>G</title>\n",
       "<polygon fill=\"white\" points=\"-4,4 -4,-184 315.894,-184 315.894,4 -4,4\" stroke=\"none\"/>\n",
       "<!-- LOCC -->\n",
       "<g class=\"node\" id=\"node1\"><title>LOCC</title>\n",
       "<ellipse cx=\"34.4469\" cy=\"-90\" fill=\"none\" rx=\"34.394\" ry=\"18\" stroke=\"black\"/>\n",
       "<text font-family=\"Times,serif\" font-size=\"14.00\" text-anchor=\"middle\" x=\"34.4469\" y=\"-86.3\">LOCC</text>\n",
       "</g>\n",
       "<!-- I -->\n",
       "<g class=\"node\" id=\"node9\"><title>I</title>\n",
       "<ellipse cx=\"34.4469\" cy=\"-18\" fill=\"none\" rx=\"27\" ry=\"18\" stroke=\"black\"/>\n",
       "<text font-family=\"Times,serif\" font-size=\"14.00\" text-anchor=\"middle\" x=\"34.4469\" y=\"-14.3\">I</text>\n",
       "</g>\n",
       "<!-- LOCC&#45;&gt;I -->\n",
       "<g class=\"edge\" id=\"edge8\"><title>LOCC-&gt;I</title>\n",
       "<path d=\"M34.4469,-71.6966C34.4469,-60.8463 34.4469,-46.9167 34.4469,-36.1043\" fill=\"none\" stroke=\"black\"/>\n",
       "</g>\n",
       "<!-- LACC -->\n",
       "<g class=\"node\" id=\"node2\"><title>LACC</title>\n",
       "<ellipse cx=\"238.447\" cy=\"-18\" fill=\"none\" rx=\"34.394\" ry=\"18\" stroke=\"black\"/>\n",
       "<text font-family=\"Times,serif\" font-size=\"14.00\" text-anchor=\"middle\" x=\"238.447\" y=\"-14.3\">LACC</text>\n",
       "</g>\n",
       "<!-- LIFG -->\n",
       "<g class=\"node\" id=\"node3\"><title>LIFG</title>\n",
       "<ellipse cx=\"117.447\" cy=\"-90\" fill=\"none\" rx=\"30.5947\" ry=\"18\" stroke=\"black\"/>\n",
       "<text font-family=\"Times,serif\" font-size=\"14.00\" text-anchor=\"middle\" x=\"117.447\" y=\"-86.3\">LIFG</text>\n",
       "</g>\n",
       "<!-- LIFG&#45;&gt;LACC -->\n",
       "<g class=\"edge\" id=\"edge2\"><title>LIFG-&gt;LACC</title>\n",
       "<path d=\"M138.524,-76.8069C160.191,-64.2723 193.806,-44.8251 215.971,-32.0024\" fill=\"none\" stroke=\"black\"/>\n",
       "</g>\n",
       "<!-- RIFG -->\n",
       "<g class=\"node\" id=\"node7\"><title>RIFG</title>\n",
       "<ellipse cx=\"117.447\" cy=\"-18\" fill=\"none\" rx=\"30.5947\" ry=\"18\" stroke=\"black\"/>\n",
       "<text font-family=\"Times,serif\" font-size=\"14.00\" text-anchor=\"middle\" x=\"117.447\" y=\"-14.3\">RIFG</text>\n",
       "</g>\n",
       "<!-- LIFG&#45;&gt;RIFG -->\n",
       "<g class=\"edge\" id=\"edge6\"><title>LIFG-&gt;RIFG</title>\n",
       "<path d=\"M117.447,-71.6966C117.447,-60.8463 117.447,-46.9167 117.447,-36.1043\" fill=\"none\" stroke=\"black\"/>\n",
       "</g>\n",
       "<!-- LIPL -->\n",
       "<g class=\"node\" id=\"node4\"><title>LIPL</title>\n",
       "<ellipse cx=\"117.447\" cy=\"-162\" fill=\"none\" rx=\"29.4969\" ry=\"18\" stroke=\"black\"/>\n",
       "<text font-family=\"Times,serif\" font-size=\"14.00\" text-anchor=\"middle\" x=\"117.447\" y=\"-158.3\">LIPL</text>\n",
       "</g>\n",
       "<!-- LIPL&#45;&gt;LOCC -->\n",
       "<g class=\"edge\" id=\"edge5\"><title>LIPL-&gt;LOCC</title>\n",
       "<path d=\"M100.651,-146.834C86.44,-134.85 66.1532,-117.74 51.7896,-105.626\" fill=\"none\" stroke=\"black\"/>\n",
       "</g>\n",
       "<!-- LIPL&#45;&gt;LIFG -->\n",
       "<g class=\"edge\" id=\"edge1\"><title>LIPL-&gt;LIFG</title>\n",
       "<path d=\"M117.447,-143.697C117.447,-132.846 117.447,-118.917 117.447,-108.104\" fill=\"none\" stroke=\"black\"/>\n",
       "</g>\n",
       "<!-- RIPL -->\n",
       "<g class=\"node\" id=\"node8\"><title>RIPL</title>\n",
       "<ellipse cx=\"195.447\" cy=\"-90\" fill=\"none\" rx=\"29.795\" ry=\"18\" stroke=\"black\"/>\n",
       "<text font-family=\"Times,serif\" font-size=\"14.00\" text-anchor=\"middle\" x=\"195.447\" y=\"-86.3\">RIPL</text>\n",
       "</g>\n",
       "<!-- LIPL&#45;&gt;RIPL -->\n",
       "<g class=\"edge\" id=\"edge3\"><title>LIPL-&gt;RIPL</title>\n",
       "<path d=\"M133.231,-146.834C146.675,-134.77 165.905,-117.512 179.418,-105.385\" fill=\"none\" stroke=\"black\"/>\n",
       "</g>\n",
       "<!-- ROCC -->\n",
       "<g class=\"node\" id=\"node5\"><title>ROCC</title>\n",
       "<ellipse cx=\"34.4469\" cy=\"-162\" fill=\"none\" rx=\"34.394\" ry=\"18\" stroke=\"black\"/>\n",
       "<text font-family=\"Times,serif\" font-size=\"14.00\" text-anchor=\"middle\" x=\"34.4469\" y=\"-158.3\">ROCC</text>\n",
       "</g>\n",
       "<!-- ROCC&#45;&gt;LOCC -->\n",
       "<g class=\"edge\" id=\"edge4\"><title>ROCC-&gt;LOCC</title>\n",
       "<path d=\"M34.4469,-143.697C34.4469,-132.846 34.4469,-118.917 34.4469,-108.104\" fill=\"none\" stroke=\"black\"/>\n",
       "</g>\n",
       "<!-- RACC -->\n",
       "<g class=\"node\" id=\"node6\"><title>RACC</title>\n",
       "<ellipse cx=\"277.447\" cy=\"-90\" fill=\"none\" rx=\"34.394\" ry=\"18\" stroke=\"black\"/>\n",
       "<text font-family=\"Times,serif\" font-size=\"14.00\" text-anchor=\"middle\" x=\"277.447\" y=\"-86.3\">RACC</text>\n",
       "</g>\n",
       "<!-- RACC&#45;&gt;LACC -->\n",
       "<g class=\"edge\" id=\"edge7\"><title>RACC-&gt;LACC</title>\n",
       "<path d=\"M268.204,-72.411C261.988,-61.2524 253.826,-46.6036 247.623,-35.4699\" fill=\"none\" stroke=\"black\"/>\n",
       "</g>\n",
       "</g>\n",
       "</svg>"
      ],
      "text/plain": [
       "<IPython.core.display.SVG object>"
      ]
     },
     "execution_count": 16,
     "metadata": {},
     "output_type": "execute_result"
    }
   ],
   "source": [
    "svg_str = graph.create_svg(prog='dot')\n",
    "SVG(svg_str)"
   ]
  },
  {
   "cell_type": "code",
   "execution_count": 17,
   "metadata": {
    "collapsed": true
   },
   "outputs": [],
   "source": [
    "javabridge.detach()\n",
    "javabridge.kill_vm()"
   ]
  },
  {
   "cell_type": "code",
   "execution_count": null,
   "metadata": {
    "collapsed": true
   },
   "outputs": [],
   "source": []
  }
 ],
 "metadata": {
  "kernelspec": {
   "display_name": "Python 3",
   "language": "python",
   "name": "python3"
  },
  "language_info": {
   "codemirror_mode": {
    "name": "ipython",
    "version": 3
   },
   "file_extension": ".py",
   "mimetype": "text/x-python",
   "name": "python",
   "nbconvert_exporter": "python",
   "pygments_lexer": "ipython3",
   "version": "3.6.1"
  },
  "widgets": {
   "state": {},
   "version": "1.1.1"
  }
 },
 "nbformat": 4,
 "nbformat_minor": 1
}
