{
 "cells": [
  {
   "cell_type": "code",
   "execution_count": 1,
   "metadata": {
    "collapsed": true
   },
   "outputs": [],
   "source": [
    "import javabridge\n",
    "import os\n",
    "import glob\n",
    "import pandas as pd\n",
    "import pydot\n",
    "from IPython.display import SVG"
   ]
  },
  {
   "cell_type": "code",
   "execution_count": 2,
   "metadata": {},
   "outputs": [
    {
     "name": "stdout",
     "output_type": "stream",
     "text": [
      "/home/jovyan/py-causal/example/javabridge/../../src/pycausal/lib/causal-cmd-0.2.0-SNAPSHOT.jar\n",
      "/home/jovyan/py-causal/example/javabridge/../../src/pycausal/lib/tetrad-lib-6.4.0-SNAPSHOT-tetradcmd.jar\n",
      "/home/jovyan/py-causal/example/javabridge/../../src/pycausal/lib/data-reader-0.2.0-SNAPSHOT.jar\n"
     ]
    }
   ],
   "source": [
    "tetrad_libdir = os.path.join(os.getcwd(), '../../','src', 'pycausal', 'lib')\n",
    "for l in glob.glob(tetrad_libdir + os.sep + \"*.jar\"):\n",
    "    print l\n",
    "    javabridge.JARS.append(str(l))"
   ]
  },
  {
   "cell_type": "code",
   "execution_count": 3,
   "metadata": {},
   "outputs": [
    {
     "data": {
      "text/plain": [
       "<JB_Env at 0x1a6d1e0>"
      ]
     },
     "execution_count": 3,
     "metadata": {},
     "output_type": "execute_result"
    }
   ],
   "source": [
    "javabridge.start_vm(run_headless=True, max_heap_size = '100M')\n",
    "javabridge.attach()"
   ]
  },
  {
   "cell_type": "code",
   "execution_count": 4,
   "metadata": {},
   "outputs": [],
   "source": [
    "def loadContinuousData(df, outputDataset = False):\n",
    "    tetradData = None\n",
    "\n",
    "    node_list = javabridge.JClassWrapper(\"java.util.ArrayList\")()\n",
    "    # load dataset\n",
    "    for col in df.columns:\n",
    "        nodi = javabridge.JClassWrapper(\"edu.cmu.tetrad.data.ContinuousVariable\") (col)\n",
    "        node_list.add(nodi)\n",
    "    \n",
    "    dataBox = javabridge.JClassWrapper(\"edu.cmu.tetrad.data.DoubleDataBox\")(len(df.index),df.columns.size)\n",
    "    \n",
    "    for col in range(0,df.columns.size):\n",
    "        for row in df.index:\n",
    "            value = javabridge.make_instance(\"java/lang/Double\", \"(D)V\", df.ix[row][col])\n",
    "            dataBox.set(row,col,value)\n",
    "    \n",
    "    tetradData = javabridge.JClassWrapper(\"edu.cmu.tetrad.data.BoxDataSet\")(dataBox, node_list)\n",
    "    \n",
    "    if(not outputDataset):\n",
    "        tetradData = javabridge.JClassWrapper('edu.cmu.tetrad.data.CovarianceMatrixOnTheFly')(tetradData)\n",
    "        \n",
    "    return tetradData"
   ]
  },
  {
   "cell_type": "code",
   "execution_count": 5,
   "metadata": {},
   "outputs": [
    {
     "name": "stdout",
     "output_type": "stream",
     "text": [
      "/home/jovyan/py-causal/example/javabridge/../../data/9var/sub016.cent-table.9.dat.txt\n",
      "/home/jovyan/py-causal/example/javabridge/../../data/9var/sub009.cent-table.9.dat.txt\n",
      "/home/jovyan/py-causal/example/javabridge/../../data/9var/sub005.cent-table.9.dat.txt\n",
      "/home/jovyan/py-causal/example/javabridge/../../data/9var/sub010.cent-table.9.dat.txt\n",
      "/home/jovyan/py-causal/example/javabridge/../../data/9var/sub013.cent-table.9.dat.txt\n",
      "/home/jovyan/py-causal/example/javabridge/../../data/9var/sub017.cent-table.9.dat.txt\n",
      "/home/jovyan/py-causal/example/javabridge/../../data/9var/sub014.cent-table.9.dat.txt\n",
      "/home/jovyan/py-causal/example/javabridge/../../data/9var/sub001.cent-table.9.dat.txt\n",
      "/home/jovyan/py-causal/example/javabridge/../../data/9var/sub004.cent-table.9.dat.txt\n"
     ]
    }
   ],
   "source": [
    "datasets = javabridge.JClassWrapper('java.util.ArrayList')()\n",
    "tetrad_images_dir = os.path.join(os.getcwd(), '../../', 'data', '9var')\n",
    "for d in glob.glob(tetrad_images_dir + os.sep + \"*.txt\"):\n",
    "    print d\n",
    "    df = pd.read_table(d, sep=\"\\t\")\n",
    "    tetradData = loadContinuousData(df)\n",
    "    datasets.add(tetradData)"
   ]
  },
  {
   "cell_type": "code",
   "execution_count": 6,
   "metadata": {
    "collapsed": true
   },
   "outputs": [],
   "source": [
    "penaltyDiscount = 4\n",
    "maxDegree = 3\n",
    "faithfulnessAssumed = True\n",
    "verbose = True\n",
    "# numBootstrap = 5\n",
    "# ensembleMethod = 'Highest'"
   ]
  },
  {
   "cell_type": "code",
   "execution_count": 7,
   "metadata": {},
   "outputs": [],
   "source": [
    "score = javabridge.JClassWrapper('edu.cmu.tetrad.search.SemBicScoreImages')(datasets)\n",
    "score.setPenaltyDiscount(penaltyDiscount)"
   ]
  },
  {
   "cell_type": "code",
   "execution_count": 8,
   "metadata": {
    "collapsed": true
   },
   "outputs": [],
   "source": [
    "fges = javabridge.JClassWrapper('edu.cmu.tetrad.search.Fges')(score)\n",
    "fges.setMaxDegree(maxDegree)\n",
    "fges.setNumPatternsToStore(0)\n",
    "fges.setFaithfulnessAssumed(faithfulnessAssumed)\n",
    "fges.setVerbose(verbose)"
   ]
  },
  {
   "cell_type": "code",
   "execution_count": 9,
   "metadata": {},
   "outputs": [
    {
     "data": {
      "text/plain": [
       "Instance of edu.cmu.tetrad.graph.EdgeListGraphSingleConnections: Graph Nodes:\n",
       "LOCC,LACC,LIFG,LIPL,ROCC,RACC,RIFG,RIPL,I\n",
       "\n",
       "Graph Edges:\n",
       "1. LACC --> RACC \n",
       "2. LIFG --> LACC \n",
       "3. LIFG --> RIFG \n",
       "4. LIPL --- LIFG \n",
       "5. LIPL --- LOCC \n",
       "6. LIPL --- RIPL \n",
       "7. LOCC --- I \n",
       "8. RIPL --> RACC \n",
       "9. RIPL --> RIFG \n",
       "10. ROCC --> LACC \n",
       "11. ROCC --- LOCC "
      ]
     },
     "execution_count": 9,
     "metadata": {},
     "output_type": "execute_result"
    }
   ],
   "source": [
    "tetradGraph = fges.search()\n",
    "tetradGraph"
   ]
  },
  {
   "cell_type": "code",
   "execution_count": 10,
   "metadata": {},
   "outputs": [
    {
     "data": {
      "text/plain": [
       "u'Graph Nodes:\\nLOCC,LACC,LIFG,LIPL,ROCC,RACC,RIFG,RIPL,I\\n\\nGraph Edges:\\n1. LACC --> RACC \\n2. LIFG --> LACC \\n3. LIFG --> RIFG \\n4. LIPL --- LIFG \\n5. LIPL --- LOCC \\n6. LIPL --- RIPL \\n7. LOCC --- I \\n8. RIPL --> RACC \\n9. RIPL --> RIFG \\n10. ROCC --> LACC \\n11. ROCC --- LOCC \\n'"
      ]
     },
     "execution_count": 10,
     "metadata": {},
     "output_type": "execute_result"
    }
   ],
   "source": [
    "tetradGraph.toString()"
   ]
  },
  {
   "cell_type": "code",
   "execution_count": 11,
   "metadata": {},
   "outputs": [
    {
     "data": {
      "text/plain": [
       "Instance of java.util.ArrayList: [LOCC, LACC, LIFG, LIPL, ROCC, RACC, RIFG, RIPL, I]"
      ]
     },
     "execution_count": 11,
     "metadata": {},
     "output_type": "execute_result"
    }
   ],
   "source": [
    "tetradGraph.getNodeNames()"
   ]
  },
  {
   "cell_type": "code",
   "execution_count": 12,
   "metadata": {},
   "outputs": [
    {
     "data": {
      "text/plain": [
       "Instance of java.util.HashSet: [LIPL --- LIFG, LIFG --> LACC, LIPL --- RIPL, RIPL --> RIFG, ROCC --- LOCC, LIPL --- LOCC, ROCC --> LACC, LIFG --> RIFG, LACC --> RACC, RIPL --> RACC, LOCC --- I]"
      ]
     },
     "execution_count": 12,
     "metadata": {},
     "output_type": "execute_result"
    }
   ],
   "source": [
    "tetradGraph.getEdges()"
   ]
  },
  {
   "cell_type": "code",
   "execution_count": 13,
   "metadata": {
    "collapsed": true
   },
   "outputs": [],
   "source": [
    "graph = pydot.Dot(graph_type='digraph')"
   ]
  },
  {
   "cell_type": "code",
   "execution_count": 14,
   "metadata": {},
   "outputs": [
    {
     "name": "stdout",
     "output_type": "stream",
     "text": [
      "LOCC\n",
      "LACC\n",
      "LIFG\n",
      "LIPL\n",
      "ROCC\n",
      "RACC\n",
      "RIFG\n",
      "RIPL\n",
      "I\n"
     ]
    }
   ],
   "source": [
    "n = tetradGraph.getNodeNames().toString()\n",
    "n = n[1:len(n)-1]\n",
    "n = n.split(\",\")\n",
    "nodes = []\n",
    "for i in range(0,len(n)):\n",
    "    node = n[i]\n",
    "    n[i] = node.strip()\n",
    "    print n[i]\n",
    "    nodes.append(pydot.Node(n[i]))\n",
    "    graph.add_node(nodes[i])"
   ]
  },
  {
   "cell_type": "code",
   "execution_count": 15,
   "metadata": {
    "collapsed": true
   },
   "outputs": [],
   "source": [
    "def isNodeExisting(nodes,node):\n",
    "    try:\n",
    "        nodes.index(node)\n",
    "        return True\n",
    "    except IndexError:\n",
    "        print \"Node %s does not exist!\", node\n",
    "        return False\n",
    "\n",
    "e = tetradGraph.getEdges().toString()\n",
    "e = e[1:len(e)-1]\n",
    "e = e.split(\",\")\n",
    "for i in range(0,len(e)):\n",
    "    e[i] = e[i].strip()\n",
    "    token = e[i].split(\" \")\n",
    "    if(len(token) >= 3):\n",
    "        src = token[0]\n",
    "        arc = token[1]\n",
    "        dst = token[2]\n",
    "        if(isNodeExisting(n,src) and isNodeExisting(n,dst)):\n",
    "            edge = pydot.Edge(nodes[n.index(src)],nodes[n.index(dst)])\n",
    "            if(arc == \"---\"):\n",
    "                edge.set_arrowhead(\"none\")\n",
    "            graph.add_edge(edge)"
   ]
  },
  {
   "cell_type": "code",
   "execution_count": 16,
   "metadata": {
    "collapsed": true
   },
   "outputs": [],
   "source": [
    "svg_str = graph.create_svg(prog='dot')"
   ]
  },
  {
   "cell_type": "code",
   "execution_count": 17,
   "metadata": {},
   "outputs": [
    {
     "data": {
      "image/svg+xml": [
       "<svg height=\"260pt\" viewBox=\"0.00 0.00 291.34 260.00\" width=\"291pt\" xmlns=\"http://www.w3.org/2000/svg\" xmlns:xlink=\"http://www.w3.org/1999/xlink\">\n",
       "<g class=\"graph\" id=\"graph0\" transform=\"scale(1 1) rotate(0) translate(4 256)\">\n",
       "<title>G</title>\n",
       "<polygon fill=\"white\" points=\"-4,4 -4,-256 287.344,-256 287.344,4 -4,4\" stroke=\"none\"/>\n",
       "<!-- LOCC -->\n",
       "<g class=\"node\" id=\"node1\"><title>LOCC</title>\n",
       "<ellipse cx=\"92.4469\" cy=\"-162\" fill=\"none\" rx=\"34.394\" ry=\"18\" stroke=\"black\"/>\n",
       "<text font-family=\"Times,serif\" font-size=\"14.00\" text-anchor=\"middle\" x=\"92.4469\" y=\"-158.3\">LOCC</text>\n",
       "</g>\n",
       "<!-- I -->\n",
       "<g class=\"node\" id=\"node9\"><title>I</title>\n",
       "<ellipse cx=\"113.447\" cy=\"-90\" fill=\"none\" rx=\"27\" ry=\"18\" stroke=\"black\"/>\n",
       "<text font-family=\"Times,serif\" font-size=\"14.00\" text-anchor=\"middle\" x=\"113.447\" y=\"-86.3\">I</text>\n",
       "</g>\n",
       "<!-- LOCC&#45;&gt;I -->\n",
       "<g class=\"edge\" id=\"edge11\"><title>LOCC-&gt;I</title>\n",
       "<path d=\"M97.5305,-144.055C100.832,-133.049 105.118,-118.764 108.41,-107.789\" fill=\"none\" stroke=\"black\"/>\n",
       "</g>\n",
       "<!-- LACC -->\n",
       "<g class=\"node\" id=\"node2\"><title>LACC</title>\n",
       "<ellipse cx=\"34.4469\" cy=\"-90\" fill=\"none\" rx=\"34.394\" ry=\"18\" stroke=\"black\"/>\n",
       "<text font-family=\"Times,serif\" font-size=\"14.00\" text-anchor=\"middle\" x=\"34.4469\" y=\"-86.3\">LACC</text>\n",
       "</g>\n",
       "<!-- RACC -->\n",
       "<g class=\"node\" id=\"node6\"><title>RACC</title>\n",
       "<ellipse cx=\"142.447\" cy=\"-18\" fill=\"none\" rx=\"34.394\" ry=\"18\" stroke=\"black\"/>\n",
       "<text font-family=\"Times,serif\" font-size=\"14.00\" text-anchor=\"middle\" x=\"142.447\" y=\"-14.3\">RACC</text>\n",
       "</g>\n",
       "<!-- LACC&#45;&gt;RACC -->\n",
       "<g class=\"edge\" id=\"edge9\"><title>LACC-&gt;RACC</title>\n",
       "<path d=\"M55.2704,-75.5033C71.7054,-64.851 94.8345,-49.8599 113.139,-37.9957\" fill=\"none\" stroke=\"black\"/>\n",
       "<polygon fill=\"black\" points=\"115.199,-40.8313 121.687,-32.4553 111.392,-34.9572 115.199,-40.8313\" stroke=\"black\"/>\n",
       "</g>\n",
       "<!-- LIFG -->\n",
       "<g class=\"node\" id=\"node3\"><title>LIFG</title>\n",
       "<ellipse cx=\"175.447\" cy=\"-162\" fill=\"none\" rx=\"30.5947\" ry=\"18\" stroke=\"black\"/>\n",
       "<text font-family=\"Times,serif\" font-size=\"14.00\" text-anchor=\"middle\" x=\"175.447\" y=\"-158.3\">LIFG</text>\n",
       "</g>\n",
       "<!-- LIFG&#45;&gt;LACC -->\n",
       "<g class=\"edge\" id=\"edge2\"><title>LIFG-&gt;LACC</title>\n",
       "<path d=\"M152.793,-149.753C129.775,-138.326 93.872,-120.502 67.644,-107.481\" fill=\"none\" stroke=\"black\"/>\n",
       "<polygon fill=\"black\" points=\"68.9738,-104.233 58.4605,-102.922 65.8611,-110.503 68.9738,-104.233\" stroke=\"black\"/>\n",
       "</g>\n",
       "<!-- RIFG -->\n",
       "<g class=\"node\" id=\"node7\"><title>RIFG</title>\n",
       "<ellipse cx=\"191.447\" cy=\"-90\" fill=\"none\" rx=\"30.5947\" ry=\"18\" stroke=\"black\"/>\n",
       "<text font-family=\"Times,serif\" font-size=\"14.00\" text-anchor=\"middle\" x=\"191.447\" y=\"-86.3\">RIFG</text>\n",
       "</g>\n",
       "<!-- LIFG&#45;&gt;RIFG -->\n",
       "<g class=\"edge\" id=\"edge8\"><title>LIFG-&gt;RIFG</title>\n",
       "<path d=\"M179.32,-144.055C181.102,-136.261 183.259,-126.822 185.257,-118.079\" fill=\"none\" stroke=\"black\"/>\n",
       "<polygon fill=\"black\" points=\"188.682,-118.804 187.498,-108.275 181.858,-117.244 188.682,-118.804\" stroke=\"black\"/>\n",
       "</g>\n",
       "<!-- LIPL -->\n",
       "<g class=\"node\" id=\"node4\"><title>LIPL</title>\n",
       "<ellipse cx=\"175.447\" cy=\"-234\" fill=\"none\" rx=\"29.4969\" ry=\"18\" stroke=\"black\"/>\n",
       "<text font-family=\"Times,serif\" font-size=\"14.00\" text-anchor=\"middle\" x=\"175.447\" y=\"-230.3\">LIPL</text>\n",
       "</g>\n",
       "<!-- LIPL&#45;&gt;LOCC -->\n",
       "<g class=\"edge\" id=\"edge6\"><title>LIPL-&gt;LOCC</title>\n",
       "<path d=\"M158.651,-218.834C144.44,-206.85 124.153,-189.74 109.79,-177.626\" fill=\"none\" stroke=\"black\"/>\n",
       "</g>\n",
       "<!-- LIPL&#45;&gt;LIFG -->\n",
       "<g class=\"edge\" id=\"edge1\"><title>LIPL-&gt;LIFG</title>\n",
       "<path d=\"M175.447,-215.697C175.447,-204.846 175.447,-190.917 175.447,-180.104\" fill=\"none\" stroke=\"black\"/>\n",
       "</g>\n",
       "<!-- RIPL -->\n",
       "<g class=\"node\" id=\"node8\"><title>RIPL</title>\n",
       "<ellipse cx=\"253.447\" cy=\"-162\" fill=\"none\" rx=\"29.795\" ry=\"18\" stroke=\"black\"/>\n",
       "<text font-family=\"Times,serif\" font-size=\"14.00\" text-anchor=\"middle\" x=\"253.447\" y=\"-158.3\">RIPL</text>\n",
       "</g>\n",
       "<!-- LIPL&#45;&gt;RIPL -->\n",
       "<g class=\"edge\" id=\"edge3\"><title>LIPL-&gt;RIPL</title>\n",
       "<path d=\"M191.231,-218.834C204.675,-206.77 223.905,-189.512 237.418,-177.385\" fill=\"none\" stroke=\"black\"/>\n",
       "</g>\n",
       "<!-- ROCC -->\n",
       "<g class=\"node\" id=\"node5\"><title>ROCC</title>\n",
       "<ellipse cx=\"61.4469\" cy=\"-234\" fill=\"none\" rx=\"34.394\" ry=\"18\" stroke=\"black\"/>\n",
       "<text font-family=\"Times,serif\" font-size=\"14.00\" text-anchor=\"middle\" x=\"61.4469\" y=\"-230.3\">ROCC</text>\n",
       "</g>\n",
       "<!-- ROCC&#45;&gt;LOCC -->\n",
       "<g class=\"edge\" id=\"edge5\"><title>ROCC-&gt;LOCC</title>\n",
       "<path d=\"M68.7935,-216.411C73.6635,-205.414 80.0348,-191.027 84.9378,-179.956\" fill=\"none\" stroke=\"black\"/>\n",
       "</g>\n",
       "<!-- ROCC&#45;&gt;LACC -->\n",
       "<g class=\"edge\" id=\"edge7\"><title>ROCC-&gt;LACC</title>\n",
       "<path d=\"M57.313,-215.866C54.8786,-205.512 51.8212,-192.033 49.4469,-180 45.3775,-159.376 41.4538,-135.926 38.6407,-118.276\" fill=\"none\" stroke=\"black\"/>\n",
       "<polygon fill=\"black\" points=\"42.0535,-117.448 37.0413,-108.113 35.1386,-118.536 42.0535,-117.448\" stroke=\"black\"/>\n",
       "</g>\n",
       "<!-- RIPL&#45;&gt;RACC -->\n",
       "<g class=\"edge\" id=\"edge10\"><title>RIPL-&gt;RACC</title>\n",
       "<path d=\"M253.059,-143.951C251.817,-124.72 247.278,-93.3516 231.447,-72 218.404,-54.4087 197.631,-41.5607 179.434,-32.9238\" fill=\"none\" stroke=\"black\"/>\n",
       "<polygon fill=\"black\" points=\"180.764,-29.6846 170.208,-28.7883 177.901,-36.0723 180.764,-29.6846\" stroke=\"black\"/>\n",
       "</g>\n",
       "<!-- RIPL&#45;&gt;RIFG -->\n",
       "<g class=\"edge\" id=\"edge4\"><title>RIPL-&gt;RIFG</title>\n",
       "<path d=\"M239.994,-145.811C231.82,-136.583 221.22,-124.615 212.011,-114.217\" fill=\"none\" stroke=\"black\"/>\n",
       "<polygon fill=\"black\" points=\"214.554,-111.809 205.303,-106.644 209.313,-116.451 214.554,-111.809\" stroke=\"black\"/>\n",
       "</g>\n",
       "</g>\n",
       "</svg>"
      ],
      "text/plain": [
       "<IPython.core.display.SVG object>"
      ]
     },
     "execution_count": 17,
     "metadata": {},
     "output_type": "execute_result"
    }
   ],
   "source": [
    "SVG(svg_str)"
   ]
  },
  {
   "cell_type": "code",
   "execution_count": 18,
   "metadata": {
    "collapsed": true
   },
   "outputs": [],
   "source": [
    "javabridge.detach()\n",
    "javabridge.kill_vm()"
   ]
  },
  {
   "cell_type": "code",
   "execution_count": null,
   "metadata": {
    "collapsed": true
   },
   "outputs": [],
   "source": []
  }
 ],
 "metadata": {
  "kernelspec": {
   "display_name": "Python 2",
   "language": "python",
   "name": "python2"
  },
  "language_info": {
   "codemirror_mode": {
    "name": "ipython",
    "version": 2
   },
   "file_extension": ".py",
   "mimetype": "text/x-python",
   "name": "python",
   "nbconvert_exporter": "python",
   "pygments_lexer": "ipython2",
   "version": "2.7.13"
  },
  "widgets": {
   "state": {},
   "version": "1.1.1"
  }
 },
 "nbformat": 4,
 "nbformat_minor": 1
}
