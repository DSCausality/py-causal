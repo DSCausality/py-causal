{
 "cells": [
  {
   "cell_type": "code",
   "execution_count": 1,
   "metadata": {},
   "outputs": [],
   "source": [
    "import javabridge\n",
    "import os\n",
    "import glob\n",
    "import pandas as pd\n",
    "import pydot\n",
    "from IPython.display import SVG"
   ]
  },
  {
   "cell_type": "code",
   "execution_count": 2,
   "metadata": {},
   "outputs": [
    {
     "name": "stdout",
     "output_type": "stream",
     "text": [
      "/home/jovyan/py-causal/example/javabridge/../../src/pycausal/lib/causal-cmd-1.0.0-jar-with-dependencies.jar\n"
     ]
    }
   ],
   "source": [
    "tetrad_libdir = os.path.join(os.getcwd(), '../../','src', 'pycausal', 'lib')\n",
    "for l in glob.glob(tetrad_libdir + os.sep + \"*.jar\"):\n",
    "    print (l)\n",
    "    javabridge.JARS.append(str(l))"
   ]
  },
  {
   "cell_type": "code",
   "execution_count": 3,
   "metadata": {},
   "outputs": [
    {
     "data": {
      "text/plain": [
       "<JB_Env at 0x5563aeb901e0>"
      ]
     },
     "execution_count": 3,
     "metadata": {},
     "output_type": "execute_result"
    }
   ],
   "source": [
    "javabridge.start_vm(run_headless=True, max_heap_size = '100M')\n",
    "javabridge.attach()"
   ]
  },
  {
   "cell_type": "code",
   "execution_count": 4,
   "metadata": {},
   "outputs": [],
   "source": [
    "def loadContinuousData(df, outputDataset = False):\n",
    "    tetradData = None\n",
    "\n",
    "    node_list = javabridge.JClassWrapper(\"java.util.ArrayList\")()\n",
    "    # load dataset\n",
    "    for col in df.columns:\n",
    "        nodi = javabridge.JClassWrapper(\"edu.cmu.tetrad.data.ContinuousVariable\") (col)\n",
    "        node_list.add(nodi)\n",
    "    \n",
    "    dataBox = javabridge.JClassWrapper(\"edu.cmu.tetrad.data.DoubleDataBox\")(len(df.index),df.columns.size)\n",
    "    \n",
    "    for col in range(0,df.columns.size):\n",
    "        for row in df.index:\n",
    "            value = javabridge.make_instance(\"java/lang/Double\", \"(D)V\", df.iloc[row,col])\n",
    "            dataBox.set(row,col,value)\n",
    "    \n",
    "    tetradData = javabridge.JClassWrapper(\"edu.cmu.tetrad.data.BoxDataSet\")(dataBox, node_list)\n",
    "    \n",
    "    if(not outputDataset):\n",
    "        tetradData = javabridge.JClassWrapper('edu.cmu.tetrad.data.CovarianceMatrixOnTheFly')(tetradData)\n",
    "        \n",
    "    return tetradData"
   ]
  },
  {
   "cell_type": "code",
   "execution_count": 5,
   "metadata": {},
   "outputs": [
    {
     "name": "stdout",
     "output_type": "stream",
     "text": [
      "/home/jovyan/py-causal/example/javabridge/../../data/9var/sub001.cent-table.9.dat.txt\n",
      "/home/jovyan/py-causal/example/javabridge/../../data/9var/sub016.cent-table.9.dat.txt\n",
      "/home/jovyan/py-causal/example/javabridge/../../data/9var/sub014.cent-table.9.dat.txt\n",
      "/home/jovyan/py-causal/example/javabridge/../../data/9var/sub010.cent-table.9.dat.txt\n",
      "/home/jovyan/py-causal/example/javabridge/../../data/9var/sub013.cent-table.9.dat.txt\n",
      "/home/jovyan/py-causal/example/javabridge/../../data/9var/sub017.cent-table.9.dat.txt\n",
      "/home/jovyan/py-causal/example/javabridge/../../data/9var/sub005.cent-table.9.dat.txt\n",
      "/home/jovyan/py-causal/example/javabridge/../../data/9var/sub009.cent-table.9.dat.txt\n",
      "/home/jovyan/py-causal/example/javabridge/../../data/9var/sub004.cent-table.9.dat.txt\n"
     ]
    }
   ],
   "source": [
    "datasets = javabridge.JClassWrapper('java.util.ArrayList')()\n",
    "tetrad_images_dir = os.path.join(os.getcwd(), '../../', 'data', '9var')\n",
    "for d in glob.glob(tetrad_images_dir + os.sep + \"*.txt\"):\n",
    "    print (d)\n",
    "    df = pd.read_table(d, sep=\"\\t\")\n",
    "    tetradData = loadContinuousData(df)\n",
    "    datasets.add(tetradData)"
   ]
  },
  {
   "cell_type": "code",
   "execution_count": 6,
   "metadata": {},
   "outputs": [],
   "source": [
    "penaltyDiscount = 4\n",
    "maxDegree = 3\n",
    "faithfulnessAssumed = True\n",
    "verbose = True\n",
    "# numBootstrap = 5\n",
    "# ensembleMethod = 'Highest'"
   ]
  },
  {
   "cell_type": "code",
   "execution_count": 7,
   "metadata": {},
   "outputs": [],
   "source": [
    "score = javabridge.JClassWrapper('edu.cmu.tetrad.search.SemBicScoreImages')(datasets)\n",
    "score.setPenaltyDiscount(penaltyDiscount)"
   ]
  },
  {
   "cell_type": "code",
   "execution_count": 8,
   "metadata": {},
   "outputs": [],
   "source": [
    "fges = javabridge.JClassWrapper('edu.cmu.tetrad.search.Fges')(score)\n",
    "fges.setMaxDegree(maxDegree)\n",
    "fges.setNumPatternsToStore(0)\n",
    "fges.setFaithfulnessAssumed(faithfulnessAssumed)\n",
    "fges.setVerbose(verbose)"
   ]
  },
  {
   "cell_type": "code",
   "execution_count": 9,
   "metadata": {},
   "outputs": [
    {
     "data": {
      "text/plain": [
       "Instance of edu.cmu.tetrad.graph.EdgeListGraphSingleConnections: Graph Nodes:\n",
       "LOCC;LACC;LIFG;LIPL;ROCC;RACC;RIFG;RIPL;I\n",
       "\n",
       "Graph Edges:\n",
       "1. LIFG --- LACC\n",
       "2. LIFG --- RIFG\n",
       "3. LIPL --- LIFG\n",
       "4. LIPL --- LOCC\n",
       "5. LIPL --- RIPL\n",
       "6. LOCC --- I\n",
       "7. RACC --- LACC\n",
       "8. ROCC --- LOCC\n",
       "\n",
       "Graph Attributes:\n",
       "BIC: -9494.710200\n",
       "\n",
       "Graph Node Attributes:\n",
       "BIC: [LOCC: -1421.497785;LACC: -1449.287290;LIFG: -1450.179464;LIPL: -1427.654351;ROCC: -1390.701786;RACC: -1435.720449;RIFG: -1451.523892;RIPL: -1383.090016;I: 267.801201]"
      ]
     },
     "execution_count": 9,
     "metadata": {},
     "output_type": "execute_result"
    }
   ],
   "source": [
    "tetradGraph = fges.search()\n",
    "tetradGraph"
   ]
  },
  {
   "cell_type": "code",
   "execution_count": 10,
   "metadata": {},
   "outputs": [
    {
     "data": {
      "text/plain": [
       "'Graph Nodes:\\nLOCC;LACC;LIFG;LIPL;ROCC;RACC;RIFG;RIPL;I\\n\\nGraph Edges:\\n1. LIFG --- LACC\\n2. LIFG --- RIFG\\n3. LIPL --- LIFG\\n4. LIPL --- LOCC\\n5. LIPL --- RIPL\\n6. LOCC --- I\\n7. RACC --- LACC\\n8. ROCC --- LOCC\\n\\nGraph Attributes:\\nBIC: -9494.710200\\n\\nGraph Node Attributes:\\nBIC: [LOCC: -1421.497785;LACC: -1449.287290;LIFG: -1450.179464;LIPL: -1427.654351;ROCC: -1390.701786;RACC: -1435.720449;RIFG: -1451.523892;RIPL: -1383.090016;I: 267.801201]\\n'"
      ]
     },
     "execution_count": 10,
     "metadata": {},
     "output_type": "execute_result"
    }
   ],
   "source": [
    "tetradGraph.toString()"
   ]
  },
  {
   "cell_type": "code",
   "execution_count": 11,
   "metadata": {},
   "outputs": [
    {
     "data": {
      "text/plain": [
       "Instance of java.util.ArrayList: [LOCC, LACC, LIFG, LIPL, ROCC, RACC, RIFG, RIPL, I]"
      ]
     },
     "execution_count": 11,
     "metadata": {},
     "output_type": "execute_result"
    }
   ],
   "source": [
    "tetradGraph.getNodeNames()"
   ]
  },
  {
   "cell_type": "code",
   "execution_count": 12,
   "metadata": {},
   "outputs": [
    {
     "data": {
      "text/plain": [
       "Instance of java.util.HashSet: [LIPL --- LIFG, LIFG --- LACC, LIPL --- RIPL, ROCC --- LOCC, LIPL --- LOCC, LIFG --- RIFG, RACC --- LACC, LOCC --- I]"
      ]
     },
     "execution_count": 12,
     "metadata": {},
     "output_type": "execute_result"
    }
   ],
   "source": [
    "tetradGraph.getEdges()"
   ]
  },
  {
   "cell_type": "code",
   "execution_count": 13,
   "metadata": {},
   "outputs": [
    {
     "data": {
      "image/svg+xml": [
       "<svg height=\"332pt\" viewBox=\"0.00 0.00 305.64 332.00\" width=\"306pt\" xmlns=\"http://www.w3.org/2000/svg\" xmlns:xlink=\"http://www.w3.org/1999/xlink\">\n",
       "<g class=\"graph\" id=\"graph0\" transform=\"scale(1 1) rotate(0) translate(4 328)\">\n",
       "<title>g</title>\n",
       "<polygon fill=\"white\" points=\"-4,4 -4,-328 301.643,-328 301.643,4 -4,4\" stroke=\"none\"/>\n",
       "<!-- LIFG -->\n",
       "<g class=\"node\" id=\"node1\"><title>LIFG</title>\n",
       "<ellipse cx=\"167.646\" cy=\"-234\" fill=\"none\" rx=\"34.394\" ry=\"18\" stroke=\"black\"/>\n",
       "<text font-family=\"Times,serif\" font-size=\"14.00\" text-anchor=\"middle\" x=\"167.646\" y=\"-230.3\">LIFG</text>\n",
       "</g>\n",
       "<!-- LIPL -->\n",
       "<g class=\"node\" id=\"node2\"><title>LIPL</title>\n",
       "<ellipse cx=\"124.646\" cy=\"-162\" fill=\"none\" rx=\"33.5952\" ry=\"18\" stroke=\"black\"/>\n",
       "<text font-family=\"Times,serif\" font-size=\"14.00\" text-anchor=\"middle\" x=\"124.646\" y=\"-158.3\">LIPL</text>\n",
       "</g>\n",
       "<!-- LIFG&#45;&gt;LIPL -->\n",
       "<g class=\"edge\" id=\"edge1\"><title>LIFG-&gt;LIPL</title>\n",
       "<path d=\"M157.673,-216.765C150.826,-205.618 141.764,-190.865 134.864,-179.633\" fill=\"none\" stroke=\"black\"/>\n",
       "</g>\n",
       "<!-- RIFG -->\n",
       "<g class=\"node\" id=\"node7\"><title>RIFG</title>\n",
       "<ellipse cx=\"211.646\" cy=\"-162\" fill=\"none\" rx=\"35.194\" ry=\"18\" stroke=\"black\"/>\n",
       "<text font-family=\"Times,serif\" font-size=\"14.00\" text-anchor=\"middle\" x=\"211.646\" y=\"-158.3\">RIFG</text>\n",
       "</g>\n",
       "<!-- LIFG&#45;&gt;RIFG -->\n",
       "<g class=\"edge\" id=\"edge6\"><title>LIFG-&gt;RIFG</title>\n",
       "<path d=\"M177.852,-216.765C184.858,-205.618 194.131,-190.865 201.191,-179.633\" fill=\"none\" stroke=\"black\"/>\n",
       "</g>\n",
       "<!-- RIPL -->\n",
       "<g class=\"node\" id=\"node4\"><title>RIPL</title>\n",
       "<ellipse cx=\"130.646\" cy=\"-90\" fill=\"none\" rx=\"34.394\" ry=\"18\" stroke=\"black\"/>\n",
       "<text font-family=\"Times,serif\" font-size=\"14.00\" text-anchor=\"middle\" x=\"130.646\" y=\"-86.3\">RIPL</text>\n",
       "</g>\n",
       "<!-- LIPL&#45;&gt;RIPL -->\n",
       "<g class=\"edge\" id=\"edge3\"><title>LIPL-&gt;RIPL</title>\n",
       "<path d=\"M126.13,-143.697C127.06,-132.846 128.254,-118.917 129.18,-108.104\" fill=\"none\" stroke=\"black\"/>\n",
       "</g>\n",
       "<!-- LOCC -->\n",
       "<g class=\"node\" id=\"node5\"><title>LOCC</title>\n",
       "<ellipse cx=\"39.6465\" cy=\"-90\" fill=\"none\" rx=\"38.9931\" ry=\"18\" stroke=\"black\"/>\n",
       "<text font-family=\"Times,serif\" font-size=\"14.00\" text-anchor=\"middle\" x=\"39.6465\" y=\"-86.3\">LOCC</text>\n",
       "</g>\n",
       "<!-- LIPL&#45;&gt;LOCC -->\n",
       "<g class=\"edge\" id=\"edge5\"><title>LIPL-&gt;LOCC</title>\n",
       "<path d=\"M107.034,-146.496C92.6408,-134.642 72.3669,-117.946 57.8224,-105.968\" fill=\"none\" stroke=\"black\"/>\n",
       "</g>\n",
       "<!-- LACC -->\n",
       "<g class=\"node\" id=\"node3\"><title>LACC</title>\n",
       "<ellipse cx=\"212.646\" cy=\"-306\" fill=\"none\" rx=\"38.1938\" ry=\"18\" stroke=\"black\"/>\n",
       "<text font-family=\"Times,serif\" font-size=\"14.00\" text-anchor=\"middle\" x=\"212.646\" y=\"-302.3\">LACC</text>\n",
       "</g>\n",
       "<!-- LACC&#45;&gt;LIFG -->\n",
       "<g class=\"edge\" id=\"edge2\"><title>LACC-&gt;LIFG</title>\n",
       "<path d=\"M201.982,-288.411C194.809,-277.252 185.392,-262.604 178.234,-251.47\" fill=\"none\" stroke=\"black\"/>\n",
       "</g>\n",
       "<!-- RACC -->\n",
       "<g class=\"node\" id=\"node8\"><title>RACC</title>\n",
       "<ellipse cx=\"258.646\" cy=\"-234\" fill=\"none\" rx=\"38.9931\" ry=\"18\" stroke=\"black\"/>\n",
       "<text font-family=\"Times,serif\" font-size=\"14.00\" text-anchor=\"middle\" x=\"258.646\" y=\"-230.3\">RACC</text>\n",
       "</g>\n",
       "<!-- LACC&#45;&gt;RACC -->\n",
       "<g class=\"edge\" id=\"edge7\"><title>LACC-&gt;RACC</title>\n",
       "<path d=\"M223.548,-288.411C230.881,-277.252 240.507,-262.604 247.823,-251.47\" fill=\"none\" stroke=\"black\"/>\n",
       "</g>\n",
       "<!-- ROCC -->\n",
       "<g class=\"node\" id=\"node6\"><title>ROCC</title>\n",
       "<ellipse cx=\"39.6465\" cy=\"-18\" fill=\"none\" rx=\"39.7935\" ry=\"18\" stroke=\"black\"/>\n",
       "<text font-family=\"Times,serif\" font-size=\"14.00\" text-anchor=\"middle\" x=\"39.6465\" y=\"-14.3\">ROCC</text>\n",
       "</g>\n",
       "<!-- LOCC&#45;&gt;ROCC -->\n",
       "<g class=\"edge\" id=\"edge4\"><title>LOCC-&gt;ROCC</title>\n",
       "<path d=\"M39.6465,-71.6966C39.6465,-60.8463 39.6465,-46.9167 39.6465,-36.1043\" fill=\"none\" stroke=\"black\"/>\n",
       "</g>\n",
       "<!-- I -->\n",
       "<g class=\"node\" id=\"node9\"><title>I</title>\n",
       "<ellipse cx=\"39.6465\" cy=\"-162\" fill=\"none\" rx=\"27\" ry=\"18\" stroke=\"black\"/>\n",
       "<text font-family=\"Times,serif\" font-size=\"14.00\" text-anchor=\"middle\" x=\"39.6465\" y=\"-158.3\">I</text>\n",
       "</g>\n",
       "<!-- I&#45;&gt;LOCC -->\n",
       "<g class=\"edge\" id=\"edge8\"><title>I-&gt;LOCC</title>\n",
       "<path d=\"M39.6465,-143.697C39.6465,-132.846 39.6465,-118.917 39.6465,-108.104\" fill=\"none\" stroke=\"black\"/>\n",
       "</g>\n",
       "</g>\n",
       "</svg>"
      ],
      "text/plain": [
       "<IPython.core.display.SVG object>"
      ]
     },
     "execution_count": 13,
     "metadata": {},
     "output_type": "execute_result"
    }
   ],
   "source": [
    "dot_str = javabridge.static_call('edu/cmu/tetrad/graph/GraphUtils',\n",
    "                                   'graphToDot',\n",
    "                                   '(Ledu/cmu/tetrad/graph/Graph;)Ljava/lang/String;', \n",
    "                                   tetradGraph)\n",
    "graphs = pydot.graph_from_dot_data(dot_str)\n",
    "svg_str = graphs[0].create_svg()\n",
    "SVG(svg_str)"
   ]
  },
  {
   "cell_type": "code",
   "execution_count": 14,
   "metadata": {},
   "outputs": [],
   "source": [
    "javabridge.detach()\n",
    "javabridge.kill_vm()"
   ]
  },
  {
   "cell_type": "code",
   "execution_count": null,
   "metadata": {},
   "outputs": [],
   "source": []
  }
 ],
 "metadata": {
  "kernelspec": {
   "display_name": "Python 3",
   "language": "python",
   "name": "python3"
  },
  "language_info": {
   "codemirror_mode": {
    "name": "ipython",
    "version": 3
   },
   "file_extension": ".py",
   "mimetype": "text/x-python",
   "name": "python",
   "nbconvert_exporter": "python",
   "pygments_lexer": "ipython3",
   "version": "3.5.4"
  },
  "widgets": {
   "state": {},
   "version": "1.1.1"
  }
 },
 "nbformat": 4,
 "nbformat_minor": 1
}
