{
 "cells": [
  {
   "cell_type": "code",
   "execution_count": 1,
   "metadata": {
    "collapsed": true
   },
   "outputs": [],
   "source": [
    "import javabridge\n",
    "import os\n",
    "import glob\n",
    "import pandas as pd\n",
    "import pydot\n",
    "from IPython.display import SVG"
   ]
  },
  {
   "cell_type": "code",
   "execution_count": 2,
   "metadata": {},
   "outputs": [
    {
     "name": "stdout",
     "output_type": "stream",
     "text": [
      "/home/jovyan/py-causal/example/javabridge/../../src/pycausal/lib/causal-cmd-0.2.0-SNAPSHOT.jar\n",
      "/home/jovyan/py-causal/example/javabridge/../../src/pycausal/lib/tetrad-lib-6.4.0-SNAPSHOT-tetradcmd.jar\n",
      "/home/jovyan/py-causal/example/javabridge/../../src/pycausal/lib/data-reader-0.2.0-SNAPSHOT.jar\n"
     ]
    }
   ],
   "source": [
    "tetrad_libdir = os.path.join(os.getcwd(), '../../','src', 'pycausal', 'lib')\n",
    "for l in glob.glob(tetrad_libdir + os.sep + \"*.jar\"):\n",
    "    print l\n",
    "    javabridge.JARS.append(str(l))"
   ]
  },
  {
   "cell_type": "code",
   "execution_count": 3,
   "metadata": {},
   "outputs": [
    {
     "data": {
      "text/plain": [
       "<JB_Env at 0x24a71e0>"
      ]
     },
     "execution_count": 3,
     "metadata": {},
     "output_type": "execute_result"
    }
   ],
   "source": [
    "javabridge.start_vm(run_headless=True, max_heap_size = '100M')\n",
    "javabridge.attach()"
   ]
  },
  {
   "cell_type": "code",
   "execution_count": 4,
   "metadata": {},
   "outputs": [
    {
     "data": {
      "text/plain": [
       "'/home/jovyan/py-causal/example/javabridge/../../data/charity.txt'"
      ]
     },
     "execution_count": 4,
     "metadata": {},
     "output_type": "execute_result"
    }
   ],
   "source": [
    "data_dir = os.path.join(os.getcwd(), '../../','data', 'charity.txt')\n",
    "data_dir"
   ]
  },
  {
   "cell_type": "code",
   "execution_count": 5,
   "metadata": {},
   "outputs": [
    {
     "data": {
      "text/html": [
       "<div>\n",
       "<table border=\"1\" class=\"dataframe\">\n",
       "  <thead>\n",
       "    <tr style=\"text-align: right;\">\n",
       "      <th></th>\n",
       "      <th>TangibilityCondition</th>\n",
       "      <th>AmountDonated</th>\n",
       "      <th>Sympathy</th>\n",
       "      <th>Imaginability</th>\n",
       "      <th>Impact</th>\n",
       "    </tr>\n",
       "  </thead>\n",
       "  <tbody>\n",
       "    <tr>\n",
       "      <th>0</th>\n",
       "      <td>1.0</td>\n",
       "      <td>0.0</td>\n",
       "      <td>7.0</td>\n",
       "      <td>4.0</td>\n",
       "      <td>4.5</td>\n",
       "    </tr>\n",
       "    <tr>\n",
       "      <th>1</th>\n",
       "      <td>1.0</td>\n",
       "      <td>0.0</td>\n",
       "      <td>2.0</td>\n",
       "      <td>2.0</td>\n",
       "      <td>2.0</td>\n",
       "    </tr>\n",
       "    <tr>\n",
       "      <th>2</th>\n",
       "      <td>1.0</td>\n",
       "      <td>0.0</td>\n",
       "      <td>7.0</td>\n",
       "      <td>3.0</td>\n",
       "      <td>3.0</td>\n",
       "    </tr>\n",
       "    <tr>\n",
       "      <th>3</th>\n",
       "      <td>1.0</td>\n",
       "      <td>0.0</td>\n",
       "      <td>4.0</td>\n",
       "      <td>3.0</td>\n",
       "      <td>4.5</td>\n",
       "    </tr>\n",
       "    <tr>\n",
       "      <th>4</th>\n",
       "      <td>1.0</td>\n",
       "      <td>0.0</td>\n",
       "      <td>3.0</td>\n",
       "      <td>7.0</td>\n",
       "      <td>1.0</td>\n",
       "    </tr>\n",
       "  </tbody>\n",
       "</table>\n",
       "</div>"
      ],
      "text/plain": [
       "   TangibilityCondition  AmountDonated  Sympathy  Imaginability  Impact\n",
       "0                   1.0            0.0       7.0            4.0     4.5\n",
       "1                   1.0            0.0       2.0            2.0     2.0\n",
       "2                   1.0            0.0       7.0            3.0     3.0\n",
       "3                   1.0            0.0       4.0            3.0     4.5\n",
       "4                   1.0            0.0       3.0            7.0     1.0"
      ]
     },
     "execution_count": 5,
     "metadata": {},
     "output_type": "execute_result"
    }
   ],
   "source": [
    "dframe = pd.read_table(data_dir, sep=\"\\t\")\n",
    "dframe.head()"
   ]
  },
  {
   "cell_type": "code",
   "execution_count": 6,
   "metadata": {
    "collapsed": true
   },
   "outputs": [],
   "source": [
    "node_list = javabridge.JClassWrapper(\"java.util.ArrayList\")()\n",
    "# load dataset\n",
    "for col in dframe.columns:\n",
    "    nodi = javabridge.JClassWrapper(\"edu.cmu.tetrad.data.ContinuousVariable\") (col)\n",
    "    node_list.add(nodi)"
   ]
  },
  {
   "cell_type": "code",
   "execution_count": 7,
   "metadata": {
    "collapsed": true
   },
   "outputs": [],
   "source": [
    "dataBox = javabridge.JClassWrapper(\"edu.cmu.tetrad.data.DoubleDataBox\")(len(dframe.index),dframe.columns.size)"
   ]
  },
  {
   "cell_type": "code",
   "execution_count": 8,
   "metadata": {
    "collapsed": true
   },
   "outputs": [],
   "source": [
    "for col in range(0,dframe.columns.size):\n",
    "    for row in dframe.index:\n",
    "        value = javabridge.make_instance(\"java/lang/Double\", \"(D)V\", dframe.ix[row][col])\n",
    "        dataBox.set(row,col,value)"
   ]
  },
  {
   "cell_type": "code",
   "execution_count": 9,
   "metadata": {
    "collapsed": true
   },
   "outputs": [],
   "source": [
    "boxData = javabridge.JClassWrapper(\"edu.cmu.tetrad.data.BoxDataSet\")(dataBox, node_list)"
   ]
  },
  {
   "cell_type": "code",
   "execution_count": 10,
   "metadata": {
    "collapsed": true
   },
   "outputs": [],
   "source": [
    "score = javabridge.JClassWrapper('edu.cmu.tetrad.algcomparison.score.SemBicScore')()\n",
    "algorithm = javabridge.JClassWrapper('edu.cmu.tetrad.algcomparison.algorithm.oracle.pattern.Fges')(score)"
   ]
  },
  {
   "cell_type": "code",
   "execution_count": 11,
   "metadata": {
    "collapsed": true
   },
   "outputs": [],
   "source": [
    "penaltyDiscount = 4\n",
    "maxDegree = 3\n",
    "faithfulnessAssumed = True\n",
    "verbose = True\n",
    "numBootstrap = 5\n",
    "ensembleMethod = 'Highest'"
   ]
  },
  {
   "cell_type": "code",
   "execution_count": 12,
   "metadata": {
    "collapsed": true
   },
   "outputs": [],
   "source": [
    "parameters = javabridge.JClassWrapper('edu.cmu.tetrad.util.Parameters')()\n",
    "parameters.set('penaltyDiscount', penaltyDiscount)\n",
    "parameters.set('maxDegree', -1)\n",
    "parameters.set('faithfulnessAssumed', True)\n",
    "parameters.set('verbose', True)"
   ]
  },
  {
   "cell_type": "code",
   "execution_count": 13,
   "metadata": {
    "collapsed": true
   },
   "outputs": [],
   "source": [
    "fges = javabridge.JClassWrapper('edu.pitt.dbmi.algo.bootstrap.GeneralBootstrapTest')(boxData, algorithm, numBootstrap)"
   ]
  },
  {
   "cell_type": "code",
   "execution_count": 14,
   "metadata": {},
   "outputs": [],
   "source": [
    "edgeEnsemble = javabridge.get_static_field('edu/pitt/dbmi/algo/bootstrap/BootstrapEdgeEnsemble', \n",
    "                                           ensembleMethod, \n",
    "                                           'Ledu/pitt/dbmi/algo/bootstrap/BootstrapEdgeEnsemble;')"
   ]
  },
  {
   "cell_type": "code",
   "execution_count": 15,
   "metadata": {},
   "outputs": [
    {
     "data": {
      "text/plain": [
       "Instance of edu.cmu.tetrad.data.Knowledge2: /knowledge\n",
       "addtemporal\n",
       "\n",
       "0* Imaginability TangibilityCondition \n",
       "1 AmountDonated Sympathy \n",
       "2 Impact \n",
       "\n",
       "forbiddirect\n",
       "\n",
       "TangibilityCondition ==> Impact \n",
       "requiredirect\n",
       "\n",
       "Sympathy ==> TangibilityCondition "
      ]
     },
     "execution_count": 15,
     "metadata": {},
     "output_type": "execute_result"
    }
   ],
   "source": [
    "prior = javabridge.JClassWrapper('edu.cmu.tetrad.data.Knowledge2')()\n",
    "prior.setForbidden('TangibilityCondition', 'Impact') # forbidden directed edges\n",
    "prior.setRequired('Sympathy','TangibilityCondition') # required directed edges\n",
    "prior.setTierForbiddenWithin(0, True)\n",
    "prior.addToTier(0, 'TangibilityCondition')\n",
    "prior.addToTier(0, 'Imaginability')\n",
    "prior.addToTier(1, 'Sympathy')\n",
    "prior.addToTier(1, 'AmountDonated')\n",
    "prior.addToTier(2, 'Impact')\n",
    "fges.setKnowledge(prior)\n",
    "prior"
   ]
  },
  {
   "cell_type": "code",
   "execution_count": 16,
   "metadata": {
    "collapsed": true
   },
   "outputs": [],
   "source": [
    "fges.setEdgeEnsemble(edgeEnsemble)\n",
    "fges.setParameters(parameters)\n",
    "fges.setVerbose(verbose)"
   ]
  },
  {
   "cell_type": "code",
   "execution_count": 17,
   "metadata": {},
   "outputs": [
    {
     "data": {
      "text/plain": [
       "Instance of edu.cmu.tetrad.graph.EdgeListGraph: Graph Nodes:\n",
       "TangibilityCondition,AmountDonated,Sympathy,Imaginability,Impact\n",
       "\n",
       "Graph Edges:\n",
       "1. AmountDonated --- Impact [no edge]:0.2000[-->]:0.0000[<--]:0.0000[o->]:0.0000[<-o]:0.0000[o-o]:0.0000[<->]:0.0000[---]:0.8000 [no edge]:0.2000 [-->]:0.0000 [<--]:0.0000 [o->]:0.0000 [<-o]:0.0000 [o-o]:0.0000 [<->]:0.0000 [---]:0.8000 \n",
       "2. Imaginability --- Impact [no edge]:0.2000[-->]:0.0000[<--]:0.0000[o->]:0.0000[<-o]:0.0000[o-o]:0.0000[<->]:0.0000[---]:0.8000 [no edge]:0.2000 [-->]:0.0000 [<--]:0.0000 [o->]:0.0000 [<-o]:0.0000 [o-o]:0.0000 [<->]:0.0000 [---]:0.8000 \n",
       "3. Sympathy --- Impact [no edge]:0.0000[-->]:0.0000[<--]:0.0000[o->]:0.0000[<-o]:0.0000[o-o]:0.0000[<->]:0.0000[---]:1.0000 [no edge]:0.0000 [-->]:0.0000 [<--]:0.0000 [o->]:0.0000 [<-o]:0.0000 [o-o]:0.0000 [<->]:0.0000 [---]:1.0000 "
      ]
     },
     "execution_count": 17,
     "metadata": {},
     "output_type": "execute_result"
    }
   ],
   "source": [
    "tetradGraph = fges.search()\n",
    "tetradGraph"
   ]
  },
  {
   "cell_type": "code",
   "execution_count": 18,
   "metadata": {},
   "outputs": [
    {
     "data": {
      "text/plain": [
       "u'Graph Nodes:\\nTangibilityCondition,AmountDonated,Sympathy,Imaginability,Impact\\n\\nGraph Edges:\\n1. AmountDonated --- Impact [no edge]:0.2000[-->]:0.0000[<--]:0.0000[o->]:0.0000[<-o]:0.0000[o-o]:0.0000[<->]:0.0000[---]:0.8000 [no edge]:0.2000 [-->]:0.0000 [<--]:0.0000 [o->]:0.0000 [<-o]:0.0000 [o-o]:0.0000 [<->]:0.0000 [---]:0.8000 \\n2. Imaginability --- Impact [no edge]:0.2000[-->]:0.0000[<--]:0.0000[o->]:0.0000[<-o]:0.0000[o-o]:0.0000[<->]:0.0000[---]:0.8000 [no edge]:0.2000 [-->]:0.0000 [<--]:0.0000 [o->]:0.0000 [<-o]:0.0000 [o-o]:0.0000 [<->]:0.0000 [---]:0.8000 \\n3. Sympathy --- Impact [no edge]:0.0000[-->]:0.0000[<--]:0.0000[o->]:0.0000[<-o]:0.0000[o-o]:0.0000[<->]:0.0000[---]:1.0000 [no edge]:0.0000 [-->]:0.0000 [<--]:0.0000 [o->]:0.0000 [<-o]:0.0000 [o-o]:0.0000 [<->]:0.0000 [---]:1.0000 \\n'"
      ]
     },
     "execution_count": 18,
     "metadata": {},
     "output_type": "execute_result"
    }
   ],
   "source": [
    "tetradGraph.toString()"
   ]
  },
  {
   "cell_type": "code",
   "execution_count": 19,
   "metadata": {},
   "outputs": [
    {
     "data": {
      "text/plain": [
       "Instance of java.util.ArrayList: [TangibilityCondition, AmountDonated, Sympathy, Imaginability, Impact]"
      ]
     },
     "execution_count": 19,
     "metadata": {},
     "output_type": "execute_result"
    }
   ],
   "source": [
    "tetradGraph.getNodeNames()"
   ]
  },
  {
   "cell_type": "code",
   "execution_count": 20,
   "metadata": {},
   "outputs": [
    {
     "data": {
      "text/plain": [
       "Instance of java.util.HashSet: [Sympathy --- Impact [no edge]:0.0000[-->]:0.0000[<--]:0.0000[o->]:0.0000[<-o]:0.0000[o-o]:0.0000[<->]:0.0000[---]:1.0000, AmountDonated --- Impact [no edge]:0.2000[-->]:0.0000[<--]:0.0000[o->]:0.0000[<-o]:0.0000[o-o]:0.0000[<->]:0.0000[---]:0.8000, Imaginability --- Impact [no edge]:0.2000[-->]:0.0000[<--]:0.0000[o->]:0.0000[<-o]:0.0000[o-o]:0.0000[<->]:0.0000[---]:0.8000]"
      ]
     },
     "execution_count": 20,
     "metadata": {},
     "output_type": "execute_result"
    }
   ],
   "source": [
    "tetradGraph.getEdges()"
   ]
  },
  {
   "cell_type": "code",
   "execution_count": 21,
   "metadata": {
    "collapsed": true
   },
   "outputs": [],
   "source": [
    "graph = pydot.Dot(graph_type='digraph')"
   ]
  },
  {
   "cell_type": "code",
   "execution_count": 22,
   "metadata": {},
   "outputs": [
    {
     "name": "stdout",
     "output_type": "stream",
     "text": [
      "TangibilityCondition\n",
      "AmountDonated\n",
      "Sympathy\n",
      "Imaginability\n",
      "Impact\n"
     ]
    }
   ],
   "source": [
    "n = tetradGraph.getNodeNames().toString()\n",
    "n = n[1:len(n)-1]\n",
    "n = n.split(\",\")\n",
    "nodes = []\n",
    "for i in range(0,len(n)):\n",
    "    node = n[i]\n",
    "    n[i] = node.strip()\n",
    "    print n[i]\n",
    "    nodes.append(pydot.Node(n[i]))\n",
    "    graph.add_node(nodes[i])"
   ]
  },
  {
   "cell_type": "code",
   "execution_count": 23,
   "metadata": {
    "collapsed": true
   },
   "outputs": [],
   "source": [
    "def isNodeExisting(nodes,node):\n",
    "    try:\n",
    "        nodes.index(node)\n",
    "        return True\n",
    "    except IndexError:\n",
    "        print \"Node %s does not exist!\", node\n",
    "        return False\n",
    "\n",
    "e = tetradGraph.getEdges().toString()\n",
    "e = e[1:len(e)-1]\n",
    "e = e.split(\",\")\n",
    "for i in range(0,len(e)):\n",
    "    e[i] = e[i].strip()\n",
    "    token = e[i].split(\" \")\n",
    "    if(len(token) >= 3):\n",
    "        src = token[0]\n",
    "        arc = token[1]\n",
    "        dst = token[2]\n",
    "        if(isNodeExisting(n,src) and isNodeExisting(n,dst)):\n",
    "            edge = pydot.Edge(nodes[n.index(src)],nodes[n.index(dst)])\n",
    "            if(arc == \"---\"):\n",
    "                edge.set_arrowhead(\"none\")\n",
    "            graph.add_edge(edge)"
   ]
  },
  {
   "cell_type": "code",
   "execution_count": 24,
   "metadata": {
    "collapsed": true
   },
   "outputs": [],
   "source": [
    "svg_str = graph.create_svg(prog='dot')"
   ]
  },
  {
   "cell_type": "code",
   "execution_count": 25,
   "metadata": {},
   "outputs": [
    {
     "data": {
      "image/svg+xml": [
       "<svg height=\"116pt\" viewBox=\"0.00 0.00 581.64 116.00\" width=\"582pt\" xmlns=\"http://www.w3.org/2000/svg\" xmlns:xlink=\"http://www.w3.org/1999/xlink\">\n",
       "<g class=\"graph\" id=\"graph0\" transform=\"scale(1 1) rotate(0) translate(4 112)\">\n",
       "<title>G</title>\n",
       "<polygon fill=\"white\" points=\"-4,4 -4,-112 577.637,-112 577.637,4 -4,4\" stroke=\"none\"/>\n",
       "<!-- TangibilityCondition -->\n",
       "<g class=\"node\" id=\"node1\"><title>TangibilityCondition</title>\n",
       "<ellipse cx=\"85.1424\" cy=\"-90\" fill=\"none\" rx=\"85.2851\" ry=\"18\" stroke=\"black\"/>\n",
       "<text font-family=\"Times,serif\" font-size=\"14.00\" text-anchor=\"middle\" x=\"85.1424\" y=\"-86.3\">TangibilityCondition</text>\n",
       "</g>\n",
       "<!-- AmountDonated -->\n",
       "<g class=\"node\" id=\"node2\"><title>AmountDonated</title>\n",
       "<ellipse cx=\"258.142\" cy=\"-90\" fill=\"none\" rx=\"69.5877\" ry=\"18\" stroke=\"black\"/>\n",
       "<text font-family=\"Times,serif\" font-size=\"14.00\" text-anchor=\"middle\" x=\"258.142\" y=\"-86.3\">AmountDonated</text>\n",
       "</g>\n",
       "<!-- Impact -->\n",
       "<g class=\"node\" id=\"node5\"><title>Impact</title>\n",
       "<ellipse cx=\"392.142\" cy=\"-18\" fill=\"none\" rx=\"35.9954\" ry=\"18\" stroke=\"black\"/>\n",
       "<text font-family=\"Times,serif\" font-size=\"14.00\" text-anchor=\"middle\" x=\"392.142\" y=\"-14.3\">Impact</text>\n",
       "</g>\n",
       "<!-- AmountDonated&#45;&gt;Impact -->\n",
       "<g class=\"edge\" id=\"edge2\"><title>AmountDonated-&gt;Impact</title>\n",
       "<path d=\"M287.549,-73.6382C311.74,-61.0011 345.598,-43.314 368.168,-31.5241\" fill=\"none\" stroke=\"black\"/>\n",
       "</g>\n",
       "<!-- Sympathy -->\n",
       "<g class=\"node\" id=\"node3\"><title>Sympathy</title>\n",
       "<ellipse cx=\"392.142\" cy=\"-90\" fill=\"none\" rx=\"46.5926\" ry=\"18\" stroke=\"black\"/>\n",
       "<text font-family=\"Times,serif\" font-size=\"14.00\" text-anchor=\"middle\" x=\"392.142\" y=\"-86.3\">Sympathy</text>\n",
       "</g>\n",
       "<!-- Sympathy&#45;&gt;Impact -->\n",
       "<g class=\"edge\" id=\"edge1\"><title>Sympathy-&gt;Impact</title>\n",
       "<path d=\"M392.142,-71.6966C392.142,-60.8463 392.142,-46.9167 392.142,-36.1043\" fill=\"none\" stroke=\"black\"/>\n",
       "</g>\n",
       "<!-- Imaginability -->\n",
       "<g class=\"node\" id=\"node4\"><title>Imaginability</title>\n",
       "<ellipse cx=\"515.142\" cy=\"-90\" fill=\"none\" rx=\"58.4896\" ry=\"18\" stroke=\"black\"/>\n",
       "<text font-family=\"Times,serif\" font-size=\"14.00\" text-anchor=\"middle\" x=\"515.142\" y=\"-86.3\">Imaginability</text>\n",
       "</g>\n",
       "<!-- Imaginability&#45;&gt;Impact -->\n",
       "<g class=\"edge\" id=\"edge3\"><title>Imaginability-&gt;Impact</title>\n",
       "<path d=\"M488.453,-73.811C466.55,-61.3459 435.864,-43.882 415.059,-32.0421\" fill=\"none\" stroke=\"black\"/>\n",
       "</g>\n",
       "</g>\n",
       "</svg>"
      ],
      "text/plain": [
       "<IPython.core.display.SVG object>"
      ]
     },
     "execution_count": 25,
     "metadata": {},
     "output_type": "execute_result"
    }
   ],
   "source": [
    "SVG(svg_str)"
   ]
  },
  {
   "cell_type": "code",
   "execution_count": 26,
   "metadata": {
    "collapsed": true
   },
   "outputs": [],
   "source": [
    "javabridge.detach()\n",
    "javabridge.kill_vm()"
   ]
  },
  {
   "cell_type": "code",
   "execution_count": null,
   "metadata": {
    "collapsed": true
   },
   "outputs": [],
   "source": []
  }
 ],
 "metadata": {
  "kernelspec": {
   "display_name": "Python 2",
   "language": "python",
   "name": "python2"
  },
  "language_info": {
   "codemirror_mode": {
    "name": "ipython",
    "version": 2
   },
   "file_extension": ".py",
   "mimetype": "text/x-python",
   "name": "python",
   "nbconvert_exporter": "python",
   "pygments_lexer": "ipython2",
   "version": "2.7.13"
  },
  "widgets": {
   "state": {},
   "version": "1.1.1"
  }
 },
 "nbformat": 4,
 "nbformat_minor": 1
}
