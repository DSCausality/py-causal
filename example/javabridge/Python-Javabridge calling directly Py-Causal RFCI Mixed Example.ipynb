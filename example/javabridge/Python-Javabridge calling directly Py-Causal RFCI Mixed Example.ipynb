{
 "cells": [
  {
   "cell_type": "code",
   "execution_count": 1,
   "metadata": {},
   "outputs": [],
   "source": [
    "import javabridge\n",
    "import os\n",
    "import glob\n",
    "import pandas as pd\n",
    "import pydot\n",
    "from IPython.display import SVG"
   ]
  },
  {
   "cell_type": "code",
   "execution_count": 2,
   "metadata": {},
   "outputs": [
    {
     "name": "stdout",
     "output_type": "stream",
     "text": [
      "/home/jovyan/py-causal/example/javabridge/../../src/pycausal/lib/causal-cmd-1.0.0-jar-with-dependencies.jar\n"
     ]
    }
   ],
   "source": [
    "tetrad_libdir = os.path.join(os.getcwd(), '../../','src', 'pycausal', 'lib')\n",
    "for l in glob.glob(tetrad_libdir + os.sep + \"*.jar\"):\n",
    "    print (l)\n",
    "    javabridge.JARS.append(str(l))"
   ]
  },
  {
   "cell_type": "code",
   "execution_count": 3,
   "metadata": {},
   "outputs": [
    {
     "data": {
      "text/plain": [
       "<JB_Env at 0x558fc6e6a9e0>"
      ]
     },
     "execution_count": 3,
     "metadata": {},
     "output_type": "execute_result"
    }
   ],
   "source": [
    "javabridge.start_vm(run_headless=True, max_heap_size = '100M')\n",
    "javabridge.attach()"
   ]
  },
  {
   "cell_type": "code",
   "execution_count": 4,
   "metadata": {},
   "outputs": [
    {
     "data": {
      "text/plain": [
       "'/home/jovyan/py-causal/example/javabridge/../../data/charity.txt'"
      ]
     },
     "execution_count": 4,
     "metadata": {},
     "output_type": "execute_result"
    }
   ],
   "source": [
    "data_dir = os.path.join(os.getcwd(), '../../','data', 'charity.txt')\n",
    "data_dir"
   ]
  },
  {
   "cell_type": "code",
   "execution_count": 5,
   "metadata": {},
   "outputs": [
    {
     "data": {
      "text/html": [
       "<div>\n",
       "<style scoped>\n",
       "    .dataframe tbody tr th:only-of-type {\n",
       "        vertical-align: middle;\n",
       "    }\n",
       "\n",
       "    .dataframe tbody tr th {\n",
       "        vertical-align: top;\n",
       "    }\n",
       "\n",
       "    .dataframe thead th {\n",
       "        text-align: right;\n",
       "    }\n",
       "</style>\n",
       "<table border=\"1\" class=\"dataframe\">\n",
       "  <thead>\n",
       "    <tr style=\"text-align: right;\">\n",
       "      <th></th>\n",
       "      <th>TangibilityCondition</th>\n",
       "      <th>AmountDonated</th>\n",
       "      <th>Sympathy</th>\n",
       "      <th>Imaginability</th>\n",
       "      <th>Impact</th>\n",
       "    </tr>\n",
       "  </thead>\n",
       "  <tbody>\n",
       "    <tr>\n",
       "      <th>0</th>\n",
       "      <td>1.0</td>\n",
       "      <td>0.0</td>\n",
       "      <td>7.0</td>\n",
       "      <td>4.0</td>\n",
       "      <td>4.5</td>\n",
       "    </tr>\n",
       "    <tr>\n",
       "      <th>1</th>\n",
       "      <td>1.0</td>\n",
       "      <td>0.0</td>\n",
       "      <td>2.0</td>\n",
       "      <td>2.0</td>\n",
       "      <td>2.0</td>\n",
       "    </tr>\n",
       "    <tr>\n",
       "      <th>2</th>\n",
       "      <td>1.0</td>\n",
       "      <td>0.0</td>\n",
       "      <td>7.0</td>\n",
       "      <td>3.0</td>\n",
       "      <td>3.0</td>\n",
       "    </tr>\n",
       "    <tr>\n",
       "      <th>3</th>\n",
       "      <td>1.0</td>\n",
       "      <td>0.0</td>\n",
       "      <td>4.0</td>\n",
       "      <td>3.0</td>\n",
       "      <td>4.5</td>\n",
       "    </tr>\n",
       "    <tr>\n",
       "      <th>4</th>\n",
       "      <td>1.0</td>\n",
       "      <td>0.0</td>\n",
       "      <td>3.0</td>\n",
       "      <td>7.0</td>\n",
       "      <td>1.0</td>\n",
       "    </tr>\n",
       "  </tbody>\n",
       "</table>\n",
       "</div>"
      ],
      "text/plain": [
       "   TangibilityCondition  AmountDonated  Sympathy  Imaginability  Impact\n",
       "0                   1.0            0.0       7.0            4.0     4.5\n",
       "1                   1.0            0.0       2.0            2.0     2.0\n",
       "2                   1.0            0.0       7.0            3.0     3.0\n",
       "3                   1.0            0.0       4.0            3.0     4.5\n",
       "4                   1.0            0.0       3.0            7.0     1.0"
      ]
     },
     "execution_count": 5,
     "metadata": {},
     "output_type": "execute_result"
    }
   ],
   "source": [
    "df = pd.read_table(data_dir, sep=\"\\t\")\n",
    "df.head()"
   ]
  },
  {
   "cell_type": "code",
   "execution_count": 6,
   "metadata": {},
   "outputs": [],
   "source": [
    "numCategoriesToDiscretize = 4\n",
    "node_list = javabridge.JClassWrapper('java.util.ArrayList')()\n",
    "cont_list = []\n",
    "disc_list = []\n",
    "col_no = 0\n",
    "for col in df.columns:\n",
    "\n",
    "    cat_array = sorted(set(df[col]))\n",
    "    if(len(cat_array) > numCategoriesToDiscretize):\n",
    "        # Continuous variable\n",
    "        nodi = javabridge.JClassWrapper('edu.cmu.tetrad.data.ContinuousVariable')(col)\n",
    "        node_list.add(nodi)\n",
    "\n",
    "        cont_list.append(col_no)\n",
    "\n",
    "    else:\n",
    "        # Discrete variable\n",
    "        cat_list = javabridge.JClassWrapper('java.util.ArrayList')()\n",
    "        for cat in cat_array:\n",
    "            cat = str(cat)\n",
    "            cat_list.add(cat)\n",
    "\n",
    "        nodname = javabridge.JClassWrapper('java.lang.String')(col)\n",
    "        nodi = javabridge.JClassWrapper('edu.cmu.tetrad.data.DiscreteVariable')(nodname,cat_list)\n",
    "        node_list.add(nodi)\n",
    "\n",
    "        disc_list.append(col_no)\n",
    "\n",
    "    col_no = col_no + 1"
   ]
  },
  {
   "cell_type": "code",
   "execution_count": 7,
   "metadata": {},
   "outputs": [],
   "source": [
    "mixedDataBox = javabridge.JClassWrapper('edu.cmu.tetrad.data.MixedDataBox')(node_list, len(df.index))"
   ]
  },
  {
   "cell_type": "code",
   "execution_count": 8,
   "metadata": {},
   "outputs": [],
   "source": [
    "for row in df.index:\n",
    "\n",
    "    for col in cont_list:\n",
    "        value = javabridge.JClassWrapper('java.lang.Double')(df.iloc[row,col])\n",
    "        mixedDataBox.set(row,col,value)\n",
    "\n",
    "    for col in disc_list:\n",
    "        cat_array = sorted(set(df[df.columns[col]]))\n",
    "        value = javabridge.JClassWrapper('java.lang.Integer')(cat_array.index(df.iloc[row,col]))\n",
    "        mixedDataBox.set(row,col,value)"
   ]
  },
  {
   "cell_type": "code",
   "execution_count": 9,
   "metadata": {},
   "outputs": [],
   "source": [
    "tetradData = javabridge.JClassWrapper('edu.cmu.tetrad.data.BoxDataSet')(mixedDataBox, node_list)"
   ]
  },
  {
   "cell_type": "code",
   "execution_count": 10,
   "metadata": {},
   "outputs": [],
   "source": [
    "alpha = 0.05\n",
    "discretize = False\n",
    "indTest = javabridge.JClassWrapper('edu.cmu.tetrad.search.IndTestConditionalGaussianLRT')(tetradData, alpha, discretize)"
   ]
  },
  {
   "cell_type": "code",
   "execution_count": 11,
   "metadata": {},
   "outputs": [],
   "source": [
    "rfci = javabridge.JClassWrapper('edu.cmu.tetrad.search.Rfci')(indTest)"
   ]
  },
  {
   "cell_type": "code",
   "execution_count": 12,
   "metadata": {},
   "outputs": [],
   "source": [
    "rfci.setDepth(-1)\n",
    "rfci.setVerbose(True)"
   ]
  },
  {
   "cell_type": "code",
   "execution_count": 13,
   "metadata": {},
   "outputs": [
    {
     "data": {
      "text/plain": [
       "Instance of edu.cmu.tetrad.data.Knowledge2: /knowledge\n",
       "addtemporal\n",
       "\n",
       "1*  Imaginability TangibilityCondition\n",
       "2  AmountDonated Sympathy\n",
       "3  Impact\n",
       "\n",
       "forbiddirect\n",
       "TangibilityCondition Impact\n",
       "\n",
       "requiredirect\n",
       "Sympathy TangibilityCondition"
      ]
     },
     "execution_count": 13,
     "metadata": {},
     "output_type": "execute_result"
    }
   ],
   "source": [
    "prior = javabridge.JClassWrapper('edu.cmu.tetrad.data.Knowledge2')()\n",
    "prior.setForbidden('TangibilityCondition', 'Impact') # forbidden directed edges\n",
    "prior.setRequired('Sympathy','TangibilityCondition') # required directed edges\n",
    "prior.setTierForbiddenWithin(0, True)\n",
    "prior.addToTier(0, 'TangibilityCondition')\n",
    "prior.addToTier(0, 'Imaginability')\n",
    "prior.addToTier(1, 'Sympathy')\n",
    "prior.addToTier(1, 'AmountDonated')\n",
    "prior.addToTier(2, 'Impact')\n",
    "rfci.setKnowledge(prior)\n",
    "prior"
   ]
  },
  {
   "cell_type": "code",
   "execution_count": 14,
   "metadata": {},
   "outputs": [
    {
     "data": {
      "text/plain": [
       "Instance of edu.cmu.tetrad.graph.EdgeListGraphSingleConnections: Graph Nodes:\n",
       "TangibilityCondition;AmountDonated;Sympathy;Imaginability;Impact\n",
       "\n",
       "Graph Edges:\n",
       "1. Sympathy --> TangibilityCondition dd nl\n",
       "2. AmountDonated o-> Impact\n",
       "3. AmountDonated o-> Sympathy\n",
       "4. Imaginability o-> Impact\n",
       "5. Imaginability o-> Sympathy\n",
       "6. Sympathy o-> Impact\n"
      ]
     },
     "execution_count": 14,
     "metadata": {},
     "output_type": "execute_result"
    }
   ],
   "source": [
    "tetradGraph = rfci.search()\n",
    "tetradGraph"
   ]
  },
  {
   "cell_type": "code",
   "execution_count": 15,
   "metadata": {},
   "outputs": [
    {
     "data": {
      "text/plain": [
       "'Graph Nodes:\\nTangibilityCondition;AmountDonated;Sympathy;Imaginability;Impact\\n\\nGraph Edges:\\n1. Sympathy --> TangibilityCondition dd nl\\n2. AmountDonated o-> Impact\\n3. AmountDonated o-> Sympathy\\n4. Imaginability o-> Impact\\n5. Imaginability o-> Sympathy\\n6. Sympathy o-> Impact\\n\\n'"
      ]
     },
     "execution_count": 15,
     "metadata": {},
     "output_type": "execute_result"
    }
   ],
   "source": [
    "tetradGraph.toString()"
   ]
  },
  {
   "cell_type": "code",
   "execution_count": 16,
   "metadata": {},
   "outputs": [
    {
     "data": {
      "text/plain": [
       "Instance of java.util.ArrayList: [TangibilityCondition, AmountDonated, Sympathy, Imaginability, Impact]"
      ]
     },
     "execution_count": 16,
     "metadata": {},
     "output_type": "execute_result"
    }
   ],
   "source": [
    "tetradGraph.getNodeNames()"
   ]
  },
  {
   "cell_type": "code",
   "execution_count": 17,
   "metadata": {},
   "outputs": [
    {
     "data": {
      "text/plain": [
       "Instance of java.util.HashSet: [Sympathy o-> Impact, Sympathy --> TangibilityCondition dd nl, AmountDonated o-> Sympathy, Imaginability o-> Sympathy, AmountDonated o-> Impact, Imaginability o-> Impact]"
      ]
     },
     "execution_count": 17,
     "metadata": {},
     "output_type": "execute_result"
    }
   ],
   "source": [
    "tetradGraph.getEdges()"
   ]
  },
  {
   "cell_type": "code",
   "execution_count": 18,
   "metadata": {},
   "outputs": [
    {
     "data": {
      "image/svg+xml": [
       "<svg height=\"260pt\" viewBox=\"0.00 0.00 344.24 260.00\" width=\"344pt\" xmlns=\"http://www.w3.org/2000/svg\" xmlns:xlink=\"http://www.w3.org/1999/xlink\">\n",
       "<g class=\"graph\" id=\"graph0\" transform=\"scale(1 1) rotate(0) translate(4 256)\">\n",
       "<title>g</title>\n",
       "<polygon fill=\"white\" points=\"-4,4 -4,-256 340.236,-256 340.236,4 -4,4\" stroke=\"none\"/>\n",
       "<!-- Impact -->\n",
       "<g class=\"node\" id=\"node1\"><title>Impact</title>\n",
       "<ellipse cx=\"170.442\" cy=\"-162\" fill=\"none\" rx=\"44.393\" ry=\"18\" stroke=\"black\"/>\n",
       "<text font-family=\"Times,serif\" font-size=\"14.00\" text-anchor=\"middle\" x=\"170.442\" y=\"-158.3\">Impact</text>\n",
       "</g>\n",
       "<!-- Sympathy -->\n",
       "<g class=\"node\" id=\"node2\"><title>Sympathy</title>\n",
       "<ellipse cx=\"170.442\" cy=\"-90\" fill=\"none\" rx=\"57.3905\" ry=\"18\" stroke=\"black\"/>\n",
       "<text font-family=\"Times,serif\" font-size=\"14.00\" text-anchor=\"middle\" x=\"170.442\" y=\"-86.3\">Sympathy</text>\n",
       "</g>\n",
       "<!-- Impact&#45;&gt;Sympathy -->\n",
       "<g class=\"edge\" id=\"edge1\"><title>Impact-&gt;Sympathy</title>\n",
       "<path d=\"M170.442,-133.665C170.442,-128.014 170.442,-122.082 170.442,-116.5\" fill=\"none\" stroke=\"black\"/>\n",
       "<polygon fill=\"black\" points=\"166.942,-133.697 170.442,-143.697 173.942,-133.697 166.942,-133.697\" stroke=\"black\"/>\n",
       "<ellipse cx=\"170.442\" cy=\"-112.104\" fill=\"none\" rx=\"4\" ry=\"4\" stroke=\"black\"/>\n",
       "</g>\n",
       "<!-- TangibilityCondition -->\n",
       "<g class=\"node\" id=\"node3\"><title>TangibilityCondition</title>\n",
       "<ellipse cx=\"170.442\" cy=\"-18\" fill=\"none\" rx=\"105.082\" ry=\"18\" stroke=\"black\"/>\n",
       "<text font-family=\"Times,serif\" font-size=\"14.00\" text-anchor=\"middle\" x=\"170.442\" y=\"-14.3\">TangibilityCondition</text>\n",
       "</g>\n",
       "<!-- Sympathy&#45;&gt;TangibilityCondition -->\n",
       "<g class=\"edge\" id=\"edge2\"><title>Sympathy-&gt;TangibilityCondition</title>\n",
       "<path d=\"M170.442,-71.6966C170.442,-63.9827 170.442,-54.7125 170.442,-46.1124\" fill=\"none\" stroke=\"black\"/>\n",
       "<polygon fill=\"black\" points=\"173.942,-46.1043 170.442,-36.1043 166.942,-46.1044 173.942,-46.1043\" stroke=\"black\"/>\n",
       "</g>\n",
       "<!-- AmountDonated -->\n",
       "<g class=\"node\" id=\"node4\"><title>AmountDonated</title>\n",
       "<ellipse cx=\"86.4423\" cy=\"-234\" fill=\"none\" rx=\"86.3847\" ry=\"18\" stroke=\"black\"/>\n",
       "<text font-family=\"Times,serif\" font-size=\"14.00\" text-anchor=\"middle\" x=\"86.4423\" y=\"-230.3\">AmountDonated</text>\n",
       "</g>\n",
       "<!-- AmountDonated&#45;&gt;Impact -->\n",
       "<g class=\"edge\" id=\"edge5\"><title>AmountDonated-&gt;Impact</title>\n",
       "<path d=\"M112.748,-211.079C122.656,-202.822 133.925,-193.431 143.859,-185.153\" fill=\"none\" stroke=\"black\"/>\n",
       "<ellipse cx=\"109.422\" cy=\"-213.85\" fill=\"none\" rx=\"4.00002\" ry=\"4.00002\" stroke=\"black\"/>\n",
       "<polygon fill=\"black\" points=\"146.388,-187.601 151.829,-178.511 141.906,-182.224 146.388,-187.601\" stroke=\"black\"/>\n",
       "</g>\n",
       "<!-- AmountDonated&#45;&gt;Sympathy -->\n",
       "<g class=\"edge\" id=\"edge3\"><title>AmountDonated-&gt;Sympathy</title>\n",
       "<path d=\"M91.8885,-208.156C96.7087,-189.528 104.945,-163.921 117.442,-144 124.358,-132.977 133.958,-122.478 143.089,-113.777\" fill=\"none\" stroke=\"black\"/>\n",
       "<ellipse cx=\"90.929\" cy=\"-212.043\" fill=\"none\" rx=\"4.00001\" ry=\"4.00001\" stroke=\"black\"/>\n",
       "<polygon fill=\"black\" points=\"145.569,-116.252 150.581,-106.918 140.842,-111.089 145.569,-116.252\" stroke=\"black\"/>\n",
       "</g>\n",
       "<!-- Imaginability -->\n",
       "<g class=\"node\" id=\"node5\"><title>Imaginability</title>\n",
       "<ellipse cx=\"263.442\" cy=\"-234\" fill=\"none\" rx=\"72.5877\" ry=\"18\" stroke=\"black\"/>\n",
       "<text font-family=\"Times,serif\" font-size=\"14.00\" text-anchor=\"middle\" x=\"263.442\" y=\"-230.3\">Imaginability</text>\n",
       "</g>\n",
       "<!-- Imaginability&#45;&gt;Impact -->\n",
       "<g class=\"edge\" id=\"edge6\"><title>Imaginability-&gt;Impact</title>\n",
       "<path d=\"M235.464,-211.941C223.846,-203.197 210.384,-193.064 198.733,-184.294\" fill=\"none\" stroke=\"black\"/>\n",
       "<ellipse cx=\"238.677\" cy=\"-214.359\" fill=\"none\" rx=\"4.00002\" ry=\"4.00002\" stroke=\"black\"/>\n",
       "<polygon fill=\"black\" points=\"200.716,-181.406 190.622,-178.189 196.507,-186.999 200.716,-181.406\" stroke=\"black\"/>\n",
       "</g>\n",
       "<!-- Imaginability&#45;&gt;Sympathy -->\n",
       "<g class=\"edge\" id=\"edge4\"><title>Imaginability-&gt;Sympathy</title>\n",
       "<path d=\"M255.088,-208.226C248.178,-189.634 237.268,-164.042 223.442,-144 215.995,-133.205 206.198,-122.696 197.054,-113.92\" fill=\"none\" stroke=\"black\"/>\n",
       "<ellipse cx=\"256.53\" cy=\"-212.217\" fill=\"none\" rx=\"4.00001\" ry=\"4.00001\" stroke=\"black\"/>\n",
       "<polygon fill=\"black\" points=\"199.302,-111.231 189.594,-106.988 194.537,-116.359 199.302,-111.231\" stroke=\"black\"/>\n",
       "</g>\n",
       "</g>\n",
       "</svg>"
      ],
      "text/plain": [
       "<IPython.core.display.SVG object>"
      ]
     },
     "execution_count": 18,
     "metadata": {},
     "output_type": "execute_result"
    }
   ],
   "source": [
    "dot_str = javabridge.static_call('edu/cmu/tetrad/graph/GraphUtils',\n",
    "                                   'graphToDot',\n",
    "                                   '(Ledu/cmu/tetrad/graph/Graph;)Ljava/lang/String;', \n",
    "                                   tetradGraph)\n",
    "graphs = pydot.graph_from_dot_data(dot_str)\n",
    "svg_str = graphs[0].create_svg()\n",
    "SVG(svg_str)"
   ]
  },
  {
   "cell_type": "code",
   "execution_count": 19,
   "metadata": {},
   "outputs": [],
   "source": [
    "javabridge.detach()\n",
    "javabridge.kill_vm()"
   ]
  },
  {
   "cell_type": "code",
   "execution_count": null,
   "metadata": {},
   "outputs": [],
   "source": []
  }
 ],
 "metadata": {
  "kernelspec": {
   "display_name": "Python 3",
   "language": "python",
   "name": "python3"
  },
  "language_info": {
   "codemirror_mode": {
    "name": "ipython",
    "version": 3
   },
   "file_extension": ".py",
   "mimetype": "text/x-python",
   "name": "python",
   "nbconvert_exporter": "python",
   "pygments_lexer": "ipython3",
   "version": "3.5.4"
  },
  "widgets": {
   "state": {},
   "version": "1.1.1"
  }
 },
 "nbformat": 4,
 "nbformat_minor": 1
}
