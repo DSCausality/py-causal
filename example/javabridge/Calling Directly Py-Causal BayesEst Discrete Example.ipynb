{
 "cells": [
  {
   "cell_type": "code",
   "execution_count": 1,
   "metadata": {},
   "outputs": [],
   "source": [
    "import javabridge\n",
    "import os\n",
    "import glob\n",
    "import pandas as pd\n",
    "import pydot\n",
    "from IPython.display import SVG"
   ]
  },
  {
   "cell_type": "code",
   "execution_count": 2,
   "metadata": {},
   "outputs": [
    {
     "name": "stdout",
     "output_type": "stream",
     "text": [
      "/home/jovyan/py-causal/example/javabridge/../../src/pycausal/lib/causal-cmd-0.4.0-SNAPSHOT-jar-with-dependencies.jar\n"
     ]
    }
   ],
   "source": [
    "tetrad_libdir = os.path.join(os.getcwd(), '../../','src', 'pycausal', 'lib')\n",
    "for l in glob.glob(tetrad_libdir + os.sep + \"*.jar\"):\n",
    "    print(l)\n",
    "    javabridge.JARS.append(str(l))"
   ]
  },
  {
   "cell_type": "code",
   "execution_count": 3,
   "metadata": {},
   "outputs": [
    {
     "data": {
      "text/plain": [
       "<JB_Env at 0x5557ca93e1e0>"
      ]
     },
     "execution_count": 3,
     "metadata": {},
     "output_type": "execute_result"
    }
   ],
   "source": [
    "javabridge.start_vm(run_headless=True, max_heap_size = '1000M')\n",
    "javabridge.attach()"
   ]
  },
  {
   "cell_type": "code",
   "execution_count": 4,
   "metadata": {},
   "outputs": [
    {
     "data": {
      "text/plain": [
       "'/home/jovyan/py-causal/example/javabridge/../../data/sim_discrete_data_20vars_100cases.txt'"
      ]
     },
     "execution_count": 4,
     "metadata": {},
     "output_type": "execute_result"
    }
   ],
   "source": [
    "data_dir = os.path.join(os.getcwd(), '../../','data', 'sim_discrete_data_20vars_100cases.txt')\n",
    "data_dir"
   ]
  },
  {
   "cell_type": "code",
   "execution_count": 5,
   "metadata": {},
   "outputs": [
    {
     "data": {
      "text/html": [
       "<div>\n",
       "<style scoped>\n",
       "    .dataframe tbody tr th:only-of-type {\n",
       "        vertical-align: middle;\n",
       "    }\n",
       "\n",
       "    .dataframe tbody tr th {\n",
       "        vertical-align: top;\n",
       "    }\n",
       "\n",
       "    .dataframe thead th {\n",
       "        text-align: right;\n",
       "    }\n",
       "</style>\n",
       "<table border=\"1\" class=\"dataframe\">\n",
       "  <thead>\n",
       "    <tr style=\"text-align: right;\">\n",
       "      <th></th>\n",
       "      <th>X0</th>\n",
       "      <th>X1</th>\n",
       "      <th>X2</th>\n",
       "      <th>X3</th>\n",
       "      <th>X4</th>\n",
       "      <th>X5</th>\n",
       "      <th>X6</th>\n",
       "      <th>X7</th>\n",
       "      <th>X8</th>\n",
       "      <th>X9</th>\n",
       "      <th>X10</th>\n",
       "      <th>X11</th>\n",
       "      <th>X12</th>\n",
       "      <th>X13</th>\n",
       "      <th>X14</th>\n",
       "      <th>X15</th>\n",
       "      <th>X16</th>\n",
       "      <th>X17</th>\n",
       "      <th>X18</th>\n",
       "      <th>X19</th>\n",
       "    </tr>\n",
       "  </thead>\n",
       "  <tbody>\n",
       "    <tr>\n",
       "      <th>0</th>\n",
       "      <td>1</td>\n",
       "      <td>0</td>\n",
       "      <td>0</td>\n",
       "      <td>1</td>\n",
       "      <td>0</td>\n",
       "      <td>2</td>\n",
       "      <td>2</td>\n",
       "      <td>0</td>\n",
       "      <td>1</td>\n",
       "      <td>1</td>\n",
       "      <td>2</td>\n",
       "      <td>2</td>\n",
       "      <td>1</td>\n",
       "      <td>0</td>\n",
       "      <td>1</td>\n",
       "      <td>0</td>\n",
       "      <td>0</td>\n",
       "      <td>1</td>\n",
       "      <td>1</td>\n",
       "      <td>2</td>\n",
       "    </tr>\n",
       "    <tr>\n",
       "      <th>1</th>\n",
       "      <td>2</td>\n",
       "      <td>0</td>\n",
       "      <td>2</td>\n",
       "      <td>1</td>\n",
       "      <td>0</td>\n",
       "      <td>2</td>\n",
       "      <td>1</td>\n",
       "      <td>0</td>\n",
       "      <td>2</td>\n",
       "      <td>0</td>\n",
       "      <td>2</td>\n",
       "      <td>2</td>\n",
       "      <td>0</td>\n",
       "      <td>1</td>\n",
       "      <td>2</td>\n",
       "      <td>0</td>\n",
       "      <td>0</td>\n",
       "      <td>1</td>\n",
       "      <td>2</td>\n",
       "      <td>1</td>\n",
       "    </tr>\n",
       "    <tr>\n",
       "      <th>2</th>\n",
       "      <td>2</td>\n",
       "      <td>0</td>\n",
       "      <td>0</td>\n",
       "      <td>1</td>\n",
       "      <td>0</td>\n",
       "      <td>0</td>\n",
       "      <td>2</td>\n",
       "      <td>0</td>\n",
       "      <td>1</td>\n",
       "      <td>1</td>\n",
       "      <td>2</td>\n",
       "      <td>2</td>\n",
       "      <td>0</td>\n",
       "      <td>1</td>\n",
       "      <td>1</td>\n",
       "      <td>2</td>\n",
       "      <td>0</td>\n",
       "      <td>0</td>\n",
       "      <td>1</td>\n",
       "      <td>0</td>\n",
       "    </tr>\n",
       "    <tr>\n",
       "      <th>3</th>\n",
       "      <td>2</td>\n",
       "      <td>0</td>\n",
       "      <td>0</td>\n",
       "      <td>0</td>\n",
       "      <td>0</td>\n",
       "      <td>1</td>\n",
       "      <td>2</td>\n",
       "      <td>2</td>\n",
       "      <td>2</td>\n",
       "      <td>2</td>\n",
       "      <td>2</td>\n",
       "      <td>2</td>\n",
       "      <td>2</td>\n",
       "      <td>0</td>\n",
       "      <td>2</td>\n",
       "      <td>0</td>\n",
       "      <td>1</td>\n",
       "      <td>0</td>\n",
       "      <td>1</td>\n",
       "      <td>0</td>\n",
       "    </tr>\n",
       "    <tr>\n",
       "      <th>4</th>\n",
       "      <td>1</td>\n",
       "      <td>0</td>\n",
       "      <td>2</td>\n",
       "      <td>0</td>\n",
       "      <td>0</td>\n",
       "      <td>0</td>\n",
       "      <td>0</td>\n",
       "      <td>2</td>\n",
       "      <td>2</td>\n",
       "      <td>2</td>\n",
       "      <td>2</td>\n",
       "      <td>2</td>\n",
       "      <td>1</td>\n",
       "      <td>2</td>\n",
       "      <td>2</td>\n",
       "      <td>0</td>\n",
       "      <td>1</td>\n",
       "      <td>1</td>\n",
       "      <td>1</td>\n",
       "      <td>1</td>\n",
       "    </tr>\n",
       "  </tbody>\n",
       "</table>\n",
       "</div>"
      ],
      "text/plain": [
       "   X0  X1  X2  X3  X4  X5  X6  X7  X8  X9  X10  X11  X12  X13  X14  X15  X16  \\\n",
       "0   1   0   0   1   0   2   2   0   1   1    2    2    1    0    1    0    0   \n",
       "1   2   0   2   1   0   2   1   0   2   0    2    2    0    1    2    0    0   \n",
       "2   2   0   0   1   0   0   2   0   1   1    2    2    0    1    1    2    0   \n",
       "3   2   0   0   0   0   1   2   2   2   2    2    2    2    0    2    0    1   \n",
       "4   1   0   2   0   0   0   0   2   2   2    2    2    1    2    2    0    1   \n",
       "\n",
       "   X17  X18  X19  \n",
       "0    1    1    2  \n",
       "1    1    2    1  \n",
       "2    0    1    0  \n",
       "3    0    1    0  \n",
       "4    1    1    1  "
      ]
     },
     "execution_count": 5,
     "metadata": {},
     "output_type": "execute_result"
    }
   ],
   "source": [
    "dframe = pd.read_table(data_dir, sep=\"\\t\")\n",
    "dframe.head()"
   ]
  },
  {
   "cell_type": "code",
   "execution_count": 6,
   "metadata": {},
   "outputs": [],
   "source": [
    "dataBox = javabridge.JClassWrapper(\"edu.cmu.tetrad.data.VerticalIntDataBox\")(len(dframe.index),dframe.columns.size)"
   ]
  },
  {
   "cell_type": "code",
   "execution_count": 7,
   "metadata": {},
   "outputs": [],
   "source": [
    "node_list = javabridge.JClassWrapper(\"java.util.ArrayList\")()\n",
    "# load dataset\n",
    "col_no = 0\n",
    "for col in dframe.columns:\n",
    "    \n",
    "    cat_array = sorted(set(dframe[col]))\n",
    "    cat_list = javabridge.JClassWrapper(\"java.util.ArrayList\")()\n",
    "    \n",
    "    for cat in cat_array:\n",
    "        cat = str(cat)\n",
    "        cat_list.add(cat)\n",
    "        \n",
    "    nodi = javabridge.JClassWrapper(\"edu.cmu.tetrad.data.DiscreteVariable\")(col, cat_list)\n",
    "    node_list.add(nodi)\n",
    "    \n",
    "    for row in dframe.index:\n",
    "        value = javabridge.JClassWrapper(\"java.lang.Integer\") (cat_array.index(dframe.iloc[row,col_no]))\n",
    "        dataBox.set(row,col_no,value)\n",
    "    \n",
    "    col_no = col_no + 1"
   ]
  },
  {
   "cell_type": "code",
   "execution_count": 8,
   "metadata": {},
   "outputs": [],
   "source": [
    "boxData = javabridge.JClassWrapper(\"edu.cmu.tetrad.data.BoxDataSet\")(dataBox, node_list)"
   ]
  },
  {
   "cell_type": "code",
   "execution_count": 9,
   "metadata": {},
   "outputs": [],
   "source": [
    "alpha = 0.05\n",
    "IndTest = javabridge.JClassWrapper('edu.cmu.tetrad.search.IndTestChiSquare')(boxData, alpha)"
   ]
  },
  {
   "cell_type": "code",
   "execution_count": 10,
   "metadata": {},
   "outputs": [],
   "source": [
    "cpc = javabridge.JClassWrapper('edu.cmu.tetrad.search.Cpc')(IndTest)"
   ]
  },
  {
   "cell_type": "code",
   "execution_count": 11,
   "metadata": {},
   "outputs": [],
   "source": [
    "cpc.setDepth(-1)\n",
    "cpc.setVerbose(True)"
   ]
  },
  {
   "cell_type": "code",
   "execution_count": 12,
   "metadata": {},
   "outputs": [
    {
     "data": {
      "text/plain": [
       "Instance of edu.cmu.tetrad.graph.EdgeListGraph: Graph Nodes:\n",
       "X0,X1,X2,X3,X4,X5,X6,X7,X8,X9,X10,X11,X12,X13,X14,X15,X16,X17,X18,X19\n",
       "\n",
       "Graph Edges:\n",
       "1. X10 --- X17\n",
       "2. X11 --- X14\n",
       "3. X12 --- X15\n",
       "4. X14 --- X18\n",
       "5. X15 --> X19\n",
       "6. X17 --> X19\n",
       "7. X3 --> X7\n",
       "8. X3 --- X9\n",
       "9. X4 --- X10\n",
       "10. X4 --- X11\n",
       "11. X4 --- X8\n",
       "12. X6 --- X13\n",
       "13. X6 --> X7\n",
       "14. X7 --- X13\n",
       "\n",
       "\n",
       "Ambiguous triples (i.e. list of triples for which there is ambiguous data about whether they are colliders or not):\n",
       "<X10, X4, X11>\n",
       "<X13, X7, X3>\n",
       "<X18, X14, X11>\n",
       "<X4, X11, X14>\n",
       "<X4, X10, X17>\n",
       "<X8, X4, X11>\n",
       "<X8, X4, X10>"
      ]
     },
     "execution_count": 12,
     "metadata": {},
     "output_type": "execute_result"
    }
   ],
   "source": [
    "tetradGraph = cpc.search()\n",
    "tetradGraph"
   ]
  },
  {
   "cell_type": "code",
   "execution_count": 13,
   "metadata": {},
   "outputs": [
    {
     "data": {
      "text/plain": [
       "Instance of edu.cmu.tetrad.graph.Dag: Graph Nodes:\n",
       "X0,X1,X2,X3,X4,X5,X6,X7,X8,X9,X10,X11,X12,X13,X14,X15,X16,X17,X18,X19\n",
       "\n",
       "Graph Edges:\n",
       "1. X10 --> X4\n",
       "2. X11 --> X4\n",
       "3. X13 --> X6\n",
       "4. X13 --> X7\n",
       "5. X14 --> X11\n",
       "6. X15 --> X12\n",
       "7. X15 --> X19\n",
       "8. X17 --> X10\n",
       "9. X17 --> X19\n",
       "10. X18 --> X14\n",
       "11. X3 --> X7\n",
       "12. X6 --> X7\n",
       "13. X8 --> X4\n",
       "14. X9 --> X3"
      ]
     },
     "execution_count": 13,
     "metadata": {},
     "output_type": "execute_result"
    }
   ],
   "source": [
    "dags = javabridge.JClassWrapper('edu.cmu.tetrad.search.DagInPatternIterator')(tetradGraph)\n",
    "dagGraph = dags.next()\n",
    "dag = javabridge.JClassWrapper('edu.cmu.tetrad.graph.Dag')(dagGraph)\n",
    "dag"
   ]
  },
  {
   "cell_type": "code",
   "execution_count": 14,
   "metadata": {},
   "outputs": [
    {
     "data": {
      "image/svg+xml": [
       "<svg height=\"188pt\" viewBox=\"0.00 0.00 482.25 188.00\" width=\"482pt\" xmlns=\"http://www.w3.org/2000/svg\" xmlns:xlink=\"http://www.w3.org/1999/xlink\">\n",
       "<g class=\"graph\" id=\"graph0\" transform=\"scale(1 1) rotate(0) translate(4 184)\">\n",
       "<title>g</title>\n",
       "<polygon fill=\"white\" points=\"-4,4 -4,-184 478.247,-184 478.247,4 -4,4\" stroke=\"none\"/>\n",
       "<!-- X10 -->\n",
       "<g class=\"node\" id=\"node1\"><title>X10</title>\n",
       "<ellipse cx=\"141.247\" cy=\"-162\" fill=\"none\" rx=\"29.4969\" ry=\"18\" stroke=\"black\"/>\n",
       "<text font-family=\"Times,serif\" font-size=\"14.00\" text-anchor=\"middle\" x=\"141.247\" y=\"-158.3\">X10</text>\n",
       "</g>\n",
       "<!-- X4 -->\n",
       "<g class=\"node\" id=\"node2\"><title>X4</title>\n",
       "<ellipse cx=\"103.247\" cy=\"-90\" fill=\"none\" rx=\"27\" ry=\"18\" stroke=\"black\"/>\n",
       "<text font-family=\"Times,serif\" font-size=\"14.00\" text-anchor=\"middle\" x=\"103.247\" y=\"-86.3\">X4</text>\n",
       "</g>\n",
       "<!-- X10&#45;&gt;X4 -->\n",
       "<g class=\"edge\" id=\"edge1\"><title>X10-&gt;X4</title>\n",
       "<path d=\"M132.434,-144.765C127.83,-136.283 122.092,-125.714 116.926,-116.197\" fill=\"none\" stroke=\"black\"/>\n",
       "<polygon fill=\"black\" points=\"119.86,-114.266 112.013,-107.147 113.708,-117.606 119.86,-114.266\" stroke=\"black\"/>\n",
       "</g>\n",
       "<!-- X17 -->\n",
       "<g class=\"node\" id=\"node5\"><title>X17</title>\n",
       "<ellipse cx=\"177.247\" cy=\"-90\" fill=\"none\" rx=\"29.4969\" ry=\"18\" stroke=\"black\"/>\n",
       "<text font-family=\"Times,serif\" font-size=\"14.00\" text-anchor=\"middle\" x=\"177.247\" y=\"-86.3\">X17</text>\n",
       "</g>\n",
       "<!-- X10&#45;&gt;X17 -->\n",
       "<g class=\"edge\" id=\"edge3\"><title>X10-&gt;X17</title>\n",
       "<path d=\"M154.363,-135.497C159.171,-126.148 164.483,-115.82 168.777,-107.47\" fill=\"none\" stroke=\"black\"/>\n",
       "<polygon fill=\"black\" points=\"151.24,-133.917 149.779,-144.411 157.465,-137.119 151.24,-133.917\" stroke=\"black\"/>\n",
       "</g>\n",
       "<!-- X8 -->\n",
       "<g class=\"node\" id=\"node12\"><title>X8</title>\n",
       "<ellipse cx=\"103.247\" cy=\"-18\" fill=\"none\" rx=\"27\" ry=\"18\" stroke=\"black\"/>\n",
       "<text font-family=\"Times,serif\" font-size=\"14.00\" text-anchor=\"middle\" x=\"103.247\" y=\"-14.3\">X8</text>\n",
       "</g>\n",
       "<!-- X4&#45;&gt;X8 -->\n",
       "<g class=\"edge\" id=\"edge8\"><title>X4-&gt;X8</title>\n",
       "<path d=\"M103.247,-61.6651C103.247,-53.0537 103.247,-43.7913 103.247,-36.1043\" fill=\"none\" stroke=\"black\"/>\n",
       "<polygon fill=\"black\" points=\"99.7475,-61.6966 103.247,-71.6966 106.748,-61.6967 99.7475,-61.6966\" stroke=\"black\"/>\n",
       "</g>\n",
       "<!-- X12 -->\n",
       "<g class=\"node\" id=\"node3\"><title>X12</title>\n",
       "<ellipse cx=\"253.247\" cy=\"-162\" fill=\"none\" rx=\"29.4969\" ry=\"18\" stroke=\"black\"/>\n",
       "<text font-family=\"Times,serif\" font-size=\"14.00\" text-anchor=\"middle\" x=\"253.247\" y=\"-158.3\">X12</text>\n",
       "</g>\n",
       "<!-- X15 -->\n",
       "<g class=\"node\" id=\"node4\"><title>X15</title>\n",
       "<ellipse cx=\"253.247\" cy=\"-90\" fill=\"none\" rx=\"29.4969\" ry=\"18\" stroke=\"black\"/>\n",
       "<text font-family=\"Times,serif\" font-size=\"14.00\" text-anchor=\"middle\" x=\"253.247\" y=\"-86.3\">X15</text>\n",
       "</g>\n",
       "<!-- X12&#45;&gt;X15 -->\n",
       "<g class=\"edge\" id=\"edge2\"><title>X12-&gt;X15</title>\n",
       "<path d=\"M253.247,-133.665C253.247,-125.054 253.247,-115.791 253.247,-108.104\" fill=\"none\" stroke=\"black\"/>\n",
       "<polygon fill=\"black\" points=\"249.748,-133.697 253.247,-143.697 256.748,-133.697 249.748,-133.697\" stroke=\"black\"/>\n",
       "</g>\n",
       "<!-- X19 -->\n",
       "<g class=\"node\" id=\"node11\"><title>X19</title>\n",
       "<ellipse cx=\"215.247\" cy=\"-18\" fill=\"none\" rx=\"29.4969\" ry=\"18\" stroke=\"black\"/>\n",
       "<text font-family=\"Times,serif\" font-size=\"14.00\" text-anchor=\"middle\" x=\"215.247\" y=\"-14.3\">X19</text>\n",
       "</g>\n",
       "<!-- X15&#45;&gt;X19 -->\n",
       "<g class=\"edge\" id=\"edge13\"><title>X15-&gt;X19</title>\n",
       "<path d=\"M244.434,-72.7646C239.895,-64.4043 234.256,-54.0159 229.148,-44.6059\" fill=\"none\" stroke=\"black\"/>\n",
       "<polygon fill=\"black\" points=\"232.124,-42.7521 224.277,-35.6334 225.972,-46.0918 232.124,-42.7521\" stroke=\"black\"/>\n",
       "</g>\n",
       "<!-- X17&#45;&gt;X19 -->\n",
       "<g class=\"edge\" id=\"edge7\"><title>X17-&gt;X19</title>\n",
       "<path d=\"M186.061,-72.7646C190.599,-64.4043 196.239,-54.0159 201.347,-44.6059\" fill=\"none\" stroke=\"black\"/>\n",
       "<polygon fill=\"black\" points=\"204.523,-46.0918 206.218,-35.6334 198.371,-42.7521 204.523,-46.0918\" stroke=\"black\"/>\n",
       "</g>\n",
       "<!-- X11 -->\n",
       "<g class=\"node\" id=\"node6\"><title>X11</title>\n",
       "<ellipse cx=\"47.2474\" cy=\"-162\" fill=\"none\" rx=\"29.4969\" ry=\"18\" stroke=\"black\"/>\n",
       "<text font-family=\"Times,serif\" font-size=\"14.00\" text-anchor=\"middle\" x=\"47.2474\" y=\"-158.3\">X11</text>\n",
       "</g>\n",
       "<!-- X11&#45;&gt;X4 -->\n",
       "<g class=\"edge\" id=\"edge9\"><title>X11-&gt;X4</title>\n",
       "<path d=\"M59.6756,-145.465C66.9982,-136.311 76.4043,-124.554 84.6017,-114.307\" fill=\"none\" stroke=\"black\"/>\n",
       "<polygon fill=\"black\" points=\"87.34,-116.487 90.8539,-106.492 81.8739,-112.114 87.34,-116.487\" stroke=\"black\"/>\n",
       "</g>\n",
       "<!-- X14 -->\n",
       "<g class=\"node\" id=\"node7\"><title>X14</title>\n",
       "<ellipse cx=\"29.2474\" cy=\"-90\" fill=\"none\" rx=\"29.4969\" ry=\"18\" stroke=\"black\"/>\n",
       "<text font-family=\"Times,serif\" font-size=\"14.00\" text-anchor=\"middle\" x=\"29.2474\" y=\"-86.3\">X14</text>\n",
       "</g>\n",
       "<!-- X11&#45;&gt;X14 -->\n",
       "<g class=\"edge\" id=\"edge4\"><title>X11-&gt;X14</title>\n",
       "<path d=\"M40.3791,-134.29C38.1361,-125.567 35.7056,-116.115 33.6896,-108.275\" fill=\"none\" stroke=\"black\"/>\n",
       "<polygon fill=\"black\" points=\"37.0099,-135.242 42.8901,-144.055 43.7893,-133.498 37.0099,-135.242\" stroke=\"black\"/>\n",
       "</g>\n",
       "<!-- X18 -->\n",
       "<g class=\"node\" id=\"node8\"><title>X18</title>\n",
       "<ellipse cx=\"29.2474\" cy=\"-18\" fill=\"none\" rx=\"29.4969\" ry=\"18\" stroke=\"black\"/>\n",
       "<text font-family=\"Times,serif\" font-size=\"14.00\" text-anchor=\"middle\" x=\"29.2474\" y=\"-14.3\">X18</text>\n",
       "</g>\n",
       "<!-- X14&#45;&gt;X18 -->\n",
       "<g class=\"edge\" id=\"edge5\"><title>X14-&gt;X18</title>\n",
       "<path d=\"M29.2474,-61.6651C29.2474,-53.0537 29.2474,-43.7913 29.2474,-36.1043\" fill=\"none\" stroke=\"black\"/>\n",
       "<polygon fill=\"black\" points=\"25.7475,-61.6966 29.2474,-71.6966 32.7475,-61.6967 25.7475,-61.6966\" stroke=\"black\"/>\n",
       "</g>\n",
       "<!-- X3 -->\n",
       "<g class=\"node\" id=\"node9\"><title>X3</title>\n",
       "<ellipse cx=\"447.247\" cy=\"-90\" fill=\"none\" rx=\"27\" ry=\"18\" stroke=\"black\"/>\n",
       "<text font-family=\"Times,serif\" font-size=\"14.00\" text-anchor=\"middle\" x=\"447.247\" y=\"-86.3\">X3</text>\n",
       "</g>\n",
       "<!-- X7 -->\n",
       "<g class=\"node\" id=\"node10\"><title>X7</title>\n",
       "<ellipse cx=\"375.247\" cy=\"-18\" fill=\"none\" rx=\"27\" ry=\"18\" stroke=\"black\"/>\n",
       "<text font-family=\"Times,serif\" font-size=\"14.00\" text-anchor=\"middle\" x=\"375.247\" y=\"-14.3\">X7</text>\n",
       "</g>\n",
       "<!-- X3&#45;&gt;X7 -->\n",
       "<g class=\"edge\" id=\"edge6\"><title>X3-&gt;X7</title>\n",
       "<path d=\"M432.677,-74.8345C422.497,-64.9376 408.724,-51.5462 397.217,-40.3591\" fill=\"none\" stroke=\"black\"/>\n",
       "<polygon fill=\"black\" points=\"399.653,-37.8461 390.043,-33.3847 394.773,-42.865 399.653,-37.8461\" stroke=\"black\"/>\n",
       "</g>\n",
       "<!-- X9 -->\n",
       "<g class=\"node\" id=\"node15\"><title>X9</title>\n",
       "<ellipse cx=\"447.247\" cy=\"-18\" fill=\"none\" rx=\"27\" ry=\"18\" stroke=\"black\"/>\n",
       "<text font-family=\"Times,serif\" font-size=\"14.00\" text-anchor=\"middle\" x=\"447.247\" y=\"-14.3\">X9</text>\n",
       "</g>\n",
       "<!-- X3&#45;&gt;X9 -->\n",
       "<g class=\"edge\" id=\"edge12\"><title>X3-&gt;X9</title>\n",
       "<path d=\"M447.247,-61.6651C447.247,-53.0537 447.247,-43.7913 447.247,-36.1043\" fill=\"none\" stroke=\"black\"/>\n",
       "<polygon fill=\"black\" points=\"443.748,-61.6966 447.247,-71.6966 450.748,-61.6967 443.748,-61.6966\" stroke=\"black\"/>\n",
       "</g>\n",
       "<!-- X13 -->\n",
       "<g class=\"node\" id=\"node13\"><title>X13</title>\n",
       "<ellipse cx=\"329.247\" cy=\"-162\" fill=\"none\" rx=\"29.4969\" ry=\"18\" stroke=\"black\"/>\n",
       "<text font-family=\"Times,serif\" font-size=\"14.00\" text-anchor=\"middle\" x=\"329.247\" y=\"-158.3\">X13</text>\n",
       "</g>\n",
       "<!-- X13&#45;&gt;X7 -->\n",
       "<g class=\"edge\" id=\"edge14\"><title>X13-&gt;X7</title>\n",
       "<path d=\"M328.767,-143.708C328.805,-125.352 330.455,-95.7703 339.247,-72 343.125,-61.5153 349.507,-51.0945 355.828,-42.3033\" fill=\"none\" stroke=\"black\"/>\n",
       "<polygon fill=\"black\" points=\"358.785,-44.1972 362.035,-34.1133 353.206,-39.9693 358.785,-44.1972\" stroke=\"black\"/>\n",
       "</g>\n",
       "<!-- X6 -->\n",
       "<g class=\"node\" id=\"node14\"><title>X6</title>\n",
       "<ellipse cx=\"375.247\" cy=\"-90\" fill=\"none\" rx=\"27\" ry=\"18\" stroke=\"black\"/>\n",
       "<text font-family=\"Times,serif\" font-size=\"14.00\" text-anchor=\"middle\" x=\"375.247\" y=\"-86.3\">X6</text>\n",
       "</g>\n",
       "<!-- X13&#45;&gt;X6 -->\n",
       "<g class=\"edge\" id=\"edge10\"><title>X13-&gt;X6</title>\n",
       "<path d=\"M339.686,-145.116C345.449,-136.345 352.731,-125.264 359.202,-115.416\" fill=\"none\" stroke=\"black\"/>\n",
       "<polygon fill=\"black\" points=\"362.284,-117.1 364.851,-106.821 356.434,-113.256 362.284,-117.1\" stroke=\"black\"/>\n",
       "</g>\n",
       "<!-- X6&#45;&gt;X7 -->\n",
       "<g class=\"edge\" id=\"edge11\"><title>X6-&gt;X7</title>\n",
       "<path d=\"M375.247,-71.6966C375.247,-63.9827 375.247,-54.7125 375.247,-46.1124\" fill=\"none\" stroke=\"black\"/>\n",
       "<polygon fill=\"black\" points=\"378.748,-46.1043 375.247,-36.1043 371.748,-46.1044 378.748,-46.1043\" stroke=\"black\"/>\n",
       "</g>\n",
       "</g>\n",
       "</svg>"
      ],
      "text/plain": [
       "<IPython.core.display.SVG object>"
      ]
     },
     "execution_count": 14,
     "metadata": {},
     "output_type": "execute_result"
    }
   ],
   "source": [
    "dot_str = javabridge.static_call('edu/cmu/tetrad/graph/GraphUtils',\n",
    "                                   'graphToDot',\n",
    "                                   '(Ledu/cmu/tetrad/graph/Graph;)Ljava/lang/String;', \n",
    "                                   dag)\n",
    "graphs = pydot.graph_from_dot_data(dot_str)\n",
    "svg_str = graphs[0].create_svg()\n",
    "SVG(svg_str)"
   ]
  },
  {
   "cell_type": "code",
   "execution_count": 15,
   "metadata": {},
   "outputs": [
    {
     "data": {
      "text/plain": [
       "Instance of edu.cmu.tetrad.bayes.BayesPm: \n",
       "X18: 0, 1, 2\n",
       "X1: 0, 1, 2\n",
       "X6: 0, 1, 2\n",
       "X14: 0, 1, 2\n",
       "X11: 0, 1, 2\n",
       "X3: 0, 1, 2\n",
       "X0: 0, 1, 2\n",
       "X10: 0, 1, 2\n",
       "X15: 0, 1, 2\n",
       "X4: 0, 1, 2\n",
       "X12: 0, 1, 2\n",
       "X8: 0, 1, 2\n",
       "X9: 0, 1, 2\n",
       "X16: 0, 1, 2\n",
       "X19: 0, 1, 2\n",
       "X5: 0, 1, 2\n",
       "X13: 0, 1, 2\n",
       "X17: 0, 1, 2\n",
       "X2: 0, 1, 2\n",
       "X7: 0, 1, 2"
      ]
     },
     "execution_count": 15,
     "metadata": {},
     "output_type": "execute_result"
    }
   ],
   "source": [
    "pm = javabridge.JClassWrapper('edu.cmu.tetrad.bayes.BayesPm')(dag)\n",
    "pm"
   ]
  },
  {
   "cell_type": "code",
   "execution_count": 16,
   "metadata": {},
   "outputs": [
    {
     "data": {
      "text/plain": [
       "'\\n\\nNode: X0\\n\\n0.0900\\t0.1700\\t0.7400\\t\\n\\nNode: X1\\n\\n0.9400\\t0.0500\\t0.0100\\t\\n\\nNode: X2\\n\\n0.7800\\t0.0900\\t0.1300\\t\\n\\nNode: X3\\n\\nX9\\t\\n0\\t0.0000\\t0.3077\\t0.6923\\t\\n1\\t0.1111\\t0.8148\\t0.0741\\t\\n2\\t0.8235\\t0.1176\\t0.0588\\t\\n\\nNode: X4\\n\\nX8\\tX10\\tX11\\t\\n0\\t0\\t0\\t�\\t�\\t�\\t\\n0\\t0\\t1\\t�\\t�\\t�\\t\\n0\\t0\\t2\\t�\\t�\\t�\\t\\n0\\t1\\t0\\t�\\t�\\t�\\t\\n0\\t1\\t1\\t�\\t�\\t�\\t\\n0\\t1\\t2\\t�\\t�\\t�\\t\\n0\\t2\\t0\\t�\\t�\\t�\\t\\n0\\t2\\t1\\t�\\t�\\t�\\t\\n0\\t2\\t2\\t0.0000\\t1.0000\\t0.0000\\t\\n1\\t0\\t0\\t1.0000\\t0.0000\\t0.0000\\t\\n1\\t0\\t1\\t0.3333\\t0.3333\\t0.3333\\t\\n1\\t0\\t2\\t1.0000\\t0.0000\\t0.0000\\t\\n1\\t1\\t0\\t�\\t�\\t�\\t\\n1\\t1\\t1\\t0.0000\\t0.0000\\t1.0000\\t\\n1\\t1\\t2\\t0.2500\\t0.2500\\t0.5000\\t\\n1\\t2\\t0\\t1.0000\\t0.0000\\t0.0000\\t\\n1\\t2\\t1\\t1.0000\\t0.0000\\t0.0000\\t\\n1\\t2\\t2\\t1.0000\\t0.0000\\t0.0000\\t\\n2\\t0\\t0\\t�\\t�\\t�\\t\\n2\\t0\\t1\\t�\\t�\\t�\\t\\n2\\t0\\t2\\t0.8000\\t0.2000\\t0.0000\\t\\n2\\t1\\t0\\t0.5000\\t0.2500\\t0.2500\\t\\n2\\t1\\t1\\t�\\t�\\t�\\t\\n2\\t1\\t2\\t0.3333\\t0.2222\\t0.4444\\t\\n2\\t2\\t0\\t1.0000\\t0.0000\\t0.0000\\t\\n2\\t2\\t1\\t0.0000\\t1.0000\\t0.0000\\t\\n2\\t2\\t2\\t0.9429\\t0.0000\\t0.0571\\t\\n\\nNode: X5\\n\\n0.5300\\t0.0500\\t0.4200\\t\\n\\nNode: X6\\n\\nX13\\t\\n0\\t0.0000\\t0.0169\\t0.9831\\t\\n1\\t0.0870\\t0.3478\\t0.5652\\t\\n2\\t0.2222\\t0.5556\\t0.2222\\t\\n\\nNode: X7\\n\\nX3\\tX6\\tX13\\t\\n0\\t0\\t0\\t�\\t�\\t�\\t\\n0\\t0\\t1\\t1.0000\\t0.0000\\t0.0000\\t\\n0\\t0\\t2\\t0.0000\\t0.0000\\t1.0000\\t\\n0\\t1\\t0\\t0.0000\\t1.0000\\t0.0000\\t\\n0\\t1\\t1\\t0.5000\\t0.5000\\t0.0000\\t\\n0\\t1\\t2\\t0.3333\\t0.6667\\t0.0000\\t\\n0\\t2\\t0\\t0.0000\\t0.0000\\t1.0000\\t\\n0\\t2\\t1\\t�\\t�\\t�\\t\\n0\\t2\\t2\\t�\\t�\\t�\\t\\n1\\t0\\t0\\t�\\t�\\t�\\t\\n1\\t0\\t1\\t�\\t�\\t�\\t\\n1\\t0\\t2\\t1.0000\\t0.0000\\t0.0000\\t\\n1\\t1\\t0\\t�\\t�\\t�\\t\\n1\\t1\\t1\\t1.0000\\t0.0000\\t0.0000\\t\\n1\\t1\\t2\\t0.5000\\t0.0000\\t0.5000\\t\\n1\\t2\\t0\\t0.7500\\t0.1000\\t0.1500\\t\\n1\\t2\\t1\\t0.5556\\t0.4444\\t0.0000\\t\\n1\\t2\\t2\\t1.0000\\t0.0000\\t0.0000\\t\\n2\\t0\\t0\\t�\\t�\\t�\\t\\n2\\t0\\t1\\t�\\t�\\t�\\t\\n2\\t0\\t2\\t0.0000\\t0.0000\\t1.0000\\t\\n2\\t1\\t0\\t�\\t�\\t�\\t\\n2\\t1\\t1\\t0.0000\\t1.0000\\t0.0000\\t\\n2\\t1\\t2\\t0.0000\\t0.3333\\t0.6667\\t\\n2\\t2\\t0\\t0.2353\\t0.0000\\t0.7647\\t\\n2\\t2\\t1\\t0.5000\\t0.5000\\t0.0000\\t\\n2\\t2\\t2\\t1.0000\\t0.0000\\t0.0000\\t\\n\\nNode: X8\\n\\n0.0100\\t0.3600\\t0.6300\\t\\n\\nNode: X9\\n\\n0.3900\\t0.2700\\t0.3400\\t\\n\\nNode: X10\\n\\nX17\\t\\n0\\t0.1667\\t0.1667\\t0.6667\\t\\n1\\t0.2174\\t0.0000\\t0.7826\\t\\n2\\t0.2174\\t0.4348\\t0.3478\\t\\n\\nNode: X11\\n\\nX14\\t\\n0\\t0.4375\\t0.3125\\t0.2500\\t\\n1\\t0.0870\\t0.0652\\t0.8478\\t\\n2\\t0.0526\\t0.0000\\t0.9474\\t\\n\\nNode: X12\\n\\nX15\\t\\n0\\t0.0851\\t0.5957\\t0.3191\\t\\n1\\t0.3182\\t0.5000\\t0.1818\\t\\n2\\t0.3226\\t0.2581\\t0.4194\\t\\n\\nNode: X13\\n\\n0.5900\\t0.2300\\t0.1800\\t\\n\\nNode: X14\\n\\nX18\\t\\n0\\t0.1905\\t0.7143\\t0.0952\\t\\n1\\t0.0204\\t0.5918\\t0.3878\\t\\n2\\t0.3667\\t0.0667\\t0.5667\\t\\n\\nNode: X15\\n\\n0.4700\\t0.2200\\t0.3100\\t\\n\\nNode: X16\\n\\n0.4600\\t0.3700\\t0.1700\\t\\n\\nNode: X17\\n\\n0.5400\\t0.2300\\t0.2300\\t\\n\\nNode: X18\\n\\n0.2100\\t0.4900\\t0.3000\\t\\n\\nNode: X19\\n\\nX15\\tX17\\t\\n0\\t0\\t0.7778\\t0.0000\\t0.2222\\t\\n0\\t1\\t0.0000\\t0.4545\\t0.5455\\t\\n0\\t2\\t0.8889\\t0.1111\\t0.0000\\t\\n1\\t0\\t0.0000\\t0.0000\\t1.0000\\t\\n1\\t1\\t0.2857\\t0.0000\\t0.7143\\t\\n1\\t2\\t0.3333\\t0.5000\\t0.1667\\t\\n2\\t0\\t0.7222\\t0.2222\\t0.0556\\t\\n2\\t1\\t0.0000\\t1.0000\\t0.0000\\t\\n2\\t2\\t0.5000\\t0.3750\\t0.1250\\t\\n'"
      ]
     },
     "execution_count": 16,
     "metadata": {},
     "output_type": "execute_result"
    }
   ],
   "source": [
    "est = javabridge.JClassWrapper('edu.cmu.tetrad.bayes.MlBayesEstimator')()\n",
    "im = est.estimate(pm, boxData)\n",
    "im = im.toString()\n",
    "im"
   ]
  },
  {
   "cell_type": "code",
   "execution_count": 17,
   "metadata": {},
   "outputs": [],
   "source": [
    "javabridge.detach()\n",
    "javabridge.kill_vm()"
   ]
  },
  {
   "cell_type": "code",
   "execution_count": null,
   "metadata": {},
   "outputs": [],
   "source": []
  }
 ],
 "metadata": {
  "kernelspec": {
   "display_name": "Python 3",
   "language": "python",
   "name": "python3"
  },
  "language_info": {
   "codemirror_mode": {
    "name": "ipython",
    "version": 3
   },
   "file_extension": ".py",
   "mimetype": "text/x-python",
   "name": "python",
   "nbconvert_exporter": "python",
   "pygments_lexer": "ipython3",
   "version": "3.5.4"
  },
  "widgets": {
   "state": {},
   "version": "1.1.1"
  }
 },
 "nbformat": 4,
 "nbformat_minor": 1
}
