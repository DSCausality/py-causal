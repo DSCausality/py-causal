{
 "cells": [
  {
   "cell_type": "code",
   "execution_count": 1,
   "metadata": {
    "collapsed": true
   },
   "outputs": [],
   "source": [
    "import javabridge\n",
    "import os\n",
    "import glob\n",
    "import pandas as pd\n",
    "import pydot\n",
    "from IPython.display import SVG"
   ]
  },
  {
   "cell_type": "code",
   "execution_count": 2,
   "metadata": {},
   "outputs": [
    {
     "name": "stdout",
     "output_type": "stream",
     "text": [
      "/home/jovyan/py-causal/example/javabridge/../../src/pycausal/lib/tetrad-lib-6.4.0-SNAPSHOT-tetradcmd.jar\n",
      "/home/jovyan/py-causal/example/javabridge/../../src/pycausal/lib/data-reader-0.2.3-SNAPSHOT.jar\n"
     ]
    }
   ],
   "source": [
    "tetrad_libdir = os.path.join(os.getcwd(), '../../','src', 'pycausal', 'lib')\n",
    "for l in glob.glob(tetrad_libdir + os.sep + \"*.jar\"):\n",
    "    print (l)\n",
    "    javabridge.JARS.append(str(l))"
   ]
  },
  {
   "cell_type": "code",
   "execution_count": 3,
   "metadata": {},
   "outputs": [
    {
     "data": {
      "text/plain": [
       "<JB_Env at 0x31ab1e0>"
      ]
     },
     "execution_count": 3,
     "metadata": {},
     "output_type": "execute_result"
    }
   ],
   "source": [
    "javabridge.start_vm(run_headless=True, max_heap_size = '100M')\n",
    "javabridge.attach()"
   ]
  },
  {
   "cell_type": "code",
   "execution_count": 4,
   "metadata": {},
   "outputs": [
    {
     "data": {
      "text/plain": [
       "'/home/jovyan/py-causal/example/javabridge/../../data/charity.txt'"
      ]
     },
     "execution_count": 4,
     "metadata": {},
     "output_type": "execute_result"
    }
   ],
   "source": [
    "data_dir = os.path.join(os.getcwd(), '../../','data', 'charity.txt')\n",
    "data_dir"
   ]
  },
  {
   "cell_type": "code",
   "execution_count": 5,
   "metadata": {},
   "outputs": [
    {
     "data": {
      "text/html": [
       "<div>\n",
       "<table border=\"1\" class=\"dataframe\">\n",
       "  <thead>\n",
       "    <tr style=\"text-align: right;\">\n",
       "      <th></th>\n",
       "      <th>TangibilityCondition</th>\n",
       "      <th>AmountDonated</th>\n",
       "      <th>Sympathy</th>\n",
       "      <th>Imaginability</th>\n",
       "      <th>Impact</th>\n",
       "    </tr>\n",
       "  </thead>\n",
       "  <tbody>\n",
       "    <tr>\n",
       "      <th>0</th>\n",
       "      <td>1.0</td>\n",
       "      <td>0.0</td>\n",
       "      <td>7.0</td>\n",
       "      <td>4.0</td>\n",
       "      <td>4.5</td>\n",
       "    </tr>\n",
       "    <tr>\n",
       "      <th>1</th>\n",
       "      <td>1.0</td>\n",
       "      <td>0.0</td>\n",
       "      <td>2.0</td>\n",
       "      <td>2.0</td>\n",
       "      <td>2.0</td>\n",
       "    </tr>\n",
       "    <tr>\n",
       "      <th>2</th>\n",
       "      <td>1.0</td>\n",
       "      <td>0.0</td>\n",
       "      <td>7.0</td>\n",
       "      <td>3.0</td>\n",
       "      <td>3.0</td>\n",
       "    </tr>\n",
       "    <tr>\n",
       "      <th>3</th>\n",
       "      <td>1.0</td>\n",
       "      <td>0.0</td>\n",
       "      <td>4.0</td>\n",
       "      <td>3.0</td>\n",
       "      <td>4.5</td>\n",
       "    </tr>\n",
       "    <tr>\n",
       "      <th>4</th>\n",
       "      <td>1.0</td>\n",
       "      <td>0.0</td>\n",
       "      <td>3.0</td>\n",
       "      <td>7.0</td>\n",
       "      <td>1.0</td>\n",
       "    </tr>\n",
       "  </tbody>\n",
       "</table>\n",
       "</div>"
      ],
      "text/plain": [
       "   TangibilityCondition  AmountDonated  Sympathy  Imaginability  Impact\n",
       "0                   1.0            0.0       7.0            4.0     4.5\n",
       "1                   1.0            0.0       2.0            2.0     2.0\n",
       "2                   1.0            0.0       7.0            3.0     3.0\n",
       "3                   1.0            0.0       4.0            3.0     4.5\n",
       "4                   1.0            0.0       3.0            7.0     1.0"
      ]
     },
     "execution_count": 5,
     "metadata": {},
     "output_type": "execute_result"
    }
   ],
   "source": [
    "dframe = pd.read_table(data_dir, sep=\"\\t\")\n",
    "dframe.head()"
   ]
  },
  {
   "cell_type": "code",
   "execution_count": 6,
   "metadata": {
    "collapsed": true
   },
   "outputs": [],
   "source": [
    "node_list = javabridge.JClassWrapper(\"java.util.ArrayList\")()\n",
    "# load dataset\n",
    "for col in dframe.columns:\n",
    "    nodi = javabridge.JClassWrapper(\"edu.cmu.tetrad.data.ContinuousVariable\") (col)\n",
    "    node_list.add(nodi)"
   ]
  },
  {
   "cell_type": "code",
   "execution_count": 7,
   "metadata": {
    "collapsed": true
   },
   "outputs": [],
   "source": [
    "dataBox = javabridge.JClassWrapper(\"edu.cmu.tetrad.data.DoubleDataBox\")(len(dframe.index),dframe.columns.size)"
   ]
  },
  {
   "cell_type": "code",
   "execution_count": 8,
   "metadata": {
    "collapsed": true
   },
   "outputs": [],
   "source": [
    "for col in range(0,dframe.columns.size):\n",
    "    for row in dframe.index:\n",
    "        value = javabridge.JClassWrapper(\"java.lang.Double\")(dframe.iloc[row,col])\n",
    "        dataBox.set(row,col,value)"
   ]
  },
  {
   "cell_type": "code",
   "execution_count": 9,
   "metadata": {
    "collapsed": true
   },
   "outputs": [],
   "source": [
    "boxData = javabridge.JClassWrapper(\"edu.cmu.tetrad.data.BoxDataSet\")(dataBox, node_list)"
   ]
  },
  {
   "cell_type": "code",
   "execution_count": 10,
   "metadata": {
    "collapsed": true
   },
   "outputs": [],
   "source": [
    "tetradData = javabridge.JClassWrapper(\"edu.cmu.tetrad.data.CovarianceMatrixOnTheFly\")(boxData)"
   ]
  },
  {
   "cell_type": "code",
   "execution_count": 11,
   "metadata": {
    "collapsed": true
   },
   "outputs": [],
   "source": [
    "alpha = 0.05\n",
    "IndTest = javabridge.JClassWrapper('edu.cmu.tetrad.search.IndTestFisherZ')(tetradData, alpha)"
   ]
  },
  {
   "cell_type": "code",
   "execution_count": 12,
   "metadata": {
    "collapsed": true
   },
   "outputs": [],
   "source": [
    "ccd = javabridge.JClassWrapper('edu.cmu.tetrad.search.Ccd')(IndTest)"
   ]
  },
  {
   "cell_type": "code",
   "execution_count": 13,
   "metadata": {
    "collapsed": true
   },
   "outputs": [],
   "source": [
    "ccd.setDepth(-1)"
   ]
  },
  {
   "cell_type": "code",
   "execution_count": 14,
   "metadata": {},
   "outputs": [
    {
     "data": {
      "text/plain": [
       "Instance of edu.cmu.tetrad.graph.EdgeListGraph: Graph Nodes:\n",
       "TangibilityCondition,AmountDonated,Sympathy,Imaginability,Impact\n",
       "\n",
       "Graph Edges:\n",
       "1. AmountDonated --> Impact\n",
       "2. Impact o-o Imaginability\n",
       "3. Impact o-o Sympathy\n",
       "4. TangibilityCondition --> Sympathy\n",
       "\n",
       "\n",
       "Underline triples:\n",
       "<Impact, Sympathy, TangibilityCondition>\n",
       "<AmountDonated, Impact, Imaginability>\n",
       "<Sympathy, Impact, AmountDonated>\n",
       "<Sympathy, Impact, Imaginability>"
      ]
     },
     "execution_count": 14,
     "metadata": {},
     "output_type": "execute_result"
    }
   ],
   "source": [
    "tetradGraph = ccd.search()\n",
    "tetradGraph"
   ]
  },
  {
   "cell_type": "code",
   "execution_count": 15,
   "metadata": {},
   "outputs": [
    {
     "data": {
      "text/plain": [
       "'Graph Nodes:\\nTangibilityCondition,AmountDonated,Sympathy,Imaginability,Impact\\n\\nGraph Edges:\\n1. AmountDonated --> Impact\\n2. Impact o-o Imaginability\\n3. Impact o-o Sympathy\\n4. TangibilityCondition --> Sympathy\\n\\n\\nUnderline triples:\\n<Impact, Sympathy, TangibilityCondition>\\n<AmountDonated, Impact, Imaginability>\\n<Sympathy, Impact, AmountDonated>\\n<Sympathy, Impact, Imaginability>'"
      ]
     },
     "execution_count": 15,
     "metadata": {},
     "output_type": "execute_result"
    }
   ],
   "source": [
    "tetradGraph.toString()"
   ]
  },
  {
   "cell_type": "code",
   "execution_count": 16,
   "metadata": {},
   "outputs": [
    {
     "data": {
      "text/plain": [
       "Instance of java.util.ArrayList: [TangibilityCondition, AmountDonated, Sympathy, Imaginability, Impact]"
      ]
     },
     "execution_count": 16,
     "metadata": {},
     "output_type": "execute_result"
    }
   ],
   "source": [
    "tetradGraph.getNodeNames()"
   ]
  },
  {
   "cell_type": "code",
   "execution_count": 17,
   "metadata": {},
   "outputs": [
    {
     "data": {
      "text/plain": [
       "Instance of java.util.HashSet: [Impact o-o Sympathy, TangibilityCondition --> Sympathy, AmountDonated --> Impact, Impact o-o Imaginability]"
      ]
     },
     "execution_count": 17,
     "metadata": {},
     "output_type": "execute_result"
    }
   ],
   "source": [
    "tetradGraph.getEdges()"
   ]
  },
  {
   "cell_type": "code",
   "execution_count": 18,
   "metadata": {
    "collapsed": true
   },
   "outputs": [],
   "source": [
    "graph = pydot.Dot(graph_type='digraph')\n",
    "n = tetradGraph.getNodeNames().toString()\n",
    "n = n[1:len(n)-1]\n",
    "n = n.split(\",\")\n",
    "nodes = []\n",
    "for i in range(0,len(n)):\n",
    "    node = n[i]\n",
    "    n[i] = node.strip()\n",
    "    nodes.append(pydot.Node(n[i]))\n",
    "    graph.add_node(nodes[i])\n",
    "def isNodeExisting(nodes,node):\n",
    "    try:\n",
    "        nodes.index(node)\n",
    "        return True\n",
    "    except IndexError:\n",
    "        print (\"Node {} does not exist!\".format(node))\n",
    "        return False\n",
    "\n",
    "e = tetradGraph.getEdges().toString()\n",
    "e = e[1:len(e)-1]\n",
    "e = e.split(\",\")\n",
    "for i in range(0,len(e)):\n",
    "    e[i] = e[i].strip()\n",
    "    token = e[i].split(\" \")\n",
    "    if(len(token) == 3):\n",
    "        src = token[0]\n",
    "        arc = token[1]\n",
    "        dst = token[2]\n",
    "        if(isNodeExisting(n,src) and isNodeExisting(n,dst)):\n",
    "            edge = pydot.Edge(nodes[n.index(src)],nodes[n.index(dst)])\n",
    "            \n",
    "            if(arc[0] != \"-\"):\n",
    "                edge.set_dir(\"both\")\n",
    "            \n",
    "            if(arc[0] == \"o\"):\n",
    "                edge.set_arrowtail(\"odot\")\n",
    "            elif(arc[0] == \"<\"):\n",
    "                edge.set_arrowtail(\"normal\")\n",
    "            \n",
    "            if(arc[2] == \"-\"):\n",
    "                edge.set_arrowhead(\"none\")\n",
    "            elif(arc[2] == \"o\"):\n",
    "                edge.set_arrowhead(\"odot\")\n",
    "            else:\n",
    "                edge.set_arrowhead(\"normal\")\n",
    "            \n",
    "            graph.add_edge(edge)"
   ]
  },
  {
   "cell_type": "code",
   "execution_count": 19,
   "metadata": {},
   "outputs": [
    {
     "data": {
      "image/svg+xml": [
       "<svg height=\"188pt\" viewBox=\"0.00 0.00 301.69 188.00\" width=\"302pt\" xmlns=\"http://www.w3.org/2000/svg\" xmlns:xlink=\"http://www.w3.org/1999/xlink\">\n",
       "<g class=\"graph\" id=\"graph0\" transform=\"scale(1 1) rotate(0) translate(4 184)\">\n",
       "<title>G</title>\n",
       "<polygon fill=\"white\" points=\"-4,4 -4,-184 297.686,-184 297.686,4 -4,4\" stroke=\"none\"/>\n",
       "<!-- TangibilityCondition -->\n",
       "<g class=\"node\" id=\"node1\"><title>TangibilityCondition</title>\n",
       "<ellipse cx=\"85.1424\" cy=\"-90\" fill=\"none\" rx=\"85.2851\" ry=\"18\" stroke=\"black\"/>\n",
       "<text font-family=\"Times,serif\" font-size=\"14.00\" text-anchor=\"middle\" x=\"85.1424\" y=\"-86.3\">TangibilityCondition</text>\n",
       "</g>\n",
       "<!-- Sympathy -->\n",
       "<g class=\"node\" id=\"node3\"><title>Sympathy</title>\n",
       "<ellipse cx=\"93.1424\" cy=\"-18\" fill=\"none\" rx=\"46.5926\" ry=\"18\" stroke=\"black\"/>\n",
       "<text font-family=\"Times,serif\" font-size=\"14.00\" text-anchor=\"middle\" x=\"93.1424\" y=\"-14.3\">Sympathy</text>\n",
       "</g>\n",
       "<!-- TangibilityCondition&#45;&gt;Sympathy -->\n",
       "<g class=\"edge\" id=\"edge2\"><title>TangibilityCondition-&gt;Sympathy</title>\n",
       "<path d=\"M87.12,-71.6966C88.0016,-63.9827 89.061,-54.7125 90.0439,-46.1124\" fill=\"none\" stroke=\"black\"/>\n",
       "<polygon fill=\"black\" points=\"93.5295,-46.4371 91.1877,-36.1043 86.5747,-45.6422 93.5295,-46.4371\" stroke=\"black\"/>\n",
       "</g>\n",
       "<!-- AmountDonated -->\n",
       "<g class=\"node\" id=\"node2\"><title>AmountDonated</title>\n",
       "<ellipse cx=\"224.142\" cy=\"-162\" fill=\"none\" rx=\"69.5877\" ry=\"18\" stroke=\"black\"/>\n",
       "<text font-family=\"Times,serif\" font-size=\"14.00\" text-anchor=\"middle\" x=\"224.142\" y=\"-158.3\">AmountDonated</text>\n",
       "</g>\n",
       "<!-- Impact -->\n",
       "<g class=\"node\" id=\"node5\"><title>Impact</title>\n",
       "<ellipse cx=\"224.142\" cy=\"-90\" fill=\"none\" rx=\"35.9954\" ry=\"18\" stroke=\"black\"/>\n",
       "<text font-family=\"Times,serif\" font-size=\"14.00\" text-anchor=\"middle\" x=\"224.142\" y=\"-86.3\">Impact</text>\n",
       "</g>\n",
       "<!-- AmountDonated&#45;&gt;Impact -->\n",
       "<g class=\"edge\" id=\"edge3\"><title>AmountDonated-&gt;Impact</title>\n",
       "<path d=\"M224.142,-143.697C224.142,-135.983 224.142,-126.712 224.142,-118.112\" fill=\"none\" stroke=\"black\"/>\n",
       "<polygon fill=\"black\" points=\"227.643,-118.104 224.142,-108.104 220.643,-118.104 227.643,-118.104\" stroke=\"black\"/>\n",
       "</g>\n",
       "<!-- Imaginability -->\n",
       "<g class=\"node\" id=\"node4\"><title>Imaginability</title>\n",
       "<ellipse cx=\"224.142\" cy=\"-18\" fill=\"none\" rx=\"58.4896\" ry=\"18\" stroke=\"black\"/>\n",
       "<text font-family=\"Times,serif\" font-size=\"14.00\" text-anchor=\"middle\" x=\"224.142\" y=\"-14.3\">Imaginability</text>\n",
       "</g>\n",
       "<!-- Impact&#45;&gt;Sympathy -->\n",
       "<g class=\"edge\" id=\"edge1\"><title>Impact-&gt;Sympathy</title>\n",
       "<path d=\"M193.118,-72.4222C173.121,-61.7367 147.128,-47.8472 126.658,-36.9091\" fill=\"none\" stroke=\"black\"/>\n",
       "<ellipse cx=\"196.891\" cy=\"-74.4384\" fill=\"none\" rx=\"4.00002\" ry=\"4.00002\" stroke=\"black\"/>\n",
       "<ellipse cx=\"122.916\" cy=\"-34.9094\" fill=\"none\" rx=\"4.00002\" ry=\"4.00002\" stroke=\"black\"/>\n",
       "</g>\n",
       "<!-- Impact&#45;&gt;Imaginability -->\n",
       "<g class=\"edge\" id=\"edge4\"><title>Impact-&gt;Imaginability</title>\n",
       "<path d=\"M224.142,-63.6398C224.142,-57.348 224.142,-50.6053 224.142,-44.3156\" fill=\"none\" stroke=\"black\"/>\n",
       "<ellipse cx=\"224.142\" cy=\"-67.6966\" fill=\"none\" rx=\"4\" ry=\"4\" stroke=\"black\"/>\n",
       "<ellipse cx=\"224.142\" cy=\"-40.1043\" fill=\"none\" rx=\"4\" ry=\"4\" stroke=\"black\"/>\n",
       "</g>\n",
       "</g>\n",
       "</svg>"
      ],
      "text/plain": [
       "<IPython.core.display.SVG object>"
      ]
     },
     "execution_count": 19,
     "metadata": {},
     "output_type": "execute_result"
    }
   ],
   "source": [
    "svg_str = graph.create_svg(prog='dot')\n",
    "SVG(svg_str)"
   ]
  },
  {
   "cell_type": "code",
   "execution_count": 20,
   "metadata": {
    "collapsed": true
   },
   "outputs": [],
   "source": [
    "javabridge.detach()\n",
    "javabridge.kill_vm()"
   ]
  },
  {
   "cell_type": "code",
   "execution_count": null,
   "metadata": {
    "collapsed": true
   },
   "outputs": [],
   "source": []
  }
 ],
 "metadata": {
  "kernelspec": {
   "display_name": "Python 3",
   "language": "python",
   "name": "python3"
  },
  "language_info": {
   "codemirror_mode": {
    "name": "ipython",
    "version": 3
   },
   "file_extension": ".py",
   "mimetype": "text/x-python",
   "name": "python",
   "nbconvert_exporter": "python",
   "pygments_lexer": "ipython3",
   "version": "3.6.1"
  },
  "widgets": {
   "state": {},
   "version": "1.1.1"
  }
 },
 "nbformat": 4,
 "nbformat_minor": 1
}
