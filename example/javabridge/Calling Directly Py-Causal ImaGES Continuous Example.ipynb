{
 "cells": [
  {
   "cell_type": "code",
   "execution_count": 1,
   "metadata": {},
   "outputs": [],
   "source": [
    "import javabridge\n",
    "import os\n",
    "import glob\n",
    "import pandas as pd\n",
    "import pydot\n",
    "from IPython.display import SVG"
   ]
  },
  {
   "cell_type": "code",
   "execution_count": 2,
   "metadata": {},
   "outputs": [
    {
     "name": "stdout",
     "output_type": "stream",
     "text": [
      "/home/jovyan/py-causal/example/javabridge/../../src/pycausal/lib/causal-cmd-1.2.0-SNAPSHOT-jar-with-dependencies.jar\n"
     ]
    }
   ],
   "source": [
    "tetrad_libdir = os.path.join(os.getcwd(), '../../','src', 'pycausal', 'lib')\n",
    "for l in glob.glob(tetrad_libdir + os.sep + \"*.jar\"):\n",
    "    print (l)\n",
    "    javabridge.JARS.append(str(l))"
   ]
  },
  {
   "cell_type": "code",
   "execution_count": 3,
   "metadata": {},
   "outputs": [
    {
     "data": {
      "text/plain": [
       "<JB_Env at 0x55950b96d9e0>"
      ]
     },
     "execution_count": 3,
     "metadata": {},
     "output_type": "execute_result"
    }
   ],
   "source": [
    "javabridge.start_vm(run_headless=True, max_heap_size = '100M')\n",
    "javabridge.attach()"
   ]
  },
  {
   "cell_type": "code",
   "execution_count": 4,
   "metadata": {},
   "outputs": [],
   "source": [
    "def loadContinuousData(df, outputDataset = False):\n",
    "    tetradData = None\n",
    "\n",
    "    node_list = javabridge.JClassWrapper(\"java.util.ArrayList\")()\n",
    "    # load dataset\n",
    "    for col in df.columns:\n",
    "        nodi = javabridge.JClassWrapper(\"edu.cmu.tetrad.data.ContinuousVariable\") (col)\n",
    "        node_list.add(nodi)\n",
    "    \n",
    "    dataBox = javabridge.JClassWrapper(\"edu.cmu.tetrad.data.DoubleDataBox\")(len(df.index),df.columns.size)\n",
    "    \n",
    "    for col in range(0,df.columns.size):\n",
    "        for row in df.index:\n",
    "            value = javabridge.make_instance(\"java/lang/Double\", \"(D)V\", df.iloc[row,col])\n",
    "            dataBox.set(row,col,value)\n",
    "    \n",
    "    tetradData = javabridge.JClassWrapper(\"edu.cmu.tetrad.data.BoxDataSet\")(dataBox, node_list)\n",
    "    \n",
    "    return tetradData"
   ]
  },
  {
   "cell_type": "code",
   "execution_count": 5,
   "metadata": {},
   "outputs": [
    {
     "name": "stdout",
     "output_type": "stream",
     "text": [
      "/home/jovyan/py-causal/example/javabridge/../../data/9var/sub004.cent-table.9.dat.txt\n",
      "/home/jovyan/py-causal/example/javabridge/../../data/9var/sub017.cent-table.9.dat.txt\n",
      "/home/jovyan/py-causal/example/javabridge/../../data/9var/sub014.cent-table.9.dat.txt\n",
      "/home/jovyan/py-causal/example/javabridge/../../data/9var/sub010.cent-table.9.dat.txt\n",
      "/home/jovyan/py-causal/example/javabridge/../../data/9var/sub005.cent-table.9.dat.txt\n",
      "/home/jovyan/py-causal/example/javabridge/../../data/9var/sub016.cent-table.9.dat.txt\n",
      "/home/jovyan/py-causal/example/javabridge/../../data/9var/sub009.cent-table.9.dat.txt\n",
      "/home/jovyan/py-causal/example/javabridge/../../data/9var/sub001.cent-table.9.dat.txt\n",
      "/home/jovyan/py-causal/example/javabridge/../../data/9var/sub013.cent-table.9.dat.txt\n"
     ]
    }
   ],
   "source": [
    "datasets = javabridge.JClassWrapper('java.util.ArrayList')()\n",
    "tetrad_images_dir = os.path.join(os.getcwd(), '../../', 'data', '9var')\n",
    "for d in glob.glob(tetrad_images_dir + os.sep + \"*.txt\"):\n",
    "    print (d)\n",
    "    df = pd.read_table(d, sep=\"\\t\")\n",
    "    tetradData = loadContinuousData(df)\n",
    "    datasets.add(tetradData)"
   ]
  },
  {
   "cell_type": "code",
   "execution_count": 6,
   "metadata": {},
   "outputs": [],
   "source": [
    "penaltyDiscount = 4\n",
    "maxDegree = 3\n",
    "faithfulnessAssumed = True\n",
    "verbose = True\n",
    "# numBootstrap = 5\n",
    "# ensembleMethod = 'Highest'"
   ]
  },
  {
   "cell_type": "code",
   "execution_count": 7,
   "metadata": {},
   "outputs": [],
   "source": [
    "score = javabridge.JClassWrapper('edu.cmu.tetrad.search.SemBicScoreImages')(datasets)\n",
    "score.setPenaltyDiscount(penaltyDiscount)"
   ]
  },
  {
   "cell_type": "code",
   "execution_count": 8,
   "metadata": {},
   "outputs": [],
   "source": [
    "fges = javabridge.JClassWrapper('edu.cmu.tetrad.search.Fges')(score)\n",
    "fges.setMaxDegree(maxDegree)\n",
    "fges.setFaithfulnessAssumed(faithfulnessAssumed)\n",
    "fges.setVerbose(verbose)"
   ]
  },
  {
   "cell_type": "code",
   "execution_count": 9,
   "metadata": {},
   "outputs": [
    {
     "data": {
      "text/plain": [
       "Instance of edu.cmu.tetrad.graph.EdgeListGraphSingleConnections: Graph Nodes:\n",
       "LOCC;LACC;LIFG;LIPL;ROCC;RACC;RIFG;RIPL;I\n",
       "\n",
       "Graph Edges:\n",
       "1. I --- LOCC\n",
       "2. LACC --> RACC\n",
       "3. LIFG --- LACC\n",
       "4. LIFG --> RIFG\n",
       "5. LIPL --- LIFG\n",
       "6. LIPL --- LOCC\n",
       "7. RIPL --- LIPL\n",
       "8. RIPL --> RACC\n",
       "9. RIPL --> RIFG\n",
       "10. ROCC --- LOCC\n",
       "\n",
       "Graph Attributes:\n",
       "BIC: 0.000000\n"
      ]
     },
     "execution_count": 9,
     "metadata": {},
     "output_type": "execute_result"
    }
   ],
   "source": [
    "tetradGraph = fges.search()\n",
    "tetradGraph"
   ]
  },
  {
   "cell_type": "code",
   "execution_count": 10,
   "metadata": {},
   "outputs": [
    {
     "data": {
      "text/plain": [
       "'Graph Nodes:\\nLOCC;LACC;LIFG;LIPL;ROCC;RACC;RIFG;RIPL;I\\n\\nGraph Edges:\\n1. I --- LOCC\\n2. LACC --> RACC\\n3. LIFG --- LACC\\n4. LIFG --> RIFG\\n5. LIPL --- LIFG\\n6. LIPL --- LOCC\\n7. RIPL --- LIPL\\n8. RIPL --> RACC\\n9. RIPL --> RIFG\\n10. ROCC --- LOCC\\n\\nGraph Attributes:\\nBIC: 0.000000\\n\\n'"
      ]
     },
     "execution_count": 10,
     "metadata": {},
     "output_type": "execute_result"
    }
   ],
   "source": [
    "tetradGraph.toString()"
   ]
  },
  {
   "cell_type": "code",
   "execution_count": 11,
   "metadata": {},
   "outputs": [
    {
     "data": {
      "text/plain": [
       "Instance of java.util.ArrayList: [LOCC, LACC, LIFG, LIPL, ROCC, RACC, RIFG, RIPL, I]"
      ]
     },
     "execution_count": 11,
     "metadata": {},
     "output_type": "execute_result"
    }
   ],
   "source": [
    "tetradGraph.getNodeNames()"
   ]
  },
  {
   "cell_type": "code",
   "execution_count": 12,
   "metadata": {},
   "outputs": [
    {
     "data": {
      "text/plain": [
       "Instance of java.util.HashSet: [LIPL --- LIFG, LIFG --- LACC, RIPL --- LIPL, RIPL --> RIFG, ROCC --- LOCC, LIPL --- LOCC, LIFG --> RIFG, LACC --> RACC, RIPL --> RACC, I --- LOCC]"
      ]
     },
     "execution_count": 12,
     "metadata": {},
     "output_type": "execute_result"
    }
   ],
   "source": [
    "tetradGraph.getEdges()"
   ]
  },
  {
   "cell_type": "code",
   "execution_count": 13,
   "metadata": {},
   "outputs": [
    {
     "data": {
      "image/svg+xml": [
       "<svg height=\"332pt\" viewBox=\"0.00 0.00 303.00 332.00\" width=\"303pt\" xmlns=\"http://www.w3.org/2000/svg\" xmlns:xlink=\"http://www.w3.org/1999/xlink\">\n",
       "<g class=\"graph\" id=\"graph0\" transform=\"scale(1 1) rotate(0) translate(4 328)\">\n",
       "<title>g</title>\n",
       "<polygon fill=\"white\" points=\"-4,4 -4,-328 298.997,-328 298.997,4 -4,4\" stroke=\"none\"/>\n",
       "<!-- LIFG -->\n",
       "<g class=\"node\" id=\"node1\"><title>LIFG</title>\n",
       "<ellipse cx=\"129.997\" cy=\"-234\" fill=\"none\" rx=\"34.394\" ry=\"18\" stroke=\"black\"/>\n",
       "<text font-family=\"Times,serif\" font-size=\"14.00\" text-anchor=\"middle\" x=\"129.997\" y=\"-230.3\">LIFG</text>\n",
       "</g>\n",
       "<!-- LIPL -->\n",
       "<g class=\"node\" id=\"node2\"><title>LIPL</title>\n",
       "<ellipse cx=\"188.997\" cy=\"-162\" fill=\"none\" rx=\"33.5952\" ry=\"18\" stroke=\"black\"/>\n",
       "<text font-family=\"Times,serif\" font-size=\"14.00\" text-anchor=\"middle\" x=\"188.997\" y=\"-158.3\">LIPL</text>\n",
       "</g>\n",
       "<!-- LIFG&#45;&gt;LIPL -->\n",
       "<g class=\"edge\" id=\"edge1\"><title>LIFG-&gt;LIPL</title>\n",
       "<path d=\"M143.385,-217.116C153.04,-205.66 166.018,-190.263 175.662,-178.821\" fill=\"none\" stroke=\"black\"/>\n",
       "</g>\n",
       "<!-- RIFG -->\n",
       "<g class=\"node\" id=\"node5\"><title>RIFG</title>\n",
       "<ellipse cx=\"101.997\" cy=\"-162\" fill=\"none\" rx=\"35.194\" ry=\"18\" stroke=\"black\"/>\n",
       "<text font-family=\"Times,serif\" font-size=\"14.00\" text-anchor=\"middle\" x=\"101.997\" y=\"-158.3\">RIFG</text>\n",
       "</g>\n",
       "<!-- LIFG&#45;&gt;RIFG -->\n",
       "<g class=\"edge\" id=\"edge7\"><title>LIFG-&gt;RIFG</title>\n",
       "<path d=\"M123.219,-216.055C119.986,-207.973 116.045,-198.121 112.441,-189.112\" fill=\"none\" stroke=\"black\"/>\n",
       "<polygon fill=\"black\" points=\"115.676,-187.774 108.712,-179.789 109.176,-190.374 115.676,-187.774\" stroke=\"black\"/>\n",
       "</g>\n",
       "<!-- RIPL -->\n",
       "<g class=\"node\" id=\"node4\"><title>RIPL</title>\n",
       "<ellipse cx=\"101.997\" cy=\"-90\" fill=\"none\" rx=\"34.394\" ry=\"18\" stroke=\"black\"/>\n",
       "<text font-family=\"Times,serif\" font-size=\"14.00\" text-anchor=\"middle\" x=\"101.997\" y=\"-86.3\">RIPL</text>\n",
       "</g>\n",
       "<!-- LIPL&#45;&gt;RIPL -->\n",
       "<g class=\"edge\" id=\"edge3\"><title>LIPL-&gt;RIPL</title>\n",
       "<path d=\"M170.97,-146.496C156.039,-134.482 134.925,-117.494 120,-105.485\" fill=\"none\" stroke=\"black\"/>\n",
       "</g>\n",
       "<!-- LOCC -->\n",
       "<g class=\"node\" id=\"node6\"><title>LOCC</title>\n",
       "<ellipse cx=\"229.997\" cy=\"-90\" fill=\"none\" rx=\"38.9931\" ry=\"18\" stroke=\"black\"/>\n",
       "<text font-family=\"Times,serif\" font-size=\"14.00\" text-anchor=\"middle\" x=\"229.997\" y=\"-86.3\">LOCC</text>\n",
       "</g>\n",
       "<!-- LIPL&#45;&gt;LOCC -->\n",
       "<g class=\"edge\" id=\"edge6\"><title>LIPL-&gt;LOCC</title>\n",
       "<path d=\"M198.713,-144.411C205.249,-133.252 213.829,-118.604 220.35,-107.47\" fill=\"none\" stroke=\"black\"/>\n",
       "</g>\n",
       "<!-- LACC -->\n",
       "<g class=\"node\" id=\"node3\"><title>LACC</title>\n",
       "<ellipse cx=\"83.9965\" cy=\"-306\" fill=\"none\" rx=\"38.1938\" ry=\"18\" stroke=\"black\"/>\n",
       "<text font-family=\"Times,serif\" font-size=\"14.00\" text-anchor=\"middle\" x=\"83.9965\" y=\"-302.3\">LACC</text>\n",
       "</g>\n",
       "<!-- LACC&#45;&gt;LIFG -->\n",
       "<g class=\"edge\" id=\"edge2\"><title>LACC-&gt;LIFG</title>\n",
       "<path d=\"M94.8979,-288.411C102.231,-277.252 111.857,-262.604 119.173,-251.47\" fill=\"none\" stroke=\"black\"/>\n",
       "</g>\n",
       "<!-- RACC -->\n",
       "<g class=\"node\" id=\"node8\"><title>RACC</title>\n",
       "<ellipse cx=\"38.9965\" cy=\"-234\" fill=\"none\" rx=\"38.9931\" ry=\"18\" stroke=\"black\"/>\n",
       "<text font-family=\"Times,serif\" font-size=\"14.00\" text-anchor=\"middle\" x=\"38.9965\" y=\"-230.3\">RACC</text>\n",
       "</g>\n",
       "<!-- LACC&#45;&gt;RACC -->\n",
       "<g class=\"edge\" id=\"edge8\"><title>LACC-&gt;RACC</title>\n",
       "<path d=\"M73.3322,-288.411C67.8961,-279.955 61.1715,-269.494 55.1183,-260.078\" fill=\"none\" stroke=\"black\"/>\n",
       "<polygon fill=\"black\" points=\"57.9361,-257.989 49.5844,-251.47 52.0479,-261.774 57.9361,-257.989\" stroke=\"black\"/>\n",
       "</g>\n",
       "<!-- RIFG&#45;&gt;RIPL -->\n",
       "<g class=\"edge\" id=\"edge4\"><title>RIFG-&gt;RIPL</title>\n",
       "<path d=\"M101.997,-133.665C101.997,-125.054 101.997,-115.791 101.997,-108.104\" fill=\"none\" stroke=\"black\"/>\n",
       "<polygon fill=\"black\" points=\"98.4966,-133.697 101.997,-143.697 105.497,-133.697 98.4966,-133.697\" stroke=\"black\"/>\n",
       "</g>\n",
       "<!-- ROCC -->\n",
       "<g class=\"node\" id=\"node7\"><title>ROCC</title>\n",
       "<ellipse cx=\"229.997\" cy=\"-18\" fill=\"none\" rx=\"39.7935\" ry=\"18\" stroke=\"black\"/>\n",
       "<text font-family=\"Times,serif\" font-size=\"14.00\" text-anchor=\"middle\" x=\"229.997\" y=\"-14.3\">ROCC</text>\n",
       "</g>\n",
       "<!-- LOCC&#45;&gt;ROCC -->\n",
       "<g class=\"edge\" id=\"edge5\"><title>LOCC-&gt;ROCC</title>\n",
       "<path d=\"M229.997,-71.6966C229.997,-60.8463 229.997,-46.9167 229.997,-36.1043\" fill=\"none\" stroke=\"black\"/>\n",
       "</g>\n",
       "<!-- RACC&#45;&gt;RIPL -->\n",
       "<g class=\"edge\" id=\"edge9\"><title>RACC-&gt;RIPL</title>\n",
       "<path d=\"M41.3679,-205.848C43.7665,-187.628 48.5438,-163.489 57.9965,-144 64.8856,-129.797 76.3686,-116.149 85.8764,-106.261\" fill=\"none\" stroke=\"black\"/>\n",
       "<polygon fill=\"black\" points=\"37.8878,-205.475 40.2131,-215.811 44.8412,-206.281 37.8878,-205.475\" stroke=\"black\"/>\n",
       "</g>\n",
       "<!-- I -->\n",
       "<g class=\"node\" id=\"node9\"><title>I</title>\n",
       "<ellipse cx=\"267.997\" cy=\"-162\" fill=\"none\" rx=\"27\" ry=\"18\" stroke=\"black\"/>\n",
       "<text font-family=\"Times,serif\" font-size=\"14.00\" text-anchor=\"middle\" x=\"267.997\" y=\"-158.3\">I</text>\n",
       "</g>\n",
       "<!-- I&#45;&gt;LOCC -->\n",
       "<g class=\"edge\" id=\"edge10\"><title>I-&gt;LOCC</title>\n",
       "<path d=\"M259.183,-144.765C253.132,-133.618 245.123,-118.865 239.026,-107.633\" fill=\"none\" stroke=\"black\"/>\n",
       "</g>\n",
       "</g>\n",
       "</svg>"
      ],
      "text/plain": [
       "<IPython.core.display.SVG object>"
      ]
     },
     "execution_count": 13,
     "metadata": {},
     "output_type": "execute_result"
    }
   ],
   "source": [
    "dot_str = javabridge.static_call('edu/cmu/tetrad/graph/GraphUtils',\n",
    "                                   'graphToDot',\n",
    "                                   '(Ledu/cmu/tetrad/graph/Graph;)Ljava/lang/String;', \n",
    "                                   tetradGraph)\n",
    "graphs = pydot.graph_from_dot_data(dot_str)\n",
    "svg_str = graphs[0].create_svg()\n",
    "SVG(svg_str)"
   ]
  },
  {
   "cell_type": "code",
   "execution_count": 14,
   "metadata": {},
   "outputs": [],
   "source": [
    "javabridge.detach()\n",
    "javabridge.kill_vm()"
   ]
  },
  {
   "cell_type": "code",
   "execution_count": null,
   "metadata": {},
   "outputs": [],
   "source": []
  }
 ],
 "metadata": {
  "kernelspec": {
   "display_name": "Python 3",
   "language": "python",
   "name": "python3"
  },
  "language_info": {
   "codemirror_mode": {
    "name": "ipython",
    "version": 3
   },
   "file_extension": ".py",
   "mimetype": "text/x-python",
   "name": "python",
   "nbconvert_exporter": "python",
   "pygments_lexer": "ipython3",
   "version": "3.5.4"
  },
  "widgets": {
   "state": {},
   "version": "1.1.1"
  }
 },
 "nbformat": 4,
 "nbformat_minor": 1
}
