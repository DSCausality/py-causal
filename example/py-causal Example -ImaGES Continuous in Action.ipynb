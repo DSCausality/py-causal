{
 "cells": [
  {
   "cell_type": "code",
   "execution_count": 1,
   "metadata": {
    "collapsed": true
   },
   "outputs": [],
   "source": [
    "import os\n",
    "import glob\n",
    "import pandas as pd\n",
    "import pydot\n",
    "from IPython.display import SVG"
   ]
  },
  {
   "cell_type": "code",
   "execution_count": 2,
   "metadata": {},
   "outputs": [
    {
     "name": "stdout",
     "output_type": "stream",
     "text": [
      "/home/jovyan/py-causal/example/../data/9var/sub016.cent-table.9.dat.txt\n",
      "/home/jovyan/py-causal/example/../data/9var/sub009.cent-table.9.dat.txt\n",
      "/home/jovyan/py-causal/example/../data/9var/sub005.cent-table.9.dat.txt\n",
      "/home/jovyan/py-causal/example/../data/9var/sub010.cent-table.9.dat.txt\n",
      "/home/jovyan/py-causal/example/../data/9var/sub013.cent-table.9.dat.txt\n",
      "/home/jovyan/py-causal/example/../data/9var/sub017.cent-table.9.dat.txt\n",
      "/home/jovyan/py-causal/example/../data/9var/sub014.cent-table.9.dat.txt\n",
      "/home/jovyan/py-causal/example/../data/9var/sub001.cent-table.9.dat.txt\n",
      "/home/jovyan/py-causal/example/../data/9var/sub004.cent-table.9.dat.txt\n"
     ]
    }
   ],
   "source": [
    "dfs = []\n",
    "tetrad_images_dir = os.path.join(os.getcwd(), '..', 'data', '9var')\n",
    "for d in glob.glob(tetrad_images_dir + os.sep + \"*.txt\"):\n",
    "    print d\n",
    "    df = pd.read_table(d, sep=\"\\t\")\n",
    "    dfs.append(df)"
   ]
  },
  {
   "cell_type": "code",
   "execution_count": 3,
   "metadata": {
    "collapsed": true
   },
   "outputs": [],
   "source": [
    "from pycausal import pycausal as pc\n",
    "pc.start_vm()"
   ]
  },
  {
   "cell_type": "code",
   "execution_count": 4,
   "metadata": {
    "collapsed": true
   },
   "outputs": [],
   "source": [
    "from pycausal import search as s\n",
    "fges = s.imagesSemBic(dfs, verbose = True)"
   ]
  },
  {
   "cell_type": "code",
   "execution_count": 5,
   "metadata": {},
   "outputs": [
    {
     "data": {
      "text/plain": [
       "[u'LOCC', u'LACC', u'LIFG', u'LIPL', u'ROCC', u'RACC', u'RIFG', u'RIPL', u'I']"
      ]
     },
     "execution_count": 5,
     "metadata": {},
     "output_type": "execute_result"
    }
   ],
   "source": [
    "fges.getNodes()"
   ]
  },
  {
   "cell_type": "code",
   "execution_count": 6,
   "metadata": {},
   "outputs": [
    {
     "data": {
      "text/plain": [
       "[u'LIPL --- LIFG',\n",
       " u'LIFG --- LACC',\n",
       " u'LIPL --- RIPL',\n",
       " u'RIPL --> RIFG',\n",
       " u'ROCC --- LOCC',\n",
       " u'LIPL --- LOCC',\n",
       " u'LIFG --> RIFG',\n",
       " u'LACC --> RACC',\n",
       " u'RIPL --> RACC',\n",
       " u'LOCC --- I']"
      ]
     },
     "execution_count": 6,
     "metadata": {},
     "output_type": "execute_result"
    }
   ],
   "source": [
    "fges.getEdges()"
   ]
  },
  {
   "cell_type": "code",
   "execution_count": 7,
   "metadata": {},
   "outputs": [
    {
     "data": {
      "image/svg+xml": [
       "<svg height=\"260pt\" viewBox=\"0.00 0.00 248.74 260.00\" width=\"249pt\" xmlns=\"http://www.w3.org/2000/svg\" xmlns:xlink=\"http://www.w3.org/1999/xlink\">\n",
       "<g class=\"graph\" id=\"graph0\" transform=\"scale(1 1) rotate(0) translate(4 256)\">\n",
       "<title>G</title>\n",
       "<polygon fill=\"white\" points=\"-4,4 -4,-256 244.744,-256 244.744,4 -4,4\" stroke=\"none\"/>\n",
       "<!-- LOCC -->\n",
       "<g class=\"node\" id=\"node1\"><title>LOCC</title>\n",
       "<ellipse cx=\"34.4469\" cy=\"-162\" fill=\"none\" rx=\"34.394\" ry=\"18\" stroke=\"black\"/>\n",
       "<text font-family=\"Times,serif\" font-size=\"14.00\" text-anchor=\"middle\" x=\"34.4469\" y=\"-158.3\">LOCC</text>\n",
       "</g>\n",
       "<!-- I -->\n",
       "<g class=\"node\" id=\"node9\"><title>I</title>\n",
       "<ellipse cx=\"34.4469\" cy=\"-90\" fill=\"none\" rx=\"27\" ry=\"18\" stroke=\"black\"/>\n",
       "<text font-family=\"Times,serif\" font-size=\"14.00\" text-anchor=\"middle\" x=\"34.4469\" y=\"-86.3\">I</text>\n",
       "</g>\n",
       "<!-- LOCC&#45;&gt;I -->\n",
       "<g class=\"edge\" id=\"edge10\"><title>LOCC-&gt;I</title>\n",
       "<path d=\"M34.4469,-143.697C34.4469,-132.846 34.4469,-118.917 34.4469,-108.104\" fill=\"none\" stroke=\"black\"/>\n",
       "</g>\n",
       "<!-- LACC -->\n",
       "<g class=\"node\" id=\"node2\"><title>LACC</title>\n",
       "<ellipse cx=\"113.447\" cy=\"-90\" fill=\"none\" rx=\"34.394\" ry=\"18\" stroke=\"black\"/>\n",
       "<text font-family=\"Times,serif\" font-size=\"14.00\" text-anchor=\"middle\" x=\"113.447\" y=\"-86.3\">LACC</text>\n",
       "</g>\n",
       "<!-- RACC -->\n",
       "<g class=\"node\" id=\"node6\"><title>RACC</title>\n",
       "<ellipse cx=\"184.447\" cy=\"-18\" fill=\"none\" rx=\"34.394\" ry=\"18\" stroke=\"black\"/>\n",
       "<text font-family=\"Times,serif\" font-size=\"14.00\" text-anchor=\"middle\" x=\"184.447\" y=\"-14.3\">RACC</text>\n",
       "</g>\n",
       "<!-- LACC&#45;&gt;RACC -->\n",
       "<g class=\"edge\" id=\"edge8\"><title>LACC-&gt;RACC</title>\n",
       "<path d=\"M128.853,-73.811C138.436,-64.3629 150.932,-52.0429 161.649,-41.4769\" fill=\"none\" stroke=\"black\"/>\n",
       "<polygon fill=\"black\" points=\"164.407,-43.6725 169.071,-34.1593 159.493,-38.6877 164.407,-43.6725\" stroke=\"black\"/>\n",
       "</g>\n",
       "<!-- LIFG -->\n",
       "<g class=\"node\" id=\"node3\"><title>LIFG</title>\n",
       "<ellipse cx=\"118.447\" cy=\"-162\" fill=\"none\" rx=\"30.5947\" ry=\"18\" stroke=\"black\"/>\n",
       "<text font-family=\"Times,serif\" font-size=\"14.00\" text-anchor=\"middle\" x=\"118.447\" y=\"-158.3\">LIFG</text>\n",
       "</g>\n",
       "<!-- LIFG&#45;&gt;LACC -->\n",
       "<g class=\"edge\" id=\"edge2\"><title>LIFG-&gt;LACC</title>\n",
       "<path d=\"M117.211,-143.697C116.436,-132.846 115.441,-118.917 114.669,-108.104\" fill=\"none\" stroke=\"black\"/>\n",
       "</g>\n",
       "<!-- RIFG -->\n",
       "<g class=\"node\" id=\"node7\"><title>RIFG</title>\n",
       "<ellipse cx=\"196.447\" cy=\"-90\" fill=\"none\" rx=\"30.5947\" ry=\"18\" stroke=\"black\"/>\n",
       "<text font-family=\"Times,serif\" font-size=\"14.00\" text-anchor=\"middle\" x=\"196.447\" y=\"-86.3\">RIFG</text>\n",
       "</g>\n",
       "<!-- LIFG&#45;&gt;RIFG -->\n",
       "<g class=\"edge\" id=\"edge7\"><title>LIFG-&gt;RIFG</title>\n",
       "<path d=\"M134.609,-146.496C145.59,-136.641 160.301,-123.439 172.62,-112.383\" fill=\"none\" stroke=\"black\"/>\n",
       "<polygon fill=\"black\" points=\"175.201,-114.769 180.306,-105.485 170.526,-109.56 175.201,-114.769\" stroke=\"black\"/>\n",
       "</g>\n",
       "<!-- LIPL -->\n",
       "<g class=\"node\" id=\"node4\"><title>LIPL</title>\n",
       "<ellipse cx=\"118.447\" cy=\"-234\" fill=\"none\" rx=\"29.4969\" ry=\"18\" stroke=\"black\"/>\n",
       "<text font-family=\"Times,serif\" font-size=\"14.00\" text-anchor=\"middle\" x=\"118.447\" y=\"-230.3\">LIPL</text>\n",
       "</g>\n",
       "<!-- LIPL&#45;&gt;LOCC -->\n",
       "<g class=\"edge\" id=\"edge6\"><title>LIPL-&gt;LOCC</title>\n",
       "<path d=\"M101.851,-219.17C87.5074,-207.217 66.8313,-189.987 52.1682,-177.768\" fill=\"none\" stroke=\"black\"/>\n",
       "</g>\n",
       "<!-- LIPL&#45;&gt;LIFG -->\n",
       "<g class=\"edge\" id=\"edge1\"><title>LIPL-&gt;LIFG</title>\n",
       "<path d=\"M118.447,-215.697C118.447,-204.846 118.447,-190.917 118.447,-180.104\" fill=\"none\" stroke=\"black\"/>\n",
       "</g>\n",
       "<!-- RIPL -->\n",
       "<g class=\"node\" id=\"node8\"><title>RIPL</title>\n",
       "<ellipse cx=\"196.447\" cy=\"-162\" fill=\"none\" rx=\"29.795\" ry=\"18\" stroke=\"black\"/>\n",
       "<text font-family=\"Times,serif\" font-size=\"14.00\" text-anchor=\"middle\" x=\"196.447\" y=\"-158.3\">RIPL</text>\n",
       "</g>\n",
       "<!-- LIPL&#45;&gt;RIPL -->\n",
       "<g class=\"edge\" id=\"edge3\"><title>LIPL-&gt;RIPL</title>\n",
       "<path d=\"M134.231,-218.834C147.675,-206.77 166.905,-189.512 180.418,-177.385\" fill=\"none\" stroke=\"black\"/>\n",
       "</g>\n",
       "<!-- ROCC -->\n",
       "<g class=\"node\" id=\"node5\"><title>ROCC</title>\n",
       "<ellipse cx=\"34.4469\" cy=\"-234\" fill=\"none\" rx=\"34.394\" ry=\"18\" stroke=\"black\"/>\n",
       "<text font-family=\"Times,serif\" font-size=\"14.00\" text-anchor=\"middle\" x=\"34.4469\" y=\"-230.3\">ROCC</text>\n",
       "</g>\n",
       "<!-- ROCC&#45;&gt;LOCC -->\n",
       "<g class=\"edge\" id=\"edge5\"><title>ROCC-&gt;LOCC</title>\n",
       "<path d=\"M34.4469,-215.697C34.4469,-204.846 34.4469,-190.917 34.4469,-180.104\" fill=\"none\" stroke=\"black\"/>\n",
       "</g>\n",
       "<!-- RIPL&#45;&gt;RACC -->\n",
       "<g class=\"edge\" id=\"edge9\"><title>RIPL-&gt;RACC</title>\n",
       "<path d=\"M211.698,-146.342C220.811,-136.482 231.54,-122.647 236.447,-108 241.529,-92.8287 242.499,-86.8111 236.447,-72 231.33,-59.4772 221.669,-48.3149 212.05,-39.5021\" fill=\"none\" stroke=\"black\"/>\n",
       "<polygon fill=\"black\" points=\"214.299,-36.8193 204.433,-32.957 209.737,-42.1287 214.299,-36.8193\" stroke=\"black\"/>\n",
       "</g>\n",
       "<!-- RIPL&#45;&gt;RIFG -->\n",
       "<g class=\"edge\" id=\"edge4\"><title>RIPL-&gt;RIFG</title>\n",
       "<path d=\"M196.447,-143.697C196.447,-135.983 196.447,-126.712 196.447,-118.112\" fill=\"none\" stroke=\"black\"/>\n",
       "<polygon fill=\"black\" points=\"199.947,-118.104 196.447,-108.104 192.947,-118.104 199.947,-118.104\" stroke=\"black\"/>\n",
       "</g>\n",
       "</g>\n",
       "</svg>"
      ],
      "text/plain": [
       "<IPython.core.display.SVG object>"
      ]
     },
     "execution_count": 7,
     "metadata": {},
     "output_type": "execute_result"
    }
   ],
   "source": [
    "dot = fges.getDot()\n",
    "svg_str = dot.create_svg(prog='dot')\n",
    "SVG(svg_str)"
   ]
  },
  {
   "cell_type": "code",
   "execution_count": 8,
   "metadata": {
    "collapsed": true
   },
   "outputs": [],
   "source": [
    "pc.stop_vm()"
   ]
  },
  {
   "cell_type": "code",
   "execution_count": null,
   "metadata": {
    "collapsed": true
   },
   "outputs": [],
   "source": []
  }
 ],
 "metadata": {
  "kernelspec": {
   "display_name": "Python 2",
   "language": "python",
   "name": "python2"
  },
  "language_info": {
   "codemirror_mode": {
    "name": "ipython",
    "version": 2
   },
   "file_extension": ".py",
   "mimetype": "text/x-python",
   "name": "python",
   "nbconvert_exporter": "python",
   "pygments_lexer": "ipython2",
   "version": "2.7.13"
  }
 },
 "nbformat": 4,
 "nbformat_minor": 2
}
