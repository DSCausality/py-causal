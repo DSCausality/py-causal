{
 "cells": [
  {
   "cell_type": "code",
   "execution_count": 1,
   "metadata": {
    "collapsed": true
   },
   "outputs": [],
   "source": [
    "import pandas as pd\n",
    "import pydot\n",
    "from IPython.display import SVG"
   ]
  },
  {
   "cell_type": "markdown",
   "metadata": {},
   "source": [
    "#### Load the example dataset"
   ]
  },
  {
   "cell_type": "code",
   "execution_count": 2,
   "metadata": {
    "collapsed": true
   },
   "outputs": [],
   "source": [
    "data_dir = \"https://raw.githubusercontent.com/bd2kccd/py-causal/master/data/charity.txt\"\n",
    "df = pd.read_table(data_dir, sep=\"\\t\")"
   ]
  },
  {
   "cell_type": "markdown",
   "metadata": {
    "collapsed": true
   },
   "source": [
    "#### Start Java VM"
   ]
  },
  {
   "cell_type": "code",
   "execution_count": 3,
   "metadata": {
    "collapsed": true
   },
   "outputs": [],
   "source": [
    "from pycausal.pycausal import pycausal as pc\n",
    "pc = pc()\n",
    "pc.start_vm()"
   ]
  },
  {
   "cell_type": "markdown",
   "metadata": {
    "collapsed": true
   },
   "source": [
    "#### Load causal algorithms from the py-causal library and Run FOFC Continuous"
   ]
  },
  {
   "cell_type": "code",
   "execution_count": 4,
   "metadata": {},
   "outputs": [
    {
     "name": "stdout",
     "output_type": "stream",
     "text": [
      "alpha: Cutoff for p values (alpha) (min = 0.0) (java.lang.Double) [default:0.01]\n",
      "useWishart: Yes if the Wishart test shoud be used. No if the Delta test should be used (java.lang.Boolean) [default:false]\n",
      "useGap: Yes if the GAP algorithms should be used. No if the SAG algorithm should be used (java.lang.Boolean) [default:false]\n",
      "verbose: Yes if verbose output should be printed or logged (java.lang.Boolean) [default:false]\n",
      "bootstrapSampleSize: The number of bootstraps (min = 0) (java.lang.Integer) [default:0]\n",
      "bootstrapEnsemble: Ensemble method: Preserved (0), Highest (1), Majority (2) (java.lang.Integer) [default:1]\n"
     ]
    }
   ],
   "source": [
    "from pycausal import search as s\n",
    "tetrad = s.tetradrunner()\n",
    "tetrad.getAlgorithmParameters(algoId = 'fofc')"
   ]
  },
  {
   "cell_type": "code",
   "execution_count": 5,
   "metadata": {
    "collapsed": true
   },
   "outputs": [],
   "source": [
    "tetrad.run(algoId = 'fofc', dfs = df,\n",
    "           alpha = 0.05, \n",
    "           useWishart = True, useGap = True, verbose = True)"
   ]
  },
  {
   "cell_type": "markdown",
   "metadata": {
    "collapsed": true
   },
   "source": [
    "#### FOFC Continuous' Result's Nodes"
   ]
  },
  {
   "cell_type": "code",
   "execution_count": 6,
   "metadata": {},
   "outputs": [
    {
     "data": {
      "text/plain": [
       "[u'TangibilityCondition',\n",
       " u'AmountDonated',\n",
       " u'Sympathy',\n",
       " u'Imaginability',\n",
       " u'Impact',\n",
       " u'_L1']"
      ]
     },
     "execution_count": 6,
     "metadata": {},
     "output_type": "execute_result"
    }
   ],
   "source": [
    "tetrad.getNodes()"
   ]
  },
  {
   "cell_type": "markdown",
   "metadata": {},
   "source": [
    "#### FOFC Continuous' Result's Edges"
   ]
  },
  {
   "cell_type": "code",
   "execution_count": 7,
   "metadata": {},
   "outputs": [
    {
     "data": {
      "text/plain": [
       "[u'_L1 --> AmountDonated',\n",
       " u'_L1 --> TangibilityCondition',\n",
       " u'_L1 --> Imaginability',\n",
       " u'_L1 --> Sympathy',\n",
       " u'_L1 --> Impact']"
      ]
     },
     "execution_count": 7,
     "metadata": {},
     "output_type": "execute_result"
    }
   ],
   "source": [
    "tetrad.getEdges()"
   ]
  },
  {
   "cell_type": "markdown",
   "metadata": {},
   "source": [
    "#### Plot The Result's Graph"
   ]
  },
  {
   "cell_type": "code",
   "execution_count": 8,
   "metadata": {},
   "outputs": [
    {
     "data": {
      "image/svg+xml": [
       "<svg height=\"116pt\" viewBox=\"0.00 0.00 671.24 116.00\" width=\"671pt\" xmlns=\"http://www.w3.org/2000/svg\" xmlns:xlink=\"http://www.w3.org/1999/xlink\">\n",
       "<g class=\"graph\" id=\"graph0\" transform=\"scale(1 1) rotate(0) translate(4 112)\">\n",
       "<title>G</title>\n",
       "<polygon fill=\"white\" points=\"-4,4 -4,-112 667.242,-112 667.242,4 -4,4\" stroke=\"none\"/>\n",
       "<!-- _L1 -->\n",
       "<g class=\"node\" id=\"node1\"><title>_L1</title>\n",
       "<ellipse cx=\"324.747\" cy=\"-90\" fill=\"none\" rx=\"27\" ry=\"18\" stroke=\"black\"/>\n",
       "<text font-family=\"Times,serif\" font-size=\"14.00\" text-anchor=\"middle\" x=\"324.747\" y=\"-86.3\">_L1</text>\n",
       "</g>\n",
       "<!-- Impact -->\n",
       "<g class=\"node\" id=\"node2\"><title>Impact</title>\n",
       "<ellipse cx=\"35.7468\" cy=\"-18\" fill=\"none\" rx=\"35.9954\" ry=\"18\" stroke=\"black\"/>\n",
       "<text font-family=\"Times,serif\" font-size=\"14.00\" text-anchor=\"middle\" x=\"35.7468\" y=\"-14.3\">Impact</text>\n",
       "</g>\n",
       "<!-- _L1&#45;&gt;Impact -->\n",
       "<g class=\"edge\" id=\"edge1\"><title>_L1-&gt;Impact</title>\n",
       "<path d=\"M298.787,-84.6603C253.855,-76.8617 158.897,-59.1123 80.7468,-36 77.9689,-35.1784 75.1176,-34.2674 72.2637,-33.3062\" fill=\"none\" stroke=\"black\"/>\n",
       "<polygon fill=\"black\" points=\"73.2491,-29.9422 62.6544,-29.9022 70.9118,-36.5405 73.2491,-29.9422\" stroke=\"black\"/>\n",
       "</g>\n",
       "<!-- TangibilityCondition -->\n",
       "<g class=\"node\" id=\"node3\"><title>TangibilityCondition</title>\n",
       "<ellipse cx=\"174.747\" cy=\"-18\" fill=\"none\" rx=\"85.2851\" ry=\"18\" stroke=\"black\"/>\n",
       "<text font-family=\"Times,serif\" font-size=\"14.00\" text-anchor=\"middle\" x=\"174.747\" y=\"-14.3\">TangibilityCondition</text>\n",
       "</g>\n",
       "<!-- _L1&#45;&gt;TangibilityCondition -->\n",
       "<g class=\"edge\" id=\"edge2\"><title>_L1-&gt;TangibilityCondition</title>\n",
       "<path d=\"M303.255,-78.9707C280.984,-68.5776 245.579,-52.0549 217.565,-38.9818\" fill=\"none\" stroke=\"black\"/>\n",
       "<polygon fill=\"black\" points=\"218.92,-35.7516 208.378,-34.6944 215.959,-42.0949 218.92,-35.7516\" stroke=\"black\"/>\n",
       "</g>\n",
       "<!-- Sympathy -->\n",
       "<g class=\"node\" id=\"node4\"><title>Sympathy</title>\n",
       "<ellipse cx=\"324.747\" cy=\"-18\" fill=\"none\" rx=\"46.5926\" ry=\"18\" stroke=\"black\"/>\n",
       "<text font-family=\"Times,serif\" font-size=\"14.00\" text-anchor=\"middle\" x=\"324.747\" y=\"-14.3\">Sympathy</text>\n",
       "</g>\n",
       "<!-- _L1&#45;&gt;Sympathy -->\n",
       "<g class=\"edge\" id=\"edge3\"><title>_L1-&gt;Sympathy</title>\n",
       "<path d=\"M324.747,-71.6966C324.747,-63.9827 324.747,-54.7125 324.747,-46.1124\" fill=\"none\" stroke=\"black\"/>\n",
       "<polygon fill=\"black\" points=\"328.247,-46.1043 324.747,-36.1043 321.247,-46.1044 328.247,-46.1043\" stroke=\"black\"/>\n",
       "</g>\n",
       "<!-- AmountDonated -->\n",
       "<g class=\"node\" id=\"node5\"><title>AmountDonated</title>\n",
       "<ellipse cx=\"458.747\" cy=\"-18\" fill=\"none\" rx=\"69.5877\" ry=\"18\" stroke=\"black\"/>\n",
       "<text font-family=\"Times,serif\" font-size=\"14.00\" text-anchor=\"middle\" x=\"458.747\" y=\"-14.3\">AmountDonated</text>\n",
       "</g>\n",
       "<!-- _L1&#45;&gt;AmountDonated -->\n",
       "<g class=\"edge\" id=\"edge4\"><title>_L1-&gt;AmountDonated</title>\n",
       "<path d=\"M345.391,-78.2159C365.311,-67.81 395.953,-51.8026 420.359,-39.0532\" fill=\"none\" stroke=\"black\"/>\n",
       "<polygon fill=\"black\" points=\"422.129,-42.0773 429.372,-34.3449 418.888,-35.8729 422.129,-42.0773\" stroke=\"black\"/>\n",
       "</g>\n",
       "<!-- Imaginability -->\n",
       "<g class=\"node\" id=\"node6\"><title>Imaginability</title>\n",
       "<ellipse cx=\"604.747\" cy=\"-18\" fill=\"none\" rx=\"58.4896\" ry=\"18\" stroke=\"black\"/>\n",
       "<text font-family=\"Times,serif\" font-size=\"14.00\" text-anchor=\"middle\" x=\"604.747\" y=\"-14.3\">Imaginability</text>\n",
       "</g>\n",
       "<!-- _L1&#45;&gt;Imaginability -->\n",
       "<g class=\"edge\" id=\"edge5\"><title>_L1-&gt;Imaginability</title>\n",
       "<path d=\"M349.678,-82.836C389.459,-72.9916 469.744,-53.0875 537.747,-36 542.12,-34.901 546.654,-33.7584 551.206,-32.6085\" fill=\"none\" stroke=\"black\"/>\n",
       "<polygon fill=\"black\" points=\"552.309,-35.9398 561.145,-30.0941 550.592,-29.1535 552.309,-35.9398\" stroke=\"black\"/>\n",
       "</g>\n",
       "</g>\n",
       "</svg>"
      ],
      "text/plain": [
       "<IPython.core.display.SVG object>"
      ]
     },
     "execution_count": 8,
     "metadata": {},
     "output_type": "execute_result"
    }
   ],
   "source": [
    "dot = tetrad.getDot()\n",
    "svg_str = dot.create_svg(prog='dot')\n",
    "SVG(svg_str)"
   ]
  },
  {
   "cell_type": "markdown",
   "metadata": {
    "collapsed": true
   },
   "source": [
    "#### Stop Java VM"
   ]
  },
  {
   "cell_type": "code",
   "execution_count": 9,
   "metadata": {
    "collapsed": true
   },
   "outputs": [],
   "source": [
    "pc.stop_vm()"
   ]
  },
  {
   "cell_type": "code",
   "execution_count": null,
   "metadata": {
    "collapsed": true
   },
   "outputs": [],
   "source": []
  }
 ],
 "metadata": {
  "kernelspec": {
   "display_name": "Python 2",
   "language": "python",
   "name": "python2"
  },
  "language_info": {
   "codemirror_mode": {
    "name": "ipython",
    "version": 2
   },
   "file_extension": ".py",
   "mimetype": "text/x-python",
   "name": "python",
   "nbconvert_exporter": "python",
   "pygments_lexer": "ipython2",
   "version": "2.7.13"
  }
 },
 "nbformat": 4,
 "nbformat_minor": 1
}
