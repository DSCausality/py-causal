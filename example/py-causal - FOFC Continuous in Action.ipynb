{
 "cells": [
  {
   "cell_type": "code",
   "execution_count": 1,
   "metadata": {},
   "outputs": [],
   "source": [
    "import pandas as pd"
   ]
  },
  {
   "cell_type": "markdown",
   "metadata": {},
   "source": [
    "#### Load the example dataset"
   ]
  },
  {
   "cell_type": "code",
   "execution_count": 2,
   "metadata": {},
   "outputs": [],
   "source": [
    "data_dir = \"https://raw.githubusercontent.com/bd2kccd/py-causal/master/data/charity.txt\"\n",
    "df = pd.read_table(data_dir, sep=\"\\t\")"
   ]
  },
  {
   "cell_type": "markdown",
   "metadata": {
    "collapsed": true
   },
   "source": [
    "#### Start Java VM"
   ]
  },
  {
   "cell_type": "code",
   "execution_count": 3,
   "metadata": {},
   "outputs": [],
   "source": [
    "from pycausal.pycausal import pycausal as pc\n",
    "pc = pc()\n",
    "pc.start_vm()"
   ]
  },
  {
   "cell_type": "markdown",
   "metadata": {
    "collapsed": true
   },
   "source": [
    "#### Load causal algorithms from the py-causal library and Run FOFC Continuous"
   ]
  },
  {
   "cell_type": "code",
   "execution_count": 4,
   "metadata": {},
   "outputs": [
    {
     "name": "stdout",
     "output_type": "stream",
     "text": [
      "alpha: Cutoff for p values (alpha) (min = 0.0) (java.lang.Double) [default:0.01]\n",
      "useWishart: Yes if the Wishart test shoud be used. No if the Delta test should be used (java.lang.Boolean) [default:false]\n",
      "useGap: Yes if the GAP algorithms should be used. No if the SAG algorithm should be used (java.lang.Boolean) [default:false]\n",
      "verbose: Yes if verbose output should be printed or logged (java.lang.Boolean) [default:false]\n",
      "bootstrapSampleSize: The number of bootstraps (min = 0) (java.lang.Integer) [default:0]\n",
      "bootstrapEnsemble: Ensemble method: Preserved (0), Highest (1), Majority (2) (java.lang.Integer) [default:1]\n"
     ]
    }
   ],
   "source": [
    "from pycausal import search as s\n",
    "tetrad = s.tetradrunner()\n",
    "tetrad.getAlgorithmParameters(algoId = 'fofc')"
   ]
  },
  {
   "cell_type": "code",
   "execution_count": 5,
   "metadata": {},
   "outputs": [],
   "source": [
    "tetrad.run(algoId = 'fofc', dfs = df,\n",
    "           alpha = 0.05, \n",
    "           useWishart = True, useGap = True, verbose = True)"
   ]
  },
  {
   "cell_type": "markdown",
   "metadata": {
    "collapsed": true
   },
   "source": [
    "#### FOFC Continuous' Result's Nodes"
   ]
  },
  {
   "cell_type": "code",
   "execution_count": 6,
   "metadata": {},
   "outputs": [
    {
     "data": {
      "text/plain": [
       "['TangibilityCondition',\n",
       " 'AmountDonated',\n",
       " 'Sympathy',\n",
       " 'Imaginability',\n",
       " 'Impact',\n",
       " '_L1']"
      ]
     },
     "execution_count": 6,
     "metadata": {},
     "output_type": "execute_result"
    }
   ],
   "source": [
    "tetrad.getNodes()"
   ]
  },
  {
   "cell_type": "markdown",
   "metadata": {},
   "source": [
    "#### FOFC Continuous' Result's Edges"
   ]
  },
  {
   "cell_type": "code",
   "execution_count": 7,
   "metadata": {},
   "outputs": [
    {
     "data": {
      "text/plain": [
       "['_L1 --> AmountDonated',\n",
       " '_L1 --> TangibilityCondition',\n",
       " '_L1 --> Imaginability',\n",
       " '_L1 --> Sympathy',\n",
       " '_L1 --> Impact']"
      ]
     },
     "execution_count": 7,
     "metadata": {},
     "output_type": "execute_result"
    }
   ],
   "source": [
    "tetrad.getEdges()"
   ]
  },
  {
   "cell_type": "markdown",
   "metadata": {},
   "source": [
    "#### Plot The Result's Graph"
   ]
  },
  {
   "cell_type": "code",
   "execution_count": 8,
   "metadata": {},
   "outputs": [
    {
     "data": {
      "image/svg+xml": [
       "<svg height=\"116pt\" viewBox=\"0.00 0.00 811.64 116.00\" width=\"812pt\" xmlns=\"http://www.w3.org/2000/svg\" xmlns:xlink=\"http://www.w3.org/1999/xlink\">\n",
       "<g class=\"graph\" id=\"graph0\" transform=\"scale(1 1) rotate(0) translate(4 112)\">\n",
       "<title>g</title>\n",
       "<polygon fill=\"white\" points=\"-4,4 -4,-112 807.638,-112 807.638,4 -4,4\" stroke=\"none\"/>\n",
       "<!-- AmountDonated -->\n",
       "<g class=\"node\" id=\"node1\"><title>AmountDonated</title>\n",
       "<ellipse cx=\"86.4423\" cy=\"-90\" fill=\"none\" rx=\"86.3847\" ry=\"18\" stroke=\"black\"/>\n",
       "<text font-family=\"Times,serif\" font-size=\"14.00\" text-anchor=\"middle\" x=\"86.4423\" y=\"-86.3\">AmountDonated</text>\n",
       "</g>\n",
       "<!-- _L1 -->\n",
       "<g class=\"node\" id=\"node2\"><title>_L1</title>\n",
       "<ellipse cx=\"492.442\" cy=\"-18\" fill=\"none\" rx=\"27.8951\" ry=\"18\" stroke=\"black\"/>\n",
       "<text font-family=\"Times,serif\" font-size=\"14.00\" text-anchor=\"middle\" x=\"492.442\" y=\"-14.3\">_L1</text>\n",
       "</g>\n",
       "<!-- AmountDonated&#45;&gt;_L1 -->\n",
       "<g class=\"edge\" id=\"edge1\"><title>AmountDonated-&gt;_L1</title>\n",
       "<path d=\"M159.916,-75.943C167.522,-74.6051 175.138,-73.2712 182.442,-72 287.068,-53.7927 411.657,-32.658 465.48,-23.5543\" fill=\"none\" stroke=\"black\"/>\n",
       "<polygon fill=\"black\" points=\"159.19,-72.5169 149.949,-77.6992 160.405,-79.4107 159.19,-72.5169\" stroke=\"black\"/>\n",
       "</g>\n",
       "<!-- TangibilityCondition -->\n",
       "<g class=\"node\" id=\"node3\"><title>TangibilityCondition</title>\n",
       "<ellipse cx=\"296.442\" cy=\"-90\" fill=\"none\" rx=\"105.082\" ry=\"18\" stroke=\"black\"/>\n",
       "<text font-family=\"Times,serif\" font-size=\"14.00\" text-anchor=\"middle\" x=\"296.442\" y=\"-86.3\">TangibilityCondition</text>\n",
       "</g>\n",
       "<!-- TangibilityCondition&#45;&gt;_L1 -->\n",
       "<g class=\"edge\" id=\"edge2\"><title>TangibilityCondition-&gt;_L1</title>\n",
       "<path d=\"M349.517,-70.0447C388.277,-56.2018 439.002,-38.0857 468.43,-27.5757\" fill=\"none\" stroke=\"black\"/>\n",
       "<polygon fill=\"black\" points=\"348.181,-66.8052 339.941,-73.4647 350.536,-73.3974 348.181,-66.8052\" stroke=\"black\"/>\n",
       "</g>\n",
       "<!-- Imaginability -->\n",
       "<g class=\"node\" id=\"node4\"><title>Imaginability</title>\n",
       "<ellipse cx=\"492.442\" cy=\"-90\" fill=\"none\" rx=\"72.5877\" ry=\"18\" stroke=\"black\"/>\n",
       "<text font-family=\"Times,serif\" font-size=\"14.00\" text-anchor=\"middle\" x=\"492.442\" y=\"-86.3\">Imaginability</text>\n",
       "</g>\n",
       "<!-- Imaginability&#45;&gt;_L1 -->\n",
       "<g class=\"edge\" id=\"edge3\"><title>Imaginability-&gt;_L1</title>\n",
       "<path d=\"M492.442,-61.6651C492.442,-53.0537 492.442,-43.7913 492.442,-36.1043\" fill=\"none\" stroke=\"black\"/>\n",
       "<polygon fill=\"black\" points=\"488.942,-61.6966 492.442,-71.6966 495.942,-61.6967 488.942,-61.6966\" stroke=\"black\"/>\n",
       "</g>\n",
       "<!-- Sympathy -->\n",
       "<g class=\"node\" id=\"node5\"><title>Sympathy</title>\n",
       "<ellipse cx=\"640.442\" cy=\"-90\" fill=\"none\" rx=\"57.3905\" ry=\"18\" stroke=\"black\"/>\n",
       "<text font-family=\"Times,serif\" font-size=\"14.00\" text-anchor=\"middle\" x=\"640.442\" y=\"-86.3\">Sympathy</text>\n",
       "</g>\n",
       "<!-- Sympathy&#45;&gt;_L1 -->\n",
       "<g class=\"edge\" id=\"edge4\"><title>Sympathy-&gt;_L1</title>\n",
       "<path d=\"M601.094,-70.3894C573.397,-57.2896 537.336,-40.2333 514.529,-29.4466\" fill=\"none\" stroke=\"black\"/>\n",
       "<polygon fill=\"black\" points=\"599.599,-73.5538 610.135,-74.6655 602.592,-67.2259 599.599,-73.5538\" stroke=\"black\"/>\n",
       "</g>\n",
       "<!-- Impact -->\n",
       "<g class=\"node\" id=\"node6\"><title>Impact</title>\n",
       "<ellipse cx=\"759.442\" cy=\"-90\" fill=\"none\" rx=\"44.393\" ry=\"18\" stroke=\"black\"/>\n",
       "<text font-family=\"Times,serif\" font-size=\"14.00\" text-anchor=\"middle\" x=\"759.442\" y=\"-86.3\">Impact</text>\n",
       "</g>\n",
       "<!-- Impact&#45;&gt;_L1 -->\n",
       "<g class=\"edge\" id=\"edge5\"><title>Impact-&gt;_L1</title>\n",
       "<path d=\"M716.585,-74.9818C713.161,-73.945 709.75,-72.9388 706.442,-72 639.245,-52.9254 559.099,-34.1117 518.616,-24.8809\" fill=\"none\" stroke=\"black\"/>\n",
       "<polygon fill=\"black\" points=\"715.597,-78.34 726.185,-77.9538 717.667,-71.653 715.597,-78.34\" stroke=\"black\"/>\n",
       "</g>\n",
       "</g>\n",
       "</svg>"
      ],
      "text/plain": [
       "<IPython.core.display.SVG object>"
      ]
     },
     "execution_count": 8,
     "metadata": {},
     "output_type": "execute_result"
    }
   ],
   "source": [
    "import pydot\n",
    "from IPython.display import SVG\n",
    "dot_str = pc.tetradGraphToDot(tetrad.getTetradGraph())\n",
    "graphs = pydot.graph_from_dot_data(dot_str)\n",
    "svg_str = graphs[0].create_svg()\n",
    "SVG(svg_str)"
   ]
  },
  {
   "cell_type": "markdown",
   "metadata": {
    "collapsed": true
   },
   "source": [
    "#### Stop Java VM"
   ]
  },
  {
   "cell_type": "code",
   "execution_count": 9,
   "metadata": {},
   "outputs": [],
   "source": [
    "pc.stop_vm()"
   ]
  },
  {
   "cell_type": "code",
   "execution_count": null,
   "metadata": {
    "collapsed": true
   },
   "outputs": [],
   "source": []
  }
 ],
 "metadata": {
  "kernelspec": {
   "display_name": "Python 3",
   "language": "python",
   "name": "python3"
  },
  "language_info": {
   "codemirror_mode": {
    "name": "ipython",
    "version": 3
   },
   "file_extension": ".py",
   "mimetype": "text/x-python",
   "name": "python",
   "nbconvert_exporter": "python",
   "pygments_lexer": "ipython3",
   "version": "3.5.4"
  }
 },
 "nbformat": 4,
 "nbformat_minor": 1
}
