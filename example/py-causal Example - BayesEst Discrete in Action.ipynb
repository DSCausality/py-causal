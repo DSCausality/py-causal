{
 "cells": [
  {
   "cell_type": "code",
   "execution_count": 1,
   "metadata": {
    "collapsed": false
   },
   "outputs": [],
   "source": [
    "import pandas as pd\n",
    "import pydot\n",
    "from IPython.display import SVG"
   ]
  },
  {
   "cell_type": "markdown",
   "metadata": {},
   "source": [
    "#### Load the example dataset"
   ]
  },
  {
   "cell_type": "code",
   "execution_count": 2,
   "metadata": {
    "collapsed": true
   },
   "outputs": [],
   "source": [
    "data_dir = \"https://raw.githubusercontent.com/bd2kccd/py-causal/master/data/sim_discrete_data_20vars_100cases.txt\"\n",
    "df = pd.read_table(data_dir, sep=\"\\t\")"
   ]
  },
  {
   "cell_type": "markdown",
   "metadata": {
    "collapsed": true
   },
   "source": [
    "#### Start Java VM"
   ]
  },
  {
   "cell_type": "code",
   "execution_count": 3,
   "metadata": {
    "collapsed": false
   },
   "outputs": [],
   "source": [
    "from pycausal import pycausal as pc\n",
    "pc.start_vm()"
   ]
  },
  {
   "cell_type": "markdown",
   "metadata": {
    "collapsed": true
   },
   "source": [
    "#### Load causal algorithms from the py-causal library and Run BayesEst Discrete"
   ]
  },
  {
   "cell_type": "code",
   "execution_count": 4,
   "metadata": {
    "collapsed": false
   },
   "outputs": [],
   "source": [
    "from pycausal import search as s\n",
    "bayesEst = s.bayesEst(df, depth = -1, significance = 0.05, verbose = True)"
   ]
  },
  {
   "cell_type": "markdown",
   "metadata": {
    "collapsed": true
   },
   "source": [
    "#### BayesEst Discrete's Result's Nodes"
   ]
  },
  {
   "cell_type": "code",
   "execution_count": 5,
   "metadata": {
    "collapsed": false
   },
   "outputs": [
    {
     "data": {
      "text/plain": [
       "[u'X0',\n",
       " u'X1',\n",
       " u'X2',\n",
       " u'X3',\n",
       " u'X4',\n",
       " u'X5',\n",
       " u'X6',\n",
       " u'X7',\n",
       " u'X8',\n",
       " u'X9',\n",
       " u'X10',\n",
       " u'X11',\n",
       " u'X12',\n",
       " u'X13',\n",
       " u'X14',\n",
       " u'X15',\n",
       " u'X16',\n",
       " u'X17',\n",
       " u'X18',\n",
       " u'X19']"
      ]
     },
     "execution_count": 5,
     "metadata": {},
     "output_type": "execute_result"
    }
   ],
   "source": [
    "bayesEst.getNodes()"
   ]
  },
  {
   "cell_type": "markdown",
   "metadata": {},
   "source": [
    "#### BayesEst Discrete's Result's Edges"
   ]
  },
  {
   "cell_type": "code",
   "execution_count": 6,
   "metadata": {
    "collapsed": false
   },
   "outputs": [
    {
     "data": {
      "text/plain": [
       "[u'X13 --> X6',\n",
       " u'X15 --> X12',\n",
       " u'X17 --> X10',\n",
       " u'X11 --> X4',\n",
       " u'X18 --> X14',\n",
       " u'X10 --> X4',\n",
       " u'X6 --> X7',\n",
       " u'X17 --> X19',\n",
       " u'X8 --> X4',\n",
       " u'X9 --> X3',\n",
       " u'X15 --> X19',\n",
       " u'X3 --> X7',\n",
       " u'X13 --> X7',\n",
       " u'X14 --> X11']"
      ]
     },
     "execution_count": 6,
     "metadata": {},
     "output_type": "execute_result"
    }
   ],
   "source": [
    "bayesEst.getEdges()"
   ]
  },
  {
   "cell_type": "code",
   "execution_count": 7,
   "metadata": {
    "collapsed": false
   },
   "outputs": [
    {
     "data": {
      "image/svg+xml": [
       "<svg height=\"260pt\" viewBox=\"0.00 0.00 818.00 260.00\" width=\"818pt\" xmlns=\"http://www.w3.org/2000/svg\" xmlns:xlink=\"http://www.w3.org/1999/xlink\">\n",
       "<g class=\"graph\" id=\"graph0\" transform=\"scale(1 1) rotate(0) translate(4 256)\">\n",
       "<title>G</title>\n",
       "<polygon fill=\"white\" points=\"-4,4 -4,-256 814,-256 814,4 -4,4\" stroke=\"none\"/>\n",
       "<!-- X0 -->\n",
       "<g class=\"node\" id=\"node1\"><title>X0</title>\n",
       "<ellipse cx=\"27\" cy=\"-234\" fill=\"none\" rx=\"27\" ry=\"18\" stroke=\"black\"/>\n",
       "<text font-family=\"Times,serif\" font-size=\"14.00\" text-anchor=\"middle\" x=\"27\" y=\"-230.3\">X0</text>\n",
       "</g>\n",
       "<!-- X1 -->\n",
       "<g class=\"node\" id=\"node2\"><title>X1</title>\n",
       "<ellipse cx=\"99\" cy=\"-234\" fill=\"none\" rx=\"27\" ry=\"18\" stroke=\"black\"/>\n",
       "<text font-family=\"Times,serif\" font-size=\"14.00\" text-anchor=\"middle\" x=\"99\" y=\"-230.3\">X1</text>\n",
       "</g>\n",
       "<!-- X2 -->\n",
       "<g class=\"node\" id=\"node3\"><title>X2</title>\n",
       "<ellipse cx=\"171\" cy=\"-234\" fill=\"none\" rx=\"27\" ry=\"18\" stroke=\"black\"/>\n",
       "<text font-family=\"Times,serif\" font-size=\"14.00\" text-anchor=\"middle\" x=\"171\" y=\"-230.3\">X2</text>\n",
       "</g>\n",
       "<!-- X3 -->\n",
       "<g class=\"node\" id=\"node4\"><title>X3</title>\n",
       "<ellipse cx=\"334\" cy=\"-162\" fill=\"none\" rx=\"27\" ry=\"18\" stroke=\"black\"/>\n",
       "<text font-family=\"Times,serif\" font-size=\"14.00\" text-anchor=\"middle\" x=\"334\" y=\"-158.3\">X3</text>\n",
       "</g>\n",
       "<!-- X7 -->\n",
       "<g class=\"node\" id=\"node8\"><title>X7</title>\n",
       "<ellipse cx=\"279\" cy=\"-90\" fill=\"none\" rx=\"27\" ry=\"18\" stroke=\"black\"/>\n",
       "<text font-family=\"Times,serif\" font-size=\"14.00\" text-anchor=\"middle\" x=\"279\" y=\"-86.3\">X7</text>\n",
       "</g>\n",
       "<!-- X3&#45;&gt;X7 -->\n",
       "<g class=\"edge\" id=\"edge12\"><title>X3-&gt;X7</title>\n",
       "<path d=\"M322.066,-145.811C314.786,-136.546 305.337,-124.52 297.146,-114.094\" fill=\"none\" stroke=\"black\"/>\n",
       "<polygon fill=\"black\" points=\"299.841,-111.86 290.911,-106.159 294.337,-116.185 299.841,-111.86\" stroke=\"black\"/>\n",
       "</g>\n",
       "<!-- X4 -->\n",
       "<g class=\"node\" id=\"node5\"><title>X4</title>\n",
       "<ellipse cx=\"423\" cy=\"-18\" fill=\"none\" rx=\"27\" ry=\"18\" stroke=\"black\"/>\n",
       "<text font-family=\"Times,serif\" font-size=\"14.00\" text-anchor=\"middle\" x=\"423\" y=\"-14.3\">X4</text>\n",
       "</g>\n",
       "<!-- X5 -->\n",
       "<g class=\"node\" id=\"node6\"><title>X5</title>\n",
       "<ellipse cx=\"711\" cy=\"-234\" fill=\"none\" rx=\"27\" ry=\"18\" stroke=\"black\"/>\n",
       "<text font-family=\"Times,serif\" font-size=\"14.00\" text-anchor=\"middle\" x=\"711\" y=\"-230.3\">X5</text>\n",
       "</g>\n",
       "<!-- X6 -->\n",
       "<g class=\"node\" id=\"node7\"><title>X6</title>\n",
       "<ellipse cx=\"224\" cy=\"-162\" fill=\"none\" rx=\"27\" ry=\"18\" stroke=\"black\"/>\n",
       "<text font-family=\"Times,serif\" font-size=\"14.00\" text-anchor=\"middle\" x=\"224\" y=\"-158.3\">X6</text>\n",
       "</g>\n",
       "<!-- X6&#45;&gt;X7 -->\n",
       "<g class=\"edge\" id=\"edge7\"><title>X6-&gt;X7</title>\n",
       "<path d=\"M235.934,-145.811C243.214,-136.546 252.663,-124.52 260.854,-114.094\" fill=\"none\" stroke=\"black\"/>\n",
       "<polygon fill=\"black\" points=\"263.663,-116.185 267.089,-106.159 258.159,-111.86 263.663,-116.185\" stroke=\"black\"/>\n",
       "</g>\n",
       "<!-- X8 -->\n",
       "<g class=\"node\" id=\"node9\"><title>X8</title>\n",
       "<ellipse cx=\"351\" cy=\"-90\" fill=\"none\" rx=\"27\" ry=\"18\" stroke=\"black\"/>\n",
       "<text font-family=\"Times,serif\" font-size=\"14.00\" text-anchor=\"middle\" x=\"351\" y=\"-86.3\">X8</text>\n",
       "</g>\n",
       "<!-- X8&#45;&gt;X4 -->\n",
       "<g class=\"edge\" id=\"edge9\"><title>X8-&gt;X4</title>\n",
       "<path d=\"M365.57,-74.8345C375.75,-64.9376 389.524,-51.5462 401.031,-40.3591\" fill=\"none\" stroke=\"black\"/>\n",
       "<polygon fill=\"black\" points=\"403.474,-42.865 408.204,-33.3847 398.595,-37.8461 403.474,-42.865\" stroke=\"black\"/>\n",
       "</g>\n",
       "<!-- X9 -->\n",
       "<g class=\"node\" id=\"node10\"><title>X9</title>\n",
       "<ellipse cx=\"334\" cy=\"-234\" fill=\"none\" rx=\"27\" ry=\"18\" stroke=\"black\"/>\n",
       "<text font-family=\"Times,serif\" font-size=\"14.00\" text-anchor=\"middle\" x=\"334\" y=\"-230.3\">X9</text>\n",
       "</g>\n",
       "<!-- X9&#45;&gt;X3 -->\n",
       "<g class=\"edge\" id=\"edge10\"><title>X9-&gt;X3</title>\n",
       "<path d=\"M334,-215.697C334,-207.983 334,-198.712 334,-190.112\" fill=\"none\" stroke=\"black\"/>\n",
       "<polygon fill=\"black\" points=\"337.5,-190.104 334,-180.104 330.5,-190.104 337.5,-190.104\" stroke=\"black\"/>\n",
       "</g>\n",
       "<!-- X10 -->\n",
       "<g class=\"node\" id=\"node11\"><title>X10</title>\n",
       "<ellipse cx=\"423\" cy=\"-90\" fill=\"none\" rx=\"27\" ry=\"18\" stroke=\"black\"/>\n",
       "<text font-family=\"Times,serif\" font-size=\"14.00\" text-anchor=\"middle\" x=\"423\" y=\"-86.3\">X10</text>\n",
       "</g>\n",
       "<!-- X10&#45;&gt;X4 -->\n",
       "<g class=\"edge\" id=\"edge6\"><title>X10-&gt;X4</title>\n",
       "<path d=\"M423,-71.6966C423,-63.9827 423,-54.7125 423,-46.1124\" fill=\"none\" stroke=\"black\"/>\n",
       "<polygon fill=\"black\" points=\"426.5,-46.1043 423,-36.1043 419.5,-46.1044 426.5,-46.1043\" stroke=\"black\"/>\n",
       "</g>\n",
       "<!-- X11 -->\n",
       "<g class=\"node\" id=\"node12\"><title>X11</title>\n",
       "<ellipse cx=\"639\" cy=\"-90\" fill=\"none\" rx=\"27\" ry=\"18\" stroke=\"black\"/>\n",
       "<text font-family=\"Times,serif\" font-size=\"14.00\" text-anchor=\"middle\" x=\"639\" y=\"-86.3\">X11</text>\n",
       "</g>\n",
       "<!-- X11&#45;&gt;X4 -->\n",
       "<g class=\"edge\" id=\"edge4\"><title>X11-&gt;X4</title>\n",
       "<path d=\"M617.916,-78.3773C613.076,-76.1266 607.909,-73.869 603,-72 553.604,-53.1947 494.52,-36.9376 457.868,-27.5522\" fill=\"none\" stroke=\"black\"/>\n",
       "<polygon fill=\"black\" points=\"458.705,-24.1537 448.152,-25.0908 456.986,-30.9394 458.705,-24.1537\" stroke=\"black\"/>\n",
       "</g>\n",
       "<!-- X12 -->\n",
       "<g class=\"node\" id=\"node13\"><title>X12</title>\n",
       "<ellipse cx=\"567\" cy=\"-90\" fill=\"none\" rx=\"27\" ry=\"18\" stroke=\"black\"/>\n",
       "<text font-family=\"Times,serif\" font-size=\"14.00\" text-anchor=\"middle\" x=\"567\" y=\"-86.3\">X12</text>\n",
       "</g>\n",
       "<!-- X13 -->\n",
       "<g class=\"node\" id=\"node14\"><title>X13</title>\n",
       "<ellipse cx=\"243\" cy=\"-234\" fill=\"none\" rx=\"27\" ry=\"18\" stroke=\"black\"/>\n",
       "<text font-family=\"Times,serif\" font-size=\"14.00\" text-anchor=\"middle\" x=\"243\" y=\"-230.3\">X13</text>\n",
       "</g>\n",
       "<!-- X13&#45;&gt;X6 -->\n",
       "<g class=\"edge\" id=\"edge1\"><title>X13-&gt;X6</title>\n",
       "<path d=\"M238.401,-216.055C236.254,-208.145 233.647,-198.54 231.244,-189.688\" fill=\"none\" stroke=\"black\"/>\n",
       "<polygon fill=\"black\" points=\"234.554,-188.523 228.557,-179.789 227.799,-190.357 234.554,-188.523\" stroke=\"black\"/>\n",
       "</g>\n",
       "<!-- X13&#45;&gt;X7 -->\n",
       "<g class=\"edge\" id=\"edge13\"><title>X13-&gt;X7</title>\n",
       "<path d=\"M248.791,-216.417C252.299,-206.031 256.716,-192.325 260,-180 265.456,-159.518 270.412,-136.062 273.893,-118.373\" fill=\"none\" stroke=\"black\"/>\n",
       "<polygon fill=\"black\" points=\"277.401,-118.665 275.861,-108.183 270.528,-117.337 277.401,-118.665\" stroke=\"black\"/>\n",
       "</g>\n",
       "<!-- X14 -->\n",
       "<g class=\"node\" id=\"node15\"><title>X14</title>\n",
       "<ellipse cx=\"639\" cy=\"-162\" fill=\"none\" rx=\"27\" ry=\"18\" stroke=\"black\"/>\n",
       "<text font-family=\"Times,serif\" font-size=\"14.00\" text-anchor=\"middle\" x=\"639\" y=\"-158.3\">X14</text>\n",
       "</g>\n",
       "<!-- X14&#45;&gt;X11 -->\n",
       "<g class=\"edge\" id=\"edge14\"><title>X14-&gt;X11</title>\n",
       "<path d=\"M639,-143.697C639,-135.983 639,-126.712 639,-118.112\" fill=\"none\" stroke=\"black\"/>\n",
       "<polygon fill=\"black\" points=\"642.5,-118.104 639,-108.104 635.5,-118.104 642.5,-118.104\" stroke=\"black\"/>\n",
       "</g>\n",
       "<!-- X15 -->\n",
       "<g class=\"node\" id=\"node16\"><title>X15</title>\n",
       "<ellipse cx=\"549\" cy=\"-162\" fill=\"none\" rx=\"27\" ry=\"18\" stroke=\"black\"/>\n",
       "<text font-family=\"Times,serif\" font-size=\"14.00\" text-anchor=\"middle\" x=\"549\" y=\"-158.3\">X15</text>\n",
       "</g>\n",
       "<!-- X15&#45;&gt;X12 -->\n",
       "<g class=\"edge\" id=\"edge2\"><title>X15-&gt;X12</title>\n",
       "<path d=\"M553.357,-144.055C555.391,-136.145 557.861,-126.54 560.137,-117.688\" fill=\"none\" stroke=\"black\"/>\n",
       "<polygon fill=\"black\" points=\"563.582,-118.346 562.683,-107.789 556.803,-116.602 563.582,-118.346\" stroke=\"black\"/>\n",
       "</g>\n",
       "<!-- X19 -->\n",
       "<g class=\"node\" id=\"node20\"><title>X19</title>\n",
       "<ellipse cx=\"495\" cy=\"-90\" fill=\"none\" rx=\"27\" ry=\"18\" stroke=\"black\"/>\n",
       "<text font-family=\"Times,serif\" font-size=\"14.00\" text-anchor=\"middle\" x=\"495\" y=\"-86.3\">X19</text>\n",
       "</g>\n",
       "<!-- X15&#45;&gt;X19 -->\n",
       "<g class=\"edge\" id=\"edge11\"><title>X15-&gt;X19</title>\n",
       "<path d=\"M537.016,-145.465C530.024,-136.402 521.064,-124.786 513.215,-114.612\" fill=\"none\" stroke=\"black\"/>\n",
       "<polygon fill=\"black\" points=\"515.83,-112.272 506.951,-106.492 510.288,-116.548 515.83,-112.272\" stroke=\"black\"/>\n",
       "</g>\n",
       "<!-- X16 -->\n",
       "<g class=\"node\" id=\"node17\"><title>X16</title>\n",
       "<ellipse cx=\"783\" cy=\"-234\" fill=\"none\" rx=\"27\" ry=\"18\" stroke=\"black\"/>\n",
       "<text font-family=\"Times,serif\" font-size=\"14.00\" text-anchor=\"middle\" x=\"783\" y=\"-230.3\">X16</text>\n",
       "</g>\n",
       "<!-- X17 -->\n",
       "<g class=\"node\" id=\"node18\"><title>X17</title>\n",
       "<ellipse cx=\"441\" cy=\"-162\" fill=\"none\" rx=\"27\" ry=\"18\" stroke=\"black\"/>\n",
       "<text font-family=\"Times,serif\" font-size=\"14.00\" text-anchor=\"middle\" x=\"441\" y=\"-158.3\">X17</text>\n",
       "</g>\n",
       "<!-- X17&#45;&gt;X10 -->\n",
       "<g class=\"edge\" id=\"edge3\"><title>X17-&gt;X10</title>\n",
       "<path d=\"M436.643,-144.055C434.609,-136.145 432.139,-126.54 429.863,-117.688\" fill=\"none\" stroke=\"black\"/>\n",
       "<polygon fill=\"black\" points=\"433.197,-116.602 427.317,-107.789 426.418,-118.346 433.197,-116.602\" stroke=\"black\"/>\n",
       "</g>\n",
       "<!-- X17&#45;&gt;X19 -->\n",
       "<g class=\"edge\" id=\"edge8\"><title>X17-&gt;X19</title>\n",
       "<path d=\"M452.984,-145.465C459.976,-136.402 468.936,-124.786 476.785,-114.612\" fill=\"none\" stroke=\"black\"/>\n",
       "<polygon fill=\"black\" points=\"479.712,-116.548 483.049,-106.492 474.17,-112.272 479.712,-116.548\" stroke=\"black\"/>\n",
       "</g>\n",
       "<!-- X18 -->\n",
       "<g class=\"node\" id=\"node19\"><title>X18</title>\n",
       "<ellipse cx=\"639\" cy=\"-234\" fill=\"none\" rx=\"27\" ry=\"18\" stroke=\"black\"/>\n",
       "<text font-family=\"Times,serif\" font-size=\"14.00\" text-anchor=\"middle\" x=\"639\" y=\"-230.3\">X18</text>\n",
       "</g>\n",
       "<!-- X18&#45;&gt;X14 -->\n",
       "<g class=\"edge\" id=\"edge5\"><title>X18-&gt;X14</title>\n",
       "<path d=\"M639,-215.697C639,-207.983 639,-198.712 639,-190.112\" fill=\"none\" stroke=\"black\"/>\n",
       "<polygon fill=\"black\" points=\"642.5,-190.104 639,-180.104 635.5,-190.104 642.5,-190.104\" stroke=\"black\"/>\n",
       "</g>\n",
       "</g>\n",
       "</svg>"
      ],
      "text/plain": [
       "<IPython.core.display.SVG object>"
      ]
     },
     "execution_count": 7,
     "metadata": {},
     "output_type": "execute_result"
    }
   ],
   "source": [
    "dot = bayesEst.getDot()\n",
    "svg_str = dot.create_svg(prog='dot')\n",
    "SVG(svg_str)"
   ]
  },
  {
   "cell_type": "code",
   "execution_count": 8,
   "metadata": {
    "collapsed": false
   },
   "outputs": [
    {
     "data": {
      "text/plain": [
       "Instance of edu.cmu.tetrad.graph.Dag: Graph Nodes:\n",
       "X0,X1,X2,X3,X4,X5,X6,X7,X8,X9,X10,X11,X12,X13,X14,X15,X16,X17,X18,X19\n",
       "\n",
       "Graph Edges:\n",
       "1. X10 --> X4\n",
       "2. X11 --> X4\n",
       "3. X13 --> X6\n",
       "4. X13 --> X7\n",
       "5. X14 --> X11\n",
       "6. X15 --> X12\n",
       "7. X15 --> X19\n",
       "8. X17 --> X10\n",
       "9. X17 --> X19\n",
       "10. X18 --> X14\n",
       "11. X3 --> X7\n",
       "12. X6 --> X7\n",
       "13. X8 --> X4\n",
       "14. X9 --> X3"
      ]
     },
     "execution_count": 8,
     "metadata": {},
     "output_type": "execute_result"
    }
   ],
   "source": [
    "bayesEst.getDag()"
   ]
  },
  {
   "cell_type": "code",
   "execution_count": 9,
   "metadata": {
    "collapsed": false
   },
   "outputs": [
    {
     "data": {
      "text/plain": [
       "Instance of edu.cmu.tetrad.bayes.BayesPm: \n",
       "X4: 0, 1, 2\n",
       "X8: 0, 1, 2\n",
       "X11: 0, 1, 2\n",
       "X13: 0, 1, 2\n",
       "X12: 0, 1, 2\n",
       "X10: 0, 1, 2\n",
       "X7: 0, 1, 2\n",
       "X16: 0, 1, 2\n",
       "X6: 0, 1, 2\n",
       "X17: 0, 1, 2\n",
       "X1: 0, 1, 2\n",
       "X0: 0, 1, 2\n",
       "X14: 0, 1, 2\n",
       "X9: 0, 1, 2\n",
       "X3: 0, 1, 2\n",
       "X15: 0, 1, 2\n",
       "X18: 0, 1, 2\n",
       "X2: 0, 1, 2\n",
       "X5: 0, 1, 2\n",
       "X19: 0, 1, 2"
      ]
     },
     "execution_count": 9,
     "metadata": {},
     "output_type": "execute_result"
    }
   ],
   "source": [
    "bayesEst.getBayesPm()"
   ]
  },
  {
   "cell_type": "code",
   "execution_count": 10,
   "metadata": {
    "collapsed": false
   },
   "outputs": [
    {
     "data": {
      "text/plain": [
       "u'\\n\\nNode: X0\\n\\n0.0900\\t0.1700\\t0.7400\\t\\n\\nNode: X1\\n\\n0.9400\\t0.0500\\t0.0100\\t\\n\\nNode: X2\\n\\n0.7800\\t0.0900\\t0.1300\\t\\n\\nNode: X3\\n\\nX9\\t\\n0\\t0.0000\\t0.3077\\t0.6923\\t\\n1\\t0.1111\\t0.8148\\t0.0741\\t\\n2\\t0.8235\\t0.1176\\t0.0588\\t\\n\\nNode: X4\\n\\nX8\\tX10\\tX11\\t\\n0\\t0\\t0\\t\\ufffd\\t\\ufffd\\t\\ufffd\\t\\n0\\t0\\t1\\t\\ufffd\\t\\ufffd\\t\\ufffd\\t\\n0\\t0\\t2\\t\\ufffd\\t\\ufffd\\t\\ufffd\\t\\n0\\t1\\t0\\t\\ufffd\\t\\ufffd\\t\\ufffd\\t\\n0\\t1\\t1\\t\\ufffd\\t\\ufffd\\t\\ufffd\\t\\n0\\t1\\t2\\t\\ufffd\\t\\ufffd\\t\\ufffd\\t\\n0\\t2\\t0\\t\\ufffd\\t\\ufffd\\t\\ufffd\\t\\n0\\t2\\t1\\t\\ufffd\\t\\ufffd\\t\\ufffd\\t\\n0\\t2\\t2\\t0.0000\\t1.0000\\t0.0000\\t\\n1\\t0\\t0\\t1.0000\\t0.0000\\t0.0000\\t\\n1\\t0\\t1\\t0.3333\\t0.3333\\t0.3333\\t\\n1\\t0\\t2\\t1.0000\\t0.0000\\t0.0000\\t\\n1\\t1\\t0\\t\\ufffd\\t\\ufffd\\t\\ufffd\\t\\n1\\t1\\t1\\t0.0000\\t0.0000\\t1.0000\\t\\n1\\t1\\t2\\t0.2500\\t0.2500\\t0.5000\\t\\n1\\t2\\t0\\t1.0000\\t0.0000\\t0.0000\\t\\n1\\t2\\t1\\t1.0000\\t0.0000\\t0.0000\\t\\n1\\t2\\t2\\t1.0000\\t0.0000\\t0.0000\\t\\n2\\t0\\t0\\t\\ufffd\\t\\ufffd\\t\\ufffd\\t\\n2\\t0\\t1\\t\\ufffd\\t\\ufffd\\t\\ufffd\\t\\n2\\t0\\t2\\t0.8000\\t0.2000\\t0.0000\\t\\n2\\t1\\t0\\t0.5000\\t0.2500\\t0.2500\\t\\n2\\t1\\t1\\t\\ufffd\\t\\ufffd\\t\\ufffd\\t\\n2\\t1\\t2\\t0.3333\\t0.2222\\t0.4444\\t\\n2\\t2\\t0\\t1.0000\\t0.0000\\t0.0000\\t\\n2\\t2\\t1\\t0.0000\\t1.0000\\t0.0000\\t\\n2\\t2\\t2\\t0.9429\\t0.0000\\t0.0571\\t\\n\\nNode: X5\\n\\n0.5300\\t0.0500\\t0.4200\\t\\n\\nNode: X6\\n\\nX13\\t\\n0\\t0.0000\\t0.0169\\t0.9831\\t\\n1\\t0.0870\\t0.3478\\t0.5652\\t\\n2\\t0.2222\\t0.5556\\t0.2222\\t\\n\\nNode: X7\\n\\nX3\\tX6\\tX13\\t\\n0\\t0\\t0\\t\\ufffd\\t\\ufffd\\t\\ufffd\\t\\n0\\t0\\t1\\t1.0000\\t0.0000\\t0.0000\\t\\n0\\t0\\t2\\t0.0000\\t0.0000\\t1.0000\\t\\n0\\t1\\t0\\t0.0000\\t1.0000\\t0.0000\\t\\n0\\t1\\t1\\t0.5000\\t0.5000\\t0.0000\\t\\n0\\t1\\t2\\t0.3333\\t0.6667\\t0.0000\\t\\n0\\t2\\t0\\t0.0000\\t0.0000\\t1.0000\\t\\n0\\t2\\t1\\t\\ufffd\\t\\ufffd\\t\\ufffd\\t\\n0\\t2\\t2\\t\\ufffd\\t\\ufffd\\t\\ufffd\\t\\n1\\t0\\t0\\t\\ufffd\\t\\ufffd\\t\\ufffd\\t\\n1\\t0\\t1\\t\\ufffd\\t\\ufffd\\t\\ufffd\\t\\n1\\t0\\t2\\t1.0000\\t0.0000\\t0.0000\\t\\n1\\t1\\t0\\t\\ufffd\\t\\ufffd\\t\\ufffd\\t\\n1\\t1\\t1\\t1.0000\\t0.0000\\t0.0000\\t\\n1\\t1\\t2\\t0.5000\\t0.0000\\t0.5000\\t\\n1\\t2\\t0\\t0.7500\\t0.1000\\t0.1500\\t\\n1\\t2\\t1\\t0.5556\\t0.4444\\t0.0000\\t\\n1\\t2\\t2\\t1.0000\\t0.0000\\t0.0000\\t\\n2\\t0\\t0\\t\\ufffd\\t\\ufffd\\t\\ufffd\\t\\n2\\t0\\t1\\t\\ufffd\\t\\ufffd\\t\\ufffd\\t\\n2\\t0\\t2\\t0.0000\\t0.0000\\t1.0000\\t\\n2\\t1\\t0\\t\\ufffd\\t\\ufffd\\t\\ufffd\\t\\n2\\t1\\t1\\t0.0000\\t1.0000\\t0.0000\\t\\n2\\t1\\t2\\t0.0000\\t0.3333\\t0.6667\\t\\n2\\t2\\t0\\t0.2353\\t0.0000\\t0.7647\\t\\n2\\t2\\t1\\t0.5000\\t0.5000\\t0.0000\\t\\n2\\t2\\t2\\t1.0000\\t0.0000\\t0.0000\\t\\n\\nNode: X8\\n\\n0.0100\\t0.3600\\t0.6300\\t\\n\\nNode: X9\\n\\n0.3900\\t0.2700\\t0.3400\\t\\n\\nNode: X10\\n\\nX17\\t\\n0\\t0.1667\\t0.1667\\t0.6667\\t\\n1\\t0.2174\\t0.0000\\t0.7826\\t\\n2\\t0.2174\\t0.4348\\t0.3478\\t\\n\\nNode: X11\\n\\nX14\\t\\n0\\t0.4375\\t0.3125\\t0.2500\\t\\n1\\t0.0870\\t0.0652\\t0.8478\\t\\n2\\t0.0526\\t0.0000\\t0.9474\\t\\n\\nNode: X12\\n\\nX15\\t\\n0\\t0.0851\\t0.5957\\t0.3191\\t\\n1\\t0.3182\\t0.5000\\t0.1818\\t\\n2\\t0.3226\\t0.2581\\t0.4194\\t\\n\\nNode: X13\\n\\n0.5900\\t0.2300\\t0.1800\\t\\n\\nNode: X14\\n\\nX18\\t\\n0\\t0.1905\\t0.7143\\t0.0952\\t\\n1\\t0.0204\\t0.5918\\t0.3878\\t\\n2\\t0.3667\\t0.0667\\t0.5667\\t\\n\\nNode: X15\\n\\n0.4700\\t0.2200\\t0.3100\\t\\n\\nNode: X16\\n\\n0.4600\\t0.3700\\t0.1700\\t\\n\\nNode: X17\\n\\n0.5400\\t0.2300\\t0.2300\\t\\n\\nNode: X18\\n\\n0.2100\\t0.4900\\t0.3000\\t\\n\\nNode: X19\\n\\nX15\\tX17\\t\\n0\\t0\\t0.7778\\t0.0000\\t0.2222\\t\\n0\\t1\\t0.0000\\t0.4545\\t0.5455\\t\\n0\\t2\\t0.8889\\t0.1111\\t0.0000\\t\\n1\\t0\\t0.0000\\t0.0000\\t1.0000\\t\\n1\\t1\\t0.2857\\t0.0000\\t0.7143\\t\\n1\\t2\\t0.3333\\t0.5000\\t0.1667\\t\\n2\\t0\\t0.7222\\t0.2222\\t0.0556\\t\\n2\\t1\\t0.0000\\t1.0000\\t0.0000\\t\\n2\\t2\\t0.5000\\t0.3750\\t0.1250\\t\\n'"
      ]
     },
     "execution_count": 10,
     "metadata": {},
     "output_type": "execute_result"
    }
   ],
   "source": [
    "im = bayesEst.getBayesIm()\n",
    "im = im.toString()\n",
    "im"
   ]
  },
  {
   "cell_type": "markdown",
   "metadata": {
    "collapsed": true
   },
   "source": [
    "#### Stop Java VM"
   ]
  },
  {
   "cell_type": "code",
   "execution_count": 11,
   "metadata": {
    "collapsed": false
   },
   "outputs": [],
   "source": [
    "pc.stop_vm()"
   ]
  },
  {
   "cell_type": "code",
   "execution_count": null,
   "metadata": {
    "collapsed": true
   },
   "outputs": [],
   "source": []
  }
 ],
 "metadata": {
  "kernelspec": {
   "display_name": "Python 2",
   "language": "python",
   "name": "python2"
  },
  "language_info": {
   "codemirror_mode": {
    "name": "ipython",
    "version": 2
   },
   "file_extension": ".py",
   "mimetype": "text/x-python",
   "name": "python",
   "nbconvert_exporter": "python",
   "pygments_lexer": "ipython2",
   "version": "2.7.11"
  },
  "widgets": {
   "state": {},
   "version": "1.1.1"
  }
 },
 "nbformat": 4,
 "nbformat_minor": 0
}
