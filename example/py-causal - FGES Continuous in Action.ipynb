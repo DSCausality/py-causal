{
 "cells": [
  {
   "cell_type": "code",
   "execution_count": 1,
   "metadata": {
    "collapsed": true
   },
   "outputs": [],
   "source": [
    "import pandas as pd\n",
    "import pydot\n",
    "from IPython.display import SVG"
   ]
  },
  {
   "cell_type": "markdown",
   "metadata": {},
   "source": [
    "#### Load the example dataset"
   ]
  },
  {
   "cell_type": "code",
   "execution_count": 2,
   "metadata": {
    "collapsed": true
   },
   "outputs": [],
   "source": [
    "data_dir = \"https://raw.githubusercontent.com/bd2kccd/py-causal/master/data/charity.txt\"\n",
    "df = pd.read_table(data_dir, sep=\"\\t\")"
   ]
  },
  {
   "cell_type": "markdown",
   "metadata": {
    "collapsed": true
   },
   "source": [
    "#### Start Java VM"
   ]
  },
  {
   "cell_type": "code",
   "execution_count": 3,
   "metadata": {
    "collapsed": true
   },
   "outputs": [],
   "source": [
    "from pycausal.pycausal import pycausal as pc\n",
    "pc = pc()\n",
    "pc.start_vm()"
   ]
  },
  {
   "cell_type": "markdown",
   "metadata": {},
   "source": [
    "#### Create the Prior Knowledge Object"
   ]
  },
  {
   "cell_type": "code",
   "execution_count": 4,
   "metadata": {},
   "outputs": [
    {
     "data": {
      "text/plain": [
       "Instance of edu.cmu.tetrad.data.Knowledge2: /knowledge\n",
       "addtemporal\n",
       "\n",
       "0* Imaginability TangibilityCondition \n",
       "1 AmountDonated Sympathy \n",
       "2 Impact \n",
       "\n",
       "forbiddirect\n",
       "\n",
       "TangibilityCondition ==> Impact \n",
       "requiredirect\n",
       "\n",
       "Sympathy ==> TangibilityCondition "
      ]
     },
     "execution_count": 4,
     "metadata": {},
     "output_type": "execute_result"
    }
   ],
   "source": [
    "from pycausal import prior as p\n",
    "forbid = [['TangibilityCondition','Impact']]\n",
    "require =[['Sympathy','TangibilityCondition']]\n",
    "tempForbid = p.ForbiddenWithin(['TangibilityCondition','Imaginability'])\n",
    "temporal = [tempForbid,['Sympathy','AmountDonated'],['Impact']]\n",
    "prior = p.knowledge(forbiddirect = forbid, requiredirect = require, addtemporal = temporal)\n",
    "prior"
   ]
  },
  {
   "cell_type": "markdown",
   "metadata": {
    "collapsed": true
   },
   "source": [
    "#### Load causal algorithms from the py-causal library and Run FGES Continuous"
   ]
  },
  {
   "cell_type": "code",
   "execution_count": 5,
   "metadata": {},
   "outputs": [
    {
     "name": "stdout",
     "output_type": "stream",
     "text": [
      "FGES: \n",
      "\n",
      "It requires the score.\n",
      "\n",
      "It accepts the prior knowledge.\n"
     ]
    }
   ],
   "source": [
    "from pycausal import search as s\n",
    "tetrad = s.tetradrunner()\n",
    "tetrad.getAlgorithmDescription(algoId = 'fges')"
   ]
  },
  {
   "cell_type": "code",
   "execution_count": 6,
   "metadata": {
    "scrolled": true
   },
   "outputs": [
    {
     "name": "stdout",
     "output_type": "stream",
     "text": [
      "alpha: Cutoff for p values (alpha) (min = 0.0) (java.lang.Double) [default:0.01]\n",
      "faithfulnessAssumed: Yes if (one edge) faithfulness should be assumed (java.lang.Boolean) [default:true]\n",
      "symmetricFirstStep: Yes if the first step step for FGES should do scoring for both X->Y and Y->X (java.lang.Boolean) [default:false]\n",
      "maxDegree: The maximum degree of the graph (min = -1) (java.lang.Integer) [default:100]\n",
      "verbose: Yes if verbose output should be printed or logged (java.lang.Boolean) [default:false]\n",
      "bootstrapSampleSize: The number of bootstraps (min = 0) (java.lang.Integer) [default:0]\n",
      "bootstrapEnsemble: Ensemble method: Preserved (0), Highest (1), Majority (2) (java.lang.Integer) [default:1]\n"
     ]
    }
   ],
   "source": [
    "tetrad.getAlgorithmParameters(algoId = 'fges', scoreId = 'fisher-z')"
   ]
  },
  {
   "cell_type": "code",
   "execution_count": 7,
   "metadata": {
    "collapsed": true
   },
   "outputs": [],
   "source": [
    "tetrad.run(algoId = 'fges', dfs = df, priorKnowledge = prior,\n",
    "           alpha = 0.01, maxDegree = -1, faithfulnessAssumed = True, verbose = True)"
   ]
  },
  {
   "cell_type": "markdown",
   "metadata": {
    "collapsed": true
   },
   "source": [
    "#### FGES Continuous' Result's Nodes"
   ]
  },
  {
   "cell_type": "code",
   "execution_count": 8,
   "metadata": {},
   "outputs": [
    {
     "data": {
      "text/plain": [
       "['TangibilityCondition',\n",
       " 'AmountDonated',\n",
       " 'Sympathy',\n",
       " 'Imaginability',\n",
       " 'Impact']"
      ]
     },
     "execution_count": 8,
     "metadata": {},
     "output_type": "execute_result"
    }
   ],
   "source": [
    "tetrad.getNodes()"
   ]
  },
  {
   "cell_type": "markdown",
   "metadata": {},
   "source": [
    "#### FGES Continuous' Result's Edges"
   ]
  },
  {
   "cell_type": "code",
   "execution_count": 9,
   "metadata": {},
   "outputs": [
    {
     "data": {
      "text/plain": [
       "['Sympathy --> TangibilityCondition',\n",
       " 'Sympathy --> Impact',\n",
       " 'Sympathy --- AmountDonated']"
      ]
     },
     "execution_count": 9,
     "metadata": {},
     "output_type": "execute_result"
    }
   ],
   "source": [
    "tetrad.getEdges()"
   ]
  },
  {
   "cell_type": "markdown",
   "metadata": {},
   "source": [
    "#### Plot The Result's Graph"
   ]
  },
  {
   "cell_type": "code",
   "execution_count": 10,
   "metadata": {},
   "outputs": [
    {
     "data": {
      "image/svg+xml": [
       "<svg height=\"116pt\" viewBox=\"0.00 0.00 424.69 116.00\" width=\"425pt\" xmlns=\"http://www.w3.org/2000/svg\" xmlns:xlink=\"http://www.w3.org/1999/xlink\">\n",
       "<g class=\"graph\" id=\"graph0\" transform=\"scale(1 1) rotate(0) translate(4 112)\">\n",
       "<title>G</title>\n",
       "<polygon fill=\"white\" points=\"-4,4 -4,-112 420.686,-112 420.686,4 -4,4\" stroke=\"none\"/>\n",
       "<!-- Sympathy -->\n",
       "<g class=\"node\" id=\"node1\"><title>Sympathy</title>\n",
       "<ellipse cx=\"192.544\" cy=\"-90\" fill=\"none\" rx=\"46.5926\" ry=\"18\" stroke=\"black\"/>\n",
       "<text font-family=\"Times,serif\" font-size=\"14.00\" text-anchor=\"middle\" x=\"192.544\" y=\"-86.3\">Sympathy</text>\n",
       "</g>\n",
       "<!-- AmountDonated -->\n",
       "<g class=\"node\" id=\"node2\"><title>AmountDonated</title>\n",
       "<ellipse cx=\"69.5438\" cy=\"-18\" fill=\"none\" rx=\"69.5877\" ry=\"18\" stroke=\"black\"/>\n",
       "<text font-family=\"Times,serif\" font-size=\"14.00\" text-anchor=\"middle\" x=\"69.5438\" y=\"-14.3\">AmountDonated</text>\n",
       "</g>\n",
       "<!-- Sympathy&#45;&gt;AmountDonated -->\n",
       "<g class=\"edge\" id=\"edge1\"><title>Sympathy-&gt;AmountDonated</title>\n",
       "<path d=\"M167.356,-74.6655C146.974,-63.0659 118.301,-46.7481 97.2684,-34.7782\" fill=\"none\" stroke=\"black\"/>\n",
       "</g>\n",
       "<!-- Impact -->\n",
       "<g class=\"node\" id=\"node3\"><title>Impact</title>\n",
       "<ellipse cx=\"192.544\" cy=\"-18\" fill=\"none\" rx=\"35.9954\" ry=\"18\" stroke=\"black\"/>\n",
       "<text font-family=\"Times,serif\" font-size=\"14.00\" text-anchor=\"middle\" x=\"192.544\" y=\"-14.3\">Impact</text>\n",
       "</g>\n",
       "<!-- Sympathy&#45;&gt;Impact -->\n",
       "<g class=\"edge\" id=\"edge2\"><title>Sympathy-&gt;Impact</title>\n",
       "<path d=\"M192.544,-71.6966C192.544,-63.9827 192.544,-54.7125 192.544,-46.1124\" fill=\"none\" stroke=\"black\"/>\n",
       "<polygon fill=\"black\" points=\"196.044,-46.1043 192.544,-36.1043 189.044,-46.1044 196.044,-46.1043\" stroke=\"black\"/>\n",
       "</g>\n",
       "<!-- TangibilityCondition -->\n",
       "<g class=\"node\" id=\"node4\"><title>TangibilityCondition</title>\n",
       "<ellipse cx=\"331.544\" cy=\"-18\" fill=\"none\" rx=\"85.2851\" ry=\"18\" stroke=\"black\"/>\n",
       "<text font-family=\"Times,serif\" font-size=\"14.00\" text-anchor=\"middle\" x=\"331.544\" y=\"-14.3\">TangibilityCondition</text>\n",
       "</g>\n",
       "<!-- Sympathy&#45;&gt;TangibilityCondition -->\n",
       "<g class=\"edge\" id=\"edge3\"><title>Sympathy-&gt;TangibilityCondition</title>\n",
       "<path d=\"M220.006,-75.1703C240.311,-64.9447 268.284,-50.8573 291.137,-39.3488\" fill=\"none\" stroke=\"black\"/>\n",
       "<polygon fill=\"black\" points=\"292.9,-42.3796 300.257,-34.7557 289.752,-36.1276 292.9,-42.3796\" stroke=\"black\"/>\n",
       "</g>\n",
       "</g>\n",
       "</svg>"
      ],
      "text/plain": [
       "<IPython.core.display.SVG object>"
      ]
     },
     "execution_count": 10,
     "metadata": {},
     "output_type": "execute_result"
    }
   ],
   "source": [
    "dot = tetrad.getDot()\n",
    "svg_str = dot.create_svg(prog='dot')\n",
    "SVG(svg_str)"
   ]
  },
  {
   "cell_type": "markdown",
   "metadata": {
    "collapsed": true
   },
   "source": [
    "#### Stop Java VM"
   ]
  },
  {
   "cell_type": "code",
   "execution_count": 11,
   "metadata": {
    "collapsed": true
   },
   "outputs": [],
   "source": [
    "pc.stop_vm()"
   ]
  },
  {
   "cell_type": "code",
   "execution_count": null,
   "metadata": {
    "collapsed": true
   },
   "outputs": [],
   "source": []
  }
 ],
 "metadata": {
  "kernelspec": {
   "display_name": "Python 3",
   "language": "python",
   "name": "python3"
  },
  "language_info": {
   "codemirror_mode": {
    "name": "ipython",
    "version": 3
   },
   "file_extension": ".py",
   "mimetype": "text/x-python",
   "name": "python",
   "nbconvert_exporter": "python",
   "pygments_lexer": "ipython3",
   "version": "3.6.1"
  }
 },
 "nbformat": 4,
 "nbformat_minor": 1
}
