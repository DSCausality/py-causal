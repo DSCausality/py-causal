{
 "cells": [
  {
   "cell_type": "code",
   "execution_count": 1,
   "metadata": {
    "collapsed": true
   },
   "outputs": [],
   "source": [
    "import pandas as pd\n",
    "import pydot\n",
    "from IPython.display import SVG"
   ]
  },
  {
   "cell_type": "markdown",
   "metadata": {},
   "source": [
    "#### Load the example dataset"
   ]
  },
  {
   "cell_type": "code",
   "execution_count": 2,
   "metadata": {
    "collapsed": true
   },
   "outputs": [],
   "source": [
    "data_dir = \"https://raw.githubusercontent.com/bd2kccd/py-causal/master/data/audiology.txt\"\n",
    "df = pd.read_table(data_dir, sep=\"\\t\")"
   ]
  },
  {
   "cell_type": "markdown",
   "metadata": {
    "collapsed": true
   },
   "source": [
    "#### Start Java VM"
   ]
  },
  {
   "cell_type": "code",
   "execution_count": 3,
   "metadata": {
    "collapsed": true
   },
   "outputs": [],
   "source": [
    "from pycausal.pycausal import pycausal as pc\n",
    "pc = pc()\n",
    "pc.start_vm(java_max_heap_size = '100M')"
   ]
  },
  {
   "cell_type": "markdown",
   "metadata": {},
   "source": [
    "#### Create the Prior Knowledge Object"
   ]
  },
  {
   "cell_type": "code",
   "execution_count": 4,
   "metadata": {},
   "outputs": [
    {
     "data": {
      "text/plain": [
       "Instance of edu.cmu.tetrad.data.Knowledge2: /knowledge\n",
       "addtemporal\n",
       "\n",
       "0* class history_fluctuating history_noise \n",
       "\n",
       "forbiddirect\n",
       "\n",
       "history_fluctuating ==> class \n",
       "history_noise ==> class \n",
       "requiredirect\n"
      ]
     },
     "execution_count": 4,
     "metadata": {},
     "output_type": "execute_result"
    }
   ],
   "source": [
    "from pycausal import prior as p\n",
    "forbid = [['history_noise','class'],['history_fluctuating','class']]\n",
    "tempForbid = p.ForbiddenWithin(\n",
    "    ['class','history_fluctuating','history_noise'])\n",
    "temporal = [tempForbid]\n",
    "prior = p.knowledge(forbiddirect = forbid, addtemporal = temporal)\n",
    "prior"
   ]
  },
  {
   "cell_type": "markdown",
   "metadata": {
    "collapsed": true
   },
   "source": [
    "#### Load causal algorithms from the py-causal library and Run RFCI Discrete"
   ]
  },
  {
   "cell_type": "code",
   "execution_count": 5,
   "metadata": {},
   "outputs": [
    {
     "name": "stdout",
     "output_type": "stream",
     "text": [
      "samplePrior: Sample prior (min = 1.0) (java.lang.Double) [default:1.0]\n",
      "structurePrior: Structure prior coefficient (min = 1.0) (java.lang.Double) [default:1.0]\n",
      "depth: Maximum size of conditioning set (unlimited = -1) (java.lang.Integer) [default:-1]\n",
      "maxPathLength: The maximum length for any discriminating path. -1 if unlimited (min = -1) (java.lang.Integer) [default:-1]\n",
      "completeRuleSetUsed: Yes if the complete FCI rule set should be used (java.lang.Boolean) [default:false]\n",
      "bootstrapSampleSize: The number of bootstraps (min = 0) (java.lang.Integer) [default:0]\n",
      "bootstrapEnsemble: Ensemble method: Preserved (0), Highest (1), Majority (2) (java.lang.Integer) [default:1]\n",
      "verbose: Yes if verbose output should be printed or logged (java.lang.Boolean) [default:false]\n"
     ]
    }
   ],
   "source": [
    "from pycausal import search as s\n",
    "tetrad = s.tetradrunner()\n",
    "tetrad.getAlgorithmParameters(algoId = 'rfci', testId = 'bdeu')"
   ]
  },
  {
   "cell_type": "code",
   "execution_count": 6,
   "metadata": {
    "collapsed": true
   },
   "outputs": [],
   "source": [
    "tetrad.run(algoId = 'rfci', dfs = df, testId = 'bdeu', priorKnowledge = prior, dataType = 'discrete',\n",
    "           structurePrior = 1.0, samplePrior = 1.0, depth = 3, maxPathLength = -1, \n",
    "           completeRuleSetUsed = True, verbose = True)"
   ]
  },
  {
   "cell_type": "markdown",
   "metadata": {
    "collapsed": true
   },
   "source": [
    "#### RFCI Discrete's Result's Nodes"
   ]
  },
  {
   "cell_type": "code",
   "execution_count": 7,
   "metadata": {},
   "outputs": [
    {
     "data": {
      "text/plain": [
       "['age_gt_60',\n",
       " 'air',\n",
       " 'airBoneGap',\n",
       " 'ar_c',\n",
       " 'ar_u',\n",
       " 'bone',\n",
       " 'boneAbnormal',\n",
       " 'bser',\n",
       " 'history_buzzing',\n",
       " 'history_dizziness',\n",
       " 'history_fluctuating',\n",
       " 'history_fullness',\n",
       " 'history_heredity',\n",
       " 'history_nausea',\n",
       " 'history_noise',\n",
       " 'history_recruitment',\n",
       " 'history_ringing',\n",
       " 'history_roaring',\n",
       " 'history_vomiting',\n",
       " 'late_wave_poor',\n",
       " 'm_at_2k',\n",
       " 'm_cond_lt_1k',\n",
       " 'm_gt_1k',\n",
       " 'm_m_gt_2k',\n",
       " 'm_m_sn',\n",
       " 'm_m_sn_gt_1k',\n",
       " 'm_m_sn_gt_2k',\n",
       " 'm_m_sn_gt_500',\n",
       " 'm_p_sn_gt_2k',\n",
       " 'm_s_gt_500',\n",
       " 'm_s_sn',\n",
       " 'm_s_sn_gt_1k',\n",
       " 'm_s_sn_gt_2k',\n",
       " 'm_s_sn_gt_3k',\n",
       " 'm_s_sn_gt_4k',\n",
       " 'm_sn_2_3k',\n",
       " 'm_sn_gt_1k',\n",
       " 'm_sn_gt_2k',\n",
       " 'm_sn_gt_3k',\n",
       " 'm_sn_gt_4k',\n",
       " 'm_sn_gt_500',\n",
       " 'm_sn_gt_6k',\n",
       " 'm_sn_lt_1k',\n",
       " 'm_sn_lt_2k',\n",
       " 'm_sn_lt_3k',\n",
       " 'middle_wave_poor',\n",
       " 'mod_gt_4k',\n",
       " 'mod_mixed',\n",
       " 'mod_s_mixed',\n",
       " 'mod_s_sn_gt_500',\n",
       " 'mod_sn',\n",
       " 'mod_sn_gt_1k',\n",
       " 'mod_sn_gt_2k',\n",
       " 'mod_sn_gt_3k',\n",
       " 'mod_sn_gt_4k',\n",
       " 'mod_sn_gt_500',\n",
       " 'notch_4k',\n",
       " 'notch_at_4k',\n",
       " 'o_ar_c',\n",
       " 'o_ar_u',\n",
       " 's_sn_gt_1k',\n",
       " 's_sn_gt_2k',\n",
       " 's_sn_gt_4k',\n",
       " 'speech',\n",
       " 'static_normal',\n",
       " 'tymp',\n",
       " 'viith_nerve_signs',\n",
       " 'wave_V_delayed',\n",
       " 'waveform_ItoV_prolonged',\n",
       " 'indentifier',\n",
       " 'class']"
      ]
     },
     "execution_count": 7,
     "metadata": {},
     "output_type": "execute_result"
    }
   ],
   "source": [
    "tetrad.getNodes()"
   ]
  },
  {
   "cell_type": "markdown",
   "metadata": {},
   "source": [
    "#### RFCI Discrete's Result's Edges"
   ]
  },
  {
   "cell_type": "code",
   "execution_count": 8,
   "metadata": {},
   "outputs": [
    {
     "data": {
      "text/plain": [
       "['m_sn_lt_1k o-o history_fluctuating',\n",
       " 'tymp o-> class',\n",
       " 's_sn_gt_2k o-o history_heredity',\n",
       " 'age_gt_60 o-> class',\n",
       " 'notch_4k o-o m_m_sn_gt_2k',\n",
       " 'history_roaring o-o history_nausea']"
      ]
     },
     "execution_count": 8,
     "metadata": {},
     "output_type": "execute_result"
    }
   ],
   "source": [
    "tetrad.getEdges()"
   ]
  },
  {
   "cell_type": "markdown",
   "metadata": {},
   "source": [
    "#### Plot The Result's Graph"
   ]
  },
  {
   "cell_type": "code",
   "execution_count": 9,
   "metadata": {},
   "outputs": [
    {
     "data": {
      "image/svg+xml": [
       "<svg height=\"116pt\" viewBox=\"0.00 0.00 804.69 116.00\" width=\"805pt\" xmlns=\"http://www.w3.org/2000/svg\" xmlns:xlink=\"http://www.w3.org/1999/xlink\">\n",
       "<g class=\"graph\" id=\"graph0\" transform=\"scale(1 1) rotate(0) translate(4 112)\">\n",
       "<title>G</title>\n",
       "<polygon fill=\"white\" points=\"-4,4 -4,-112 800.69,-112 800.69,4 -4,4\" stroke=\"none\"/>\n",
       "<!-- age_gt_60 -->\n",
       "<g class=\"node\" id=\"node1\"><title>age_gt_60</title>\n",
       "<ellipse cx=\"47.4458\" cy=\"-90\" fill=\"none\" rx=\"47.3916\" ry=\"18\" stroke=\"black\"/>\n",
       "<text font-family=\"Times,serif\" font-size=\"14.00\" text-anchor=\"middle\" x=\"47.4458\" y=\"-86.3\">age_gt_60</text>\n",
       "</g>\n",
       "<!-- class -->\n",
       "<g class=\"node\" id=\"node2\"><title>class</title>\n",
       "<ellipse cx=\"95.4458\" cy=\"-18\" fill=\"none\" rx=\"27.8951\" ry=\"18\" stroke=\"black\"/>\n",
       "<text font-family=\"Times,serif\" font-size=\"14.00\" text-anchor=\"middle\" x=\"95.4458\" y=\"-14.3\">class</text>\n",
       "</g>\n",
       "<!-- age_gt_60&#45;&gt;class -->\n",
       "<g class=\"edge\" id=\"edge1\"><title>age_gt_60-&gt;class</title>\n",
       "<path d=\"M63.4142,-65.7127C68.2758,-58.6229 73.6344,-50.8083 78.5548,-43.6327\" fill=\"none\" stroke=\"black\"/>\n",
       "<ellipse cx=\"61.0833\" cy=\"-69.1121\" fill=\"none\" rx=\"4.00002\" ry=\"4.00002\" stroke=\"black\"/>\n",
       "<polygon fill=\"black\" points=\"81.7137,-45.2148 84.4825,-34.9881 75.9406,-41.2561 81.7137,-45.2148\" stroke=\"black\"/>\n",
       "</g>\n",
       "<!-- history_roaring -->\n",
       "<g class=\"node\" id=\"node3\"><title>history_roaring</title>\n",
       "<ellipse cx=\"254.446\" cy=\"-90\" fill=\"none\" rx=\"64.9885\" ry=\"18\" stroke=\"black\"/>\n",
       "<text font-family=\"Times,serif\" font-size=\"14.00\" text-anchor=\"middle\" x=\"254.446\" y=\"-86.3\">history_roaring</text>\n",
       "</g>\n",
       "<!-- history_nausea -->\n",
       "<g class=\"node\" id=\"node4\"><title>history_nausea</title>\n",
       "<ellipse cx=\"254.446\" cy=\"-18\" fill=\"none\" rx=\"63.8893\" ry=\"18\" stroke=\"black\"/>\n",
       "<text font-family=\"Times,serif\" font-size=\"14.00\" text-anchor=\"middle\" x=\"254.446\" y=\"-14.3\">history_nausea</text>\n",
       "</g>\n",
       "<!-- history_roaring&#45;&gt;history_nausea -->\n",
       "<g class=\"edge\" id=\"edge2\"><title>history_roaring-&gt;history_nausea</title>\n",
       "<path d=\"M254.446,-63.6398C254.446,-57.348 254.446,-50.6053 254.446,-44.3156\" fill=\"none\" stroke=\"black\"/>\n",
       "<ellipse cx=\"254.446\" cy=\"-67.6966\" fill=\"none\" rx=\"4\" ry=\"4\" stroke=\"black\"/>\n",
       "<ellipse cx=\"254.446\" cy=\"-40.1043\" fill=\"none\" rx=\"4\" ry=\"4\" stroke=\"black\"/>\n",
       "</g>\n",
       "<!-- m_sn_lt_1k -->\n",
       "<g class=\"node\" id=\"node5\"><title>m_sn_lt_1k</title>\n",
       "<ellipse cx=\"413.446\" cy=\"-90\" fill=\"none\" rx=\"52.7911\" ry=\"18\" stroke=\"black\"/>\n",
       "<text font-family=\"Times,serif\" font-size=\"14.00\" text-anchor=\"middle\" x=\"413.446\" y=\"-86.3\">m_sn_lt_1k</text>\n",
       "</g>\n",
       "<!-- history_fluctuating -->\n",
       "<g class=\"node\" id=\"node6\"><title>history_fluctuating</title>\n",
       "<ellipse cx=\"413.446\" cy=\"-18\" fill=\"none\" rx=\"77.1866\" ry=\"18\" stroke=\"black\"/>\n",
       "<text font-family=\"Times,serif\" font-size=\"14.00\" text-anchor=\"middle\" x=\"413.446\" y=\"-14.3\">history_fluctuating</text>\n",
       "</g>\n",
       "<!-- m_sn_lt_1k&#45;&gt;history_fluctuating -->\n",
       "<g class=\"edge\" id=\"edge3\"><title>m_sn_lt_1k-&gt;history_fluctuating</title>\n",
       "<path d=\"M413.446,-63.6398C413.446,-57.348 413.446,-50.6053 413.446,-44.3156\" fill=\"none\" stroke=\"black\"/>\n",
       "<ellipse cx=\"413.446\" cy=\"-67.6966\" fill=\"none\" rx=\"4\" ry=\"4\" stroke=\"black\"/>\n",
       "<ellipse cx=\"413.446\" cy=\"-40.1043\" fill=\"none\" rx=\"4\" ry=\"4\" stroke=\"black\"/>\n",
       "</g>\n",
       "<!-- notch_4k -->\n",
       "<g class=\"node\" id=\"node7\"><title>notch_4k</title>\n",
       "<ellipse cx=\"575.446\" cy=\"-90\" fill=\"none\" rx=\"43.5923\" ry=\"18\" stroke=\"black\"/>\n",
       "<text font-family=\"Times,serif\" font-size=\"14.00\" text-anchor=\"middle\" x=\"575.446\" y=\"-86.3\">notch_4k</text>\n",
       "</g>\n",
       "<!-- m_m_sn_gt_2k -->\n",
       "<g class=\"node\" id=\"node8\"><title>m_m_sn_gt_2k</title>\n",
       "<ellipse cx=\"575.446\" cy=\"-18\" fill=\"none\" rx=\"66.0889\" ry=\"18\" stroke=\"black\"/>\n",
       "<text font-family=\"Times,serif\" font-size=\"14.00\" text-anchor=\"middle\" x=\"575.446\" y=\"-14.3\">m_m_sn_gt_2k</text>\n",
       "</g>\n",
       "<!-- notch_4k&#45;&gt;m_m_sn_gt_2k -->\n",
       "<g class=\"edge\" id=\"edge4\"><title>notch_4k-&gt;m_m_sn_gt_2k</title>\n",
       "<path d=\"M575.446,-63.6398C575.446,-57.348 575.446,-50.6053 575.446,-44.3156\" fill=\"none\" stroke=\"black\"/>\n",
       "<ellipse cx=\"575.446\" cy=\"-67.6966\" fill=\"none\" rx=\"4\" ry=\"4\" stroke=\"black\"/>\n",
       "<ellipse cx=\"575.446\" cy=\"-40.1043\" fill=\"none\" rx=\"4\" ry=\"4\" stroke=\"black\"/>\n",
       "</g>\n",
       "<!-- s_sn_gt_2k -->\n",
       "<g class=\"node\" id=\"node9\"><title>s_sn_gt_2k</title>\n",
       "<ellipse cx=\"728.446\" cy=\"-90\" fill=\"none\" rx=\"50.8918\" ry=\"18\" stroke=\"black\"/>\n",
       "<text font-family=\"Times,serif\" font-size=\"14.00\" text-anchor=\"middle\" x=\"728.446\" y=\"-86.3\">s_sn_gt_2k</text>\n",
       "</g>\n",
       "<!-- history_heredity -->\n",
       "<g class=\"node\" id=\"node10\"><title>history_heredity</title>\n",
       "<ellipse cx=\"728.446\" cy=\"-18\" fill=\"none\" rx=\"68.4888\" ry=\"18\" stroke=\"black\"/>\n",
       "<text font-family=\"Times,serif\" font-size=\"14.00\" text-anchor=\"middle\" x=\"728.446\" y=\"-14.3\">history_heredity</text>\n",
       "</g>\n",
       "<!-- s_sn_gt_2k&#45;&gt;history_heredity -->\n",
       "<g class=\"edge\" id=\"edge5\"><title>s_sn_gt_2k-&gt;history_heredity</title>\n",
       "<path d=\"M728.446,-63.6398C728.446,-57.348 728.446,-50.6053 728.446,-44.3156\" fill=\"none\" stroke=\"black\"/>\n",
       "<ellipse cx=\"728.446\" cy=\"-67.6966\" fill=\"none\" rx=\"4\" ry=\"4\" stroke=\"black\"/>\n",
       "<ellipse cx=\"728.446\" cy=\"-40.1043\" fill=\"none\" rx=\"4\" ry=\"4\" stroke=\"black\"/>\n",
       "</g>\n",
       "<!-- tymp -->\n",
       "<g class=\"node\" id=\"node11\"><title>tymp</title>\n",
       "<ellipse cx=\"142.446\" cy=\"-90\" fill=\"none\" rx=\"29.4969\" ry=\"18\" stroke=\"black\"/>\n",
       "<text font-family=\"Times,serif\" font-size=\"14.00\" text-anchor=\"middle\" x=\"142.446\" y=\"-86.3\">tymp</text>\n",
       "</g>\n",
       "<!-- tymp&#45;&gt;class -->\n",
       "<g class=\"edge\" id=\"edge6\"><title>tymp-&gt;class</title>\n",
       "<path d=\"M127.21,-66.3083C122.247,-58.9172 116.721,-50.687 111.688,-43.1904\" fill=\"none\" stroke=\"black\"/>\n",
       "<ellipse cx=\"129.551\" cy=\"-69.795\" fill=\"none\" rx=\"4.00002\" ry=\"4.00002\" stroke=\"black\"/>\n",
       "<polygon fill=\"black\" points=\"114.549,-41.1724 106.069,-34.8212 108.737,-45.0745 114.549,-41.1724\" stroke=\"black\"/>\n",
       "</g>\n",
       "</g>\n",
       "</svg>"
      ],
      "text/plain": [
       "<IPython.core.display.SVG object>"
      ]
     },
     "execution_count": 9,
     "metadata": {},
     "output_type": "execute_result"
    }
   ],
   "source": [
    "dot = tetrad.getDot()\n",
    "svg_str = dot.create_svg(prog='dot')\n",
    "SVG(svg_str)"
   ]
  },
  {
   "cell_type": "markdown",
   "metadata": {
    "collapsed": true
   },
   "source": [
    "#### Stop Java VM"
   ]
  },
  {
   "cell_type": "code",
   "execution_count": 10,
   "metadata": {
    "collapsed": true
   },
   "outputs": [],
   "source": [
    "pc.stop_vm()"
   ]
  },
  {
   "cell_type": "code",
   "execution_count": null,
   "metadata": {
    "collapsed": true
   },
   "outputs": [],
   "source": []
  }
 ],
 "metadata": {
  "kernelspec": {
   "display_name": "Python 3",
   "language": "python",
   "name": "python3"
  },
  "language_info": {
   "codemirror_mode": {
    "name": "ipython",
    "version": 3
   },
   "file_extension": ".py",
   "mimetype": "text/x-python",
   "name": "python",
   "nbconvert_exporter": "python",
   "pygments_lexer": "ipython3",
   "version": "3.6.1"
  },
  "widgets": {
   "state": {},
   "version": "1.1.1"
  }
 },
 "nbformat": 4,
 "nbformat_minor": 1
}
