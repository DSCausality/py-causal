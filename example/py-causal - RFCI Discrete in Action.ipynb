{
 "cells": [
  {
   "cell_type": "code",
   "execution_count": 1,
   "metadata": {},
   "outputs": [],
   "source": [
    "import pandas as pd"
   ]
  },
  {
   "cell_type": "markdown",
   "metadata": {},
   "source": [
    "#### Load the example dataset"
   ]
  },
  {
   "cell_type": "code",
   "execution_count": 2,
   "metadata": {},
   "outputs": [],
   "source": [
    "data_dir = \"https://raw.githubusercontent.com/bd2kccd/py-causal/master/data/audiology.txt\"\n",
    "df = pd.read_table(data_dir, sep=\"\\t\")"
   ]
  },
  {
   "cell_type": "markdown",
   "metadata": {
    "collapsed": true
   },
   "source": [
    "#### Start Java VM"
   ]
  },
  {
   "cell_type": "code",
   "execution_count": 3,
   "metadata": {},
   "outputs": [],
   "source": [
    "from pycausal.pycausal import pycausal as pc\n",
    "pc = pc()\n",
    "pc.start_vm(java_max_heap_size = '100M')"
   ]
  },
  {
   "cell_type": "markdown",
   "metadata": {},
   "source": [
    "#### Create the Prior Knowledge Object"
   ]
  },
  {
   "cell_type": "code",
   "execution_count": 4,
   "metadata": {},
   "outputs": [
    {
     "data": {
      "text/plain": [
       "Instance of edu.cmu.tetrad.data.Knowledge2: /knowledge\n",
       "addtemporal\n",
       "\n",
       "1*  class history_fluctuating history_noise\n",
       "\n",
       "forbiddirect\n",
       "\n",
       "requiredirect"
      ]
     },
     "execution_count": 4,
     "metadata": {},
     "output_type": "execute_result"
    }
   ],
   "source": [
    "from pycausal import prior as p\n",
    "forbid = [['history_noise','class'],['history_fluctuating','class']]\n",
    "tempForbid = p.ForbiddenWithin(\n",
    "    ['class','history_fluctuating','history_noise'])\n",
    "temporal = [tempForbid]\n",
    "prior = p.knowledge(forbiddirect = forbid, addtemporal = temporal)\n",
    "prior"
   ]
  },
  {
   "cell_type": "markdown",
   "metadata": {
    "collapsed": true
   },
   "source": [
    "#### Load causal algorithms from the py-causal library and Run RFCI Discrete"
   ]
  },
  {
   "cell_type": "code",
   "execution_count": 5,
   "metadata": {},
   "outputs": [
    {
     "name": "stdout",
     "output_type": "stream",
     "text": [
      "samplePrior: Sample prior (min = 1.0) (java.lang.Double) [default:1.0]\n",
      "structurePrior: Structure prior coefficient (min = 1.0) (java.lang.Double) [default:1.0]\n",
      "depth: Maximum size of conditioning set (unlimited = -1) (java.lang.Integer) [default:-1]\n",
      "maxPathLength: The maximum length for any discriminating path. -1 if unlimited (min = -1) (java.lang.Integer) [default:-1]\n",
      "completeRuleSetUsed: Yes if the complete FCI rule set should be used (java.lang.Boolean) [default:false]\n",
      "numberResampling: The number of bootstraps/resampling iterations (min = 0) (java.lang.Integer) [default:0]\n",
      "percentResampleSize: The percentage of resample size (min = 0.1) (java.lang.Integer) [default:100]\n",
      "resamplingWithReplacement: Yes, if sampling with replacement (bootstrapping) (java.lang.Boolean) [default:true]\n",
      "resamplingEnsemble: Ensemble method: Preserved (0), Highest (1), Majority (2) (java.lang.Integer) [default:1]\n",
      "addOriginalDataset: Yes, if adding an original dataset as another bootstrapping (java.lang.Boolean) [default:false]\n",
      "verbose: Yes if verbose output should be printed or logged (java.lang.Boolean) [default:true]\n"
     ]
    }
   ],
   "source": [
    "from pycausal import search as s\n",
    "tetrad = s.tetradrunner()\n",
    "tetrad.getAlgorithmParameters(algoId = 'rfci', testId = 'bdeu')"
   ]
  },
  {
   "cell_type": "code",
   "execution_count": 6,
   "metadata": {},
   "outputs": [],
   "source": [
    "tetrad.run(algoId = 'rfci', dfs = df, testId = 'bdeu', priorKnowledge = prior, dataType = 'discrete',\n",
    "           structurePrior = 1.0, samplePrior = 1.0, depth = 3, maxPathLength = -1, \n",
    "           completeRuleSetUsed = True, verbose = True)"
   ]
  },
  {
   "cell_type": "markdown",
   "metadata": {
    "collapsed": true
   },
   "source": [
    "#### RFCI Discrete's Result's Nodes"
   ]
  },
  {
   "cell_type": "code",
   "execution_count": 7,
   "metadata": {},
   "outputs": [
    {
     "data": {
      "text/plain": [
       "['age_gt_60',\n",
       " 'air',\n",
       " 'airBoneGap',\n",
       " 'ar_c',\n",
       " 'ar_u',\n",
       " 'bone',\n",
       " 'boneAbnormal',\n",
       " 'bser',\n",
       " 'history_buzzing',\n",
       " 'history_dizziness',\n",
       " 'history_fluctuating',\n",
       " 'history_fullness',\n",
       " 'history_heredity',\n",
       " 'history_nausea',\n",
       " 'history_noise',\n",
       " 'history_recruitment',\n",
       " 'history_ringing',\n",
       " 'history_roaring',\n",
       " 'history_vomiting',\n",
       " 'late_wave_poor',\n",
       " 'm_at_2k',\n",
       " 'm_cond_lt_1k',\n",
       " 'm_gt_1k',\n",
       " 'm_m_gt_2k',\n",
       " 'm_m_sn',\n",
       " 'm_m_sn_gt_1k',\n",
       " 'm_m_sn_gt_2k',\n",
       " 'm_m_sn_gt_500',\n",
       " 'm_p_sn_gt_2k',\n",
       " 'm_s_gt_500',\n",
       " 'm_s_sn',\n",
       " 'm_s_sn_gt_1k',\n",
       " 'm_s_sn_gt_2k',\n",
       " 'm_s_sn_gt_3k',\n",
       " 'm_s_sn_gt_4k',\n",
       " 'm_sn_2_3k',\n",
       " 'm_sn_gt_1k',\n",
       " 'm_sn_gt_2k',\n",
       " 'm_sn_gt_3k',\n",
       " 'm_sn_gt_4k',\n",
       " 'm_sn_gt_500',\n",
       " 'm_sn_gt_6k',\n",
       " 'm_sn_lt_1k',\n",
       " 'm_sn_lt_2k',\n",
       " 'm_sn_lt_3k',\n",
       " 'middle_wave_poor',\n",
       " 'mod_gt_4k',\n",
       " 'mod_mixed',\n",
       " 'mod_s_mixed',\n",
       " 'mod_s_sn_gt_500',\n",
       " 'mod_sn',\n",
       " 'mod_sn_gt_1k',\n",
       " 'mod_sn_gt_2k',\n",
       " 'mod_sn_gt_3k',\n",
       " 'mod_sn_gt_4k',\n",
       " 'mod_sn_gt_500',\n",
       " 'notch_4k',\n",
       " 'notch_at_4k',\n",
       " 'o_ar_c',\n",
       " 'o_ar_u',\n",
       " 's_sn_gt_1k',\n",
       " 's_sn_gt_2k',\n",
       " 's_sn_gt_4k',\n",
       " 'speech',\n",
       " 'static_normal',\n",
       " 'tymp',\n",
       " 'viith_nerve_signs',\n",
       " 'wave_V_delayed',\n",
       " 'waveform_ItoV_prolonged',\n",
       " 'indentifier',\n",
       " 'class']"
      ]
     },
     "execution_count": 7,
     "metadata": {},
     "output_type": "execute_result"
    }
   ],
   "source": [
    "tetrad.getNodes()"
   ]
  },
  {
   "cell_type": "markdown",
   "metadata": {},
   "source": [
    "#### RFCI Discrete's Result's Edges"
   ]
  },
  {
   "cell_type": "code",
   "execution_count": 8,
   "metadata": {},
   "outputs": [
    {
     "data": {
      "text/plain": [
       "['s_sn_gt_2k o-o history_heredity',\n",
       " 'waveform_ItoV_prolonged o-o static_normal',\n",
       " 'm_sn_gt_1k o-o history_recruitment',\n",
       " 'history_roaring o-o history_nausea',\n",
       " 'age_gt_60 o-> class',\n",
       " 'tymp o-> class',\n",
       " 'm_sn_lt_1k o-o history_fluctuating',\n",
       " 'o_ar_c o-o ar_c',\n",
       " 'wave_V_delayed o-o history_buzzing',\n",
       " 'middle_wave_poor o-o late_wave_poor',\n",
       " 'notch_4k o-o m_m_sn_gt_2k']"
      ]
     },
     "execution_count": 8,
     "metadata": {},
     "output_type": "execute_result"
    }
   ],
   "source": [
    "tetrad.getEdges()"
   ]
  },
  {
   "cell_type": "markdown",
   "metadata": {},
   "source": [
    "#### Plot The Result's Graph"
   ]
  },
  {
   "cell_type": "code",
   "execution_count": 9,
   "metadata": {},
   "outputs": [
    {
     "data": {
      "image/svg+xml": [
       "<svg height=\"188pt\" viewBox=\"0.00 0.00 1820.04 188.00\" width=\"1820pt\" xmlns=\"http://www.w3.org/2000/svg\" xmlns:xlink=\"http://www.w3.org/1999/xlink\">\n",
       "<g class=\"graph\" id=\"graph0\" transform=\"scale(1 1) rotate(0) translate(4 184)\">\n",
       "<title>g</title>\n",
       "<polygon fill=\"white\" points=\"-4,4 -4,-184 1816.04,-184 1816.04,4 -4,4\" stroke=\"none\"/>\n",
       "<!-- history_heredity -->\n",
       "<g class=\"node\" id=\"node1\"><title>history_heredity</title>\n",
       "<ellipse cx=\"87.0923\" cy=\"-162\" fill=\"none\" rx=\"87.1846\" ry=\"18\" stroke=\"black\"/>\n",
       "<text font-family=\"Times,serif\" font-size=\"14.00\" text-anchor=\"middle\" x=\"87.0923\" y=\"-158.3\">history_heredity</text>\n",
       "</g>\n",
       "<!-- s_sn_gt_2k -->\n",
       "<g class=\"node\" id=\"node2\"><title>s_sn_gt_2k</title>\n",
       "<ellipse cx=\"87.0923\" cy=\"-90\" fill=\"none\" rx=\"62.2891\" ry=\"18\" stroke=\"black\"/>\n",
       "<text font-family=\"Times,serif\" font-size=\"14.00\" text-anchor=\"middle\" x=\"87.0923\" y=\"-86.3\">s_sn_gt_2k</text>\n",
       "</g>\n",
       "<!-- history_heredity&#45;&gt;s_sn_gt_2k -->\n",
       "<g class=\"edge\" id=\"edge1\"><title>history_heredity-&gt;s_sn_gt_2k</title>\n",
       "<path d=\"M87.0923,-135.64C87.0923,-129.348 87.0923,-122.605 87.0923,-116.316\" fill=\"none\" stroke=\"black\"/>\n",
       "<ellipse cx=\"87.0923\" cy=\"-139.697\" fill=\"none\" rx=\"4\" ry=\"4\" stroke=\"black\"/>\n",
       "<ellipse cx=\"87.0923\" cy=\"-112.104\" fill=\"none\" rx=\"4\" ry=\"4\" stroke=\"black\"/>\n",
       "</g>\n",
       "<!-- static_normal -->\n",
       "<g class=\"node\" id=\"node3\"><title>static_normal</title>\n",
       "<ellipse cx=\"301.092\" cy=\"-162\" fill=\"none\" rx=\"74.9875\" ry=\"18\" stroke=\"black\"/>\n",
       "<text font-family=\"Times,serif\" font-size=\"14.00\" text-anchor=\"middle\" x=\"301.092\" y=\"-158.3\">static_normal</text>\n",
       "</g>\n",
       "<!-- waveform_ItoV_prolonged -->\n",
       "<g class=\"node\" id=\"node4\"><title>waveform_ItoV_prolonged</title>\n",
       "<ellipse cx=\"301.092\" cy=\"-90\" fill=\"none\" rx=\"133.477\" ry=\"18\" stroke=\"black\"/>\n",
       "<text font-family=\"Times,serif\" font-size=\"14.00\" text-anchor=\"middle\" x=\"301.092\" y=\"-86.3\">waveform_ItoV_prolonged</text>\n",
       "</g>\n",
       "<!-- static_normal&#45;&gt;waveform_ItoV_prolonged -->\n",
       "<g class=\"edge\" id=\"edge2\"><title>static_normal-&gt;waveform_ItoV_prolonged</title>\n",
       "<path d=\"M301.092,-135.64C301.092,-129.348 301.092,-122.605 301.092,-116.316\" fill=\"none\" stroke=\"black\"/>\n",
       "<ellipse cx=\"301.092\" cy=\"-139.697\" fill=\"none\" rx=\"4\" ry=\"4\" stroke=\"black\"/>\n",
       "<ellipse cx=\"301.092\" cy=\"-112.104\" fill=\"none\" rx=\"4\" ry=\"4\" stroke=\"black\"/>\n",
       "</g>\n",
       "<!-- history_recruitment -->\n",
       "<g class=\"node\" id=\"node5\"><title>history_recruitment</title>\n",
       "<ellipse cx=\"519.092\" cy=\"-162\" fill=\"none\" rx=\"104.782\" ry=\"18\" stroke=\"black\"/>\n",
       "<text font-family=\"Times,serif\" font-size=\"14.00\" text-anchor=\"middle\" x=\"519.092\" y=\"-158.3\">history_recruitment</text>\n",
       "</g>\n",
       "<!-- m_sn_gt_1k -->\n",
       "<g class=\"node\" id=\"node6\"><title>m_sn_gt_1k</title>\n",
       "<ellipse cx=\"519.092\" cy=\"-90\" fill=\"none\" rx=\"66.0889\" ry=\"18\" stroke=\"black\"/>\n",
       "<text font-family=\"Times,serif\" font-size=\"14.00\" text-anchor=\"middle\" x=\"519.092\" y=\"-86.3\">m_sn_gt_1k</text>\n",
       "</g>\n",
       "<!-- history_recruitment&#45;&gt;m_sn_gt_1k -->\n",
       "<g class=\"edge\" id=\"edge3\"><title>history_recruitment-&gt;m_sn_gt_1k</title>\n",
       "<path d=\"M519.092,-135.64C519.092,-129.348 519.092,-122.605 519.092,-116.316\" fill=\"none\" stroke=\"black\"/>\n",
       "<ellipse cx=\"519.092\" cy=\"-139.697\" fill=\"none\" rx=\"4\" ry=\"4\" stroke=\"black\"/>\n",
       "<ellipse cx=\"519.092\" cy=\"-112.104\" fill=\"none\" rx=\"4\" ry=\"4\" stroke=\"black\"/>\n",
       "</g>\n",
       "<!-- history_nausea -->\n",
       "<g class=\"node\" id=\"node7\"><title>history_nausea</title>\n",
       "<ellipse cx=\"723.092\" cy=\"-162\" fill=\"none\" rx=\"81.4863\" ry=\"18\" stroke=\"black\"/>\n",
       "<text font-family=\"Times,serif\" font-size=\"14.00\" text-anchor=\"middle\" x=\"723.092\" y=\"-158.3\">history_nausea</text>\n",
       "</g>\n",
       "<!-- history_roaring -->\n",
       "<g class=\"node\" id=\"node8\"><title>history_roaring</title>\n",
       "<ellipse cx=\"723.092\" cy=\"-90\" fill=\"none\" rx=\"82.5854\" ry=\"18\" stroke=\"black\"/>\n",
       "<text font-family=\"Times,serif\" font-size=\"14.00\" text-anchor=\"middle\" x=\"723.092\" y=\"-86.3\">history_roaring</text>\n",
       "</g>\n",
       "<!-- history_nausea&#45;&gt;history_roaring -->\n",
       "<g class=\"edge\" id=\"edge4\"><title>history_nausea-&gt;history_roaring</title>\n",
       "<path d=\"M723.092,-135.64C723.092,-129.348 723.092,-122.605 723.092,-116.316\" fill=\"none\" stroke=\"black\"/>\n",
       "<ellipse cx=\"723.092\" cy=\"-139.697\" fill=\"none\" rx=\"4\" ry=\"4\" stroke=\"black\"/>\n",
       "<ellipse cx=\"723.092\" cy=\"-112.104\" fill=\"none\" rx=\"4\" ry=\"4\" stroke=\"black\"/>\n",
       "</g>\n",
       "<!-- age_gt_60 -->\n",
       "<g class=\"node\" id=\"node9\"><title>age_gt_60</title>\n",
       "<ellipse cx=\"881.092\" cy=\"-162\" fill=\"none\" rx=\"58.4896\" ry=\"18\" stroke=\"black\"/>\n",
       "<text font-family=\"Times,serif\" font-size=\"14.00\" text-anchor=\"middle\" x=\"881.092\" y=\"-158.3\">age_gt_60</text>\n",
       "</g>\n",
       "<!-- class -->\n",
       "<g class=\"node\" id=\"node10\"><title>class</title>\n",
       "<ellipse cx=\"881.092\" cy=\"-90\" fill=\"none\" rx=\"34.394\" ry=\"18\" stroke=\"black\"/>\n",
       "<text font-family=\"Times,serif\" font-size=\"14.00\" text-anchor=\"middle\" x=\"881.092\" y=\"-86.3\">class</text>\n",
       "</g>\n",
       "<!-- age_gt_60&#45;&gt;class -->\n",
       "<g class=\"edge\" id=\"edge5\"><title>age_gt_60-&gt;class</title>\n",
       "<path d=\"M881.092,-135.64C881.092,-130.063 881.092,-124.132 881.092,-118.476\" fill=\"none\" stroke=\"black\"/>\n",
       "<ellipse cx=\"881.092\" cy=\"-139.697\" fill=\"none\" rx=\"4\" ry=\"4\" stroke=\"black\"/>\n",
       "<polygon fill=\"black\" points=\"884.592,-118.104 881.092,-108.104 877.592,-118.104 884.592,-118.104\" stroke=\"black\"/>\n",
       "</g>\n",
       "<!-- tymp -->\n",
       "<g class=\"node\" id=\"node11\"><title>tymp</title>\n",
       "<ellipse cx=\"881.092\" cy=\"-18\" fill=\"none\" rx=\"34.394\" ry=\"18\" stroke=\"black\"/>\n",
       "<text font-family=\"Times,serif\" font-size=\"14.00\" text-anchor=\"middle\" x=\"881.092\" y=\"-14.3\">tymp</text>\n",
       "</g>\n",
       "<!-- class&#45;&gt;tymp -->\n",
       "<g class=\"edge\" id=\"edge6\"><title>class-&gt;tymp</title>\n",
       "<path d=\"M881.092,-61.6651C881.092,-56.0139 881.092,-50.0823 881.092,-44.4995\" fill=\"none\" stroke=\"black\"/>\n",
       "<polygon fill=\"black\" points=\"877.592,-61.6966 881.092,-71.6966 884.592,-61.6967 877.592,-61.6966\" stroke=\"black\"/>\n",
       "<ellipse cx=\"881.092\" cy=\"-40.1043\" fill=\"none\" rx=\"4\" ry=\"4\" stroke=\"black\"/>\n",
       "</g>\n",
       "<!-- history_fluctuating -->\n",
       "<g class=\"node\" id=\"node12\"><title>history_fluctuating</title>\n",
       "<ellipse cx=\"1056.09\" cy=\"-162\" fill=\"none\" rx=\"98.5829\" ry=\"18\" stroke=\"black\"/>\n",
       "<text font-family=\"Times,serif\" font-size=\"14.00\" text-anchor=\"middle\" x=\"1056.09\" y=\"-158.3\">history_fluctuating</text>\n",
       "</g>\n",
       "<!-- m_sn_lt_1k -->\n",
       "<g class=\"node\" id=\"node13\"><title>m_sn_lt_1k</title>\n",
       "<ellipse cx=\"1056.09\" cy=\"-90\" fill=\"none\" rx=\"63.8893\" ry=\"18\" stroke=\"black\"/>\n",
       "<text font-family=\"Times,serif\" font-size=\"14.00\" text-anchor=\"middle\" x=\"1056.09\" y=\"-86.3\">m_sn_lt_1k</text>\n",
       "</g>\n",
       "<!-- history_fluctuating&#45;&gt;m_sn_lt_1k -->\n",
       "<g class=\"edge\" id=\"edge7\"><title>history_fluctuating-&gt;m_sn_lt_1k</title>\n",
       "<path d=\"M1056.09,-135.64C1056.09,-129.348 1056.09,-122.605 1056.09,-116.316\" fill=\"none\" stroke=\"black\"/>\n",
       "<ellipse cx=\"1056.09\" cy=\"-139.697\" fill=\"none\" rx=\"4\" ry=\"4\" stroke=\"black\"/>\n",
       "<ellipse cx=\"1056.09\" cy=\"-112.104\" fill=\"none\" rx=\"4\" ry=\"4\" stroke=\"black\"/>\n",
       "</g>\n",
       "<!-- ar_c -->\n",
       "<g class=\"node\" id=\"node14\"><title>ar_c</title>\n",
       "<ellipse cx=\"1203.09\" cy=\"-162\" fill=\"none\" rx=\"30.5947\" ry=\"18\" stroke=\"black\"/>\n",
       "<text font-family=\"Times,serif\" font-size=\"14.00\" text-anchor=\"middle\" x=\"1203.09\" y=\"-158.3\">ar_c</text>\n",
       "</g>\n",
       "<!-- o_ar_c -->\n",
       "<g class=\"node\" id=\"node15\"><title>o_ar_c</title>\n",
       "<ellipse cx=\"1203.09\" cy=\"-90\" fill=\"none\" rx=\"40.8928\" ry=\"18\" stroke=\"black\"/>\n",
       "<text font-family=\"Times,serif\" font-size=\"14.00\" text-anchor=\"middle\" x=\"1203.09\" y=\"-86.3\">o_ar_c</text>\n",
       "</g>\n",
       "<!-- ar_c&#45;&gt;o_ar_c -->\n",
       "<g class=\"edge\" id=\"edge8\"><title>ar_c-&gt;o_ar_c</title>\n",
       "<path d=\"M1203.09,-135.64C1203.09,-129.348 1203.09,-122.605 1203.09,-116.316\" fill=\"none\" stroke=\"black\"/>\n",
       "<ellipse cx=\"1203.09\" cy=\"-139.697\" fill=\"none\" rx=\"4\" ry=\"4\" stroke=\"black\"/>\n",
       "<ellipse cx=\"1203.09\" cy=\"-112.104\" fill=\"none\" rx=\"4\" ry=\"4\" stroke=\"black\"/>\n",
       "</g>\n",
       "<!-- history_buzzing -->\n",
       "<g class=\"node\" id=\"node16\"><title>history_buzzing</title>\n",
       "<ellipse cx=\"1349.09\" cy=\"-162\" fill=\"none\" rx=\"84.485\" ry=\"18\" stroke=\"black\"/>\n",
       "<text font-family=\"Times,serif\" font-size=\"14.00\" text-anchor=\"middle\" x=\"1349.09\" y=\"-158.3\">history_buzzing</text>\n",
       "</g>\n",
       "<!-- wave_V_delayed -->\n",
       "<g class=\"node\" id=\"node17\"><title>wave_V_delayed</title>\n",
       "<ellipse cx=\"1349.09\" cy=\"-90\" fill=\"none\" rx=\"87.1846\" ry=\"18\" stroke=\"black\"/>\n",
       "<text font-family=\"Times,serif\" font-size=\"14.00\" text-anchor=\"middle\" x=\"1349.09\" y=\"-86.3\">wave_V_delayed</text>\n",
       "</g>\n",
       "<!-- history_buzzing&#45;&gt;wave_V_delayed -->\n",
       "<g class=\"edge\" id=\"edge9\"><title>history_buzzing-&gt;wave_V_delayed</title>\n",
       "<path d=\"M1349.09,-135.64C1349.09,-129.348 1349.09,-122.605 1349.09,-116.316\" fill=\"none\" stroke=\"black\"/>\n",
       "<ellipse cx=\"1349.09\" cy=\"-139.697\" fill=\"none\" rx=\"4\" ry=\"4\" stroke=\"black\"/>\n",
       "<ellipse cx=\"1349.09\" cy=\"-112.104\" fill=\"none\" rx=\"4\" ry=\"4\" stroke=\"black\"/>\n",
       "</g>\n",
       "<!-- late_wave_poor -->\n",
       "<g class=\"node\" id=\"node18\"><title>late_wave_poor</title>\n",
       "<ellipse cx=\"1551.09\" cy=\"-162\" fill=\"none\" rx=\"83.3857\" ry=\"18\" stroke=\"black\"/>\n",
       "<text font-family=\"Times,serif\" font-size=\"14.00\" text-anchor=\"middle\" x=\"1551.09\" y=\"-158.3\">late_wave_poor</text>\n",
       "</g>\n",
       "<!-- middle_wave_poor -->\n",
       "<g class=\"node\" id=\"node19\"><title>middle_wave_poor</title>\n",
       "<ellipse cx=\"1551.09\" cy=\"-90\" fill=\"none\" rx=\"96.6831\" ry=\"18\" stroke=\"black\"/>\n",
       "<text font-family=\"Times,serif\" font-size=\"14.00\" text-anchor=\"middle\" x=\"1551.09\" y=\"-86.3\">middle_wave_poor</text>\n",
       "</g>\n",
       "<!-- late_wave_poor&#45;&gt;middle_wave_poor -->\n",
       "<g class=\"edge\" id=\"edge10\"><title>late_wave_poor-&gt;middle_wave_poor</title>\n",
       "<path d=\"M1551.09,-135.64C1551.09,-129.348 1551.09,-122.605 1551.09,-116.316\" fill=\"none\" stroke=\"black\"/>\n",
       "<ellipse cx=\"1551.09\" cy=\"-139.697\" fill=\"none\" rx=\"4\" ry=\"4\" stroke=\"black\"/>\n",
       "<ellipse cx=\"1551.09\" cy=\"-112.104\" fill=\"none\" rx=\"4\" ry=\"4\" stroke=\"black\"/>\n",
       "</g>\n",
       "<!-- m_m_sn_gt_2k -->\n",
       "<g class=\"node\" id=\"node20\"><title>m_m_sn_gt_2k</title>\n",
       "<ellipse cx=\"1732.09\" cy=\"-162\" fill=\"none\" rx=\"79.8859\" ry=\"18\" stroke=\"black\"/>\n",
       "<text font-family=\"Times,serif\" font-size=\"14.00\" text-anchor=\"middle\" x=\"1732.09\" y=\"-158.3\">m_m_sn_gt_2k</text>\n",
       "</g>\n",
       "<!-- notch_4k -->\n",
       "<g class=\"node\" id=\"node21\"><title>notch_4k</title>\n",
       "<ellipse cx=\"1732.09\" cy=\"-90\" fill=\"none\" rx=\"53.8905\" ry=\"18\" stroke=\"black\"/>\n",
       "<text font-family=\"Times,serif\" font-size=\"14.00\" text-anchor=\"middle\" x=\"1732.09\" y=\"-86.3\">notch_4k</text>\n",
       "</g>\n",
       "<!-- m_m_sn_gt_2k&#45;&gt;notch_4k -->\n",
       "<g class=\"edge\" id=\"edge11\"><title>m_m_sn_gt_2k-&gt;notch_4k</title>\n",
       "<path d=\"M1732.09,-135.64C1732.09,-129.348 1732.09,-122.605 1732.09,-116.316\" fill=\"none\" stroke=\"black\"/>\n",
       "<ellipse cx=\"1732.09\" cy=\"-139.697\" fill=\"none\" rx=\"4\" ry=\"4\" stroke=\"black\"/>\n",
       "<ellipse cx=\"1732.09\" cy=\"-112.104\" fill=\"none\" rx=\"4\" ry=\"4\" stroke=\"black\"/>\n",
       "</g>\n",
       "</g>\n",
       "</svg>"
      ],
      "text/plain": [
       "<IPython.core.display.SVG object>"
      ]
     },
     "execution_count": 9,
     "metadata": {},
     "output_type": "execute_result"
    }
   ],
   "source": [
    "import pydot\n",
    "from IPython.display import SVG\n",
    "dot_str = pc.tetradGraphToDot(tetrad.getTetradGraph())\n",
    "graphs = pydot.graph_from_dot_data(dot_str)\n",
    "svg_str = graphs[0].create_svg()\n",
    "SVG(svg_str)"
   ]
  },
  {
   "cell_type": "markdown",
   "metadata": {
    "collapsed": true
   },
   "source": [
    "#### Stop Java VM"
   ]
  },
  {
   "cell_type": "code",
   "execution_count": 10,
   "metadata": {},
   "outputs": [],
   "source": [
    "pc.stop_vm()"
   ]
  },
  {
   "cell_type": "code",
   "execution_count": null,
   "metadata": {},
   "outputs": [],
   "source": []
  }
 ],
 "metadata": {
  "kernelspec": {
   "display_name": "Python 3",
   "language": "python",
   "name": "python3"
  },
  "language_info": {
   "codemirror_mode": {
    "name": "ipython",
    "version": 3
   },
   "file_extension": ".py",
   "mimetype": "text/x-python",
   "name": "python",
   "nbconvert_exporter": "python",
   "pygments_lexer": "ipython3",
   "version": "3.5.4"
  },
  "widgets": {
   "state": {},
   "version": "1.1.1"
  }
 },
 "nbformat": 4,
 "nbformat_minor": 1
}
