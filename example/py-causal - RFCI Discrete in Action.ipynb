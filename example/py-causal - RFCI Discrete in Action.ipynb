{
 "cells": [
  {
   "cell_type": "code",
   "execution_count": 1,
   "metadata": {},
   "outputs": [],
   "source": [
    "import pandas as pd"
   ]
  },
  {
   "cell_type": "markdown",
   "metadata": {},
   "source": [
    "#### Load the example dataset"
   ]
  },
  {
   "cell_type": "code",
   "execution_count": 2,
   "metadata": {},
   "outputs": [],
   "source": [
    "data_dir = \"https://raw.githubusercontent.com/bd2kccd/py-causal/master/data/audiology.txt\"\n",
    "df = pd.read_table(data_dir, sep=\"\\t\")"
   ]
  },
  {
   "cell_type": "markdown",
   "metadata": {
    "collapsed": true
   },
   "source": [
    "#### Start Java VM"
   ]
  },
  {
   "cell_type": "code",
   "execution_count": 3,
   "metadata": {},
   "outputs": [],
   "source": [
    "from pycausal.pycausal import pycausal as pc\n",
    "pc = pc()\n",
    "pc.start_vm(java_max_heap_size = '100M')"
   ]
  },
  {
   "cell_type": "markdown",
   "metadata": {},
   "source": [
    "#### Create the Prior Knowledge Object"
   ]
  },
  {
   "cell_type": "code",
   "execution_count": 4,
   "metadata": {},
   "outputs": [
    {
     "data": {
      "text/plain": [
       "Instance of edu.cmu.tetrad.data.Knowledge2: /knowledge\n",
       "addtemporal\n",
       "\n",
       "1*  class history_fluctuating history_noise\n",
       "\n",
       "forbiddirect\n",
       "\n",
       "requiredirect"
      ]
     },
     "execution_count": 4,
     "metadata": {},
     "output_type": "execute_result"
    }
   ],
   "source": [
    "from pycausal import prior as p\n",
    "forbid = [['history_noise','class'],['history_fluctuating','class']]\n",
    "tempForbid = p.ForbiddenWithin(\n",
    "    ['class','history_fluctuating','history_noise'])\n",
    "temporal = [tempForbid]\n",
    "prior = p.knowledge(forbiddirect = forbid, addtemporal = temporal)\n",
    "prior"
   ]
  },
  {
   "cell_type": "markdown",
   "metadata": {
    "collapsed": true
   },
   "source": [
    "#### Load causal algorithms from the py-causal library and Run RFCI Discrete"
   ]
  },
  {
   "cell_type": "code",
   "execution_count": 5,
   "metadata": {},
   "outputs": [
    {
     "name": "stdout",
     "output_type": "stream",
     "text": [
      "bdeu-test\n",
      "cci-test\n",
      "cg-lr-test\n",
      "chi-square-test\n",
      "d-sep-test\n",
      "disc-bic-test\n",
      "fisher-z-test\n",
      "g-square-test\n",
      "kci-test\n",
      "mnlrlr-test\n",
      "mvplr-test\n",
      "prob-test\n"
     ]
    }
   ],
   "source": [
    "from pycausal import search as s\n",
    "tetrad = s.tetradrunner()\n",
    "tetrad.listIndTests()"
   ]
  },
  {
   "cell_type": "code",
   "execution_count": 6,
   "metadata": {},
   "outputs": [
    {
     "name": "stdout",
     "output_type": "stream",
     "text": [
      "depth: This variable is usually called “depth” for algorithms such as PC in which conditioning sets are considered of increasing size from zero up to some limit, called “depth”. For example, if depth = 3, conditioning sets will be considered of sizes 0, 1, 2, and 3. In order to express that no limit should be imposed, use the value -1. (java.lang.Integer) [default:-1]\n",
      "maxPathLength: See Spirtes, Glymour, and Scheines (2000), Causation, Prediction, and Search for the definition of discrimination path. Finding discriminating paths can be expensive. This sets the maximum length of such paths that the algorithm tries to find. (java.lang.Integer) [default:-1]\n",
      "completeRuleSetUsed: For the FCI algorithm, to final orientation rules sets are available, one due to P. Spirtes, guaranteeing arrow completeness, and a second due to J. Zhang, guaranteeing additional tail completeness. If this parameter is set to “Yes,” the tail-complete rule set will be used. (java.lang.Boolean) [default:false]\n",
      "verbose: If this parameter is set to ‘Yes’, extra (“verbose”) output will be printed if available giving some details about the step-by-step operation of the algorithm. (java.lang.Boolean) [default:true]\n"
     ]
    }
   ],
   "source": [
    "tetrad.getAlgorithmParameters(algoId = 'rfci', testId = 'chi-square-test')"
   ]
  },
  {
   "cell_type": "code",
   "execution_count": 7,
   "metadata": {},
   "outputs": [],
   "source": [
    "tetrad.run(algoId = 'rfci', dfs = df, testId = 'chi-square-test', priorKnowledge = prior, dataType = 'discrete',\n",
    "           depth = 3, maxPathLength = -1, \n",
    "           completeRuleSetUsed = True, verbose = True)"
   ]
  },
  {
   "cell_type": "markdown",
   "metadata": {
    "collapsed": true
   },
   "source": [
    "#### RFCI Discrete's Result's Nodes"
   ]
  },
  {
   "cell_type": "code",
   "execution_count": 8,
   "metadata": {},
   "outputs": [
    {
     "data": {
      "text/plain": [
       "['age_gt_60',\n",
       " 'air',\n",
       " 'airBoneGap',\n",
       " 'ar_c',\n",
       " 'ar_u',\n",
       " 'bone',\n",
       " 'boneAbnormal',\n",
       " 'bser',\n",
       " 'history_buzzing',\n",
       " 'history_dizziness',\n",
       " 'history_fluctuating',\n",
       " 'history_fullness',\n",
       " 'history_heredity',\n",
       " 'history_nausea',\n",
       " 'history_noise',\n",
       " 'history_recruitment',\n",
       " 'history_ringing',\n",
       " 'history_roaring',\n",
       " 'history_vomiting',\n",
       " 'late_wave_poor',\n",
       " 'm_at_2k',\n",
       " 'm_cond_lt_1k',\n",
       " 'm_gt_1k',\n",
       " 'm_m_gt_2k',\n",
       " 'm_m_sn',\n",
       " 'm_m_sn_gt_1k',\n",
       " 'm_m_sn_gt_2k',\n",
       " 'm_m_sn_gt_500',\n",
       " 'm_p_sn_gt_2k',\n",
       " 'm_s_gt_500',\n",
       " 'm_s_sn',\n",
       " 'm_s_sn_gt_1k',\n",
       " 'm_s_sn_gt_2k',\n",
       " 'm_s_sn_gt_3k',\n",
       " 'm_s_sn_gt_4k',\n",
       " 'm_sn_2_3k',\n",
       " 'm_sn_gt_1k',\n",
       " 'm_sn_gt_2k',\n",
       " 'm_sn_gt_3k',\n",
       " 'm_sn_gt_4k',\n",
       " 'm_sn_gt_500',\n",
       " 'm_sn_gt_6k',\n",
       " 'm_sn_lt_1k',\n",
       " 'm_sn_lt_2k',\n",
       " 'm_sn_lt_3k',\n",
       " 'middle_wave_poor',\n",
       " 'mod_gt_4k',\n",
       " 'mod_mixed',\n",
       " 'mod_s_mixed',\n",
       " 'mod_s_sn_gt_500',\n",
       " 'mod_sn',\n",
       " 'mod_sn_gt_1k',\n",
       " 'mod_sn_gt_2k',\n",
       " 'mod_sn_gt_3k',\n",
       " 'mod_sn_gt_4k',\n",
       " 'mod_sn_gt_500',\n",
       " 'notch_4k',\n",
       " 'notch_at_4k',\n",
       " 'o_ar_c',\n",
       " 'o_ar_u',\n",
       " 's_sn_gt_1k',\n",
       " 's_sn_gt_2k',\n",
       " 's_sn_gt_4k',\n",
       " 'speech',\n",
       " 'static_normal',\n",
       " 'tymp',\n",
       " 'viith_nerve_signs',\n",
       " 'wave_V_delayed',\n",
       " 'waveform_ItoV_prolonged',\n",
       " 'indentifier',\n",
       " 'class']"
      ]
     },
     "execution_count": 8,
     "metadata": {},
     "output_type": "execute_result"
    }
   ],
   "source": [
    "tetrad.getNodes()"
   ]
  },
  {
   "cell_type": "markdown",
   "metadata": {},
   "source": [
    "#### RFCI Discrete's Result's Edges"
   ]
  },
  {
   "cell_type": "code",
   "execution_count": 9,
   "metadata": {},
   "outputs": [
    {
     "data": {
      "text/plain": [
       "['o_ar_u o-o o_ar_c',\n",
       " 'history_heredity o-> s_sn_gt_2k',\n",
       " 'history_roaring o-o history_nausea',\n",
       " 'notch_at_4k o-> class',\n",
       " 'bone o-o air',\n",
       " 'speech o-o air',\n",
       " 'middle_wave_poor o-o late_wave_poor',\n",
       " 'o_ar_c o-> ar_u',\n",
       " 'history_nausea o-> history_dizziness',\n",
       " 'm_m_sn_gt_2k o-> notch_4k',\n",
       " 'm_sn_gt_1k o-o history_recruitment',\n",
       " 's_sn_gt_2k <-> static_normal',\n",
       " 'history_noise o-> notch_4k',\n",
       " 'static_normal <-> class',\n",
       " 'm_sn_lt_1k o-o history_fluctuating',\n",
       " 'speech o-o bone',\n",
       " 'bone o-> class',\n",
       " 'history_vomiting o-> history_dizziness',\n",
       " 'm_s_gt_500 o-> notch_4k',\n",
       " 'tymp o-> class',\n",
       " 'ar_c o-> ar_u',\n",
       " 'o_ar_u o-o ar_c',\n",
       " 'air o-> class',\n",
       " 'o_ar_u o-> ar_u',\n",
       " 'age_gt_60 o-> class',\n",
       " 'speech o-> class']"
      ]
     },
     "execution_count": 9,
     "metadata": {},
     "output_type": "execute_result"
    }
   ],
   "source": [
    "tetrad.getEdges()"
   ]
  },
  {
   "cell_type": "markdown",
   "metadata": {},
   "source": [
    "#### Plot The Result's Graph"
   ]
  },
  {
   "cell_type": "code",
   "execution_count": 10,
   "metadata": {},
   "outputs": [
    {
     "data": {
      "image/svg+xml": [
       "<svg height=\"260pt\" viewBox=\"0.00 0.00 2159.34 260.00\" width=\"2159pt\" xmlns=\"http://www.w3.org/2000/svg\" xmlns:xlink=\"http://www.w3.org/1999/xlink\">\n",
       "<g class=\"graph\" id=\"graph0\" transform=\"scale(1 1) rotate(0) translate(4 256)\">\n",
       "<title>g</title>\n",
       "<polygon fill=\"white\" points=\"-4,4 -4,-256 2155.34,-256 2155.34,4 -4,4\" stroke=\"none\"/>\n",
       "<!-- o_ar_c -->\n",
       "<g class=\"node\" id=\"node1\"><title>o_ar_c</title>\n",
       "<ellipse cx=\"65.5473\" cy=\"-90\" fill=\"none\" rx=\"40.8928\" ry=\"18\" stroke=\"black\"/>\n",
       "<text font-family=\"Times,serif\" font-size=\"14.00\" text-anchor=\"middle\" x=\"65.5473\" y=\"-86.3\">o_ar_c</text>\n",
       "</g>\n",
       "<!-- o_ar_u -->\n",
       "<g class=\"node\" id=\"node2\"><title>o_ar_u</title>\n",
       "<ellipse cx=\"65.5473\" cy=\"-18\" fill=\"none\" rx=\"41.6928\" ry=\"18\" stroke=\"black\"/>\n",
       "<text font-family=\"Times,serif\" font-size=\"14.00\" text-anchor=\"middle\" x=\"65.5473\" y=\"-14.3\">o_ar_u</text>\n",
       "</g>\n",
       "<!-- o_ar_c&#45;&gt;o_ar_u -->\n",
       "<g class=\"edge\" id=\"edge1\"><title>o_ar_c-&gt;o_ar_u</title>\n",
       "<path d=\"M65.5473,-63.6398C65.5473,-57.348 65.5473,-50.6053 65.5473,-44.3156\" fill=\"none\" stroke=\"black\"/>\n",
       "<ellipse cx=\"65.5473\" cy=\"-67.6966\" fill=\"none\" rx=\"4\" ry=\"4\" stroke=\"black\"/>\n",
       "<ellipse cx=\"65.5473\" cy=\"-40.1043\" fill=\"none\" rx=\"4\" ry=\"4\" stroke=\"black\"/>\n",
       "</g>\n",
       "<!-- history_heredity -->\n",
       "<g class=\"node\" id=\"node3\"><title>history_heredity</title>\n",
       "<ellipse cx=\"224.547\" cy=\"-162\" fill=\"none\" rx=\"87.1846\" ry=\"18\" stroke=\"black\"/>\n",
       "<text font-family=\"Times,serif\" font-size=\"14.00\" text-anchor=\"middle\" x=\"224.547\" y=\"-158.3\">history_heredity</text>\n",
       "</g>\n",
       "<!-- s_sn_gt_2k -->\n",
       "<g class=\"node\" id=\"node4\"><title>s_sn_gt_2k</title>\n",
       "<ellipse cx=\"224.547\" cy=\"-90\" fill=\"none\" rx=\"62.2891\" ry=\"18\" stroke=\"black\"/>\n",
       "<text font-family=\"Times,serif\" font-size=\"14.00\" text-anchor=\"middle\" x=\"224.547\" y=\"-86.3\">s_sn_gt_2k</text>\n",
       "</g>\n",
       "<!-- history_heredity&#45;&gt;s_sn_gt_2k -->\n",
       "<g class=\"edge\" id=\"edge2\"><title>history_heredity-&gt;s_sn_gt_2k</title>\n",
       "<path d=\"M224.547,-135.64C224.547,-130.063 224.547,-124.132 224.547,-118.476\" fill=\"none\" stroke=\"black\"/>\n",
       "<ellipse cx=\"224.547\" cy=\"-139.697\" fill=\"none\" rx=\"4\" ry=\"4\" stroke=\"black\"/>\n",
       "<polygon fill=\"black\" points=\"228.047,-118.104 224.547,-108.104 221.047,-118.104 228.047,-118.104\" stroke=\"black\"/>\n",
       "</g>\n",
       "<!-- static_normal -->\n",
       "<g class=\"node\" id=\"node20\"><title>static_normal</title>\n",
       "<ellipse cx=\"224.547\" cy=\"-18\" fill=\"none\" rx=\"74.9875\" ry=\"18\" stroke=\"black\"/>\n",
       "<text font-family=\"Times,serif\" font-size=\"14.00\" text-anchor=\"middle\" x=\"224.547\" y=\"-14.3\">static_normal</text>\n",
       "</g>\n",
       "<!-- s_sn_gt_2k&#45;&gt;static_normal -->\n",
       "<g class=\"edge\" id=\"edge12\"><title>s_sn_gt_2k-&gt;static_normal</title>\n",
       "<path d=\"M224.547,-61.6651C224.547,-56.6867 224.547,-51.4906 224.547,-46.5072\" fill=\"none\" stroke=\"black\"/>\n",
       "<polygon fill=\"black\" points=\"221.047,-61.6966 224.547,-71.6966 228.047,-61.6967 221.047,-61.6966\" stroke=\"black\"/>\n",
       "<polygon fill=\"black\" points=\"228.047,-46.1043 224.547,-36.1043 221.047,-46.1044 228.047,-46.1043\" stroke=\"black\"/>\n",
       "</g>\n",
       "<!-- history_nausea -->\n",
       "<g class=\"node\" id=\"node5\"><title>history_nausea</title>\n",
       "<ellipse cx=\"741.547\" cy=\"-162\" fill=\"none\" rx=\"81.4863\" ry=\"18\" stroke=\"black\"/>\n",
       "<text font-family=\"Times,serif\" font-size=\"14.00\" text-anchor=\"middle\" x=\"741.547\" y=\"-158.3\">history_nausea</text>\n",
       "</g>\n",
       "<!-- history_roaring -->\n",
       "<g class=\"node\" id=\"node6\"><title>history_roaring</title>\n",
       "<ellipse cx=\"741.547\" cy=\"-90\" fill=\"none\" rx=\"82.5854\" ry=\"18\" stroke=\"black\"/>\n",
       "<text font-family=\"Times,serif\" font-size=\"14.00\" text-anchor=\"middle\" x=\"741.547\" y=\"-86.3\">history_roaring</text>\n",
       "</g>\n",
       "<!-- history_nausea&#45;&gt;history_roaring -->\n",
       "<g class=\"edge\" id=\"edge3\"><title>history_nausea-&gt;history_roaring</title>\n",
       "<path d=\"M741.547,-135.64C741.547,-129.348 741.547,-122.605 741.547,-116.316\" fill=\"none\" stroke=\"black\"/>\n",
       "<ellipse cx=\"741.547\" cy=\"-139.697\" fill=\"none\" rx=\"4\" ry=\"4\" stroke=\"black\"/>\n",
       "<ellipse cx=\"741.547\" cy=\"-112.104\" fill=\"none\" rx=\"4\" ry=\"4\" stroke=\"black\"/>\n",
       "</g>\n",
       "<!-- class -->\n",
       "<g class=\"node\" id=\"node7\"><title>class</title>\n",
       "<ellipse cx=\"459.547\" cy=\"-90\" fill=\"none\" rx=\"34.394\" ry=\"18\" stroke=\"black\"/>\n",
       "<text font-family=\"Times,serif\" font-size=\"14.00\" text-anchor=\"middle\" x=\"459.547\" y=\"-86.3\">class</text>\n",
       "</g>\n",
       "<!-- notch_at_4k -->\n",
       "<g class=\"node\" id=\"node8\"><title>notch_at_4k</title>\n",
       "<ellipse cx=\"384.547\" cy=\"-18\" fill=\"none\" rx=\"67.6881\" ry=\"18\" stroke=\"black\"/>\n",
       "<text font-family=\"Times,serif\" font-size=\"14.00\" text-anchor=\"middle\" x=\"384.547\" y=\"-14.3\">notch_at_4k</text>\n",
       "</g>\n",
       "<!-- class&#45;&gt;notch_at_4k -->\n",
       "<g class=\"edge\" id=\"edge4\"><title>class-&gt;notch_at_4k</title>\n",
       "<path d=\"M435.768,-66.8057C426.974,-58.5983 417.013,-49.3011 408.228,-41.1019\" fill=\"none\" stroke=\"black\"/>\n",
       "<polygon fill=\"black\" points=\"433.575,-69.5465 443.273,-73.811 438.351,-64.4291 433.575,-69.5465\" stroke=\"black\"/>\n",
       "<ellipse cx=\"405.287\" cy=\"-38.3571\" fill=\"none\" rx=\"4.00002\" ry=\"4.00002\" stroke=\"black\"/>\n",
       "</g>\n",
       "<!-- speech -->\n",
       "<g class=\"node\" id=\"node11\"><title>speech</title>\n",
       "<ellipse cx=\"600.547\" cy=\"-18\" fill=\"none\" rx=\"43.5923\" ry=\"18\" stroke=\"black\"/>\n",
       "<text font-family=\"Times,serif\" font-size=\"14.00\" text-anchor=\"middle\" x=\"600.547\" y=\"-14.3\">speech</text>\n",
       "</g>\n",
       "<!-- class&#45;&gt;speech -->\n",
       "<g class=\"edge\" id=\"edge26\"><title>class-&gt;speech</title>\n",
       "<path d=\"M492.793,-72.4952C514.98,-61.4801 544.075,-47.0359 566.439,-35.9334\" fill=\"none\" stroke=\"black\"/>\n",
       "<polygon fill=\"black\" points=\"491.187,-69.3849 483.786,-76.9666 494.299,-75.6547 491.187,-69.3849\" stroke=\"black\"/>\n",
       "<ellipse cx=\"570.162\" cy=\"-34.0848\" fill=\"none\" rx=\"4.00002\" ry=\"4.00002\" stroke=\"black\"/>\n",
       "</g>\n",
       "<!-- class&#45;&gt;static_normal -->\n",
       "<g class=\"edge\" id=\"edge14\"><title>class-&gt;static_normal</title>\n",
       "<path d=\"M420.494,-77.367C381.924,-65.8782 322.594,-48.2054 279.321,-35.3157\" fill=\"none\" stroke=\"black\"/>\n",
       "<polygon fill=\"black\" points=\"419.676,-80.7755 430.26,-80.276 421.675,-74.0668 419.676,-80.7755\" stroke=\"black\"/>\n",
       "<polygon fill=\"black\" points=\"280.102,-31.8963 269.519,-32.3958 278.104,-38.605 280.102,-31.8963\" stroke=\"black\"/>\n",
       "</g>\n",
       "<!-- tymp -->\n",
       "<g class=\"node\" id=\"node26\"><title>tymp</title>\n",
       "<ellipse cx=\"504.547\" cy=\"-18\" fill=\"none\" rx=\"34.394\" ry=\"18\" stroke=\"black\"/>\n",
       "<text font-family=\"Times,serif\" font-size=\"14.00\" text-anchor=\"middle\" x=\"504.547\" y=\"-14.3\">tymp</text>\n",
       "</g>\n",
       "<!-- class&#45;&gt;tymp -->\n",
       "<g class=\"edge\" id=\"edge20\"><title>class-&gt;tymp</title>\n",
       "<path d=\"M475.534,-64.1324C479.997,-57.1895 484.834,-49.6646 489.256,-42.7858\" fill=\"none\" stroke=\"black\"/>\n",
       "<polygon fill=\"black\" points=\"472.448,-62.4602 469.984,-72.7646 478.336,-66.2455 472.448,-62.4602\" stroke=\"black\"/>\n",
       "<ellipse cx=\"491.691\" cy=\"-38.9981\" fill=\"none\" rx=\"4.00002\" ry=\"4.00002\" stroke=\"black\"/>\n",
       "</g>\n",
       "<!-- air -->\n",
       "<g class=\"node\" id=\"node9\"><title>air</title>\n",
       "<ellipse cx=\"569.547\" cy=\"-234\" fill=\"none\" rx=\"27\" ry=\"18\" stroke=\"black\"/>\n",
       "<text font-family=\"Times,serif\" font-size=\"14.00\" text-anchor=\"middle\" x=\"569.547\" y=\"-230.3\">air</text>\n",
       "</g>\n",
       "<!-- air&#45;&gt;class -->\n",
       "<g class=\"edge\" id=\"edge23\"><title>air-&gt;class</title>\n",
       "<path d=\"M535.244,-227.655C488.77,-219.633 409.623,-202.938 392.547,-180 382.993,-167.166 385.577,-158.402 392.547,-144 399.809,-128.997 413.607,-116.953 426.803,-108.16\" fill=\"none\" stroke=\"black\"/>\n",
       "<ellipse cx=\"539.297\" cy=\"-228.34\" fill=\"none\" rx=\"4.00001\" ry=\"4.00001\" stroke=\"black\"/>\n",
       "<polygon fill=\"black\" points=\"428.679,-111.115 435.313,-102.854 424.976,-105.175 428.679,-111.115\" stroke=\"black\"/>\n",
       "</g>\n",
       "<!-- bone -->\n",
       "<g class=\"node\" id=\"node10\"><title>bone</title>\n",
       "<ellipse cx=\"569.547\" cy=\"-162\" fill=\"none\" rx=\"33.2948\" ry=\"18\" stroke=\"black\"/>\n",
       "<text font-family=\"Times,serif\" font-size=\"14.00\" text-anchor=\"middle\" x=\"569.547\" y=\"-158.3\">bone</text>\n",
       "</g>\n",
       "<!-- air&#45;&gt;bone -->\n",
       "<g class=\"edge\" id=\"edge5\"><title>air-&gt;bone</title>\n",
       "<path d=\"M569.547,-207.64C569.547,-201.348 569.547,-194.605 569.547,-188.316\" fill=\"none\" stroke=\"black\"/>\n",
       "<ellipse cx=\"569.547\" cy=\"-211.697\" fill=\"none\" rx=\"4\" ry=\"4\" stroke=\"black\"/>\n",
       "<ellipse cx=\"569.547\" cy=\"-184.104\" fill=\"none\" rx=\"4\" ry=\"4\" stroke=\"black\"/>\n",
       "</g>\n",
       "<!-- air&#45;&gt;speech -->\n",
       "<g class=\"edge\" id=\"edge6\"><title>air-&gt;speech</title>\n",
       "<path d=\"M590.693,-212.972C598.873,-203.801 607.281,-192.252 611.547,-180 627.531,-134.095 616.797,-76.4639 608.219,-44.0846\" fill=\"none\" stroke=\"black\"/>\n",
       "<ellipse cx=\"587.855\" cy=\"-216.002\" fill=\"none\" rx=\"4.00002\" ry=\"4.00002\" stroke=\"black\"/>\n",
       "<ellipse cx=\"607.058\" cy=\"-39.8907\" fill=\"none\" rx=\"4.00001\" ry=\"4.00001\" stroke=\"black\"/>\n",
       "</g>\n",
       "<!-- bone&#45;&gt;class -->\n",
       "<g class=\"edge\" id=\"edge17\"><title>bone-&gt;class</title>\n",
       "<path d=\"M541.873,-143.389C525.806,-133.165 505.567,-120.285 489.177,-109.855\" fill=\"none\" stroke=\"black\"/>\n",
       "<ellipse cx=\"545.482\" cy=\"-145.686\" fill=\"none\" rx=\"4.00002\" ry=\"4.00002\" stroke=\"black\"/>\n",
       "<polygon fill=\"black\" points=\"490.834,-106.761 480.519,-104.345 487.076,-112.667 490.834,-106.761\" stroke=\"black\"/>\n",
       "</g>\n",
       "<!-- bone&#45;&gt;speech -->\n",
       "<g class=\"edge\" id=\"edge16\"><title>bone-&gt;speech</title>\n",
       "<path d=\"M575.021,-135.929C580.67,-110.053 589.431,-69.9189 595.078,-44.0506\" fill=\"none\" stroke=\"black\"/>\n",
       "<ellipse cx=\"574.14\" cy=\"-139.964\" fill=\"none\" rx=\"4.00001\" ry=\"4.00001\" stroke=\"black\"/>\n",
       "<ellipse cx=\"595.942\" cy=\"-40.0972\" fill=\"none\" rx=\"4.00001\" ry=\"4.00001\" stroke=\"black\"/>\n",
       "</g>\n",
       "<!-- late_wave_poor -->\n",
       "<g class=\"node\" id=\"node12\"><title>late_wave_poor</title>\n",
       "<ellipse cx=\"1133.55\" cy=\"-234\" fill=\"none\" rx=\"83.3857\" ry=\"18\" stroke=\"black\"/>\n",
       "<text font-family=\"Times,serif\" font-size=\"14.00\" text-anchor=\"middle\" x=\"1133.55\" y=\"-230.3\">late_wave_poor</text>\n",
       "</g>\n",
       "<!-- middle_wave_poor -->\n",
       "<g class=\"node\" id=\"node13\"><title>middle_wave_poor</title>\n",
       "<ellipse cx=\"1133.55\" cy=\"-162\" fill=\"none\" rx=\"96.6831\" ry=\"18\" stroke=\"black\"/>\n",
       "<text font-family=\"Times,serif\" font-size=\"14.00\" text-anchor=\"middle\" x=\"1133.55\" y=\"-158.3\">middle_wave_poor</text>\n",
       "</g>\n",
       "<!-- late_wave_poor&#45;&gt;middle_wave_poor -->\n",
       "<g class=\"edge\" id=\"edge7\"><title>late_wave_poor-&gt;middle_wave_poor</title>\n",
       "<path d=\"M1133.55,-207.64C1133.55,-201.348 1133.55,-194.605 1133.55,-188.316\" fill=\"none\" stroke=\"black\"/>\n",
       "<ellipse cx=\"1133.55\" cy=\"-211.697\" fill=\"none\" rx=\"4\" ry=\"4\" stroke=\"black\"/>\n",
       "<ellipse cx=\"1133.55\" cy=\"-184.104\" fill=\"none\" rx=\"4\" ry=\"4\" stroke=\"black\"/>\n",
       "</g>\n",
       "<!-- ar_u -->\n",
       "<g class=\"node\" id=\"node14\"><title>ar_u</title>\n",
       "<ellipse cx=\"65.5473\" cy=\"-162\" fill=\"none\" rx=\"31.3957\" ry=\"18\" stroke=\"black\"/>\n",
       "<text font-family=\"Times,serif\" font-size=\"14.00\" text-anchor=\"middle\" x=\"65.5473\" y=\"-158.3\">ar_u</text>\n",
       "</g>\n",
       "<!-- ar_u&#45;&gt;o_ar_c -->\n",
       "<g class=\"edge\" id=\"edge8\"><title>ar_u-&gt;o_ar_c</title>\n",
       "<path d=\"M65.5473,-133.665C65.5473,-128.014 65.5473,-122.082 65.5473,-116.5\" fill=\"none\" stroke=\"black\"/>\n",
       "<polygon fill=\"black\" points=\"62.0474,-133.697 65.5473,-143.697 69.0474,-133.697 62.0474,-133.697\" stroke=\"black\"/>\n",
       "<ellipse cx=\"65.5473\" cy=\"-112.104\" fill=\"none\" rx=\"4\" ry=\"4\" stroke=\"black\"/>\n",
       "</g>\n",
       "<!-- ar_u&#45;&gt;o_ar_u -->\n",
       "<g class=\"edge\" id=\"edge24\"><title>ar_u-&gt;o_ar_u</title>\n",
       "<path d=\"M91.9708,-140.437C101.268,-131.577 110.622,-120.399 115.547,-108 121.454,-93.1304 121.454,-86.8696 115.547,-72 110.605,-59.5596 101.206,-48.348 91.8779,-39.475\" fill=\"none\" stroke=\"black\"/>\n",
       "<polygon fill=\"black\" points=\"89.4021,-138.038 84.273,-147.308 94.0638,-143.26 89.4021,-138.038\" stroke=\"black\"/>\n",
       "<ellipse cx=\"88.775\" cy=\"-36.6732\" fill=\"none\" rx=\"4.00002\" ry=\"4.00002\" stroke=\"black\"/>\n",
       "</g>\n",
       "<!-- history_dizziness -->\n",
       "<g class=\"node\" id=\"node15\"><title>history_dizziness</title>\n",
       "<ellipse cx=\"835.547\" cy=\"-234\" fill=\"none\" rx=\"90.9839\" ry=\"18\" stroke=\"black\"/>\n",
       "<text font-family=\"Times,serif\" font-size=\"14.00\" text-anchor=\"middle\" x=\"835.547\" y=\"-230.3\">history_dizziness</text>\n",
       "</g>\n",
       "<!-- history_dizziness&#45;&gt;history_nausea -->\n",
       "<g class=\"edge\" id=\"edge9\"><title>history_dizziness-&gt;history_nausea</title>\n",
       "<path d=\"M805.177,-210.384C793.986,-202.05 781.352,-192.642 770.308,-184.417\" fill=\"none\" stroke=\"black\"/>\n",
       "<polygon fill=\"black\" points=\"803.16,-213.245 813.271,-216.411 807.341,-207.631 803.16,-213.245\" stroke=\"black\"/>\n",
       "<ellipse cx=\"766.872\" cy=\"-181.859\" fill=\"none\" rx=\"4.00002\" ry=\"4.00002\" stroke=\"black\"/>\n",
       "</g>\n",
       "<!-- history_vomiting -->\n",
       "<g class=\"node\" id=\"node24\"><title>history_vomiting</title>\n",
       "<ellipse cx=\"929.547\" cy=\"-162\" fill=\"none\" rx=\"89.0842\" ry=\"18\" stroke=\"black\"/>\n",
       "<text font-family=\"Times,serif\" font-size=\"14.00\" text-anchor=\"middle\" x=\"929.547\" y=\"-158.3\">history_vomiting</text>\n",
       "</g>\n",
       "<!-- history_dizziness&#45;&gt;history_vomiting -->\n",
       "<g class=\"edge\" id=\"edge18\"><title>history_dizziness-&gt;history_vomiting</title>\n",
       "<path d=\"M865.918,-210.384C877.108,-202.05 889.743,-192.642 900.787,-184.417\" fill=\"none\" stroke=\"black\"/>\n",
       "<polygon fill=\"black\" points=\"863.754,-207.631 857.824,-216.411 867.935,-213.245 863.754,-207.631\" stroke=\"black\"/>\n",
       "<ellipse cx=\"904.222\" cy=\"-181.859\" fill=\"none\" rx=\"4.00002\" ry=\"4.00002\" stroke=\"black\"/>\n",
       "</g>\n",
       "<!-- m_m_sn_gt_2k -->\n",
       "<g class=\"node\" id=\"node16\"><title>m_m_sn_gt_2k</title>\n",
       "<ellipse cx=\"1314.55\" cy=\"-234\" fill=\"none\" rx=\"79.8859\" ry=\"18\" stroke=\"black\"/>\n",
       "<text font-family=\"Times,serif\" font-size=\"14.00\" text-anchor=\"middle\" x=\"1314.55\" y=\"-230.3\">m_m_sn_gt_2k</text>\n",
       "</g>\n",
       "<!-- notch_4k -->\n",
       "<g class=\"node\" id=\"node17\"><title>notch_4k</title>\n",
       "<ellipse cx=\"1485.55\" cy=\"-162\" fill=\"none\" rx=\"53.8905\" ry=\"18\" stroke=\"black\"/>\n",
       "<text font-family=\"Times,serif\" font-size=\"14.00\" text-anchor=\"middle\" x=\"1485.55\" y=\"-158.3\">notch_4k</text>\n",
       "</g>\n",
       "<!-- m_m_sn_gt_2k&#45;&gt;notch_4k -->\n",
       "<g class=\"edge\" id=\"edge10\"><title>m_m_sn_gt_2k-&gt;notch_4k</title>\n",
       "<path d=\"M1358.88,-214.853C1384.88,-204.207 1417.57,-190.827 1443.22,-180.326\" fill=\"none\" stroke=\"black\"/>\n",
       "<ellipse cx=\"1354.93\" cy=\"-216.468\" fill=\"none\" rx=\"4.00001\" ry=\"4.00001\" stroke=\"black\"/>\n",
       "<polygon fill=\"black\" points=\"1444.75,-183.481 1452.68,-176.454 1442.1,-177.003 1444.75,-183.481\" stroke=\"black\"/>\n",
       "</g>\n",
       "<!-- history_recruitment -->\n",
       "<g class=\"node\" id=\"node18\"><title>history_recruitment</title>\n",
       "<ellipse cx=\"1831.55\" cy=\"-234\" fill=\"none\" rx=\"104.782\" ry=\"18\" stroke=\"black\"/>\n",
       "<text font-family=\"Times,serif\" font-size=\"14.00\" text-anchor=\"middle\" x=\"1831.55\" y=\"-230.3\">history_recruitment</text>\n",
       "</g>\n",
       "<!-- m_sn_gt_1k -->\n",
       "<g class=\"node\" id=\"node19\"><title>m_sn_gt_1k</title>\n",
       "<ellipse cx=\"1831.55\" cy=\"-162\" fill=\"none\" rx=\"66.0889\" ry=\"18\" stroke=\"black\"/>\n",
       "<text font-family=\"Times,serif\" font-size=\"14.00\" text-anchor=\"middle\" x=\"1831.55\" y=\"-158.3\">m_sn_gt_1k</text>\n",
       "</g>\n",
       "<!-- history_recruitment&#45;&gt;m_sn_gt_1k -->\n",
       "<g class=\"edge\" id=\"edge11\"><title>history_recruitment-&gt;m_sn_gt_1k</title>\n",
       "<path d=\"M1831.55,-207.64C1831.55,-201.348 1831.55,-194.605 1831.55,-188.316\" fill=\"none\" stroke=\"black\"/>\n",
       "<ellipse cx=\"1831.55\" cy=\"-211.697\" fill=\"none\" rx=\"4\" ry=\"4\" stroke=\"black\"/>\n",
       "<ellipse cx=\"1831.55\" cy=\"-184.104\" fill=\"none\" rx=\"4\" ry=\"4\" stroke=\"black\"/>\n",
       "</g>\n",
       "<!-- history_noise -->\n",
       "<g class=\"node\" id=\"node21\"><title>history_noise</title>\n",
       "<ellipse cx=\"1485.55\" cy=\"-234\" fill=\"none\" rx=\"72.5877\" ry=\"18\" stroke=\"black\"/>\n",
       "<text font-family=\"Times,serif\" font-size=\"14.00\" text-anchor=\"middle\" x=\"1485.55\" y=\"-230.3\">history_noise</text>\n",
       "</g>\n",
       "<!-- history_noise&#45;&gt;notch_4k -->\n",
       "<g class=\"edge\" id=\"edge13\"><title>history_noise-&gt;notch_4k</title>\n",
       "<path d=\"M1485.55,-207.64C1485.55,-202.063 1485.55,-196.132 1485.55,-190.476\" fill=\"none\" stroke=\"black\"/>\n",
       "<ellipse cx=\"1485.55\" cy=\"-211.697\" fill=\"none\" rx=\"4\" ry=\"4\" stroke=\"black\"/>\n",
       "<polygon fill=\"black\" points=\"1489.05,-190.104 1485.55,-180.104 1482.05,-190.104 1489.05,-190.104\" stroke=\"black\"/>\n",
       "</g>\n",
       "<!-- history_fluctuating -->\n",
       "<g class=\"node\" id=\"node22\"><title>history_fluctuating</title>\n",
       "<ellipse cx=\"2052.55\" cy=\"-234\" fill=\"none\" rx=\"98.5829\" ry=\"18\" stroke=\"black\"/>\n",
       "<text font-family=\"Times,serif\" font-size=\"14.00\" text-anchor=\"middle\" x=\"2052.55\" y=\"-230.3\">history_fluctuating</text>\n",
       "</g>\n",
       "<!-- m_sn_lt_1k -->\n",
       "<g class=\"node\" id=\"node23\"><title>m_sn_lt_1k</title>\n",
       "<ellipse cx=\"2052.55\" cy=\"-162\" fill=\"none\" rx=\"63.8893\" ry=\"18\" stroke=\"black\"/>\n",
       "<text font-family=\"Times,serif\" font-size=\"14.00\" text-anchor=\"middle\" x=\"2052.55\" y=\"-158.3\">m_sn_lt_1k</text>\n",
       "</g>\n",
       "<!-- history_fluctuating&#45;&gt;m_sn_lt_1k -->\n",
       "<g class=\"edge\" id=\"edge15\"><title>history_fluctuating-&gt;m_sn_lt_1k</title>\n",
       "<path d=\"M2052.55,-207.64C2052.55,-201.348 2052.55,-194.605 2052.55,-188.316\" fill=\"none\" stroke=\"black\"/>\n",
       "<ellipse cx=\"2052.55\" cy=\"-211.697\" fill=\"none\" rx=\"4\" ry=\"4\" stroke=\"black\"/>\n",
       "<ellipse cx=\"2052.55\" cy=\"-184.104\" fill=\"none\" rx=\"4\" ry=\"4\" stroke=\"black\"/>\n",
       "</g>\n",
       "<!-- m_s_gt_500 -->\n",
       "<g class=\"node\" id=\"node25\"><title>m_s_gt_500</title>\n",
       "<ellipse cx=\"1642.55\" cy=\"-234\" fill=\"none\" rx=\"66.0889\" ry=\"18\" stroke=\"black\"/>\n",
       "<text font-family=\"Times,serif\" font-size=\"14.00\" text-anchor=\"middle\" x=\"1642.55\" y=\"-230.3\">m_s_gt_500</text>\n",
       "</g>\n",
       "<!-- m_s_gt_500&#45;&gt;notch_4k -->\n",
       "<g class=\"edge\" id=\"edge19\"><title>m_s_gt_500-&gt;notch_4k</title>\n",
       "<path d=\"M1602.33,-215.068C1578.86,-204.607 1549.36,-191.452 1525.88,-180.982\" fill=\"none\" stroke=\"black\"/>\n",
       "<ellipse cx=\"1605.98\" cy=\"-216.697\" fill=\"none\" rx=\"4.00002\" ry=\"4.00002\" stroke=\"black\"/>\n",
       "<polygon fill=\"black\" points=\"1527.11,-177.697 1516.55,-176.822 1524.26,-184.09 1527.11,-177.697\" stroke=\"black\"/>\n",
       "</g>\n",
       "<!-- ar_c -->\n",
       "<g class=\"node\" id=\"node27\"><title>ar_c</title>\n",
       "<ellipse cx=\"30.5473\" cy=\"-234\" fill=\"none\" rx=\"30.5947\" ry=\"18\" stroke=\"black\"/>\n",
       "<text font-family=\"Times,serif\" font-size=\"14.00\" text-anchor=\"middle\" x=\"30.5473\" y=\"-230.3\">ar_c</text>\n",
       "</g>\n",
       "<!-- ar_c&#45;&gt;o_ar_u -->\n",
       "<g class=\"edge\" id=\"edge22\"><title>ar_c-&gt;o_ar_u</title>\n",
       "<path d=\"M21.5732,-208.644C11.1038,-176.232 -2.60614,-117.697 15.5473,-72 20.4893,-59.5596 29.889,-48.348 39.2167,-39.475\" fill=\"none\" stroke=\"black\"/>\n",
       "<ellipse cx=\"22.8702\" cy=\"-212.506\" fill=\"none\" rx=\"4.00001\" ry=\"4.00001\" stroke=\"black\"/>\n",
       "<ellipse cx=\"42.3196\" cy=\"-36.6732\" fill=\"none\" rx=\"4.00002\" ry=\"4.00002\" stroke=\"black\"/>\n",
       "</g>\n",
       "<!-- ar_c&#45;&gt;ar_u -->\n",
       "<g class=\"edge\" id=\"edge21\"><title>ar_c-&gt;ar_u</title>\n",
       "<path d=\"M42.4283,-209.238C45.7177,-202.659 49.3033,-195.488 52.6477,-188.799\" fill=\"none\" stroke=\"black\"/>\n",
       "<ellipse cx=\"40.6307\" cy=\"-212.833\" fill=\"none\" rx=\"4.00002\" ry=\"4.00002\" stroke=\"black\"/>\n",
       "<polygon fill=\"black\" points=\"55.9706,-189.979 57.3123,-179.47 49.7096,-186.849 55.9706,-189.979\" stroke=\"black\"/>\n",
       "</g>\n",
       "<!-- age_gt_60 -->\n",
       "<g class=\"node\" id=\"node28\"><title>age_gt_60</title>\n",
       "<ellipse cx=\"459.547\" cy=\"-162\" fill=\"none\" rx=\"58.4896\" ry=\"18\" stroke=\"black\"/>\n",
       "<text font-family=\"Times,serif\" font-size=\"14.00\" text-anchor=\"middle\" x=\"459.547\" y=\"-158.3\">age_gt_60</text>\n",
       "</g>\n",
       "<!-- age_gt_60&#45;&gt;class -->\n",
       "<g class=\"edge\" id=\"edge25\"><title>age_gt_60-&gt;class</title>\n",
       "<path d=\"M459.547,-135.64C459.547,-130.063 459.547,-124.132 459.547,-118.476\" fill=\"none\" stroke=\"black\"/>\n",
       "<ellipse cx=\"459.547\" cy=\"-139.697\" fill=\"none\" rx=\"4\" ry=\"4\" stroke=\"black\"/>\n",
       "<polygon fill=\"black\" points=\"463.047,-118.104 459.547,-108.104 456.047,-118.104 463.047,-118.104\" stroke=\"black\"/>\n",
       "</g>\n",
       "</g>\n",
       "</svg>"
      ],
      "text/plain": [
       "<IPython.core.display.SVG object>"
      ]
     },
     "execution_count": 10,
     "metadata": {},
     "output_type": "execute_result"
    }
   ],
   "source": [
    "import pydot\n",
    "from IPython.display import SVG\n",
    "dot_str = pc.tetradGraphToDot(tetrad.getTetradGraph())\n",
    "graphs = pydot.graph_from_dot_data(dot_str)\n",
    "svg_str = graphs[0].create_svg()\n",
    "SVG(svg_str)"
   ]
  },
  {
   "cell_type": "markdown",
   "metadata": {
    "collapsed": true
   },
   "source": [
    "#### Stop Java VM"
   ]
  },
  {
   "cell_type": "code",
   "execution_count": 11,
   "metadata": {},
   "outputs": [],
   "source": [
    "pc.stop_vm()"
   ]
  },
  {
   "cell_type": "code",
   "execution_count": null,
   "metadata": {},
   "outputs": [],
   "source": []
  }
 ],
 "metadata": {
  "kernelspec": {
   "display_name": "Python 3",
   "language": "python",
   "name": "python3"
  },
  "language_info": {
   "codemirror_mode": {
    "name": "ipython",
    "version": 3
   },
   "file_extension": ".py",
   "mimetype": "text/x-python",
   "name": "python",
   "nbconvert_exporter": "python",
   "pygments_lexer": "ipython3",
   "version": "3.5.4"
  },
  "widgets": {
   "state": {},
   "version": "1.1.1"
  }
 },
 "nbformat": 4,
 "nbformat_minor": 1
}
