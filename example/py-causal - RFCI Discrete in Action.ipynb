{
 "cells": [
  {
   "cell_type": "code",
   "execution_count": 1,
   "metadata": {
    "collapsed": true
   },
   "outputs": [],
   "source": [
    "import pandas as pd\n",
    "import pydot\n",
    "from IPython.display import SVG"
   ]
  },
  {
   "cell_type": "markdown",
   "metadata": {},
   "source": [
    "#### Load the example dataset"
   ]
  },
  {
   "cell_type": "code",
   "execution_count": 2,
   "metadata": {
    "collapsed": true
   },
   "outputs": [],
   "source": [
    "data_dir = \"https://raw.githubusercontent.com/bd2kccd/py-causal/master/data/audiology.txt\"\n",
    "df = pd.read_table(data_dir, sep=\"\\t\")"
   ]
  },
  {
   "cell_type": "markdown",
   "metadata": {
    "collapsed": true
   },
   "source": [
    "#### Start Java VM"
   ]
  },
  {
   "cell_type": "code",
   "execution_count": 3,
   "metadata": {
    "collapsed": true
   },
   "outputs": [],
   "source": [
    "from pycausal.pycausal import pycausal as pc\n",
    "pc = pc()\n",
    "pc.start_vm(java_max_heap_size = '100M')"
   ]
  },
  {
   "cell_type": "markdown",
   "metadata": {},
   "source": [
    "#### Create the Prior Knowledge Object"
   ]
  },
  {
   "cell_type": "code",
   "execution_count": 4,
   "metadata": {},
   "outputs": [
    {
     "data": {
      "text/plain": [
       "Instance of edu.cmu.tetrad.data.Knowledge2: /knowledge\n",
       "addtemporal\n",
       "\n",
       "0* class history_fluctuating history_noise \n",
       "\n",
       "forbiddirect\n",
       "\n",
       "history_fluctuating ==> class \n",
       "history_noise ==> class \n",
       "requiredirect\n"
      ]
     },
     "execution_count": 4,
     "metadata": {},
     "output_type": "execute_result"
    }
   ],
   "source": [
    "from pycausal import prior as p\n",
    "forbid = [['history_noise','class'],['history_fluctuating','class']]\n",
    "tempForbid = p.ForbiddenWithin(\n",
    "    ['class','history_fluctuating','history_noise'])\n",
    "temporal = [tempForbid]\n",
    "prior = p.knowledge(forbiddirect = forbid, addtemporal = temporal)\n",
    "prior"
   ]
  },
  {
   "cell_type": "markdown",
   "metadata": {
    "collapsed": true
   },
   "source": [
    "#### Load causal algorithms from the py-causal library and Run RFCI Discrete"
   ]
  },
  {
   "cell_type": "code",
   "execution_count": 5,
   "metadata": {},
   "outputs": [
    {
     "name": "stdout",
     "output_type": "stream",
     "text": [
      "samplePrior: Sample prior (min = 1.0) (java.lang.Double) [default:1.0]\n",
      "structurePrior: Structure prior coefficient (min = 1.0) (java.lang.Double) [default:1.0]\n",
      "depth: Maximum size of conditioning set (unlimited = -1) (java.lang.Integer) [default:-1]\n",
      "maxPathLength: The maximum length for any discriminating path. -1 if unlimited (min = -1) (java.lang.Integer) [default:-1]\n",
      "completeRuleSetUsed: Yes if the complete FCI rule set should be used (java.lang.Boolean) [default:false]\n",
      "bootstrapSampleSize: The number of bootstraps (min = 0) (java.lang.Integer) [default:0]\n",
      "bootstrapEnsemble: Ensemble method: Preserved (0), Highest (1), Majority (2) (java.lang.Integer) [default:1]\n",
      "verbose: Yes if verbose output should be printed or logged (java.lang.Boolean) [default:false]\n"
     ]
    }
   ],
   "source": [
    "from pycausal import search as s\n",
    "tetrad = s.tetradrunner()\n",
    "tetrad.getAlgorithmParameters(algoId = 'rfci', testId = 'bdeu')"
   ]
  },
  {
   "cell_type": "code",
   "execution_count": 6,
   "metadata": {
    "collapsed": true
   },
   "outputs": [],
   "source": [
    "tetrad.run(algoId = 'rfci', dfs = df, testId = 'bdeu', priorKnowledge = prior, dataType = 'discrete',\n",
    "           structurePrior = 1.0, samplePrior = 1.0, depth = 3, maxPathLength = -1, \n",
    "           completeRuleSetUsed = True, verbose = True)"
   ]
  },
  {
   "cell_type": "markdown",
   "metadata": {
    "collapsed": true
   },
   "source": [
    "#### RFCI Discrete's Result's Nodes"
   ]
  },
  {
   "cell_type": "code",
   "execution_count": 7,
   "metadata": {},
   "outputs": [
    {
     "data": {
      "text/plain": [
       "[u'age_gt_60',\n",
       " u'air',\n",
       " u'airBoneGap',\n",
       " u'ar_c',\n",
       " u'ar_u',\n",
       " u'bone',\n",
       " u'boneAbnormal',\n",
       " u'bser',\n",
       " u'history_buzzing',\n",
       " u'history_dizziness',\n",
       " u'history_fluctuating',\n",
       " u'history_fullness',\n",
       " u'history_heredity',\n",
       " u'history_nausea',\n",
       " u'history_noise',\n",
       " u'history_recruitment',\n",
       " u'history_ringing',\n",
       " u'history_roaring',\n",
       " u'history_vomiting',\n",
       " u'late_wave_poor',\n",
       " u'm_at_2k',\n",
       " u'm_cond_lt_1k',\n",
       " u'm_gt_1k',\n",
       " u'm_m_gt_2k',\n",
       " u'm_m_sn',\n",
       " u'm_m_sn_gt_1k',\n",
       " u'm_m_sn_gt_2k',\n",
       " u'm_m_sn_gt_500',\n",
       " u'm_p_sn_gt_2k',\n",
       " u'm_s_gt_500',\n",
       " u'm_s_sn',\n",
       " u'm_s_sn_gt_1k',\n",
       " u'm_s_sn_gt_2k',\n",
       " u'm_s_sn_gt_3k',\n",
       " u'm_s_sn_gt_4k',\n",
       " u'm_sn_2_3k',\n",
       " u'm_sn_gt_1k',\n",
       " u'm_sn_gt_2k',\n",
       " u'm_sn_gt_3k',\n",
       " u'm_sn_gt_4k',\n",
       " u'm_sn_gt_500',\n",
       " u'm_sn_gt_6k',\n",
       " u'm_sn_lt_1k',\n",
       " u'm_sn_lt_2k',\n",
       " u'm_sn_lt_3k',\n",
       " u'middle_wave_poor',\n",
       " u'mod_gt_4k',\n",
       " u'mod_mixed',\n",
       " u'mod_s_mixed',\n",
       " u'mod_s_sn_gt_500',\n",
       " u'mod_sn',\n",
       " u'mod_sn_gt_1k',\n",
       " u'mod_sn_gt_2k',\n",
       " u'mod_sn_gt_3k',\n",
       " u'mod_sn_gt_4k',\n",
       " u'mod_sn_gt_500',\n",
       " u'notch_4k',\n",
       " u'notch_at_4k',\n",
       " u'o_ar_c',\n",
       " u'o_ar_u',\n",
       " u's_sn_gt_1k',\n",
       " u's_sn_gt_2k',\n",
       " u's_sn_gt_4k',\n",
       " u'speech',\n",
       " u'static_normal',\n",
       " u'tymp',\n",
       " u'viith_nerve_signs',\n",
       " u'wave_V_delayed',\n",
       " u'waveform_ItoV_prolonged',\n",
       " u'indentifier',\n",
       " u'class']"
      ]
     },
     "execution_count": 7,
     "metadata": {},
     "output_type": "execute_result"
    }
   ],
   "source": [
    "tetrad.getNodes()"
   ]
  },
  {
   "cell_type": "markdown",
   "metadata": {},
   "source": [
    "#### RFCI Discrete's Result's Edges"
   ]
  },
  {
   "cell_type": "code",
   "execution_count": 8,
   "metadata": {},
   "outputs": [
    {
     "data": {
      "text/plain": [
       "[u'notch_4k o-o m_m_sn_gt_2k',\n",
       " u's_sn_gt_2k o-o history_heredity',\n",
       " u'm_sn_lt_1k o-o history_fluctuating',\n",
       " u'age_gt_60 o-> class',\n",
       " u'history_roaring o-o history_nausea',\n",
       " u'tymp o-> class']"
      ]
     },
     "execution_count": 8,
     "metadata": {},
     "output_type": "execute_result"
    }
   ],
   "source": [
    "tetrad.getEdges()"
   ]
  },
  {
   "cell_type": "markdown",
   "metadata": {},
   "source": [
    "#### Plot The Result's Graph"
   ]
  },
  {
   "cell_type": "code",
   "execution_count": 9,
   "metadata": {},
   "outputs": [
    {
     "data": {
      "image/svg+xml": [
       "<svg height=\"116pt\" viewBox=\"0.00 0.00 813.59 116.00\" width=\"814pt\" xmlns=\"http://www.w3.org/2000/svg\" xmlns:xlink=\"http://www.w3.org/1999/xlink\">\n",
       "<g class=\"graph\" id=\"graph0\" transform=\"scale(1 1) rotate(0) translate(4 112)\">\n",
       "<title>G</title>\n",
       "<polygon fill=\"white\" points=\"-4,4 -4,-112 809.587,-112 809.587,4 -4,4\" stroke=\"none\"/>\n",
       "<!-- s_sn_gt_2k -->\n",
       "<g class=\"node\" id=\"node1\"><title>s_sn_gt_2k</title>\n",
       "<ellipse cx=\"68.2439\" cy=\"-90\" fill=\"none\" rx=\"50.8918\" ry=\"18\" stroke=\"black\"/>\n",
       "<text font-family=\"Times,serif\" font-size=\"14.00\" text-anchor=\"middle\" x=\"68.2439\" y=\"-86.3\">s_sn_gt_2k</text>\n",
       "</g>\n",
       "<!-- history_heredity -->\n",
       "<g class=\"node\" id=\"node2\"><title>history_heredity</title>\n",
       "<ellipse cx=\"68.2439\" cy=\"-18\" fill=\"none\" rx=\"68.4888\" ry=\"18\" stroke=\"black\"/>\n",
       "<text font-family=\"Times,serif\" font-size=\"14.00\" text-anchor=\"middle\" x=\"68.2439\" y=\"-14.3\">history_heredity</text>\n",
       "</g>\n",
       "<!-- s_sn_gt_2k&#45;&gt;history_heredity -->\n",
       "<g class=\"edge\" id=\"edge1\"><title>s_sn_gt_2k-&gt;history_heredity</title>\n",
       "<path d=\"M68.2439,-63.6398C68.2439,-57.348 68.2439,-50.6053 68.2439,-44.3156\" fill=\"none\" stroke=\"black\"/>\n",
       "<ellipse cx=\"68.244\" cy=\"-67.6966\" fill=\"none\" rx=\"4\" ry=\"4\" stroke=\"black\"/>\n",
       "<ellipse cx=\"68.244\" cy=\"-40.1043\" fill=\"none\" rx=\"4\" ry=\"4\" stroke=\"black\"/>\n",
       "</g>\n",
       "<!-- tymp -->\n",
       "<g class=\"node\" id=\"node3\"><title>tymp</title>\n",
       "<ellipse cx=\"193.244\" cy=\"-90\" fill=\"none\" rx=\"29.4969\" ry=\"18\" stroke=\"black\"/>\n",
       "<text font-family=\"Times,serif\" font-size=\"14.00\" text-anchor=\"middle\" x=\"193.244\" y=\"-86.3\">tymp</text>\n",
       "</g>\n",
       "<!-- class -->\n",
       "<g class=\"node\" id=\"node4\"><title>class</title>\n",
       "<ellipse cx=\"221.244\" cy=\"-18\" fill=\"none\" rx=\"27.8951\" ry=\"18\" stroke=\"black\"/>\n",
       "<text font-family=\"Times,serif\" font-size=\"14.00\" text-anchor=\"middle\" x=\"221.244\" y=\"-14.3\">class</text>\n",
       "</g>\n",
       "<!-- tymp&#45;&gt;class -->\n",
       "<g class=\"edge\" id=\"edge2\"><title>tymp-&gt;class</title>\n",
       "<path d=\"M202.933,-64.7779C205.426,-58.544 208.122,-51.8046 210.659,-45.4634\" fill=\"none\" stroke=\"black\"/>\n",
       "<ellipse cx=\"201.365\" cy=\"-68.6971\" fill=\"none\" rx=\"4.00001\" ry=\"4.00001\" stroke=\"black\"/>\n",
       "<polygon fill=\"black\" points=\"213.997,-46.5409 214.461,-35.9562 207.498,-43.9411 213.997,-46.5409\" stroke=\"black\"/>\n",
       "</g>\n",
       "<!-- history_roaring -->\n",
       "<g class=\"node\" id=\"node5\"><title>history_roaring</title>\n",
       "<ellipse cx=\"418.244\" cy=\"-90\" fill=\"none\" rx=\"64.9885\" ry=\"18\" stroke=\"black\"/>\n",
       "<text font-family=\"Times,serif\" font-size=\"14.00\" text-anchor=\"middle\" x=\"418.244\" y=\"-86.3\">history_roaring</text>\n",
       "</g>\n",
       "<!-- history_nausea -->\n",
       "<g class=\"node\" id=\"node6\"><title>history_nausea</title>\n",
       "<ellipse cx=\"418.244\" cy=\"-18\" fill=\"none\" rx=\"63.8893\" ry=\"18\" stroke=\"black\"/>\n",
       "<text font-family=\"Times,serif\" font-size=\"14.00\" text-anchor=\"middle\" x=\"418.244\" y=\"-14.3\">history_nausea</text>\n",
       "</g>\n",
       "<!-- history_roaring&#45;&gt;history_nausea -->\n",
       "<g class=\"edge\" id=\"edge3\"><title>history_roaring-&gt;history_nausea</title>\n",
       "<path d=\"M418.244,-63.6398C418.244,-57.348 418.244,-50.6053 418.244,-44.3156\" fill=\"none\" stroke=\"black\"/>\n",
       "<ellipse cx=\"418.244\" cy=\"-67.6966\" fill=\"none\" rx=\"4\" ry=\"4\" stroke=\"black\"/>\n",
       "<ellipse cx=\"418.244\" cy=\"-40.1043\" fill=\"none\" rx=\"4\" ry=\"4\" stroke=\"black\"/>\n",
       "</g>\n",
       "<!-- notch_4k -->\n",
       "<g class=\"node\" id=\"node7\"><title>notch_4k</title>\n",
       "<ellipse cx=\"566.244\" cy=\"-90\" fill=\"none\" rx=\"43.5923\" ry=\"18\" stroke=\"black\"/>\n",
       "<text font-family=\"Times,serif\" font-size=\"14.00\" text-anchor=\"middle\" x=\"566.244\" y=\"-86.3\">notch_4k</text>\n",
       "</g>\n",
       "<!-- m_m_sn_gt_2k -->\n",
       "<g class=\"node\" id=\"node8\"><title>m_m_sn_gt_2k</title>\n",
       "<ellipse cx=\"566.244\" cy=\"-18\" fill=\"none\" rx=\"66.0889\" ry=\"18\" stroke=\"black\"/>\n",
       "<text font-family=\"Times,serif\" font-size=\"14.00\" text-anchor=\"middle\" x=\"566.244\" y=\"-14.3\">m_m_sn_gt_2k</text>\n",
       "</g>\n",
       "<!-- notch_4k&#45;&gt;m_m_sn_gt_2k -->\n",
       "<g class=\"edge\" id=\"edge4\"><title>notch_4k-&gt;m_m_sn_gt_2k</title>\n",
       "<path d=\"M566.244,-63.6398C566.244,-57.348 566.244,-50.6053 566.244,-44.3156\" fill=\"none\" stroke=\"black\"/>\n",
       "<ellipse cx=\"566.244\" cy=\"-67.6966\" fill=\"none\" rx=\"4\" ry=\"4\" stroke=\"black\"/>\n",
       "<ellipse cx=\"566.244\" cy=\"-40.1043\" fill=\"none\" rx=\"4\" ry=\"4\" stroke=\"black\"/>\n",
       "</g>\n",
       "<!-- m_sn_lt_1k -->\n",
       "<g class=\"node\" id=\"node9\"><title>m_sn_lt_1k</title>\n",
       "<ellipse cx=\"728.244\" cy=\"-90\" fill=\"none\" rx=\"52.7911\" ry=\"18\" stroke=\"black\"/>\n",
       "<text font-family=\"Times,serif\" font-size=\"14.00\" text-anchor=\"middle\" x=\"728.244\" y=\"-86.3\">m_sn_lt_1k</text>\n",
       "</g>\n",
       "<!-- history_fluctuating -->\n",
       "<g class=\"node\" id=\"node10\"><title>history_fluctuating</title>\n",
       "<ellipse cx=\"728.244\" cy=\"-18\" fill=\"none\" rx=\"77.1866\" ry=\"18\" stroke=\"black\"/>\n",
       "<text font-family=\"Times,serif\" font-size=\"14.00\" text-anchor=\"middle\" x=\"728.244\" y=\"-14.3\">history_fluctuating</text>\n",
       "</g>\n",
       "<!-- m_sn_lt_1k&#45;&gt;history_fluctuating -->\n",
       "<g class=\"edge\" id=\"edge5\"><title>m_sn_lt_1k-&gt;history_fluctuating</title>\n",
       "<path d=\"M728.244,-63.6398C728.244,-57.348 728.244,-50.6053 728.244,-44.3156\" fill=\"none\" stroke=\"black\"/>\n",
       "<ellipse cx=\"728.244\" cy=\"-67.6966\" fill=\"none\" rx=\"4\" ry=\"4\" stroke=\"black\"/>\n",
       "<ellipse cx=\"728.244\" cy=\"-40.1043\" fill=\"none\" rx=\"4\" ry=\"4\" stroke=\"black\"/>\n",
       "</g>\n",
       "<!-- age_gt_60 -->\n",
       "<g class=\"node\" id=\"node11\"><title>age_gt_60</title>\n",
       "<ellipse cx=\"288.244\" cy=\"-90\" fill=\"none\" rx=\"47.3916\" ry=\"18\" stroke=\"black\"/>\n",
       "<text font-family=\"Times,serif\" font-size=\"14.00\" text-anchor=\"middle\" x=\"288.244\" y=\"-86.3\">age_gt_60</text>\n",
       "</g>\n",
       "<!-- age_gt_60&#45;&gt;class -->\n",
       "<g class=\"edge\" id=\"edge6\"><title>age_gt_60-&gt;class</title>\n",
       "<path d=\"M267.161,-66.9731C259.217,-58.6731 250.187,-49.2393 242.25,-40.9466\" fill=\"none\" stroke=\"black\"/>\n",
       "<ellipse cx=\"269.939\" cy=\"-69.875\" fill=\"none\" rx=\"4.00002\" ry=\"4.00002\" stroke=\"black\"/>\n",
       "<polygon fill=\"black\" points=\"244.773,-38.5211 235.33,-33.717 239.716,-43.3613 244.773,-38.5211\" stroke=\"black\"/>\n",
       "</g>\n",
       "</g>\n",
       "</svg>"
      ],
      "text/plain": [
       "<IPython.core.display.SVG object>"
      ]
     },
     "execution_count": 9,
     "metadata": {},
     "output_type": "execute_result"
    }
   ],
   "source": [
    "dot = tetrad.getDot()\n",
    "svg_str = dot.create_svg(prog='dot')\n",
    "SVG(svg_str)"
   ]
  },
  {
   "cell_type": "markdown",
   "metadata": {
    "collapsed": true
   },
   "source": [
    "#### Stop Java VM"
   ]
  },
  {
   "cell_type": "code",
   "execution_count": 10,
   "metadata": {
    "collapsed": true
   },
   "outputs": [],
   "source": [
    "pc.stop_vm()"
   ]
  },
  {
   "cell_type": "code",
   "execution_count": null,
   "metadata": {
    "collapsed": true
   },
   "outputs": [],
   "source": []
  }
 ],
 "metadata": {
  "kernelspec": {
   "display_name": "Python 2",
   "language": "python",
   "name": "python2"
  },
  "language_info": {
   "codemirror_mode": {
    "name": "ipython",
    "version": 2
   },
   "file_extension": ".py",
   "mimetype": "text/x-python",
   "name": "python",
   "nbconvert_exporter": "python",
   "pygments_lexer": "ipython2",
   "version": "2.7.13"
  },
  "widgets": {
   "state": {},
   "version": "1.1.1"
  }
 },
 "nbformat": 4,
 "nbformat_minor": 1
}
