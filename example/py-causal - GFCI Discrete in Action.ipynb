{
 "cells": [
  {
   "cell_type": "code",
   "execution_count": 1,
   "metadata": {
    "collapsed": true
   },
   "outputs": [],
   "source": [
    "import pandas as pd\n",
    "import pydot"
   ]
  },
  {
   "cell_type": "markdown",
   "metadata": {},
   "source": [
    "#### Load the example dataset"
   ]
  },
  {
   "cell_type": "code",
   "execution_count": 2,
   "metadata": {
    "collapsed": true
   },
   "outputs": [],
   "source": [
    "data_dir = \"https://raw.githubusercontent.com/bd2kccd/py-causal/master/data/audiology.txt\"\n",
    "df = pd.read_table(data_dir, sep=\"\\t\")"
   ]
  },
  {
   "cell_type": "markdown",
   "metadata": {
    "collapsed": true
   },
   "source": [
    "#### Start Java VM"
   ]
  },
  {
   "cell_type": "code",
   "execution_count": 3,
   "metadata": {
    "collapsed": true
   },
   "outputs": [],
   "source": [
    "from pycausal import pycausal as pc\n",
    "pc.start_vm()"
   ]
  },
  {
   "cell_type": "markdown",
   "metadata": {},
   "source": [
    "#### Create the Prior Knowledge Object"
   ]
  },
  {
   "cell_type": "code",
   "execution_count": 4,
   "metadata": {},
   "outputs": [
    {
     "data": {
      "text/plain": [
       "Instance of edu.cmu.tetrad.data.Knowledge2: /knowledge\n",
       "addtemporal\n",
       "\n",
       "0* class history_fluctuating history_noise \n",
       "\n",
       "forbiddirect\n",
       "\n",
       "history_noise ==> class \n",
       "history_fluctuating ==> class \n",
       "requiredirect\n"
      ]
     },
     "execution_count": 4,
     "metadata": {},
     "output_type": "execute_result"
    }
   ],
   "source": [
    "from pycausal import prior as p\n",
    "forbid = [['history_noise','class'],['history_fluctuating','class']]\n",
    "tempForbid = p.ForbiddenWithin(\n",
    "    ['class','history_fluctuating','history_noise'])\n",
    "temporal = [tempForbid]\n",
    "prior = p.knowledge(forbiddirect = forbid, addtemporal = temporal)\n",
    "prior"
   ]
  },
  {
   "cell_type": "markdown",
   "metadata": {
    "collapsed": true
   },
   "source": [
    "#### Load causal algorithms from the py-causal library and Run GFCI"
   ]
  },
  {
   "cell_type": "code",
   "execution_count": 5,
   "metadata": {},
   "outputs": [
    {
     "name": "stdout",
     "output_type": "stream",
     "text": [
      "samplePrior: Sample prior (min = 1.0) (java.lang.Double) [default:1.0]\n",
      "structurePrior: Structure prior coefficient (min = 1.0) (java.lang.Double) [default:1.0]\n",
      "samplePrior: Sample prior (min = 1.0) (java.lang.Double) [default:1.0]\n",
      "structurePrior: Structure prior coefficient (min = 1.0) (java.lang.Double) [default:1.0]\n",
      "faithfulnessAssumed: Yes if (one edge) faithfulness should be assumed (java.lang.Boolean) [default:true]\n",
      "maxDegree: The maximum degree of the graph (min = -1) (java.lang.Integer) [default:100]\n",
      "maxPathLength: The maximum length for any discriminating path. -1 if unlimited (min = -1) (java.lang.Integer) [default:-1]\n",
      "completeRuleSetUsed: Yes if the complete FCI rule set should be used (java.lang.Boolean) [default:false]\n",
      "bootstrapSampleSize: The number of bootstraps (min = 0) (java.lang.Integer) [default:0]\n",
      "bootstrapEnsemble: Ensemble method: Preserved (0), Highest (1), Majority (2) (java.lang.Integer) [default:1]\n",
      "verbose: Yes if verbose output should be printed or logged (java.lang.Boolean) [default:false]\n"
     ]
    }
   ],
   "source": [
    "from pycausal import search as s\n",
    "tetrad = s.tetradrunner()\n",
    "tetrad.getAlgorithmParameters(algoId = 'gfci', testId = 'bdeu', scoreId = 'bdeu')"
   ]
  },
  {
   "cell_type": "code",
   "execution_count": 6,
   "metadata": {
    "collapsed": true
   },
   "outputs": [],
   "source": [
    "tetrad.run(algoId = 'gfci', dfs = df, testId = 'bdeu', scoreId = 'bdeu', priorKnowledge = prior, dataType = 1,\n",
    "           structurePrior = 1.0, samplePrior = 1.0, maxDegree = -1, maxPathLength = -1, \n",
    "           completeRuleSetUsed = False, faithfulnessAssumed = True, verbose = True)"
   ]
  },
  {
   "cell_type": "markdown",
   "metadata": {
    "collapsed": true
   },
   "source": [
    "#### GFCI Discrete's Result's Nodes"
   ]
  },
  {
   "cell_type": "code",
   "execution_count": 7,
   "metadata": {},
   "outputs": [
    {
     "data": {
      "text/plain": [
       "[u'age_gt_60',\n",
       " u'air',\n",
       " u'airBoneGap',\n",
       " u'ar_c',\n",
       " u'ar_u',\n",
       " u'bone',\n",
       " u'boneAbnormal',\n",
       " u'bser',\n",
       " u'history_buzzing',\n",
       " u'history_dizziness',\n",
       " u'history_fluctuating',\n",
       " u'history_fullness',\n",
       " u'history_heredity',\n",
       " u'history_nausea',\n",
       " u'history_noise',\n",
       " u'history_recruitment',\n",
       " u'history_ringing',\n",
       " u'history_roaring',\n",
       " u'history_vomiting',\n",
       " u'late_wave_poor',\n",
       " u'm_at_2k',\n",
       " u'm_cond_lt_1k',\n",
       " u'm_gt_1k',\n",
       " u'm_m_gt_2k',\n",
       " u'm_m_sn',\n",
       " u'm_m_sn_gt_1k',\n",
       " u'm_m_sn_gt_2k',\n",
       " u'm_m_sn_gt_500',\n",
       " u'm_p_sn_gt_2k',\n",
       " u'm_s_gt_500',\n",
       " u'm_s_sn',\n",
       " u'm_s_sn_gt_1k',\n",
       " u'm_s_sn_gt_2k',\n",
       " u'm_s_sn_gt_3k',\n",
       " u'm_s_sn_gt_4k',\n",
       " u'm_sn_2_3k',\n",
       " u'm_sn_gt_1k',\n",
       " u'm_sn_gt_2k',\n",
       " u'm_sn_gt_3k',\n",
       " u'm_sn_gt_4k',\n",
       " u'm_sn_gt_500',\n",
       " u'm_sn_gt_6k',\n",
       " u'm_sn_lt_1k',\n",
       " u'm_sn_lt_2k',\n",
       " u'm_sn_lt_3k',\n",
       " u'middle_wave_poor',\n",
       " u'mod_gt_4k',\n",
       " u'mod_mixed',\n",
       " u'mod_s_mixed',\n",
       " u'mod_s_sn_gt_500',\n",
       " u'mod_sn',\n",
       " u'mod_sn_gt_1k',\n",
       " u'mod_sn_gt_2k',\n",
       " u'mod_sn_gt_3k',\n",
       " u'mod_sn_gt_4k',\n",
       " u'mod_sn_gt_500',\n",
       " u'notch_4k',\n",
       " u'notch_at_4k',\n",
       " u'o_ar_c',\n",
       " u'o_ar_u',\n",
       " u's_sn_gt_1k',\n",
       " u's_sn_gt_2k',\n",
       " u's_sn_gt_4k',\n",
       " u'speech',\n",
       " u'static_normal',\n",
       " u'tymp',\n",
       " u'viith_nerve_signs',\n",
       " u'wave_V_delayed',\n",
       " u'waveform_ItoV_prolonged',\n",
       " u'indentifier',\n",
       " u'class']"
      ]
     },
     "execution_count": 7,
     "metadata": {},
     "output_type": "execute_result"
    }
   ],
   "source": [
    "tetrad.getNodes()"
   ]
  },
  {
   "cell_type": "markdown",
   "metadata": {},
   "source": [
    "#### GFCI Discrete's Result's Edges"
   ]
  },
  {
   "cell_type": "code",
   "execution_count": 8,
   "metadata": {},
   "outputs": [
    {
     "data": {
      "text/plain": [
       "[u'history_fluctuating --> history_recruitment',\n",
       " u'bone o-o o_ar_u',\n",
       " u'boneAbnormal o-o bone',\n",
       " u'history_dizziness o-> history_roaring',\n",
       " u'history_vomiting o-> history_roaring',\n",
       " u'speech o-> air',\n",
       " u'ar_c o-o o_ar_c',\n",
       " u'm_sn_lt_1k o-> history_fluctuating',\n",
       " u'notch_at_4k o-o history_noise',\n",
       " u'history_buzzing o-o history_fullness',\n",
       " u'ar_u o-o airBoneGap',\n",
       " u'static_normal o-o history_dizziness',\n",
       " u'm_m_sn o-o age_gt_60',\n",
       " u'history_dizziness o-> history_fluctuating',\n",
       " u'history_roaring --> waveform_ItoV_prolonged',\n",
       " u'age_gt_60 o-o class',\n",
       " u'airBoneGap o-> air',\n",
       " u'tymp o-o airBoneGap',\n",
       " u'ar_u o-o o_ar_c',\n",
       " u'history_roaring --> history_nausea',\n",
       " u'wave_V_delayed o-o history_buzzing',\n",
       " u'late_wave_poor o-o middle_wave_poor',\n",
       " u'm_m_sn_gt_2k o-o notch_4k',\n",
       " u'middle_wave_poor o-o bser',\n",
       " u'notch_at_4k o-o class',\n",
       " u'history_recruitment --> m_sn_gt_1k',\n",
       " u'o_ar_u o-o ar_c',\n",
       " u'tymp o-o class',\n",
       " u'history_heredity o-o s_sn_gt_2k']"
      ]
     },
     "execution_count": 8,
     "metadata": {},
     "output_type": "execute_result"
    }
   ],
   "source": [
    "tetrad.getEdges()"
   ]
  },
  {
   "cell_type": "markdown",
   "metadata": {
    "collapsed": true
   },
   "source": [
    "#### Stop Java VM"
   ]
  },
  {
   "cell_type": "code",
   "execution_count": 9,
   "metadata": {
    "collapsed": true
   },
   "outputs": [],
   "source": [
    "pc.stop_vm()"
   ]
  },
  {
   "cell_type": "code",
   "execution_count": null,
   "metadata": {
    "collapsed": true
   },
   "outputs": [],
   "source": []
  }
 ],
 "metadata": {
  "kernelspec": {
   "display_name": "Python 2",
   "language": "python",
   "name": "python2"
  },
  "language_info": {
   "codemirror_mode": {
    "name": "ipython",
    "version": 2
   },
   "file_extension": ".py",
   "mimetype": "text/x-python",
   "name": "python",
   "nbconvert_exporter": "python",
   "pygments_lexer": "ipython2",
   "version": "2.7.13"
  },
  "widgets": {
   "state": {},
   "version": "1.1.1"
  }
 },
 "nbformat": 4,
 "nbformat_minor": 1
}
