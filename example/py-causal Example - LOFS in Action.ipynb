{
 "cells": [
  {
   "cell_type": "code",
   "execution_count": 1,
   "metadata": {
    "collapsed": true
   },
   "outputs": [],
   "source": [
    "import os\n",
    "import glob\n",
    "import pandas as pd\n",
    "import pydot\n",
    "from IPython.display import SVG"
   ]
  },
  {
   "cell_type": "code",
   "execution_count": 2,
   "metadata": {},
   "outputs": [
    {
     "name": "stdout",
     "output_type": "stream",
     "text": [
      "/home/jovyan/py-causal/example/../data/9var/sub016.cent-table.9.dat.txt\n",
      "/home/jovyan/py-causal/example/../data/9var/sub009.cent-table.9.dat.txt\n",
      "/home/jovyan/py-causal/example/../data/9var/sub005.cent-table.9.dat.txt\n",
      "/home/jovyan/py-causal/example/../data/9var/sub010.cent-table.9.dat.txt\n",
      "/home/jovyan/py-causal/example/../data/9var/sub013.cent-table.9.dat.txt\n",
      "/home/jovyan/py-causal/example/../data/9var/sub017.cent-table.9.dat.txt\n",
      "/home/jovyan/py-causal/example/../data/9var/sub014.cent-table.9.dat.txt\n",
      "/home/jovyan/py-causal/example/../data/9var/sub001.cent-table.9.dat.txt\n",
      "/home/jovyan/py-causal/example/../data/9var/sub004.cent-table.9.dat.txt\n"
     ]
    }
   ],
   "source": [
    "dfs = []\n",
    "tetrad_images_dir = os.path.join(os.getcwd(), '..', 'data', '9var')\n",
    "for d in glob.glob(tetrad_images_dir + os.sep + \"*.txt\"):\n",
    "    print d\n",
    "    df = pd.read_table(d, sep=\"\\t\")\n",
    "    dfs.append(df)"
   ]
  },
  {
   "cell_type": "code",
   "execution_count": 3,
   "metadata": {
    "collapsed": true
   },
   "outputs": [],
   "source": [
    "from pycausal import pycausal as pc\n",
    "pc.start_vm()"
   ]
  },
  {
   "cell_type": "code",
   "execution_count": 4,
   "metadata": {
    "collapsed": true
   },
   "outputs": [],
   "source": [
    "from pycausal import search as s\n",
    "fges = s.imagesSemBic(dfs, verbose = True)"
   ]
  },
  {
   "cell_type": "code",
   "execution_count": 5,
   "metadata": {},
   "outputs": [
    {
     "data": {
      "text/plain": [
       "[u'LOCC', u'LACC', u'LIFG', u'LIPL', u'ROCC', u'RACC', u'RIFG', u'RIPL', u'I']"
      ]
     },
     "execution_count": 5,
     "metadata": {},
     "output_type": "execute_result"
    }
   ],
   "source": [
    "fges.getNodes()"
   ]
  },
  {
   "cell_type": "code",
   "execution_count": 6,
   "metadata": {},
   "outputs": [
    {
     "data": {
      "text/plain": [
       "[u'LIPL --- LIFG',\n",
       " u'LIFG --> LACC',\n",
       " u'LIPL --- RIPL',\n",
       " u'RIPL --> RIFG',\n",
       " u'ROCC --- LOCC',\n",
       " u'LIPL --- LOCC',\n",
       " u'ROCC --> LACC',\n",
       " u'LIFG --> RIFG',\n",
       " u'LACC --> RACC',\n",
       " u'RIPL --> RACC',\n",
       " u'LOCC --- I']"
      ]
     },
     "execution_count": 6,
     "metadata": {},
     "output_type": "execute_result"
    }
   ],
   "source": [
    "fges.getEdges()"
   ]
  },
  {
   "cell_type": "code",
   "execution_count": 7,
   "metadata": {},
   "outputs": [
    {
     "data": {
      "image/svg+xml": [
       "<svg height=\"260pt\" viewBox=\"0.00 0.00 291.34 260.00\" width=\"291pt\" xmlns=\"http://www.w3.org/2000/svg\" xmlns:xlink=\"http://www.w3.org/1999/xlink\">\n",
       "<g class=\"graph\" id=\"graph0\" transform=\"scale(1 1) rotate(0) translate(4 256)\">\n",
       "<title>G</title>\n",
       "<polygon fill=\"white\" points=\"-4,4 -4,-256 287.344,-256 287.344,4 -4,4\" stroke=\"none\"/>\n",
       "<!-- LOCC -->\n",
       "<g class=\"node\" id=\"node1\"><title>LOCC</title>\n",
       "<ellipse cx=\"92.4469\" cy=\"-162\" fill=\"none\" rx=\"34.394\" ry=\"18\" stroke=\"black\"/>\n",
       "<text font-family=\"Times,serif\" font-size=\"14.00\" text-anchor=\"middle\" x=\"92.4469\" y=\"-158.3\">LOCC</text>\n",
       "</g>\n",
       "<!-- I -->\n",
       "<g class=\"node\" id=\"node9\"><title>I</title>\n",
       "<ellipse cx=\"113.447\" cy=\"-90\" fill=\"none\" rx=\"27\" ry=\"18\" stroke=\"black\"/>\n",
       "<text font-family=\"Times,serif\" font-size=\"14.00\" text-anchor=\"middle\" x=\"113.447\" y=\"-86.3\">I</text>\n",
       "</g>\n",
       "<!-- LOCC&#45;&gt;I -->\n",
       "<g class=\"edge\" id=\"edge11\"><title>LOCC-&gt;I</title>\n",
       "<path d=\"M97.5305,-144.055C100.832,-133.049 105.118,-118.764 108.41,-107.789\" fill=\"none\" stroke=\"black\"/>\n",
       "</g>\n",
       "<!-- LACC -->\n",
       "<g class=\"node\" id=\"node2\"><title>LACC</title>\n",
       "<ellipse cx=\"34.4469\" cy=\"-90\" fill=\"none\" rx=\"34.394\" ry=\"18\" stroke=\"black\"/>\n",
       "<text font-family=\"Times,serif\" font-size=\"14.00\" text-anchor=\"middle\" x=\"34.4469\" y=\"-86.3\">LACC</text>\n",
       "</g>\n",
       "<!-- RACC -->\n",
       "<g class=\"node\" id=\"node6\"><title>RACC</title>\n",
       "<ellipse cx=\"142.447\" cy=\"-18\" fill=\"none\" rx=\"34.394\" ry=\"18\" stroke=\"black\"/>\n",
       "<text font-family=\"Times,serif\" font-size=\"14.00\" text-anchor=\"middle\" x=\"142.447\" y=\"-14.3\">RACC</text>\n",
       "</g>\n",
       "<!-- LACC&#45;&gt;RACC -->\n",
       "<g class=\"edge\" id=\"edge9\"><title>LACC-&gt;RACC</title>\n",
       "<path d=\"M55.2704,-75.5033C71.7054,-64.851 94.8345,-49.8599 113.139,-37.9957\" fill=\"none\" stroke=\"black\"/>\n",
       "<polygon fill=\"black\" points=\"115.199,-40.8313 121.687,-32.4553 111.392,-34.9572 115.199,-40.8313\" stroke=\"black\"/>\n",
       "</g>\n",
       "<!-- LIFG -->\n",
       "<g class=\"node\" id=\"node3\"><title>LIFG</title>\n",
       "<ellipse cx=\"175.447\" cy=\"-162\" fill=\"none\" rx=\"30.5947\" ry=\"18\" stroke=\"black\"/>\n",
       "<text font-family=\"Times,serif\" font-size=\"14.00\" text-anchor=\"middle\" x=\"175.447\" y=\"-158.3\">LIFG</text>\n",
       "</g>\n",
       "<!-- LIFG&#45;&gt;LACC -->\n",
       "<g class=\"edge\" id=\"edge2\"><title>LIFG-&gt;LACC</title>\n",
       "<path d=\"M152.793,-149.753C129.775,-138.326 93.872,-120.502 67.644,-107.481\" fill=\"none\" stroke=\"black\"/>\n",
       "<polygon fill=\"black\" points=\"68.9738,-104.233 58.4605,-102.922 65.8611,-110.503 68.9738,-104.233\" stroke=\"black\"/>\n",
       "</g>\n",
       "<!-- RIFG -->\n",
       "<g class=\"node\" id=\"node7\"><title>RIFG</title>\n",
       "<ellipse cx=\"191.447\" cy=\"-90\" fill=\"none\" rx=\"30.5947\" ry=\"18\" stroke=\"black\"/>\n",
       "<text font-family=\"Times,serif\" font-size=\"14.00\" text-anchor=\"middle\" x=\"191.447\" y=\"-86.3\">RIFG</text>\n",
       "</g>\n",
       "<!-- LIFG&#45;&gt;RIFG -->\n",
       "<g class=\"edge\" id=\"edge8\"><title>LIFG-&gt;RIFG</title>\n",
       "<path d=\"M179.32,-144.055C181.102,-136.261 183.259,-126.822 185.257,-118.079\" fill=\"none\" stroke=\"black\"/>\n",
       "<polygon fill=\"black\" points=\"188.682,-118.804 187.498,-108.275 181.858,-117.244 188.682,-118.804\" stroke=\"black\"/>\n",
       "</g>\n",
       "<!-- LIPL -->\n",
       "<g class=\"node\" id=\"node4\"><title>LIPL</title>\n",
       "<ellipse cx=\"175.447\" cy=\"-234\" fill=\"none\" rx=\"29.4969\" ry=\"18\" stroke=\"black\"/>\n",
       "<text font-family=\"Times,serif\" font-size=\"14.00\" text-anchor=\"middle\" x=\"175.447\" y=\"-230.3\">LIPL</text>\n",
       "</g>\n",
       "<!-- LIPL&#45;&gt;LOCC -->\n",
       "<g class=\"edge\" id=\"edge6\"><title>LIPL-&gt;LOCC</title>\n",
       "<path d=\"M158.651,-218.834C144.44,-206.85 124.153,-189.74 109.79,-177.626\" fill=\"none\" stroke=\"black\"/>\n",
       "</g>\n",
       "<!-- LIPL&#45;&gt;LIFG -->\n",
       "<g class=\"edge\" id=\"edge1\"><title>LIPL-&gt;LIFG</title>\n",
       "<path d=\"M175.447,-215.697C175.447,-204.846 175.447,-190.917 175.447,-180.104\" fill=\"none\" stroke=\"black\"/>\n",
       "</g>\n",
       "<!-- RIPL -->\n",
       "<g class=\"node\" id=\"node8\"><title>RIPL</title>\n",
       "<ellipse cx=\"253.447\" cy=\"-162\" fill=\"none\" rx=\"29.795\" ry=\"18\" stroke=\"black\"/>\n",
       "<text font-family=\"Times,serif\" font-size=\"14.00\" text-anchor=\"middle\" x=\"253.447\" y=\"-158.3\">RIPL</text>\n",
       "</g>\n",
       "<!-- LIPL&#45;&gt;RIPL -->\n",
       "<g class=\"edge\" id=\"edge3\"><title>LIPL-&gt;RIPL</title>\n",
       "<path d=\"M191.231,-218.834C204.675,-206.77 223.905,-189.512 237.418,-177.385\" fill=\"none\" stroke=\"black\"/>\n",
       "</g>\n",
       "<!-- ROCC -->\n",
       "<g class=\"node\" id=\"node5\"><title>ROCC</title>\n",
       "<ellipse cx=\"61.4469\" cy=\"-234\" fill=\"none\" rx=\"34.394\" ry=\"18\" stroke=\"black\"/>\n",
       "<text font-family=\"Times,serif\" font-size=\"14.00\" text-anchor=\"middle\" x=\"61.4469\" y=\"-230.3\">ROCC</text>\n",
       "</g>\n",
       "<!-- ROCC&#45;&gt;LOCC -->\n",
       "<g class=\"edge\" id=\"edge5\"><title>ROCC-&gt;LOCC</title>\n",
       "<path d=\"M68.7935,-216.411C73.6635,-205.414 80.0348,-191.027 84.9378,-179.956\" fill=\"none\" stroke=\"black\"/>\n",
       "</g>\n",
       "<!-- ROCC&#45;&gt;LACC -->\n",
       "<g class=\"edge\" id=\"edge7\"><title>ROCC-&gt;LACC</title>\n",
       "<path d=\"M57.313,-215.866C54.8786,-205.512 51.8212,-192.033 49.4469,-180 45.3775,-159.376 41.4538,-135.926 38.6407,-118.276\" fill=\"none\" stroke=\"black\"/>\n",
       "<polygon fill=\"black\" points=\"42.0535,-117.448 37.0413,-108.113 35.1386,-118.536 42.0535,-117.448\" stroke=\"black\"/>\n",
       "</g>\n",
       "<!-- RIPL&#45;&gt;RACC -->\n",
       "<g class=\"edge\" id=\"edge10\"><title>RIPL-&gt;RACC</title>\n",
       "<path d=\"M253.059,-143.951C251.817,-124.72 247.278,-93.3516 231.447,-72 218.404,-54.4087 197.631,-41.5607 179.434,-32.9238\" fill=\"none\" stroke=\"black\"/>\n",
       "<polygon fill=\"black\" points=\"180.764,-29.6846 170.208,-28.7883 177.901,-36.0723 180.764,-29.6846\" stroke=\"black\"/>\n",
       "</g>\n",
       "<!-- RIPL&#45;&gt;RIFG -->\n",
       "<g class=\"edge\" id=\"edge4\"><title>RIPL-&gt;RIFG</title>\n",
       "<path d=\"M239.994,-145.811C231.82,-136.583 221.22,-124.615 212.011,-114.217\" fill=\"none\" stroke=\"black\"/>\n",
       "<polygon fill=\"black\" points=\"214.554,-111.809 205.303,-106.644 209.313,-116.451 214.554,-111.809\" stroke=\"black\"/>\n",
       "</g>\n",
       "</g>\n",
       "</svg>"
      ],
      "text/plain": [
       "<IPython.core.display.SVG object>"
      ]
     },
     "execution_count": 7,
     "metadata": {},
     "output_type": "execute_result"
    }
   ],
   "source": [
    "dot = fges.getDot()\n",
    "svg_str = dot.create_svg(prog='dot')\n",
    "SVG(svg_str)"
   ]
  },
  {
   "cell_type": "code",
   "execution_count": 8,
   "metadata": {
    "collapsed": true
   },
   "outputs": [],
   "source": [
    "tetradGraph = fges.getTetradGraph()\n",
    "lofs = s.lofs(tetradGraph, dfs, dataType = 0, rule = 'RSkewE', score = 'entropy')"
   ]
  },
  {
   "cell_type": "code",
   "execution_count": 9,
   "metadata": {},
   "outputs": [
    {
     "data": {
      "text/plain": [
       "[u'LIPL --> LIFG',\n",
       " u'LIFG --> LACC',\n",
       " u'RIPL --> LIPL',\n",
       " u'RIPL --> RIFG',\n",
       " u'ROCC --> LOCC',\n",
       " u'LIPL --> LOCC',\n",
       " u'ROCC --> LACC',\n",
       " u'LIFG --> RIFG',\n",
       " u'RACC --> LACC',\n",
       " u'RACC --> RIPL',\n",
       " u'I --> LOCC']"
      ]
     },
     "execution_count": 9,
     "metadata": {},
     "output_type": "execute_result"
    }
   ],
   "source": [
    "lofs.getEdges()"
   ]
  },
  {
   "cell_type": "code",
   "execution_count": 10,
   "metadata": {},
   "outputs": [
    {
     "data": {
      "image/svg+xml": [
       "<svg height=\"332pt\" viewBox=\"0.00 0.00 267.35 332.00\" width=\"267pt\" xmlns=\"http://www.w3.org/2000/svg\" xmlns:xlink=\"http://www.w3.org/1999/xlink\">\n",
       "<g class=\"graph\" id=\"graph0\" transform=\"scale(1 1) rotate(0) translate(4 328)\">\n",
       "<title>G</title>\n",
       "<polygon fill=\"white\" points=\"-4,4 -4,-328 263.35,-328 263.35,4 -4,4\" stroke=\"none\"/>\n",
       "<!-- LOCC -->\n",
       "<g class=\"node\" id=\"node1\"><title>LOCC</title>\n",
       "<ellipse cx=\"116.803\" cy=\"-90\" fill=\"none\" rx=\"34.394\" ry=\"18\" stroke=\"black\"/>\n",
       "<text font-family=\"Times,serif\" font-size=\"14.00\" text-anchor=\"middle\" x=\"116.803\" y=\"-86.3\">LOCC</text>\n",
       "</g>\n",
       "<!-- LACC -->\n",
       "<g class=\"node\" id=\"node2\"><title>LACC</title>\n",
       "<ellipse cx=\"47.8028\" cy=\"-18\" fill=\"none\" rx=\"34.394\" ry=\"18\" stroke=\"black\"/>\n",
       "<text font-family=\"Times,serif\" font-size=\"14.00\" text-anchor=\"middle\" x=\"47.8028\" y=\"-14.3\">LACC</text>\n",
       "</g>\n",
       "<!-- LIFG -->\n",
       "<g class=\"node\" id=\"node3\"><title>LIFG</title>\n",
       "<ellipse cx=\"199.803\" cy=\"-90\" fill=\"none\" rx=\"30.5947\" ry=\"18\" stroke=\"black\"/>\n",
       "<text font-family=\"Times,serif\" font-size=\"14.00\" text-anchor=\"middle\" x=\"199.803\" y=\"-86.3\">LIFG</text>\n",
       "</g>\n",
       "<!-- LIFG&#45;&gt;LACC -->\n",
       "<g class=\"edge\" id=\"edge2\"><title>LIFG-&gt;LACC</title>\n",
       "<path d=\"M176.386,-78.2159C151.172,-66.6043 110.813,-48.0181 82.0391,-34.7667\" fill=\"none\" stroke=\"black\"/>\n",
       "<polygon fill=\"black\" points=\"83.3107,-31.499 72.7635,-30.4951 80.3826,-37.8572 83.3107,-31.499\" stroke=\"black\"/>\n",
       "</g>\n",
       "<!-- RIFG -->\n",
       "<g class=\"node\" id=\"node7\"><title>RIFG</title>\n",
       "<ellipse cx=\"228.803\" cy=\"-18\" fill=\"none\" rx=\"30.5947\" ry=\"18\" stroke=\"black\"/>\n",
       "<text font-family=\"Times,serif\" font-size=\"14.00\" text-anchor=\"middle\" x=\"228.803\" y=\"-14.3\">RIFG</text>\n",
       "</g>\n",
       "<!-- LIFG&#45;&gt;RIFG -->\n",
       "<g class=\"edge\" id=\"edge8\"><title>LIFG-&gt;RIFG</title>\n",
       "<path d=\"M206.675,-72.411C210.021,-64.3352 214.124,-54.4312 217.884,-45.3547\" fill=\"none\" stroke=\"black\"/>\n",
       "<polygon fill=\"black\" points=\"221.184,-46.5344 221.778,-35.9562 214.717,-43.8552 221.184,-46.5344\" stroke=\"black\"/>\n",
       "</g>\n",
       "<!-- LIPL -->\n",
       "<g class=\"node\" id=\"node4\"><title>LIPL</title>\n",
       "<ellipse cx=\"200.803\" cy=\"-162\" fill=\"none\" rx=\"29.4969\" ry=\"18\" stroke=\"black\"/>\n",
       "<text font-family=\"Times,serif\" font-size=\"14.00\" text-anchor=\"middle\" x=\"200.803\" y=\"-158.3\">LIPL</text>\n",
       "</g>\n",
       "<!-- LIPL&#45;&gt;LOCC -->\n",
       "<g class=\"edge\" id=\"edge6\"><title>LIPL-&gt;LOCC</title>\n",
       "<path d=\"M184.207,-147.17C172.329,-137.272 156.108,-123.754 142.555,-112.46\" fill=\"none\" stroke=\"black\"/>\n",
       "<polygon fill=\"black\" points=\"144.447,-109.481 134.524,-105.768 139.966,-114.858 144.447,-109.481\" stroke=\"black\"/>\n",
       "</g>\n",
       "<!-- LIPL&#45;&gt;LIFG -->\n",
       "<g class=\"edge\" id=\"edge1\"><title>LIPL-&gt;LIFG</title>\n",
       "<path d=\"M200.556,-143.697C200.445,-135.983 200.313,-126.712 200.19,-118.112\" fill=\"none\" stroke=\"black\"/>\n",
       "<polygon fill=\"black\" points=\"203.69,-118.053 200.047,-108.104 196.69,-118.153 203.69,-118.053\" stroke=\"black\"/>\n",
       "</g>\n",
       "<!-- ROCC -->\n",
       "<g class=\"node\" id=\"node5\"><title>ROCC</title>\n",
       "<ellipse cx=\"47.8028\" cy=\"-162\" fill=\"none\" rx=\"34.394\" ry=\"18\" stroke=\"black\"/>\n",
       "<text font-family=\"Times,serif\" font-size=\"14.00\" text-anchor=\"middle\" x=\"47.8028\" y=\"-158.3\">ROCC</text>\n",
       "</g>\n",
       "<!-- ROCC&#45;&gt;LOCC -->\n",
       "<g class=\"edge\" id=\"edge5\"><title>ROCC-&gt;LOCC</title>\n",
       "<path d=\"M63.1161,-145.465C72.3173,-136.13 84.1882,-124.087 94.4269,-113.7\" fill=\"none\" stroke=\"black\"/>\n",
       "<polygon fill=\"black\" points=\"97.0049,-116.071 101.532,-106.492 92.0196,-111.157 97.0049,-116.071\" stroke=\"black\"/>\n",
       "</g>\n",
       "<!-- ROCC&#45;&gt;LACC -->\n",
       "<g class=\"edge\" id=\"edge7\"><title>ROCC-&gt;LACC</title>\n",
       "<path d=\"M47.8028,-143.871C47.8028,-119.67 47.8028,-75.2108 47.8028,-46.3932\" fill=\"none\" stroke=\"black\"/>\n",
       "<polygon fill=\"black\" points=\"51.3029,-46.1892 47.8028,-36.1893 44.3029,-46.1893 51.3029,-46.1892\" stroke=\"black\"/>\n",
       "</g>\n",
       "<!-- RACC -->\n",
       "<g class=\"node\" id=\"node6\"><title>RACC</title>\n",
       "<ellipse cx=\"92.8028\" cy=\"-306\" fill=\"none\" rx=\"34.394\" ry=\"18\" stroke=\"black\"/>\n",
       "<text font-family=\"Times,serif\" font-size=\"14.00\" text-anchor=\"middle\" x=\"92.8028\" y=\"-302.3\">RACC</text>\n",
       "</g>\n",
       "<!-- RACC&#45;&gt;LACC -->\n",
       "<g class=\"edge\" id=\"edge9\"><title>RACC-&gt;LACC</title>\n",
       "<path d=\"M77.245,-289.801C56.0386,-267.876 19.0656,-225.036 4.8028,-180 -10.2228,-132.555 14.3599,-76.1771 32.1055,-44.2934\" fill=\"none\" stroke=\"black\"/>\n",
       "<polygon fill=\"black\" points=\"35.155,-46.0114 37.1161,-35.5996 29.0901,-42.516 35.155,-46.0114\" stroke=\"black\"/>\n",
       "</g>\n",
       "<!-- RIPL -->\n",
       "<g class=\"node\" id=\"node8\"><title>RIPL</title>\n",
       "<ellipse cx=\"200.803\" cy=\"-234\" fill=\"none\" rx=\"29.795\" ry=\"18\" stroke=\"black\"/>\n",
       "<text font-family=\"Times,serif\" font-size=\"14.00\" text-anchor=\"middle\" x=\"200.803\" y=\"-230.3\">RIPL</text>\n",
       "</g>\n",
       "<!-- RACC&#45;&gt;RIPL -->\n",
       "<g class=\"edge\" id=\"edge10\"><title>RACC-&gt;RIPL</title>\n",
       "<path d=\"M113.626,-291.503C130.377,-280.646 154.082,-265.282 172.546,-253.315\" fill=\"none\" stroke=\"black\"/>\n",
       "<polygon fill=\"black\" points=\"174.647,-256.124 181.135,-247.748 170.84,-250.249 174.647,-256.124\" stroke=\"black\"/>\n",
       "</g>\n",
       "<!-- RIPL&#45;&gt;LIPL -->\n",
       "<g class=\"edge\" id=\"edge3\"><title>RIPL-&gt;LIPL</title>\n",
       "<path d=\"M200.803,-215.697C200.803,-207.983 200.803,-198.712 200.803,-190.112\" fill=\"none\" stroke=\"black\"/>\n",
       "<polygon fill=\"black\" points=\"204.303,-190.104 200.803,-180.104 197.303,-190.104 204.303,-190.104\" stroke=\"black\"/>\n",
       "</g>\n",
       "<!-- RIPL&#45;&gt;RIFG -->\n",
       "<g class=\"edge\" id=\"edge4\"><title>RIPL-&gt;RIFG</title>\n",
       "<path d=\"M215.236,-218.181C223.871,-208.257 234.06,-194.411 238.803,-180 253.734,-134.633 244.334,-78.2596 236.393,-45.6783\" fill=\"none\" stroke=\"black\"/>\n",
       "<polygon fill=\"black\" points=\"239.78,-44.7933 233.9,-35.9801 233,-46.5367 239.78,-44.7933\" stroke=\"black\"/>\n",
       "</g>\n",
       "<!-- I -->\n",
       "<g class=\"node\" id=\"node9\"><title>I</title>\n",
       "<ellipse cx=\"126.803\" cy=\"-162\" fill=\"none\" rx=\"27\" ry=\"18\" stroke=\"black\"/>\n",
       "<text font-family=\"Times,serif\" font-size=\"14.00\" text-anchor=\"middle\" x=\"126.803\" y=\"-158.3\">I</text>\n",
       "</g>\n",
       "<!-- I&#45;&gt;LOCC -->\n",
       "<g class=\"edge\" id=\"edge11\"><title>I-&gt;LOCC</title>\n",
       "<path d=\"M124.382,-144.055C123.281,-136.346 121.95,-127.027 120.712,-118.364\" fill=\"none\" stroke=\"black\"/>\n",
       "<polygon fill=\"black\" points=\"124.15,-117.68 119.271,-108.275 117.22,-118.67 124.15,-117.68\" stroke=\"black\"/>\n",
       "</g>\n",
       "</g>\n",
       "</svg>"
      ],
      "text/plain": [
       "<IPython.core.display.SVG object>"
      ]
     },
     "execution_count": 10,
     "metadata": {},
     "output_type": "execute_result"
    }
   ],
   "source": [
    "dot = lofs.getDot()\n",
    "svg_str = dot.create_svg(prog='dot')\n",
    "SVG(svg_str)"
   ]
  },
  {
   "cell_type": "code",
   "execution_count": 11,
   "metadata": {
    "collapsed": true
   },
   "outputs": [],
   "source": [
    "pc.stop_vm()"
   ]
  },
  {
   "cell_type": "code",
   "execution_count": null,
   "metadata": {
    "collapsed": true
   },
   "outputs": [],
   "source": []
  }
 ],
 "metadata": {
  "kernelspec": {
   "display_name": "Python 2",
   "language": "python",
   "name": "python2"
  },
  "language_info": {
   "codemirror_mode": {
    "name": "ipython",
    "version": 2
   },
   "file_extension": ".py",
   "mimetype": "text/x-python",
   "name": "python",
   "nbconvert_exporter": "python",
   "pygments_lexer": "ipython2",
   "version": "2.7.13"
  }
 },
 "nbformat": 4,
 "nbformat_minor": 2
}
