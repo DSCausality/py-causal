{
 "cells": [
  {
   "cell_type": "code",
   "execution_count": 1,
   "metadata": {
    "collapsed": true
   },
   "outputs": [],
   "source": [
    "import pandas as pd\n",
    "import pydot\n",
    "from IPython.display import SVG"
   ]
  },
  {
   "cell_type": "markdown",
   "metadata": {},
   "source": [
    "#### Load the example dataset"
   ]
  },
  {
   "cell_type": "code",
   "execution_count": 2,
   "metadata": {
    "collapsed": true
   },
   "outputs": [],
   "source": [
    "data_dir = \"https://raw.githubusercontent.com/bd2kccd/py-causal/master/data/audiology.txt\"\n",
    "df = pd.read_table(data_dir, sep=\"\\t\")"
   ]
  },
  {
   "cell_type": "markdown",
   "metadata": {
    "collapsed": true
   },
   "source": [
    "#### Start Java VM"
   ]
  },
  {
   "cell_type": "code",
   "execution_count": 3,
   "metadata": {
    "collapsed": true
   },
   "outputs": [],
   "source": [
    "from pycausal import pycausal as pc\n",
    "pc.start_vm(java_max_heap_size = '500M')"
   ]
  },
  {
   "cell_type": "markdown",
   "metadata": {},
   "source": [
    "#### Create the Prior Knowledge Object"
   ]
  },
  {
   "cell_type": "code",
   "execution_count": 4,
   "metadata": {},
   "outputs": [
    {
     "data": {
      "text/plain": [
       "Instance of edu.cmu.tetrad.data.Knowledge2: /knowledge\n",
       "addtemporal\n",
       "\n",
       "0* class history_fluctuating history_noise \n",
       "\n",
       "forbiddirect\n",
       "\n",
       "history_noise ==> class \n",
       "history_fluctuating ==> class \n",
       "requiredirect\n"
      ]
     },
     "execution_count": 4,
     "metadata": {},
     "output_type": "execute_result"
    }
   ],
   "source": [
    "from pycausal import prior as p\n",
    "forbid = [['history_noise','class'],['history_fluctuating','class']]\n",
    "tempForbid = p.ForbiddenWithin(\n",
    "    ['class','history_fluctuating','history_noise'])\n",
    "temporal = [tempForbid]\n",
    "prior = p.knowledge(forbiddirect = forbid, addtemporal = temporal)\n",
    "prior"
   ]
  },
  {
   "cell_type": "markdown",
   "metadata": {
    "collapsed": true
   },
   "source": [
    "#### Load causal algorithms from the py-causal library and Run Bootstrapping RFCI Discrete"
   ]
  },
  {
   "cell_type": "code",
   "execution_count": 5,
   "metadata": {
    "collapsed": true
   },
   "outputs": [],
   "source": [
    "from pycausal import search as s\n",
    "rfci = s.bootstrapRfciDiscrete(df, numBootstrapSamples = 5, ensembleMethod = 'Preserved', depth = 3, \n",
    "significance = 0.05, verbose = True, priorKnowledge = prior)"
   ]
  },
  {
   "cell_type": "markdown",
   "metadata": {
    "collapsed": true
   },
   "source": [
    "#### Bootstrapping RFCI Discrete's Result's Nodes"
   ]
  },
  {
   "cell_type": "code",
   "execution_count": 6,
   "metadata": {},
   "outputs": [
    {
     "data": {
      "text/plain": [
       "[u'age_gt_60',\n",
       " u'air',\n",
       " u'airBoneGap',\n",
       " u'ar_c',\n",
       " u'ar_u',\n",
       " u'bone',\n",
       " u'boneAbnormal',\n",
       " u'bser',\n",
       " u'history_buzzing',\n",
       " u'history_dizziness',\n",
       " u'history_fluctuating',\n",
       " u'history_fullness',\n",
       " u'history_heredity',\n",
       " u'history_nausea',\n",
       " u'history_noise',\n",
       " u'history_recruitment',\n",
       " u'history_ringing',\n",
       " u'history_roaring',\n",
       " u'history_vomiting',\n",
       " u'late_wave_poor',\n",
       " u'm_at_2k',\n",
       " u'm_cond_lt_1k',\n",
       " u'm_gt_1k',\n",
       " u'm_m_gt_2k',\n",
       " u'm_m_sn',\n",
       " u'm_m_sn_gt_1k',\n",
       " u'm_m_sn_gt_2k',\n",
       " u'm_m_sn_gt_500',\n",
       " u'm_p_sn_gt_2k',\n",
       " u'm_s_gt_500',\n",
       " u'm_s_sn',\n",
       " u'm_s_sn_gt_1k',\n",
       " u'm_s_sn_gt_2k',\n",
       " u'm_s_sn_gt_3k',\n",
       " u'm_s_sn_gt_4k',\n",
       " u'm_sn_2_3k',\n",
       " u'm_sn_gt_1k',\n",
       " u'm_sn_gt_2k',\n",
       " u'm_sn_gt_3k',\n",
       " u'm_sn_gt_4k',\n",
       " u'm_sn_gt_500',\n",
       " u'm_sn_gt_6k',\n",
       " u'm_sn_lt_1k',\n",
       " u'm_sn_lt_2k',\n",
       " u'm_sn_lt_3k',\n",
       " u'middle_wave_poor',\n",
       " u'mod_gt_4k',\n",
       " u'mod_mixed',\n",
       " u'mod_s_mixed',\n",
       " u'mod_s_sn_gt_500',\n",
       " u'mod_sn',\n",
       " u'mod_sn_gt_1k',\n",
       " u'mod_sn_gt_2k',\n",
       " u'mod_sn_gt_3k',\n",
       " u'mod_sn_gt_4k',\n",
       " u'mod_sn_gt_500',\n",
       " u'notch_4k',\n",
       " u'notch_at_4k',\n",
       " u'o_ar_c',\n",
       " u'o_ar_u',\n",
       " u's_sn_gt_1k',\n",
       " u's_sn_gt_2k',\n",
       " u's_sn_gt_4k',\n",
       " u'speech',\n",
       " u'static_normal',\n",
       " u'tymp',\n",
       " u'viith_nerve_signs',\n",
       " u'wave_V_delayed',\n",
       " u'waveform_ItoV_prolonged',\n",
       " u'indentifier',\n",
       " u'class']"
      ]
     },
     "execution_count": 6,
     "metadata": {},
     "output_type": "execute_result"
    }
   ],
   "source": [
    "rfci.getNodes()"
   ]
  },
  {
   "cell_type": "markdown",
   "metadata": {},
   "source": [
    "#### Bootstrapping RFCI Discrete's Result's Edges"
   ]
  },
  {
   "cell_type": "code",
   "execution_count": 7,
   "metadata": {},
   "outputs": [
    {
     "data": {
      "text/plain": [
       "[u'm_m_sn_gt_1k o-> indentifier [no edge]:0.4000[-->]:0.0000[<--]:0.0000[o->]:0.6000[<-o]:0.0000[o-o]:0.0000[<->]:0.0000[---]:0.0000',\n",
       " u'm_sn_2_3k o-> indentifier [no edge]:0.6000[-->]:0.0000[<--]:0.0000[o->]:0.4000[<-o]:0.0000[o-o]:0.0000[<->]:0.0000[---]:0.0000',\n",
       " u'history_noise o-> indentifier [no edge]:0.0000[-->]:0.0000[<--]:0.0000[o->]:1.0000[<-o]:0.0000[o-o]:0.0000[<->]:0.0000[---]:0.0000',\n",
       " u'mod_sn_gt_500 o-> indentifier [no edge]:0.8000[-->]:0.0000[<--]:0.0000[o->]:0.2000[<-o]:0.0000[o-o]:0.0000[<->]:0.0000[---]:0.0000',\n",
       " u'mod_sn_gt_4k o-> indentifier [no edge]:0.2000[-->]:0.0000[<--]:0.0000[o->]:0.8000[<-o]:0.0000[o-o]:0.0000[<->]:0.0000[---]:0.0000',\n",
       " u'm_sn_gt_2k o-> indentifier [no edge]:0.0000[-->]:0.0000[<--]:0.0000[o->]:1.0000[<-o]:0.0000[o-o]:0.0000[<->]:0.0000[---]:0.0000',\n",
       " u'class o-> indentifier [no edge]:0.0000[-->]:0.0000[<--]:0.0000[o->]:0.0000[<-o]:1.0000[o-o]:0.0000[<->]:0.0000[---]:0.0000',\n",
       " u's_sn_gt_1k o-> indentifier [no edge]:0.4000[-->]:0.0000[<--]:0.0000[o->]:0.6000[<-o]:0.0000[o-o]:0.0000[<->]:0.0000[---]:0.0000',\n",
       " u'ar_c o-> indentifier [no edge]:0.0000[-->]:0.0000[<--]:0.0000[o->]:1.0000[<-o]:0.0000[o-o]:0.0000[<->]:0.0000[---]:0.0000',\n",
       " u'static_normal o-> indentifier [no edge]:0.2000[-->]:0.0000[<--]:0.0000[o->]:0.8000[<-o]:0.0000[o-o]:0.0000[<->]:0.0000[---]:0.0000',\n",
       " u'm_sn_gt_4k o-> indentifier [no edge]:0.0000[-->]:0.0000[<--]:0.0000[o->]:1.0000[<-o]:0.0000[o-o]:0.0000[<->]:0.0000[---]:0.0000',\n",
       " u'history_nausea o-> indentifier [no edge]:0.4000[-->]:0.0000[<--]:0.0000[o->]:0.6000[<-o]:0.0000[o-o]:0.0000[<->]:0.0000[---]:0.0000',\n",
       " u'm_m_sn o-> indentifier [no edge]:0.2000[-->]:0.0000[<--]:0.0000[o->]:0.8000[<-o]:0.0000[o-o]:0.0000[<->]:0.0000[---]:0.0000',\n",
       " u'm_sn_lt_2k o-> indentifier [no edge]:0.2000[-->]:0.0000[<--]:0.0000[o->]:0.8000[<-o]:0.0000[o-o]:0.0000[<->]:0.0000[---]:0.0000',\n",
       " u'age_gt_60 o-> indentifier [no edge]:0.6000[-->]:0.0000[<--]:0.0000[o->]:0.4000[<-o]:0.0000[o-o]:0.0000[<->]:0.0000[---]:0.0000',\n",
       " u'ar_u o-> indentifier [no edge]:0.0000[-->]:0.0000[<--]:0.0000[o->]:1.0000[<-o]:0.0000[o-o]:0.0000[<->]:0.0000[---]:0.0000',\n",
       " u'm_sn_gt_3k o-> indentifier [no edge]:0.2000[-->]:0.0000[<--]:0.0000[o->]:0.8000[<-o]:0.0000[o-o]:0.0000[<->]:0.0000[---]:0.0000',\n",
       " u'm_m_gt_2k o-> indentifier [no edge]:0.2000[-->]:0.0000[<--]:0.0000[o->]:0.8000[<-o]:0.0000[o-o]:0.0000[<->]:0.0000[---]:0.0000',\n",
       " u'm_sn_gt_1k o-> indentifier [no edge]:0.4000[-->]:0.0000[<--]:0.0000[o->]:0.6000[<-o]:0.0000[o-o]:0.0000[<->]:0.0000[---]:0.0000',\n",
       " u'mod_sn_gt_1k o-> indentifier [no edge]:0.8000[-->]:0.0000[<--]:0.0000[o->]:0.2000[<-o]:0.0000[o-o]:0.0000[<->]:0.0000[---]:0.0000',\n",
       " u'o_ar_u o-> indentifier [no edge]:0.0000[-->]:0.0000[<--]:0.0000[o->]:1.0000[<-o]:0.0000[o-o]:0.0000[<->]:0.0000[---]:0.0000',\n",
       " u'm_sn_lt_3k o-> indentifier [no edge]:0.4000[-->]:0.0000[<--]:0.0000[o->]:0.6000[<-o]:0.0000[o-o]:0.0000[<->]:0.0000[---]:0.0000',\n",
       " u'o_ar_c o-> indentifier [no edge]:0.0000[-->]:0.0000[<--]:0.0000[o->]:1.0000[<-o]:0.0000[o-o]:0.0000[<->]:0.0000[---]:0.0000',\n",
       " u'mod_sn_gt_3k o-> indentifier [no edge]:0.0000[-->]:0.0000[<--]:0.0000[o->]:1.0000[<-o]:0.0000[o-o]:0.0000[<->]:0.0000[---]:0.0000',\n",
       " u'history_dizziness o-> indentifier [no edge]:0.0000[-->]:0.0000[<--]:0.0000[o->]:1.0000[<-o]:0.0000[o-o]:0.0000[<->]:0.0000[---]:0.0000',\n",
       " u'speech o-> indentifier [no edge]:0.0000[-->]:0.0000[<--]:0.0000[o->]:1.0000[<-o]:0.0000[o-o]:0.0000[<->]:0.0000[---]:0.0000',\n",
       " u'boneAbnormal o-> indentifier [no edge]:0.0000[-->]:0.0000[<--]:0.0000[o->]:1.0000[<-o]:0.0000[o-o]:0.0000[<->]:0.0000[---]:0.0000',\n",
       " u'air o-> indentifier [no edge]:0.0000[-->]:0.0000[<--]:0.0000[o->]:1.0000[<-o]:0.0000[o-o]:0.0000[<->]:0.0000[---]:0.0000',\n",
       " u'bone o-> indentifier [no edge]:0.0000[-->]:0.0000[<--]:0.0000[o->]:1.0000[<-o]:0.0000[o-o]:0.0000[<->]:0.0000[---]:0.0000',\n",
       " u'mod_sn_gt_2k o-> indentifier [no edge]:0.4000[-->]:0.0000[<--]:0.0000[o->]:0.6000[<-o]:0.0000[o-o]:0.0000[<->]:0.0000[---]:0.0000',\n",
       " u'notch_4k o-> indentifier [no edge]:0.0000[-->]:0.0000[<--]:0.0000[o->]:1.0000[<-o]:0.0000[o-o]:0.0000[<->]:0.0000[---]:0.0000',\n",
       " u'history_vomiting o-> indentifier [no edge]:0.8000[-->]:0.0000[<--]:0.0000[o->]:0.2000[<-o]:0.0000[o-o]:0.0000[<->]:0.0000[---]:0.0000']"
      ]
     },
     "execution_count": 7,
     "metadata": {},
     "output_type": "execute_result"
    }
   ],
   "source": [
    "rfci.getEdges()"
   ]
  },
  {
   "cell_type": "markdown",
   "metadata": {
    "collapsed": true
   },
   "source": [
    "#### Stop Java VM"
   ]
  },
  {
   "cell_type": "code",
   "execution_count": 8,
   "metadata": {
    "collapsed": true
   },
   "outputs": [],
   "source": [
    "pc.stop_vm()"
   ]
  },
  {
   "cell_type": "code",
   "execution_count": null,
   "metadata": {
    "collapsed": true
   },
   "outputs": [],
   "source": []
  }
 ],
 "metadata": {
  "kernelspec": {
   "display_name": "Python 2",
   "language": "python",
   "name": "python2"
  },
  "language_info": {
   "codemirror_mode": {
    "name": "ipython",
    "version": 2
   },
   "file_extension": ".py",
   "mimetype": "text/x-python",
   "name": "python",
   "nbconvert_exporter": "python",
   "pygments_lexer": "ipython2",
   "version": "2.7.13"
  },
  "widgets": {
   "state": {},
   "version": "1.1.1"
  }
 },
 "nbformat": 4,
 "nbformat_minor": 1
}
