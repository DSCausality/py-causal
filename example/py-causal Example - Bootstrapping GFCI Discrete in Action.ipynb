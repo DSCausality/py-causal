{
 "cells": [
  {
   "cell_type": "code",
   "execution_count": 1,
   "metadata": {
    "collapsed": true
   },
   "outputs": [],
   "source": [
    "import pandas as pd\n",
    "import pydot\n",
    "from IPython.display import SVG"
   ]
  },
  {
   "cell_type": "markdown",
   "metadata": {},
   "source": [
    "#### Load the example dataset"
   ]
  },
  {
   "cell_type": "code",
   "execution_count": 2,
   "metadata": {
    "collapsed": true
   },
   "outputs": [],
   "source": [
    "data_dir = \"https://raw.githubusercontent.com/bd2kccd/py-causal/master/data/audiology.txt\"\n",
    "df = pd.read_table(data_dir, sep=\"\\t\")"
   ]
  },
  {
   "cell_type": "markdown",
   "metadata": {
    "collapsed": true
   },
   "source": [
    "#### Start Java VM"
   ]
  },
  {
   "cell_type": "code",
   "execution_count": 3,
   "metadata": {
    "collapsed": true
   },
   "outputs": [],
   "source": [
    "from pycausal import pycausal as pc\n",
    "pc.start_vm(java_max_heap_size = '1000M')"
   ]
  },
  {
   "cell_type": "markdown",
   "metadata": {},
   "source": [
    "#### Create the Prior Knowledge Object"
   ]
  },
  {
   "cell_type": "code",
   "execution_count": 4,
   "metadata": {},
   "outputs": [
    {
     "data": {
      "text/plain": [
       "Instance of edu.cmu.tetrad.data.Knowledge2: /knowledge\n",
       "addtemporal\n",
       "\n",
       "0* class history_fluctuating history_noise \n",
       "\n",
       "forbiddirect\n",
       "\n",
       "history_noise ==> class \n",
       "history_fluctuating ==> class \n",
       "requiredirect\n"
      ]
     },
     "execution_count": 4,
     "metadata": {},
     "output_type": "execute_result"
    }
   ],
   "source": [
    "from pycausal import prior as p\n",
    "forbid = [['history_noise','class'],['history_fluctuating','class']]\n",
    "tempForbid = p.ForbiddenWithin(\n",
    "    ['class','history_fluctuating','history_noise'])\n",
    "temporal = [tempForbid]\n",
    "prior = p.knowledge(forbiddirect = forbid, addtemporal = temporal)\n",
    "prior"
   ]
  },
  {
   "cell_type": "markdown",
   "metadata": {
    "collapsed": true
   },
   "source": [
    "#### Load causal algorithms from the py-causal library and Run Bootstrapping GFCI Discrete"
   ]
  },
  {
   "cell_type": "code",
   "execution_count": 5,
   "metadata": {},
   "outputs": [],
   "source": [
    "from pycausal import search as s\n",
    "gfci = s.gfciDiscrete(df, structurePrior = 1.0, \n",
    "samplePrior = 1.0, maxDegree = 3, maxPathLength = -1, alpha = 0.05, completeRuleSetUsed = False, \n",
    "faithfulnessAssumed = True, verbose = True, priorKnowledge = prior, numBootstrap = 4, ensembleMethod = 'Preserved')"
   ]
  },
  {
   "cell_type": "markdown",
   "metadata": {
    "collapsed": true
   },
   "source": [
    "#### Bootstrapping GFCI Discrete's Result's Nodes"
   ]
  },
  {
   "cell_type": "code",
   "execution_count": 6,
   "metadata": {},
   "outputs": [
    {
     "data": {
      "text/plain": [
       "[u'age_gt_60',\n",
       " u'air',\n",
       " u'airBoneGap',\n",
       " u'ar_c',\n",
       " u'ar_u',\n",
       " u'bone',\n",
       " u'boneAbnormal',\n",
       " u'bser',\n",
       " u'history_buzzing',\n",
       " u'history_dizziness',\n",
       " u'history_fluctuating',\n",
       " u'history_fullness',\n",
       " u'history_heredity',\n",
       " u'history_nausea',\n",
       " u'history_noise',\n",
       " u'history_recruitment',\n",
       " u'history_ringing',\n",
       " u'history_roaring',\n",
       " u'history_vomiting',\n",
       " u'late_wave_poor',\n",
       " u'm_at_2k',\n",
       " u'm_cond_lt_1k',\n",
       " u'm_gt_1k',\n",
       " u'm_m_gt_2k',\n",
       " u'm_m_sn',\n",
       " u'm_m_sn_gt_1k',\n",
       " u'm_m_sn_gt_2k',\n",
       " u'm_m_sn_gt_500',\n",
       " u'm_p_sn_gt_2k',\n",
       " u'm_s_gt_500',\n",
       " u'm_s_sn',\n",
       " u'm_s_sn_gt_1k',\n",
       " u'm_s_sn_gt_2k',\n",
       " u'm_s_sn_gt_3k',\n",
       " u'm_s_sn_gt_4k',\n",
       " u'm_sn_2_3k',\n",
       " u'm_sn_gt_1k',\n",
       " u'm_sn_gt_2k',\n",
       " u'm_sn_gt_3k',\n",
       " u'm_sn_gt_4k',\n",
       " u'm_sn_gt_500',\n",
       " u'm_sn_gt_6k',\n",
       " u'm_sn_lt_1k',\n",
       " u'm_sn_lt_2k',\n",
       " u'm_sn_lt_3k',\n",
       " u'middle_wave_poor',\n",
       " u'mod_gt_4k',\n",
       " u'mod_mixed',\n",
       " u'mod_s_mixed',\n",
       " u'mod_s_sn_gt_500',\n",
       " u'mod_sn',\n",
       " u'mod_sn_gt_1k',\n",
       " u'mod_sn_gt_2k',\n",
       " u'mod_sn_gt_3k',\n",
       " u'mod_sn_gt_4k',\n",
       " u'mod_sn_gt_500',\n",
       " u'notch_4k',\n",
       " u'notch_at_4k',\n",
       " u'o_ar_c',\n",
       " u'o_ar_u',\n",
       " u's_sn_gt_1k',\n",
       " u's_sn_gt_2k',\n",
       " u's_sn_gt_4k',\n",
       " u'speech',\n",
       " u'static_normal',\n",
       " u'tymp',\n",
       " u'viith_nerve_signs',\n",
       " u'wave_V_delayed',\n",
       " u'waveform_ItoV_prolonged',\n",
       " u'indentifier',\n",
       " u'class']"
      ]
     },
     "execution_count": 6,
     "metadata": {},
     "output_type": "execute_result"
    }
   ],
   "source": [
    "gfci.getNodes()"
   ]
  },
  {
   "cell_type": "markdown",
   "metadata": {},
   "source": [
    "#### Bootstrapping GFCI Discrete's Result's Edges"
   ]
  },
  {
   "cell_type": "code",
   "execution_count": 7,
   "metadata": {},
   "outputs": [
    {
     "data": {
      "text/plain": [
       "[u'history_nausea --> speech [no edge]:0.7500[-->]:0.2500[<--]:0.0000[o->]:0.0000[<-o]:0.0000[o-o]:0.0000[<->]:0.0000[---]:0.0000',\n",
       " u'bone --> mod_sn_gt_4k [no edge]:0.7500[-->]:0.2500[<--]:0.0000[o->]:0.0000[<-o]:0.0000[o-o]:0.0000[<->]:0.0000[---]:0.0000',\n",
       " u'o_ar_u --> indentifier [no edge]:0.7500[-->]:0.2500[<--]:0.0000[o->]:0.0000[<-o]:0.0000[o-o]:0.0000[<->]:0.0000[---]:0.0000',\n",
       " u'tymp --> class [no edge]:0.0000[-->]:0.7500[<--]:0.0000[o->]:0.2500[<-o]:0.0000[o-o]:0.0000[<->]:0.0000[---]:0.0000',\n",
       " u'm_sn_gt_2k --> late_wave_poor [no edge]:0.7500[-->]:0.0000[<--]:0.2500[o->]:0.0000[<-o]:0.0000[o-o]:0.0000[<->]:0.0000[---]:0.0000',\n",
       " u'ar_u --> airBoneGap [no edge]:0.2500[-->]:0.0000[<--]:0.2500[o->]:0.2500[<-o]:0.0000[o-o]:0.2500[<->]:0.0000[---]:0.0000',\n",
       " u'm_sn_gt_500 o-> history_ringing [no edge]:0.7500[-->]:0.0000[<--]:0.0000[o->]:0.0000[<-o]:0.2500[o-o]:0.0000[<->]:0.0000[---]:0.0000',\n",
       " u'history_roaring --> history_nausea [no edge]:0.0000[-->]:0.0000[<--]:0.5000[o->]:0.0000[<-o]:0.5000[o-o]:0.0000[<->]:0.0000[---]:0.0000',\n",
       " u'history_nausea --> history_dizziness [no edge]:0.7500[-->]:0.0000[<--]:0.2500[o->]:0.0000[<-o]:0.0000[o-o]:0.0000[<->]:0.0000[---]:0.0000',\n",
       " u'history_ringing o-o wave_V_delayed [no edge]:0.2500[-->]:0.0000[<--]:0.0000[o->]:0.2500[<-o]:0.0000[o-o]:0.5000[<->]:0.0000[---]:0.0000',\n",
       " u'history_noise o-> notch_at_4k [no edge]:0.2500[-->]:0.0000[<--]:0.0000[o->]:0.2500[<-o]:0.2500[o-o]:0.2500[<->]:0.0000[---]:0.0000',\n",
       " u'history_heredity o-o s_sn_gt_2k [no edge]:0.5000[-->]:0.0000[<--]:0.0000[o->]:0.0000[<-o]:0.0000[o-o]:0.5000[<->]:0.0000[---]:0.0000',\n",
       " u'history_ringing o-> tymp [no edge]:0.7500[-->]:0.0000[<--]:0.0000[o->]:0.2500[<-o]:0.0000[o-o]:0.0000[<->]:0.0000[---]:0.0000',\n",
       " u'history_dizziness --> history_fluctuating [no edge]:0.5000[-->]:0.2500[<--]:0.0000[o->]:0.0000[<-o]:0.2500[o-o]:0.0000[<->]:0.0000[---]:0.0000',\n",
       " u'o_ar_c --> ar_c [no edge]:0.0000[-->]:0.0000[<--]:0.7500[o->]:0.0000[<-o]:0.0000[o-o]:0.2500[<->]:0.0000[---]:0.0000',\n",
       " u'history_noise o-o m_m_sn_gt_1k [no edge]:0.7500[-->]:0.0000[<--]:0.0000[o->]:0.0000[<-o]:0.0000[o-o]:0.2500[<->]:0.0000[---]:0.0000',\n",
       " u'speech --> indentifier [no edge]:0.0000[-->]:0.5000[<--]:0.0000[o->]:0.5000[<-o]:0.0000[o-o]:0.0000[<->]:0.0000[---]:0.0000',\n",
       " u'm_sn_lt_1k o-> history_fluctuating [no edge]:0.5000[-->]:0.0000[<--]:0.0000[o->]:0.0000[<-o]:0.2500[o-o]:0.2500[<->]:0.0000[---]:0.0000',\n",
       " u'boneAbnormal --> s_sn_gt_4k [no edge]:0.7500[-->]:0.2500[<--]:0.0000[o->]:0.0000[<-o]:0.0000[o-o]:0.0000[<->]:0.0000[---]:0.0000',\n",
       " u'age_gt_60 --> o_ar_c [no edge]:0.5000[-->]:0.2500[<--]:0.0000[o->]:0.0000[<-o]:0.0000[o-o]:0.2500[<->]:0.0000[---]:0.0000',\n",
       " u'mod_sn_gt_3k o-o notch_4k [no edge]:0.7500[-->]:0.0000[<--]:0.0000[o->]:0.0000[<-o]:0.0000[o-o]:0.2500[<->]:0.0000[---]:0.0000',\n",
       " u'o_ar_u o-> ar_u [no edge]:0.7500[-->]:0.0000[<--]:0.0000[o->]:0.0000[<-o]:0.2500[o-o]:0.0000[<->]:0.0000[---]:0.0000',\n",
       " u'bone --> air [no edge]:0.7500[-->]:0.0000[<--]:0.2500[o->]:0.0000[<-o]:0.0000[o-o]:0.0000[<->]:0.0000[---]:0.0000',\n",
       " u'age_gt_60 o-o m_m_sn [no edge]:0.2500[-->]:0.0000[<--]:0.0000[o->]:0.2500[<-o]:0.0000[o-o]:0.5000[<->]:0.0000[---]:0.0000',\n",
       " u'age_gt_60 o-> class [no edge]:0.0000[-->]:0.0000[<--]:0.2500[o->]:0.7500[<-o]:0.0000[o-o]:0.0000[<->]:0.0000[---]:0.0000',\n",
       " u'm_gt_1k o-> history_ringing [no edge]:0.7500[-->]:0.0000[<--]:0.0000[o->]:0.0000[<-o]:0.2500[o-o]:0.0000[<->]:0.0000[---]:0.0000',\n",
       " u'late_wave_poor --> bser [no edge]:0.7500[-->]:0.0000[<--]:0.2500[o->]:0.0000[<-o]:0.0000[o-o]:0.0000[<->]:0.0000[---]:0.0000',\n",
       " u'history_vomiting o-o static_normal [no edge]:0.7500[-->]:0.0000[<--]:0.0000[o->]:0.0000[<-o]:0.0000[o-o]:0.2500[<->]:0.0000[---]:0.0000',\n",
       " u'm_s_gt_500 o-o notch_4k [no edge]:0.7500[-->]:0.0000[<--]:0.0000[o->]:0.0000[<-o]:0.0000[o-o]:0.2500[<->]:0.0000[---]:0.0000',\n",
       " u'notch_4k o-> history_noise [no edge]:0.7500[-->]:0.0000[<--]:0.0000[o->]:0.0000[<-o]:0.2500[o-o]:0.0000[<->]:0.0000[---]:0.0000',\n",
       " u'bser --> middle_wave_poor [no edge]:0.5000[-->]:0.2500[<--]:0.0000[o->]:0.0000[<-o]:0.0000[o-o]:0.2500[<->]:0.0000[---]:0.0000',\n",
       " u'history_fluctuating --> static_normal [no edge]:0.0000[-->]:0.5000[<--]:0.0000[o->]:0.2500[<-o]:0.0000[o-o]:0.2500[<->]:0.0000[---]:0.0000',\n",
       " u'm_m_sn_gt_2k o-o notch_4k [no edge]:0.7500[-->]:0.0000[<--]:0.0000[o->]:0.0000[<-o]:0.0000[o-o]:0.2500[<->]:0.0000[---]:0.0000',\n",
       " u'history_vomiting o-o m_sn_lt_1k [no edge]:0.7500[-->]:0.0000[<--]:0.0000[o->]:0.0000[<-o]:0.0000[o-o]:0.2500[<->]:0.0000[---]:0.0000',\n",
       " u'history_nausea --> waveform_ItoV_prolonged [no edge]:0.7500[-->]:0.2500[<--]:0.0000[o->]:0.0000[<-o]:0.0000[o-o]:0.0000[<->]:0.0000[---]:0.0000',\n",
       " u'm_sn_gt_3k o-o notch_at_4k [no edge]:0.7500[-->]:0.0000[<--]:0.0000[o->]:0.0000[<-o]:0.0000[o-o]:0.2500[<->]:0.0000[---]:0.0000',\n",
       " u'notch_at_4k --> s_sn_gt_1k [no edge]:0.7500[-->]:0.2500[<--]:0.0000[o->]:0.0000[<-o]:0.0000[o-o]:0.0000[<->]:0.0000[---]:0.0000',\n",
       " u'airBoneGap o-> air [no edge]:0.0000[-->]:0.2500[<--]:0.2500[o->]:0.0000[<-o]:0.5000[o-o]:0.0000[<->]:0.0000[---]:0.0000',\n",
       " u'bone --> ar_u [no edge]:0.7500[-->]:0.0000[<--]:0.2500[o->]:0.0000[<-o]:0.0000[o-o]:0.0000[<->]:0.0000[---]:0.0000',\n",
       " u'mod_sn_gt_4k o-> history_noise [no edge]:0.7500[-->]:0.0000[<--]:0.0000[o->]:0.0000[<-o]:0.2500[o-o]:0.0000[<->]:0.0000[---]:0.0000',\n",
       " u'tymp --> ar_u [no edge]:0.7500[-->]:0.0000[<--]:0.2500[o->]:0.0000[<-o]:0.0000[o-o]:0.0000[<->]:0.0000[---]:0.0000',\n",
       " u'history_recruitment o-o m_sn_gt_1k [no edge]:0.2500[-->]:0.2500[<--]:0.0000[o->]:0.0000[<-o]:0.0000[o-o]:0.5000[<->]:0.0000[---]:0.0000',\n",
       " u'history_ringing o-> history_dizziness [no edge]:0.5000[-->]:0.0000[<--]:0.0000[o->]:0.0000[<-o]:0.5000[o-o]:0.0000[<->]:0.0000[---]:0.0000',\n",
       " u'bone --> history_nausea [no edge]:0.7500[-->]:0.2500[<--]:0.0000[o->]:0.0000[<-o]:0.0000[o-o]:0.0000[<->]:0.0000[---]:0.0000',\n",
       " u'o_ar_c --> o_ar_u [no edge]:0.7500[-->]:0.2500[<--]:0.0000[o->]:0.0000[<-o]:0.0000[o-o]:0.0000[<->]:0.0000[---]:0.0000',\n",
       " u'history_fluctuating --> history_recruitment [no edge]:0.2500[-->]:0.2500[<--]:0.0000[o->]:0.0000[<-o]:0.2500[o-o]:0.2500[<->]:0.0000[---]:0.0000',\n",
       " u'wave_V_delayed o-> notch_at_4k [no edge]:0.5000[-->]:0.0000[<--]:0.0000[o->]:0.0000[<-o]:0.2500[o-o]:0.2500[<->]:0.0000[---]:0.0000',\n",
       " u'history_dizziness o-o history_vomiting [no edge]:0.7500[-->]:0.0000[<--]:0.0000[o->]:0.0000[<-o]:0.0000[o-o]:0.2500[<->]:0.0000[---]:0.0000',\n",
       " u'class --> indentifier [no edge]:0.0000[-->]:0.0000[<--]:1.0000[o->]:0.0000[<-o]:0.0000[o-o]:0.0000[<->]:0.0000[---]:0.0000',\n",
       " u'bone o-o boneAbnormal [no edge]:0.7500[-->]:0.0000[<--]:0.0000[o->]:0.0000[<-o]:0.0000[o-o]:0.2500[<->]:0.0000[---]:0.0000',\n",
       " u'air --> boneAbnormal [no edge]:0.7500[-->]:0.2500[<--]:0.0000[o->]:0.0000[<-o]:0.0000[o-o]:0.0000[<->]:0.0000[---]:0.0000',\n",
       " u'history_buzzing o-> wave_V_delayed [no edge]:0.5000[-->]:0.0000[<--]:0.0000[o->]:0.2500[<-o]:0.0000[o-o]:0.2500[<->]:0.0000[---]:0.0000',\n",
       " u'bone o-> indentifier [no edge]:0.2500[-->]:0.0000[<--]:0.2500[o->]:0.5000[<-o]:0.0000[o-o]:0.0000[<->]:0.0000[---]:0.0000',\n",
       " u'bser o-> static_normal [no edge]:0.7500[-->]:0.0000[<--]:0.0000[o->]:0.2500[<-o]:0.0000[o-o]:0.0000[<->]:0.0000[---]:0.0000',\n",
       " u'ar_u --> o_ar_c [no edge]:0.0000[-->]:0.5000[<--]:0.0000[o->]:0.2500[<-o]:0.2500[o-o]:0.0000[<->]:0.0000[---]:0.0000',\n",
       " u'air --> m_sn_gt_2k [no edge]:0.7500[-->]:0.2500[<--]:0.0000[o->]:0.0000[<-o]:0.0000[o-o]:0.0000[<->]:0.0000[---]:0.0000',\n",
       " u'speech o-> air [no edge]:0.0000[-->]:0.2500[<--]:0.2500[o->]:0.0000[<-o]:0.5000[o-o]:0.0000[<->]:0.0000[---]:0.0000',\n",
       " u'history_dizziness --> history_roaring [no edge]:0.2500[-->]:0.5000[<--]:0.0000[o->]:0.0000[<-o]:0.0000[o-o]:0.2500[<->]:0.0000[---]:0.0000',\n",
       " u'late_wave_poor o-o middle_wave_poor [no edge]:0.5000[-->]:0.0000[<--]:0.0000[o->]:0.0000[<-o]:0.0000[o-o]:0.5000[<->]:0.0000[---]:0.0000',\n",
       " u'tymp o-> o_ar_u [no edge]:0.7500[-->]:0.0000[<--]:0.0000[o->]:0.0000[<-o]:0.2500[o-o]:0.0000[<->]:0.0000[---]:0.0000',\n",
       " u's_sn_gt_2k o-> static_normal [no edge]:0.7500[-->]:0.0000[<--]:0.0000[o->]:0.2500[<-o]:0.0000[o-o]:0.0000[<->]:0.0000[---]:0.0000',\n",
       " u'ar_c --> bone [no edge]:0.7500[-->]:0.2500[<--]:0.0000[o->]:0.0000[<-o]:0.0000[o-o]:0.0000[<->]:0.0000[---]:0.0000',\n",
       " u'history_buzzing o-o history_fullness [no edge]:0.5000[-->]:0.0000[<--]:0.0000[o->]:0.0000[<-o]:0.0000[o-o]:0.5000[<->]:0.0000[---]:0.0000',\n",
       " u'speech o-> m_m_sn [no edge]:0.5000[-->]:0.0000[<--]:0.0000[o->]:0.0000[<-o]:0.2500[o-o]:0.2500[<->]:0.0000[---]:0.0000',\n",
       " u'history_vomiting o-o m_sn_gt_4k [no edge]:0.5000[-->]:0.0000[<--]:0.0000[o->]:0.0000[<-o]:0.0000[o-o]:0.5000[<->]:0.0000[---]:0.0000',\n",
       " u'bone o-o o_ar_u [no edge]:0.7500[-->]:0.0000[<--]:0.0000[o->]:0.0000[<-o]:0.0000[o-o]:0.2500[<->]:0.0000[---]:0.0000',\n",
       " u'bser o-o m_sn_gt_2k [no edge]:0.5000[-->]:0.0000[<--]:0.0000[o->]:0.0000[<-o]:0.0000[o-o]:0.5000[<->]:0.0000[---]:0.0000',\n",
       " u'history_ringing o-o notch_at_4k [no edge]:0.7500[-->]:0.0000[<--]:0.0000[o->]:0.0000[<-o]:0.0000[o-o]:0.2500[<->]:0.0000[---]:0.0000',\n",
       " u'history_roaring o-o m_sn_gt_3k [no edge]:0.7500[-->]:0.0000[<--]:0.0000[o->]:0.0000[<-o]:0.0000[o-o]:0.2500[<->]:0.0000[---]:0.0000',\n",
       " u'bser o-> history_nausea [no edge]:0.5000[-->]:0.0000[<--]:0.0000[o->]:0.5000[<-o]:0.0000[o-o]:0.0000[<->]:0.0000[---]:0.0000',\n",
       " u'airBoneGap --> tymp [no edge]:0.0000[-->]:0.5000[<--]:0.0000[o->]:0.2500[<-o]:0.0000[o-o]:0.2500[<->]:0.0000[---]:0.0000',\n",
       " u'static_normal o-> history_dizziness [no edge]:0.7500[-->]:0.0000[<--]:0.0000[o->]:0.0000[<-o]:0.2500[o-o]:0.0000[<->]:0.0000[---]:0.0000',\n",
       " u'ar_c --> o_ar_u [no edge]:0.2500[-->]:0.5000[<--]:0.0000[o->]:0.0000[<-o]:0.0000[o-o]:0.2500[<->]:0.0000[---]:0.0000']"
      ]
     },
     "execution_count": 7,
     "metadata": {},
     "output_type": "execute_result"
    }
   ],
   "source": [
    "gfci.getEdges()"
   ]
  },
  {
   "cell_type": "markdown",
   "metadata": {
    "collapsed": true
   },
   "source": [
    "#### Stop Java VM"
   ]
  },
  {
   "cell_type": "code",
   "execution_count": 8,
   "metadata": {
    "collapsed": true
   },
   "outputs": [],
   "source": [
    "pc.stop_vm()"
   ]
  },
  {
   "cell_type": "code",
   "execution_count": null,
   "metadata": {
    "collapsed": true
   },
   "outputs": [],
   "source": []
  }
 ],
 "metadata": {
  "kernelspec": {
   "display_name": "Python 2",
   "language": "python",
   "name": "python2"
  },
  "language_info": {
   "codemirror_mode": {
    "name": "ipython",
    "version": 2
   },
   "file_extension": ".py",
   "mimetype": "text/x-python",
   "name": "python",
   "nbconvert_exporter": "python",
   "pygments_lexer": "ipython2",
   "version": "2.7.13"
  },
  "widgets": {
   "state": {},
   "version": "1.1.1"
  }
 },
 "nbformat": 4,
 "nbformat_minor": 1
}
