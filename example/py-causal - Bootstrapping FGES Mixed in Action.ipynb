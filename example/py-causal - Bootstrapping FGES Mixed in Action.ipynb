{
 "cells": [
  {
   "cell_type": "code",
   "execution_count": 1,
   "metadata": {
    "collapsed": true
   },
   "outputs": [],
   "source": [
    "import pandas as pd\n",
    "import pydot\n",
    "from IPython.display import SVG"
   ]
  },
  {
   "cell_type": "markdown",
   "metadata": {},
   "source": [
    "#### Load the example dataset"
   ]
  },
  {
   "cell_type": "code",
   "execution_count": 2,
   "metadata": {
    "collapsed": true
   },
   "outputs": [],
   "source": [
    "data_dir = \"https://raw.githubusercontent.com/bd2kccd/py-causal/master/data/charity.txt\"\n",
    "df = pd.read_table(data_dir, sep=\"\\t\")"
   ]
  },
  {
   "cell_type": "markdown",
   "metadata": {
    "collapsed": true
   },
   "source": [
    "#### Start Java VM"
   ]
  },
  {
   "cell_type": "code",
   "execution_count": 3,
   "metadata": {
    "collapsed": true
   },
   "outputs": [],
   "source": [
    "from pycausal.pycausal import pycausal as pc\n",
    "pc = pc()\n",
    "pc.start_vm()"
   ]
  },
  {
   "cell_type": "markdown",
   "metadata": {},
   "source": [
    "#### Create the Prior Knowledge Object"
   ]
  },
  {
   "cell_type": "code",
   "execution_count": 4,
   "metadata": {},
   "outputs": [
    {
     "data": {
      "text/plain": [
       "Instance of edu.cmu.tetrad.data.Knowledge2: /knowledge\n",
       "addtemporal\n",
       "\n",
       "0* Imaginability TangibilityCondition \n",
       "1 AmountDonated Sympathy \n",
       "2 Impact \n",
       "\n",
       "forbiddirect\n",
       "\n",
       "TangibilityCondition ==> Impact \n",
       "requiredirect\n",
       "\n",
       "Sympathy ==> TangibilityCondition "
      ]
     },
     "execution_count": 4,
     "metadata": {},
     "output_type": "execute_result"
    }
   ],
   "source": [
    "from pycausal import prior as p\n",
    "forbid = [['TangibilityCondition','Impact']]\n",
    "require =[['Sympathy','TangibilityCondition']]\n",
    "tempForbid = p.ForbiddenWithin(['TangibilityCondition','Imaginability'])\n",
    "temporal = [tempForbid,['Sympathy','AmountDonated'],['Impact']]\n",
    "prior = p.knowledge(forbiddirect = forbid, requiredirect = require, addtemporal = temporal)\n",
    "prior"
   ]
  },
  {
   "cell_type": "markdown",
   "metadata": {
    "collapsed": true
   },
   "source": [
    "#### Load causal algorithms from the py-causal library and Run Bootstrapping FGES Mixed"
   ]
  },
  {
   "cell_type": "code",
   "execution_count": 5,
   "metadata": {},
   "outputs": [
    {
     "name": "stdout",
     "output_type": "stream",
     "text": [
      "structurePrior: Structure prior coefficient (min = 1.0) (java.lang.Double) [default:1.0]\n",
      "discretize: Yes if continuous variables should be discretized when child is discrete (java.lang.Boolean) [default:true]\n",
      "faithfulnessAssumed: Yes if (one edge) faithfulness should be assumed (java.lang.Boolean) [default:true]\n",
      "symmetricFirstStep: Yes if the first step step for FGES should do scoring for both X->Y and Y->X (java.lang.Boolean) [default:false]\n",
      "maxDegree: The maximum degree of the graph (min = -1) (java.lang.Integer) [default:100]\n",
      "verbose: Yes if verbose output should be printed or logged (java.lang.Boolean) [default:false]\n",
      "bootstrapSampleSize: The number of bootstraps (min = 0) (java.lang.Integer) [default:0]\n",
      "bootstrapEnsemble: Ensemble method: Preserved (0), Highest (1), Majority (2) (java.lang.Integer) [default:1]\n"
     ]
    }
   ],
   "source": [
    "from pycausal import search as s\n",
    "tetrad = s.tetradrunner()\n",
    "tetrad.getAlgorithmParameters(algoId = 'fges', scoreId = 'cond-gauss-bic')"
   ]
  },
  {
   "cell_type": "code",
   "execution_count": 6,
   "metadata": {
    "collapsed": true
   },
   "outputs": [],
   "source": [
    "tetrad.run(algoId = 'fges', dfs = df, scoreId = 'cond-gauss-bic', \n",
    "           priorKnowledge = prior, dataType = 'mixed', numCategoriesToDiscretize = 4,\n",
    "           structurePrior = 1.0, maxDegree = 3, faithfulnessAssumed = True, verbose = True, \n",
    "           bootstrapSampleSize = 5, bootstrapEnsemble = 1)"
   ]
  },
  {
   "cell_type": "markdown",
   "metadata": {
    "collapsed": true
   },
   "source": [
    "#### Bootstrapping FGES Mixed's Result's Nodes"
   ]
  },
  {
   "cell_type": "code",
   "execution_count": 7,
   "metadata": {},
   "outputs": [
    {
     "data": {
      "text/plain": [
       "[u'AmountDonated',\n",
       " u'Imaginability',\n",
       " u'Impact',\n",
       " u'Sympathy',\n",
       " u'TangibilityCondition']"
      ]
     },
     "execution_count": 7,
     "metadata": {},
     "output_type": "execute_result"
    }
   ],
   "source": [
    "tetrad.getNodes()"
   ]
  },
  {
   "cell_type": "markdown",
   "metadata": {},
   "source": [
    "#### Bootstrapping FGES Mixed's Result's Edges"
   ]
  },
  {
   "cell_type": "code",
   "execution_count": 8,
   "metadata": {},
   "outputs": [
    {
     "data": {
      "text/plain": [
       "[u'Sympathy --> Impact [no edge]:0.2000[-->]:0.0000[<--]:0.8000[o->]:0.0000[<-o]:0.0000[o-o]:0.0000[<->]:0.0000[---]:0.0000',\n",
       " u'Sympathy --> TangibilityCondition [no edge]:0.0000[-->]:1.0000[<--]:0.0000[o->]:0.0000[<-o]:0.0000[o-o]:0.0000[<->]:0.0000[---]:0.0000',\n",
       " u'Imaginability --> Sympathy [no edge]:0.4000[-->]:0.6000[<--]:0.0000[o->]:0.0000[<-o]:0.0000[o-o]:0.0000[<->]:0.0000[---]:0.0000',\n",
       " u'Imaginability --> Impact [no edge]:0.0000[-->]:1.0000[<--]:0.0000[o->]:0.0000[<-o]:0.0000[o-o]:0.0000[<->]:0.0000[---]:0.0000']"
      ]
     },
     "execution_count": 8,
     "metadata": {},
     "output_type": "execute_result"
    }
   ],
   "source": [
    "tetrad.getEdges()"
   ]
  },
  {
   "cell_type": "markdown",
   "metadata": {},
   "source": [
    "#### Plot The Result's Graph"
   ]
  },
  {
   "cell_type": "code",
   "execution_count": 9,
   "metadata": {},
   "outputs": [
    {
     "data": {
      "image/svg+xml": [
       "<svg height=\"278pt\" viewBox=\"0.00 0.00 725.14 278.00\" width=\"725pt\" xmlns=\"http://www.w3.org/2000/svg\" xmlns:xlink=\"http://www.w3.org/1999/xlink\">\n",
       "<g class=\"graph\" id=\"graph0\" transform=\"scale(1 1) rotate(0) translate(4 274)\">\n",
       "<title>G</title>\n",
       "<polygon fill=\"white\" points=\"-4,4 -4,-274 721.142,-274 721.142,4 -4,4\" stroke=\"none\"/>\n",
       "<!-- Sympathy -->\n",
       "<g class=\"node\" id=\"node1\"><title>Sympathy</title>\n",
       "<ellipse cx=\"306.142\" cy=\"-135\" fill=\"none\" rx=\"46.5926\" ry=\"18\" stroke=\"black\"/>\n",
       "<text font-family=\"Times,serif\" font-size=\"14.00\" text-anchor=\"middle\" x=\"306.142\" y=\"-131.3\">Sympathy</text>\n",
       "</g>\n",
       "<!-- Impact -->\n",
       "<g class=\"node\" id=\"node2\"><title>Impact</title>\n",
       "<ellipse cx=\"442.142\" cy=\"-18\" fill=\"none\" rx=\"35.9954\" ry=\"18\" stroke=\"black\"/>\n",
       "<text font-family=\"Times,serif\" font-size=\"14.00\" text-anchor=\"middle\" x=\"442.142\" y=\"-14.3\">Impact</text>\n",
       "</g>\n",
       "<!-- Sympathy&#45;&gt;Impact -->\n",
       "<g class=\"edge\" id=\"edge1\"><title>Sympathy-&gt;Impact</title>\n",
       "<path d=\"M324.556,-118.314C330.603,-112.612 337.068,-105.872 342.142,-99 355.484,-80.9305 348.9,-69.5139 365.142,-54 375.466,-44.1396 389.053,-36.7207 401.937,-31.3111\" fill=\"none\" stroke=\"black\"/>\n",
       "<polygon fill=\"black\" points=\"403.534,-34.4452 411.586,-27.5588 400.997,-27.9212 403.534,-34.4452\" stroke=\"black\"/>\n",
       "<text font-family=\"Courier,monospace\" font-size=\"14.00\" text-anchor=\"middle\" x=\"435.642\" y=\"-87.8\">Impact - Sympathy</text>\n",
       "<text font-family=\"Courier,monospace\" font-size=\"14.00\" text-anchor=\"middle\" x=\"435.642\" y=\"-72.8\">[no edge]:0.2000</text>\n",
       "<text font-family=\"Courier,monospace\" font-size=\"14.00\" text-anchor=\"middle\" x=\"435.642\" y=\"-57.8\">[&lt;--]:0.8000</text>\n",
       "</g>\n",
       "<!-- TangibilityCondition -->\n",
       "<g class=\"node\" id=\"node3\"><title>TangibilityCondition</title>\n",
       "<ellipse cx=\"85.1424\" cy=\"-18\" fill=\"none\" rx=\"85.2851\" ry=\"18\" stroke=\"black\"/>\n",
       "<text font-family=\"Times,serif\" font-size=\"14.00\" text-anchor=\"middle\" x=\"85.1424\" y=\"-14.3\">TangibilityCondition</text>\n",
       "</g>\n",
       "<!-- Sympathy&#45;&gt;TangibilityCondition -->\n",
       "<g class=\"edge\" id=\"edge2\"><title>Sympathy-&gt;TangibilityCondition</title>\n",
       "<path d=\"M259.279,-133.55C200.439,-131.875 104.473,-125.091 82.1424,-99 69.9433,-84.7467 71.443,-63.2823 75.587,-46.1741\" fill=\"none\" stroke=\"black\"/>\n",
       "<polygon fill=\"black\" points=\"79.0575,-46.7633 78.41,-36.1883 72.3215,-44.8589 79.0575,-46.7633\" stroke=\"black\"/>\n",
       "<text font-family=\"Courier,monospace\" font-size=\"14.00\" text-anchor=\"middle\" x=\"210.142\" y=\"-80.3\">Sympathy - TangibilityCondition</text>\n",
       "<text font-family=\"Courier,monospace\" font-size=\"14.00\" text-anchor=\"middle\" x=\"210.142\" y=\"-65.3\">[--&gt;]:1.0000</text>\n",
       "</g>\n",
       "<!-- Imaginability -->\n",
       "<g class=\"node\" id=\"node4\"><title>Imaginability</title>\n",
       "<ellipse cx=\"413.142\" cy=\"-252\" fill=\"none\" rx=\"58.4896\" ry=\"18\" stroke=\"black\"/>\n",
       "<text font-family=\"Times,serif\" font-size=\"14.00\" text-anchor=\"middle\" x=\"413.142\" y=\"-248.3\">Imaginability</text>\n",
       "</g>\n",
       "<!-- Imaginability&#45;&gt;Sympathy -->\n",
       "<g class=\"edge\" id=\"edge4\"><title>Imaginability-&gt;Sympathy</title>\n",
       "<path d=\"M358.007,-245.833C338.78,-241.085 319.052,-232.26 307.142,-216 296.235,-201.109 296.382,-180.12 299.046,-163.377\" fill=\"none\" stroke=\"black\"/>\n",
       "<polygon fill=\"black\" points=\"302.573,-163.582 301.07,-153.095 295.705,-162.231 302.573,-163.582\" stroke=\"black\"/>\n",
       "<text font-family=\"Courier,monospace\" font-size=\"14.00\" text-anchor=\"middle\" x=\"406.642\" y=\"-204.8\">Imaginability - Sympathy</text>\n",
       "<text font-family=\"Courier,monospace\" font-size=\"14.00\" text-anchor=\"middle\" x=\"406.642\" y=\"-189.8\">[no edge]:0.4000</text>\n",
       "<text font-family=\"Courier,monospace\" font-size=\"14.00\" text-anchor=\"middle\" x=\"406.642\" y=\"-174.8\">[--&gt;]:0.6000</text>\n",
       "</g>\n",
       "<!-- Imaginability&#45;&gt;Impact -->\n",
       "<g class=\"edge\" id=\"edge3\"><title>Imaginability-&gt;Impact</title>\n",
       "<path d=\"M464.696,-243.346C480.637,-238.289 496.521,-229.901 506.142,-216 547.118,-156.797 542.862,-115.933 506.142,-54 500.456,-44.4087 491.11,-37.2748 481.295,-32.0425\" fill=\"none\" stroke=\"black\"/>\n",
       "<polygon fill=\"black\" points=\"482.777,-28.8716 472.241,-27.7559 479.782,-35.1984 482.777,-28.8716\" stroke=\"black\"/>\n",
       "<text font-family=\"Courier,monospace\" font-size=\"14.00\" text-anchor=\"middle\" x=\"626.142\" y=\"-138.8\">Imaginability - Impact</text>\n",
       "<text font-family=\"Courier,monospace\" font-size=\"14.00\" text-anchor=\"middle\" x=\"626.142\" y=\"-123.8\">[--&gt;]:1.0000</text>\n",
       "</g>\n",
       "</g>\n",
       "</svg>"
      ],
      "text/plain": [
       "<IPython.core.display.SVG object>"
      ]
     },
     "execution_count": 9,
     "metadata": {},
     "output_type": "execute_result"
    }
   ],
   "source": [
    "dot = tetrad.getDot()\n",
    "svg_str = dot.create_svg(prog='dot')\n",
    "SVG(svg_str)"
   ]
  },
  {
   "cell_type": "markdown",
   "metadata": {
    "collapsed": true
   },
   "source": [
    "#### Stop Java VM"
   ]
  },
  {
   "cell_type": "code",
   "execution_count": 10,
   "metadata": {
    "collapsed": true
   },
   "outputs": [],
   "source": [
    "pc.stop_vm()"
   ]
  },
  {
   "cell_type": "code",
   "execution_count": null,
   "metadata": {
    "collapsed": true
   },
   "outputs": [],
   "source": []
  }
 ],
 "metadata": {
  "kernelspec": {
   "display_name": "Python 2",
   "language": "python",
   "name": "python2"
  },
  "language_info": {
   "codemirror_mode": {
    "name": "ipython",
    "version": 2
   },
   "file_extension": ".py",
   "mimetype": "text/x-python",
   "name": "python",
   "nbconvert_exporter": "python",
   "pygments_lexer": "ipython2",
   "version": "2.7.13"
  }
 },
 "nbformat": 4,
 "nbformat_minor": 1
}
