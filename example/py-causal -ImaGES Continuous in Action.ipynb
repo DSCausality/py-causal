{
 "cells": [
  {
   "cell_type": "code",
   "execution_count": 1,
   "metadata": {},
   "outputs": [],
   "source": [
    "import os\n",
    "import glob\n",
    "import pandas as pd"
   ]
  },
  {
   "cell_type": "code",
   "execution_count": 2,
   "metadata": {},
   "outputs": [
    {
     "name": "stdout",
     "output_type": "stream",
     "text": [
      "/home/jovyan/py-causal/example/../data/9var/sub001.cent-table.9.dat.txt\n",
      "/home/jovyan/py-causal/example/../data/9var/sub016.cent-table.9.dat.txt\n",
      "/home/jovyan/py-causal/example/../data/9var/sub014.cent-table.9.dat.txt\n",
      "/home/jovyan/py-causal/example/../data/9var/sub010.cent-table.9.dat.txt\n",
      "/home/jovyan/py-causal/example/../data/9var/sub013.cent-table.9.dat.txt\n",
      "/home/jovyan/py-causal/example/../data/9var/sub017.cent-table.9.dat.txt\n",
      "/home/jovyan/py-causal/example/../data/9var/sub005.cent-table.9.dat.txt\n",
      "/home/jovyan/py-causal/example/../data/9var/sub009.cent-table.9.dat.txt\n",
      "/home/jovyan/py-causal/example/../data/9var/sub004.cent-table.9.dat.txt\n"
     ]
    }
   ],
   "source": [
    "dfs = []\n",
    "tetrad_images_dir = os.path.join(os.getcwd(), '..', 'data', '9var')\n",
    "for d in glob.glob(tetrad_images_dir + os.sep + \"*.txt\"):\n",
    "    print (d)\n",
    "    df = pd.read_table(d, sep=\"\\t\")\n",
    "    dfs.append(df)"
   ]
  },
  {
   "cell_type": "code",
   "execution_count": 3,
   "metadata": {},
   "outputs": [],
   "source": [
    "from pycausal.pycausal import pycausal as pc\n",
    "pc = pc()\n",
    "pc.start_vm()"
   ]
  },
  {
   "cell_type": "code",
   "execution_count": 4,
   "metadata": {},
   "outputs": [
    {
     "name": "stdout",
     "output_type": "stream",
     "text": [
      "penaltyDiscount: Penalty discount (min = 0.0) (java.lang.Double) [default:2.0]\n",
      "faithfulnessAssumed: Yes if (one edge) faithfulness should be assumed (java.lang.Boolean) [default:true]\n",
      "symmetricFirstStep: Yes if the first step step for FGES should do scoring for both X->Y and Y->X (java.lang.Boolean) [default:false]\n",
      "maxDegree: The maximum degree of the graph (min = -1) (java.lang.Integer) [default:4]\n",
      "verbose: Yes if verbose output should be printed or logged (java.lang.Boolean) [default:true]\n",
      "numberResampling: The number of bootstraps/resampling iterations (min = 0) (java.lang.Integer) [default:0]\n",
      "percentResampleSize: The percentage of resample size (min = 0.1) (java.lang.Integer) [default:100]\n",
      "resamplingWithReplacement: Yes, if sampling with replacement (bootstrapping) (java.lang.Boolean) [default:true]\n",
      "resamplingEnsemble: Ensemble method: Preserved (0), Highest (1), Majority (2) (java.lang.Integer) [default:1]\n",
      "addOriginalDataset: Yes, if adding an original dataset as another bootstrapping (java.lang.Boolean) [default:false]\n",
      "numRuns: The number runs (java.lang.Integer) [default:1]\n",
      "randomSelectionSize: The number of datasets that should be taken in each random sample (java.lang.Integer) [default:1]\n",
      "numberResampling: The number of bootstraps/resampling iterations (min = 0) (java.lang.Integer) [default:0]\n",
      "percentResampleSize: The percentage of resample size (min = 0.1) (java.lang.Integer) [default:100]\n",
      "resamplingWithReplacement: Yes, if sampling with replacement (bootstrapping) (java.lang.Boolean) [default:true]\n",
      "resamplingEnsemble: Ensemble method: Preserved (0), Highest (1), Majority (2) (java.lang.Integer) [default:1]\n",
      "addOriginalDataset: Yes, if adding an original dataset as another bootstrapping (java.lang.Boolean) [default:false]\n",
      "verbose: Yes if verbose output should be printed or logged (java.lang.Boolean) [default:true]\n"
     ]
    }
   ],
   "source": [
    "from pycausal import search as s\n",
    "tetrad = s.tetradrunner()\n",
    "tetrad.getAlgorithmParameters(algoId = 'imgs_cont', testId = 'fisher-z')"
   ]
  },
  {
   "cell_type": "code",
   "execution_count": 5,
   "metadata": {},
   "outputs": [],
   "source": [
    "tetrad.run(algoId = 'imgs_cont', dfs = dfs, testId = 'fisher-z', verbose = True)"
   ]
  },
  {
   "cell_type": "code",
   "execution_count": 6,
   "metadata": {},
   "outputs": [
    {
     "data": {
      "text/plain": [
       "['LOCC', 'LACC', 'LIFG', 'LIPL', 'ROCC', 'RACC', 'RIFG', 'RIPL', 'I']"
      ]
     },
     "execution_count": 6,
     "metadata": {},
     "output_type": "execute_result"
    }
   ],
   "source": [
    "tetrad.getNodes()"
   ]
  },
  {
   "cell_type": "code",
   "execution_count": 7,
   "metadata": {},
   "outputs": [
    {
     "data": {
      "text/plain": [
       "['LIPL --> RIPL',\n",
       " 'RIPL --> RIFG',\n",
       " 'LOCC --> ROCC',\n",
       " 'LACC --> RACC',\n",
       " 'RIPL --> RACC',\n",
       " 'LOCC --> I',\n",
       " 'LIPL --- LIFG',\n",
       " 'LIFG --- LACC',\n",
       " 'LIPL --> LOCC',\n",
       " 'LIFG --> RIFG',\n",
       " 'ROCC --> RIPL',\n",
       " 'LACC --> LOCC']"
      ]
     },
     "execution_count": 7,
     "metadata": {},
     "output_type": "execute_result"
    }
   ],
   "source": [
    "tetrad.getEdges()"
   ]
  },
  {
   "cell_type": "code",
   "execution_count": 8,
   "metadata": {},
   "outputs": [
    {
     "data": {
      "image/svg+xml": [
       "<svg height=\"332pt\" viewBox=\"0.00 0.00 326.00 332.00\" width=\"326pt\" xmlns=\"http://www.w3.org/2000/svg\" xmlns:xlink=\"http://www.w3.org/1999/xlink\">\n",
       "<g class=\"graph\" id=\"graph0\" transform=\"scale(1 1) rotate(0) translate(4 328)\">\n",
       "<title>g</title>\n",
       "<polygon fill=\"white\" points=\"-4,4 -4,-328 321.997,-328 321.997,4 -4,4\" stroke=\"none\"/>\n",
       "<!-- LIPL -->\n",
       "<g class=\"node\" id=\"node1\"><title>LIPL</title>\n",
       "<ellipse cx=\"144\" cy=\"-162\" fill=\"none\" rx=\"33.5952\" ry=\"18\" stroke=\"black\"/>\n",
       "<text font-family=\"Times,serif\" font-size=\"14.00\" text-anchor=\"middle\" x=\"144\" y=\"-158.3\">LIPL</text>\n",
       "</g>\n",
       "<!-- RIPL -->\n",
       "<g class=\"node\" id=\"node2\"><title>RIPL</title>\n",
       "<ellipse cx=\"216\" cy=\"-90\" fill=\"none\" rx=\"34.394\" ry=\"18\" stroke=\"black\"/>\n",
       "<text font-family=\"Times,serif\" font-size=\"14.00\" text-anchor=\"middle\" x=\"216\" y=\"-86.3\">RIPL</text>\n",
       "</g>\n",
       "<!-- LIPL&#45;&gt;RIPL -->\n",
       "<g class=\"edge\" id=\"edge1\"><title>LIPL-&gt;RIPL</title>\n",
       "<path d=\"M159.623,-145.811C169.435,-136.271 182.259,-123.803 193.197,-113.17\" fill=\"none\" stroke=\"black\"/>\n",
       "<polygon fill=\"black\" points=\"195.677,-115.64 200.408,-106.159 190.798,-110.621 195.677,-115.64\" stroke=\"black\"/>\n",
       "</g>\n",
       "<!-- LOCC -->\n",
       "<g class=\"node\" id=\"node4\"><title>LOCC</title>\n",
       "<ellipse cx=\"96\" cy=\"-90\" fill=\"none\" rx=\"38.9931\" ry=\"18\" stroke=\"black\"/>\n",
       "<text font-family=\"Times,serif\" font-size=\"14.00\" text-anchor=\"middle\" x=\"96\" y=\"-86.3\">LOCC</text>\n",
       "</g>\n",
       "<!-- LIPL&#45;&gt;LOCC -->\n",
       "<g class=\"edge\" id=\"edge9\"><title>LIPL-&gt;LOCC</title>\n",
       "<path d=\"M132.867,-144.765C127.015,-136.23 119.714,-125.582 113.156,-116.019\" fill=\"none\" stroke=\"black\"/>\n",
       "<polygon fill=\"black\" points=\"115.948,-113.901 107.406,-107.633 110.175,-117.86 115.948,-113.901\" stroke=\"black\"/>\n",
       "</g>\n",
       "<!-- ROCC -->\n",
       "<g class=\"node\" id=\"node5\"><title>ROCC</title>\n",
       "<ellipse cx=\"156\" cy=\"-18\" fill=\"none\" rx=\"39.7935\" ry=\"18\" stroke=\"black\"/>\n",
       "<text font-family=\"Times,serif\" font-size=\"14.00\" text-anchor=\"middle\" x=\"156\" y=\"-14.3\">ROCC</text>\n",
       "</g>\n",
       "<!-- RIPL&#45;&gt;ROCC -->\n",
       "<g class=\"edge\" id=\"edge11\"><title>RIPL-&gt;ROCC</title>\n",
       "<path d=\"M195.628,-65.2331C187.185,-55.3827 177.604,-44.2044 169.977,-35.307\" fill=\"none\" stroke=\"black\"/>\n",
       "<polygon fill=\"black\" points=\"193.22,-67.8011 202.385,-73.1159 198.535,-63.2455 193.22,-67.8011\" stroke=\"black\"/>\n",
       "</g>\n",
       "<!-- RIFG -->\n",
       "<g class=\"node\" id=\"node3\"><title>RIFG</title>\n",
       "<ellipse cx=\"231\" cy=\"-162\" fill=\"none\" rx=\"35.194\" ry=\"18\" stroke=\"black\"/>\n",
       "<text font-family=\"Times,serif\" font-size=\"14.00\" text-anchor=\"middle\" x=\"231\" y=\"-158.3\">RIFG</text>\n",
       "</g>\n",
       "<!-- RIFG&#45;&gt;RIPL -->\n",
       "<g class=\"edge\" id=\"edge2\"><title>RIFG-&gt;RIPL</title>\n",
       "<path d=\"M225.215,-134.005C223.363,-125.362 221.364,-116.03 219.702,-108.275\" fill=\"none\" stroke=\"black\"/>\n",
       "<polygon fill=\"black\" points=\"221.851,-135.01 227.369,-144.055 228.696,-133.544 221.851,-135.01\" stroke=\"black\"/>\n",
       "</g>\n",
       "<!-- LOCC&#45;&gt;ROCC -->\n",
       "<g class=\"edge\" id=\"edge3\"><title>LOCC-&gt;ROCC</title>\n",
       "<path d=\"M109.615,-73.1159C117.254,-64.2038 126.937,-52.9063 135.479,-42.9417\" fill=\"none\" stroke=\"black\"/>\n",
       "<polygon fill=\"black\" points=\"138.172,-45.1774 142.023,-35.307 132.857,-40.6218 138.172,-45.1774\" stroke=\"black\"/>\n",
       "</g>\n",
       "<!-- LACC -->\n",
       "<g class=\"node\" id=\"node6\"><title>LACC</title>\n",
       "<ellipse cx=\"159\" cy=\"-306\" fill=\"none\" rx=\"38.1938\" ry=\"18\" stroke=\"black\"/>\n",
       "<text font-family=\"Times,serif\" font-size=\"14.00\" text-anchor=\"middle\" x=\"159\" y=\"-302.3\">LACC</text>\n",
       "</g>\n",
       "<!-- LACC&#45;&gt;LOCC -->\n",
       "<g class=\"edge\" id=\"edge12\"><title>LACC-&gt;LOCC</title>\n",
       "<path d=\"M142.807,-289.232C133.595,-279.363 122.61,-265.913 116,-252 95.477,-208.799 93.3805,-152.074 94.2953,-118.773\" fill=\"none\" stroke=\"black\"/>\n",
       "<polygon fill=\"black\" points=\"97.8062,-118.56 94.6987,-108.431 90.8115,-118.287 97.8062,-118.56\" stroke=\"black\"/>\n",
       "</g>\n",
       "<!-- RACC -->\n",
       "<g class=\"node\" id=\"node7\"><title>RACC</title>\n",
       "<ellipse cx=\"279\" cy=\"-234\" fill=\"none\" rx=\"38.9931\" ry=\"18\" stroke=\"black\"/>\n",
       "<text font-family=\"Times,serif\" font-size=\"14.00\" text-anchor=\"middle\" x=\"279\" y=\"-230.3\">RACC</text>\n",
       "</g>\n",
       "<!-- LACC&#45;&gt;RACC -->\n",
       "<g class=\"edge\" id=\"edge4\"><title>LACC-&gt;RACC</title>\n",
       "<path d=\"M182.137,-291.503C200.529,-280.775 226.465,-265.646 246.871,-253.742\" fill=\"none\" stroke=\"black\"/>\n",
       "<polygon fill=\"black\" points=\"248.65,-256.756 255.524,-248.694 245.123,-250.71 248.65,-256.756\" stroke=\"black\"/>\n",
       "</g>\n",
       "<!-- LIFG -->\n",
       "<g class=\"node\" id=\"node9\"><title>LIFG</title>\n",
       "<ellipse cx=\"159\" cy=\"-234\" fill=\"none\" rx=\"34.394\" ry=\"18\" stroke=\"black\"/>\n",
       "<text font-family=\"Times,serif\" font-size=\"14.00\" text-anchor=\"middle\" x=\"159\" y=\"-230.3\">LIFG</text>\n",
       "</g>\n",
       "<!-- LACC&#45;&gt;LIFG -->\n",
       "<g class=\"edge\" id=\"edge8\"><title>LACC-&gt;LIFG</title>\n",
       "<path d=\"M159,-287.697C159,-276.846 159,-262.917 159,-252.104\" fill=\"none\" stroke=\"black\"/>\n",
       "</g>\n",
       "<!-- RACC&#45;&gt;RIPL -->\n",
       "<g class=\"edge\" id=\"edge5\"><title>RACC-&gt;RIPL</title>\n",
       "<path d=\"M283.055,-205.974C284.577,-187.624 284.124,-163.284 275,-144 267.05,-127.198 251.078,-113.378 237.755,-104.067\" fill=\"none\" stroke=\"black\"/>\n",
       "<polygon fill=\"black\" points=\"279.565,-205.686 281.98,-216.002 286.526,-206.432 279.565,-205.686\" stroke=\"black\"/>\n",
       "</g>\n",
       "<!-- I -->\n",
       "<g class=\"node\" id=\"node8\"><title>I</title>\n",
       "<ellipse cx=\"27\" cy=\"-162\" fill=\"none\" rx=\"27\" ry=\"18\" stroke=\"black\"/>\n",
       "<text font-family=\"Times,serif\" font-size=\"14.00\" text-anchor=\"middle\" x=\"27\" y=\"-158.3\">I</text>\n",
       "</g>\n",
       "<!-- I&#45;&gt;LOCC -->\n",
       "<g class=\"edge\" id=\"edge6\"><title>I-&gt;LOCC</title>\n",
       "<path d=\"M48.4105,-139.279C58.7125,-128.828 70.8428,-116.522 80.2781,-106.95\" fill=\"none\" stroke=\"black\"/>\n",
       "<polygon fill=\"black\" points=\"45.8243,-136.917 41.2968,-146.496 50.8095,-141.831 45.8243,-136.917\" stroke=\"black\"/>\n",
       "</g>\n",
       "<!-- LIFG&#45;&gt;LIPL -->\n",
       "<g class=\"edge\" id=\"edge7\"><title>LIFG-&gt;LIPL</title>\n",
       "<path d=\"M155.369,-216.055C153.045,-205.211 150.039,-191.183 147.702,-180.275\" fill=\"none\" stroke=\"black\"/>\n",
       "</g>\n",
       "<!-- LIFG&#45;&gt;RIFG -->\n",
       "<g class=\"edge\" id=\"edge10\"><title>LIFG-&gt;RIFG</title>\n",
       "<path d=\"M174.623,-217.811C184.435,-208.271 197.259,-195.803 208.197,-185.17\" fill=\"none\" stroke=\"black\"/>\n",
       "<polygon fill=\"black\" points=\"210.677,-187.64 215.408,-178.159 205.798,-182.621 210.677,-187.64\" stroke=\"black\"/>\n",
       "</g>\n",
       "</g>\n",
       "</svg>"
      ],
      "text/plain": [
       "<IPython.core.display.SVG object>"
      ]
     },
     "execution_count": 8,
     "metadata": {},
     "output_type": "execute_result"
    }
   ],
   "source": [
    "import pydot\n",
    "from IPython.display import SVG\n",
    "dot_str = pc.tetradGraphToDot(tetrad.getTetradGraph())\n",
    "graphs = pydot.graph_from_dot_data(dot_str)\n",
    "svg_str = graphs[0].create_svg()\n",
    "SVG(svg_str)"
   ]
  },
  {
   "cell_type": "code",
   "execution_count": 9,
   "metadata": {},
   "outputs": [],
   "source": [
    "pc.stop_vm()"
   ]
  },
  {
   "cell_type": "code",
   "execution_count": null,
   "metadata": {},
   "outputs": [],
   "source": []
  }
 ],
 "metadata": {
  "kernelspec": {
   "display_name": "Python 3",
   "language": "python",
   "name": "python3"
  },
  "language_info": {
   "codemirror_mode": {
    "name": "ipython",
    "version": 3
   },
   "file_extension": ".py",
   "mimetype": "text/x-python",
   "name": "python",
   "nbconvert_exporter": "python",
   "pygments_lexer": "ipython3",
   "version": "3.5.4"
  }
 },
 "nbformat": 4,
 "nbformat_minor": 2
}
