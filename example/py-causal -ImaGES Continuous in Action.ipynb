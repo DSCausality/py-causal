{
 "cells": [
  {
   "cell_type": "code",
   "execution_count": 1,
   "metadata": {
    "collapsed": true
   },
   "outputs": [],
   "source": [
    "import os\n",
    "import glob\n",
    "import pandas as pd\n",
    "import pydot\n",
    "from IPython.display import SVG"
   ]
  },
  {
   "cell_type": "code",
   "execution_count": 2,
   "metadata": {},
   "outputs": [
    {
     "name": "stdout",
     "output_type": "stream",
     "text": [
      "/home/jovyan/py-causal/example/../data/9var/sub001.cent-table.9.dat.txt\n",
      "/home/jovyan/py-causal/example/../data/9var/sub016.cent-table.9.dat.txt\n",
      "/home/jovyan/py-causal/example/../data/9var/sub014.cent-table.9.dat.txt\n",
      "/home/jovyan/py-causal/example/../data/9var/sub010.cent-table.9.dat.txt\n",
      "/home/jovyan/py-causal/example/../data/9var/sub013.cent-table.9.dat.txt\n",
      "/home/jovyan/py-causal/example/../data/9var/sub017.cent-table.9.dat.txt\n",
      "/home/jovyan/py-causal/example/../data/9var/sub005.cent-table.9.dat.txt\n",
      "/home/jovyan/py-causal/example/../data/9var/sub009.cent-table.9.dat.txt\n",
      "/home/jovyan/py-causal/example/../data/9var/sub004.cent-table.9.dat.txt\n"
     ]
    }
   ],
   "source": [
    "dfs = []\n",
    "tetrad_images_dir = os.path.join(os.getcwd(), '..', 'data', '9var')\n",
    "for d in glob.glob(tetrad_images_dir + os.sep + \"*.txt\"):\n",
    "    print (d)\n",
    "    df = pd.read_table(d, sep=\"\\t\")\n",
    "    dfs.append(df)"
   ]
  },
  {
   "cell_type": "code",
   "execution_count": 3,
   "metadata": {
    "collapsed": true
   },
   "outputs": [],
   "source": [
    "from pycausal.pycausal import pycausal as pc\n",
    "pc = pc()\n",
    "pc.start_vm()"
   ]
  },
  {
   "cell_type": "code",
   "execution_count": 4,
   "metadata": {},
   "outputs": [
    {
     "name": "stdout",
     "output_type": "stream",
     "text": [
      "penaltyDiscount: Penalty discount (min = 0.0) (java.lang.Double) [default:2.0]\n",
      "faithfulnessAssumed: Yes if (one edge) faithfulness should be assumed (java.lang.Boolean) [default:true]\n",
      "symmetricFirstStep: Yes if the first step step for FGES should do scoring for both X->Y and Y->X (java.lang.Boolean) [default:false]\n",
      "maxDegree: The maximum degree of the graph (min = -1) (java.lang.Integer) [default:100]\n",
      "verbose: Yes if verbose output should be printed or logged (java.lang.Boolean) [default:false]\n",
      "bootstrapSampleSize: The number of bootstraps (min = 0) (java.lang.Integer) [default:0]\n",
      "bootstrapEnsemble: Ensemble method: Preserved (0), Highest (1), Majority (2) (java.lang.Integer) [default:1]\n",
      "numRuns: The number runs (java.lang.Integer) [default:1]\n",
      "randomSelectionSize: The number of datasets that should be taken in each random sample (java.lang.Integer) [default:1]\n",
      "bootstrapSampleSize: The number of bootstraps (min = 0) (java.lang.Integer) [default:0]\n",
      "bootstrapEnsemble: Ensemble method: Preserved (0), Highest (1), Majority (2) (java.lang.Integer) [default:1]\n",
      "verbose: Yes if verbose output should be printed or logged (java.lang.Boolean) [default:false]\n"
     ]
    }
   ],
   "source": [
    "from pycausal import search as s\n",
    "tetrad = s.tetradrunner()\n",
    "tetrad.getAlgorithmParameters(algoId = 'imgs_cont', testId = 'fisher-z')"
   ]
  },
  {
   "cell_type": "code",
   "execution_count": 5,
   "metadata": {
    "collapsed": true
   },
   "outputs": [],
   "source": [
    "tetrad.run(algoId = 'imgs_cont', dfs = dfs, testId = 'fisher-z', verbose = True)"
   ]
  },
  {
   "cell_type": "code",
   "execution_count": 6,
   "metadata": {},
   "outputs": [
    {
     "data": {
      "text/plain": [
       "['LOCC', 'LACC', 'LIFG', 'LIPL', 'ROCC', 'RACC', 'RIFG', 'RIPL', 'I']"
      ]
     },
     "execution_count": 6,
     "metadata": {},
     "output_type": "execute_result"
    }
   ],
   "source": [
    "tetrad.getNodes()"
   ]
  },
  {
   "cell_type": "code",
   "execution_count": 7,
   "metadata": {},
   "outputs": [
    {
     "data": {
      "text/plain": [
       "['LIPL --> RIPL',\n",
       " 'RIPL --> RIFG',\n",
       " 'LOCC --> ROCC',\n",
       " 'LACC --> RACC',\n",
       " 'RIPL --> RACC',\n",
       " 'LOCC --> I',\n",
       " 'LIPL --- LIFG',\n",
       " 'LIFG --- LACC',\n",
       " 'LIPL --> LOCC',\n",
       " 'LIFG --> RIFG',\n",
       " 'ROCC --> RIPL',\n",
       " 'LACC --> LOCC']"
      ]
     },
     "execution_count": 7,
     "metadata": {},
     "output_type": "execute_result"
    }
   ],
   "source": [
    "tetrad.getEdges()"
   ]
  },
  {
   "cell_type": "code",
   "execution_count": 8,
   "metadata": {},
   "outputs": [
    {
     "data": {
      "image/svg+xml": [
       "<svg height=\"476pt\" viewBox=\"0.00 0.00 267.14 476.00\" width=\"267pt\" xmlns=\"http://www.w3.org/2000/svg\" xmlns:xlink=\"http://www.w3.org/1999/xlink\">\n",
       "<g class=\"graph\" id=\"graph0\" transform=\"scale(1 1) rotate(0) translate(4 472)\">\n",
       "<title>G</title>\n",
       "<polygon fill=\"white\" points=\"-4,4 -4,-472 263.139,-472 263.139,4 -4,4\" stroke=\"none\"/>\n",
       "<!-- LACC -->\n",
       "<g class=\"node\" id=\"node1\"><title>LACC</title>\n",
       "<ellipse cx=\"85.5473\" cy=\"-306\" fill=\"none\" rx=\"34.394\" ry=\"18\" stroke=\"black\"/>\n",
       "<text font-family=\"Times,serif\" font-size=\"14.00\" text-anchor=\"middle\" x=\"85.5473\" y=\"-302.3\">LACC</text>\n",
       "</g>\n",
       "<!-- LOCC -->\n",
       "<g class=\"node\" id=\"node2\"><title>LOCC</title>\n",
       "<ellipse cx=\"135.547\" cy=\"-234\" fill=\"none\" rx=\"34.394\" ry=\"18\" stroke=\"black\"/>\n",
       "<text font-family=\"Times,serif\" font-size=\"14.00\" text-anchor=\"middle\" x=\"135.547\" y=\"-230.3\">LOCC</text>\n",
       "</g>\n",
       "<!-- LACC&#45;&gt;LOCC -->\n",
       "<g class=\"edge\" id=\"edge1\"><title>LACC-&gt;LOCC</title>\n",
       "<path d=\"M97.144,-288.765C103.392,-280.018 111.225,-269.052 118.184,-259.308\" fill=\"none\" stroke=\"black\"/>\n",
       "<polygon fill=\"black\" points=\"121.049,-261.319 124.013,-251.147 115.353,-257.25 121.049,-261.319\" stroke=\"black\"/>\n",
       "</g>\n",
       "<!-- RACC -->\n",
       "<g class=\"node\" id=\"node3\"><title>RACC</title>\n",
       "<ellipse cx=\"117.547\" cy=\"-18\" fill=\"none\" rx=\"34.394\" ry=\"18\" stroke=\"black\"/>\n",
       "<text font-family=\"Times,serif\" font-size=\"14.00\" text-anchor=\"middle\" x=\"117.547\" y=\"-14.3\">RACC</text>\n",
       "</g>\n",
       "<!-- LACC&#45;&gt;RACC -->\n",
       "<g class=\"edge\" id=\"edge2\"><title>LACC-&gt;RACC</title>\n",
       "<path d=\"M81.8026,-288.095C73.8811,-248.957 58.0747,-149.544 82.5473,-72 85.783,-61.7474 91.6308,-51.6166 97.6318,-43.0019\" fill=\"none\" stroke=\"black\"/>\n",
       "<polygon fill=\"black\" points=\"100.459,-45.0651 103.593,-34.9443 94.8317,-40.902 100.459,-45.0651\" stroke=\"black\"/>\n",
       "</g>\n",
       "<!-- I -->\n",
       "<g class=\"node\" id=\"node4\"><title>I</title>\n",
       "<ellipse cx=\"202.547\" cy=\"-162\" fill=\"none\" rx=\"27\" ry=\"18\" stroke=\"black\"/>\n",
       "<text font-family=\"Times,serif\" font-size=\"14.00\" text-anchor=\"middle\" x=\"202.547\" y=\"-158.3\">I</text>\n",
       "</g>\n",
       "<!-- LOCC&#45;&gt;I -->\n",
       "<g class=\"edge\" id=\"edge3\"><title>LOCC-&gt;I</title>\n",
       "<path d=\"M150.417,-217.465C159.599,-207.871 171.52,-195.416 181.645,-184.839\" fill=\"none\" stroke=\"black\"/>\n",
       "<polygon fill=\"black\" points=\"184.248,-187.18 188.634,-177.536 179.191,-182.34 184.248,-187.18\" stroke=\"black\"/>\n",
       "</g>\n",
       "<!-- ROCC -->\n",
       "<g class=\"node\" id=\"node5\"><title>ROCC</title>\n",
       "<ellipse cx=\"123.547\" cy=\"-162\" fill=\"none\" rx=\"34.394\" ry=\"18\" stroke=\"black\"/>\n",
       "<text font-family=\"Times,serif\" font-size=\"14.00\" text-anchor=\"middle\" x=\"123.547\" y=\"-158.3\">ROCC</text>\n",
       "</g>\n",
       "<!-- LOCC&#45;&gt;ROCC -->\n",
       "<g class=\"edge\" id=\"edge4\"><title>LOCC-&gt;ROCC</title>\n",
       "<path d=\"M132.642,-216.055C131.321,-208.346 129.723,-199.027 128.238,-190.364\" fill=\"none\" stroke=\"black\"/>\n",
       "<polygon fill=\"black\" points=\"131.648,-189.54 126.509,-180.275 124.749,-190.723 131.648,-189.54\" stroke=\"black\"/>\n",
       "</g>\n",
       "<!-- RIPL -->\n",
       "<g class=\"node\" id=\"node9\"><title>RIPL</title>\n",
       "<ellipse cx=\"121.547\" cy=\"-90\" fill=\"none\" rx=\"29.795\" ry=\"18\" stroke=\"black\"/>\n",
       "<text font-family=\"Times,serif\" font-size=\"14.00\" text-anchor=\"middle\" x=\"121.547\" y=\"-86.3\">RIPL</text>\n",
       "</g>\n",
       "<!-- ROCC&#45;&gt;RIPL -->\n",
       "<g class=\"edge\" id=\"edge12\"><title>ROCC-&gt;RIPL</title>\n",
       "<path d=\"M123.053,-143.697C122.833,-135.983 122.568,-126.712 122.322,-118.112\" fill=\"none\" stroke=\"black\"/>\n",
       "<polygon fill=\"black\" points=\"125.82,-118 122.036,-108.104 118.823,-118.2 125.82,-118\" stroke=\"black\"/>\n",
       "</g>\n",
       "<!-- LIFG -->\n",
       "<g class=\"node\" id=\"node6\"><title>LIFG</title>\n",
       "<ellipse cx=\"85.5473\" cy=\"-378\" fill=\"none\" rx=\"30.5947\" ry=\"18\" stroke=\"black\"/>\n",
       "<text font-family=\"Times,serif\" font-size=\"14.00\" text-anchor=\"middle\" x=\"85.5473\" y=\"-374.3\">LIFG</text>\n",
       "</g>\n",
       "<!-- LIFG&#45;&gt;LACC -->\n",
       "<g class=\"edge\" id=\"edge5\"><title>LIFG-&gt;LACC</title>\n",
       "<path d=\"M85.5473,-359.697C85.5473,-348.846 85.5473,-334.917 85.5473,-324.104\" fill=\"none\" stroke=\"black\"/>\n",
       "</g>\n",
       "<!-- RIFG -->\n",
       "<g class=\"node\" id=\"node7\"><title>RIFG</title>\n",
       "<ellipse cx=\"30.5473\" cy=\"-18\" fill=\"none\" rx=\"30.5947\" ry=\"18\" stroke=\"black\"/>\n",
       "<text font-family=\"Times,serif\" font-size=\"14.00\" text-anchor=\"middle\" x=\"30.5473\" y=\"-14.3\">RIFG</text>\n",
       "</g>\n",
       "<!-- LIFG&#45;&gt;RIFG -->\n",
       "<g class=\"edge\" id=\"edge6\"><title>LIFG-&gt;RIFG</title>\n",
       "<path d=\"M70.224,-362.122C60.8561,-352.174 49.3957,-338.325 42.5473,-324 25.1014,-287.509 23.5473,-275.447 23.5473,-235 23.5473,-235 23.5473,-235 23.5473,-161 23.5473,-120.947 26.3598,-74.6173 28.4193,-46.0603\" fill=\"none\" stroke=\"black\"/>\n",
       "<polygon fill=\"black\" points=\"31.9134,-46.2679 29.1643,-36.0359 24.9327,-45.749 31.9134,-46.2679\" stroke=\"black\"/>\n",
       "</g>\n",
       "<!-- LIPL -->\n",
       "<g class=\"node\" id=\"node8\"><title>LIPL</title>\n",
       "<ellipse cx=\"147.547\" cy=\"-450\" fill=\"none\" rx=\"29.4969\" ry=\"18\" stroke=\"black\"/>\n",
       "<text font-family=\"Times,serif\" font-size=\"14.00\" text-anchor=\"middle\" x=\"147.547\" y=\"-446.3\">LIPL</text>\n",
       "</g>\n",
       "<!-- LIPL&#45;&gt;LOCC -->\n",
       "<g class=\"edge\" id=\"edge7\"><title>LIPL-&gt;LOCC</title>\n",
       "<path d=\"M146.586,-431.849C144.51,-394.832 139.595,-307.181 137.083,-262.386\" fill=\"none\" stroke=\"black\"/>\n",
       "<polygon fill=\"black\" points=\"140.568,-262.021 136.514,-252.232 133.579,-262.413 140.568,-262.021\" stroke=\"black\"/>\n",
       "</g>\n",
       "<!-- LIPL&#45;&gt;LIFG -->\n",
       "<g class=\"edge\" id=\"edge8\"><title>LIPL-&gt;LIFG</title>\n",
       "<path d=\"M134.094,-433.811C123.837,-422.231 109.759,-406.336 99.4034,-394.644\" fill=\"none\" stroke=\"black\"/>\n",
       "</g>\n",
       "<!-- LIPL&#45;&gt;RIPL -->\n",
       "<g class=\"edge\" id=\"edge9\"><title>LIPL-&gt;RIPL</title>\n",
       "<path d=\"M166.96,-436.499C198.539,-414.466 257.547,-365.471 257.547,-307 257.547,-307 257.547,-307 257.547,-233 257.547,-192.553 263.914,-175.504 238.547,-144 218.979,-119.696 185.847,-106.127 159.826,-98.8178\" fill=\"none\" stroke=\"black\"/>\n",
       "<polygon fill=\"black\" points=\"160.447,-95.3629 149.888,-96.2277 158.682,-102.137 160.447,-95.3629\" stroke=\"black\"/>\n",
       "</g>\n",
       "<!-- RIPL&#45;&gt;RACC -->\n",
       "<g class=\"edge\" id=\"edge10\"><title>RIPL-&gt;RACC</title>\n",
       "<path d=\"M120.559,-71.6966C120.118,-63.9827 119.588,-54.7125 119.097,-46.1124\" fill=\"none\" stroke=\"black\"/>\n",
       "<polygon fill=\"black\" points=\"122.59,-45.8883 118.525,-36.1043 115.601,-46.2878 122.59,-45.8883\" stroke=\"black\"/>\n",
       "</g>\n",
       "<!-- RIPL&#45;&gt;RIFG -->\n",
       "<g class=\"edge\" id=\"edge11\"><title>RIPL-&gt;RIFG</title>\n",
       "<path d=\"M103.569,-75.1703C90.1078,-64.8158 71.4994,-50.5016 56.4368,-38.915\" fill=\"none\" stroke=\"black\"/>\n",
       "<polygon fill=\"black\" points=\"58.5489,-36.124 48.4886,-32.801 54.2809,-41.6724 58.5489,-36.124\" stroke=\"black\"/>\n",
       "</g>\n",
       "</g>\n",
       "</svg>"
      ],
      "text/plain": [
       "<IPython.core.display.SVG object>"
      ]
     },
     "execution_count": 8,
     "metadata": {},
     "output_type": "execute_result"
    }
   ],
   "source": [
    "dot = tetrad.getDot()\n",
    "svg_str = dot.create_svg(prog='dot')\n",
    "SVG(svg_str)"
   ]
  },
  {
   "cell_type": "code",
   "execution_count": 9,
   "metadata": {
    "collapsed": true
   },
   "outputs": [],
   "source": [
    "pc.stop_vm()"
   ]
  },
  {
   "cell_type": "code",
   "execution_count": null,
   "metadata": {
    "collapsed": true
   },
   "outputs": [],
   "source": []
  }
 ],
 "metadata": {
  "kernelspec": {
   "display_name": "Python 3",
   "language": "python",
   "name": "python3"
  },
  "language_info": {
   "codemirror_mode": {
    "name": "ipython",
    "version": 3
   },
   "file_extension": ".py",
   "mimetype": "text/x-python",
   "name": "python",
   "nbconvert_exporter": "python",
   "pygments_lexer": "ipython3",
   "version": "3.6.1"
  }
 },
 "nbformat": 4,
 "nbformat_minor": 2
}
