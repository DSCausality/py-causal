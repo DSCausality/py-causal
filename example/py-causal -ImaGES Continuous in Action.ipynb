{
 "cells": [
  {
   "cell_type": "code",
   "execution_count": 1,
   "metadata": {
    "collapsed": true
   },
   "outputs": [],
   "source": [
    "import os\n",
    "import glob\n",
    "import pandas as pd\n",
    "import pydot\n",
    "from IPython.display import SVG"
   ]
  },
  {
   "cell_type": "code",
   "execution_count": 2,
   "metadata": {},
   "outputs": [
    {
     "name": "stdout",
     "output_type": "stream",
     "text": [
      "/home/jovyan/py-causal/example/../data/9var/sub001.cent-table.9.dat.txt\n",
      "/home/jovyan/py-causal/example/../data/9var/sub016.cent-table.9.dat.txt\n",
      "/home/jovyan/py-causal/example/../data/9var/sub014.cent-table.9.dat.txt\n",
      "/home/jovyan/py-causal/example/../data/9var/sub010.cent-table.9.dat.txt\n",
      "/home/jovyan/py-causal/example/../data/9var/sub013.cent-table.9.dat.txt\n",
      "/home/jovyan/py-causal/example/../data/9var/sub017.cent-table.9.dat.txt\n",
      "/home/jovyan/py-causal/example/../data/9var/sub005.cent-table.9.dat.txt\n",
      "/home/jovyan/py-causal/example/../data/9var/sub009.cent-table.9.dat.txt\n",
      "/home/jovyan/py-causal/example/../data/9var/sub004.cent-table.9.dat.txt\n"
     ]
    }
   ],
   "source": [
    "dfs = []\n",
    "tetrad_images_dir = os.path.join(os.getcwd(), '..', 'data', '9var')\n",
    "for d in glob.glob(tetrad_images_dir + os.sep + \"*.txt\"):\n",
    "    print d\n",
    "    df = pd.read_table(d, sep=\"\\t\")\n",
    "    dfs.append(df)"
   ]
  },
  {
   "cell_type": "code",
   "execution_count": 3,
   "metadata": {
    "collapsed": true
   },
   "outputs": [],
   "source": [
    "from pycausal.pycausal import pycausal as pc\n",
    "pc = pc()\n",
    "pc.start_vm()"
   ]
  },
  {
   "cell_type": "code",
   "execution_count": 4,
   "metadata": {},
   "outputs": [
    {
     "name": "stdout",
     "output_type": "stream",
     "text": [
      "penaltyDiscount: Penalty discount (min = 0.0) (java.lang.Double) [default:2.0]\n",
      "faithfulnessAssumed: Yes if (one edge) faithfulness should be assumed (java.lang.Boolean) [default:true]\n",
      "symmetricFirstStep: Yes if the first step step for FGES should do scoring for both X->Y and Y->X (java.lang.Boolean) [default:false]\n",
      "maxDegree: The maximum degree of the graph (min = -1) (java.lang.Integer) [default:100]\n",
      "verbose: Yes if verbose output should be printed or logged (java.lang.Boolean) [default:false]\n",
      "bootstrapSampleSize: The number of bootstraps (min = 0) (java.lang.Integer) [default:0]\n",
      "bootstrapEnsemble: Ensemble method: Preserved (0), Highest (1), Majority (2) (java.lang.Integer) [default:1]\n",
      "numRuns: The number runs (java.lang.Integer) [default:1]\n",
      "randomSelectionSize: The number of datasets that should be taken in each random sample (java.lang.Integer) [default:1]\n",
      "bootstrapSampleSize: The number of bootstraps (min = 0) (java.lang.Integer) [default:0]\n",
      "bootstrapEnsemble: Ensemble method: Preserved (0), Highest (1), Majority (2) (java.lang.Integer) [default:1]\n",
      "verbose: Yes if verbose output should be printed or logged (java.lang.Boolean) [default:false]\n"
     ]
    }
   ],
   "source": [
    "from pycausal import search as s\n",
    "tetrad = s.tetradrunner()\n",
    "tetrad.getAlgorithmParameters(algoId = 'imgs_cont', testId = 'fisher-z')"
   ]
  },
  {
   "cell_type": "code",
   "execution_count": 5,
   "metadata": {
    "collapsed": true
   },
   "outputs": [],
   "source": [
    "tetrad.run(algoId = 'imgs_cont', dfs = dfs, testId = 'fisher-z', verbose = True)"
   ]
  },
  {
   "cell_type": "code",
   "execution_count": 6,
   "metadata": {},
   "outputs": [
    {
     "data": {
      "text/plain": [
       "[u'LOCC', u'LACC', u'LIFG', u'LIPL', u'ROCC', u'RACC', u'RIFG', u'RIPL', u'I']"
      ]
     },
     "execution_count": 6,
     "metadata": {},
     "output_type": "execute_result"
    }
   ],
   "source": [
    "tetrad.getNodes()"
   ]
  },
  {
   "cell_type": "code",
   "execution_count": 7,
   "metadata": {},
   "outputs": [
    {
     "data": {
      "text/plain": [
       "[u'LIPL --> RIPL',\n",
       " u'RIPL --> RIFG',\n",
       " u'LOCC --> ROCC',\n",
       " u'LACC --> RACC',\n",
       " u'RIPL --> RACC',\n",
       " u'LOCC --> I',\n",
       " u'LIPL --- LIFG',\n",
       " u'LIFG --- LACC',\n",
       " u'LIPL --> LOCC',\n",
       " u'LIFG --> RIFG',\n",
       " u'ROCC --> RIPL',\n",
       " u'LACC --> LOCC']"
      ]
     },
     "execution_count": 7,
     "metadata": {},
     "output_type": "execute_result"
    }
   ],
   "source": [
    "tetrad.getEdges()"
   ]
  },
  {
   "cell_type": "code",
   "execution_count": 8,
   "metadata": {},
   "outputs": [
    {
     "data": {
      "image/svg+xml": [
       "<svg height=\"476pt\" viewBox=\"0.00 0.00 248.51 476.00\" width=\"249pt\" xmlns=\"http://www.w3.org/2000/svg\" xmlns:xlink=\"http://www.w3.org/1999/xlink\">\n",
       "<g class=\"graph\" id=\"graph0\" transform=\"scale(1 1) rotate(0) translate(4 472)\">\n",
       "<title>G</title>\n",
       "<polygon fill=\"white\" points=\"-4,4 -4,-472 244.514,-472 244.514,4 -4,4\" stroke=\"none\"/>\n",
       "<!-- LIFG -->\n",
       "<g class=\"node\" id=\"node1\"><title>LIFG</title>\n",
       "<ellipse cx=\"67.5473\" cy=\"-378\" fill=\"none\" rx=\"30.5947\" ry=\"18\" stroke=\"black\"/>\n",
       "<text font-family=\"Times,serif\" font-size=\"14.00\" text-anchor=\"middle\" x=\"67.5473\" y=\"-374.3\">LIFG</text>\n",
       "</g>\n",
       "<!-- LACC -->\n",
       "<g class=\"node\" id=\"node2\"><title>LACC</title>\n",
       "<ellipse cx=\"67.5473\" cy=\"-306\" fill=\"none\" rx=\"34.394\" ry=\"18\" stroke=\"black\"/>\n",
       "<text font-family=\"Times,serif\" font-size=\"14.00\" text-anchor=\"middle\" x=\"67.5473\" y=\"-302.3\">LACC</text>\n",
       "</g>\n",
       "<!-- LIFG&#45;&gt;LACC -->\n",
       "<g class=\"edge\" id=\"edge1\"><title>LIFG-&gt;LACC</title>\n",
       "<path d=\"M67.5473,-359.697C67.5473,-348.846 67.5473,-334.917 67.5473,-324.104\" fill=\"none\" stroke=\"black\"/>\n",
       "</g>\n",
       "<!-- RIFG -->\n",
       "<g class=\"node\" id=\"node3\"><title>RIFG</title>\n",
       "<ellipse cx=\"30.5473\" cy=\"-18\" fill=\"none\" rx=\"30.5947\" ry=\"18\" stroke=\"black\"/>\n",
       "<text font-family=\"Times,serif\" font-size=\"14.00\" text-anchor=\"middle\" x=\"30.5473\" y=\"-14.3\">RIFG</text>\n",
       "</g>\n",
       "<!-- LIFG&#45;&gt;RIFG -->\n",
       "<g class=\"edge\" id=\"edge2\"><title>LIFG-&gt;RIFG</title>\n",
       "<path d=\"M52.224,-362.122C42.8561,-352.174 31.3957,-338.325 24.5473,-324 7.10136,-287.509 5.54729,-275.447 5.54729,-235 5.54729,-235 5.54729,-235 5.54729,-161 5.54729,-120.381 15.5919,-74.2023 22.9473,-45.8324\" fill=\"none\" stroke=\"black\"/>\n",
       "<polygon fill=\"black\" points=\"26.4065,-46.4447 25.6081,-35.88 19.644,-44.6367 26.4065,-46.4447\" stroke=\"black\"/>\n",
       "</g>\n",
       "<!-- LOCC -->\n",
       "<g class=\"node\" id=\"node4\"><title>LOCC</title>\n",
       "<ellipse cx=\"117.547\" cy=\"-234\" fill=\"none\" rx=\"34.394\" ry=\"18\" stroke=\"black\"/>\n",
       "<text font-family=\"Times,serif\" font-size=\"14.00\" text-anchor=\"middle\" x=\"117.547\" y=\"-230.3\">LOCC</text>\n",
       "</g>\n",
       "<!-- LACC&#45;&gt;LOCC -->\n",
       "<g class=\"edge\" id=\"edge5\"><title>LACC-&gt;LOCC</title>\n",
       "<path d=\"M79.144,-288.765C85.3915,-280.018 93.2246,-269.052 100.184,-259.308\" fill=\"none\" stroke=\"black\"/>\n",
       "<polygon fill=\"black\" points=\"103.049,-261.319 106.013,-251.147 97.353,-257.25 103.049,-261.319\" stroke=\"black\"/>\n",
       "</g>\n",
       "<!-- RACC -->\n",
       "<g class=\"node\" id=\"node7\"><title>RACC</title>\n",
       "<ellipse cx=\"126.547\" cy=\"-18\" fill=\"none\" rx=\"34.394\" ry=\"18\" stroke=\"black\"/>\n",
       "<text font-family=\"Times,serif\" font-size=\"14.00\" text-anchor=\"middle\" x=\"126.547\" y=\"-14.3\">RACC</text>\n",
       "</g>\n",
       "<!-- LACC&#45;&gt;RACC -->\n",
       "<g class=\"edge\" id=\"edge6\"><title>LACC-&gt;RACC</title>\n",
       "<path d=\"M64.0679,-287.774C58.6971,-257.98 50.224,-195.109 62.5473,-144 71.5672,-106.591 93.7931,-67.7945 109.512,-43.5418\" fill=\"none\" stroke=\"black\"/>\n",
       "<polygon fill=\"black\" points=\"112.571,-45.2615 115.177,-34.992 106.736,-41.3951 112.571,-45.2615\" stroke=\"black\"/>\n",
       "</g>\n",
       "<!-- I -->\n",
       "<g class=\"node\" id=\"node5\"><title>I</title>\n",
       "<ellipse cx=\"98.5473\" cy=\"-162\" fill=\"none\" rx=\"27\" ry=\"18\" stroke=\"black\"/>\n",
       "<text font-family=\"Times,serif\" font-size=\"14.00\" text-anchor=\"middle\" x=\"98.5473\" y=\"-158.3\">I</text>\n",
       "</g>\n",
       "<!-- LOCC&#45;&gt;I -->\n",
       "<g class=\"edge\" id=\"edge3\"><title>LOCC-&gt;I</title>\n",
       "<path d=\"M112.948,-216.055C110.801,-208.145 108.194,-198.54 105.791,-189.688\" fill=\"none\" stroke=\"black\"/>\n",
       "<polygon fill=\"black\" points=\"109.102,-188.523 103.104,-179.789 102.346,-190.357 109.102,-188.523\" stroke=\"black\"/>\n",
       "</g>\n",
       "<!-- ROCC -->\n",
       "<g class=\"node\" id=\"node6\"><title>ROCC</title>\n",
       "<ellipse cx=\"177.547\" cy=\"-162\" fill=\"none\" rx=\"34.394\" ry=\"18\" stroke=\"black\"/>\n",
       "<text font-family=\"Times,serif\" font-size=\"14.00\" text-anchor=\"middle\" x=\"177.547\" y=\"-158.3\">ROCC</text>\n",
       "</g>\n",
       "<!-- LOCC&#45;&gt;ROCC -->\n",
       "<g class=\"edge\" id=\"edge4\"><title>LOCC-&gt;ROCC</title>\n",
       "<path d=\"M131.162,-217.116C138.91,-208.076 148.762,-196.583 157.391,-186.515\" fill=\"none\" stroke=\"black\"/>\n",
       "<polygon fill=\"black\" points=\"160.136,-188.692 163.986,-178.821 154.821,-184.136 160.136,-188.692\" stroke=\"black\"/>\n",
       "</g>\n",
       "<!-- RIPL -->\n",
       "<g class=\"node\" id=\"node9\"><title>RIPL</title>\n",
       "<ellipse cx=\"139.547\" cy=\"-90\" fill=\"none\" rx=\"29.795\" ry=\"18\" stroke=\"black\"/>\n",
       "<text font-family=\"Times,serif\" font-size=\"14.00\" text-anchor=\"middle\" x=\"139.547\" y=\"-86.3\">RIPL</text>\n",
       "</g>\n",
       "<!-- ROCC&#45;&gt;RIPL -->\n",
       "<g class=\"edge\" id=\"edge12\"><title>ROCC-&gt;RIPL</title>\n",
       "<path d=\"M168.542,-144.411C163.999,-136.042 158.39,-125.71 153.319,-116.37\" fill=\"none\" stroke=\"black\"/>\n",
       "<polygon fill=\"black\" points=\"156.335,-114.589 148.488,-107.47 150.183,-117.928 156.335,-114.589\" stroke=\"black\"/>\n",
       "</g>\n",
       "<!-- LIPL -->\n",
       "<g class=\"node\" id=\"node8\"><title>LIPL</title>\n",
       "<ellipse cx=\"129.547\" cy=\"-450\" fill=\"none\" rx=\"29.4969\" ry=\"18\" stroke=\"black\"/>\n",
       "<text font-family=\"Times,serif\" font-size=\"14.00\" text-anchor=\"middle\" x=\"129.547\" y=\"-446.3\">LIPL</text>\n",
       "</g>\n",
       "<!-- LIPL&#45;&gt;LIFG -->\n",
       "<g class=\"edge\" id=\"edge7\"><title>LIPL-&gt;LIFG</title>\n",
       "<path d=\"M116.094,-433.811C105.837,-422.231 91.7588,-406.336 81.4034,-394.644\" fill=\"none\" stroke=\"black\"/>\n",
       "</g>\n",
       "<!-- LIPL&#45;&gt;LOCC -->\n",
       "<g class=\"edge\" id=\"edge8\"><title>LIPL-&gt;LOCC</title>\n",
       "<path d=\"M128.586,-431.849C126.51,-394.832 121.595,-307.181 119.083,-262.386\" fill=\"none\" stroke=\"black\"/>\n",
       "<polygon fill=\"black\" points=\"122.568,-262.021 118.514,-252.232 115.579,-262.413 122.568,-262.021\" stroke=\"black\"/>\n",
       "</g>\n",
       "<!-- LIPL&#45;&gt;RIPL -->\n",
       "<g class=\"edge\" id=\"edge9\"><title>LIPL-&gt;RIPL</title>\n",
       "<path d=\"M148.96,-436.499C180.539,-414.466 239.547,-365.471 239.547,-307 239.547,-307 239.547,-307 239.547,-233 239.547,-192.553 243.414,-177.363 220.547,-144 208.843,-126.924 189.647,-114.009 172.88,-105.206\" fill=\"none\" stroke=\"black\"/>\n",
       "<polygon fill=\"black\" points=\"174.391,-102.048 163.877,-100.737 171.279,-108.318 174.391,-102.048\" stroke=\"black\"/>\n",
       "</g>\n",
       "<!-- RIPL&#45;&gt;RIFG -->\n",
       "<g class=\"edge\" id=\"edge10\"><title>RIPL-&gt;RIFG</title>\n",
       "<path d=\"M119.808,-76.3235C102.86,-65.4397 78.2159,-49.6129 59.1138,-37.3455\" fill=\"none\" stroke=\"black\"/>\n",
       "<polygon fill=\"black\" points=\"60.8135,-34.2774 50.5079,-31.8187 57.0309,-40.1674 60.8135,-34.2774\" stroke=\"black\"/>\n",
       "</g>\n",
       "<!-- RIPL&#45;&gt;RACC -->\n",
       "<g class=\"edge\" id=\"edge11\"><title>RIPL-&gt;RACC</title>\n",
       "<path d=\"M136.4,-72.055C134.969,-64.3456 133.238,-55.0269 131.629,-46.3642\" fill=\"none\" stroke=\"black\"/>\n",
       "<polygon fill=\"black\" points=\"135.023,-45.4681 129.756,-36.2753 128.14,-46.7463 135.023,-45.4681\" stroke=\"black\"/>\n",
       "</g>\n",
       "</g>\n",
       "</svg>"
      ],
      "text/plain": [
       "<IPython.core.display.SVG object>"
      ]
     },
     "execution_count": 8,
     "metadata": {},
     "output_type": "execute_result"
    }
   ],
   "source": [
    "dot = tetrad.getDot()\n",
    "svg_str = dot.create_svg(prog='dot')\n",
    "SVG(svg_str)"
   ]
  },
  {
   "cell_type": "code",
   "execution_count": 9,
   "metadata": {
    "collapsed": true
   },
   "outputs": [],
   "source": [
    "pc.stop_vm()"
   ]
  },
  {
   "cell_type": "code",
   "execution_count": null,
   "metadata": {
    "collapsed": true
   },
   "outputs": [],
   "source": []
  }
 ],
 "metadata": {
  "kernelspec": {
   "display_name": "Python 2",
   "language": "python",
   "name": "python2"
  },
  "language_info": {
   "codemirror_mode": {
    "name": "ipython",
    "version": 2
   },
   "file_extension": ".py",
   "mimetype": "text/x-python",
   "name": "python",
   "nbconvert_exporter": "python",
   "pygments_lexer": "ipython2",
   "version": "2.7.13"
  }
 },
 "nbformat": 4,
 "nbformat_minor": 2
}
