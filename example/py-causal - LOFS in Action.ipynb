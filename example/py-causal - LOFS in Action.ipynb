{
 "cells": [
  {
   "cell_type": "code",
   "execution_count": 1,
   "metadata": {},
   "outputs": [],
   "source": [
    "import os\n",
    "import glob\n",
    "import pandas as pd"
   ]
  },
  {
   "cell_type": "code",
   "execution_count": 2,
   "metadata": {},
   "outputs": [
    {
     "name": "stdout",
     "output_type": "stream",
     "text": [
      "/home/jovyan/py-causal/example/../data/9var/sub001.cent-table.9.dat.txt\n",
      "/home/jovyan/py-causal/example/../data/9var/sub016.cent-table.9.dat.txt\n",
      "/home/jovyan/py-causal/example/../data/9var/sub014.cent-table.9.dat.txt\n",
      "/home/jovyan/py-causal/example/../data/9var/sub010.cent-table.9.dat.txt\n",
      "/home/jovyan/py-causal/example/../data/9var/sub013.cent-table.9.dat.txt\n",
      "/home/jovyan/py-causal/example/../data/9var/sub017.cent-table.9.dat.txt\n",
      "/home/jovyan/py-causal/example/../data/9var/sub005.cent-table.9.dat.txt\n",
      "/home/jovyan/py-causal/example/../data/9var/sub009.cent-table.9.dat.txt\n",
      "/home/jovyan/py-causal/example/../data/9var/sub004.cent-table.9.dat.txt\n"
     ]
    }
   ],
   "source": [
    "dfs = []\n",
    "tetrad_images_dir = os.path.join(os.getcwd(), '..', 'data', '9var')\n",
    "for d in glob.glob(tetrad_images_dir + os.sep + \"*.txt\"):\n",
    "    print (d)\n",
    "    df = pd.read_table(d, sep=\"\\t\")\n",
    "    dfs.append(df)"
   ]
  },
  {
   "cell_type": "code",
   "execution_count": 3,
   "metadata": {},
   "outputs": [],
   "source": [
    "from pycausal.pycausal import pycausal as pc\n",
    "pc = pc()\n",
    "pc.start_vm()"
   ]
  },
  {
   "cell_type": "code",
   "execution_count": 4,
   "metadata": {},
   "outputs": [
    {
     "name": "stdout",
     "output_type": "stream",
     "text": [
      "bdeu-test\n",
      "cci-test\n",
      "cg-lr-test\n",
      "chi-square-test\n",
      "d-sep-test\n",
      "disc-bic-test\n",
      "fisher-z-test\n",
      "g-square-test\n",
      "kci-test\n",
      "mnlrlr-test\n",
      "mvplr-test\n",
      "prob-test\n"
     ]
    }
   ],
   "source": [
    "from pycausal import search as s\n",
    "tetrad = s.tetradrunner()\n",
    "tetrad.listIndTests()"
   ]
  },
  {
   "cell_type": "code",
   "execution_count": 5,
   "metadata": {},
   "outputs": [
    {
     "name": "stdout",
     "output_type": "stream",
     "text": [
      "faithfulnessAssumed: This is a parameter for FGES (“Fast GES”). If this is set to ‘Yes’, it will be assumed that if X _||_ Y, by an independence test, then X _||_ Y | Z for nonempty Z. If the model is faithful to the data, this will necessarily be the case. However, there are some non-faithful examples one can propose where this is not the case. If one is worried about this kind of unfaithfulness, one should set this parameter to ‘No’. If one is willing to tolerate this kind of unfaithfulness, then setting this parameter to ‘Yes’ leads to significantly faster searches. (java.lang.Boolean) [default:true]\n",
      "symmetricFirstStep: For discrete searches, and in some other situations, it may make a difference for an edge X—Y whether you score X->Y or X<-Y, even though theoretically they should have the same score. If this parameter is set to “Yes”, both scores will be calculated and the higher score used. (Recall we are calculating BIC as 2L – c k ln N, where c is the penalty discount.) (java.lang.Boolean) [default:false]\n",
      "maxDegree: It is possible for a random graph to have a single node with very high degree—i.e. number of adjacent edges. This parameter places an upper bound on the maximum such degree. If no limit is to be placed on the maximum degree, use the value -1. (java.lang.Integer) [default:100]\n",
      "verbose: If this parameter is set to ‘Yes’, extra (“verbose”) output will be printed if available giving some details about the step-by-step operation of the algorithm. (java.lang.Boolean) [default:true]\n",
      "numRuns: An analysis(randomly pick graph, randomly simulate a dataset, run an algorithm on it, look at the result) may be run over and over again, repeatedly, and results summarized. This parameter indicates the number of repetitions that should be done for the analysis. The minimum is 1. (java.lang.Integer) [default:1]\n",
      "randomSelectionSize: This parameter is for algorithms that take multiple datasets as input, such as IMaGES. The idea is that maybe you have 100 dataset but want to take a random sample of 5 such datasets. This parameter, in this example, is ‘5’. It is the number of dataset that should be taken in each random sample of datasets. (java.lang.Integer) [default:1]\n",
      "verbose: If this parameter is set to ‘Yes’, extra (“verbose”) output will be printed if available giving some details about the step-by-step operation of the algorithm. (java.lang.Boolean) [default:true]\n"
     ]
    }
   ],
   "source": [
    "tetrad.getAlgorithmParameters(algoId = 'imgs_cont', testId = 'fisher-z-test')"
   ]
  },
  {
   "cell_type": "code",
   "execution_count": 6,
   "metadata": {},
   "outputs": [],
   "source": [
    "tetrad.run(algoId = 'imgs_cont', dfs = dfs, testId = 'fisher-z-test', verbose = True)"
   ]
  },
  {
   "cell_type": "code",
   "execution_count": 7,
   "metadata": {},
   "outputs": [
    {
     "data": {
      "text/plain": [
       "['LOCC', 'LACC', 'LIFG', 'LIPL', 'ROCC', 'RACC', 'RIFG', 'RIPL', 'I']"
      ]
     },
     "execution_count": 7,
     "metadata": {},
     "output_type": "execute_result"
    }
   ],
   "source": [
    "tetrad.getNodes()"
   ]
  },
  {
   "cell_type": "code",
   "execution_count": 8,
   "metadata": {},
   "outputs": [
    {
     "data": {
      "text/plain": [
       "['LIPL --> RIPL',\n",
       " 'RIPL --> RIFG',\n",
       " 'LIPL --> LACC',\n",
       " 'LOCC --- ROCC',\n",
       " 'RIFG --> RACC',\n",
       " 'LACC --> RACC',\n",
       " 'RIPL --> RACC',\n",
       " 'LOCC --- I',\n",
       " 'LIPL --> LIFG',\n",
       " 'LACC --> LIFG',\n",
       " 'LIPL --- LOCC',\n",
       " 'LIFG --> RIFG',\n",
       " 'ROCC --> RIPL',\n",
       " 'I --> LACC',\n",
       " 'LOCC --> LACC']"
      ]
     },
     "execution_count": 8,
     "metadata": {},
     "output_type": "execute_result"
    }
   ],
   "source": [
    "tetrad.getEdges()"
   ]
  },
  {
   "cell_type": "code",
   "execution_count": 9,
   "metadata": {},
   "outputs": [
    {
     "data": {
      "image/svg+xml": [
       "<svg height=\"404pt\" viewBox=\"0.00 0.00 265.00 404.00\" width=\"265pt\" xmlns=\"http://www.w3.org/2000/svg\" xmlns:xlink=\"http://www.w3.org/1999/xlink\">\n",
       "<g class=\"graph\" id=\"graph0\" transform=\"scale(1 1) rotate(0) translate(4 400)\">\n",
       "<title>g</title>\n",
       "<polygon fill=\"white\" points=\"-4,4 -4,-400 260.997,-400 260.997,4 -4,4\" stroke=\"none\"/>\n",
       "<!-- LIPL -->\n",
       "<g class=\"node\" id=\"node1\"><title>LIPL</title>\n",
       "<ellipse cx=\"167.997\" cy=\"-162\" fill=\"none\" rx=\"33.5952\" ry=\"18\" stroke=\"black\"/>\n",
       "<text font-family=\"Times,serif\" font-size=\"14.00\" text-anchor=\"middle\" x=\"167.997\" y=\"-158.3\">LIPL</text>\n",
       "</g>\n",
       "<!-- RIPL -->\n",
       "<g class=\"node\" id=\"node2\"><title>RIPL</title>\n",
       "<ellipse cx=\"94.9965\" cy=\"-90\" fill=\"none\" rx=\"34.394\" ry=\"18\" stroke=\"black\"/>\n",
       "<text font-family=\"Times,serif\" font-size=\"14.00\" text-anchor=\"middle\" x=\"94.9965\" y=\"-86.3\">RIPL</text>\n",
       "</g>\n",
       "<!-- LIPL&#45;&gt;RIPL -->\n",
       "<g class=\"edge\" id=\"edge1\"><title>LIPL-&gt;RIPL</title>\n",
       "<path d=\"M152.157,-145.811C142.208,-136.271 129.206,-123.803 118.116,-113.17\" fill=\"none\" stroke=\"black\"/>\n",
       "<polygon fill=\"black\" points=\"120.446,-110.554 110.806,-106.159 115.601,-115.607 120.446,-110.554\" stroke=\"black\"/>\n",
       "</g>\n",
       "<!-- LOCC -->\n",
       "<g class=\"node\" id=\"node5\"><title>LOCC</title>\n",
       "<ellipse cx=\"214.997\" cy=\"-90\" fill=\"none\" rx=\"38.9931\" ry=\"18\" stroke=\"black\"/>\n",
       "<text font-family=\"Times,serif\" font-size=\"14.00\" text-anchor=\"middle\" x=\"214.997\" y=\"-86.3\">LOCC</text>\n",
       "</g>\n",
       "<!-- LIPL&#45;&gt;LOCC -->\n",
       "<g class=\"edge\" id=\"edge11\"><title>LIPL-&gt;LOCC</title>\n",
       "<path d=\"M178.897,-144.765C186.382,-133.618 196.287,-118.865 203.828,-107.633\" fill=\"none\" stroke=\"black\"/>\n",
       "</g>\n",
       "<!-- ROCC -->\n",
       "<g class=\"node\" id=\"node6\"><title>ROCC</title>\n",
       "<ellipse cx=\"154.997\" cy=\"-18\" fill=\"none\" rx=\"39.7935\" ry=\"18\" stroke=\"black\"/>\n",
       "<text font-family=\"Times,serif\" font-size=\"14.00\" text-anchor=\"middle\" x=\"154.997\" y=\"-14.3\">ROCC</text>\n",
       "</g>\n",
       "<!-- RIPL&#45;&gt;ROCC -->\n",
       "<g class=\"edge\" id=\"edge13\"><title>RIPL-&gt;ROCC</title>\n",
       "<path d=\"M115.368,-65.2331C123.811,-55.3827 133.393,-44.2044 141.019,-35.307\" fill=\"none\" stroke=\"black\"/>\n",
       "<polygon fill=\"black\" points=\"112.462,-63.2455 108.611,-73.1159 117.777,-67.8011 112.462,-63.2455\" stroke=\"black\"/>\n",
       "</g>\n",
       "<!-- RIFG -->\n",
       "<g class=\"node\" id=\"node3\"><title>RIFG</title>\n",
       "<ellipse cx=\"80.9965\" cy=\"-162\" fill=\"none\" rx=\"35.194\" ry=\"18\" stroke=\"black\"/>\n",
       "<text font-family=\"Times,serif\" font-size=\"14.00\" text-anchor=\"middle\" x=\"80.9965\" y=\"-158.3\">RIFG</text>\n",
       "</g>\n",
       "<!-- RIFG&#45;&gt;RIPL -->\n",
       "<g class=\"edge\" id=\"edge2\"><title>RIFG-&gt;RIPL</title>\n",
       "<path d=\"M86.3955,-134.005C88.1242,-125.362 89.9905,-116.03 91.5415,-108.275\" fill=\"none\" stroke=\"black\"/>\n",
       "<polygon fill=\"black\" points=\"82.9148,-133.563 84.3855,-144.055 89.7788,-134.936 82.9148,-133.563\" stroke=\"black\"/>\n",
       "</g>\n",
       "<!-- LACC -->\n",
       "<g class=\"node\" id=\"node4\"><title>LACC</title>\n",
       "<ellipse cx=\"191.997\" cy=\"-306\" fill=\"none\" rx=\"38.1938\" ry=\"18\" stroke=\"black\"/>\n",
       "<text font-family=\"Times,serif\" font-size=\"14.00\" text-anchor=\"middle\" x=\"191.997\" y=\"-302.3\">LACC</text>\n",
       "</g>\n",
       "<!-- LACC&#45;&gt;LIPL -->\n",
       "<g class=\"edge\" id=\"edge3\"><title>LACC-&gt;LIPL</title>\n",
       "<path d=\"M187.379,-277.679C182.513,-248.888 174.998,-204.424 170.902,-180.189\" fill=\"none\" stroke=\"black\"/>\n",
       "<polygon fill=\"black\" points=\"183.984,-278.595 189.102,-287.871 190.886,-277.428 183.984,-278.595\" stroke=\"black\"/>\n",
       "</g>\n",
       "<!-- LACC&#45;&gt;LOCC -->\n",
       "<g class=\"edge\" id=\"edge15\"><title>LACC-&gt;LOCC</title>\n",
       "<path d=\"M196.993,-277.733C201.418,-252.48 207.674,-213.833 210.997,-180 213.445,-155.063 214.397,-126.047 214.765,-108.1\" fill=\"none\" stroke=\"black\"/>\n",
       "<polygon fill=\"black\" points=\"193.529,-277.224 195.223,-287.682 200.421,-278.45 193.529,-277.224\" stroke=\"black\"/>\n",
       "</g>\n",
       "<!-- RACC -->\n",
       "<g class=\"node\" id=\"node7\"><title>RACC</title>\n",
       "<ellipse cx=\"38.9965\" cy=\"-234\" fill=\"none\" rx=\"38.9931\" ry=\"18\" stroke=\"black\"/>\n",
       "<text font-family=\"Times,serif\" font-size=\"14.00\" text-anchor=\"middle\" x=\"38.9965\" y=\"-230.3\">RACC</text>\n",
       "</g>\n",
       "<!-- LACC&#45;&gt;RACC -->\n",
       "<g class=\"edge\" id=\"edge6\"><title>LACC-&gt;RACC</title>\n",
       "<path d=\"M165.346,-292.807C140.302,-281.349 102.634,-264.115 74.9404,-251.445\" fill=\"none\" stroke=\"black\"/>\n",
       "<polygon fill=\"black\" points=\"76.1476,-248.148 65.5979,-247.171 73.2352,-254.514 76.1476,-248.148\" stroke=\"black\"/>\n",
       "</g>\n",
       "<!-- LIFG -->\n",
       "<g class=\"node\" id=\"node9\"><title>LIFG</title>\n",
       "<ellipse cx=\"129.997\" cy=\"-234\" fill=\"none\" rx=\"34.394\" ry=\"18\" stroke=\"black\"/>\n",
       "<text font-family=\"Times,serif\" font-size=\"14.00\" text-anchor=\"middle\" x=\"129.997\" y=\"-230.3\">LIFG</text>\n",
       "</g>\n",
       "<!-- LACC&#45;&gt;LIFG -->\n",
       "<g class=\"edge\" id=\"edge10\"><title>LACC-&gt;LIFG</title>\n",
       "<path d=\"M177.928,-289.116C169.921,-280.076 159.742,-268.583 150.825,-258.515\" fill=\"none\" stroke=\"black\"/>\n",
       "<polygon fill=\"black\" points=\"153.26,-255.986 144.01,-250.821 148.02,-260.628 153.26,-255.986\" stroke=\"black\"/>\n",
       "</g>\n",
       "<!-- LOCC&#45;&gt;ROCC -->\n",
       "<g class=\"edge\" id=\"edge4\"><title>LOCC-&gt;ROCC</title>\n",
       "<path d=\"M201.382,-73.1159C191.701,-61.8213 178.736,-46.6956 168.974,-35.307\" fill=\"none\" stroke=\"black\"/>\n",
       "</g>\n",
       "<!-- RACC&#45;&gt;RIPL -->\n",
       "<g class=\"edge\" id=\"edge7\"><title>RACC-&gt;RIPL</title>\n",
       "<path d=\"M32.6252,-206.116C29.6452,-187.829 28.3975,-163.506 36.9965,-144 44.4245,-127.15 60.1476,-113.333 73.3514,-104.035\" fill=\"none\" stroke=\"black\"/>\n",
       "<polygon fill=\"black\" points=\"29.2172,-206.93 34.5187,-216.103 36.0947,-205.626 29.2172,-206.93\" stroke=\"black\"/>\n",
       "</g>\n",
       "<!-- RACC&#45;&gt;RIFG -->\n",
       "<g class=\"edge\" id=\"edge5\"><title>RACC-&gt;RIFG</title>\n",
       "<path d=\"M54.1232,-207.789C59.7787,-198.363 66.0523,-187.907 71.1146,-179.47\" fill=\"none\" stroke=\"black\"/>\n",
       "<polygon fill=\"black\" points=\"51.0937,-206.035 48.95,-216.411 57.0962,-209.637 51.0937,-206.035\" stroke=\"black\"/>\n",
       "</g>\n",
       "<!-- I -->\n",
       "<g class=\"node\" id=\"node8\"><title>I</title>\n",
       "<ellipse cx=\"229.997\" cy=\"-378\" fill=\"none\" rx=\"27\" ry=\"18\" stroke=\"black\"/>\n",
       "<text font-family=\"Times,serif\" font-size=\"14.00\" text-anchor=\"middle\" x=\"229.997\" y=\"-374.3\">I</text>\n",
       "</g>\n",
       "<!-- I&#45;&gt;LACC -->\n",
       "<g class=\"edge\" id=\"edge14\"><title>I-&gt;LACC</title>\n",
       "<path d=\"M221.183,-360.765C216.645,-352.404 211.005,-342.016 205.897,-332.606\" fill=\"none\" stroke=\"black\"/>\n",
       "<polygon fill=\"black\" points=\"208.873,-330.752 201.026,-323.633 202.721,-334.092 208.873,-330.752\" stroke=\"black\"/>\n",
       "</g>\n",
       "<!-- I&#45;&gt;LOCC -->\n",
       "<g class=\"edge\" id=\"edge8\"><title>I-&gt;LOCC</title>\n",
       "<path d=\"M233.65,-359.908C235.672,-349.569 237.977,-336.09 238.997,-324 243.815,-266.839 229.01,-157.064 226.997,-144 225.129,-131.879 222.063,-118.401 219.498,-108.07\" fill=\"none\" stroke=\"black\"/>\n",
       "</g>\n",
       "<!-- LIFG&#45;&gt;LIPL -->\n",
       "<g class=\"edge\" id=\"edge9\"><title>LIFG-&gt;LIPL</title>\n",
       "<path d=\"M143.841,-207.497C148.916,-198.148 154.523,-187.82 159.056,-179.47\" fill=\"none\" stroke=\"black\"/>\n",
       "<polygon fill=\"black\" points=\"140.697,-205.953 139.002,-216.411 146.849,-209.292 140.697,-205.953\" stroke=\"black\"/>\n",
       "</g>\n",
       "<!-- LIFG&#45;&gt;RIFG -->\n",
       "<g class=\"edge\" id=\"edge12\"><title>LIFG-&gt;RIFG</title>\n",
       "<path d=\"M118.632,-216.765C112.571,-208.106 104.988,-197.273 98.2193,-187.604\" fill=\"none\" stroke=\"black\"/>\n",
       "<polygon fill=\"black\" points=\"100.902,-185.333 92.2997,-179.147 95.167,-189.347 100.902,-185.333\" stroke=\"black\"/>\n",
       "</g>\n",
       "</g>\n",
       "</svg>"
      ],
      "text/plain": [
       "<IPython.core.display.SVG object>"
      ]
     },
     "execution_count": 9,
     "metadata": {},
     "output_type": "execute_result"
    }
   ],
   "source": [
    "import pydot\n",
    "from IPython.display import SVG\n",
    "dot_str = pc.tetradGraphToDot(tetrad.getTetradGraph())\n",
    "graphs = pydot.graph_from_dot_data(dot_str)\n",
    "svg_str = graphs[0].create_svg()\n",
    "SVG(svg_str)"
   ]
  },
  {
   "cell_type": "code",
   "execution_count": 10,
   "metadata": {},
   "outputs": [],
   "source": [
    "tetradGraph = tetrad.getTetradGraph()\n",
    "lofs = s.lofs(tetradGraph, dfs, dataType = 0, rule = 'RSkewE', score = 'entropy')"
   ]
  },
  {
   "cell_type": "code",
   "execution_count": 11,
   "metadata": {},
   "outputs": [
    {
     "data": {
      "text/plain": [
       "['RIPL --> LIPL',\n",
       " 'RIPL --> RIFG',\n",
       " 'LACC --> LIPL',\n",
       " 'ROCC --> LOCC',\n",
       " 'RACC --> RIFG',\n",
       " 'RACC --> LACC',\n",
       " 'RACC --> RIPL',\n",
       " 'I --> LOCC',\n",
       " 'LIPL --> LIFG',\n",
       " 'LIFG --> LACC',\n",
       " 'LIPL --> LOCC',\n",
       " 'LIFG --> RIFG',\n",
       " 'RIPL --> ROCC',\n",
       " 'LACC --> I',\n",
       " 'LACC --> LOCC']"
      ]
     },
     "execution_count": 11,
     "metadata": {},
     "output_type": "execute_result"
    }
   ],
   "source": [
    "lofs.getEdges()"
   ]
  },
  {
   "cell_type": "code",
   "execution_count": 12,
   "metadata": {},
   "outputs": [
    {
     "data": {
      "image/svg+xml": [
       "<svg height=\"404pt\" viewBox=\"0.00 0.00 265.00 404.00\" width=\"265pt\" xmlns=\"http://www.w3.org/2000/svg\" xmlns:xlink=\"http://www.w3.org/1999/xlink\">\n",
       "<g class=\"graph\" id=\"graph0\" transform=\"scale(1 1) rotate(0) translate(4 400)\">\n",
       "<title>g</title>\n",
       "<polygon fill=\"white\" points=\"-4,4 -4,-400 260.997,-400 260.997,4 -4,4\" stroke=\"none\"/>\n",
       "<!-- LIPL -->\n",
       "<g class=\"node\" id=\"node1\"><title>LIPL</title>\n",
       "<ellipse cx=\"167.997\" cy=\"-162\" fill=\"none\" rx=\"33.5952\" ry=\"18\" stroke=\"black\"/>\n",
       "<text font-family=\"Times,serif\" font-size=\"14.00\" text-anchor=\"middle\" x=\"167.997\" y=\"-158.3\">LIPL</text>\n",
       "</g>\n",
       "<!-- RIPL -->\n",
       "<g class=\"node\" id=\"node2\"><title>RIPL</title>\n",
       "<ellipse cx=\"94.9965\" cy=\"-90\" fill=\"none\" rx=\"34.394\" ry=\"18\" stroke=\"black\"/>\n",
       "<text font-family=\"Times,serif\" font-size=\"14.00\" text-anchor=\"middle\" x=\"94.9965\" y=\"-86.3\">RIPL</text>\n",
       "</g>\n",
       "<!-- LIPL&#45;&gt;RIPL -->\n",
       "<g class=\"edge\" id=\"edge1\"><title>LIPL-&gt;RIPL</title>\n",
       "<path d=\"M152.157,-145.811C142.208,-136.271 129.206,-123.803 118.116,-113.17\" fill=\"none\" stroke=\"black\"/>\n",
       "<polygon fill=\"black\" points=\"120.446,-110.554 110.806,-106.159 115.601,-115.607 120.446,-110.554\" stroke=\"black\"/>\n",
       "</g>\n",
       "<!-- LOCC -->\n",
       "<g class=\"node\" id=\"node5\"><title>LOCC</title>\n",
       "<ellipse cx=\"214.997\" cy=\"-90\" fill=\"none\" rx=\"38.9931\" ry=\"18\" stroke=\"black\"/>\n",
       "<text font-family=\"Times,serif\" font-size=\"14.00\" text-anchor=\"middle\" x=\"214.997\" y=\"-86.3\">LOCC</text>\n",
       "</g>\n",
       "<!-- LIPL&#45;&gt;LOCC -->\n",
       "<g class=\"edge\" id=\"edge11\"><title>LIPL-&gt;LOCC</title>\n",
       "<path d=\"M178.897,-144.765C186.382,-133.618 196.287,-118.865 203.828,-107.633\" fill=\"none\" stroke=\"black\"/>\n",
       "</g>\n",
       "<!-- ROCC -->\n",
       "<g class=\"node\" id=\"node6\"><title>ROCC</title>\n",
       "<ellipse cx=\"154.997\" cy=\"-18\" fill=\"none\" rx=\"39.7935\" ry=\"18\" stroke=\"black\"/>\n",
       "<text font-family=\"Times,serif\" font-size=\"14.00\" text-anchor=\"middle\" x=\"154.997\" y=\"-14.3\">ROCC</text>\n",
       "</g>\n",
       "<!-- RIPL&#45;&gt;ROCC -->\n",
       "<g class=\"edge\" id=\"edge13\"><title>RIPL-&gt;ROCC</title>\n",
       "<path d=\"M115.368,-65.2331C123.811,-55.3827 133.393,-44.2044 141.019,-35.307\" fill=\"none\" stroke=\"black\"/>\n",
       "<polygon fill=\"black\" points=\"112.462,-63.2455 108.611,-73.1159 117.777,-67.8011 112.462,-63.2455\" stroke=\"black\"/>\n",
       "</g>\n",
       "<!-- RIFG -->\n",
       "<g class=\"node\" id=\"node3\"><title>RIFG</title>\n",
       "<ellipse cx=\"80.9965\" cy=\"-162\" fill=\"none\" rx=\"35.194\" ry=\"18\" stroke=\"black\"/>\n",
       "<text font-family=\"Times,serif\" font-size=\"14.00\" text-anchor=\"middle\" x=\"80.9965\" y=\"-158.3\">RIFG</text>\n",
       "</g>\n",
       "<!-- RIFG&#45;&gt;RIPL -->\n",
       "<g class=\"edge\" id=\"edge2\"><title>RIFG-&gt;RIPL</title>\n",
       "<path d=\"M86.3955,-134.005C88.1242,-125.362 89.9905,-116.03 91.5415,-108.275\" fill=\"none\" stroke=\"black\"/>\n",
       "<polygon fill=\"black\" points=\"82.9148,-133.563 84.3855,-144.055 89.7788,-134.936 82.9148,-133.563\" stroke=\"black\"/>\n",
       "</g>\n",
       "<!-- LACC -->\n",
       "<g class=\"node\" id=\"node4\"><title>LACC</title>\n",
       "<ellipse cx=\"191.997\" cy=\"-306\" fill=\"none\" rx=\"38.1938\" ry=\"18\" stroke=\"black\"/>\n",
       "<text font-family=\"Times,serif\" font-size=\"14.00\" text-anchor=\"middle\" x=\"191.997\" y=\"-302.3\">LACC</text>\n",
       "</g>\n",
       "<!-- LACC&#45;&gt;LIPL -->\n",
       "<g class=\"edge\" id=\"edge3\"><title>LACC-&gt;LIPL</title>\n",
       "<path d=\"M187.379,-277.679C182.513,-248.888 174.998,-204.424 170.902,-180.189\" fill=\"none\" stroke=\"black\"/>\n",
       "<polygon fill=\"black\" points=\"183.984,-278.595 189.102,-287.871 190.886,-277.428 183.984,-278.595\" stroke=\"black\"/>\n",
       "</g>\n",
       "<!-- LACC&#45;&gt;LOCC -->\n",
       "<g class=\"edge\" id=\"edge15\"><title>LACC-&gt;LOCC</title>\n",
       "<path d=\"M196.993,-277.733C201.418,-252.48 207.674,-213.833 210.997,-180 213.445,-155.063 214.397,-126.047 214.765,-108.1\" fill=\"none\" stroke=\"black\"/>\n",
       "<polygon fill=\"black\" points=\"193.529,-277.224 195.223,-287.682 200.421,-278.45 193.529,-277.224\" stroke=\"black\"/>\n",
       "</g>\n",
       "<!-- RACC -->\n",
       "<g class=\"node\" id=\"node7\"><title>RACC</title>\n",
       "<ellipse cx=\"38.9965\" cy=\"-234\" fill=\"none\" rx=\"38.9931\" ry=\"18\" stroke=\"black\"/>\n",
       "<text font-family=\"Times,serif\" font-size=\"14.00\" text-anchor=\"middle\" x=\"38.9965\" y=\"-230.3\">RACC</text>\n",
       "</g>\n",
       "<!-- LACC&#45;&gt;RACC -->\n",
       "<g class=\"edge\" id=\"edge6\"><title>LACC-&gt;RACC</title>\n",
       "<path d=\"M165.346,-292.807C140.302,-281.349 102.634,-264.115 74.9404,-251.445\" fill=\"none\" stroke=\"black\"/>\n",
       "<polygon fill=\"black\" points=\"76.1476,-248.148 65.5979,-247.171 73.2352,-254.514 76.1476,-248.148\" stroke=\"black\"/>\n",
       "</g>\n",
       "<!-- LIFG -->\n",
       "<g class=\"node\" id=\"node9\"><title>LIFG</title>\n",
       "<ellipse cx=\"129.997\" cy=\"-234\" fill=\"none\" rx=\"34.394\" ry=\"18\" stroke=\"black\"/>\n",
       "<text font-family=\"Times,serif\" font-size=\"14.00\" text-anchor=\"middle\" x=\"129.997\" y=\"-230.3\">LIFG</text>\n",
       "</g>\n",
       "<!-- LACC&#45;&gt;LIFG -->\n",
       "<g class=\"edge\" id=\"edge10\"><title>LACC-&gt;LIFG</title>\n",
       "<path d=\"M177.928,-289.116C169.921,-280.076 159.742,-268.583 150.825,-258.515\" fill=\"none\" stroke=\"black\"/>\n",
       "<polygon fill=\"black\" points=\"153.26,-255.986 144.01,-250.821 148.02,-260.628 153.26,-255.986\" stroke=\"black\"/>\n",
       "</g>\n",
       "<!-- LOCC&#45;&gt;ROCC -->\n",
       "<g class=\"edge\" id=\"edge4\"><title>LOCC-&gt;ROCC</title>\n",
       "<path d=\"M201.382,-73.1159C191.701,-61.8213 178.736,-46.6956 168.974,-35.307\" fill=\"none\" stroke=\"black\"/>\n",
       "</g>\n",
       "<!-- RACC&#45;&gt;RIPL -->\n",
       "<g class=\"edge\" id=\"edge7\"><title>RACC-&gt;RIPL</title>\n",
       "<path d=\"M32.6252,-206.116C29.6452,-187.829 28.3975,-163.506 36.9965,-144 44.4245,-127.15 60.1476,-113.333 73.3514,-104.035\" fill=\"none\" stroke=\"black\"/>\n",
       "<polygon fill=\"black\" points=\"29.2172,-206.93 34.5187,-216.103 36.0947,-205.626 29.2172,-206.93\" stroke=\"black\"/>\n",
       "</g>\n",
       "<!-- RACC&#45;&gt;RIFG -->\n",
       "<g class=\"edge\" id=\"edge5\"><title>RACC-&gt;RIFG</title>\n",
       "<path d=\"M54.1232,-207.789C59.7787,-198.363 66.0523,-187.907 71.1146,-179.47\" fill=\"none\" stroke=\"black\"/>\n",
       "<polygon fill=\"black\" points=\"51.0937,-206.035 48.95,-216.411 57.0962,-209.637 51.0937,-206.035\" stroke=\"black\"/>\n",
       "</g>\n",
       "<!-- I -->\n",
       "<g class=\"node\" id=\"node8\"><title>I</title>\n",
       "<ellipse cx=\"229.997\" cy=\"-378\" fill=\"none\" rx=\"27\" ry=\"18\" stroke=\"black\"/>\n",
       "<text font-family=\"Times,serif\" font-size=\"14.00\" text-anchor=\"middle\" x=\"229.997\" y=\"-374.3\">I</text>\n",
       "</g>\n",
       "<!-- I&#45;&gt;LACC -->\n",
       "<g class=\"edge\" id=\"edge14\"><title>I-&gt;LACC</title>\n",
       "<path d=\"M221.183,-360.765C216.645,-352.404 211.005,-342.016 205.897,-332.606\" fill=\"none\" stroke=\"black\"/>\n",
       "<polygon fill=\"black\" points=\"208.873,-330.752 201.026,-323.633 202.721,-334.092 208.873,-330.752\" stroke=\"black\"/>\n",
       "</g>\n",
       "<!-- I&#45;&gt;LOCC -->\n",
       "<g class=\"edge\" id=\"edge8\"><title>I-&gt;LOCC</title>\n",
       "<path d=\"M233.65,-359.908C235.672,-349.569 237.977,-336.09 238.997,-324 243.815,-266.839 229.01,-157.064 226.997,-144 225.129,-131.879 222.063,-118.401 219.498,-108.07\" fill=\"none\" stroke=\"black\"/>\n",
       "</g>\n",
       "<!-- LIFG&#45;&gt;LIPL -->\n",
       "<g class=\"edge\" id=\"edge9\"><title>LIFG-&gt;LIPL</title>\n",
       "<path d=\"M143.841,-207.497C148.916,-198.148 154.523,-187.82 159.056,-179.47\" fill=\"none\" stroke=\"black\"/>\n",
       "<polygon fill=\"black\" points=\"140.697,-205.953 139.002,-216.411 146.849,-209.292 140.697,-205.953\" stroke=\"black\"/>\n",
       "</g>\n",
       "<!-- LIFG&#45;&gt;RIFG -->\n",
       "<g class=\"edge\" id=\"edge12\"><title>LIFG-&gt;RIFG</title>\n",
       "<path d=\"M118.632,-216.765C112.571,-208.106 104.988,-197.273 98.2193,-187.604\" fill=\"none\" stroke=\"black\"/>\n",
       "<polygon fill=\"black\" points=\"100.902,-185.333 92.2997,-179.147 95.167,-189.347 100.902,-185.333\" stroke=\"black\"/>\n",
       "</g>\n",
       "</g>\n",
       "</svg>"
      ],
      "text/plain": [
       "<IPython.core.display.SVG object>"
      ]
     },
     "execution_count": 12,
     "metadata": {},
     "output_type": "execute_result"
    }
   ],
   "source": [
    "dot_str = pc.tetradGraphToDot(tetrad.getTetradGraph())\n",
    "graphs = pydot.graph_from_dot_data(dot_str)\n",
    "svg_str = graphs[0].create_svg()\n",
    "SVG(svg_str)"
   ]
  },
  {
   "cell_type": "code",
   "execution_count": 13,
   "metadata": {},
   "outputs": [],
   "source": [
    "pc.stop_vm()"
   ]
  },
  {
   "cell_type": "code",
   "execution_count": null,
   "metadata": {},
   "outputs": [],
   "source": []
  }
 ],
 "metadata": {
  "kernelspec": {
   "display_name": "Python 3",
   "language": "python",
   "name": "python3"
  },
  "language_info": {
   "codemirror_mode": {
    "name": "ipython",
    "version": 3
   },
   "file_extension": ".py",
   "mimetype": "text/x-python",
   "name": "python",
   "nbconvert_exporter": "python",
   "pygments_lexer": "ipython3",
   "version": "3.5.4"
  }
 },
 "nbformat": 4,
 "nbformat_minor": 2
}
