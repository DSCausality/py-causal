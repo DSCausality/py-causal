{
 "cells": [
  {
   "cell_type": "code",
   "execution_count": 1,
   "metadata": {},
   "outputs": [],
   "source": [
    "import pandas as pd"
   ]
  },
  {
   "cell_type": "markdown",
   "metadata": {},
   "source": [
    "#### Load the example dataset"
   ]
  },
  {
   "cell_type": "code",
   "execution_count": 2,
   "metadata": {},
   "outputs": [],
   "source": [
    "data_dir = \"https://raw.githubusercontent.com/bd2kccd/py-causal/master/data/charity.txt\"\n",
    "df = pd.read_table(data_dir, sep=\"\\t\")"
   ]
  },
  {
   "cell_type": "markdown",
   "metadata": {
    "collapsed": true
   },
   "source": [
    "#### Start Java VM"
   ]
  },
  {
   "cell_type": "code",
   "execution_count": 3,
   "metadata": {},
   "outputs": [],
   "source": [
    "from pycausal.pycausal import pycausal as pc\n",
    "pc = pc()\n",
    "pc.start_vm()"
   ]
  },
  {
   "cell_type": "markdown",
   "metadata": {},
   "source": [
    "#### Create the Prior Knowledge Object"
   ]
  },
  {
   "cell_type": "code",
   "execution_count": 4,
   "metadata": {},
   "outputs": [
    {
     "data": {
      "text/plain": [
       "Instance of edu.cmu.tetrad.data.Knowledge2: /knowledge\n",
       "addtemporal\n",
       "\n",
       "0* Imaginability TangibilityCondition \n",
       "1 AmountDonated Sympathy \n",
       "2 Impact \n",
       "\n",
       "forbiddirect\n",
       "\n",
       "TangibilityCondition ==> Impact \n",
       "requiredirect\n",
       "\n",
       "Sympathy ==> TangibilityCondition "
      ]
     },
     "execution_count": 4,
     "metadata": {},
     "output_type": "execute_result"
    }
   ],
   "source": [
    "from pycausal import prior as p\n",
    "forbid = [['TangibilityCondition','Impact']]\n",
    "require =[['Sympathy','TangibilityCondition']]\n",
    "tempForbid = p.ForbiddenWithin(['TangibilityCondition','Imaginability'])\n",
    "temporal = [tempForbid,['Sympathy','AmountDonated'],['Impact']]\n",
    "prior = p.knowledge(forbiddirect = forbid, requiredirect = require, addtemporal = temporal)\n",
    "prior"
   ]
  },
  {
   "cell_type": "markdown",
   "metadata": {
    "collapsed": true
   },
   "source": [
    "#### Load causal algorithms from the py-causal library and Run Bootstrapping GFCI Continuous"
   ]
  },
  {
   "cell_type": "code",
   "execution_count": 5,
   "metadata": {},
   "outputs": [
    {
     "name": "stdout",
     "output_type": "stream",
     "text": [
      "penaltyDiscount: Penalty discount (min = 0.0) (java.lang.Double) [default:2.0]\n",
      "penaltyDiscount: Penalty discount (min = 0.0) (java.lang.Double) [default:2.0]\n",
      "faithfulnessAssumed: Yes if (one edge) faithfulness should be assumed (java.lang.Boolean) [default:true]\n",
      "maxDegree: The maximum degree of the graph (min = -1) (java.lang.Integer) [default:100]\n",
      "maxPathLength: The maximum length for any discriminating path. -1 if unlimited (min = -1) (java.lang.Integer) [default:-1]\n",
      "completeRuleSetUsed: Yes if the complete FCI rule set should be used (java.lang.Boolean) [default:false]\n",
      "bootstrapSampleSize: The number of bootstraps (min = 0) (java.lang.Integer) [default:0]\n",
      "bootstrapEnsemble: Ensemble method: Preserved (0), Highest (1), Majority (2) (java.lang.Integer) [default:1]\n",
      "verbose: Yes if verbose output should be printed or logged (java.lang.Boolean) [default:false]\n"
     ]
    }
   ],
   "source": [
    "from pycausal import search as s\n",
    "tetrad = s.tetradrunner()\n",
    "tetrad.getAlgorithmParameters(algoId = 'gfci', testId = 'sem-bic', scoreId = 'sem-bic')"
   ]
  },
  {
   "cell_type": "code",
   "execution_count": 6,
   "metadata": {},
   "outputs": [],
   "source": [
    "tetrad.run(algoId = 'gfci', dfs = df, testId = 'sem-bic', scoreId = 'sem-bic', priorKnowledge = prior,\n",
    "           penaltyDiscount = 2, maxDegree = -1, maxPathLength = -1, \n",
    "           completeRuleSetUsed = False, faithfulnessAssumed = True, verbose = True, \n",
    "           bootstrapSampleSize = 5, bootstrapEnsemble = 0)"
   ]
  },
  {
   "cell_type": "markdown",
   "metadata": {
    "collapsed": true
   },
   "source": [
    "#### Bootstrapping GFCI Continuous' Result's Nodes"
   ]
  },
  {
   "cell_type": "code",
   "execution_count": 7,
   "metadata": {},
   "outputs": [
    {
     "data": {
      "text/plain": [
       "['AmountDonated',\n",
       " 'Imaginability',\n",
       " 'Impact',\n",
       " 'Sympathy',\n",
       " 'TangibilityCondition']"
      ]
     },
     "execution_count": 7,
     "metadata": {},
     "output_type": "execute_result"
    }
   ],
   "source": [
    "tetrad.getNodes()"
   ]
  },
  {
   "cell_type": "markdown",
   "metadata": {},
   "source": [
    "#### Bootstrapping GFCI Continuous' Result's Edges"
   ]
  },
  {
   "cell_type": "code",
   "execution_count": 8,
   "metadata": {},
   "outputs": [
    {
     "data": {
      "text/plain": [
       "['AmountDonated o-o Sympathy [AmountDonated o-o Sympathy]:0.8000;[no edge]:0.2000;',\n",
       " 'Sympathy o-> Impact [Impact <-o Sympathy]:1.0000;',\n",
       " 'Sympathy --> TangibilityCondition [Sympathy --> TangibilityCondition nl pd]:1.0000; nl pd',\n",
       " 'AmountDonated o-> Impact [AmountDonated o-> Impact]:0.2000;[no edge]:0.8000;']"
      ]
     },
     "execution_count": 8,
     "metadata": {},
     "output_type": "execute_result"
    }
   ],
   "source": [
    "tetrad.getEdges()"
   ]
  },
  {
   "cell_type": "markdown",
   "metadata": {},
   "source": [
    "#### Plot The Result's Graph"
   ]
  },
  {
   "cell_type": "code",
   "execution_count": 9,
   "metadata": {},
   "outputs": [
    {
     "data": {
      "image/svg+xml": [
       "<svg height=\"374pt\" viewBox=\"0.00 0.00 416.29 374.00\" width=\"416pt\" xmlns=\"http://www.w3.org/2000/svg\" xmlns:xlink=\"http://www.w3.org/1999/xlink\">\n",
       "<g class=\"graph\" id=\"graph0\" transform=\"scale(1 1) rotate(0) translate(4 370)\">\n",
       "<title>g</title>\n",
       "<polygon fill=\"white\" points=\"-4,4 -4,-370 412.291,-370 412.291,4 -4,4\" stroke=\"none\"/>\n",
       "<!-- AmountDonated -->\n",
       "<g class=\"node\" id=\"node1\"><title>AmountDonated</title>\n",
       "<ellipse cx=\"105.291\" cy=\"-348\" fill=\"none\" rx=\"86.3847\" ry=\"18\" stroke=\"black\"/>\n",
       "<text font-family=\"Times,serif\" font-size=\"14.00\" text-anchor=\"middle\" x=\"105.291\" y=\"-344.3\">AmountDonated</text>\n",
       "</g>\n",
       "<!-- Sympathy -->\n",
       "<g class=\"node\" id=\"node2\"><title>Sympathy</title>\n",
       "<ellipse cx=\"105.291\" cy=\"-120\" fill=\"none\" rx=\"57.3905\" ry=\"18\" stroke=\"black\"/>\n",
       "<text font-family=\"Times,serif\" font-size=\"14.00\" text-anchor=\"middle\" x=\"105.291\" y=\"-116.3\">Sympathy</text>\n",
       "</g>\n",
       "<!-- AmountDonated&#45;&gt;Sympathy -->\n",
       "<g class=\"edge\" id=\"edge1\"><title>AmountDonated-&gt;Sympathy</title>\n",
       "<path d=\"M83.1797,-323.96C59.2663,-296.133 26.427,-247.618 41.2907,-204 49.2701,-180.584 66.8244,-158.63 81.5332,-143.19\" fill=\"none\" stroke=\"black\"/>\n",
       "<ellipse cx=\"86.081\" cy=\"-327.244\" fill=\"none\" rx=\"4.00002\" ry=\"4.00002\" stroke=\"black\"/>\n",
       "<ellipse cx=\"84.4113\" cy=\"-140.254\" fill=\"none\" rx=\"4.00002\" ry=\"4.00002\" stroke=\"black\"/>\n",
       "<text font-family=\"Courier,monospace\" font-size=\"14.00\" text-anchor=\"middle\" x=\"140.791\" y=\"-237.8\">AmountDonated - Sympathy</text>\n",
       "<text font-family=\"Courier,monospace\" font-size=\"14.00\" text-anchor=\"middle\" x=\"140.791\" y=\"-222.8\">[o-o]:0.8</text>\n",
       "<text font-family=\"Courier,monospace\" font-size=\"14.00\" text-anchor=\"middle\" x=\"140.791\" y=\"-207.8\">[no edge]:0.2</text>\n",
       "</g>\n",
       "<!-- Impact -->\n",
       "<g class=\"node\" id=\"node3\"><title>Impact</title>\n",
       "<ellipse cx=\"293.291\" cy=\"-226.5\" fill=\"none\" rx=\"44.393\" ry=\"18\" stroke=\"black\"/>\n",
       "<text font-family=\"Times,serif\" font-size=\"14.00\" text-anchor=\"middle\" x=\"293.291\" y=\"-222.8\">Impact</text>\n",
       "</g>\n",
       "<!-- AmountDonated&#45;&gt;Impact -->\n",
       "<g class=\"edge\" id=\"edge4\"><title>AmountDonated-&gt;Impact</title>\n",
       "<path d=\"M137.826,-326.319C172.618,-304.204 227.416,-269.373 261.801,-247.516\" fill=\"none\" stroke=\"black\"/>\n",
       "<ellipse cx=\"134.413\" cy=\"-328.489\" fill=\"none\" rx=\"4.00002\" ry=\"4.00002\" stroke=\"black\"/>\n",
       "<polygon fill=\"black\" points=\"263.94,-250.304 270.502,-241.986 260.185,-244.396 263.94,-250.304\" stroke=\"black\"/>\n",
       "<text font-family=\"Courier,monospace\" font-size=\"14.00\" text-anchor=\"middle\" x=\"317.291\" y=\"-300.8\">AmountDonated - Impact</text>\n",
       "<text font-family=\"Courier,monospace\" font-size=\"14.00\" text-anchor=\"middle\" x=\"317.291\" y=\"-285.8\">[o-&gt;]:0.2</text>\n",
       "<text font-family=\"Courier,monospace\" font-size=\"14.00\" text-anchor=\"middle\" x=\"317.291\" y=\"-270.8\">[no edge]:0.8</text>\n",
       "</g>\n",
       "<!-- TangibilityCondition -->\n",
       "<g class=\"node\" id=\"node4\"><title>TangibilityCondition</title>\n",
       "<ellipse cx=\"105.291\" cy=\"-18\" fill=\"none\" rx=\"105.082\" ry=\"18\" stroke=\"black\"/>\n",
       "<text font-family=\"Times,serif\" font-size=\"14.00\" text-anchor=\"middle\" x=\"105.291\" y=\"-14.3\">TangibilityCondition</text>\n",
       "</g>\n",
       "<!-- Sympathy&#45;&gt;TangibilityCondition -->\n",
       "<g class=\"edge\" id=\"edge3\"><title>Sympathy-&gt;TangibilityCondition</title>\n",
       "<path d=\"M105.291,-101.581C105.291,-86.3816 105.291,-64.0669 105.291,-46.4644\" fill=\"none\" stroke=\"black\"/>\n",
       "<polygon fill=\"black\" points=\"108.791,-46.219 105.291,-36.2191 101.791,-46.2191 108.791,-46.219\" stroke=\"black\"/>\n",
       "<text font-family=\"Courier,monospace\" font-size=\"14.00\" text-anchor=\"middle\" x=\"233.291\" y=\"-72.8\">Sympathy - TangibilityCondition</text>\n",
       "<text font-family=\"Courier,monospace\" font-size=\"14.00\" text-anchor=\"middle\" x=\"233.291\" y=\"-57.8\">[--&gt; nl pd]:1.0</text>\n",
       "</g>\n",
       "<!-- Impact&#45;&gt;Sympathy -->\n",
       "<g class=\"edge\" id=\"edge2\"><title>Impact-&gt;Sympathy</title>\n",
       "<path d=\"M259.534,-206.736C225.639,-187.896 173.685,-159.017 139.597,-140.069\" fill=\"none\" stroke=\"black\"/>\n",
       "<polygon fill=\"black\" points=\"257.885,-209.824 268.326,-211.623 261.286,-203.706 257.885,-209.824\" stroke=\"black\"/>\n",
       "<ellipse cx=\"135.681\" cy=\"-137.892\" fill=\"none\" rx=\"4.00002\" ry=\"4.00002\" stroke=\"black\"/>\n",
       "<text font-family=\"Courier,monospace\" font-size=\"14.00\" text-anchor=\"middle\" x=\"291.791\" y=\"-174.8\">Impact - Sympathy</text>\n",
       "<text font-family=\"Courier,monospace\" font-size=\"14.00\" text-anchor=\"middle\" x=\"291.791\" y=\"-159.8\">[&lt;-o]:1.0</text>\n",
       "</g>\n",
       "</g>\n",
       "</svg>"
      ],
      "text/plain": [
       "<IPython.core.display.SVG object>"
      ]
     },
     "execution_count": 9,
     "metadata": {},
     "output_type": "execute_result"
    }
   ],
   "source": [
    "import pydot\n",
    "from IPython.display import SVG\n",
    "dot_str = pc.tetradGraphToDot(tetrad.getTetradGraph())\n",
    "graphs = pydot.graph_from_dot_data(dot_str)\n",
    "svg_str = graphs[0].create_svg()\n",
    "SVG(svg_str)"
   ]
  },
  {
   "cell_type": "markdown",
   "metadata": {
    "collapsed": true
   },
   "source": [
    "#### Stop Java VM"
   ]
  },
  {
   "cell_type": "code",
   "execution_count": 10,
   "metadata": {},
   "outputs": [],
   "source": [
    "pc.stop_vm()"
   ]
  },
  {
   "cell_type": "code",
   "execution_count": null,
   "metadata": {
    "collapsed": true
   },
   "outputs": [],
   "source": []
  }
 ],
 "metadata": {
  "kernelspec": {
   "display_name": "Python 3",
   "language": "python",
   "name": "python3"
  },
  "language_info": {
   "codemirror_mode": {
    "name": "ipython",
    "version": 3
   },
   "file_extension": ".py",
   "mimetype": "text/x-python",
   "name": "python",
   "nbconvert_exporter": "python",
   "pygments_lexer": "ipython3",
   "version": "3.5.4"
  },
  "widgets": {
   "state": {},
   "version": "1.1.1"
  }
 },
 "nbformat": 4,
 "nbformat_minor": 1
}
