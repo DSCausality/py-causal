{
 "cells": [
  {
   "cell_type": "code",
   "execution_count": 1,
   "metadata": {},
   "outputs": [],
   "source": [
    "import pandas as pd"
   ]
  },
  {
   "cell_type": "markdown",
   "metadata": {},
   "source": [
    "#### Load the example dataset"
   ]
  },
  {
   "cell_type": "code",
   "execution_count": 2,
   "metadata": {},
   "outputs": [],
   "source": [
    "data_dir = \"https://raw.githubusercontent.com/bd2kccd/py-causal/master/data/charity.txt\"\n",
    "df = pd.read_table(data_dir, sep=\"\\t\")"
   ]
  },
  {
   "cell_type": "markdown",
   "metadata": {
    "collapsed": true
   },
   "source": [
    "#### Start Java VM"
   ]
  },
  {
   "cell_type": "code",
   "execution_count": 3,
   "metadata": {},
   "outputs": [],
   "source": [
    "from pycausal.pycausal import pycausal as pc\n",
    "pc = pc()\n",
    "pc.start_vm()"
   ]
  },
  {
   "cell_type": "markdown",
   "metadata": {},
   "source": [
    "#### Create the Prior Knowledge Object"
   ]
  },
  {
   "cell_type": "code",
   "execution_count": 4,
   "metadata": {},
   "outputs": [
    {
     "data": {
      "text/plain": [
       "Instance of edu.cmu.tetrad.data.Knowledge2: /knowledge\n",
       "addtemporal\n",
       "\n",
       "1*  Imaginability TangibilityCondition\n",
       "2  AmountDonated Sympathy\n",
       "3  Impact\n",
       "\n",
       "forbiddirect\n",
       "TangibilityCondition Impact\n",
       "\n",
       "requiredirect\n",
       "Sympathy TangibilityCondition"
      ]
     },
     "execution_count": 4,
     "metadata": {},
     "output_type": "execute_result"
    }
   ],
   "source": [
    "from pycausal import prior as p\n",
    "forbid = [['TangibilityCondition','Impact']]\n",
    "require =[['Sympathy','TangibilityCondition']]\n",
    "tempForbid = p.ForbiddenWithin(['TangibilityCondition','Imaginability'])\n",
    "temporal = [tempForbid,['Sympathy','AmountDonated'],['Impact']]\n",
    "prior = p.knowledge(forbiddirect = forbid, requiredirect = require, addtemporal = temporal)\n",
    "prior"
   ]
  },
  {
   "cell_type": "markdown",
   "metadata": {
    "collapsed": true
   },
   "source": [
    "#### Load causal algorithms from the py-causal library and Run Bootstrapping GFCI Continuous"
   ]
  },
  {
   "cell_type": "code",
   "execution_count": 5,
   "metadata": {},
   "outputs": [
    {
     "name": "stdout",
     "output_type": "stream",
     "text": [
      "penaltyDiscount: Penalty discount (min = 0.0) (java.lang.Double) [default:2.0]\n",
      "penaltyDiscount: Penalty discount (min = 0.0) (java.lang.Double) [default:2.0]\n",
      "faithfulnessAssumed: Yes if (one edge) faithfulness should be assumed (java.lang.Boolean) [default:true]\n",
      "maxDegree: The maximum degree of the graph (min = -1) (java.lang.Integer) [default:4]\n",
      "maxPathLength: The maximum length for any discriminating path. -1 if unlimited (min = -1) (java.lang.Integer) [default:-1]\n",
      "completeRuleSetUsed: Yes if the complete FCI rule set should be used (java.lang.Boolean) [default:false]\n",
      "numberResampling: The number of bootstraps/resampling iterations (min = 0) (java.lang.Integer) [default:0]\n",
      "percentResampleSize: The percentage of resample size (min = 0.1) (java.lang.Integer) [default:100]\n",
      "resamplingWithReplacement: Yes, if sampling with replacement (bootstrapping) (java.lang.Boolean) [default:true]\n",
      "resamplingEnsemble: Ensemble method: Preserved (0), Highest (1), Majority (2) (java.lang.Integer) [default:1]\n",
      "addOriginalDataset: Yes, if adding an original dataset as another bootstrapping (java.lang.Boolean) [default:false]\n",
      "verbose: Yes if verbose output should be printed or logged (java.lang.Boolean) [default:true]\n"
     ]
    }
   ],
   "source": [
    "from pycausal import search as s\n",
    "tetrad = s.tetradrunner()\n",
    "tetrad.getAlgorithmParameters(algoId = 'gfci', testId = 'sem-bic', scoreId = 'sem-bic')"
   ]
  },
  {
   "cell_type": "code",
   "execution_count": 6,
   "metadata": {},
   "outputs": [],
   "source": [
    "tetrad.run(algoId = 'gfci', dfs = df, testId = 'sem-bic', scoreId = 'sem-bic', priorKnowledge = prior,\n",
    "           penaltyDiscount = 2, maxDegree = -1, maxPathLength = -1, \n",
    "           completeRuleSetUsed = False, faithfulnessAssumed = True, verbose = True, \n",
    "           numberResampling = 5, resamplingEnsemble = 1, addOriginalDataset = True)"
   ]
  },
  {
   "cell_type": "markdown",
   "metadata": {
    "collapsed": true
   },
   "source": [
    "#### Bootstrapping GFCI Continuous' Result's Nodes"
   ]
  },
  {
   "cell_type": "code",
   "execution_count": 7,
   "metadata": {},
   "outputs": [
    {
     "data": {
      "text/plain": [
       "['AmountDonated',\n",
       " 'Imaginability',\n",
       " 'Impact',\n",
       " 'Sympathy',\n",
       " 'TangibilityCondition']"
      ]
     },
     "execution_count": 7,
     "metadata": {},
     "output_type": "execute_result"
    }
   ],
   "source": [
    "tetrad.getNodes()"
   ]
  },
  {
   "cell_type": "markdown",
   "metadata": {},
   "source": [
    "#### Bootstrapping GFCI Continuous' Result's Edges"
   ]
  },
  {
   "cell_type": "code",
   "execution_count": 8,
   "metadata": {},
   "outputs": [
    {
     "data": {
      "text/plain": [
       "['AmountDonated o-o Sympathy [AmountDonated o-o Sympathy]:0.6667;[AmountDonated <-- Sympathy dd nl]:0.1667;[no edge]:0.1667;',\n",
       " 'Sympathy o-> Impact [Impact <-- Sympathy dd nl]:0.3333;[Impact <-o Sympathy]:0.6667;',\n",
       " 'Sympathy --> TangibilityCondition [Sympathy --> TangibilityCondition dd pl]:0.6667;[Sympathy --> TangibilityCondition dd nl]:0.3333; dd pl']"
      ]
     },
     "execution_count": 8,
     "metadata": {},
     "output_type": "execute_result"
    }
   ],
   "source": [
    "tetrad.getEdges()"
   ]
  },
  {
   "cell_type": "markdown",
   "metadata": {},
   "source": [
    "#### Plot The Result's Graph"
   ]
  },
  {
   "cell_type": "code",
   "execution_count": 9,
   "metadata": {},
   "outputs": [
    {
     "data": {
      "image/svg+xml": [
       "<svg height=\"293pt\" viewBox=\"0.00 0.00 621.44 293.00\" width=\"621pt\" xmlns=\"http://www.w3.org/2000/svg\" xmlns:xlink=\"http://www.w3.org/1999/xlink\">\n",
       "<g class=\"graph\" id=\"graph0\" transform=\"scale(1 1) rotate(0) translate(4 289)\">\n",
       "<title>g</title>\n",
       "<polygon fill=\"white\" points=\"-4,4 -4,-289 617.442,-289 617.442,4 -4,4\" stroke=\"none\"/>\n",
       "<!-- AmountDonated -->\n",
       "<g class=\"node\" id=\"node1\"><title>AmountDonated</title>\n",
       "<ellipse cx=\"86.4423\" cy=\"-267\" fill=\"none\" rx=\"86.3847\" ry=\"18\" stroke=\"black\"/>\n",
       "<text font-family=\"Times,serif\" font-size=\"14.00\" text-anchor=\"middle\" x=\"86.4423\" y=\"-263.3\">AmountDonated</text>\n",
       "</g>\n",
       "<!-- Sympathy -->\n",
       "<g class=\"node\" id=\"node2\"><title>Sympathy</title>\n",
       "<ellipse cx=\"225.442\" cy=\"-135\" fill=\"none\" rx=\"57.3905\" ry=\"18\" stroke=\"black\"/>\n",
       "<text font-family=\"Times,serif\" font-size=\"14.00\" text-anchor=\"middle\" x=\"225.442\" y=\"-131.3\">Sympathy</text>\n",
       "</g>\n",
       "<!-- AmountDonated&#45;&gt;Sympathy -->\n",
       "<g class=\"edge\" id=\"edge1\"><title>AmountDonated-&gt;Sympathy</title>\n",
       "<path d=\"M79.0348,-241.029C74.4627,-220.095 72.0491,-190.571 87.4423,-171 97.3733,-158.374 132.797,-149.546 165.266,-143.915\" fill=\"none\" stroke=\"black\"/>\n",
       "<ellipse cx=\"79.9915\" cy=\"-244.98\" fill=\"none\" rx=\"4.00001\" ry=\"4.00001\" stroke=\"black\"/>\n",
       "<ellipse cx=\"169.494\" cy=\"-143.209\" fill=\"none\" rx=\"4.00001\" ry=\"4.00001\" stroke=\"black\"/>\n",
       "<text font-family=\"Courier,monospace\" font-size=\"14.00\" text-anchor=\"middle\" x=\"215.442\" y=\"-219.8\">AmountDonated - Sympathy</text>\n",
       "<text font-family=\"Courier,monospace\" font-size=\"14.00\" text-anchor=\"middle\" x=\"215.442\" y=\"-204.8\">[o-o]:0.6666666666666666</text>\n",
       "<text font-family=\"Courier,monospace\" font-size=\"14.00\" text-anchor=\"middle\" x=\"215.442\" y=\"-189.8\">[&lt;-- dd nl]:0.16666666666666666</text>\n",
       "<text font-family=\"Courier,monospace\" font-size=\"14.00\" text-anchor=\"middle\" x=\"215.442\" y=\"-174.8\">[no edge]:0.16666666666666666</text>\n",
       "</g>\n",
       "<!-- TangibilityCondition -->\n",
       "<g class=\"node\" id=\"node4\"><title>TangibilityCondition</title>\n",
       "<ellipse cx=\"225.442\" cy=\"-18\" fill=\"none\" rx=\"105.082\" ry=\"18\" stroke=\"black\"/>\n",
       "<text font-family=\"Times,serif\" font-size=\"14.00\" text-anchor=\"middle\" x=\"225.442\" y=\"-14.3\">TangibilityCondition</text>\n",
       "</g>\n",
       "<!-- Sympathy&#45;&gt;TangibilityCondition -->\n",
       "<g class=\"edge\" id=\"edge3\"><title>Sympathy-&gt;TangibilityCondition</title>\n",
       "<path d=\"M225.442,-116.534C225.442,-97.9357 225.442,-68.2442 225.442,-46.5014\" fill=\"none\" stroke=\"black\"/>\n",
       "<polygon fill=\"black\" points=\"228.942,-46.2536 225.442,-36.2536 221.942,-46.2536 228.942,-46.2536\" stroke=\"black\"/>\n",
       "<text font-family=\"Courier,monospace\" font-size=\"14.00\" text-anchor=\"middle\" x=\"353.442\" y=\"-87.8\">Sympathy - TangibilityCondition</text>\n",
       "<text font-family=\"Courier,monospace\" font-size=\"14.00\" text-anchor=\"middle\" x=\"353.442\" y=\"-72.8\">[--&gt; dd pl]:0.6666666666666666</text>\n",
       "<text font-family=\"Courier,monospace\" font-size=\"14.00\" text-anchor=\"middle\" x=\"353.442\" y=\"-57.8\">[--&gt; dd nl]:0.3333333333333333</text>\n",
       "</g>\n",
       "<!-- Impact -->\n",
       "<g class=\"node\" id=\"node3\"><title>Impact</title>\n",
       "<ellipse cx=\"365.442\" cy=\"-267\" fill=\"none\" rx=\"44.393\" ry=\"18\" stroke=\"black\"/>\n",
       "<text font-family=\"Times,serif\" font-size=\"14.00\" text-anchor=\"middle\" x=\"365.442\" y=\"-263.3\">Impact</text>\n",
       "</g>\n",
       "<!-- Impact&#45;&gt;Sympathy -->\n",
       "<g class=\"edge\" id=\"edge2\"><title>Impact-&gt;Sympathy</title>\n",
       "<path d=\"M366.139,-238.626C365.185,-217.551 360.435,-189.058 343.442,-171 329.028,-155.682 308.253,-146.969 288.139,-142.047\" fill=\"none\" stroke=\"black\"/>\n",
       "<polygon fill=\"black\" points=\"362.644,-238.946 366.336,-248.877 369.643,-238.811 362.644,-238.946\" stroke=\"black\"/>\n",
       "<ellipse cx=\"284.086\" cy=\"-141.147\" fill=\"none\" rx=\"4.00001\" ry=\"4.00001\" stroke=\"black\"/>\n",
       "<text font-family=\"Courier,monospace\" font-size=\"14.00\" text-anchor=\"middle\" x=\"489.442\" y=\"-212.3\">Impact - Sympathy</text>\n",
       "<text font-family=\"Courier,monospace\" font-size=\"14.00\" text-anchor=\"middle\" x=\"489.442\" y=\"-197.3\">[&lt;-- dd nl]:0.3333333333333333</text>\n",
       "<text font-family=\"Courier,monospace\" font-size=\"14.00\" text-anchor=\"middle\" x=\"489.442\" y=\"-182.3\">[&lt;-o]:0.6666666666666666</text>\n",
       "</g>\n",
       "</g>\n",
       "</svg>"
      ],
      "text/plain": [
       "<IPython.core.display.SVG object>"
      ]
     },
     "execution_count": 9,
     "metadata": {},
     "output_type": "execute_result"
    }
   ],
   "source": [
    "import pydot\n",
    "from IPython.display import SVG\n",
    "dot_str = pc.tetradGraphToDot(tetrad.getTetradGraph())\n",
    "graphs = pydot.graph_from_dot_data(dot_str)\n",
    "svg_str = graphs[0].create_svg()\n",
    "SVG(svg_str)"
   ]
  },
  {
   "cell_type": "markdown",
   "metadata": {
    "collapsed": true
   },
   "source": [
    "#### Stop Java VM"
   ]
  },
  {
   "cell_type": "code",
   "execution_count": 10,
   "metadata": {},
   "outputs": [],
   "source": [
    "pc.stop_vm()"
   ]
  },
  {
   "cell_type": "code",
   "execution_count": null,
   "metadata": {
    "collapsed": true
   },
   "outputs": [],
   "source": []
  }
 ],
 "metadata": {
  "kernelspec": {
   "display_name": "Python 3",
   "language": "python",
   "name": "python3"
  },
  "language_info": {
   "codemirror_mode": {
    "name": "ipython",
    "version": 3
   },
   "file_extension": ".py",
   "mimetype": "text/x-python",
   "name": "python",
   "nbconvert_exporter": "python",
   "pygments_lexer": "ipython3",
   "version": "3.5.4"
  },
  "widgets": {
   "state": {},
   "version": "1.1.1"
  }
 },
 "nbformat": 4,
 "nbformat_minor": 1
}
