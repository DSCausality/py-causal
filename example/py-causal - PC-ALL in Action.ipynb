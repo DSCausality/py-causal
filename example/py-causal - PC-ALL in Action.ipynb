{
 "cells": [
  {
   "cell_type": "code",
   "execution_count": 1,
   "metadata": {
    "collapsed": true
   },
   "outputs": [],
   "source": [
    "import pandas as pd\n",
    "import pydot\n",
    "from IPython.display import SVG"
   ]
  },
  {
   "cell_type": "markdown",
   "metadata": {},
   "source": [
    "#### Load the example dataset"
   ]
  },
  {
   "cell_type": "code",
   "execution_count": 2,
   "metadata": {
    "collapsed": true
   },
   "outputs": [],
   "source": [
    "data_dir = \"https://raw.githubusercontent.com/bd2kccd/py-causal/master/data/charity.txt\"\n",
    "df = pd.read_table(data_dir, sep=\"\\t\")"
   ]
  },
  {
   "cell_type": "markdown",
   "metadata": {
    "collapsed": true
   },
   "source": [
    "#### Start Java VM"
   ]
  },
  {
   "cell_type": "code",
   "execution_count": 3,
   "metadata": {
    "collapsed": true
   },
   "outputs": [],
   "source": [
    "from pycausal.pycausal import pycausal as pc\n",
    "pc = pc()\n",
    "pc.start_vm()"
   ]
  },
  {
   "cell_type": "markdown",
   "metadata": {
    "collapsed": true
   },
   "source": [
    "#### Load causal algorithms from the py-causal library and Run PC"
   ]
  },
  {
   "cell_type": "code",
   "execution_count": 4,
   "metadata": {},
   "outputs": [
    {
     "name": "stdout",
     "output_type": "stream",
     "text": [
      "alpha: Cutoff for p values (alpha) (min = 0.0) (java.lang.Double) [default:0.01]\n",
      "fasRule: Adjacency search: 1 = PC, 2 = PC-Stable, 3 = Concurrent PC-Stable (java.lang.Integer) [default:1]\n",
      "colliderDiscoveryRule: Collider discovery: 1 = Lookup from adjacency sepsets, 2 = Conservative (CPC), 3 = Max-P (java.lang.Integer) [default:1]\n",
      "conflictRule: Collider conflicts: 1 = Overwrite, 2 = Orient bidirected, 3 = Prioritize existing colliders (java.lang.Integer) [default:1]\n",
      "depth: Maximum size of conditioning set (unlimited = -1) (java.lang.Integer) [default:-1]\n",
      "useMaxPOrientationHeuristic: Yes if the heuristic for orienting unshielded colliders for max P should be used (java.lang.Boolean) [default:true]\n",
      "maxPOrientationMaxPathLength: Maximum path length for the unshielded collider heuristic for max P (min = 0) (java.lang.Integer) [default:3]\n",
      "bootstrapSampleSize: The number of bootstraps (min = 0) (java.lang.Integer) [default:0]\n",
      "bootstrapEnsemble: Ensemble method: Preserved (0), Highest (1), Majority (2) (java.lang.Integer) [default:1]\n",
      "verbose: Yes if verbose output should be printed or logged (java.lang.Boolean) [default:false]\n"
     ]
    }
   ],
   "source": [
    "from pycausal import search as s\n",
    "tetrad = s.tetradrunner()\n",
    "tetrad.getAlgorithmParameters(algoId = 'pc-all', testId = 'fisher-z')"
   ]
  },
  {
   "cell_type": "code",
   "execution_count": 5,
   "metadata": {},
   "outputs": [],
   "source": [
    "tetrad.run(algoId = 'pc-all', dfs = df, testId = 'fisher-z', alpha = 0.05, \n",
    "           fasRule = 2, colliderDiscoveryRule = 2, conflictRule = 1,\n",
    "           useMaxPOrientationHeuristic = True, verbose = True)"
   ]
  },
  {
   "cell_type": "markdown",
   "metadata": {
    "collapsed": true
   },
   "source": [
    "#### PC Continuous' Result's Nodes"
   ]
  },
  {
   "cell_type": "code",
   "execution_count": 6,
   "metadata": {},
   "outputs": [
    {
     "data": {
      "text/plain": [
       "['TangibilityCondition',\n",
       " 'AmountDonated',\n",
       " 'Sympathy',\n",
       " 'Imaginability',\n",
       " 'Impact']"
      ]
     },
     "execution_count": 6,
     "metadata": {},
     "output_type": "execute_result"
    }
   ],
   "source": [
    "tetrad.getNodes()"
   ]
  },
  {
   "cell_type": "markdown",
   "metadata": {},
   "source": [
    "#### PC Continuous' Result's Edges"
   ]
  },
  {
   "cell_type": "code",
   "execution_count": 7,
   "metadata": {},
   "outputs": [
    {
     "data": {
      "text/plain": [
       "['TangibilityCondition --- Sympathy',\n",
       " 'Sympathy --- Impact',\n",
       " 'AmountDonated --- Impact',\n",
       " 'Imaginability --- Impact']"
      ]
     },
     "execution_count": 7,
     "metadata": {},
     "output_type": "execute_result"
    }
   ],
   "source": [
    "tetrad.getEdges()"
   ]
  },
  {
   "cell_type": "markdown",
   "metadata": {},
   "source": [
    "#### Plot The Result's Graph"
   ]
  },
  {
   "cell_type": "code",
   "execution_count": 8,
   "metadata": {},
   "outputs": [
    {
     "data": {
      "image/svg+xml": [
       "<svg height=\"188pt\" viewBox=\"0.00 0.00 431.69 188.00\" width=\"432pt\" xmlns=\"http://www.w3.org/2000/svg\" xmlns:xlink=\"http://www.w3.org/1999/xlink\">\n",
       "<g class=\"graph\" id=\"graph0\" transform=\"scale(1 1) rotate(0) translate(4 184)\">\n",
       "<title>G</title>\n",
       "<polygon fill=\"white\" points=\"-4,4 -4,-184 427.686,-184 427.686,4 -4,4\" stroke=\"none\"/>\n",
       "<!-- AmountDonated -->\n",
       "<g class=\"node\" id=\"node1\"><title>AmountDonated</title>\n",
       "<ellipse cx=\"69.5438\" cy=\"-90\" fill=\"none\" rx=\"69.5877\" ry=\"18\" stroke=\"black\"/>\n",
       "<text font-family=\"Times,serif\" font-size=\"14.00\" text-anchor=\"middle\" x=\"69.5438\" y=\"-86.3\">AmountDonated</text>\n",
       "</g>\n",
       "<!-- Impact -->\n",
       "<g class=\"node\" id=\"node2\"><title>Impact</title>\n",
       "<ellipse cx=\"215.544\" cy=\"-18\" fill=\"none\" rx=\"35.9954\" ry=\"18\" stroke=\"black\"/>\n",
       "<text font-family=\"Times,serif\" font-size=\"14.00\" text-anchor=\"middle\" x=\"215.544\" y=\"-14.3\">Impact</text>\n",
       "</g>\n",
       "<!-- AmountDonated&#45;&gt;Impact -->\n",
       "<g class=\"edge\" id=\"edge1\"><title>AmountDonated-&gt;Impact</title>\n",
       "<path d=\"M101.224,-73.811C127.893,-61.0242 165.534,-42.9773 190.23,-31.1369\" fill=\"none\" stroke=\"black\"/>\n",
       "</g>\n",
       "<!-- Imaginability -->\n",
       "<g class=\"node\" id=\"node3\"><title>Imaginability</title>\n",
       "<ellipse cx=\"215.544\" cy=\"-90\" fill=\"none\" rx=\"58.4896\" ry=\"18\" stroke=\"black\"/>\n",
       "<text font-family=\"Times,serif\" font-size=\"14.00\" text-anchor=\"middle\" x=\"215.544\" y=\"-86.3\">Imaginability</text>\n",
       "</g>\n",
       "<!-- Imaginability&#45;&gt;Impact -->\n",
       "<g class=\"edge\" id=\"edge2\"><title>Imaginability-&gt;Impact</title>\n",
       "<path d=\"M215.544,-71.6966C215.544,-60.8463 215.544,-46.9167 215.544,-36.1043\" fill=\"none\" stroke=\"black\"/>\n",
       "</g>\n",
       "<!-- Sympathy -->\n",
       "<g class=\"node\" id=\"node4\"><title>Sympathy</title>\n",
       "<ellipse cx=\"338.544\" cy=\"-90\" fill=\"none\" rx=\"46.5926\" ry=\"18\" stroke=\"black\"/>\n",
       "<text font-family=\"Times,serif\" font-size=\"14.00\" text-anchor=\"middle\" x=\"338.544\" y=\"-86.3\">Sympathy</text>\n",
       "</g>\n",
       "<!-- Sympathy&#45;&gt;Impact -->\n",
       "<g class=\"edge\" id=\"edge3\"><title>Sympathy-&gt;Impact</title>\n",
       "<path d=\"M313.356,-74.6655C291.428,-62.1859 259.903,-44.2451 238.621,-32.1331\" fill=\"none\" stroke=\"black\"/>\n",
       "</g>\n",
       "<!-- TangibilityCondition -->\n",
       "<g class=\"node\" id=\"node5\"><title>TangibilityCondition</title>\n",
       "<ellipse cx=\"338.544\" cy=\"-162\" fill=\"none\" rx=\"85.2851\" ry=\"18\" stroke=\"black\"/>\n",
       "<text font-family=\"Times,serif\" font-size=\"14.00\" text-anchor=\"middle\" x=\"338.544\" y=\"-158.3\">TangibilityCondition</text>\n",
       "</g>\n",
       "<!-- TangibilityCondition&#45;&gt;Sympathy -->\n",
       "<g class=\"edge\" id=\"edge4\"><title>TangibilityCondition-&gt;Sympathy</title>\n",
       "<path d=\"M338.544,-143.697C338.544,-132.846 338.544,-118.917 338.544,-108.104\" fill=\"none\" stroke=\"black\"/>\n",
       "</g>\n",
       "</g>\n",
       "</svg>"
      ],
      "text/plain": [
       "<IPython.core.display.SVG object>"
      ]
     },
     "execution_count": 8,
     "metadata": {},
     "output_type": "execute_result"
    }
   ],
   "source": [
    "dot = tetrad.getDot()\n",
    "svg_str = dot.create_svg(prog='dot')\n",
    "SVG(svg_str)"
   ]
  },
  {
   "cell_type": "markdown",
   "metadata": {
    "collapsed": true
   },
   "source": [
    "#### Stop Java VM"
   ]
  },
  {
   "cell_type": "code",
   "execution_count": 9,
   "metadata": {
    "collapsed": true
   },
   "outputs": [],
   "source": [
    "pc.stop_vm()"
   ]
  },
  {
   "cell_type": "code",
   "execution_count": null,
   "metadata": {
    "collapsed": true
   },
   "outputs": [],
   "source": []
  }
 ],
 "metadata": {
  "kernelspec": {
   "display_name": "Python 3",
   "language": "python",
   "name": "python3"
  },
  "language_info": {
   "codemirror_mode": {
    "name": "ipython",
    "version": 3
   },
   "file_extension": ".py",
   "mimetype": "text/x-python",
   "name": "python",
   "nbconvert_exporter": "python",
   "pygments_lexer": "ipython3",
   "version": "3.6.1"
  },
  "widgets": {
   "state": {},
   "version": "1.1.1"
  }
 },
 "nbformat": 4,
 "nbformat_minor": 1
}
