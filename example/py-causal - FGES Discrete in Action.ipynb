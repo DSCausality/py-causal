{
 "cells": [
  {
   "cell_type": "code",
   "execution_count": 1,
   "metadata": {
    "collapsed": true
   },
   "outputs": [],
   "source": [
    "import pandas as pd\n",
    "import pydot\n",
    "from IPython.display import SVG"
   ]
  },
  {
   "cell_type": "markdown",
   "metadata": {},
   "source": [
    "#### Load the example dataset"
   ]
  },
  {
   "cell_type": "code",
   "execution_count": 2,
   "metadata": {
    "collapsed": true
   },
   "outputs": [],
   "source": [
    "data_dir = \"https://raw.githubusercontent.com/bd2kccd/py-causal/master/data/audiology.txt\"\n",
    "df = pd.read_table(data_dir, sep=\"\\t\")"
   ]
  },
  {
   "cell_type": "markdown",
   "metadata": {},
   "source": [
    "#### Start Java VM"
   ]
  },
  {
   "cell_type": "code",
   "execution_count": 3,
   "metadata": {
    "collapsed": true
   },
   "outputs": [],
   "source": [
    "from pycausal.pycausal import pycausal as pc\n",
    "pc = pc()\n",
    "pc.start_vm(java_max_heap_size = '100M')"
   ]
  },
  {
   "cell_type": "markdown",
   "metadata": {},
   "source": [
    "#### Create the Prior Knowledge Object"
   ]
  },
  {
   "cell_type": "code",
   "execution_count": 4,
   "metadata": {},
   "outputs": [
    {
     "data": {
      "text/plain": [
       "Instance of edu.cmu.tetrad.data.Knowledge2: /knowledge\n",
       "addtemporal\n",
       "\n",
       "0* class history_fluctuating history_noise \n",
       "\n",
       "forbiddirect\n",
       "\n",
       "history_fluctuating ==> class \n",
       "history_noise ==> class \n",
       "requiredirect\n"
      ]
     },
     "execution_count": 4,
     "metadata": {},
     "output_type": "execute_result"
    }
   ],
   "source": [
    "from pycausal import prior as p\n",
    "forbid = [['history_noise','class'],['history_fluctuating','class']]\n",
    "tempForbid = p.ForbiddenWithin(\n",
    "    ['class','history_fluctuating','history_noise'])\n",
    "temporal = [tempForbid]\n",
    "prior = p.knowledge(forbiddirect = forbid, addtemporal = temporal)\n",
    "prior"
   ]
  },
  {
   "cell_type": "markdown",
   "metadata": {},
   "source": [
    "#### Load causal algorithms from the py-causal library and Run FGES Discrete"
   ]
  },
  {
   "cell_type": "code",
   "execution_count": 5,
   "metadata": {},
   "outputs": [
    {
     "name": "stdout",
     "output_type": "stream",
     "text": [
      "samplePrior: Sample prior (min = 1.0) (java.lang.Double) [default:1.0]\n",
      "structurePrior: Structure prior coefficient (min = 1.0) (java.lang.Double) [default:1.0]\n",
      "faithfulnessAssumed: Yes if (one edge) faithfulness should be assumed (java.lang.Boolean) [default:true]\n",
      "symmetricFirstStep: Yes if the first step step for FGES should do scoring for both X->Y and Y->X (java.lang.Boolean) [default:false]\n",
      "maxDegree: The maximum degree of the graph (min = -1) (java.lang.Integer) [default:100]\n",
      "verbose: Yes if verbose output should be printed or logged (java.lang.Boolean) [default:false]\n",
      "bootstrapSampleSize: The number of bootstraps (min = 0) (java.lang.Integer) [default:0]\n",
      "bootstrapEnsemble: Ensemble method: Preserved (0), Highest (1), Majority (2) (java.lang.Integer) [default:1]\n"
     ]
    }
   ],
   "source": [
    "from pycausal import search as s\n",
    "tetrad = s.tetradrunner()\n",
    "tetrad.getAlgorithmParameters(algoId = 'fges', scoreId = 'bdeu')"
   ]
  },
  {
   "cell_type": "code",
   "execution_count": 6,
   "metadata": {
    "collapsed": true
   },
   "outputs": [],
   "source": [
    "tetrad.run(algoId = 'fges', dfs = df, scoreId = 'bdeu', priorKnowledge = prior, dataType = 'discrete',\n",
    "           structurePrior = 1.0, samplePrior = 1.0, maxDegree = 3, faithfulnessAssumed = True, verbose = True)"
   ]
  },
  {
   "cell_type": "markdown",
   "metadata": {},
   "source": [
    "#### FGES Discrete's Result's Nodes"
   ]
  },
  {
   "cell_type": "code",
   "execution_count": 7,
   "metadata": {},
   "outputs": [
    {
     "data": {
      "text/plain": [
       "['age_gt_60',\n",
       " 'air',\n",
       " 'airBoneGap',\n",
       " 'ar_c',\n",
       " 'ar_u',\n",
       " 'bone',\n",
       " 'boneAbnormal',\n",
       " 'bser',\n",
       " 'history_buzzing',\n",
       " 'history_dizziness',\n",
       " 'history_fluctuating',\n",
       " 'history_fullness',\n",
       " 'history_heredity',\n",
       " 'history_nausea',\n",
       " 'history_noise',\n",
       " 'history_recruitment',\n",
       " 'history_ringing',\n",
       " 'history_roaring',\n",
       " 'history_vomiting',\n",
       " 'late_wave_poor',\n",
       " 'm_at_2k',\n",
       " 'm_cond_lt_1k',\n",
       " 'm_gt_1k',\n",
       " 'm_m_gt_2k',\n",
       " 'm_m_sn',\n",
       " 'm_m_sn_gt_1k',\n",
       " 'm_m_sn_gt_2k',\n",
       " 'm_m_sn_gt_500',\n",
       " 'm_p_sn_gt_2k',\n",
       " 'm_s_gt_500',\n",
       " 'm_s_sn',\n",
       " 'm_s_sn_gt_1k',\n",
       " 'm_s_sn_gt_2k',\n",
       " 'm_s_sn_gt_3k',\n",
       " 'm_s_sn_gt_4k',\n",
       " 'm_sn_2_3k',\n",
       " 'm_sn_gt_1k',\n",
       " 'm_sn_gt_2k',\n",
       " 'm_sn_gt_3k',\n",
       " 'm_sn_gt_4k',\n",
       " 'm_sn_gt_500',\n",
       " 'm_sn_gt_6k',\n",
       " 'm_sn_lt_1k',\n",
       " 'm_sn_lt_2k',\n",
       " 'm_sn_lt_3k',\n",
       " 'middle_wave_poor',\n",
       " 'mod_gt_4k',\n",
       " 'mod_mixed',\n",
       " 'mod_s_mixed',\n",
       " 'mod_s_sn_gt_500',\n",
       " 'mod_sn',\n",
       " 'mod_sn_gt_1k',\n",
       " 'mod_sn_gt_2k',\n",
       " 'mod_sn_gt_3k',\n",
       " 'mod_sn_gt_4k',\n",
       " 'mod_sn_gt_500',\n",
       " 'notch_4k',\n",
       " 'notch_at_4k',\n",
       " 'o_ar_c',\n",
       " 'o_ar_u',\n",
       " 's_sn_gt_1k',\n",
       " 's_sn_gt_2k',\n",
       " 's_sn_gt_4k',\n",
       " 'speech',\n",
       " 'static_normal',\n",
       " 'tymp',\n",
       " 'viith_nerve_signs',\n",
       " 'wave_V_delayed',\n",
       " 'waveform_ItoV_prolonged',\n",
       " 'indentifier',\n",
       " 'class']"
      ]
     },
     "execution_count": 7,
     "metadata": {},
     "output_type": "execute_result"
    }
   ],
   "source": [
    "tetrad.getNodes()"
   ]
  },
  {
   "cell_type": "markdown",
   "metadata": {},
   "source": [
    "#### FGES Discrete's Result's Nodes"
   ]
  },
  {
   "cell_type": "code",
   "execution_count": 8,
   "metadata": {},
   "outputs": [
    {
     "data": {
      "text/plain": [
       "['history_dizziness --- static_normal',\n",
       " 'notch_4k --- m_m_sn_gt_2k',\n",
       " 'history_recruitment --> m_sn_gt_1k',\n",
       " 'history_buzzing --- wave_V_delayed',\n",
       " 'class --- age_gt_60',\n",
       " 'ar_c --- o_ar_u',\n",
       " 'class --- notch_at_4k',\n",
       " 'age_gt_60 --- m_m_sn',\n",
       " 'airBoneGap --> air',\n",
       " 'history_noise --- notch_at_4k',\n",
       " 'static_normal --- waveform_ItoV_prolonged',\n",
       " 'o_ar_c --- ar_u',\n",
       " 'middle_wave_poor --- late_wave_poor',\n",
       " 'o_ar_u --- bone',\n",
       " 'o_ar_c --- ar_c',\n",
       " 'history_fluctuating --> history_recruitment',\n",
       " 'history_roaring --> history_nausea',\n",
       " 'history_vomiting --> history_roaring',\n",
       " 'bser --- late_wave_poor',\n",
       " 'history_dizziness --> history_fluctuating',\n",
       " 'airBoneGap --- tymp',\n",
       " 'airBoneGap --- ar_u',\n",
       " 'bone --- boneAbnormal',\n",
       " 's_sn_gt_2k --- history_heredity',\n",
       " 'class --- tymp',\n",
       " 'history_dizziness --> history_roaring',\n",
       " 'history_fullness --- history_buzzing',\n",
       " 'speech --> air',\n",
       " 'm_sn_lt_1k --> history_fluctuating']"
      ]
     },
     "execution_count": 8,
     "metadata": {},
     "output_type": "execute_result"
    }
   ],
   "source": [
    "tetrad.getEdges()"
   ]
  },
  {
   "cell_type": "markdown",
   "metadata": {},
   "source": [
    "#### Plot The Result's Graph"
   ]
  },
  {
   "cell_type": "code",
   "execution_count": 9,
   "metadata": {},
   "outputs": [
    {
     "data": {
      "image/svg+xml": [
       "<svg height=\"332pt\" viewBox=\"0.00 0.00 1780.09 332.00\" width=\"1780pt\" xmlns=\"http://www.w3.org/2000/svg\" xmlns:xlink=\"http://www.w3.org/1999/xlink\">\n",
       "<g class=\"graph\" id=\"graph0\" transform=\"scale(1 1) rotate(0) translate(4 328)\">\n",
       "<title>G</title>\n",
       "<polygon fill=\"white\" points=\"-4,4 -4,-328 1776.09,-328 1776.09,4 -4,4\" stroke=\"none\"/>\n",
       "<!-- age_gt_60 -->\n",
       "<g class=\"node\" id=\"node1\"><title>age_gt_60</title>\n",
       "<ellipse cx=\"176.845\" cy=\"-234\" fill=\"none\" rx=\"47.3916\" ry=\"18\" stroke=\"black\"/>\n",
       "<text font-family=\"Times,serif\" font-size=\"14.00\" text-anchor=\"middle\" x=\"176.845\" y=\"-230.3\">age_gt_60</text>\n",
       "</g>\n",
       "<!-- m_m_sn -->\n",
       "<g class=\"node\" id=\"node2\"><title>m_m_sn</title>\n",
       "<ellipse cx=\"176.845\" cy=\"-162\" fill=\"none\" rx=\"42.4939\" ry=\"18\" stroke=\"black\"/>\n",
       "<text font-family=\"Times,serif\" font-size=\"14.00\" text-anchor=\"middle\" x=\"176.845\" y=\"-158.3\">m_m_sn</text>\n",
       "</g>\n",
       "<!-- age_gt_60&#45;&gt;m_m_sn -->\n",
       "<g class=\"edge\" id=\"edge1\"><title>age_gt_60-&gt;m_m_sn</title>\n",
       "<path d=\"M176.845,-215.697C176.845,-204.846 176.845,-190.917 176.845,-180.104\" fill=\"none\" stroke=\"black\"/>\n",
       "</g>\n",
       "<!-- airBoneGap -->\n",
       "<g class=\"node\" id=\"node3\"><title>airBoneGap</title>\n",
       "<ellipse cx=\"367.845\" cy=\"-306\" fill=\"none\" rx=\"53.0913\" ry=\"18\" stroke=\"black\"/>\n",
       "<text font-family=\"Times,serif\" font-size=\"14.00\" text-anchor=\"middle\" x=\"367.845\" y=\"-302.3\">airBoneGap</text>\n",
       "</g>\n",
       "<!-- air -->\n",
       "<g class=\"node\" id=\"node4\"><title>air</title>\n",
       "<ellipse cx=\"345.845\" cy=\"-234\" fill=\"none\" rx=\"27\" ry=\"18\" stroke=\"black\"/>\n",
       "<text font-family=\"Times,serif\" font-size=\"14.00\" text-anchor=\"middle\" x=\"345.845\" y=\"-230.3\">air</text>\n",
       "</g>\n",
       "<!-- airBoneGap&#45;&gt;air -->\n",
       "<g class=\"edge\" id=\"edge2\"><title>airBoneGap-&gt;air</title>\n",
       "<path d=\"M362.519,-288.055C360.006,-280.059 356.949,-270.331 354.142,-261.4\" fill=\"none\" stroke=\"black\"/>\n",
       "<polygon fill=\"black\" points=\"357.459,-260.28 351.121,-251.789 350.781,-262.378 357.459,-260.28\" stroke=\"black\"/>\n",
       "</g>\n",
       "<!-- ar_u -->\n",
       "<g class=\"node\" id=\"node5\"><title>ar_u</title>\n",
       "<ellipse cx=\"417.845\" cy=\"-234\" fill=\"none\" rx=\"27\" ry=\"18\" stroke=\"black\"/>\n",
       "<text font-family=\"Times,serif\" font-size=\"14.00\" text-anchor=\"middle\" x=\"417.845\" y=\"-230.3\">ar_u</text>\n",
       "</g>\n",
       "<!-- airBoneGap&#45;&gt;ar_u -->\n",
       "<g class=\"edge\" id=\"edge3\"><title>airBoneGap-&gt;ar_u</title>\n",
       "<path d=\"M379.694,-288.411C387.896,-276.929 398.737,-261.751 406.766,-250.511\" fill=\"none\" stroke=\"black\"/>\n",
       "</g>\n",
       "<!-- tymp -->\n",
       "<g class=\"node\" id=\"node6\"><title>tymp</title>\n",
       "<ellipse cx=\"271.845\" cy=\"-234\" fill=\"none\" rx=\"29.4969\" ry=\"18\" stroke=\"black\"/>\n",
       "<text font-family=\"Times,serif\" font-size=\"14.00\" text-anchor=\"middle\" x=\"271.845\" y=\"-230.3\">tymp</text>\n",
       "</g>\n",
       "<!-- airBoneGap&#45;&gt;tymp -->\n",
       "<g class=\"edge\" id=\"edge4\"><title>airBoneGap-&gt;tymp</title>\n",
       "<path d=\"M346.539,-289.465C329.636,-277.14 306.257,-260.092 290.181,-248.37\" fill=\"none\" stroke=\"black\"/>\n",
       "</g>\n",
       "<!-- ar_c -->\n",
       "<g class=\"node\" id=\"node7\"><title>ar_c</title>\n",
       "<ellipse cx=\"489.845\" cy=\"-234\" fill=\"none\" rx=\"27\" ry=\"18\" stroke=\"black\"/>\n",
       "<text font-family=\"Times,serif\" font-size=\"14.00\" text-anchor=\"middle\" x=\"489.845\" y=\"-230.3\">ar_c</text>\n",
       "</g>\n",
       "<!-- o_ar_u -->\n",
       "<g class=\"node\" id=\"node8\"><title>o_ar_u</title>\n",
       "<ellipse cx=\"489.845\" cy=\"-162\" fill=\"none\" rx=\"35.194\" ry=\"18\" stroke=\"black\"/>\n",
       "<text font-family=\"Times,serif\" font-size=\"14.00\" text-anchor=\"middle\" x=\"489.845\" y=\"-158.3\">o_ar_u</text>\n",
       "</g>\n",
       "<!-- ar_c&#45;&gt;o_ar_u -->\n",
       "<g class=\"edge\" id=\"edge5\"><title>ar_c-&gt;o_ar_u</title>\n",
       "<path d=\"M489.845,-215.697C489.845,-204.846 489.845,-190.917 489.845,-180.104\" fill=\"none\" stroke=\"black\"/>\n",
       "</g>\n",
       "<!-- bone -->\n",
       "<g class=\"node\" id=\"node9\"><title>bone</title>\n",
       "<ellipse cx=\"489.845\" cy=\"-90\" fill=\"none\" rx=\"27.8951\" ry=\"18\" stroke=\"black\"/>\n",
       "<text font-family=\"Times,serif\" font-size=\"14.00\" text-anchor=\"middle\" x=\"489.845\" y=\"-86.3\">bone</text>\n",
       "</g>\n",
       "<!-- o_ar_u&#45;&gt;bone -->\n",
       "<g class=\"edge\" id=\"edge6\"><title>o_ar_u-&gt;bone</title>\n",
       "<path d=\"M489.845,-143.697C489.845,-132.846 489.845,-118.917 489.845,-108.104\" fill=\"none\" stroke=\"black\"/>\n",
       "</g>\n",
       "<!-- boneAbnormal -->\n",
       "<g class=\"node\" id=\"node10\"><title>boneAbnormal</title>\n",
       "<ellipse cx=\"489.845\" cy=\"-18\" fill=\"none\" rx=\"63.8893\" ry=\"18\" stroke=\"black\"/>\n",
       "<text font-family=\"Times,serif\" font-size=\"14.00\" text-anchor=\"middle\" x=\"489.845\" y=\"-14.3\">boneAbnormal</text>\n",
       "</g>\n",
       "<!-- bone&#45;&gt;boneAbnormal -->\n",
       "<g class=\"edge\" id=\"edge7\"><title>bone-&gt;boneAbnormal</title>\n",
       "<path d=\"M489.845,-71.6966C489.845,-60.8463 489.845,-46.9167 489.845,-36.1043\" fill=\"none\" stroke=\"black\"/>\n",
       "</g>\n",
       "<!-- bser -->\n",
       "<g class=\"node\" id=\"node11\"><title>bser</title>\n",
       "<ellipse cx=\"562.845\" cy=\"-306\" fill=\"none\" rx=\"27\" ry=\"18\" stroke=\"black\"/>\n",
       "<text font-family=\"Times,serif\" font-size=\"14.00\" text-anchor=\"middle\" x=\"562.845\" y=\"-302.3\">bser</text>\n",
       "</g>\n",
       "<!-- late_wave_poor -->\n",
       "<g class=\"node\" id=\"node12\"><title>late_wave_poor</title>\n",
       "<ellipse cx=\"651.845\" cy=\"-234\" fill=\"none\" rx=\"66.8882\" ry=\"18\" stroke=\"black\"/>\n",
       "<text font-family=\"Times,serif\" font-size=\"14.00\" text-anchor=\"middle\" x=\"651.845\" y=\"-230.3\">late_wave_poor</text>\n",
       "</g>\n",
       "<!-- bser&#45;&gt;late_wave_poor -->\n",
       "<g class=\"edge\" id=\"edge8\"><title>bser-&gt;late_wave_poor</title>\n",
       "<path d=\"M579.585,-291.834C594.188,-280.348 615.43,-263.641 631.106,-251.311\" fill=\"none\" stroke=\"black\"/>\n",
       "</g>\n",
       "<!-- class -->\n",
       "<g class=\"node\" id=\"node13\"><title>class</title>\n",
       "<ellipse cx=\"176.845\" cy=\"-306\" fill=\"none\" rx=\"27.8951\" ry=\"18\" stroke=\"black\"/>\n",
       "<text font-family=\"Times,serif\" font-size=\"14.00\" text-anchor=\"middle\" x=\"176.845\" y=\"-302.3\">class</text>\n",
       "</g>\n",
       "<!-- class&#45;&gt;age_gt_60 -->\n",
       "<g class=\"edge\" id=\"edge9\"><title>class-&gt;age_gt_60</title>\n",
       "<path d=\"M176.845,-287.697C176.845,-276.846 176.845,-262.917 176.845,-252.104\" fill=\"none\" stroke=\"black\"/>\n",
       "</g>\n",
       "<!-- class&#45;&gt;tymp -->\n",
       "<g class=\"edge\" id=\"edge10\"><title>class-&gt;tymp</title>\n",
       "<path d=\"M194.714,-291.834C211.591,-279.398 236.777,-260.839 253.733,-248.345\" fill=\"none\" stroke=\"black\"/>\n",
       "</g>\n",
       "<!-- notch_at_4k -->\n",
       "<g class=\"node\" id=\"node14\"><title>notch_at_4k</title>\n",
       "<ellipse cx=\"57.8449\" cy=\"-234\" fill=\"none\" rx=\"53.8905\" ry=\"18\" stroke=\"black\"/>\n",
       "<text font-family=\"Times,serif\" font-size=\"14.00\" text-anchor=\"middle\" x=\"57.8449\" y=\"-230.3\">notch_at_4k</text>\n",
       "</g>\n",
       "<!-- class&#45;&gt;notch_at_4k -->\n",
       "<g class=\"edge\" id=\"edge11\"><title>class-&gt;notch_at_4k</title>\n",
       "<path d=\"M156.927,-293.284C136.681,-281.374 105.243,-262.882 83.224,-249.929\" fill=\"none\" stroke=\"black\"/>\n",
       "</g>\n",
       "<!-- history_buzzing -->\n",
       "<g class=\"node\" id=\"node15\"><title>history_buzzing</title>\n",
       "<ellipse cx=\"850.845\" cy=\"-234\" fill=\"none\" rx=\"67.6881\" ry=\"18\" stroke=\"black\"/>\n",
       "<text font-family=\"Times,serif\" font-size=\"14.00\" text-anchor=\"middle\" x=\"850.845\" y=\"-230.3\">history_buzzing</text>\n",
       "</g>\n",
       "<!-- wave_V_delayed -->\n",
       "<g class=\"node\" id=\"node16\"><title>wave_V_delayed</title>\n",
       "<ellipse cx=\"850.845\" cy=\"-162\" fill=\"none\" rx=\"71.4873\" ry=\"18\" stroke=\"black\"/>\n",
       "<text font-family=\"Times,serif\" font-size=\"14.00\" text-anchor=\"middle\" x=\"850.845\" y=\"-158.3\">wave_V_delayed</text>\n",
       "</g>\n",
       "<!-- history_buzzing&#45;&gt;wave_V_delayed -->\n",
       "<g class=\"edge\" id=\"edge12\"><title>history_buzzing-&gt;wave_V_delayed</title>\n",
       "<path d=\"M850.845,-215.697C850.845,-204.846 850.845,-190.917 850.845,-180.104\" fill=\"none\" stroke=\"black\"/>\n",
       "</g>\n",
       "<!-- history_dizziness -->\n",
       "<g class=\"node\" id=\"node17\"><title>history_dizziness</title>\n",
       "<ellipse cx=\"1226.84\" cy=\"-306\" fill=\"none\" rx=\"71.4873\" ry=\"18\" stroke=\"black\"/>\n",
       "<text font-family=\"Times,serif\" font-size=\"14.00\" text-anchor=\"middle\" x=\"1226.84\" y=\"-302.3\">history_dizziness</text>\n",
       "</g>\n",
       "<!-- history_fluctuating -->\n",
       "<g class=\"node\" id=\"node18\"><title>history_fluctuating</title>\n",
       "<ellipse cx=\"1046.84\" cy=\"-234\" fill=\"none\" rx=\"77.1866\" ry=\"18\" stroke=\"black\"/>\n",
       "<text font-family=\"Times,serif\" font-size=\"14.00\" text-anchor=\"middle\" x=\"1046.84\" y=\"-230.3\">history_fluctuating</text>\n",
       "</g>\n",
       "<!-- history_dizziness&#45;&gt;history_fluctuating -->\n",
       "<g class=\"edge\" id=\"edge13\"><title>history_dizziness-&gt;history_fluctuating</title>\n",
       "<path d=\"M1189.55,-290.496C1161.86,-279.728 1123.89,-264.963 1094.08,-253.37\" fill=\"none\" stroke=\"black\"/>\n",
       "<polygon fill=\"black\" points=\"1095.3,-250.089 1084.71,-249.726 1092.76,-256.613 1095.3,-250.089\" stroke=\"black\"/>\n",
       "</g>\n",
       "<!-- history_roaring -->\n",
       "<g class=\"node\" id=\"node19\"><title>history_roaring</title>\n",
       "<ellipse cx=\"1401.84\" cy=\"-234\" fill=\"none\" rx=\"64.9885\" ry=\"18\" stroke=\"black\"/>\n",
       "<text font-family=\"Times,serif\" font-size=\"14.00\" text-anchor=\"middle\" x=\"1401.84\" y=\"-230.3\">history_roaring</text>\n",
       "</g>\n",
       "<!-- history_dizziness&#45;&gt;history_roaring -->\n",
       "<g class=\"edge\" id=\"edge14\"><title>history_dizziness-&gt;history_roaring</title>\n",
       "<path d=\"M1263.53,-290.326C1290.72,-279.448 1327.94,-264.562 1356.92,-252.971\" fill=\"none\" stroke=\"black\"/>\n",
       "<polygon fill=\"black\" points=\"1358.42,-256.14 1366.4,-249.177 1355.82,-249.641 1358.42,-256.14\" stroke=\"black\"/>\n",
       "</g>\n",
       "<!-- static_normal -->\n",
       "<g class=\"node\" id=\"node20\"><title>static_normal</title>\n",
       "<ellipse cx=\"1226.84\" cy=\"-234\" fill=\"none\" rx=\"59.2899\" ry=\"18\" stroke=\"black\"/>\n",
       "<text font-family=\"Times,serif\" font-size=\"14.00\" text-anchor=\"middle\" x=\"1226.84\" y=\"-230.3\">static_normal</text>\n",
       "</g>\n",
       "<!-- history_dizziness&#45;&gt;static_normal -->\n",
       "<g class=\"edge\" id=\"edge15\"><title>history_dizziness-&gt;static_normal</title>\n",
       "<path d=\"M1226.84,-287.697C1226.84,-276.846 1226.84,-262.917 1226.84,-252.104\" fill=\"none\" stroke=\"black\"/>\n",
       "</g>\n",
       "<!-- history_recruitment -->\n",
       "<g class=\"node\" id=\"node21\"><title>history_recruitment</title>\n",
       "<ellipse cx=\"1020.84\" cy=\"-162\" fill=\"none\" rx=\"80.6858\" ry=\"18\" stroke=\"black\"/>\n",
       "<text font-family=\"Times,serif\" font-size=\"14.00\" text-anchor=\"middle\" x=\"1020.84\" y=\"-158.3\">history_recruitment</text>\n",
       "</g>\n",
       "<!-- history_fluctuating&#45;&gt;history_recruitment -->\n",
       "<g class=\"edge\" id=\"edge16\"><title>history_fluctuating-&gt;history_recruitment</title>\n",
       "<path d=\"M1040.55,-216.055C1037.62,-208.176 1034.07,-198.617 1030.8,-189.794\" fill=\"none\" stroke=\"black\"/>\n",
       "<polygon fill=\"black\" points=\"1034.02,-188.431 1027.26,-180.275 1027.46,-190.868 1034.02,-188.431\" stroke=\"black\"/>\n",
       "</g>\n",
       "<!-- history_nausea -->\n",
       "<g class=\"node\" id=\"node22\"><title>history_nausea</title>\n",
       "<ellipse cx=\"1415.84\" cy=\"-162\" fill=\"none\" rx=\"63.8893\" ry=\"18\" stroke=\"black\"/>\n",
       "<text font-family=\"Times,serif\" font-size=\"14.00\" text-anchor=\"middle\" x=\"1415.84\" y=\"-158.3\">history_nausea</text>\n",
       "</g>\n",
       "<!-- history_roaring&#45;&gt;history_nausea -->\n",
       "<g class=\"edge\" id=\"edge17\"><title>history_roaring-&gt;history_nausea</title>\n",
       "<path d=\"M1405.31,-215.697C1406.85,-207.983 1408.7,-198.712 1410.42,-190.112\" fill=\"none\" stroke=\"black\"/>\n",
       "<polygon fill=\"black\" points=\"1413.89,-190.597 1412.42,-180.104 1407.03,-189.224 1413.89,-190.597\" stroke=\"black\"/>\n",
       "</g>\n",
       "<!-- waveform_ItoV_prolonged -->\n",
       "<g class=\"node\" id=\"node23\"><title>waveform_ItoV_prolonged</title>\n",
       "<ellipse cx=\"1226.84\" cy=\"-162\" fill=\"none\" rx=\"107.482\" ry=\"18\" stroke=\"black\"/>\n",
       "<text font-family=\"Times,serif\" font-size=\"14.00\" text-anchor=\"middle\" x=\"1226.84\" y=\"-158.3\">waveform_ItoV_prolonged</text>\n",
       "</g>\n",
       "<!-- static_normal&#45;&gt;waveform_ItoV_prolonged -->\n",
       "<g class=\"edge\" id=\"edge18\"><title>static_normal-&gt;waveform_ItoV_prolonged</title>\n",
       "<path d=\"M1226.84,-215.697C1226.84,-204.846 1226.84,-190.917 1226.84,-180.104\" fill=\"none\" stroke=\"black\"/>\n",
       "</g>\n",
       "<!-- m_sn_gt_1k -->\n",
       "<g class=\"node\" id=\"node24\"><title>m_sn_gt_1k</title>\n",
       "<ellipse cx=\"1020.84\" cy=\"-90\" fill=\"none\" rx=\"54.6905\" ry=\"18\" stroke=\"black\"/>\n",
       "<text font-family=\"Times,serif\" font-size=\"14.00\" text-anchor=\"middle\" x=\"1020.84\" y=\"-86.3\">m_sn_gt_1k</text>\n",
       "</g>\n",
       "<!-- history_recruitment&#45;&gt;m_sn_gt_1k -->\n",
       "<g class=\"edge\" id=\"edge19\"><title>history_recruitment-&gt;m_sn_gt_1k</title>\n",
       "<path d=\"M1020.84,-143.697C1020.84,-135.983 1020.84,-126.712 1020.84,-118.112\" fill=\"none\" stroke=\"black\"/>\n",
       "<polygon fill=\"black\" points=\"1024.34,-118.104 1020.84,-108.104 1017.34,-118.104 1024.34,-118.104\" stroke=\"black\"/>\n",
       "</g>\n",
       "<!-- history_fullness -->\n",
       "<g class=\"node\" id=\"node25\"><title>history_fullness</title>\n",
       "<ellipse cx=\"850.845\" cy=\"-306\" fill=\"none\" rx=\"66.8882\" ry=\"18\" stroke=\"black\"/>\n",
       "<text font-family=\"Times,serif\" font-size=\"14.00\" text-anchor=\"middle\" x=\"850.845\" y=\"-302.3\">history_fullness</text>\n",
       "</g>\n",
       "<!-- history_fullness&#45;&gt;history_buzzing -->\n",
       "<g class=\"edge\" id=\"edge20\"><title>history_fullness-&gt;history_buzzing</title>\n",
       "<path d=\"M850.845,-287.697C850.845,-276.846 850.845,-262.917 850.845,-252.104\" fill=\"none\" stroke=\"black\"/>\n",
       "</g>\n",
       "<!-- history_noise -->\n",
       "<g class=\"node\" id=\"node26\"><title>history_noise</title>\n",
       "<ellipse cx=\"57.8449\" cy=\"-306\" fill=\"none\" rx=\"57.6901\" ry=\"18\" stroke=\"black\"/>\n",
       "<text font-family=\"Times,serif\" font-size=\"14.00\" text-anchor=\"middle\" x=\"57.8449\" y=\"-302.3\">history_noise</text>\n",
       "</g>\n",
       "<!-- history_noise&#45;&gt;notch_at_4k -->\n",
       "<g class=\"edge\" id=\"edge21\"><title>history_noise-&gt;notch_at_4k</title>\n",
       "<path d=\"M57.8449,-287.697C57.8449,-276.846 57.8449,-262.917 57.8449,-252.104\" fill=\"none\" stroke=\"black\"/>\n",
       "</g>\n",
       "<!-- history_vomiting -->\n",
       "<g class=\"node\" id=\"node27\"><title>history_vomiting</title>\n",
       "<ellipse cx=\"1401.84\" cy=\"-306\" fill=\"none\" rx=\"71.4873\" ry=\"18\" stroke=\"black\"/>\n",
       "<text font-family=\"Times,serif\" font-size=\"14.00\" text-anchor=\"middle\" x=\"1401.84\" y=\"-302.3\">history_vomiting</text>\n",
       "</g>\n",
       "<!-- history_vomiting&#45;&gt;history_roaring -->\n",
       "<g class=\"edge\" id=\"edge22\"><title>history_vomiting-&gt;history_roaring</title>\n",
       "<path d=\"M1401.84,-287.697C1401.84,-279.983 1401.84,-270.712 1401.84,-262.112\" fill=\"none\" stroke=\"black\"/>\n",
       "<polygon fill=\"black\" points=\"1405.34,-262.104 1401.84,-252.104 1398.34,-262.104 1405.34,-262.104\" stroke=\"black\"/>\n",
       "</g>\n",
       "<!-- m_sn_lt_1k -->\n",
       "<g class=\"node\" id=\"node28\"><title>m_sn_lt_1k</title>\n",
       "<ellipse cx=\"1046.84\" cy=\"-306\" fill=\"none\" rx=\"52.7911\" ry=\"18\" stroke=\"black\"/>\n",
       "<text font-family=\"Times,serif\" font-size=\"14.00\" text-anchor=\"middle\" x=\"1046.84\" y=\"-302.3\">m_sn_lt_1k</text>\n",
       "</g>\n",
       "<!-- m_sn_lt_1k&#45;&gt;history_fluctuating -->\n",
       "<g class=\"edge\" id=\"edge23\"><title>m_sn_lt_1k-&gt;history_fluctuating</title>\n",
       "<path d=\"M1046.84,-287.697C1046.84,-279.983 1046.84,-270.712 1046.84,-262.112\" fill=\"none\" stroke=\"black\"/>\n",
       "<polygon fill=\"black\" points=\"1050.34,-262.104 1046.84,-252.104 1043.34,-262.104 1050.34,-262.104\" stroke=\"black\"/>\n",
       "</g>\n",
       "<!-- middle_wave_poor -->\n",
       "<g class=\"node\" id=\"node29\"><title>middle_wave_poor</title>\n",
       "<ellipse cx=\"686.845\" cy=\"-306\" fill=\"none\" rx=\"79.0865\" ry=\"18\" stroke=\"black\"/>\n",
       "<text font-family=\"Times,serif\" font-size=\"14.00\" text-anchor=\"middle\" x=\"686.845\" y=\"-302.3\">middle_wave_poor</text>\n",
       "</g>\n",
       "<!-- middle_wave_poor&#45;&gt;late_wave_poor -->\n",
       "<g class=\"edge\" id=\"edge24\"><title>middle_wave_poor-&gt;late_wave_poor</title>\n",
       "<path d=\"M678.372,-288.055C672.95,-277.211 665.936,-263.183 660.483,-252.275\" fill=\"none\" stroke=\"black\"/>\n",
       "</g>\n",
       "<!-- notch_4k -->\n",
       "<g class=\"node\" id=\"node30\"><title>notch_4k</title>\n",
       "<ellipse cx=\"1550.84\" cy=\"-306\" fill=\"none\" rx=\"43.5923\" ry=\"18\" stroke=\"black\"/>\n",
       "<text font-family=\"Times,serif\" font-size=\"14.00\" text-anchor=\"middle\" x=\"1550.84\" y=\"-302.3\">notch_4k</text>\n",
       "</g>\n",
       "<!-- m_m_sn_gt_2k -->\n",
       "<g class=\"node\" id=\"node31\"><title>m_m_sn_gt_2k</title>\n",
       "<ellipse cx=\"1550.84\" cy=\"-234\" fill=\"none\" rx=\"66.0889\" ry=\"18\" stroke=\"black\"/>\n",
       "<text font-family=\"Times,serif\" font-size=\"14.00\" text-anchor=\"middle\" x=\"1550.84\" y=\"-230.3\">m_m_sn_gt_2k</text>\n",
       "</g>\n",
       "<!-- notch_4k&#45;&gt;m_m_sn_gt_2k -->\n",
       "<g class=\"edge\" id=\"edge25\"><title>notch_4k-&gt;m_m_sn_gt_2k</title>\n",
       "<path d=\"M1550.84,-287.697C1550.84,-276.846 1550.84,-262.917 1550.84,-252.104\" fill=\"none\" stroke=\"black\"/>\n",
       "</g>\n",
       "<!-- o_ar_c -->\n",
       "<g class=\"node\" id=\"node32\"><title>o_ar_c</title>\n",
       "<ellipse cx=\"483.845\" cy=\"-306\" fill=\"none\" rx=\"34.394\" ry=\"18\" stroke=\"black\"/>\n",
       "<text font-family=\"Times,serif\" font-size=\"14.00\" text-anchor=\"middle\" x=\"483.845\" y=\"-302.3\">o_ar_c</text>\n",
       "</g>\n",
       "<!-- o_ar_c&#45;&gt;ar_u -->\n",
       "<g class=\"edge\" id=\"edge26\"><title>o_ar_c-&gt;ar_u</title>\n",
       "<path d=\"M469.197,-289.465C457.956,-277.542 442.549,-261.202 431.55,-249.536\" fill=\"none\" stroke=\"black\"/>\n",
       "</g>\n",
       "<!-- o_ar_c&#45;&gt;ar_c -->\n",
       "<g class=\"edge\" id=\"edge27\"><title>o_ar_c-&gt;ar_c</title>\n",
       "<path d=\"M485.328,-287.697C486.258,-276.846 487.452,-262.917 488.379,-252.104\" fill=\"none\" stroke=\"black\"/>\n",
       "</g>\n",
       "<!-- s_sn_gt_2k -->\n",
       "<g class=\"node\" id=\"node33\"><title>s_sn_gt_2k</title>\n",
       "<ellipse cx=\"1703.84\" cy=\"-306\" fill=\"none\" rx=\"50.8918\" ry=\"18\" stroke=\"black\"/>\n",
       "<text font-family=\"Times,serif\" font-size=\"14.00\" text-anchor=\"middle\" x=\"1703.84\" y=\"-302.3\">s_sn_gt_2k</text>\n",
       "</g>\n",
       "<!-- history_heredity -->\n",
       "<g class=\"node\" id=\"node34\"><title>history_heredity</title>\n",
       "<ellipse cx=\"1703.84\" cy=\"-234\" fill=\"none\" rx=\"68.4888\" ry=\"18\" stroke=\"black\"/>\n",
       "<text font-family=\"Times,serif\" font-size=\"14.00\" text-anchor=\"middle\" x=\"1703.84\" y=\"-230.3\">history_heredity</text>\n",
       "</g>\n",
       "<!-- s_sn_gt_2k&#45;&gt;history_heredity -->\n",
       "<g class=\"edge\" id=\"edge28\"><title>s_sn_gt_2k-&gt;history_heredity</title>\n",
       "<path d=\"M1703.84,-287.697C1703.84,-276.846 1703.84,-262.917 1703.84,-252.104\" fill=\"none\" stroke=\"black\"/>\n",
       "</g>\n",
       "<!-- speech -->\n",
       "<g class=\"node\" id=\"node35\"><title>speech</title>\n",
       "<ellipse cx=\"261.845\" cy=\"-306\" fill=\"none\" rx=\"34.394\" ry=\"18\" stroke=\"black\"/>\n",
       "<text font-family=\"Times,serif\" font-size=\"14.00\" text-anchor=\"middle\" x=\"261.845\" y=\"-302.3\">speech</text>\n",
       "</g>\n",
       "<!-- speech&#45;&gt;air -->\n",
       "<g class=\"edge\" id=\"edge29\"><title>speech-&gt;air</title>\n",
       "<path d=\"M279.659,-290.155C291.863,-279.985 308.199,-266.371 321.588,-255.214\" fill=\"none\" stroke=\"black\"/>\n",
       "<polygon fill=\"black\" points=\"324.039,-257.728 329.481,-248.637 319.558,-252.35 324.039,-257.728\" stroke=\"black\"/>\n",
       "</g>\n",
       "</g>\n",
       "</svg>"
      ],
      "text/plain": [
       "<IPython.core.display.SVG object>"
      ]
     },
     "execution_count": 9,
     "metadata": {},
     "output_type": "execute_result"
    }
   ],
   "source": [
    "dot = tetrad.getDot()\n",
    "svg_str = dot.create_svg(prog='dot')\n",
    "SVG(svg_str)"
   ]
  },
  {
   "cell_type": "code",
   "execution_count": 10,
   "metadata": {
    "collapsed": true
   },
   "outputs": [],
   "source": [
    "pc.stop_vm()"
   ]
  },
  {
   "cell_type": "code",
   "execution_count": null,
   "metadata": {
    "collapsed": true
   },
   "outputs": [],
   "source": []
  }
 ],
 "metadata": {
  "kernelspec": {
   "display_name": "Python 3",
   "language": "python",
   "name": "python3"
  },
  "language_info": {
   "codemirror_mode": {
    "name": "ipython",
    "version": 3
   },
   "file_extension": ".py",
   "mimetype": "text/x-python",
   "name": "python",
   "nbconvert_exporter": "python",
   "pygments_lexer": "ipython3",
   "version": "3.6.1"
  }
 },
 "nbformat": 4,
 "nbformat_minor": 1
}
