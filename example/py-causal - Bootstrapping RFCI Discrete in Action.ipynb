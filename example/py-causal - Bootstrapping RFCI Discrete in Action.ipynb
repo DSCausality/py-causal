{
 "cells": [
  {
   "cell_type": "code",
   "execution_count": 1,
   "metadata": {},
   "outputs": [],
   "source": [
    "import pandas as pd"
   ]
  },
  {
   "cell_type": "markdown",
   "metadata": {},
   "source": [
    "#### Load the example dataset"
   ]
  },
  {
   "cell_type": "code",
   "execution_count": 2,
   "metadata": {},
   "outputs": [],
   "source": [
    "data_dir = \"https://raw.githubusercontent.com/bd2kccd/py-causal/master/data/audiology.txt\"\n",
    "df = pd.read_table(data_dir, sep=\"\\t\")"
   ]
  },
  {
   "cell_type": "markdown",
   "metadata": {
    "collapsed": true
   },
   "source": [
    "#### Start Java VM"
   ]
  },
  {
   "cell_type": "code",
   "execution_count": 3,
   "metadata": {},
   "outputs": [],
   "source": [
    "from pycausal.pycausal import pycausal as pc\n",
    "pc = pc()\n",
    "pc.start_vm(java_max_heap_size = '500M')"
   ]
  },
  {
   "cell_type": "markdown",
   "metadata": {},
   "source": [
    "#### Create the Prior Knowledge Object"
   ]
  },
  {
   "cell_type": "code",
   "execution_count": 4,
   "metadata": {},
   "outputs": [
    {
     "data": {
      "text/plain": [
       "Instance of edu.cmu.tetrad.data.Knowledge2: /knowledge\n",
       "addtemporal\n",
       "\n",
       "1*  class history_fluctuating history_noise\n",
       "\n",
       "forbiddirect\n",
       "\n",
       "requiredirect"
      ]
     },
     "execution_count": 4,
     "metadata": {},
     "output_type": "execute_result"
    }
   ],
   "source": [
    "from pycausal import prior as p\n",
    "forbid = [['history_noise','class'],['history_fluctuating','class']]\n",
    "tempForbid = p.ForbiddenWithin(\n",
    "    ['class','history_fluctuating','history_noise'])\n",
    "temporal = [tempForbid]\n",
    "prior = p.knowledge(forbiddirect = forbid, addtemporal = temporal)\n",
    "prior"
   ]
  },
  {
   "cell_type": "markdown",
   "metadata": {
    "collapsed": true
   },
   "source": [
    "#### Load causal algorithms from the py-causal library and Run Bootstrapping RFCI Discrete"
   ]
  },
  {
   "cell_type": "code",
   "execution_count": 5,
   "metadata": {},
   "outputs": [
    {
     "name": "stdout",
     "output_type": "stream",
     "text": [
      "samplePrior: Sample prior (min = 1.0) (java.lang.Double) [default:1.0]\n",
      "structurePrior: Structure prior coefficient (min = 1.0) (java.lang.Double) [default:1.0]\n",
      "depth: Maximum size of conditioning set (unlimited = -1) (java.lang.Integer) [default:-1]\n",
      "maxPathLength: The maximum length for any discriminating path. -1 if unlimited (min = -1) (java.lang.Integer) [default:-1]\n",
      "completeRuleSetUsed: Yes if the complete FCI rule set should be used (java.lang.Boolean) [default:false]\n",
      "numberResampling: The number of bootstraps/resampling iterations (min = 0) (java.lang.Integer) [default:0]\n",
      "percentResampleSize: The percentage of resample size (min = 0.1) (java.lang.Integer) [default:100]\n",
      "resamplingWithReplacement: Yes, if sampling with replacement (bootstrapping) (java.lang.Boolean) [default:true]\n",
      "resamplingEnsemble: Ensemble method: Preserved (0), Highest (1), Majority (2) (java.lang.Integer) [default:1]\n",
      "addOriginalDataset: Yes, if adding an original dataset as another bootstrapping (java.lang.Boolean) [default:false]\n",
      "verbose: Yes if verbose output should be printed or logged (java.lang.Boolean) [default:true]\n"
     ]
    }
   ],
   "source": [
    "from pycausal import search as s\n",
    "tetrad = s.tetradrunner()\n",
    "tetrad.getAlgorithmParameters(algoId = 'rfci', testId = 'bdeu')"
   ]
  },
  {
   "cell_type": "code",
   "execution_count": 6,
   "metadata": {},
   "outputs": [],
   "source": [
    "tetrad.run(algoId = 'rfci', dfs = df, testId = 'bdeu', priorKnowledge = prior, dataType = 'discrete',\n",
    "           structurePrior = 1.0, samplePrior = 1.0, depth = 3, maxPathLength = -1, \n",
    "           completeRuleSetUsed = True, verbose = True,\n",
    "           numberResampling = 5, resamplingEnsemble = 1, addOriginalDataset = True)"
   ]
  },
  {
   "cell_type": "markdown",
   "metadata": {
    "collapsed": true
   },
   "source": [
    "#### Bootstrapping RFCI Discrete's Result's Nodes"
   ]
  },
  {
   "cell_type": "code",
   "execution_count": 7,
   "metadata": {},
   "outputs": [
    {
     "data": {
      "text/plain": [
       "['age_gt_60',\n",
       " 'air',\n",
       " 'airBoneGap',\n",
       " 'ar_c',\n",
       " 'ar_u',\n",
       " 'bone',\n",
       " 'boneAbnormal',\n",
       " 'bser',\n",
       " 'class',\n",
       " 'history_buzzing',\n",
       " 'history_dizziness',\n",
       " 'history_fluctuating',\n",
       " 'history_fullness',\n",
       " 'history_heredity',\n",
       " 'history_nausea',\n",
       " 'history_noise',\n",
       " 'history_recruitment',\n",
       " 'history_ringing',\n",
       " 'history_roaring',\n",
       " 'history_vomiting',\n",
       " 'indentifier',\n",
       " 'late_wave_poor',\n",
       " 'm_at_2k',\n",
       " 'm_cond_lt_1k',\n",
       " 'm_gt_1k',\n",
       " 'm_m_gt_2k',\n",
       " 'm_m_sn',\n",
       " 'm_m_sn_gt_1k',\n",
       " 'm_m_sn_gt_2k',\n",
       " 'm_m_sn_gt_500',\n",
       " 'm_p_sn_gt_2k',\n",
       " 'm_s_gt_500',\n",
       " 'm_s_sn',\n",
       " 'm_s_sn_gt_1k',\n",
       " 'm_s_sn_gt_2k',\n",
       " 'm_s_sn_gt_3k',\n",
       " 'm_s_sn_gt_4k',\n",
       " 'm_sn_2_3k',\n",
       " 'm_sn_gt_1k',\n",
       " 'm_sn_gt_2k',\n",
       " 'm_sn_gt_3k',\n",
       " 'm_sn_gt_4k',\n",
       " 'm_sn_gt_500',\n",
       " 'm_sn_gt_6k',\n",
       " 'm_sn_lt_1k',\n",
       " 'm_sn_lt_2k',\n",
       " 'm_sn_lt_3k',\n",
       " 'middle_wave_poor',\n",
       " 'mod_gt_4k',\n",
       " 'mod_mixed',\n",
       " 'mod_s_mixed',\n",
       " 'mod_s_sn_gt_500',\n",
       " 'mod_sn',\n",
       " 'mod_sn_gt_1k',\n",
       " 'mod_sn_gt_2k',\n",
       " 'mod_sn_gt_3k',\n",
       " 'mod_sn_gt_4k',\n",
       " 'mod_sn_gt_500',\n",
       " 'notch_4k',\n",
       " 'notch_at_4k',\n",
       " 'o_ar_c',\n",
       " 'o_ar_u',\n",
       " 's_sn_gt_1k',\n",
       " 's_sn_gt_2k',\n",
       " 's_sn_gt_4k',\n",
       " 'speech',\n",
       " 'static_normal',\n",
       " 'tymp',\n",
       " 'viith_nerve_signs',\n",
       " 'wave_V_delayed',\n",
       " 'waveform_ItoV_prolonged']"
      ]
     },
     "execution_count": 7,
     "metadata": {},
     "output_type": "execute_result"
    }
   ],
   "source": [
    "tetrad.getNodes()"
   ]
  },
  {
   "cell_type": "markdown",
   "metadata": {},
   "source": [
    "#### Bootstrapping RFCI Discrete's Result's Edges"
   ]
  },
  {
   "cell_type": "code",
   "execution_count": 8,
   "metadata": {},
   "outputs": [
    {
     "data": {
      "text/plain": [
       "['history_fluctuating o-o m_sn_lt_1k [history_fluctuating o-o m_sn_lt_1k]:0.6667;[history_fluctuating <-o m_sn_lt_1k]:0.1667;[no edge]:0.1667;',\n",
       " 'bser o-o late_wave_poor [bser o-o late_wave_poor]:0.8333;[bser <-o late_wave_poor]:0.1667;',\n",
       " 'ar_c o-o ar_u [ar_c o-o ar_u]:0.5000;[no edge]:0.5000;',\n",
       " 'm_m_sn_gt_2k o-o notch_4k [m_m_sn_gt_2k o-o notch_4k]:0.5000;[m_m_sn_gt_2k o-> notch_4k]:0.1667;[no edge]:0.3333;',\n",
       " 'bone o-> indentifier [bone o-> indentifier]:0.8333;[no edge]:0.1667;',\n",
       " 'history_vomiting o-o m_sn_gt_4k [history_vomiting o-o m_sn_gt_4k]:0.5000;[no edge]:0.5000;',\n",
       " 'airBoneGap o-o tymp [airBoneGap o-o tymp]:0.5000;[no edge]:0.5000;',\n",
       " 'history_heredity o-o s_sn_gt_2k [history_heredity o-o s_sn_gt_2k]:0.6667;[no edge]:0.3333;',\n",
       " 'static_normal o-o waveform_ItoV_prolonged [static_normal o-o waveform_ItoV_prolonged]:0.5000;[no edge]:0.5000;',\n",
       " 'boneAbnormal o-> indentifier [boneAbnormal o-> indentifier]:0.8333;[no edge]:0.1667;',\n",
       " 'class o-> indentifier [class o-> indentifier]:0.8333;[no edge]:0.1667;',\n",
       " 'history_buzzing o-o history_fullness [history_buzzing o-o history_fullness]:0.6667;[no edge]:0.3333;',\n",
       " 'speech o-> indentifier [indentifier <-o speech]:0.8333;[no edge]:0.1667;',\n",
       " 'history_recruitment o-o m_sn_gt_1k [history_recruitment o-o m_sn_gt_1k]:0.5000;[no edge]:0.5000;',\n",
       " 'history_nausea o-o history_roaring [history_nausea o-o history_roaring]:0.8333;[no edge]:0.1667;']"
      ]
     },
     "execution_count": 8,
     "metadata": {},
     "output_type": "execute_result"
    }
   ],
   "source": [
    "tetrad.getEdges()"
   ]
  },
  {
   "cell_type": "markdown",
   "metadata": {},
   "source": [
    "#### Plot The Result's Graph"
   ]
  },
  {
   "cell_type": "code",
   "execution_count": 9,
   "metadata": {},
   "outputs": [
    {
     "data": {
      "image/svg+xml": [
       "<svg height=\"293pt\" viewBox=\"0.00 0.00 3698.79 293.00\" width=\"3699pt\" xmlns=\"http://www.w3.org/2000/svg\" xmlns:xlink=\"http://www.w3.org/1999/xlink\">\n",
       "<g class=\"graph\" id=\"graph0\" transform=\"scale(1 1) rotate(0) translate(4 289)\">\n",
       "<title>g</title>\n",
       "<polygon fill=\"white\" points=\"-4,4 -4,-289 3694.79,-289 3694.79,4 -4,4\" stroke=\"none\"/>\n",
       "<!-- history_fluctuating -->\n",
       "<g class=\"node\" id=\"node1\"><title>history_fluctuating</title>\n",
       "<ellipse cx=\"98.7912\" cy=\"-267\" fill=\"none\" rx=\"98.5829\" ry=\"18\" stroke=\"black\"/>\n",
       "<text font-family=\"Times,serif\" font-size=\"14.00\" text-anchor=\"middle\" x=\"98.7912\" y=\"-263.3\">history_fluctuating</text>\n",
       "</g>\n",
       "<!-- m_sn_lt_1k -->\n",
       "<g class=\"node\" id=\"node2\"><title>m_sn_lt_1k</title>\n",
       "<ellipse cx=\"98.7912\" cy=\"-135\" fill=\"none\" rx=\"63.8893\" ry=\"18\" stroke=\"black\"/>\n",
       "<text font-family=\"Times,serif\" font-size=\"14.00\" text-anchor=\"middle\" x=\"98.7912\" y=\"-131.3\">m_sn_lt_1k</text>\n",
       "</g>\n",
       "<!-- history_fluctuating&#45;&gt;m_sn_lt_1k -->\n",
       "<g class=\"edge\" id=\"edge1\"><title>history_fluctuating-&gt;m_sn_lt_1k</title>\n",
       "<path d=\"M98.7912,-240.562C98.7912,-217.733 98.7912,-184.398 98.7912,-161.539\" fill=\"none\" stroke=\"black\"/>\n",
       "<ellipse cx=\"98.7913\" cy=\"-244.737\" fill=\"none\" rx=\"4\" ry=\"4\" stroke=\"black\"/>\n",
       "<ellipse cx=\"98.7913\" cy=\"-157.334\" fill=\"none\" rx=\"4\" ry=\"4\" stroke=\"black\"/>\n",
       "<text font-family=\"Courier,monospace\" font-size=\"14.00\" text-anchor=\"middle\" x=\"231.291\" y=\"-219.8\">history_fluctuating - m_sn_lt_1k</text>\n",
       "<text font-family=\"Courier,monospace\" font-size=\"14.00\" text-anchor=\"middle\" x=\"231.291\" y=\"-204.8\">[o-o]:0.6666666666666666</text>\n",
       "<text font-family=\"Courier,monospace\" font-size=\"14.00\" text-anchor=\"middle\" x=\"231.291\" y=\"-189.8\">[&lt;-o]:0.16666666666666666</text>\n",
       "<text font-family=\"Courier,monospace\" font-size=\"14.00\" text-anchor=\"middle\" x=\"231.291\" y=\"-174.8\">[no edge]:0.16666666666666666</text>\n",
       "</g>\n",
       "<!-- bser -->\n",
       "<g class=\"node\" id=\"node3\"><title>bser</title>\n",
       "<ellipse cx=\"386.791\" cy=\"-267\" fill=\"none\" rx=\"31.3957\" ry=\"18\" stroke=\"black\"/>\n",
       "<text font-family=\"Times,serif\" font-size=\"14.00\" text-anchor=\"middle\" x=\"386.791\" y=\"-263.3\">bser</text>\n",
       "</g>\n",
       "<!-- late_wave_poor -->\n",
       "<g class=\"node\" id=\"node4\"><title>late_wave_poor</title>\n",
       "<ellipse cx=\"386.791\" cy=\"-135\" fill=\"none\" rx=\"83.3857\" ry=\"18\" stroke=\"black\"/>\n",
       "<text font-family=\"Times,serif\" font-size=\"14.00\" text-anchor=\"middle\" x=\"386.791\" y=\"-131.3\">late_wave_poor</text>\n",
       "</g>\n",
       "<!-- bser&#45;&gt;late_wave_poor -->\n",
       "<g class=\"edge\" id=\"edge2\"><title>bser-&gt;late_wave_poor</title>\n",
       "<path d=\"M386.791,-240.562C386.791,-217.733 386.791,-184.398 386.791,-161.539\" fill=\"none\" stroke=\"black\"/>\n",
       "<ellipse cx=\"386.791\" cy=\"-244.737\" fill=\"none\" rx=\"4\" ry=\"4\" stroke=\"black\"/>\n",
       "<ellipse cx=\"386.791\" cy=\"-157.334\" fill=\"none\" rx=\"4\" ry=\"4\" stroke=\"black\"/>\n",
       "<text font-family=\"Courier,monospace\" font-size=\"14.00\" text-anchor=\"middle\" x=\"490.291\" y=\"-212.3\">bser - late_wave_poor</text>\n",
       "<text font-family=\"Courier,monospace\" font-size=\"14.00\" text-anchor=\"middle\" x=\"490.291\" y=\"-197.3\">[o-o]:0.8333333333333334</text>\n",
       "<text font-family=\"Courier,monospace\" font-size=\"14.00\" text-anchor=\"middle\" x=\"490.291\" y=\"-182.3\">[&lt;-o]:0.16666666666666666</text>\n",
       "</g>\n",
       "<!-- ar_c -->\n",
       "<g class=\"node\" id=\"node5\"><title>ar_c</title>\n",
       "<ellipse cx=\"616.791\" cy=\"-267\" fill=\"none\" rx=\"30.5947\" ry=\"18\" stroke=\"black\"/>\n",
       "<text font-family=\"Times,serif\" font-size=\"14.00\" text-anchor=\"middle\" x=\"616.791\" y=\"-263.3\">ar_c</text>\n",
       "</g>\n",
       "<!-- ar_u -->\n",
       "<g class=\"node\" id=\"node6\"><title>ar_u</title>\n",
       "<ellipse cx=\"616.791\" cy=\"-135\" fill=\"none\" rx=\"31.3957\" ry=\"18\" stroke=\"black\"/>\n",
       "<text font-family=\"Times,serif\" font-size=\"14.00\" text-anchor=\"middle\" x=\"616.791\" y=\"-131.3\">ar_u</text>\n",
       "</g>\n",
       "<!-- ar_c&#45;&gt;ar_u -->\n",
       "<g class=\"edge\" id=\"edge3\"><title>ar_c-&gt;ar_u</title>\n",
       "<path d=\"M616.791,-240.562C616.791,-217.733 616.791,-184.398 616.791,-161.539\" fill=\"none\" stroke=\"black\"/>\n",
       "<ellipse cx=\"616.791\" cy=\"-244.737\" fill=\"none\" rx=\"4\" ry=\"4\" stroke=\"black\"/>\n",
       "<ellipse cx=\"616.791\" cy=\"-157.334\" fill=\"none\" rx=\"4\" ry=\"4\" stroke=\"black\"/>\n",
       "<text font-family=\"Courier,monospace\" font-size=\"14.00\" text-anchor=\"middle\" x=\"670.791\" y=\"-212.3\">ar_c - ar_u</text>\n",
       "<text font-family=\"Courier,monospace\" font-size=\"14.00\" text-anchor=\"middle\" x=\"670.791\" y=\"-197.3\">[o-o]:0.5</text>\n",
       "<text font-family=\"Courier,monospace\" font-size=\"14.00\" text-anchor=\"middle\" x=\"670.791\" y=\"-182.3\">[no edge]:0.5</text>\n",
       "</g>\n",
       "<!-- m_m_sn_gt_2k -->\n",
       "<g class=\"node\" id=\"node7\"><title>m_m_sn_gt_2k</title>\n",
       "<ellipse cx=\"747.791\" cy=\"-267\" fill=\"none\" rx=\"79.8859\" ry=\"18\" stroke=\"black\"/>\n",
       "<text font-family=\"Times,serif\" font-size=\"14.00\" text-anchor=\"middle\" x=\"747.791\" y=\"-263.3\">m_m_sn_gt_2k</text>\n",
       "</g>\n",
       "<!-- notch_4k -->\n",
       "<g class=\"node\" id=\"node8\"><title>notch_4k</title>\n",
       "<ellipse cx=\"747.791\" cy=\"-135\" fill=\"none\" rx=\"53.8905\" ry=\"18\" stroke=\"black\"/>\n",
       "<text font-family=\"Times,serif\" font-size=\"14.00\" text-anchor=\"middle\" x=\"747.791\" y=\"-131.3\">notch_4k</text>\n",
       "</g>\n",
       "<!-- m_m_sn_gt_2k&#45;&gt;notch_4k -->\n",
       "<g class=\"edge\" id=\"edge4\"><title>m_m_sn_gt_2k-&gt;notch_4k</title>\n",
       "<path d=\"M747.791,-240.562C747.791,-217.733 747.791,-184.398 747.791,-161.539\" fill=\"none\" stroke=\"black\"/>\n",
       "<ellipse cx=\"747.791\" cy=\"-244.737\" fill=\"none\" rx=\"4\" ry=\"4\" stroke=\"black\"/>\n",
       "<ellipse cx=\"747.791\" cy=\"-157.334\" fill=\"none\" rx=\"4\" ry=\"4\" stroke=\"black\"/>\n",
       "<text font-family=\"Courier,monospace\" font-size=\"14.00\" text-anchor=\"middle\" x=\"863.791\" y=\"-219.8\">m_m_sn_gt_2k - notch_4k</text>\n",
       "<text font-family=\"Courier,monospace\" font-size=\"14.00\" text-anchor=\"middle\" x=\"863.791\" y=\"-204.8\">[o-o]:0.5</text>\n",
       "<text font-family=\"Courier,monospace\" font-size=\"14.00\" text-anchor=\"middle\" x=\"863.791\" y=\"-189.8\">[o-&gt;]:0.16666666666666666</text>\n",
       "<text font-family=\"Courier,monospace\" font-size=\"14.00\" text-anchor=\"middle\" x=\"863.791\" y=\"-174.8\">[no edge]:0.3333333333333333</text>\n",
       "</g>\n",
       "<!-- bone -->\n",
       "<g class=\"node\" id=\"node9\"><title>bone</title>\n",
       "<ellipse cx=\"1002.79\" cy=\"-267\" fill=\"none\" rx=\"33.2948\" ry=\"18\" stroke=\"black\"/>\n",
       "<text font-family=\"Times,serif\" font-size=\"14.00\" text-anchor=\"middle\" x=\"1002.79\" y=\"-263.3\">bone</text>\n",
       "</g>\n",
       "<!-- indentifier -->\n",
       "<g class=\"node\" id=\"node10\"><title>indentifier</title>\n",
       "<ellipse cx=\"1265.79\" cy=\"-135\" fill=\"none\" rx=\"59.2899\" ry=\"18\" stroke=\"black\"/>\n",
       "<text font-family=\"Times,serif\" font-size=\"14.00\" text-anchor=\"middle\" x=\"1265.79\" y=\"-131.3\">indentifier</text>\n",
       "</g>\n",
       "<!-- bone&#45;&gt;indentifier -->\n",
       "<g class=\"edge\" id=\"edge5\"><title>bone-&gt;indentifier</title>\n",
       "<path d=\"M1000.46,-240.714C999.977,-219.06 1003.14,-188.659 1021.79,-171 1046.34,-147.766 1133.49,-139.879 1196.64,-137.245\" fill=\"none\" stroke=\"black\"/>\n",
       "<ellipse cx=\"1000.65\" cy=\"-244.829\" fill=\"none\" rx=\"4\" ry=\"4\" stroke=\"black\"/>\n",
       "<polygon fill=\"black\" points=\"1197.09,-140.731 1206.95,-136.852 1196.82,-133.736 1197.09,-140.731\" stroke=\"black\"/>\n",
       "<text font-family=\"Courier,monospace\" font-size=\"14.00\" text-anchor=\"middle\" x=\"1141.79\" y=\"-212.3\">bone - indentifier</text>\n",
       "<text font-family=\"Courier,monospace\" font-size=\"14.00\" text-anchor=\"middle\" x=\"1141.79\" y=\"-197.3\">[o-&gt;]:0.8333333333333334</text>\n",
       "<text font-family=\"Courier,monospace\" font-size=\"14.00\" text-anchor=\"middle\" x=\"1141.79\" y=\"-182.3\">[no edge]:0.16666666666666666</text>\n",
       "</g>\n",
       "<!-- speech -->\n",
       "<g class=\"node\" id=\"node23\"><title>speech</title>\n",
       "<ellipse cx=\"1265.79\" cy=\"-18\" fill=\"none\" rx=\"43.5923\" ry=\"18\" stroke=\"black\"/>\n",
       "<text font-family=\"Times,serif\" font-size=\"14.00\" text-anchor=\"middle\" x=\"1265.79\" y=\"-14.3\">speech</text>\n",
       "</g>\n",
       "<!-- indentifier&#45;&gt;speech -->\n",
       "<g class=\"edge\" id=\"edge13\"><title>indentifier-&gt;speech</title>\n",
       "<path d=\"M1265.79,-106.249C1265.79,-87.5122 1265.79,-62.9585 1265.79,-44.6734\" fill=\"none\" stroke=\"black\"/>\n",
       "<polygon fill=\"black\" points=\"1262.29,-106.534 1265.79,-116.534 1269.29,-106.534 1262.29,-106.534\" stroke=\"black\"/>\n",
       "<ellipse cx=\"1265.79\" cy=\"-40.2536\" fill=\"none\" rx=\"4\" ry=\"4\" stroke=\"black\"/>\n",
       "<text font-family=\"Courier,monospace\" font-size=\"14.00\" text-anchor=\"middle\" x=\"1385.79\" y=\"-87.8\">indentifier - speech</text>\n",
       "<text font-family=\"Courier,monospace\" font-size=\"14.00\" text-anchor=\"middle\" x=\"1385.79\" y=\"-72.8\">[&lt;-o]:0.8333333333333334</text>\n",
       "<text font-family=\"Courier,monospace\" font-size=\"14.00\" text-anchor=\"middle\" x=\"1385.79\" y=\"-57.8\">[no edge]:0.16666666666666666</text>\n",
       "</g>\n",
       "<!-- history_vomiting -->\n",
       "<g class=\"node\" id=\"node11\"><title>history_vomiting</title>\n",
       "<ellipse cx=\"1791.79\" cy=\"-267\" fill=\"none\" rx=\"89.0842\" ry=\"18\" stroke=\"black\"/>\n",
       "<text font-family=\"Times,serif\" font-size=\"14.00\" text-anchor=\"middle\" x=\"1791.79\" y=\"-263.3\">history_vomiting</text>\n",
       "</g>\n",
       "<!-- m_sn_gt_4k -->\n",
       "<g class=\"node\" id=\"node12\"><title>m_sn_gt_4k</title>\n",
       "<ellipse cx=\"1791.79\" cy=\"-135\" fill=\"none\" rx=\"66.0889\" ry=\"18\" stroke=\"black\"/>\n",
       "<text font-family=\"Times,serif\" font-size=\"14.00\" text-anchor=\"middle\" x=\"1791.79\" y=\"-131.3\">m_sn_gt_4k</text>\n",
       "</g>\n",
       "<!-- history_vomiting&#45;&gt;m_sn_gt_4k -->\n",
       "<g class=\"edge\" id=\"edge6\"><title>history_vomiting-&gt;m_sn_gt_4k</title>\n",
       "<path d=\"M1791.79,-240.562C1791.79,-217.733 1791.79,-184.398 1791.79,-161.539\" fill=\"none\" stroke=\"black\"/>\n",
       "<ellipse cx=\"1791.79\" cy=\"-244.737\" fill=\"none\" rx=\"4\" ry=\"4\" stroke=\"black\"/>\n",
       "<ellipse cx=\"1791.79\" cy=\"-157.334\" fill=\"none\" rx=\"4\" ry=\"4\" stroke=\"black\"/>\n",
       "<text font-family=\"Courier,monospace\" font-size=\"14.00\" text-anchor=\"middle\" x=\"1911.79\" y=\"-212.3\">history_vomiting - m_sn_gt_4k</text>\n",
       "<text font-family=\"Courier,monospace\" font-size=\"14.00\" text-anchor=\"middle\" x=\"1911.79\" y=\"-197.3\">[o-o]:0.5</text>\n",
       "<text font-family=\"Courier,monospace\" font-size=\"14.00\" text-anchor=\"middle\" x=\"1911.79\" y=\"-182.3\">[no edge]:0.5</text>\n",
       "</g>\n",
       "<!-- airBoneGap -->\n",
       "<g class=\"node\" id=\"node13\"><title>airBoneGap</title>\n",
       "<ellipse cx=\"2054.79\" cy=\"-267\" fill=\"none\" rx=\"65.7887\" ry=\"18\" stroke=\"black\"/>\n",
       "<text font-family=\"Times,serif\" font-size=\"14.00\" text-anchor=\"middle\" x=\"2054.79\" y=\"-263.3\">airBoneGap</text>\n",
       "</g>\n",
       "<!-- tymp -->\n",
       "<g class=\"node\" id=\"node14\"><title>tymp</title>\n",
       "<ellipse cx=\"2054.79\" cy=\"-135\" fill=\"none\" rx=\"34.394\" ry=\"18\" stroke=\"black\"/>\n",
       "<text font-family=\"Times,serif\" font-size=\"14.00\" text-anchor=\"middle\" x=\"2054.79\" y=\"-131.3\">tymp</text>\n",
       "</g>\n",
       "<!-- airBoneGap&#45;&gt;tymp -->\n",
       "<g class=\"edge\" id=\"edge7\"><title>airBoneGap-&gt;tymp</title>\n",
       "<path d=\"M2054.79,-240.562C2054.79,-217.733 2054.79,-184.398 2054.79,-161.539\" fill=\"none\" stroke=\"black\"/>\n",
       "<ellipse cx=\"2054.79\" cy=\"-244.737\" fill=\"none\" rx=\"4\" ry=\"4\" stroke=\"black\"/>\n",
       "<ellipse cx=\"2054.79\" cy=\"-157.334\" fill=\"none\" rx=\"4\" ry=\"4\" stroke=\"black\"/>\n",
       "<text font-family=\"Courier,monospace\" font-size=\"14.00\" text-anchor=\"middle\" x=\"2125.29\" y=\"-212.3\">airBoneGap - tymp</text>\n",
       "<text font-family=\"Courier,monospace\" font-size=\"14.00\" text-anchor=\"middle\" x=\"2125.29\" y=\"-197.3\">[o-o]:0.5</text>\n",
       "<text font-family=\"Courier,monospace\" font-size=\"14.00\" text-anchor=\"middle\" x=\"2125.29\" y=\"-182.3\">[no edge]:0.5</text>\n",
       "</g>\n",
       "<!-- history_heredity -->\n",
       "<g class=\"node\" id=\"node15\"><title>history_heredity</title>\n",
       "<ellipse cx=\"2225.79\" cy=\"-267\" fill=\"none\" rx=\"87.1846\" ry=\"18\" stroke=\"black\"/>\n",
       "<text font-family=\"Times,serif\" font-size=\"14.00\" text-anchor=\"middle\" x=\"2225.79\" y=\"-263.3\">history_heredity</text>\n",
       "</g>\n",
       "<!-- s_sn_gt_2k -->\n",
       "<g class=\"node\" id=\"node16\"><title>s_sn_gt_2k</title>\n",
       "<ellipse cx=\"2225.79\" cy=\"-135\" fill=\"none\" rx=\"62.2891\" ry=\"18\" stroke=\"black\"/>\n",
       "<text font-family=\"Times,serif\" font-size=\"14.00\" text-anchor=\"middle\" x=\"2225.79\" y=\"-131.3\">s_sn_gt_2k</text>\n",
       "</g>\n",
       "<!-- history_heredity&#45;&gt;s_sn_gt_2k -->\n",
       "<g class=\"edge\" id=\"edge8\"><title>history_heredity-&gt;s_sn_gt_2k</title>\n",
       "<path d=\"M2225.79,-240.562C2225.79,-217.733 2225.79,-184.398 2225.79,-161.539\" fill=\"none\" stroke=\"black\"/>\n",
       "<ellipse cx=\"2225.79\" cy=\"-244.737\" fill=\"none\" rx=\"4\" ry=\"4\" stroke=\"black\"/>\n",
       "<ellipse cx=\"2225.79\" cy=\"-157.334\" fill=\"none\" rx=\"4\" ry=\"4\" stroke=\"black\"/>\n",
       "<text font-family=\"Courier,monospace\" font-size=\"14.00\" text-anchor=\"middle\" x=\"2345.79\" y=\"-212.3\">history_heredity - s_sn_gt_2k</text>\n",
       "<text font-family=\"Courier,monospace\" font-size=\"14.00\" text-anchor=\"middle\" x=\"2345.79\" y=\"-197.3\">[o-o]:0.6666666666666666</text>\n",
       "<text font-family=\"Courier,monospace\" font-size=\"14.00\" text-anchor=\"middle\" x=\"2345.79\" y=\"-182.3\">[no edge]:0.3333333333333333</text>\n",
       "</g>\n",
       "<!-- static_normal -->\n",
       "<g class=\"node\" id=\"node17\"><title>static_normal</title>\n",
       "<ellipse cx=\"2488.79\" cy=\"-267\" fill=\"none\" rx=\"74.9875\" ry=\"18\" stroke=\"black\"/>\n",
       "<text font-family=\"Times,serif\" font-size=\"14.00\" text-anchor=\"middle\" x=\"2488.79\" y=\"-263.3\">static_normal</text>\n",
       "</g>\n",
       "<!-- waveform_ItoV_prolonged -->\n",
       "<g class=\"node\" id=\"node18\"><title>waveform_ItoV_prolonged</title>\n",
       "<ellipse cx=\"2488.79\" cy=\"-135\" fill=\"none\" rx=\"133.477\" ry=\"18\" stroke=\"black\"/>\n",
       "<text font-family=\"Times,serif\" font-size=\"14.00\" text-anchor=\"middle\" x=\"2488.79\" y=\"-131.3\">waveform_ItoV_prolonged</text>\n",
       "</g>\n",
       "<!-- static_normal&#45;&gt;waveform_ItoV_prolonged -->\n",
       "<g class=\"edge\" id=\"edge9\"><title>static_normal-&gt;waveform_ItoV_prolonged</title>\n",
       "<path d=\"M2488.79,-240.562C2488.79,-217.733 2488.79,-184.398 2488.79,-161.539\" fill=\"none\" stroke=\"black\"/>\n",
       "<ellipse cx=\"2488.79\" cy=\"-244.737\" fill=\"none\" rx=\"4\" ry=\"4\" stroke=\"black\"/>\n",
       "<ellipse cx=\"2488.79\" cy=\"-157.334\" fill=\"none\" rx=\"4\" ry=\"4\" stroke=\"black\"/>\n",
       "<text font-family=\"Courier,monospace\" font-size=\"14.00\" text-anchor=\"middle\" x=\"2649.79\" y=\"-212.3\">static_normal - waveform_ItoV_prolonged</text>\n",
       "<text font-family=\"Courier,monospace\" font-size=\"14.00\" text-anchor=\"middle\" x=\"2649.79\" y=\"-197.3\">[o-o]:0.5</text>\n",
       "<text font-family=\"Courier,monospace\" font-size=\"14.00\" text-anchor=\"middle\" x=\"2649.79\" y=\"-182.3\">[no edge]:0.5</text>\n",
       "</g>\n",
       "<!-- boneAbnormal -->\n",
       "<g class=\"node\" id=\"node19\"><title>boneAbnormal</title>\n",
       "<ellipse cx=\"1265.79\" cy=\"-267\" fill=\"none\" rx=\"78.7863\" ry=\"18\" stroke=\"black\"/>\n",
       "<text font-family=\"Times,serif\" font-size=\"14.00\" text-anchor=\"middle\" x=\"1265.79\" y=\"-263.3\">boneAbnormal</text>\n",
       "</g>\n",
       "<!-- boneAbnormal&#45;&gt;indentifier -->\n",
       "<g class=\"edge\" id=\"edge10\"><title>boneAbnormal-&gt;indentifier</title>\n",
       "<path d=\"M1265.79,-240.562C1265.79,-218.337 1265.79,-186.153 1265.79,-163.373\" fill=\"none\" stroke=\"black\"/>\n",
       "<ellipse cx=\"1265.79\" cy=\"-244.737\" fill=\"none\" rx=\"4\" ry=\"4\" stroke=\"black\"/>\n",
       "<polygon fill=\"black\" points=\"1269.29,-163.334 1265.79,-153.334 1262.29,-163.334 1269.29,-163.334\" stroke=\"black\"/>\n",
       "<text font-family=\"Courier,monospace\" font-size=\"14.00\" text-anchor=\"middle\" x=\"1385.79\" y=\"-212.3\">boneAbnormal - indentifier</text>\n",
       "<text font-family=\"Courier,monospace\" font-size=\"14.00\" text-anchor=\"middle\" x=\"1385.79\" y=\"-197.3\">[o-&gt;]:0.8333333333333334</text>\n",
       "<text font-family=\"Courier,monospace\" font-size=\"14.00\" text-anchor=\"middle\" x=\"1385.79\" y=\"-182.3\">[no edge]:0.16666666666666666</text>\n",
       "</g>\n",
       "<!-- class -->\n",
       "<g class=\"node\" id=\"node20\"><title>class</title>\n",
       "<ellipse cx=\"1528.79\" cy=\"-267\" fill=\"none\" rx=\"34.394\" ry=\"18\" stroke=\"black\"/>\n",
       "<text font-family=\"Times,serif\" font-size=\"14.00\" text-anchor=\"middle\" x=\"1528.79\" y=\"-263.3\">class</text>\n",
       "</g>\n",
       "<!-- class&#45;&gt;indentifier -->\n",
       "<g class=\"edge\" id=\"edge11\"><title>class-&gt;indentifier</title>\n",
       "<path d=\"M1530.23,-240.639C1529.97,-218.936 1525.82,-188.505 1506.79,-171 1482.33,-148.495 1396.99,-140.431 1334.79,-137.56\" fill=\"none\" stroke=\"black\"/>\n",
       "<ellipse cx=\"1530.19\" cy=\"-244.77\" fill=\"none\" rx=\"4\" ry=\"4\" stroke=\"black\"/>\n",
       "<polygon fill=\"black\" points=\"1334.77,-134.056 1324.63,-137.127 1334.47,-141.049 1334.77,-134.056\" stroke=\"black\"/>\n",
       "<text font-family=\"Courier,monospace\" font-size=\"14.00\" text-anchor=\"middle\" x=\"1649.79\" y=\"-212.3\">class - indentifier</text>\n",
       "<text font-family=\"Courier,monospace\" font-size=\"14.00\" text-anchor=\"middle\" x=\"1649.79\" y=\"-197.3\">[o-&gt;]:0.8333333333333334</text>\n",
       "<text font-family=\"Courier,monospace\" font-size=\"14.00\" text-anchor=\"middle\" x=\"1649.79\" y=\"-182.3\">[no edge]:0.16666666666666666</text>\n",
       "</g>\n",
       "<!-- history_buzzing -->\n",
       "<g class=\"node\" id=\"node21\"><title>history_buzzing</title>\n",
       "<ellipse cx=\"2833.79\" cy=\"-267\" fill=\"none\" rx=\"84.485\" ry=\"18\" stroke=\"black\"/>\n",
       "<text font-family=\"Times,serif\" font-size=\"14.00\" text-anchor=\"middle\" x=\"2833.79\" y=\"-263.3\">history_buzzing</text>\n",
       "</g>\n",
       "<!-- history_fullness -->\n",
       "<g class=\"node\" id=\"node22\"><title>history_fullness</title>\n",
       "<ellipse cx=\"2833.79\" cy=\"-135\" fill=\"none\" rx=\"84.485\" ry=\"18\" stroke=\"black\"/>\n",
       "<text font-family=\"Times,serif\" font-size=\"14.00\" text-anchor=\"middle\" x=\"2833.79\" y=\"-131.3\">history_fullness</text>\n",
       "</g>\n",
       "<!-- history_buzzing&#45;&gt;history_fullness -->\n",
       "<g class=\"edge\" id=\"edge12\"><title>history_buzzing-&gt;history_fullness</title>\n",
       "<path d=\"M2833.79,-240.562C2833.79,-217.733 2833.79,-184.398 2833.79,-161.539\" fill=\"none\" stroke=\"black\"/>\n",
       "<ellipse cx=\"2833.79\" cy=\"-244.737\" fill=\"none\" rx=\"4\" ry=\"4\" stroke=\"black\"/>\n",
       "<ellipse cx=\"2833.79\" cy=\"-157.334\" fill=\"none\" rx=\"4\" ry=\"4\" stroke=\"black\"/>\n",
       "<text font-family=\"Courier,monospace\" font-size=\"14.00\" text-anchor=\"middle\" x=\"2974.29\" y=\"-212.3\">history_buzzing - history_fullness</text>\n",
       "<text font-family=\"Courier,monospace\" font-size=\"14.00\" text-anchor=\"middle\" x=\"2974.29\" y=\"-197.3\">[o-o]:0.6666666666666666</text>\n",
       "<text font-family=\"Courier,monospace\" font-size=\"14.00\" text-anchor=\"middle\" x=\"2974.29\" y=\"-182.3\">[no edge]:0.3333333333333333</text>\n",
       "</g>\n",
       "<!-- history_recruitment -->\n",
       "<g class=\"node\" id=\"node24\"><title>history_recruitment</title>\n",
       "<ellipse cx=\"3137.79\" cy=\"-267\" fill=\"none\" rx=\"104.782\" ry=\"18\" stroke=\"black\"/>\n",
       "<text font-family=\"Times,serif\" font-size=\"14.00\" text-anchor=\"middle\" x=\"3137.79\" y=\"-263.3\">history_recruitment</text>\n",
       "</g>\n",
       "<!-- m_sn_gt_1k -->\n",
       "<g class=\"node\" id=\"node25\"><title>m_sn_gt_1k</title>\n",
       "<ellipse cx=\"3137.79\" cy=\"-135\" fill=\"none\" rx=\"66.0889\" ry=\"18\" stroke=\"black\"/>\n",
       "<text font-family=\"Times,serif\" font-size=\"14.00\" text-anchor=\"middle\" x=\"3137.79\" y=\"-131.3\">m_sn_gt_1k</text>\n",
       "</g>\n",
       "<!-- history_recruitment&#45;&gt;m_sn_gt_1k -->\n",
       "<g class=\"edge\" id=\"edge14\"><title>history_recruitment-&gt;m_sn_gt_1k</title>\n",
       "<path d=\"M3137.79,-240.562C3137.79,-217.733 3137.79,-184.398 3137.79,-161.539\" fill=\"none\" stroke=\"black\"/>\n",
       "<ellipse cx=\"3137.79\" cy=\"-244.737\" fill=\"none\" rx=\"4\" ry=\"4\" stroke=\"black\"/>\n",
       "<ellipse cx=\"3137.79\" cy=\"-157.334\" fill=\"none\" rx=\"4\" ry=\"4\" stroke=\"black\"/>\n",
       "<text font-family=\"Courier,monospace\" font-size=\"14.00\" text-anchor=\"middle\" x=\"3270.29\" y=\"-212.3\">history_recruitment - m_sn_gt_1k</text>\n",
       "<text font-family=\"Courier,monospace\" font-size=\"14.00\" text-anchor=\"middle\" x=\"3270.29\" y=\"-197.3\">[o-o]:0.5</text>\n",
       "<text font-family=\"Courier,monospace\" font-size=\"14.00\" text-anchor=\"middle\" x=\"3270.29\" y=\"-182.3\">[no edge]:0.5</text>\n",
       "</g>\n",
       "<!-- history_nausea -->\n",
       "<g class=\"node\" id=\"node26\"><title>history_nausea</title>\n",
       "<ellipse cx=\"3425.79\" cy=\"-267\" fill=\"none\" rx=\"81.4863\" ry=\"18\" stroke=\"black\"/>\n",
       "<text font-family=\"Times,serif\" font-size=\"14.00\" text-anchor=\"middle\" x=\"3425.79\" y=\"-263.3\">history_nausea</text>\n",
       "</g>\n",
       "<!-- history_roaring -->\n",
       "<g class=\"node\" id=\"node27\"><title>history_roaring</title>\n",
       "<ellipse cx=\"3425.79\" cy=\"-135\" fill=\"none\" rx=\"82.5854\" ry=\"18\" stroke=\"black\"/>\n",
       "<text font-family=\"Times,serif\" font-size=\"14.00\" text-anchor=\"middle\" x=\"3425.79\" y=\"-131.3\">history_roaring</text>\n",
       "</g>\n",
       "<!-- history_nausea&#45;&gt;history_roaring -->\n",
       "<g class=\"edge\" id=\"edge15\"><title>history_nausea-&gt;history_roaring</title>\n",
       "<path d=\"M3425.79,-240.562C3425.79,-217.733 3425.79,-184.398 3425.79,-161.539\" fill=\"none\" stroke=\"black\"/>\n",
       "<ellipse cx=\"3425.79\" cy=\"-244.737\" fill=\"none\" rx=\"4\" ry=\"4\" stroke=\"black\"/>\n",
       "<ellipse cx=\"3425.79\" cy=\"-157.334\" fill=\"none\" rx=\"4\" ry=\"4\" stroke=\"black\"/>\n",
       "<text font-family=\"Courier,monospace\" font-size=\"14.00\" text-anchor=\"middle\" x=\"3558.29\" y=\"-212.3\">history_nausea - history_roaring</text>\n",
       "<text font-family=\"Courier,monospace\" font-size=\"14.00\" text-anchor=\"middle\" x=\"3558.29\" y=\"-197.3\">[o-o]:0.8333333333333334</text>\n",
       "<text font-family=\"Courier,monospace\" font-size=\"14.00\" text-anchor=\"middle\" x=\"3558.29\" y=\"-182.3\">[no edge]:0.16666666666666666</text>\n",
       "</g>\n",
       "</g>\n",
       "</svg>"
      ],
      "text/plain": [
       "<IPython.core.display.SVG object>"
      ]
     },
     "execution_count": 9,
     "metadata": {},
     "output_type": "execute_result"
    }
   ],
   "source": [
    "import pydot\n",
    "from IPython.display import SVG\n",
    "dot_str = pc.tetradGraphToDot(tetrad.getTetradGraph())\n",
    "graphs = pydot.graph_from_dot_data(dot_str)\n",
    "svg_str = graphs[0].create_svg()\n",
    "SVG(svg_str)"
   ]
  },
  {
   "cell_type": "markdown",
   "metadata": {
    "collapsed": true
   },
   "source": [
    "#### Stop Java VM"
   ]
  },
  {
   "cell_type": "code",
   "execution_count": 10,
   "metadata": {},
   "outputs": [],
   "source": [
    "pc.stop_vm()"
   ]
  },
  {
   "cell_type": "code",
   "execution_count": null,
   "metadata": {},
   "outputs": [],
   "source": []
  }
 ],
 "metadata": {
  "kernelspec": {
   "display_name": "Python 3",
   "language": "python",
   "name": "python3"
  },
  "language_info": {
   "codemirror_mode": {
    "name": "ipython",
    "version": 3
   },
   "file_extension": ".py",
   "mimetype": "text/x-python",
   "name": "python",
   "nbconvert_exporter": "python",
   "pygments_lexer": "ipython3",
   "version": "3.5.4"
  },
  "widgets": {
   "state": {},
   "version": "1.1.1"
  }
 },
 "nbformat": 4,
 "nbformat_minor": 1
}
