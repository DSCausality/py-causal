{
 "cells": [
  {
   "cell_type": "code",
   "execution_count": 1,
   "metadata": {},
   "outputs": [],
   "source": [
    "import pandas as pd"
   ]
  },
  {
   "cell_type": "markdown",
   "metadata": {},
   "source": [
    "#### Load the example dataset"
   ]
  },
  {
   "cell_type": "code",
   "execution_count": 2,
   "metadata": {},
   "outputs": [],
   "source": [
    "data_dir = \"https://raw.githubusercontent.com/bd2kccd/py-causal/master/data/audiology.txt\"\n",
    "df = pd.read_table(data_dir, sep=\"\\t\")"
   ]
  },
  {
   "cell_type": "markdown",
   "metadata": {
    "collapsed": true
   },
   "source": [
    "#### Start Java VM"
   ]
  },
  {
   "cell_type": "code",
   "execution_count": 3,
   "metadata": {},
   "outputs": [],
   "source": [
    "from pycausal.pycausal import pycausal as pc\n",
    "pc = pc()\n",
    "pc.start_vm(java_max_heap_size = '500M')"
   ]
  },
  {
   "cell_type": "markdown",
   "metadata": {},
   "source": [
    "#### Create the Prior Knowledge Object"
   ]
  },
  {
   "cell_type": "code",
   "execution_count": 4,
   "metadata": {},
   "outputs": [
    {
     "data": {
      "text/plain": [
       "Instance of edu.cmu.tetrad.data.Knowledge2: /knowledge\n",
       "addtemporal\n",
       "\n",
       "0* class history_fluctuating history_noise \n",
       "\n",
       "forbiddirect\n",
       "\n",
       "history_fluctuating ==> class \n",
       "history_noise ==> class \n",
       "requiredirect\n"
      ]
     },
     "execution_count": 4,
     "metadata": {},
     "output_type": "execute_result"
    }
   ],
   "source": [
    "from pycausal import prior as p\n",
    "forbid = [['history_noise','class'],['history_fluctuating','class']]\n",
    "tempForbid = p.ForbiddenWithin(\n",
    "    ['class','history_fluctuating','history_noise'])\n",
    "temporal = [tempForbid]\n",
    "prior = p.knowledge(forbiddirect = forbid, addtemporal = temporal)\n",
    "prior"
   ]
  },
  {
   "cell_type": "markdown",
   "metadata": {
    "collapsed": true
   },
   "source": [
    "#### Load causal algorithms from the py-causal library and Run Bootstrapping RFCI Discrete"
   ]
  },
  {
   "cell_type": "code",
   "execution_count": 5,
   "metadata": {},
   "outputs": [
    {
     "name": "stdout",
     "output_type": "stream",
     "text": [
      "samplePrior: Sample prior (min = 1.0) (java.lang.Double) [default:1.0]\n",
      "structurePrior: Structure prior coefficient (min = 1.0) (java.lang.Double) [default:1.0]\n",
      "depth: Maximum size of conditioning set (unlimited = -1) (java.lang.Integer) [default:-1]\n",
      "maxPathLength: The maximum length for any discriminating path. -1 if unlimited (min = -1) (java.lang.Integer) [default:-1]\n",
      "completeRuleSetUsed: Yes if the complete FCI rule set should be used (java.lang.Boolean) [default:false]\n",
      "bootstrapSampleSize: The number of bootstraps (min = 0) (java.lang.Integer) [default:0]\n",
      "bootstrapEnsemble: Ensemble method: Preserved (0), Highest (1), Majority (2) (java.lang.Integer) [default:1]\n",
      "verbose: Yes if verbose output should be printed or logged (java.lang.Boolean) [default:false]\n"
     ]
    }
   ],
   "source": [
    "from pycausal import search as s\n",
    "tetrad = s.tetradrunner()\n",
    "tetrad.getAlgorithmParameters(algoId = 'rfci', testId = 'bdeu')"
   ]
  },
  {
   "cell_type": "code",
   "execution_count": 6,
   "metadata": {},
   "outputs": [],
   "source": [
    "tetrad.run(algoId = 'rfci', dfs = df, testId = 'bdeu', priorKnowledge = prior, dataType = 'discrete',\n",
    "           structurePrior = 1.0, samplePrior = 1.0, depth = 3, maxPathLength = -1, \n",
    "           completeRuleSetUsed = True, verbose = True,\n",
    "           bootstrapSampleSize = 4, bootstrapEnsemble = 0)"
   ]
  },
  {
   "cell_type": "markdown",
   "metadata": {
    "collapsed": true
   },
   "source": [
    "#### Bootstrapping RFCI Discrete's Result's Nodes"
   ]
  },
  {
   "cell_type": "code",
   "execution_count": 7,
   "metadata": {},
   "outputs": [
    {
     "data": {
      "text/plain": [
       "['age_gt_60',\n",
       " 'air',\n",
       " 'airBoneGap',\n",
       " 'ar_c',\n",
       " 'ar_u',\n",
       " 'bone',\n",
       " 'boneAbnormal',\n",
       " 'bser',\n",
       " 'class',\n",
       " 'history_buzzing',\n",
       " 'history_dizziness',\n",
       " 'history_fluctuating',\n",
       " 'history_fullness',\n",
       " 'history_heredity',\n",
       " 'history_nausea',\n",
       " 'history_noise',\n",
       " 'history_recruitment',\n",
       " 'history_ringing',\n",
       " 'history_roaring',\n",
       " 'history_vomiting',\n",
       " 'indentifier',\n",
       " 'late_wave_poor',\n",
       " 'm_at_2k',\n",
       " 'm_cond_lt_1k',\n",
       " 'm_gt_1k',\n",
       " 'm_m_gt_2k',\n",
       " 'm_m_sn',\n",
       " 'm_m_sn_gt_1k',\n",
       " 'm_m_sn_gt_2k',\n",
       " 'm_m_sn_gt_500',\n",
       " 'm_p_sn_gt_2k',\n",
       " 'm_s_gt_500',\n",
       " 'm_s_sn',\n",
       " 'm_s_sn_gt_1k',\n",
       " 'm_s_sn_gt_2k',\n",
       " 'm_s_sn_gt_3k',\n",
       " 'm_s_sn_gt_4k',\n",
       " 'm_sn_2_3k',\n",
       " 'm_sn_gt_1k',\n",
       " 'm_sn_gt_2k',\n",
       " 'm_sn_gt_3k',\n",
       " 'm_sn_gt_4k',\n",
       " 'm_sn_gt_500',\n",
       " 'm_sn_gt_6k',\n",
       " 'm_sn_lt_1k',\n",
       " 'm_sn_lt_2k',\n",
       " 'm_sn_lt_3k',\n",
       " 'middle_wave_poor',\n",
       " 'mod_gt_4k',\n",
       " 'mod_mixed',\n",
       " 'mod_s_mixed',\n",
       " 'mod_s_sn_gt_500',\n",
       " 'mod_sn',\n",
       " 'mod_sn_gt_1k',\n",
       " 'mod_sn_gt_2k',\n",
       " 'mod_sn_gt_3k',\n",
       " 'mod_sn_gt_4k',\n",
       " 'mod_sn_gt_500',\n",
       " 'notch_4k',\n",
       " 'notch_at_4k',\n",
       " 'o_ar_c',\n",
       " 'o_ar_u',\n",
       " 's_sn_gt_1k',\n",
       " 's_sn_gt_2k',\n",
       " 's_sn_gt_4k',\n",
       " 'speech',\n",
       " 'static_normal',\n",
       " 'tymp',\n",
       " 'viith_nerve_signs',\n",
       " 'wave_V_delayed',\n",
       " 'waveform_ItoV_prolonged']"
      ]
     },
     "execution_count": 7,
     "metadata": {},
     "output_type": "execute_result"
    }
   ],
   "source": [
    "tetrad.getNodes()"
   ]
  },
  {
   "cell_type": "markdown",
   "metadata": {},
   "source": [
    "#### Bootstrapping RFCI Discrete's Result's Edges"
   ]
  },
  {
   "cell_type": "code",
   "execution_count": 8,
   "metadata": {},
   "outputs": [
    {
     "data": {
      "text/plain": [
       "['history_dizziness o-o history_vomiting [history_dizziness o-o history_vomiting]:0.2500;[no edge]:0.7500;',\n",
       " 's_sn_gt_2k o-o static_normal [s_sn_gt_2k o-o static_normal]:0.2500;[no edge]:0.7500;',\n",
       " 'boneAbnormal o-> indentifier [boneAbnormal o-> indentifier]:0.5000;[no edge]:0.5000;',\n",
       " 'history_fluctuating o-o m_sn_lt_1k [history_fluctuating o-o m_sn_lt_1k]:1.0000;',\n",
       " 'history_nausea o-o history_roaring [history_nausea o-o history_roaring]:0.7500;[no edge]:0.2500;',\n",
       " 'history_heredity o-o s_sn_gt_2k [history_heredity o-o s_sn_gt_2k]:0.2500;[no edge]:0.7500;',\n",
       " 'speech o-> indentifier [indentifier <-o speech]:1.0000;',\n",
       " 'airBoneGap o-o tymp [airBoneGap o-o tymp]:0.2500;[no edge]:0.7500;',\n",
       " 'mod_s_sn_gt_500 o-o notch_4k [mod_s_sn_gt_500 o-o notch_4k]:0.2500;[no edge]:0.7500;',\n",
       " 'class o-> indentifier [class o-> indentifier]:1.0000;',\n",
       " 'history_dizziness o-o history_roaring [history_dizziness o-o history_roaring]:0.2500;[no edge]:0.7500;',\n",
       " 'bone o-> indentifier [bone o-> indentifier]:1.0000;',\n",
       " 'm_m_sn_gt_2k o-o notch_4k [m_m_sn_gt_2k o-o notch_4k]:0.2500;[no edge]:0.7500;',\n",
       " 'history_recruitment o-o m_sn_gt_1k [history_recruitment o-o m_sn_gt_1k]:0.2500;[no edge]:0.7500;',\n",
       " 'history_buzzing o-o history_fullness [history_buzzing o-o history_fullness]:0.2500;[no edge]:0.7500;']"
      ]
     },
     "execution_count": 8,
     "metadata": {},
     "output_type": "execute_result"
    }
   ],
   "source": [
    "tetrad.getEdges()"
   ]
  },
  {
   "cell_type": "markdown",
   "metadata": {},
   "source": [
    "#### Plot The Result's Graph"
   ]
  },
  {
   "cell_type": "code",
   "execution_count": 9,
   "metadata": {},
   "outputs": [
    {
     "data": {
      "image/svg+xml": [
       "<svg height=\"278pt\" viewBox=\"0.00 0.00 3356.04 278.00\" width=\"3356pt\" xmlns=\"http://www.w3.org/2000/svg\" xmlns:xlink=\"http://www.w3.org/1999/xlink\">\n",
       "<g class=\"graph\" id=\"graph0\" transform=\"scale(1 1) rotate(0) translate(4 274)\">\n",
       "<title>g</title>\n",
       "<polygon fill=\"white\" points=\"-4,4 -4,-274 3352.04,-274 3352.04,4 -4,4\" stroke=\"none\"/>\n",
       "<!-- history_dizziness -->\n",
       "<g class=\"node\" id=\"node1\"><title>history_dizziness</title>\n",
       "<ellipse cx=\"250.042\" cy=\"-252\" fill=\"none\" rx=\"90.9839\" ry=\"18\" stroke=\"black\"/>\n",
       "<text font-family=\"Times,serif\" font-size=\"14.00\" text-anchor=\"middle\" x=\"250.042\" y=\"-248.3\">history_dizziness</text>\n",
       "</g>\n",
       "<!-- history_vomiting -->\n",
       "<g class=\"node\" id=\"node2\"><title>history_vomiting</title>\n",
       "<ellipse cx=\"89.0421\" cy=\"-135\" fill=\"none\" rx=\"89.0842\" ry=\"18\" stroke=\"black\"/>\n",
       "<text font-family=\"Times,serif\" font-size=\"14.00\" text-anchor=\"middle\" x=\"89.0421\" y=\"-131.3\">history_vomiting</text>\n",
       "</g>\n",
       "<!-- history_dizziness&#45;&gt;history_vomiting -->\n",
       "<g class=\"edge\" id=\"edge1\"><title>history_dizziness-&gt;history_vomiting</title>\n",
       "<path d=\"M163.064,-241.685C130.947,-236.312 99.9387,-228.139 90.0421,-216 77.7478,-200.92 78.6085,-178.39 81.9089,-161.079\" fill=\"none\" stroke=\"black\"/>\n",
       "<ellipse cx=\"167.291\" cy=\"-242.36\" fill=\"none\" rx=\"4.00001\" ry=\"4.00001\" stroke=\"black\"/>\n",
       "<ellipse cx=\"82.8167\" cy=\"-156.961\" fill=\"none\" rx=\"4.00001\" ry=\"4.00001\" stroke=\"black\"/>\n",
       "<text font-family=\"Courier,monospace\" font-size=\"14.00\" text-anchor=\"middle\" x=\"239.042\" y=\"-204.8\">history_dizziness - history_vomiting</text>\n",
       "<text font-family=\"Courier,monospace\" font-size=\"14.00\" text-anchor=\"middle\" x=\"239.042\" y=\"-189.8\">[o-o]:0.25</text>\n",
       "<text font-family=\"Courier,monospace\" font-size=\"14.00\" text-anchor=\"middle\" x=\"239.042\" y=\"-174.8\">[no edge]:0.75</text>\n",
       "</g>\n",
       "<!-- history_roaring -->\n",
       "<g class=\"node\" id=\"node10\"><title>history_roaring</title>\n",
       "<ellipse cx=\"566.042\" cy=\"-135\" fill=\"none\" rx=\"82.5854\" ry=\"18\" stroke=\"black\"/>\n",
       "<text font-family=\"Times,serif\" font-size=\"14.00\" text-anchor=\"middle\" x=\"566.042\" y=\"-131.3\">history_roaring</text>\n",
       "</g>\n",
       "<!-- history_dizziness&#45;&gt;history_roaring -->\n",
       "<g class=\"edge\" id=\"edge11\"><title>history_dizziness-&gt;history_roaring</title>\n",
       "<path d=\"M338.183,-241.423C356.198,-236.141 373.935,-228.121 388.042,-216 404.508,-201.852 390.354,-184.885 407.042,-171 419.865,-160.33 454.666,-152.059 488.452,-146.243\" fill=\"none\" stroke=\"black\"/>\n",
       "<ellipse cx=\"334.315\" cy=\"-242.474\" fill=\"none\" rx=\"4.00001\" ry=\"4.00001\" stroke=\"black\"/>\n",
       "<ellipse cx=\"492.601\" cy=\"-145.55\" fill=\"none\" rx=\"4.00001\" ry=\"4.00001\" stroke=\"black\"/>\n",
       "<text font-family=\"Courier,monospace\" font-size=\"14.00\" text-anchor=\"middle\" x=\"551.542\" y=\"-204.8\">history_dizziness - history_roaring</text>\n",
       "<text font-family=\"Courier,monospace\" font-size=\"14.00\" text-anchor=\"middle\" x=\"551.542\" y=\"-189.8\">[o-o]:0.25</text>\n",
       "<text font-family=\"Courier,monospace\" font-size=\"14.00\" text-anchor=\"middle\" x=\"551.542\" y=\"-174.8\">[no edge]:0.75</text>\n",
       "</g>\n",
       "<!-- s_sn_gt_2k -->\n",
       "<g class=\"node\" id=\"node3\"><title>s_sn_gt_2k</title>\n",
       "<ellipse cx=\"1010.04\" cy=\"-135\" fill=\"none\" rx=\"62.2891\" ry=\"18\" stroke=\"black\"/>\n",
       "<text font-family=\"Times,serif\" font-size=\"14.00\" text-anchor=\"middle\" x=\"1010.04\" y=\"-131.3\">s_sn_gt_2k</text>\n",
       "</g>\n",
       "<!-- static_normal -->\n",
       "<g class=\"node\" id=\"node4\"><title>static_normal</title>\n",
       "<ellipse cx=\"1010.04\" cy=\"-18\" fill=\"none\" rx=\"74.9875\" ry=\"18\" stroke=\"black\"/>\n",
       "<text font-family=\"Times,serif\" font-size=\"14.00\" text-anchor=\"middle\" x=\"1010.04\" y=\"-14.3\">static_normal</text>\n",
       "</g>\n",
       "<!-- s_sn_gt_2k&#45;&gt;static_normal -->\n",
       "<g class=\"edge\" id=\"edge2\"><title>s_sn_gt_2k-&gt;static_normal</title>\n",
       "<path d=\"M1010.04,-108.315C1010.04,-89.2715 1010.04,-63.4327 1010.04,-44.446\" fill=\"none\" stroke=\"black\"/>\n",
       "<ellipse cx=\"1010.04\" cy=\"-112.534\" fill=\"none\" rx=\"4\" ry=\"4\" stroke=\"black\"/>\n",
       "<ellipse cx=\"1010.04\" cy=\"-40.2536\" fill=\"none\" rx=\"4\" ry=\"4\" stroke=\"black\"/>\n",
       "<text font-family=\"Courier,monospace\" font-size=\"14.00\" text-anchor=\"middle\" x=\"1117.54\" y=\"-87.8\">s_sn_gt_2k - static_normal</text>\n",
       "<text font-family=\"Courier,monospace\" font-size=\"14.00\" text-anchor=\"middle\" x=\"1117.54\" y=\"-72.8\">[o-o]:0.25</text>\n",
       "<text font-family=\"Courier,monospace\" font-size=\"14.00\" text-anchor=\"middle\" x=\"1117.54\" y=\"-57.8\">[no edge]:0.75</text>\n",
       "</g>\n",
       "<!-- boneAbnormal -->\n",
       "<g class=\"node\" id=\"node5\"><title>boneAbnormal</title>\n",
       "<ellipse cx=\"1273.04\" cy=\"-252\" fill=\"none\" rx=\"78.7863\" ry=\"18\" stroke=\"black\"/>\n",
       "<text font-family=\"Times,serif\" font-size=\"14.00\" text-anchor=\"middle\" x=\"1273.04\" y=\"-248.3\">boneAbnormal</text>\n",
       "</g>\n",
       "<!-- indentifier -->\n",
       "<g class=\"node\" id=\"node6\"><title>indentifier</title>\n",
       "<ellipse cx=\"1511.04\" cy=\"-135\" fill=\"none\" rx=\"59.2899\" ry=\"18\" stroke=\"black\"/>\n",
       "<text font-family=\"Times,serif\" font-size=\"14.00\" text-anchor=\"middle\" x=\"1511.04\" y=\"-131.3\">indentifier</text>\n",
       "</g>\n",
       "<!-- boneAbnormal&#45;&gt;indentifier -->\n",
       "<g class=\"edge\" id=\"edge3\"><title>boneAbnormal-&gt;indentifier</title>\n",
       "<path d=\"M1272.15,-225.663C1272.97,-207.828 1277.2,-184.769 1292.04,-171 1313.46,-151.121 1386.49,-142.511 1442.38,-138.795\" fill=\"none\" stroke=\"black\"/>\n",
       "<ellipse cx=\"1272.07\" cy=\"-229.935\" fill=\"none\" rx=\"4\" ry=\"4\" stroke=\"black\"/>\n",
       "<polygon fill=\"black\" points=\"1442.84,-142.273 1452.6,-138.157 1442.4,-135.287 1442.84,-142.273\" stroke=\"black\"/>\n",
       "<text font-family=\"Courier,monospace\" font-size=\"14.00\" text-anchor=\"middle\" x=\"1399.54\" y=\"-204.8\">boneAbnormal - indentifier</text>\n",
       "<text font-family=\"Courier,monospace\" font-size=\"14.00\" text-anchor=\"middle\" x=\"1399.54\" y=\"-189.8\">[o-&gt;]:0.5</text>\n",
       "<text font-family=\"Courier,monospace\" font-size=\"14.00\" text-anchor=\"middle\" x=\"1399.54\" y=\"-174.8\">[no edge]:0.5</text>\n",
       "</g>\n",
       "<!-- speech -->\n",
       "<g class=\"node\" id=\"node12\"><title>speech</title>\n",
       "<ellipse cx=\"1511.04\" cy=\"-18\" fill=\"none\" rx=\"43.5923\" ry=\"18\" stroke=\"black\"/>\n",
       "<text font-family=\"Times,serif\" font-size=\"14.00\" text-anchor=\"middle\" x=\"1511.04\" y=\"-14.3\">speech</text>\n",
       "</g>\n",
       "<!-- indentifier&#45;&gt;speech -->\n",
       "<g class=\"edge\" id=\"edge7\"><title>indentifier-&gt;speech</title>\n",
       "<path d=\"M1511.04,-106.249C1511.04,-87.5122 1511.04,-62.9585 1511.04,-44.6734\" fill=\"none\" stroke=\"black\"/>\n",
       "<polygon fill=\"black\" points=\"1507.54,-106.534 1511.04,-116.534 1514.54,-106.534 1507.54,-106.534\" stroke=\"black\"/>\n",
       "<ellipse cx=\"1511.04\" cy=\"-40.2536\" fill=\"none\" rx=\"4\" ry=\"4\" stroke=\"black\"/>\n",
       "<text font-family=\"Courier,monospace\" font-size=\"14.00\" text-anchor=\"middle\" x=\"1594.04\" y=\"-80.3\">indentifier - speech</text>\n",
       "<text font-family=\"Courier,monospace\" font-size=\"14.00\" text-anchor=\"middle\" x=\"1594.04\" y=\"-65.3\">[&lt;-o]:1.0</text>\n",
       "</g>\n",
       "<!-- history_fluctuating -->\n",
       "<g class=\"node\" id=\"node7\"><title>history_fluctuating</title>\n",
       "<ellipse cx=\"1863.04\" cy=\"-252\" fill=\"none\" rx=\"98.5829\" ry=\"18\" stroke=\"black\"/>\n",
       "<text font-family=\"Times,serif\" font-size=\"14.00\" text-anchor=\"middle\" x=\"1863.04\" y=\"-248.3\">history_fluctuating</text>\n",
       "</g>\n",
       "<!-- m_sn_lt_1k -->\n",
       "<g class=\"node\" id=\"node8\"><title>m_sn_lt_1k</title>\n",
       "<ellipse cx=\"1863.04\" cy=\"-135\" fill=\"none\" rx=\"63.8893\" ry=\"18\" stroke=\"black\"/>\n",
       "<text font-family=\"Times,serif\" font-size=\"14.00\" text-anchor=\"middle\" x=\"1863.04\" y=\"-131.3\">m_sn_lt_1k</text>\n",
       "</g>\n",
       "<!-- history_fluctuating&#45;&gt;m_sn_lt_1k -->\n",
       "<g class=\"edge\" id=\"edge4\"><title>history_fluctuating-&gt;m_sn_lt_1k</title>\n",
       "<path d=\"M1863.04,-225.315C1863.04,-206.272 1863.04,-180.433 1863.04,-161.446\" fill=\"none\" stroke=\"black\"/>\n",
       "<ellipse cx=\"1863.04\" cy=\"-229.534\" fill=\"none\" rx=\"4\" ry=\"4\" stroke=\"black\"/>\n",
       "<ellipse cx=\"1863.04\" cy=\"-157.254\" fill=\"none\" rx=\"4\" ry=\"4\" stroke=\"black\"/>\n",
       "<text font-family=\"Courier,monospace\" font-size=\"14.00\" text-anchor=\"middle\" x=\"1995.54\" y=\"-197.3\">history_fluctuating - m_sn_lt_1k</text>\n",
       "<text font-family=\"Courier,monospace\" font-size=\"14.00\" text-anchor=\"middle\" x=\"1995.54\" y=\"-182.3\">[o-o]:1.0</text>\n",
       "</g>\n",
       "<!-- history_nausea -->\n",
       "<g class=\"node\" id=\"node9\"><title>history_nausea</title>\n",
       "<ellipse cx=\"722.042\" cy=\"-252\" fill=\"none\" rx=\"81.4863\" ry=\"18\" stroke=\"black\"/>\n",
       "<text font-family=\"Times,serif\" font-size=\"14.00\" text-anchor=\"middle\" x=\"722.042\" y=\"-248.3\">history_nausea</text>\n",
       "</g>\n",
       "<!-- history_nausea&#45;&gt;history_roaring -->\n",
       "<g class=\"edge\" id=\"edge5\"><title>history_nausea-&gt;history_roaring</title>\n",
       "<path d=\"M721.46,-225.688C719.697,-208.068 714.489,-185.262 700.042,-171 686.567,-157.697 668.702,-149.267 650.423,-143.97\" fill=\"none\" stroke=\"black\"/>\n",
       "<ellipse cx=\"721.774\" cy=\"-229.872\" fill=\"none\" rx=\"4\" ry=\"4\" stroke=\"black\"/>\n",
       "<ellipse cx=\"646.442\" cy=\"-142.913\" fill=\"none\" rx=\"4.00001\" ry=\"4.00001\" stroke=\"black\"/>\n",
       "<text font-family=\"Courier,monospace\" font-size=\"14.00\" text-anchor=\"middle\" x=\"852.542\" y=\"-204.8\">history_nausea - history_roaring</text>\n",
       "<text font-family=\"Courier,monospace\" font-size=\"14.00\" text-anchor=\"middle\" x=\"852.542\" y=\"-189.8\">[o-o]:0.75</text>\n",
       "<text font-family=\"Courier,monospace\" font-size=\"14.00\" text-anchor=\"middle\" x=\"852.542\" y=\"-174.8\">[no edge]:0.25</text>\n",
       "</g>\n",
       "<!-- history_heredity -->\n",
       "<g class=\"node\" id=\"node11\"><title>history_heredity</title>\n",
       "<ellipse cx=\"1010.04\" cy=\"-252\" fill=\"none\" rx=\"87.1846\" ry=\"18\" stroke=\"black\"/>\n",
       "<text font-family=\"Times,serif\" font-size=\"14.00\" text-anchor=\"middle\" x=\"1010.04\" y=\"-248.3\">history_heredity</text>\n",
       "</g>\n",
       "<!-- history_heredity&#45;&gt;s_sn_gt_2k -->\n",
       "<g class=\"edge\" id=\"edge6\"><title>history_heredity-&gt;s_sn_gt_2k</title>\n",
       "<path d=\"M1010.04,-225.315C1010.04,-206.272 1010.04,-180.433 1010.04,-161.446\" fill=\"none\" stroke=\"black\"/>\n",
       "<ellipse cx=\"1010.04\" cy=\"-229.534\" fill=\"none\" rx=\"4\" ry=\"4\" stroke=\"black\"/>\n",
       "<ellipse cx=\"1010.04\" cy=\"-157.254\" fill=\"none\" rx=\"4\" ry=\"4\" stroke=\"black\"/>\n",
       "<text font-family=\"Courier,monospace\" font-size=\"14.00\" text-anchor=\"middle\" x=\"1130.04\" y=\"-204.8\">history_heredity - s_sn_gt_2k</text>\n",
       "<text font-family=\"Courier,monospace\" font-size=\"14.00\" text-anchor=\"middle\" x=\"1130.04\" y=\"-189.8\">[o-o]:0.25</text>\n",
       "<text font-family=\"Courier,monospace\" font-size=\"14.00\" text-anchor=\"middle\" x=\"1130.04\" y=\"-174.8\">[no edge]:0.75</text>\n",
       "</g>\n",
       "<!-- airBoneGap -->\n",
       "<g class=\"node\" id=\"node13\"><title>airBoneGap</title>\n",
       "<ellipse cx=\"2151.04\" cy=\"-252\" fill=\"none\" rx=\"65.7887\" ry=\"18\" stroke=\"black\"/>\n",
       "<text font-family=\"Times,serif\" font-size=\"14.00\" text-anchor=\"middle\" x=\"2151.04\" y=\"-248.3\">airBoneGap</text>\n",
       "</g>\n",
       "<!-- tymp -->\n",
       "<g class=\"node\" id=\"node14\"><title>tymp</title>\n",
       "<ellipse cx=\"2151.04\" cy=\"-135\" fill=\"none\" rx=\"34.394\" ry=\"18\" stroke=\"black\"/>\n",
       "<text font-family=\"Times,serif\" font-size=\"14.00\" text-anchor=\"middle\" x=\"2151.04\" y=\"-131.3\">tymp</text>\n",
       "</g>\n",
       "<!-- airBoneGap&#45;&gt;tymp -->\n",
       "<g class=\"edge\" id=\"edge8\"><title>airBoneGap-&gt;tymp</title>\n",
       "<path d=\"M2151.04,-225.315C2151.04,-206.272 2151.04,-180.433 2151.04,-161.446\" fill=\"none\" stroke=\"black\"/>\n",
       "<ellipse cx=\"2151.04\" cy=\"-229.534\" fill=\"none\" rx=\"4\" ry=\"4\" stroke=\"black\"/>\n",
       "<ellipse cx=\"2151.04\" cy=\"-157.254\" fill=\"none\" rx=\"4\" ry=\"4\" stroke=\"black\"/>\n",
       "<text font-family=\"Courier,monospace\" font-size=\"14.00\" text-anchor=\"middle\" x=\"2221.54\" y=\"-204.8\">airBoneGap - tymp</text>\n",
       "<text font-family=\"Courier,monospace\" font-size=\"14.00\" text-anchor=\"middle\" x=\"2221.54\" y=\"-189.8\">[o-o]:0.25</text>\n",
       "<text font-family=\"Courier,monospace\" font-size=\"14.00\" text-anchor=\"middle\" x=\"2221.54\" y=\"-174.8\">[no edge]:0.75</text>\n",
       "</g>\n",
       "<!-- mod_s_sn_gt_500 -->\n",
       "<g class=\"node\" id=\"node15\"><title>mod_s_sn_gt_500</title>\n",
       "<ellipse cx=\"2328.04\" cy=\"-252\" fill=\"none\" rx=\"92.8835\" ry=\"18\" stroke=\"black\"/>\n",
       "<text font-family=\"Times,serif\" font-size=\"14.00\" text-anchor=\"middle\" x=\"2328.04\" y=\"-248.3\">mod_s_sn_gt_500</text>\n",
       "</g>\n",
       "<!-- notch_4k -->\n",
       "<g class=\"node\" id=\"node16\"><title>notch_4k</title>\n",
       "<ellipse cx=\"2447.04\" cy=\"-135\" fill=\"none\" rx=\"53.8905\" ry=\"18\" stroke=\"black\"/>\n",
       "<text font-family=\"Times,serif\" font-size=\"14.00\" text-anchor=\"middle\" x=\"2447.04\" y=\"-131.3\">notch_4k</text>\n",
       "</g>\n",
       "<!-- mod_s_sn_gt_500&#45;&gt;notch_4k -->\n",
       "<g class=\"edge\" id=\"edge9\"><title>mod_s_sn_gt_500-&gt;notch_4k</title>\n",
       "<path d=\"M2321.19,-225.874C2318.1,-208.731 2317.38,-186.424 2329.04,-171 2342.41,-153.318 2364.33,-144.219 2385.66,-139.651\" fill=\"none\" stroke=\"black\"/>\n",
       "<ellipse cx=\"2322.04\" cy=\"-229.907\" fill=\"none\" rx=\"4.00001\" ry=\"4.00001\" stroke=\"black\"/>\n",
       "<ellipse cx=\"2389.86\" cy=\"-138.857\" fill=\"none\" rx=\"4.00001\" ry=\"4.00001\" stroke=\"black\"/>\n",
       "<text font-family=\"Courier,monospace\" font-size=\"14.00\" text-anchor=\"middle\" x=\"2436.54\" y=\"-204.8\">mod_s_sn_gt_500 - notch_4k</text>\n",
       "<text font-family=\"Courier,monospace\" font-size=\"14.00\" text-anchor=\"middle\" x=\"2436.54\" y=\"-189.8\">[o-o]:0.25</text>\n",
       "<text font-family=\"Courier,monospace\" font-size=\"14.00\" text-anchor=\"middle\" x=\"2436.54\" y=\"-174.8\">[no edge]:0.75</text>\n",
       "</g>\n",
       "<!-- class -->\n",
       "<g class=\"node\" id=\"node17\"><title>class</title>\n",
       "<ellipse cx=\"1511.04\" cy=\"-252\" fill=\"none\" rx=\"34.394\" ry=\"18\" stroke=\"black\"/>\n",
       "<text font-family=\"Times,serif\" font-size=\"14.00\" text-anchor=\"middle\" x=\"1511.04\" y=\"-248.3\">class</text>\n",
       "</g>\n",
       "<!-- class&#45;&gt;indentifier -->\n",
       "<g class=\"edge\" id=\"edge10\"><title>class-&gt;indentifier</title>\n",
       "<path d=\"M1511.04,-225.315C1511.04,-206.872 1511.04,-182.055 1511.04,-163.262\" fill=\"none\" stroke=\"black\"/>\n",
       "<ellipse cx=\"1511.04\" cy=\"-229.534\" fill=\"none\" rx=\"4\" ry=\"4\" stroke=\"black\"/>\n",
       "<polygon fill=\"black\" points=\"1514.54,-163.254 1511.04,-153.254 1507.54,-163.254 1514.54,-163.254\" stroke=\"black\"/>\n",
       "<text font-family=\"Courier,monospace\" font-size=\"14.00\" text-anchor=\"middle\" x=\"1589.54\" y=\"-197.3\">class - indentifier</text>\n",
       "<text font-family=\"Courier,monospace\" font-size=\"14.00\" text-anchor=\"middle\" x=\"1589.54\" y=\"-182.3\">[o-&gt;]:1.0</text>\n",
       "</g>\n",
       "<!-- bone -->\n",
       "<g class=\"node\" id=\"node18\"><title>bone</title>\n",
       "<ellipse cx=\"1691.04\" cy=\"-252\" fill=\"none\" rx=\"33.2948\" ry=\"18\" stroke=\"black\"/>\n",
       "<text font-family=\"Times,serif\" font-size=\"14.00\" text-anchor=\"middle\" x=\"1691.04\" y=\"-248.3\">bone</text>\n",
       "</g>\n",
       "<!-- bone&#45;&gt;indentifier -->\n",
       "<g class=\"edge\" id=\"edge12\"><title>bone-&gt;indentifier</title>\n",
       "<path d=\"M1690.62,-225.522C1688.94,-207.823 1683.75,-184.989 1669.04,-171 1655.44,-158.071 1613.03,-149.106 1575.56,-143.488\" fill=\"none\" stroke=\"black\"/>\n",
       "<ellipse cx=\"1690.92\" cy=\"-229.747\" fill=\"none\" rx=\"4\" ry=\"4\" stroke=\"black\"/>\n",
       "<polygon fill=\"black\" points=\"1576.06,-140.023 1565.66,-142.061 1575.06,-146.951 1576.06,-140.023\" stroke=\"black\"/>\n",
       "<text font-family=\"Courier,monospace\" font-size=\"14.00\" text-anchor=\"middle\" x=\"1764.54\" y=\"-197.3\">bone - indentifier</text>\n",
       "<text font-family=\"Courier,monospace\" font-size=\"14.00\" text-anchor=\"middle\" x=\"1764.54\" y=\"-182.3\">[o-&gt;]:1.0</text>\n",
       "</g>\n",
       "<!-- m_m_sn_gt_2k -->\n",
       "<g class=\"node\" id=\"node19\"><title>m_m_sn_gt_2k</title>\n",
       "<ellipse cx=\"2566.04\" cy=\"-252\" fill=\"none\" rx=\"79.8859\" ry=\"18\" stroke=\"black\"/>\n",
       "<text font-family=\"Times,serif\" font-size=\"14.00\" text-anchor=\"middle\" x=\"2566.04\" y=\"-248.3\">m_m_sn_gt_2k</text>\n",
       "</g>\n",
       "<!-- m_m_sn_gt_2k&#45;&gt;notch_4k -->\n",
       "<g class=\"edge\" id=\"edge13\"><title>m_m_sn_gt_2k-&gt;notch_4k</title>\n",
       "<path d=\"M2565.02,-225.757C2563.04,-208.367 2557.74,-185.813 2544.04,-171 2533.07,-159.137 2517.77,-151.288 2502.57,-146.097\" fill=\"none\" stroke=\"black\"/>\n",
       "<ellipse cx=\"2565.39\" cy=\"-229.838\" fill=\"none\" rx=\"4\" ry=\"4\" stroke=\"black\"/>\n",
       "<ellipse cx=\"2498.47\" cy=\"-144.813\" fill=\"none\" rx=\"4.00001\" ry=\"4.00001\" stroke=\"black\"/>\n",
       "<text font-family=\"Courier,monospace\" font-size=\"14.00\" text-anchor=\"middle\" x=\"2659.04\" y=\"-204.8\">m_m_sn_gt_2k - notch_4k</text>\n",
       "<text font-family=\"Courier,monospace\" font-size=\"14.00\" text-anchor=\"middle\" x=\"2659.04\" y=\"-189.8\">[o-o]:0.25</text>\n",
       "<text font-family=\"Courier,monospace\" font-size=\"14.00\" text-anchor=\"middle\" x=\"2659.04\" y=\"-174.8\">[no edge]:0.75</text>\n",
       "</g>\n",
       "<!-- history_recruitment -->\n",
       "<g class=\"node\" id=\"node20\"><title>history_recruitment</title>\n",
       "<ellipse cx=\"2779.04\" cy=\"-252\" fill=\"none\" rx=\"104.782\" ry=\"18\" stroke=\"black\"/>\n",
       "<text font-family=\"Times,serif\" font-size=\"14.00\" text-anchor=\"middle\" x=\"2779.04\" y=\"-248.3\">history_recruitment</text>\n",
       "</g>\n",
       "<!-- m_sn_gt_1k -->\n",
       "<g class=\"node\" id=\"node21\"><title>m_sn_gt_1k</title>\n",
       "<ellipse cx=\"2779.04\" cy=\"-135\" fill=\"none\" rx=\"66.0889\" ry=\"18\" stroke=\"black\"/>\n",
       "<text font-family=\"Times,serif\" font-size=\"14.00\" text-anchor=\"middle\" x=\"2779.04\" y=\"-131.3\">m_sn_gt_1k</text>\n",
       "</g>\n",
       "<!-- history_recruitment&#45;&gt;m_sn_gt_1k -->\n",
       "<g class=\"edge\" id=\"edge14\"><title>history_recruitment-&gt;m_sn_gt_1k</title>\n",
       "<path d=\"M2779.04,-225.315C2779.04,-206.272 2779.04,-180.433 2779.04,-161.446\" fill=\"none\" stroke=\"black\"/>\n",
       "<ellipse cx=\"2779.04\" cy=\"-229.534\" fill=\"none\" rx=\"4\" ry=\"4\" stroke=\"black\"/>\n",
       "<ellipse cx=\"2779.04\" cy=\"-157.254\" fill=\"none\" rx=\"4\" ry=\"4\" stroke=\"black\"/>\n",
       "<text font-family=\"Courier,monospace\" font-size=\"14.00\" text-anchor=\"middle\" x=\"2911.54\" y=\"-204.8\">history_recruitment - m_sn_gt_1k</text>\n",
       "<text font-family=\"Courier,monospace\" font-size=\"14.00\" text-anchor=\"middle\" x=\"2911.54\" y=\"-189.8\">[o-o]:0.25</text>\n",
       "<text font-family=\"Courier,monospace\" font-size=\"14.00\" text-anchor=\"middle\" x=\"2911.54\" y=\"-174.8\">[no edge]:0.75</text>\n",
       "</g>\n",
       "<!-- history_buzzing -->\n",
       "<g class=\"node\" id=\"node22\"><title>history_buzzing</title>\n",
       "<ellipse cx=\"3067.04\" cy=\"-252\" fill=\"none\" rx=\"84.485\" ry=\"18\" stroke=\"black\"/>\n",
       "<text font-family=\"Times,serif\" font-size=\"14.00\" text-anchor=\"middle\" x=\"3067.04\" y=\"-248.3\">history_buzzing</text>\n",
       "</g>\n",
       "<!-- history_fullness -->\n",
       "<g class=\"node\" id=\"node23\"><title>history_fullness</title>\n",
       "<ellipse cx=\"3067.04\" cy=\"-135\" fill=\"none\" rx=\"84.485\" ry=\"18\" stroke=\"black\"/>\n",
       "<text font-family=\"Times,serif\" font-size=\"14.00\" text-anchor=\"middle\" x=\"3067.04\" y=\"-131.3\">history_fullness</text>\n",
       "</g>\n",
       "<!-- history_buzzing&#45;&gt;history_fullness -->\n",
       "<g class=\"edge\" id=\"edge15\"><title>history_buzzing-&gt;history_fullness</title>\n",
       "<path d=\"M3067.04,-225.315C3067.04,-206.272 3067.04,-180.433 3067.04,-161.446\" fill=\"none\" stroke=\"black\"/>\n",
       "<ellipse cx=\"3067.04\" cy=\"-229.534\" fill=\"none\" rx=\"4\" ry=\"4\" stroke=\"black\"/>\n",
       "<ellipse cx=\"3067.04\" cy=\"-157.254\" fill=\"none\" rx=\"4\" ry=\"4\" stroke=\"black\"/>\n",
       "<text font-family=\"Courier,monospace\" font-size=\"14.00\" text-anchor=\"middle\" x=\"3207.54\" y=\"-204.8\">history_buzzing - history_fullness</text>\n",
       "<text font-family=\"Courier,monospace\" font-size=\"14.00\" text-anchor=\"middle\" x=\"3207.54\" y=\"-189.8\">[o-o]:0.25</text>\n",
       "<text font-family=\"Courier,monospace\" font-size=\"14.00\" text-anchor=\"middle\" x=\"3207.54\" y=\"-174.8\">[no edge]:0.75</text>\n",
       "</g>\n",
       "</g>\n",
       "</svg>"
      ],
      "text/plain": [
       "<IPython.core.display.SVG object>"
      ]
     },
     "execution_count": 9,
     "metadata": {},
     "output_type": "execute_result"
    }
   ],
   "source": [
    "import pydot\n",
    "from IPython.display import SVG\n",
    "dot_str = pc.tetradGraphToDot(tetrad.getTetradGraph())\n",
    "graphs = pydot.graph_from_dot_data(dot_str)\n",
    "svg_str = graphs[0].create_svg()\n",
    "SVG(svg_str)"
   ]
  },
  {
   "cell_type": "markdown",
   "metadata": {
    "collapsed": true
   },
   "source": [
    "#### Stop Java VM"
   ]
  },
  {
   "cell_type": "code",
   "execution_count": 10,
   "metadata": {},
   "outputs": [],
   "source": [
    "pc.stop_vm()"
   ]
  },
  {
   "cell_type": "code",
   "execution_count": null,
   "metadata": {
    "collapsed": true
   },
   "outputs": [],
   "source": []
  }
 ],
 "metadata": {
  "kernelspec": {
   "display_name": "Python 3",
   "language": "python",
   "name": "python3"
  },
  "language_info": {
   "codemirror_mode": {
    "name": "ipython",
    "version": 3
   },
   "file_extension": ".py",
   "mimetype": "text/x-python",
   "name": "python",
   "nbconvert_exporter": "python",
   "pygments_lexer": "ipython3",
   "version": "3.5.4"
  },
  "widgets": {
   "state": {},
   "version": "1.1.1"
  }
 },
 "nbformat": 4,
 "nbformat_minor": 1
}
