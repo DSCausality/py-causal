{
 "cells": [
  {
   "cell_type": "code",
   "execution_count": 1,
   "metadata": {},
   "outputs": [],
   "source": [
    "import pandas as pd"
   ]
  },
  {
   "cell_type": "markdown",
   "metadata": {},
   "source": [
    "#### Load the example dataset"
   ]
  },
  {
   "cell_type": "code",
   "execution_count": 2,
   "metadata": {},
   "outputs": [],
   "source": [
    "data_dir = \"https://raw.githubusercontent.com/bd2kccd/py-causal/master/data/audiology.txt\"\n",
    "df = pd.read_table(data_dir, sep=\"\\t\")"
   ]
  },
  {
   "cell_type": "markdown",
   "metadata": {
    "collapsed": true
   },
   "source": [
    "#### Start Java VM"
   ]
  },
  {
   "cell_type": "code",
   "execution_count": 3,
   "metadata": {},
   "outputs": [],
   "source": [
    "from pycausal.pycausal import pycausal as pc\n",
    "pc = pc()\n",
    "pc.start_vm(java_max_heap_size = '500M')"
   ]
  },
  {
   "cell_type": "markdown",
   "metadata": {},
   "source": [
    "#### Create the Prior Knowledge Object"
   ]
  },
  {
   "cell_type": "code",
   "execution_count": 4,
   "metadata": {},
   "outputs": [
    {
     "data": {
      "text/plain": [
       "Instance of edu.cmu.tetrad.data.Knowledge2: /knowledge\n",
       "addtemporal\n",
       "\n",
       "1*  class history_fluctuating history_noise\n",
       "\n",
       "forbiddirect\n",
       "\n",
       "requiredirect"
      ]
     },
     "execution_count": 4,
     "metadata": {},
     "output_type": "execute_result"
    }
   ],
   "source": [
    "from pycausal import prior as p\n",
    "forbid = [['history_noise','class'],['history_fluctuating','class']]\n",
    "tempForbid = p.ForbiddenWithin(\n",
    "    ['class','history_fluctuating','history_noise'])\n",
    "temporal = [tempForbid]\n",
    "prior = p.knowledge(forbiddirect = forbid, addtemporal = temporal)\n",
    "prior"
   ]
  },
  {
   "cell_type": "markdown",
   "metadata": {
    "collapsed": true
   },
   "source": [
    "#### Load causal algorithms from the py-causal library and Run Bootstrapping RFCI Discrete"
   ]
  },
  {
   "cell_type": "code",
   "execution_count": 5,
   "metadata": {},
   "outputs": [
    {
     "name": "stdout",
     "output_type": "stream",
     "text": [
      "bdeu-test\n",
      "cci-test\n",
      "cg-lr-test\n",
      "chi-square-test\n",
      "d-sep-test\n",
      "disc-bic-test\n",
      "fisher-z-test\n",
      "g-square-test\n",
      "kci-test\n",
      "mnlrlr-test\n",
      "mvplr-test\n",
      "prob-test\n"
     ]
    }
   ],
   "source": [
    "from pycausal import search as s\n",
    "tetrad = s.tetradrunner()\n",
    "tetrad.listIndTests()"
   ]
  },
  {
   "cell_type": "code",
   "execution_count": 6,
   "metadata": {},
   "outputs": [
    {
     "name": "stdout",
     "output_type": "stream",
     "text": [
      "depth: This variable is usually called “depth” for algorithms such as PC in which conditioning sets are considered of increasing size from zero up to some limit, called “depth”. For example, if depth = 3, conditioning sets will be considered of sizes 0, 1, 2, and 3. In order to express that no limit should be imposed, use the value -1. (java.lang.Integer) [default:-1]\n",
      "maxPathLength: See Spirtes, Glymour, and Scheines (2000), Causation, Prediction, and Search for the definition of discrimination path. Finding discriminating paths can be expensive. This sets the maximum length of such paths that the algorithm tries to find. (java.lang.Integer) [default:-1]\n",
      "completeRuleSetUsed: For the FCI algorithm, to final orientation rules sets are available, one due to P. Spirtes, guaranteeing arrow completeness, and a second due to J. Zhang, guaranteeing additional tail completeness. If this parameter is set to “Yes,” the tail-complete rule set will be used. (java.lang.Boolean) [default:false]\n",
      "verbose: If this parameter is set to ‘Yes’, extra (“verbose”) output will be printed if available giving some details about the step-by-step operation of the algorithm. (java.lang.Boolean) [default:true]\n"
     ]
    }
   ],
   "source": [
    "tetrad.getAlgorithmParameters(algoId = 'rfci', testId = 'bdeu-test')"
   ]
  },
  {
   "cell_type": "code",
   "execution_count": 7,
   "metadata": {},
   "outputs": [],
   "source": [
    "tetrad.run(algoId = 'rfci', dfs = df, testId = 'bdeu-test', \n",
    "           priorKnowledge = prior, dataType = 'discrete',\n",
    "           depth = 3, maxPathLength = -1, \n",
    "           completeRuleSetUsed = True, verbose = True,\n",
    "           numberResampling = 5, resamplingEnsemble = 1, addOriginalDataset = True)"
   ]
  },
  {
   "cell_type": "markdown",
   "metadata": {
    "collapsed": true
   },
   "source": [
    "#### Bootstrapping RFCI Discrete's Result's Nodes"
   ]
  },
  {
   "cell_type": "code",
   "execution_count": 8,
   "metadata": {},
   "outputs": [
    {
     "data": {
      "text/plain": [
       "['age_gt_60',\n",
       " 'air',\n",
       " 'airBoneGap',\n",
       " 'ar_c',\n",
       " 'ar_u',\n",
       " 'bone',\n",
       " 'boneAbnormal',\n",
       " 'bser',\n",
       " 'class',\n",
       " 'history_buzzing',\n",
       " 'history_dizziness',\n",
       " 'history_fluctuating',\n",
       " 'history_fullness',\n",
       " 'history_heredity',\n",
       " 'history_nausea',\n",
       " 'history_noise',\n",
       " 'history_recruitment',\n",
       " 'history_ringing',\n",
       " 'history_roaring',\n",
       " 'history_vomiting',\n",
       " 'indentifier',\n",
       " 'late_wave_poor',\n",
       " 'm_at_2k',\n",
       " 'm_cond_lt_1k',\n",
       " 'm_gt_1k',\n",
       " 'm_m_gt_2k',\n",
       " 'm_m_sn',\n",
       " 'm_m_sn_gt_1k',\n",
       " 'm_m_sn_gt_2k',\n",
       " 'm_m_sn_gt_500',\n",
       " 'm_p_sn_gt_2k',\n",
       " 'm_s_gt_500',\n",
       " 'm_s_sn',\n",
       " 'm_s_sn_gt_1k',\n",
       " 'm_s_sn_gt_2k',\n",
       " 'm_s_sn_gt_3k',\n",
       " 'm_s_sn_gt_4k',\n",
       " 'm_sn_2_3k',\n",
       " 'm_sn_gt_1k',\n",
       " 'm_sn_gt_2k',\n",
       " 'm_sn_gt_3k',\n",
       " 'm_sn_gt_4k',\n",
       " 'm_sn_gt_500',\n",
       " 'm_sn_gt_6k',\n",
       " 'm_sn_lt_1k',\n",
       " 'm_sn_lt_2k',\n",
       " 'm_sn_lt_3k',\n",
       " 'middle_wave_poor',\n",
       " 'mod_gt_4k',\n",
       " 'mod_mixed',\n",
       " 'mod_s_mixed',\n",
       " 'mod_s_sn_gt_500',\n",
       " 'mod_sn',\n",
       " 'mod_sn_gt_1k',\n",
       " 'mod_sn_gt_2k',\n",
       " 'mod_sn_gt_3k',\n",
       " 'mod_sn_gt_4k',\n",
       " 'mod_sn_gt_500',\n",
       " 'notch_4k',\n",
       " 'notch_at_4k',\n",
       " 'o_ar_c',\n",
       " 'o_ar_u',\n",
       " 's_sn_gt_1k',\n",
       " 's_sn_gt_2k',\n",
       " 's_sn_gt_4k',\n",
       " 'speech',\n",
       " 'static_normal',\n",
       " 'tymp',\n",
       " 'viith_nerve_signs',\n",
       " 'wave_V_delayed',\n",
       " 'waveform_ItoV_prolonged']"
      ]
     },
     "execution_count": 8,
     "metadata": {},
     "output_type": "execute_result"
    }
   ],
   "source": [
    "tetrad.getNodes()"
   ]
  },
  {
   "cell_type": "markdown",
   "metadata": {},
   "source": [
    "#### Bootstrapping RFCI Discrete's Result's Edges"
   ]
  },
  {
   "cell_type": "code",
   "execution_count": 9,
   "metadata": {},
   "outputs": [
    {
     "data": {
      "text/plain": [
       "['history_recruitment o-> history_fluctuating [history_fluctuating <-o history_recruitment]:0.5000;[no edge]:0.5000;',\n",
       " 'm_sn_lt_1k o-> history_fluctuating [history_fluctuating <-> m_sn_lt_1k]:0.1667;[history_fluctuating o-o m_sn_lt_1k]:0.3333;[history_fluctuating <-o m_sn_lt_1k]:0.5000;',\n",
       " 'ar_c o-o o_ar_u [ar_c <-o o_ar_u]:0.1667;[ar_c o-o o_ar_u]:0.6667;[no edge]:0.1667;',\n",
       " 'history_heredity o-> s_sn_gt_2k [history_heredity o-> s_sn_gt_2k]:0.5000;[no edge]:0.5000;',\n",
       " 's_sn_gt_2k <-> static_normal [s_sn_gt_2k <-o static_normal]:0.1667;[s_sn_gt_2k o-> static_normal]:0.1667;[s_sn_gt_2k <-> static_normal]:0.3333;[no edge]:0.3333;',\n",
       " 'history_nausea o-o history_roaring [history_nausea <-> history_roaring]:0.1667;[history_nausea <-o history_roaring]:0.1667;[history_nausea o-> history_roaring]:0.1667;[history_nausea o-o history_roaring]:0.3333;[no edge]:0.1667;',\n",
       " 'ar_c o-o o_ar_c [ar_c o-> o_ar_c]:0.1667;[ar_c o-o o_ar_c]:0.5000;[ar_c <-o o_ar_c]:0.1667;[no edge]:0.1667;',\n",
       " 'class o-o tymp [class <-o tymp]:0.1667;[class o-o tymp]:0.5000;[no edge]:0.3333;',\n",
       " 'm_m_sn_gt_2k o-o notch_4k [m_m_sn_gt_2k o-o notch_4k]:0.3333;[m_m_sn_gt_2k o-> notch_4k]:0.3333;[no edge]:0.3333;',\n",
       " 'indentifier --> bone [bone <-- indentifier dd nl]:0.5000;[bone o-> indentifier]:0.1667;[bone o-o indentifier]:0.1667;[no edge]:0.1667; dd nl',\n",
       " 'bser o-o late_wave_poor [bser o-o late_wave_poor]:0.6667;[bser <-o late_wave_poor]:0.1667;[no edge]:0.1667;',\n",
       " 'speech o-> indentifier [indentifier <-o speech]:0.6667;[indentifier o-o speech]:0.1667;[no edge]:0.1667;',\n",
       " 'airBoneGap o-o tymp [airBoneGap o-> tymp]:0.3333;[airBoneGap o-o tymp]:0.6667;']"
      ]
     },
     "execution_count": 9,
     "metadata": {},
     "output_type": "execute_result"
    }
   ],
   "source": [
    "tetrad.getEdges()"
   ]
  },
  {
   "cell_type": "markdown",
   "metadata": {},
   "source": [
    "#### Plot The Result's Graph"
   ]
  },
  {
   "cell_type": "code",
   "execution_count": 10,
   "metadata": {},
   "outputs": [
    {
     "data": {
      "image/svg+xml": [
       "<svg height=\"353pt\" viewBox=\"0.00 0.00 3074.64 353.00\" width=\"3075pt\" xmlns=\"http://www.w3.org/2000/svg\" xmlns:xlink=\"http://www.w3.org/1999/xlink\">\n",
       "<g class=\"graph\" id=\"graph0\" transform=\"scale(1 1) rotate(0) translate(4 349)\">\n",
       "<title>g</title>\n",
       "<polygon fill=\"white\" points=\"-4,4 -4,-349 3070.64,-349 3070.64,4 -4,4\" stroke=\"none\"/>\n",
       "<!-- history_fluctuating -->\n",
       "<g class=\"node\" id=\"node1\"><title>history_fluctuating</title>\n",
       "<ellipse cx=\"285.641\" cy=\"-327\" fill=\"none\" rx=\"98.5829\" ry=\"18\" stroke=\"black\"/>\n",
       "<text font-family=\"Times,serif\" font-size=\"14.00\" text-anchor=\"middle\" x=\"285.641\" y=\"-323.3\">history_fluctuating</text>\n",
       "</g>\n",
       "<!-- history_recruitment -->\n",
       "<g class=\"node\" id=\"node2\"><title>history_recruitment</title>\n",
       "<ellipse cx=\"104.641\" cy=\"-165\" fill=\"none\" rx=\"104.782\" ry=\"18\" stroke=\"black\"/>\n",
       "<text font-family=\"Times,serif\" font-size=\"14.00\" text-anchor=\"middle\" x=\"104.641\" y=\"-161.3\">history_recruitment</text>\n",
       "</g>\n",
       "<!-- history_fluctuating&#45;&gt;history_recruitment -->\n",
       "<g class=\"edge\" id=\"edge1\"><title>history_fluctuating-&gt;history_recruitment</title>\n",
       "<path d=\"M186.495,-317.799C150.866,-312.635 116.707,-304.316 105.641,-291 82.6372,-263.319 89.0186,-219.043 96.3664,-191.291\" fill=\"none\" stroke=\"black\"/>\n",
       "<polygon fill=\"black\" points=\"186.184,-321.289 196.566,-319.174 187.131,-314.354 186.184,-321.289\" stroke=\"black\"/>\n",
       "<ellipse cx=\"97.5557\" cy=\"-187.093\" fill=\"none\" rx=\"4.00001\" ry=\"4.00001\" stroke=\"black\"/>\n",
       "<text font-family=\"Courier,monospace\" font-size=\"14.00\" text-anchor=\"middle\" x=\"275.141\" y=\"-257.3\">history_fluctuating - history_recruitment</text>\n",
       "<text font-family=\"Courier,monospace\" font-size=\"14.00\" text-anchor=\"middle\" x=\"275.141\" y=\"-242.3\">[&lt;-o]:0.5</text>\n",
       "<text font-family=\"Courier,monospace\" font-size=\"14.00\" text-anchor=\"middle\" x=\"275.141\" y=\"-227.3\">[no edge]:0.5</text>\n",
       "</g>\n",
       "<!-- m_sn_lt_1k -->\n",
       "<g class=\"node\" id=\"node3\"><title>m_sn_lt_1k</title>\n",
       "<ellipse cx=\"466.641\" cy=\"-165\" fill=\"none\" rx=\"63.8893\" ry=\"18\" stroke=\"black\"/>\n",
       "<text font-family=\"Times,serif\" font-size=\"14.00\" text-anchor=\"middle\" x=\"466.641\" y=\"-161.3\">m_sn_lt_1k</text>\n",
       "</g>\n",
       "<!-- history_fluctuating&#45;&gt;m_sn_lt_1k -->\n",
       "<g class=\"edge\" id=\"edge2\"><title>history_fluctuating-&gt;m_sn_lt_1k</title>\n",
       "<path d=\"M376.68,-314.822C406.447,-309.343 434.493,-301.588 444.641,-291 470.065,-264.473 471.702,-219.469 469.754,-191.313\" fill=\"none\" stroke=\"black\"/>\n",
       "<polygon fill=\"black\" points=\"375.791,-311.424 366.543,-316.594 376.996,-318.32 375.791,-311.424\" stroke=\"black\"/>\n",
       "<ellipse cx=\"469.397\" cy=\"-187.141\" fill=\"none\" rx=\"4\" ry=\"4\" stroke=\"black\"/>\n",
       "<text font-family=\"Courier,monospace\" font-size=\"14.00\" text-anchor=\"middle\" x=\"603.141\" y=\"-264.8\">history_fluctuating - m_sn_lt_1k</text>\n",
       "<text font-family=\"Courier,monospace\" font-size=\"14.00\" text-anchor=\"middle\" x=\"603.141\" y=\"-249.8\">[&lt;-&gt;]:0.16666666666666666</text>\n",
       "<text font-family=\"Courier,monospace\" font-size=\"14.00\" text-anchor=\"middle\" x=\"603.141\" y=\"-234.8\">[o-o]:0.3333333333333333</text>\n",
       "<text font-family=\"Courier,monospace\" font-size=\"14.00\" text-anchor=\"middle\" x=\"603.141\" y=\"-219.8\">[&lt;-o]:0.5</text>\n",
       "</g>\n",
       "<!-- ar_c -->\n",
       "<g class=\"node\" id=\"node4\"><title>ar_c</title>\n",
       "<ellipse cx=\"885.641\" cy=\"-327\" fill=\"none\" rx=\"30.5947\" ry=\"18\" stroke=\"black\"/>\n",
       "<text font-family=\"Times,serif\" font-size=\"14.00\" text-anchor=\"middle\" x=\"885.641\" y=\"-323.3\">ar_c</text>\n",
       "</g>\n",
       "<!-- o_ar_u -->\n",
       "<g class=\"node\" id=\"node5\"><title>o_ar_u</title>\n",
       "<ellipse cx=\"754.641\" cy=\"-165\" fill=\"none\" rx=\"41.6928\" ry=\"18\" stroke=\"black\"/>\n",
       "<text font-family=\"Times,serif\" font-size=\"14.00\" text-anchor=\"middle\" x=\"754.641\" y=\"-161.3\">o_ar_u</text>\n",
       "</g>\n",
       "<!-- ar_c&#45;&gt;o_ar_u -->\n",
       "<g class=\"edge\" id=\"edge3\"><title>ar_c-&gt;o_ar_u</title>\n",
       "<path d=\"M847.937,-320.947C813.713,-315.499 766.92,-305.596 755.641,-291 733.633,-262.521 739.72,-218.481 746.737,-190.994\" fill=\"none\" stroke=\"black\"/>\n",
       "<ellipse cx=\"851.948\" cy=\"-321.564\" fill=\"none\" rx=\"4.00001\" ry=\"4.00001\" stroke=\"black\"/>\n",
       "<ellipse cx=\"747.859\" cy=\"-186.888\" fill=\"none\" rx=\"4.00001\" ry=\"4.00001\" stroke=\"black\"/>\n",
       "<text font-family=\"Courier,monospace\" font-size=\"14.00\" text-anchor=\"middle\" x=\"875.641\" y=\"-264.8\">ar_c - o_ar_u</text>\n",
       "<text font-family=\"Courier,monospace\" font-size=\"14.00\" text-anchor=\"middle\" x=\"875.641\" y=\"-249.8\">[&lt;-o]:0.16666666666666666</text>\n",
       "<text font-family=\"Courier,monospace\" font-size=\"14.00\" text-anchor=\"middle\" x=\"875.641\" y=\"-234.8\">[o-o]:0.6666666666666666</text>\n",
       "<text font-family=\"Courier,monospace\" font-size=\"14.00\" text-anchor=\"middle\" x=\"875.641\" y=\"-219.8\">[no edge]:0.16666666666666666</text>\n",
       "</g>\n",
       "<!-- o_ar_c -->\n",
       "<g class=\"node\" id=\"node11\"><title>o_ar_c</title>\n",
       "<ellipse cx=\"1017.64\" cy=\"-165\" fill=\"none\" rx=\"40.8928\" ry=\"18\" stroke=\"black\"/>\n",
       "<text font-family=\"Times,serif\" font-size=\"14.00\" text-anchor=\"middle\" x=\"1017.64\" y=\"-161.3\">o_ar_c</text>\n",
       "</g>\n",
       "<!-- ar_c&#45;&gt;o_ar_c -->\n",
       "<g class=\"edge\" id=\"edge7\"><title>ar_c-&gt;o_ar_c</title>\n",
       "<path d=\"M924.397,-323.554C948.38,-319.939 977.881,-311.311 995.641,-291 1019.7,-263.49 1021.82,-219.163 1020.33,-191.354\" fill=\"none\" stroke=\"black\"/>\n",
       "<ellipse cx=\"920.139\" cy=\"-324.114\" fill=\"none\" rx=\"4.00001\" ry=\"4.00001\" stroke=\"black\"/>\n",
       "<ellipse cx=\"1020.05\" cy=\"-187.281\" fill=\"none\" rx=\"4\" ry=\"4\" stroke=\"black\"/>\n",
       "<text font-family=\"Courier,monospace\" font-size=\"14.00\" text-anchor=\"middle\" x=\"1141.64\" y=\"-272.3\">ar_c - o_ar_c</text>\n",
       "<text font-family=\"Courier,monospace\" font-size=\"14.00\" text-anchor=\"middle\" x=\"1141.64\" y=\"-257.3\">[o-&gt;]:0.16666666666666666</text>\n",
       "<text font-family=\"Courier,monospace\" font-size=\"14.00\" text-anchor=\"middle\" x=\"1141.64\" y=\"-242.3\">[o-o]:0.5</text>\n",
       "<text font-family=\"Courier,monospace\" font-size=\"14.00\" text-anchor=\"middle\" x=\"1141.64\" y=\"-227.3\">[&lt;-o]:0.16666666666666666</text>\n",
       "<text font-family=\"Courier,monospace\" font-size=\"14.00\" text-anchor=\"middle\" x=\"1141.64\" y=\"-212.3\">[no edge]:0.16666666666666666</text>\n",
       "</g>\n",
       "<!-- history_heredity -->\n",
       "<g class=\"node\" id=\"node6\"><title>history_heredity</title>\n",
       "<ellipse cx=\"1280.64\" cy=\"-327\" fill=\"none\" rx=\"87.1846\" ry=\"18\" stroke=\"black\"/>\n",
       "<text font-family=\"Times,serif\" font-size=\"14.00\" text-anchor=\"middle\" x=\"1280.64\" y=\"-323.3\">history_heredity</text>\n",
       "</g>\n",
       "<!-- s_sn_gt_2k -->\n",
       "<g class=\"node\" id=\"node7\"><title>s_sn_gt_2k</title>\n",
       "<ellipse cx=\"1280.64\" cy=\"-165\" fill=\"none\" rx=\"62.2891\" ry=\"18\" stroke=\"black\"/>\n",
       "<text font-family=\"Times,serif\" font-size=\"14.00\" text-anchor=\"middle\" x=\"1280.64\" y=\"-161.3\">s_sn_gt_2k</text>\n",
       "</g>\n",
       "<!-- history_heredity&#45;&gt;s_sn_gt_2k -->\n",
       "<g class=\"edge\" id=\"edge4\"><title>history_heredity-&gt;s_sn_gt_2k</title>\n",
       "<path d=\"M1280.64,-300.704C1280.64,-271.565 1280.64,-223.845 1280.64,-193.72\" fill=\"none\" stroke=\"black\"/>\n",
       "<ellipse cx=\"1280.64\" cy=\"-304.877\" fill=\"none\" rx=\"4\" ry=\"4\" stroke=\"black\"/>\n",
       "<polygon fill=\"black\" points=\"1284.14,-193.485 1280.64,-183.485 1277.14,-193.485 1284.14,-193.485\" stroke=\"black\"/>\n",
       "<text font-family=\"Courier,monospace\" font-size=\"14.00\" text-anchor=\"middle\" x=\"1400.64\" y=\"-257.3\">history_heredity - s_sn_gt_2k</text>\n",
       "<text font-family=\"Courier,monospace\" font-size=\"14.00\" text-anchor=\"middle\" x=\"1400.64\" y=\"-242.3\">[o-&gt;]:0.5</text>\n",
       "<text font-family=\"Courier,monospace\" font-size=\"14.00\" text-anchor=\"middle\" x=\"1400.64\" y=\"-227.3\">[no edge]:0.5</text>\n",
       "</g>\n",
       "<!-- static_normal -->\n",
       "<g class=\"node\" id=\"node8\"><title>static_normal</title>\n",
       "<ellipse cx=\"1280.64\" cy=\"-18\" fill=\"none\" rx=\"74.9875\" ry=\"18\" stroke=\"black\"/>\n",
       "<text font-family=\"Times,serif\" font-size=\"14.00\" text-anchor=\"middle\" x=\"1280.64\" y=\"-14.3\">static_normal</text>\n",
       "</g>\n",
       "<!-- s_sn_gt_2k&#45;&gt;static_normal -->\n",
       "<g class=\"edge\" id=\"edge5\"><title>s_sn_gt_2k-&gt;static_normal</title>\n",
       "<path d=\"M1280.64,-136.745C1280.64,-110.912 1280.64,-72.3112 1280.64,-46.4228\" fill=\"none\" stroke=\"black\"/>\n",
       "<polygon fill=\"black\" points=\"1277.14,-136.797 1280.64,-146.797 1284.14,-136.797 1277.14,-136.797\" stroke=\"black\"/>\n",
       "<polygon fill=\"black\" points=\"1284.14,-46.1804 1280.64,-36.1804 1277.14,-46.1805 1284.14,-46.1804\" stroke=\"black\"/>\n",
       "<text font-family=\"Courier,monospace\" font-size=\"14.00\" text-anchor=\"middle\" x=\"1396.64\" y=\"-117.8\">s_sn_gt_2k - static_normal</text>\n",
       "<text font-family=\"Courier,monospace\" font-size=\"14.00\" text-anchor=\"middle\" x=\"1396.64\" y=\"-102.8\">[&lt;-o]:0.16666666666666666</text>\n",
       "<text font-family=\"Courier,monospace\" font-size=\"14.00\" text-anchor=\"middle\" x=\"1396.64\" y=\"-87.8\">[o-&gt;]:0.16666666666666666</text>\n",
       "<text font-family=\"Courier,monospace\" font-size=\"14.00\" text-anchor=\"middle\" x=\"1396.64\" y=\"-72.8\">[&lt;-&gt;]:0.3333333333333333</text>\n",
       "<text font-family=\"Courier,monospace\" font-size=\"14.00\" text-anchor=\"middle\" x=\"1396.64\" y=\"-57.8\">[no edge]:0.3333333333333333</text>\n",
       "</g>\n",
       "<!-- history_nausea -->\n",
       "<g class=\"node\" id=\"node9\"><title>history_nausea</title>\n",
       "<ellipse cx=\"1543.64\" cy=\"-327\" fill=\"none\" rx=\"81.4863\" ry=\"18\" stroke=\"black\"/>\n",
       "<text font-family=\"Times,serif\" font-size=\"14.00\" text-anchor=\"middle\" x=\"1543.64\" y=\"-323.3\">history_nausea</text>\n",
       "</g>\n",
       "<!-- history_roaring -->\n",
       "<g class=\"node\" id=\"node10\"><title>history_roaring</title>\n",
       "<ellipse cx=\"1543.64\" cy=\"-165\" fill=\"none\" rx=\"82.5854\" ry=\"18\" stroke=\"black\"/>\n",
       "<text font-family=\"Times,serif\" font-size=\"14.00\" text-anchor=\"middle\" x=\"1543.64\" y=\"-161.3\">history_roaring</text>\n",
       "</g>\n",
       "<!-- history_nausea&#45;&gt;history_roaring -->\n",
       "<g class=\"edge\" id=\"edge6\"><title>history_nausea-&gt;history_roaring</title>\n",
       "<path d=\"M1543.64,-300.704C1543.64,-270.926 1543.64,-221.743 1543.64,-191.764\" fill=\"none\" stroke=\"black\"/>\n",
       "<ellipse cx=\"1543.64\" cy=\"-304.877\" fill=\"none\" rx=\"4\" ry=\"4\" stroke=\"black\"/>\n",
       "<ellipse cx=\"1543.64\" cy=\"-187.485\" fill=\"none\" rx=\"4\" ry=\"4\" stroke=\"black\"/>\n",
       "<text font-family=\"Courier,monospace\" font-size=\"14.00\" text-anchor=\"middle\" x=\"1676.14\" y=\"-279.8\">history_nausea - history_roaring</text>\n",
       "<text font-family=\"Courier,monospace\" font-size=\"14.00\" text-anchor=\"middle\" x=\"1676.14\" y=\"-264.8\">[&lt;-&gt;]:0.16666666666666666</text>\n",
       "<text font-family=\"Courier,monospace\" font-size=\"14.00\" text-anchor=\"middle\" x=\"1676.14\" y=\"-249.8\">[&lt;-o]:0.16666666666666666</text>\n",
       "<text font-family=\"Courier,monospace\" font-size=\"14.00\" text-anchor=\"middle\" x=\"1676.14\" y=\"-234.8\">[o-&gt;]:0.16666666666666666</text>\n",
       "<text font-family=\"Courier,monospace\" font-size=\"14.00\" text-anchor=\"middle\" x=\"1676.14\" y=\"-219.8\">[o-o]:0.3333333333333333</text>\n",
       "<text font-family=\"Courier,monospace\" font-size=\"14.00\" text-anchor=\"middle\" x=\"1676.14\" y=\"-204.8\">[no edge]:0.16666666666666666</text>\n",
       "</g>\n",
       "<!-- class -->\n",
       "<g class=\"node\" id=\"node12\"><title>class</title>\n",
       "<ellipse cx=\"1831.64\" cy=\"-327\" fill=\"none\" rx=\"34.394\" ry=\"18\" stroke=\"black\"/>\n",
       "<text font-family=\"Times,serif\" font-size=\"14.00\" text-anchor=\"middle\" x=\"1831.64\" y=\"-323.3\">class</text>\n",
       "</g>\n",
       "<!-- tymp -->\n",
       "<g class=\"node\" id=\"node13\"><title>tymp</title>\n",
       "<ellipse cx=\"1958.64\" cy=\"-165\" fill=\"none\" rx=\"34.394\" ry=\"18\" stroke=\"black\"/>\n",
       "<text font-family=\"Times,serif\" font-size=\"14.00\" text-anchor=\"middle\" x=\"1958.64\" y=\"-161.3\">tymp</text>\n",
       "</g>\n",
       "<!-- class&#45;&gt;tymp -->\n",
       "<g class=\"edge\" id=\"edge8\"><title>class-&gt;tymp</title>\n",
       "<path d=\"M1823.78,-301.039C1816.8,-273.581 1810.75,-229.567 1832.64,-201 1843.05,-187.42 1884.88,-177.698 1917.52,-171.999\" fill=\"none\" stroke=\"black\"/>\n",
       "<ellipse cx=\"1824.89\" cy=\"-305.134\" fill=\"none\" rx=\"4.00001\" ry=\"4.00001\" stroke=\"black\"/>\n",
       "<ellipse cx=\"1921.66\" cy=\"-171.302\" fill=\"none\" rx=\"4.00001\" ry=\"4.00001\" stroke=\"black\"/>\n",
       "<text font-family=\"Courier,monospace\" font-size=\"14.00\" text-anchor=\"middle\" x=\"1948.64\" y=\"-264.8\">class - tymp</text>\n",
       "<text font-family=\"Courier,monospace\" font-size=\"14.00\" text-anchor=\"middle\" x=\"1948.64\" y=\"-249.8\">[&lt;-o]:0.16666666666666666</text>\n",
       "<text font-family=\"Courier,monospace\" font-size=\"14.00\" text-anchor=\"middle\" x=\"1948.64\" y=\"-234.8\">[o-o]:0.5</text>\n",
       "<text font-family=\"Courier,monospace\" font-size=\"14.00\" text-anchor=\"middle\" x=\"1948.64\" y=\"-219.8\">[no edge]:0.3333333333333333</text>\n",
       "</g>\n",
       "<!-- m_m_sn_gt_2k -->\n",
       "<g class=\"node\" id=\"node14\"><title>m_m_sn_gt_2k</title>\n",
       "<ellipse cx=\"2308.64\" cy=\"-327\" fill=\"none\" rx=\"79.8859\" ry=\"18\" stroke=\"black\"/>\n",
       "<text font-family=\"Times,serif\" font-size=\"14.00\" text-anchor=\"middle\" x=\"2308.64\" y=\"-323.3\">m_m_sn_gt_2k</text>\n",
       "</g>\n",
       "<!-- notch_4k -->\n",
       "<g class=\"node\" id=\"node15\"><title>notch_4k</title>\n",
       "<ellipse cx=\"2308.64\" cy=\"-165\" fill=\"none\" rx=\"53.8905\" ry=\"18\" stroke=\"black\"/>\n",
       "<text font-family=\"Times,serif\" font-size=\"14.00\" text-anchor=\"middle\" x=\"2308.64\" y=\"-161.3\">notch_4k</text>\n",
       "</g>\n",
       "<!-- m_m_sn_gt_2k&#45;&gt;notch_4k -->\n",
       "<g class=\"edge\" id=\"edge9\"><title>m_m_sn_gt_2k-&gt;notch_4k</title>\n",
       "<path d=\"M2308.64,-300.704C2308.64,-270.926 2308.64,-221.743 2308.64,-191.764\" fill=\"none\" stroke=\"black\"/>\n",
       "<ellipse cx=\"2308.64\" cy=\"-304.877\" fill=\"none\" rx=\"4\" ry=\"4\" stroke=\"black\"/>\n",
       "<ellipse cx=\"2308.64\" cy=\"-187.485\" fill=\"none\" rx=\"4\" ry=\"4\" stroke=\"black\"/>\n",
       "<text font-family=\"Courier,monospace\" font-size=\"14.00\" text-anchor=\"middle\" x=\"2424.64\" y=\"-264.8\">m_m_sn_gt_2k - notch_4k</text>\n",
       "<text font-family=\"Courier,monospace\" font-size=\"14.00\" text-anchor=\"middle\" x=\"2424.64\" y=\"-249.8\">[o-o]:0.3333333333333333</text>\n",
       "<text font-family=\"Courier,monospace\" font-size=\"14.00\" text-anchor=\"middle\" x=\"2424.64\" y=\"-234.8\">[o-&gt;]:0.3333333333333333</text>\n",
       "<text font-family=\"Courier,monospace\" font-size=\"14.00\" text-anchor=\"middle\" x=\"2424.64\" y=\"-219.8\">[no edge]:0.3333333333333333</text>\n",
       "</g>\n",
       "<!-- bone -->\n",
       "<g class=\"node\" id=\"node16\"><title>bone</title>\n",
       "<ellipse cx=\"2563.64\" cy=\"-327\" fill=\"none\" rx=\"33.2948\" ry=\"18\" stroke=\"black\"/>\n",
       "<text font-family=\"Times,serif\" font-size=\"14.00\" text-anchor=\"middle\" x=\"2563.64\" y=\"-323.3\">bone</text>\n",
       "</g>\n",
       "<!-- indentifier -->\n",
       "<g class=\"node\" id=\"node17\"><title>indentifier</title>\n",
       "<ellipse cx=\"2563.64\" cy=\"-165\" fill=\"none\" rx=\"59.2899\" ry=\"18\" stroke=\"black\"/>\n",
       "<text font-family=\"Times,serif\" font-size=\"14.00\" text-anchor=\"middle\" x=\"2563.64\" y=\"-161.3\">indentifier</text>\n",
       "</g>\n",
       "<!-- bone&#45;&gt;indentifier -->\n",
       "<g class=\"edge\" id=\"edge10\"><title>bone-&gt;indentifier</title>\n",
       "<path d=\"M2563.64,-298.584C2563.64,-265.611 2563.64,-211.241 2563.64,-183.485\" fill=\"none\" stroke=\"black\"/>\n",
       "<polygon fill=\"black\" points=\"2560.14,-298.877 2563.64,-308.877 2567.14,-298.877 2560.14,-298.877\" stroke=\"black\"/>\n",
       "<text font-family=\"Courier,monospace\" font-size=\"14.00\" text-anchor=\"middle\" x=\"2683.64\" y=\"-272.3\">bone - indentifier</text>\n",
       "<text font-family=\"Courier,monospace\" font-size=\"14.00\" text-anchor=\"middle\" x=\"2683.64\" y=\"-257.3\">[&lt;-- dd nl]:0.5</text>\n",
       "<text font-family=\"Courier,monospace\" font-size=\"14.00\" text-anchor=\"middle\" x=\"2683.64\" y=\"-242.3\">[o-&gt;]:0.16666666666666666</text>\n",
       "<text font-family=\"Courier,monospace\" font-size=\"14.00\" text-anchor=\"middle\" x=\"2683.64\" y=\"-227.3\">[o-o]:0.16666666666666666</text>\n",
       "<text font-family=\"Courier,monospace\" font-size=\"14.00\" text-anchor=\"middle\" x=\"2683.64\" y=\"-212.3\">[no edge]:0.16666666666666666</text>\n",
       "</g>\n",
       "<!-- speech -->\n",
       "<g class=\"node\" id=\"node20\"><title>speech</title>\n",
       "<ellipse cx=\"2563.64\" cy=\"-18\" fill=\"none\" rx=\"43.5923\" ry=\"18\" stroke=\"black\"/>\n",
       "<text font-family=\"Times,serif\" font-size=\"14.00\" text-anchor=\"middle\" x=\"2563.64\" y=\"-14.3\">speech</text>\n",
       "</g>\n",
       "<!-- indentifier&#45;&gt;speech -->\n",
       "<g class=\"edge\" id=\"edge12\"><title>indentifier-&gt;speech</title>\n",
       "<path d=\"M2563.64,-136.745C2563.64,-110.22 2563.64,-70.2341 2563.64,-44.3704\" fill=\"none\" stroke=\"black\"/>\n",
       "<polygon fill=\"black\" points=\"2560.14,-136.797 2563.64,-146.797 2567.14,-136.797 2560.14,-136.797\" stroke=\"black\"/>\n",
       "<ellipse cx=\"2563.64\" cy=\"-40.1804\" fill=\"none\" rx=\"4\" ry=\"4\" stroke=\"black\"/>\n",
       "<text font-family=\"Courier,monospace\" font-size=\"14.00\" text-anchor=\"middle\" x=\"2683.64\" y=\"-110.3\">indentifier - speech</text>\n",
       "<text font-family=\"Courier,monospace\" font-size=\"14.00\" text-anchor=\"middle\" x=\"2683.64\" y=\"-95.3\">[&lt;-o]:0.6666666666666666</text>\n",
       "<text font-family=\"Courier,monospace\" font-size=\"14.00\" text-anchor=\"middle\" x=\"2683.64\" y=\"-80.3\">[o-o]:0.16666666666666666</text>\n",
       "<text font-family=\"Courier,monospace\" font-size=\"14.00\" text-anchor=\"middle\" x=\"2683.64\" y=\"-65.3\">[no edge]:0.16666666666666666</text>\n",
       "</g>\n",
       "<!-- bser -->\n",
       "<g class=\"node\" id=\"node18\"><title>bser</title>\n",
       "<ellipse cx=\"2826.64\" cy=\"-327\" fill=\"none\" rx=\"31.3957\" ry=\"18\" stroke=\"black\"/>\n",
       "<text font-family=\"Times,serif\" font-size=\"14.00\" text-anchor=\"middle\" x=\"2826.64\" y=\"-323.3\">bser</text>\n",
       "</g>\n",
       "<!-- late_wave_poor -->\n",
       "<g class=\"node\" id=\"node19\"><title>late_wave_poor</title>\n",
       "<ellipse cx=\"2826.64\" cy=\"-165\" fill=\"none\" rx=\"83.3857\" ry=\"18\" stroke=\"black\"/>\n",
       "<text font-family=\"Times,serif\" font-size=\"14.00\" text-anchor=\"middle\" x=\"2826.64\" y=\"-161.3\">late_wave_poor</text>\n",
       "</g>\n",
       "<!-- bser&#45;&gt;late_wave_poor -->\n",
       "<g class=\"edge\" id=\"edge11\"><title>bser-&gt;late_wave_poor</title>\n",
       "<path d=\"M2826.64,-300.704C2826.64,-270.926 2826.64,-221.743 2826.64,-191.764\" fill=\"none\" stroke=\"black\"/>\n",
       "<ellipse cx=\"2826.64\" cy=\"-304.877\" fill=\"none\" rx=\"4\" ry=\"4\" stroke=\"black\"/>\n",
       "<ellipse cx=\"2826.64\" cy=\"-187.485\" fill=\"none\" rx=\"4\" ry=\"4\" stroke=\"black\"/>\n",
       "<text font-family=\"Courier,monospace\" font-size=\"14.00\" text-anchor=\"middle\" x=\"2946.64\" y=\"-264.8\">bser - late_wave_poor</text>\n",
       "<text font-family=\"Courier,monospace\" font-size=\"14.00\" text-anchor=\"middle\" x=\"2946.64\" y=\"-249.8\">[o-o]:0.6666666666666666</text>\n",
       "<text font-family=\"Courier,monospace\" font-size=\"14.00\" text-anchor=\"middle\" x=\"2946.64\" y=\"-234.8\">[&lt;-o]:0.16666666666666666</text>\n",
       "<text font-family=\"Courier,monospace\" font-size=\"14.00\" text-anchor=\"middle\" x=\"2946.64\" y=\"-219.8\">[no edge]:0.16666666666666666</text>\n",
       "</g>\n",
       "<!-- airBoneGap -->\n",
       "<g class=\"node\" id=\"node21\"><title>airBoneGap</title>\n",
       "<ellipse cx=\"2086.64\" cy=\"-327\" fill=\"none\" rx=\"65.7887\" ry=\"18\" stroke=\"black\"/>\n",
       "<text font-family=\"Times,serif\" font-size=\"14.00\" text-anchor=\"middle\" x=\"2086.64\" y=\"-323.3\">airBoneGap</text>\n",
       "</g>\n",
       "<!-- airBoneGap&#45;&gt;tymp -->\n",
       "<g class=\"edge\" id=\"edge13\"><title>airBoneGap-&gt;tymp</title>\n",
       "<path d=\"M2089.27,-300.694C2090.71,-272.928 2088.55,-228.641 2064.64,-201 2048.66,-182.527 2022.73,-173.76 2000.51,-169.619\" fill=\"none\" stroke=\"black\"/>\n",
       "<ellipse cx=\"2089\" cy=\"-304.753\" fill=\"none\" rx=\"4\" ry=\"4\" stroke=\"black\"/>\n",
       "<ellipse cx=\"1996.47\" cy=\"-168.948\" fill=\"none\" rx=\"4.00001\" ry=\"4.00001\" stroke=\"black\"/>\n",
       "<text font-family=\"Courier,monospace\" font-size=\"14.00\" text-anchor=\"middle\" x=\"2189.14\" y=\"-257.3\">airBoneGap - tymp</text>\n",
       "<text font-family=\"Courier,monospace\" font-size=\"14.00\" text-anchor=\"middle\" x=\"2189.14\" y=\"-242.3\">[o-&gt;]:0.3333333333333333</text>\n",
       "<text font-family=\"Courier,monospace\" font-size=\"14.00\" text-anchor=\"middle\" x=\"2189.14\" y=\"-227.3\">[o-o]:0.6666666666666666</text>\n",
       "</g>\n",
       "</g>\n",
       "</svg>"
      ],
      "text/plain": [
       "<IPython.core.display.SVG object>"
      ]
     },
     "execution_count": 10,
     "metadata": {},
     "output_type": "execute_result"
    }
   ],
   "source": [
    "import pydot\n",
    "from IPython.display import SVG\n",
    "dot_str = pc.tetradGraphToDot(tetrad.getTetradGraph())\n",
    "graphs = pydot.graph_from_dot_data(dot_str)\n",
    "svg_str = graphs[0].create_svg()\n",
    "SVG(svg_str)"
   ]
  },
  {
   "cell_type": "markdown",
   "metadata": {
    "collapsed": true
   },
   "source": [
    "#### Stop Java VM"
   ]
  },
  {
   "cell_type": "code",
   "execution_count": 11,
   "metadata": {},
   "outputs": [],
   "source": [
    "pc.stop_vm()"
   ]
  },
  {
   "cell_type": "code",
   "execution_count": null,
   "metadata": {},
   "outputs": [],
   "source": []
  }
 ],
 "metadata": {
  "kernelspec": {
   "display_name": "Python 3",
   "language": "python",
   "name": "python3"
  },
  "language_info": {
   "codemirror_mode": {
    "name": "ipython",
    "version": 3
   },
   "file_extension": ".py",
   "mimetype": "text/x-python",
   "name": "python",
   "nbconvert_exporter": "python",
   "pygments_lexer": "ipython3",
   "version": "3.5.4"
  },
  "widgets": {
   "state": {},
   "version": "1.1.1"
  }
 },
 "nbformat": 4,
 "nbformat_minor": 1
}
