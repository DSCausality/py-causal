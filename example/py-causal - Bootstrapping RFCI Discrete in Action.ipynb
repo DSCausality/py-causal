{
 "cells": [
  {
   "cell_type": "code",
   "execution_count": 1,
   "metadata": {
    "collapsed": true
   },
   "outputs": [],
   "source": [
    "import pandas as pd\n",
    "import pydot\n",
    "from IPython.display import SVG"
   ]
  },
  {
   "cell_type": "markdown",
   "metadata": {},
   "source": [
    "#### Load the example dataset"
   ]
  },
  {
   "cell_type": "code",
   "execution_count": 2,
   "metadata": {
    "collapsed": true
   },
   "outputs": [],
   "source": [
    "data_dir = \"https://raw.githubusercontent.com/bd2kccd/py-causal/master/data/audiology.txt\"\n",
    "df = pd.read_table(data_dir, sep=\"\\t\")"
   ]
  },
  {
   "cell_type": "markdown",
   "metadata": {
    "collapsed": true
   },
   "source": [
    "#### Start Java VM"
   ]
  },
  {
   "cell_type": "code",
   "execution_count": 3,
   "metadata": {
    "collapsed": true
   },
   "outputs": [],
   "source": [
    "from pycausal.pycausal import pycausal as pc\n",
    "pc = pc()\n",
    "pc.start_vm(java_max_heap_size = '500M')"
   ]
  },
  {
   "cell_type": "markdown",
   "metadata": {},
   "source": [
    "#### Create the Prior Knowledge Object"
   ]
  },
  {
   "cell_type": "code",
   "execution_count": 4,
   "metadata": {},
   "outputs": [
    {
     "data": {
      "text/plain": [
       "Instance of edu.cmu.tetrad.data.Knowledge2: /knowledge\n",
       "addtemporal\n",
       "\n",
       "0* class history_fluctuating history_noise \n",
       "\n",
       "forbiddirect\n",
       "\n",
       "history_fluctuating ==> class \n",
       "history_noise ==> class \n",
       "requiredirect\n"
      ]
     },
     "execution_count": 4,
     "metadata": {},
     "output_type": "execute_result"
    }
   ],
   "source": [
    "from pycausal import prior as p\n",
    "forbid = [['history_noise','class'],['history_fluctuating','class']]\n",
    "tempForbid = p.ForbiddenWithin(\n",
    "    ['class','history_fluctuating','history_noise'])\n",
    "temporal = [tempForbid]\n",
    "prior = p.knowledge(forbiddirect = forbid, addtemporal = temporal)\n",
    "prior"
   ]
  },
  {
   "cell_type": "markdown",
   "metadata": {
    "collapsed": true
   },
   "source": [
    "#### Load causal algorithms from the py-causal library and Run Bootstrapping RFCI Discrete"
   ]
  },
  {
   "cell_type": "code",
   "execution_count": 5,
   "metadata": {},
   "outputs": [
    {
     "name": "stdout",
     "output_type": "stream",
     "text": [
      "samplePrior: Sample prior (min = 1.0) (java.lang.Double) [default:1.0]\n",
      "structurePrior: Structure prior coefficient (min = 1.0) (java.lang.Double) [default:1.0]\n",
      "depth: Maximum size of conditioning set (unlimited = -1) (java.lang.Integer) [default:-1]\n",
      "maxPathLength: The maximum length for any discriminating path. -1 if unlimited (min = -1) (java.lang.Integer) [default:-1]\n",
      "completeRuleSetUsed: Yes if the complete FCI rule set should be used (java.lang.Boolean) [default:false]\n",
      "bootstrapSampleSize: The number of bootstraps (min = 0) (java.lang.Integer) [default:0]\n",
      "bootstrapEnsemble: Ensemble method: Preserved (0), Highest (1), Majority (2) (java.lang.Integer) [default:1]\n",
      "verbose: Yes if verbose output should be printed or logged (java.lang.Boolean) [default:false]\n"
     ]
    }
   ],
   "source": [
    "from pycausal import search as s\n",
    "tetrad = s.tetradrunner()\n",
    "tetrad.getAlgorithmParameters(algoId = 'rfci', testId = 'bdeu')"
   ]
  },
  {
   "cell_type": "code",
   "execution_count": 6,
   "metadata": {
    "collapsed": true
   },
   "outputs": [],
   "source": [
    "tetrad.run(algoId = 'rfci', dfs = df, testId = 'bdeu', priorKnowledge = prior, dataType = 'discrete',\n",
    "           structurePrior = 1.0, samplePrior = 1.0, depth = 3, maxPathLength = -1, \n",
    "           completeRuleSetUsed = True, verbose = True,\n",
    "           bootstrapSampleSize = 4, bootstrapEnsemble = 0)"
   ]
  },
  {
   "cell_type": "markdown",
   "metadata": {
    "collapsed": true
   },
   "source": [
    "#### Bootstrapping RFCI Discrete's Result's Nodes"
   ]
  },
  {
   "cell_type": "code",
   "execution_count": 7,
   "metadata": {},
   "outputs": [
    {
     "data": {
      "text/plain": [
       "['age_gt_60',\n",
       " 'air',\n",
       " 'airBoneGap',\n",
       " 'ar_c',\n",
       " 'ar_u',\n",
       " 'bone',\n",
       " 'boneAbnormal',\n",
       " 'bser',\n",
       " 'class',\n",
       " 'history_buzzing',\n",
       " 'history_dizziness',\n",
       " 'history_fluctuating',\n",
       " 'history_fullness',\n",
       " 'history_heredity',\n",
       " 'history_nausea',\n",
       " 'history_noise',\n",
       " 'history_recruitment',\n",
       " 'history_ringing',\n",
       " 'history_roaring',\n",
       " 'history_vomiting',\n",
       " 'indentifier',\n",
       " 'late_wave_poor',\n",
       " 'm_at_2k',\n",
       " 'm_cond_lt_1k',\n",
       " 'm_gt_1k',\n",
       " 'm_m_gt_2k',\n",
       " 'm_m_sn',\n",
       " 'm_m_sn_gt_1k',\n",
       " 'm_m_sn_gt_2k',\n",
       " 'm_m_sn_gt_500',\n",
       " 'm_p_sn_gt_2k',\n",
       " 'm_s_gt_500',\n",
       " 'm_s_sn',\n",
       " 'm_s_sn_gt_1k',\n",
       " 'm_s_sn_gt_2k',\n",
       " 'm_s_sn_gt_3k',\n",
       " 'm_s_sn_gt_4k',\n",
       " 'm_sn_2_3k',\n",
       " 'm_sn_gt_1k',\n",
       " 'm_sn_gt_2k',\n",
       " 'm_sn_gt_3k',\n",
       " 'm_sn_gt_4k',\n",
       " 'm_sn_gt_500',\n",
       " 'm_sn_gt_6k',\n",
       " 'm_sn_lt_1k',\n",
       " 'm_sn_lt_2k',\n",
       " 'm_sn_lt_3k',\n",
       " 'middle_wave_poor',\n",
       " 'mod_gt_4k',\n",
       " 'mod_mixed',\n",
       " 'mod_s_mixed',\n",
       " 'mod_s_sn_gt_500',\n",
       " 'mod_sn',\n",
       " 'mod_sn_gt_1k',\n",
       " 'mod_sn_gt_2k',\n",
       " 'mod_sn_gt_3k',\n",
       " 'mod_sn_gt_4k',\n",
       " 'mod_sn_gt_500',\n",
       " 'notch_4k',\n",
       " 'notch_at_4k',\n",
       " 'o_ar_c',\n",
       " 'o_ar_u',\n",
       " 's_sn_gt_1k',\n",
       " 's_sn_gt_2k',\n",
       " 's_sn_gt_4k',\n",
       " 'speech',\n",
       " 'static_normal',\n",
       " 'tymp',\n",
       " 'viith_nerve_signs',\n",
       " 'wave_V_delayed',\n",
       " 'waveform_ItoV_prolonged']"
      ]
     },
     "execution_count": 7,
     "metadata": {},
     "output_type": "execute_result"
    }
   ],
   "source": [
    "tetrad.getNodes()"
   ]
  },
  {
   "cell_type": "markdown",
   "metadata": {},
   "source": [
    "#### Bootstrapping RFCI Discrete's Result's Edges"
   ]
  },
  {
   "cell_type": "code",
   "execution_count": 8,
   "metadata": {},
   "outputs": [
    {
     "data": {
      "text/plain": [
       "['history_dizziness o-o history_nausea [no edge]:0.7500[-->]:0.0000[<--]:0.0000[o->]:0.0000[<-o]:0.0000[o-o]:0.2500[<->]:0.0000[---]:0.0000',\n",
       " 'history_fluctuating o-o m_sn_lt_1k [no edge]:0.2500[-->]:0.0000[<--]:0.0000[o->]:0.0000[<-o]:0.0000[o-o]:0.7500[<->]:0.0000[---]:0.0000',\n",
       " 'm_gt_1k o-> history_ringing [no edge]:0.5000[-->]:0.0000[<--]:0.0000[o->]:0.0000[<-o]:0.2500[o-o]:0.2500[<->]:0.0000[---]:0.0000',\n",
       " 'boneAbnormal o-> indentifier [no edge]:0.2500[-->]:0.0000[<--]:0.0000[o->]:0.7500[<-o]:0.0000[o-o]:0.0000[<->]:0.0000[---]:0.0000',\n",
       " 'm_m_sn_gt_2k o-> notch_4k [no edge]:0.5000[-->]:0.0000[<--]:0.0000[o->]:0.5000[<-o]:0.0000[o-o]:0.0000[<->]:0.0000[---]:0.0000',\n",
       " 'mod_sn_gt_2k o-> notch_4k [no edge]:0.7500[-->]:0.0000[<--]:0.0000[o->]:0.2500[<-o]:0.0000[o-o]:0.0000[<->]:0.0000[---]:0.0000',\n",
       " 'speech o-> indentifier [no edge]:0.0000[-->]:0.0000[<--]:0.0000[o->]:0.0000[<-o]:1.0000[o-o]:0.0000[<->]:0.0000[---]:0.0000',\n",
       " 'air o-> indentifier [no edge]:0.7500[-->]:0.0000[<--]:0.0000[o->]:0.2500[<-o]:0.0000[o-o]:0.0000[<->]:0.0000[---]:0.0000',\n",
       " 'history_vomiting o-o m_sn_gt_4k [no edge]:0.7500[-->]:0.0000[<--]:0.0000[o->]:0.0000[<-o]:0.0000[o-o]:0.2500[<->]:0.0000[---]:0.0000',\n",
       " 'm_s_gt_500 o-> notch_4k [no edge]:0.7500[-->]:0.0000[<--]:0.0000[o->]:0.2500[<-o]:0.0000[o-o]:0.0000[<->]:0.0000[---]:0.0000',\n",
       " 'bone o-> indentifier [no edge]:0.0000[-->]:0.0000[<--]:0.0000[o->]:1.0000[<-o]:0.0000[o-o]:0.0000[<->]:0.0000[---]:0.0000',\n",
       " 'class o-> indentifier [no edge]:0.5000[-->]:0.0000[<--]:0.0000[o->]:0.5000[<-o]:0.0000[o-o]:0.0000[<->]:0.0000[---]:0.0000',\n",
       " 'history_recruitment o-o m_sn_gt_1k [no edge]:0.7500[-->]:0.0000[<--]:0.0000[o->]:0.0000[<-o]:0.0000[o-o]:0.2500[<->]:0.0000[---]:0.0000',\n",
       " 'm_sn_gt_500 o-> history_ringing [no edge]:0.5000[-->]:0.0000[<--]:0.0000[o->]:0.0000[<-o]:0.2500[o-o]:0.2500[<->]:0.0000[---]:0.0000',\n",
       " 'airBoneGap o-o tymp [no edge]:0.7500[-->]:0.0000[<--]:0.0000[o->]:0.0000[<-o]:0.0000[o-o]:0.2500[<->]:0.0000[---]:0.0000',\n",
       " 'history_heredity o-o s_sn_gt_2k [no edge]:0.2500[-->]:0.0000[<--]:0.0000[o->]:0.0000[<-o]:0.0000[o-o]:0.7500[<->]:0.0000[---]:0.0000',\n",
       " 'history_dizziness o-o history_roaring [no edge]:0.7500[-->]:0.0000[<--]:0.0000[o->]:0.0000[<-o]:0.0000[o-o]:0.2500[<->]:0.0000[---]:0.0000',\n",
       " 'history_nausea o-o history_roaring [no edge]:0.0000[-->]:0.0000[<--]:0.0000[o->]:0.0000[<-o]:0.0000[o-o]:1.0000[<->]:0.0000[---]:0.0000']"
      ]
     },
     "execution_count": 8,
     "metadata": {},
     "output_type": "execute_result"
    }
   ],
   "source": [
    "tetrad.getEdges()"
   ]
  },
  {
   "cell_type": "markdown",
   "metadata": {},
   "source": [
    "#### Plot The Result's Graph"
   ]
  },
  {
   "cell_type": "code",
   "execution_count": 9,
   "metadata": {},
   "outputs": [
    {
     "data": {
      "image/svg+xml": [
       "<svg height=\"287pt\" viewBox=\"0.00 0.00 3993.00 287.00\" width=\"3993pt\" xmlns=\"http://www.w3.org/2000/svg\" xmlns:xlink=\"http://www.w3.org/1999/xlink\">\n",
       "<g class=\"graph\" id=\"graph0\" transform=\"scale(1 1) rotate(0) translate(4 283)\">\n",
       "<title>G</title>\n",
       "<polygon fill=\"white\" points=\"-4,4 -4,-283 3989,-283 3989,4 -4,4\" stroke=\"none\"/>\n",
       "<!-- air -->\n",
       "<g class=\"node\" id=\"node1\"><title>air</title>\n",
       "<ellipse cx=\"27\" cy=\"-261\" fill=\"none\" rx=\"27\" ry=\"18\" stroke=\"black\"/>\n",
       "<text font-family=\"Times,serif\" font-size=\"14.00\" text-anchor=\"middle\" x=\"27\" y=\"-257.3\">air</text>\n",
       "</g>\n",
       "<!-- indentifier -->\n",
       "<g class=\"node\" id=\"node2\"><title>indentifier</title>\n",
       "<ellipse cx=\"363\" cy=\"-124.5\" fill=\"none\" rx=\"47.3916\" ry=\"18\" stroke=\"black\"/>\n",
       "<text font-family=\"Times,serif\" font-size=\"14.00\" text-anchor=\"middle\" x=\"363\" y=\"-120.8\">indentifier</text>\n",
       "</g>\n",
       "<!-- air&#45;&gt;indentifier -->\n",
       "<g class=\"edge\" id=\"edge1\"><title>air-&gt;indentifier</title>\n",
       "<path d=\"M24.2966,-234.657C23.5089,-212.966 26.3037,-182.542 45,-165 81.5234,-130.731 223.972,-125.127 305.282,-124.818\" fill=\"none\" stroke=\"black\"/>\n",
       "<ellipse cx=\"24.5378\" cy=\"-238.79\" fill=\"none\" rx=\"4\" ry=\"4\" stroke=\"black\"/>\n",
       "<polygon fill=\"black\" points=\"305.37,-128.318 315.366,-124.806 305.361,-121.318 305.37,-128.318\" stroke=\"black\"/>\n",
       "<text font-family=\"Courier,monospace\" font-size=\"14.00\" text-anchor=\"middle\" x=\"115.5\" y=\"-206.3\">air - indentifier</text>\n",
       "<text font-family=\"Courier,monospace\" font-size=\"14.00\" text-anchor=\"middle\" x=\"115.5\" y=\"-191.3\">[no edge]:0.7500</text>\n",
       "<text font-family=\"Courier,monospace\" font-size=\"14.00\" text-anchor=\"middle\" x=\"115.5\" y=\"-176.3\">[o-&gt;]:0.2500</text>\n",
       "</g>\n",
       "<!-- airBoneGap -->\n",
       "<g class=\"node\" id=\"node3\"><title>airBoneGap</title>\n",
       "<ellipse cx=\"970\" cy=\"-261\" fill=\"none\" rx=\"53.0913\" ry=\"18\" stroke=\"black\"/>\n",
       "<text font-family=\"Times,serif\" font-size=\"14.00\" text-anchor=\"middle\" x=\"970\" y=\"-257.3\">airBoneGap</text>\n",
       "</g>\n",
       "<!-- tymp -->\n",
       "<g class=\"node\" id=\"node4\"><title>tymp</title>\n",
       "<ellipse cx=\"970\" cy=\"-124.5\" fill=\"none\" rx=\"29.4969\" ry=\"18\" stroke=\"black\"/>\n",
       "<text font-family=\"Times,serif\" font-size=\"14.00\" text-anchor=\"middle\" x=\"970\" y=\"-120.8\">tymp</text>\n",
       "</g>\n",
       "<!-- airBoneGap&#45;&gt;tymp -->\n",
       "<g class=\"edge\" id=\"edge2\"><title>airBoneGap-&gt;tymp</title>\n",
       "<path d=\"M970,-234.818C970,-210.911 970,-175.152 970,-151.106\" fill=\"none\" stroke=\"black\"/>\n",
       "<ellipse cx=\"970\" cy=\"-238.965\" fill=\"none\" rx=\"4\" ry=\"4\" stroke=\"black\"/>\n",
       "<ellipse cx=\"970\" cy=\"-146.821\" fill=\"none\" rx=\"4\" ry=\"4\" stroke=\"black\"/>\n",
       "<text font-family=\"Courier,monospace\" font-size=\"14.00\" text-anchor=\"middle\" x=\"1040.5\" y=\"-206.3\">airBoneGap - tymp</text>\n",
       "<text font-family=\"Courier,monospace\" font-size=\"14.00\" text-anchor=\"middle\" x=\"1040.5\" y=\"-191.3\">[no edge]:0.7500</text>\n",
       "<text font-family=\"Courier,monospace\" font-size=\"14.00\" text-anchor=\"middle\" x=\"1040.5\" y=\"-176.3\">[o-o]:0.2500</text>\n",
       "</g>\n",
       "<!-- bone -->\n",
       "<g class=\"node\" id=\"node5\"><title>bone</title>\n",
       "<ellipse cx=\"191\" cy=\"-261\" fill=\"none\" rx=\"27.8951\" ry=\"18\" stroke=\"black\"/>\n",
       "<text font-family=\"Times,serif\" font-size=\"14.00\" text-anchor=\"middle\" x=\"191\" y=\"-257.3\">bone</text>\n",
       "</g>\n",
       "<!-- bone&#45;&gt;indentifier -->\n",
       "<g class=\"edge\" id=\"edge3\"><title>bone-&gt;indentifier</title>\n",
       "<path d=\"M189.158,-234.548C189.062,-213.253 192.524,-183.469 210,-165 223.63,-150.595 270.666,-139.862 309.027,-133.248\" fill=\"none\" stroke=\"black\"/>\n",
       "<ellipse cx=\"189.268\" cy=\"-238.816\" fill=\"none\" rx=\"4\" ry=\"4\" stroke=\"black\"/>\n",
       "<polygon fill=\"black\" points=\"309.784,-136.67 319.073,-131.574 308.633,-129.765 309.784,-136.67\" stroke=\"black\"/>\n",
       "<text font-family=\"Courier,monospace\" font-size=\"14.00\" text-anchor=\"middle\" x=\"284.5\" y=\"-198.8\">bone - indentifier</text>\n",
       "<text font-family=\"Courier,monospace\" font-size=\"14.00\" text-anchor=\"middle\" x=\"284.5\" y=\"-183.8\">[o-&gt;]:1.0000</text>\n",
       "</g>\n",
       "<!-- boneAbnormal -->\n",
       "<g class=\"node\" id=\"node6\"><title>boneAbnormal</title>\n",
       "<ellipse cx=\"363\" cy=\"-261\" fill=\"none\" rx=\"63.8893\" ry=\"18\" stroke=\"black\"/>\n",
       "<text font-family=\"Times,serif\" font-size=\"14.00\" text-anchor=\"middle\" x=\"363\" y=\"-257.3\">boneAbnormal</text>\n",
       "</g>\n",
       "<!-- boneAbnormal&#45;&gt;indentifier -->\n",
       "<g class=\"edge\" id=\"edge4\"><title>boneAbnormal-&gt;indentifier</title>\n",
       "<path d=\"M363,-234.818C363,-211.54 363,-177.026 363,-153.029\" fill=\"none\" stroke=\"black\"/>\n",
       "<ellipse cx=\"363\" cy=\"-238.965\" fill=\"none\" rx=\"4\" ry=\"4\" stroke=\"black\"/>\n",
       "<polygon fill=\"black\" points=\"366.5,-152.821 363,-142.821 359.5,-152.821 366.5,-152.821\" stroke=\"black\"/>\n",
       "<text font-family=\"Courier,monospace\" font-size=\"14.00\" text-anchor=\"middle\" x=\"470.5\" y=\"-206.3\">boneAbnormal - indentifier</text>\n",
       "<text font-family=\"Courier,monospace\" font-size=\"14.00\" text-anchor=\"middle\" x=\"470.5\" y=\"-191.3\">[no edge]:0.2500</text>\n",
       "<text font-family=\"Courier,monospace\" font-size=\"14.00\" text-anchor=\"middle\" x=\"470.5\" y=\"-176.3\">[o-&gt;]:0.7500</text>\n",
       "</g>\n",
       "<!-- class -->\n",
       "<g class=\"node\" id=\"node7\"><title>class</title>\n",
       "<ellipse cx=\"601\" cy=\"-261\" fill=\"none\" rx=\"27.8951\" ry=\"18\" stroke=\"black\"/>\n",
       "<text font-family=\"Times,serif\" font-size=\"14.00\" text-anchor=\"middle\" x=\"601\" y=\"-257.3\">class</text>\n",
       "</g>\n",
       "<!-- class&#45;&gt;indentifier -->\n",
       "<g class=\"edge\" id=\"edge5\"><title>class-&gt;indentifier</title>\n",
       "<path d=\"M602.28,-234.808C601.922,-213.215 597.705,-182.851 579,-165 556.672,-143.691 476.175,-133.536 420.027,-128.95\" fill=\"none\" stroke=\"black\"/>\n",
       "<ellipse cx=\"602.261\" cy=\"-238.894\" fill=\"none\" rx=\"4\" ry=\"4\" stroke=\"black\"/>\n",
       "<polygon fill=\"black\" points=\"420.087,-125.444 409.845,-128.157 419.543,-132.423 420.087,-125.444\" stroke=\"black\"/>\n",
       "<text font-family=\"Courier,monospace\" font-size=\"14.00\" text-anchor=\"middle\" x=\"680.5\" y=\"-206.3\">class - indentifier</text>\n",
       "<text font-family=\"Courier,monospace\" font-size=\"14.00\" text-anchor=\"middle\" x=\"680.5\" y=\"-191.3\">[no edge]:0.5000</text>\n",
       "<text font-family=\"Courier,monospace\" font-size=\"14.00\" text-anchor=\"middle\" x=\"680.5\" y=\"-176.3\">[o-&gt;]:0.5000</text>\n",
       "</g>\n",
       "<!-- history_dizziness -->\n",
       "<g class=\"node\" id=\"node8\"><title>history_dizziness</title>\n",
       "<ellipse cx=\"1282\" cy=\"-261\" fill=\"none\" rx=\"71.4873\" ry=\"18\" stroke=\"black\"/>\n",
       "<text font-family=\"Times,serif\" font-size=\"14.00\" text-anchor=\"middle\" x=\"1282\" y=\"-257.3\">history_dizziness</text>\n",
       "</g>\n",
       "<!-- history_nausea -->\n",
       "<g class=\"node\" id=\"node9\"><title>history_nausea</title>\n",
       "<ellipse cx=\"1138\" cy=\"-124.5\" fill=\"none\" rx=\"63.8893\" ry=\"18\" stroke=\"black\"/>\n",
       "<text font-family=\"Times,serif\" font-size=\"14.00\" text-anchor=\"middle\" x=\"1138\" y=\"-120.8\">history_nausea</text>\n",
       "</g>\n",
       "<!-- history_dizziness&#45;&gt;history_nausea -->\n",
       "<g class=\"edge\" id=\"edge6\"><title>history_dizziness-&gt;history_nausea</title>\n",
       "<path d=\"M1210.12,-251.362C1177.83,-245.858 1144.78,-237.384 1135,-225 1118.57,-204.196 1122.91,-172.597 1129.02,-150.61\" fill=\"none\" stroke=\"black\"/>\n",
       "<ellipse cx=\"1214.36\" cy=\"-252.053\" fill=\"none\" rx=\"4.00001\" ry=\"4.00001\" stroke=\"black\"/>\n",
       "<ellipse cx=\"1130.26\" cy=\"-146.526\" fill=\"none\" rx=\"4.00001\" ry=\"4.00001\" stroke=\"black\"/>\n",
       "<text font-family=\"Courier,monospace\" font-size=\"14.00\" text-anchor=\"middle\" x=\"1275.5\" y=\"-206.3\">history_dizziness - history_nausea</text>\n",
       "<text font-family=\"Courier,monospace\" font-size=\"14.00\" text-anchor=\"middle\" x=\"1275.5\" y=\"-191.3\">[no edge]:0.7500</text>\n",
       "<text font-family=\"Courier,monospace\" font-size=\"14.00\" text-anchor=\"middle\" x=\"1275.5\" y=\"-176.3\">[o-o]:0.2500</text>\n",
       "</g>\n",
       "<!-- history_roaring -->\n",
       "<g class=\"node\" id=\"node10\"><title>history_roaring</title>\n",
       "<ellipse cx=\"1288\" cy=\"-18\" fill=\"none\" rx=\"64.9885\" ry=\"18\" stroke=\"black\"/>\n",
       "<text font-family=\"Times,serif\" font-size=\"14.00\" text-anchor=\"middle\" x=\"1288\" y=\"-14.3\">history_roaring</text>\n",
       "</g>\n",
       "<!-- history_dizziness&#45;&gt;history_roaring -->\n",
       "<g class=\"edge\" id=\"edge7\"><title>history_dizziness-&gt;history_roaring</title>\n",
       "<path d=\"M1351.02,-249.894C1379.34,-244.205 1407.5,-236.002 1416,-225 1439.23,-194.926 1439.06,-84.2065 1416,-54 1407.7,-43.1243 1379.55,-34.8062 1351.75,-29.0137\" fill=\"none\" stroke=\"black\"/>\n",
       "<ellipse cx=\"1346.97\" cy=\"-250.675\" fill=\"none\" rx=\"4.00001\" ry=\"4.00001\" stroke=\"black\"/>\n",
       "<ellipse cx=\"1347.47\" cy=\"-28.1572\" fill=\"none\" rx=\"4.00001\" ry=\"4.00001\" stroke=\"black\"/>\n",
       "<text font-family=\"Courier,monospace\" font-size=\"14.00\" text-anchor=\"middle\" x=\"1578.5\" y=\"-135.8\">history_dizziness - history_roaring</text>\n",
       "<text font-family=\"Courier,monospace\" font-size=\"14.00\" text-anchor=\"middle\" x=\"1578.5\" y=\"-120.8\">[no edge]:0.7500</text>\n",
       "<text font-family=\"Courier,monospace\" font-size=\"14.00\" text-anchor=\"middle\" x=\"1578.5\" y=\"-105.8\">[o-o]:0.2500</text>\n",
       "</g>\n",
       "<!-- history_nausea&#45;&gt;history_roaring -->\n",
       "<g class=\"edge\" id=\"edge8\"><title>history_nausea-&gt;history_roaring</title>\n",
       "<path d=\"M1136.41,-98.165C1136.89,-83.4969 1140.06,-65.6821 1151,-54 1161.28,-43.0226 1193.12,-34.5345 1223.51,-28.668\" fill=\"none\" stroke=\"black\"/>\n",
       "<ellipse cx=\"1136.41\" cy=\"-102.368\" fill=\"none\" rx=\"4\" ry=\"4\" stroke=\"black\"/>\n",
       "<ellipse cx=\"1227.68\" cy=\"-27.8914\" fill=\"none\" rx=\"4.00001\" ry=\"4.00001\" stroke=\"black\"/>\n",
       "<text font-family=\"Courier,monospace\" font-size=\"14.00\" text-anchor=\"middle\" x=\"1283.5\" y=\"-72.8\">history_nausea - history_roaring</text>\n",
       "<text font-family=\"Courier,monospace\" font-size=\"14.00\" text-anchor=\"middle\" x=\"1283.5\" y=\"-57.8\">[o-o]:1.0000</text>\n",
       "</g>\n",
       "<!-- history_fluctuating -->\n",
       "<g class=\"node\" id=\"node11\"><title>history_fluctuating</title>\n",
       "<ellipse cx=\"1790\" cy=\"-261\" fill=\"none\" rx=\"77.1866\" ry=\"18\" stroke=\"black\"/>\n",
       "<text font-family=\"Times,serif\" font-size=\"14.00\" text-anchor=\"middle\" x=\"1790\" y=\"-257.3\">history_fluctuating</text>\n",
       "</g>\n",
       "<!-- m_sn_lt_1k -->\n",
       "<g class=\"node\" id=\"node12\"><title>m_sn_lt_1k</title>\n",
       "<ellipse cx=\"1790\" cy=\"-124.5\" fill=\"none\" rx=\"52.7911\" ry=\"18\" stroke=\"black\"/>\n",
       "<text font-family=\"Times,serif\" font-size=\"14.00\" text-anchor=\"middle\" x=\"1790\" y=\"-120.8\">m_sn_lt_1k</text>\n",
       "</g>\n",
       "<!-- history_fluctuating&#45;&gt;m_sn_lt_1k -->\n",
       "<g class=\"edge\" id=\"edge9\"><title>history_fluctuating-&gt;m_sn_lt_1k</title>\n",
       "<path d=\"M1790,-234.818C1790,-210.911 1790,-175.152 1790,-151.106\" fill=\"none\" stroke=\"black\"/>\n",
       "<ellipse cx=\"1790\" cy=\"-238.965\" fill=\"none\" rx=\"4\" ry=\"4\" stroke=\"black\"/>\n",
       "<ellipse cx=\"1790\" cy=\"-146.821\" fill=\"none\" rx=\"4\" ry=\"4\" stroke=\"black\"/>\n",
       "<text font-family=\"Courier,monospace\" font-size=\"14.00\" text-anchor=\"middle\" x=\"1922.5\" y=\"-206.3\">history_fluctuating - m_sn_lt_1k</text>\n",
       "<text font-family=\"Courier,monospace\" font-size=\"14.00\" text-anchor=\"middle\" x=\"1922.5\" y=\"-191.3\">[no edge]:0.2500</text>\n",
       "<text font-family=\"Courier,monospace\" font-size=\"14.00\" text-anchor=\"middle\" x=\"1922.5\" y=\"-176.3\">[o-o]:0.7500</text>\n",
       "</g>\n",
       "<!-- history_heredity -->\n",
       "<g class=\"node\" id=\"node13\"><title>history_heredity</title>\n",
       "<ellipse cx=\"2078\" cy=\"-261\" fill=\"none\" rx=\"68.4888\" ry=\"18\" stroke=\"black\"/>\n",
       "<text font-family=\"Times,serif\" font-size=\"14.00\" text-anchor=\"middle\" x=\"2078\" y=\"-257.3\">history_heredity</text>\n",
       "</g>\n",
       "<!-- s_sn_gt_2k -->\n",
       "<g class=\"node\" id=\"node14\"><title>s_sn_gt_2k</title>\n",
       "<ellipse cx=\"2078\" cy=\"-124.5\" fill=\"none\" rx=\"50.8918\" ry=\"18\" stroke=\"black\"/>\n",
       "<text font-family=\"Times,serif\" font-size=\"14.00\" text-anchor=\"middle\" x=\"2078\" y=\"-120.8\">s_sn_gt_2k</text>\n",
       "</g>\n",
       "<!-- history_heredity&#45;&gt;s_sn_gt_2k -->\n",
       "<g class=\"edge\" id=\"edge10\"><title>history_heredity-&gt;s_sn_gt_2k</title>\n",
       "<path d=\"M2078,-234.818C2078,-210.911 2078,-175.152 2078,-151.106\" fill=\"none\" stroke=\"black\"/>\n",
       "<ellipse cx=\"2078\" cy=\"-238.965\" fill=\"none\" rx=\"4\" ry=\"4\" stroke=\"black\"/>\n",
       "<ellipse cx=\"2078\" cy=\"-146.821\" fill=\"none\" rx=\"4\" ry=\"4\" stroke=\"black\"/>\n",
       "<text font-family=\"Courier,monospace\" font-size=\"14.00\" text-anchor=\"middle\" x=\"2198\" y=\"-206.3\">history_heredity - s_sn_gt_2k</text>\n",
       "<text font-family=\"Courier,monospace\" font-size=\"14.00\" text-anchor=\"middle\" x=\"2198\" y=\"-191.3\">[no edge]:0.2500</text>\n",
       "<text font-family=\"Courier,monospace\" font-size=\"14.00\" text-anchor=\"middle\" x=\"2198\" y=\"-176.3\">[o-o]:0.7500</text>\n",
       "</g>\n",
       "<!-- history_recruitment -->\n",
       "<g class=\"node\" id=\"node15\"><title>history_recruitment</title>\n",
       "<ellipse cx=\"2341\" cy=\"-261\" fill=\"none\" rx=\"80.6858\" ry=\"18\" stroke=\"black\"/>\n",
       "<text font-family=\"Times,serif\" font-size=\"14.00\" text-anchor=\"middle\" x=\"2341\" y=\"-257.3\">history_recruitment</text>\n",
       "</g>\n",
       "<!-- m_sn_gt_1k -->\n",
       "<g class=\"node\" id=\"node16\"><title>m_sn_gt_1k</title>\n",
       "<ellipse cx=\"2341\" cy=\"-124.5\" fill=\"none\" rx=\"54.6905\" ry=\"18\" stroke=\"black\"/>\n",
       "<text font-family=\"Times,serif\" font-size=\"14.00\" text-anchor=\"middle\" x=\"2341\" y=\"-120.8\">m_sn_gt_1k</text>\n",
       "</g>\n",
       "<!-- history_recruitment&#45;&gt;m_sn_gt_1k -->\n",
       "<g class=\"edge\" id=\"edge11\"><title>history_recruitment-&gt;m_sn_gt_1k</title>\n",
       "<path d=\"M2341,-234.818C2341,-210.911 2341,-175.152 2341,-151.106\" fill=\"none\" stroke=\"black\"/>\n",
       "<ellipse cx=\"2341\" cy=\"-238.965\" fill=\"none\" rx=\"4\" ry=\"4\" stroke=\"black\"/>\n",
       "<ellipse cx=\"2341\" cy=\"-146.821\" fill=\"none\" rx=\"4\" ry=\"4\" stroke=\"black\"/>\n",
       "<text font-family=\"Courier,monospace\" font-size=\"14.00\" text-anchor=\"middle\" x=\"2473.5\" y=\"-206.3\">history_recruitment - m_sn_gt_1k</text>\n",
       "<text font-family=\"Courier,monospace\" font-size=\"14.00\" text-anchor=\"middle\" x=\"2473.5\" y=\"-191.3\">[no edge]:0.7500</text>\n",
       "<text font-family=\"Courier,monospace\" font-size=\"14.00\" text-anchor=\"middle\" x=\"2473.5\" y=\"-176.3\">[o-o]:0.2500</text>\n",
       "</g>\n",
       "<!-- history_vomiting -->\n",
       "<g class=\"node\" id=\"node17\"><title>history_vomiting</title>\n",
       "<ellipse cx=\"2629\" cy=\"-261\" fill=\"none\" rx=\"71.4873\" ry=\"18\" stroke=\"black\"/>\n",
       "<text font-family=\"Times,serif\" font-size=\"14.00\" text-anchor=\"middle\" x=\"2629\" y=\"-257.3\">history_vomiting</text>\n",
       "</g>\n",
       "<!-- m_sn_gt_4k -->\n",
       "<g class=\"node\" id=\"node18\"><title>m_sn_gt_4k</title>\n",
       "<ellipse cx=\"2629\" cy=\"-124.5\" fill=\"none\" rx=\"54.6905\" ry=\"18\" stroke=\"black\"/>\n",
       "<text font-family=\"Times,serif\" font-size=\"14.00\" text-anchor=\"middle\" x=\"2629\" y=\"-120.8\">m_sn_gt_4k</text>\n",
       "</g>\n",
       "<!-- history_vomiting&#45;&gt;m_sn_gt_4k -->\n",
       "<g class=\"edge\" id=\"edge12\"><title>history_vomiting-&gt;m_sn_gt_4k</title>\n",
       "<path d=\"M2629,-234.818C2629,-210.911 2629,-175.152 2629,-151.106\" fill=\"none\" stroke=\"black\"/>\n",
       "<ellipse cx=\"2629\" cy=\"-238.965\" fill=\"none\" rx=\"4\" ry=\"4\" stroke=\"black\"/>\n",
       "<ellipse cx=\"2629\" cy=\"-146.821\" fill=\"none\" rx=\"4\" ry=\"4\" stroke=\"black\"/>\n",
       "<text font-family=\"Courier,monospace\" font-size=\"14.00\" text-anchor=\"middle\" x=\"2749\" y=\"-206.3\">history_vomiting - m_sn_gt_4k</text>\n",
       "<text font-family=\"Courier,monospace\" font-size=\"14.00\" text-anchor=\"middle\" x=\"2749\" y=\"-191.3\">[no edge]:0.7500</text>\n",
       "<text font-family=\"Courier,monospace\" font-size=\"14.00\" text-anchor=\"middle\" x=\"2749\" y=\"-176.3\">[o-o]:0.2500</text>\n",
       "</g>\n",
       "<!-- m_gt_1k -->\n",
       "<g class=\"node\" id=\"node19\"><title>m_gt_1k</title>\n",
       "<ellipse cx=\"2892\" cy=\"-261\" fill=\"none\" rx=\"42.4939\" ry=\"18\" stroke=\"black\"/>\n",
       "<text font-family=\"Times,serif\" font-size=\"14.00\" text-anchor=\"middle\" x=\"2892\" y=\"-257.3\">m_gt_1k</text>\n",
       "</g>\n",
       "<!-- history_ringing -->\n",
       "<g class=\"node\" id=\"node20\"><title>history_ringing</title>\n",
       "<ellipse cx=\"3007\" cy=\"-124.5\" fill=\"none\" rx=\"64.9885\" ry=\"18\" stroke=\"black\"/>\n",
       "<text font-family=\"Times,serif\" font-size=\"14.00\" text-anchor=\"middle\" x=\"3007\" y=\"-120.8\">history_ringing</text>\n",
       "</g>\n",
       "<!-- m_gt_1k&#45;&gt;history_ringing -->\n",
       "<g class=\"edge\" id=\"edge13\"><title>m_gt_1k-&gt;history_ringing</title>\n",
       "<path d=\"M2884.96,-235.075C2880.7,-214.358 2878.52,-185.119 2893,-165 2903.74,-150.082 2920.51,-140.751 2937.91,-134.928\" fill=\"none\" stroke=\"black\"/>\n",
       "<ellipse cx=\"2885.91\" cy=\"-239.208\" fill=\"none\" rx=\"4.00001\" ry=\"4.00001\" stroke=\"black\"/>\n",
       "<polygon fill=\"black\" points=\"2939.03,-138.248 2947.62,-132.041 2937.03,-131.539 2939.03,-138.248\" stroke=\"black\"/>\n",
       "<text font-family=\"Courier,monospace\" font-size=\"14.00\" text-anchor=\"middle\" x=\"2996.5\" y=\"-213.8\">history_ringing - m_gt_1k</text>\n",
       "<text font-family=\"Courier,monospace\" font-size=\"14.00\" text-anchor=\"middle\" x=\"2996.5\" y=\"-198.8\">[no edge]:0.5000</text>\n",
       "<text font-family=\"Courier,monospace\" font-size=\"14.00\" text-anchor=\"middle\" x=\"2996.5\" y=\"-183.8\">[&lt;-o]:0.2500</text>\n",
       "<text font-family=\"Courier,monospace\" font-size=\"14.00\" text-anchor=\"middle\" x=\"2996.5\" y=\"-168.8\">[o-o]:0.2500</text>\n",
       "</g>\n",
       "<!-- m_m_sn_gt_2k -->\n",
       "<g class=\"node\" id=\"node21\"><title>m_m_sn_gt_2k</title>\n",
       "<ellipse cx=\"3385\" cy=\"-261\" fill=\"none\" rx=\"66.0889\" ry=\"18\" stroke=\"black\"/>\n",
       "<text font-family=\"Times,serif\" font-size=\"14.00\" text-anchor=\"middle\" x=\"3385\" y=\"-257.3\">m_m_sn_gt_2k</text>\n",
       "</g>\n",
       "<!-- notch_4k -->\n",
       "<g class=\"node\" id=\"node22\"><title>notch_4k</title>\n",
       "<ellipse cx=\"3598\" cy=\"-124.5\" fill=\"none\" rx=\"43.5923\" ry=\"18\" stroke=\"black\"/>\n",
       "<text font-family=\"Times,serif\" font-size=\"14.00\" text-anchor=\"middle\" x=\"3598\" y=\"-120.8\">notch_4k</text>\n",
       "</g>\n",
       "<!-- m_m_sn_gt_2k&#45;&gt;notch_4k -->\n",
       "<g class=\"edge\" id=\"edge14\"><title>m_m_sn_gt_2k-&gt;notch_4k</title>\n",
       "<path d=\"M3382.92,-234.603C3382.65,-213.143 3385.97,-183.091 3404,-165 3423.46,-145.468 3494.73,-134.904 3545.23,-129.738\" fill=\"none\" stroke=\"black\"/>\n",
       "<ellipse cx=\"3383.06\" cy=\"-238.649\" fill=\"none\" rx=\"4\" ry=\"4\" stroke=\"black\"/>\n",
       "<polygon fill=\"black\" points=\"3545.73,-133.205 3555.34,-128.746 3545.05,-126.239 3545.73,-133.205\" stroke=\"black\"/>\n",
       "<text font-family=\"Courier,monospace\" font-size=\"14.00\" text-anchor=\"middle\" x=\"3499\" y=\"-206.3\">m_m_sn_gt_2k - notch_4k</text>\n",
       "<text font-family=\"Courier,monospace\" font-size=\"14.00\" text-anchor=\"middle\" x=\"3499\" y=\"-191.3\">[no edge]:0.5000</text>\n",
       "<text font-family=\"Courier,monospace\" font-size=\"14.00\" text-anchor=\"middle\" x=\"3499\" y=\"-176.3\">[o-&gt;]:0.5000</text>\n",
       "</g>\n",
       "<!-- m_s_gt_500 -->\n",
       "<g class=\"node\" id=\"node23\"><title>m_s_gt_500</title>\n",
       "<ellipse cx=\"3598\" cy=\"-261\" fill=\"none\" rx=\"54.6905\" ry=\"18\" stroke=\"black\"/>\n",
       "<text font-family=\"Times,serif\" font-size=\"14.00\" text-anchor=\"middle\" x=\"3598\" y=\"-257.3\">m_s_gt_500</text>\n",
       "</g>\n",
       "<!-- m_s_gt_500&#45;&gt;notch_4k -->\n",
       "<g class=\"edge\" id=\"edge15\"><title>m_s_gt_500-&gt;notch_4k</title>\n",
       "<path d=\"M3598,-234.818C3598,-211.54 3598,-177.026 3598,-153.029\" fill=\"none\" stroke=\"black\"/>\n",
       "<ellipse cx=\"3598\" cy=\"-238.965\" fill=\"none\" rx=\"4\" ry=\"4\" stroke=\"black\"/>\n",
       "<polygon fill=\"black\" points=\"3601.5,-152.821 3598,-142.821 3594.5,-152.821 3601.5,-152.821\" stroke=\"black\"/>\n",
       "<text font-family=\"Courier,monospace\" font-size=\"14.00\" text-anchor=\"middle\" x=\"3685\" y=\"-206.3\">m_s_gt_500 - notch_4k</text>\n",
       "<text font-family=\"Courier,monospace\" font-size=\"14.00\" text-anchor=\"middle\" x=\"3685\" y=\"-191.3\">[no edge]:0.7500</text>\n",
       "<text font-family=\"Courier,monospace\" font-size=\"14.00\" text-anchor=\"middle\" x=\"3685\" y=\"-176.3\">[o-&gt;]:0.2500</text>\n",
       "</g>\n",
       "<!-- m_sn_gt_500 -->\n",
       "<g class=\"node\" id=\"node24\"><title>m_sn_gt_500</title>\n",
       "<ellipse cx=\"3122\" cy=\"-261\" fill=\"none\" rx=\"59.2899\" ry=\"18\" stroke=\"black\"/>\n",
       "<text font-family=\"Times,serif\" font-size=\"14.00\" text-anchor=\"middle\" x=\"3122\" y=\"-257.3\">m_sn_gt_500</text>\n",
       "</g>\n",
       "<!-- m_sn_gt_500&#45;&gt;history_ringing -->\n",
       "<g class=\"edge\" id=\"edge16\"><title>m_sn_gt_500-&gt;history_ringing</title>\n",
       "<path d=\"M3122.21,-234.752C3121.09,-213.837 3116.36,-184.487 3100,-165 3090.92,-154.189 3078.37,-146.271 3065.41,-140.497\" fill=\"none\" stroke=\"black\"/>\n",
       "<ellipse cx=\"3122.35\" cy=\"-238.871\" fill=\"none\" rx=\"4\" ry=\"4\" stroke=\"black\"/>\n",
       "<polygon fill=\"black\" points=\"3066.53,-137.175 3055.95,-136.66 3063.9,-143.662 3066.53,-137.175\" stroke=\"black\"/>\n",
       "<text font-family=\"Courier,monospace\" font-size=\"14.00\" text-anchor=\"middle\" x=\"3242\" y=\"-213.8\">history_ringing - m_sn_gt_500</text>\n",
       "<text font-family=\"Courier,monospace\" font-size=\"14.00\" text-anchor=\"middle\" x=\"3242\" y=\"-198.8\">[no edge]:0.5000</text>\n",
       "<text font-family=\"Courier,monospace\" font-size=\"14.00\" text-anchor=\"middle\" x=\"3242\" y=\"-183.8\">[&lt;-o]:0.2500</text>\n",
       "<text font-family=\"Courier,monospace\" font-size=\"14.00\" text-anchor=\"middle\" x=\"3242\" y=\"-168.8\">[o-o]:0.2500</text>\n",
       "</g>\n",
       "<!-- mod_sn_gt_2k -->\n",
       "<g class=\"node\" id=\"node25\"><title>mod_sn_gt_2k</title>\n",
       "<ellipse cx=\"3795\" cy=\"-261\" fill=\"none\" rx=\"63.8893\" ry=\"18\" stroke=\"black\"/>\n",
       "<text font-family=\"Times,serif\" font-size=\"14.00\" text-anchor=\"middle\" x=\"3795\" y=\"-257.3\">mod_sn_gt_2k</text>\n",
       "</g>\n",
       "<!-- mod_sn_gt_2k&#45;&gt;notch_4k -->\n",
       "<g class=\"edge\" id=\"edge17\"><title>mod_sn_gt_2k-&gt;notch_4k</title>\n",
       "<path d=\"M3796.09,-234.621C3795.57,-213.172 3791.23,-183.126 3773,-165 3755.8,-147.9 3694.78,-136.988 3649.6,-131.063\" fill=\"none\" stroke=\"black\"/>\n",
       "<ellipse cx=\"3796.1\" cy=\"-238.66\" fill=\"none\" rx=\"4\" ry=\"4\" stroke=\"black\"/>\n",
       "<polygon fill=\"black\" points=\"3650.01,-127.587 3639.65,-129.803 3649.13,-134.531 3650.01,-127.587\" stroke=\"black\"/>\n",
       "<text font-family=\"Courier,monospace\" font-size=\"14.00\" text-anchor=\"middle\" x=\"3890\" y=\"-206.3\">mod_sn_gt_2k - notch_4k</text>\n",
       "<text font-family=\"Courier,monospace\" font-size=\"14.00\" text-anchor=\"middle\" x=\"3890\" y=\"-191.3\">[no edge]:0.7500</text>\n",
       "<text font-family=\"Courier,monospace\" font-size=\"14.00\" text-anchor=\"middle\" x=\"3890\" y=\"-176.3\">[o-&gt;]:0.2500</text>\n",
       "</g>\n",
       "<!-- speech -->\n",
       "<g class=\"node\" id=\"node26\"><title>speech</title>\n",
       "<ellipse cx=\"781\" cy=\"-261\" fill=\"none\" rx=\"34.394\" ry=\"18\" stroke=\"black\"/>\n",
       "<text font-family=\"Times,serif\" font-size=\"14.00\" text-anchor=\"middle\" x=\"781\" y=\"-257.3\">speech</text>\n",
       "</g>\n",
       "<!-- speech&#45;&gt;indentifier -->\n",
       "<g class=\"edge\" id=\"edge18\"><title>speech-&gt;indentifier</title>\n",
       "<path d=\"M782.629,-234.807C782.542,-212.942 778.528,-182.173 759,-165 734.108,-143.11 523.997,-131.842 420.353,-127.572\" fill=\"none\" stroke=\"black\"/>\n",
       "<ellipse cx=\"782.554\" cy=\"-238.991\" fill=\"none\" rx=\"4\" ry=\"4\" stroke=\"black\"/>\n",
       "<polygon fill=\"black\" points=\"420.196,-124.062 410.063,-127.156 419.913,-131.057 420.196,-124.062\" stroke=\"black\"/>\n",
       "<text font-family=\"Courier,monospace\" font-size=\"14.00\" text-anchor=\"middle\" x=\"866\" y=\"-198.8\">indentifier - speech</text>\n",
       "<text font-family=\"Courier,monospace\" font-size=\"14.00\" text-anchor=\"middle\" x=\"866\" y=\"-183.8\">[&lt;-o]:1.0000</text>\n",
       "</g>\n",
       "</g>\n",
       "</svg>"
      ],
      "text/plain": [
       "<IPython.core.display.SVG object>"
      ]
     },
     "execution_count": 9,
     "metadata": {},
     "output_type": "execute_result"
    }
   ],
   "source": [
    "dot = tetrad.getDot()\n",
    "svg_str = dot.create_svg(prog='dot')\n",
    "SVG(svg_str)"
   ]
  },
  {
   "cell_type": "markdown",
   "metadata": {
    "collapsed": true
   },
   "source": [
    "#### Stop Java VM"
   ]
  },
  {
   "cell_type": "code",
   "execution_count": 10,
   "metadata": {
    "collapsed": true
   },
   "outputs": [],
   "source": [
    "pc.stop_vm()"
   ]
  },
  {
   "cell_type": "code",
   "execution_count": null,
   "metadata": {
    "collapsed": true
   },
   "outputs": [],
   "source": []
  }
 ],
 "metadata": {
  "kernelspec": {
   "display_name": "Python 3",
   "language": "python",
   "name": "python3"
  },
  "language_info": {
   "codemirror_mode": {
    "name": "ipython",
    "version": 3
   },
   "file_extension": ".py",
   "mimetype": "text/x-python",
   "name": "python",
   "nbconvert_exporter": "python",
   "pygments_lexer": "ipython3",
   "version": "3.6.1"
  },
  "widgets": {
   "state": {},
   "version": "1.1.1"
  }
 },
 "nbformat": 4,
 "nbformat_minor": 1
}
