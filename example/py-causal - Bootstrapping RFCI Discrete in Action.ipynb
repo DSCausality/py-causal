{
 "cells": [
  {
   "cell_type": "code",
   "execution_count": 1,
   "metadata": {
    "collapsed": true
   },
   "outputs": [],
   "source": [
    "import pandas as pd\n",
    "import pydot\n",
    "from IPython.display import SVG"
   ]
  },
  {
   "cell_type": "markdown",
   "metadata": {},
   "source": [
    "#### Load the example dataset"
   ]
  },
  {
   "cell_type": "code",
   "execution_count": 2,
   "metadata": {
    "collapsed": true
   },
   "outputs": [],
   "source": [
    "data_dir = \"https://raw.githubusercontent.com/bd2kccd/py-causal/master/data/audiology.txt\"\n",
    "df = pd.read_table(data_dir, sep=\"\\t\")"
   ]
  },
  {
   "cell_type": "markdown",
   "metadata": {
    "collapsed": true
   },
   "source": [
    "#### Start Java VM"
   ]
  },
  {
   "cell_type": "code",
   "execution_count": 3,
   "metadata": {
    "collapsed": true
   },
   "outputs": [],
   "source": [
    "from pycausal.pycausal import pycausal as pc\n",
    "pc = pc()\n",
    "pc.start_vm(java_max_heap_size = '500M')"
   ]
  },
  {
   "cell_type": "markdown",
   "metadata": {},
   "source": [
    "#### Create the Prior Knowledge Object"
   ]
  },
  {
   "cell_type": "code",
   "execution_count": 4,
   "metadata": {},
   "outputs": [
    {
     "data": {
      "text/plain": [
       "Instance of edu.cmu.tetrad.data.Knowledge2: /knowledge\n",
       "addtemporal\n",
       "\n",
       "0* class history_fluctuating history_noise \n",
       "\n",
       "forbiddirect\n",
       "\n",
       "history_noise ==> class \n",
       "history_fluctuating ==> class \n",
       "requiredirect\n"
      ]
     },
     "execution_count": 4,
     "metadata": {},
     "output_type": "execute_result"
    }
   ],
   "source": [
    "from pycausal import prior as p\n",
    "forbid = [['history_noise','class'],['history_fluctuating','class']]\n",
    "tempForbid = p.ForbiddenWithin(\n",
    "    ['class','history_fluctuating','history_noise'])\n",
    "temporal = [tempForbid]\n",
    "prior = p.knowledge(forbiddirect = forbid, addtemporal = temporal)\n",
    "prior"
   ]
  },
  {
   "cell_type": "markdown",
   "metadata": {
    "collapsed": true
   },
   "source": [
    "#### Load causal algorithms from the py-causal library and Run Bootstrapping RFCI Discrete"
   ]
  },
  {
   "cell_type": "code",
   "execution_count": 5,
   "metadata": {},
   "outputs": [
    {
     "name": "stdout",
     "output_type": "stream",
     "text": [
      "samplePrior: Sample prior (min = 1.0) (java.lang.Double) [default:1.0]\n",
      "structurePrior: Structure prior coefficient (min = 1.0) (java.lang.Double) [default:1.0]\n",
      "depth: Maximum size of conditioning set (unlimited = -1) (java.lang.Integer) [default:-1]\n",
      "maxPathLength: The maximum length for any discriminating path. -1 if unlimited (min = -1) (java.lang.Integer) [default:-1]\n",
      "completeRuleSetUsed: Yes if the complete FCI rule set should be used (java.lang.Boolean) [default:false]\n",
      "bootstrapSampleSize: The number of bootstraps (min = 0) (java.lang.Integer) [default:0]\n",
      "bootstrapEnsemble: Ensemble method: Preserved (0), Highest (1), Majority (2) (java.lang.Integer) [default:1]\n",
      "verbose: Yes if verbose output should be printed or logged (java.lang.Boolean) [default:false]\n"
     ]
    }
   ],
   "source": [
    "from pycausal import search as s\n",
    "tetrad = s.tetradrunner()\n",
    "tetrad.getAlgorithmParameters(algoId = 'rfci', testId = 'bdeu')"
   ]
  },
  {
   "cell_type": "code",
   "execution_count": 6,
   "metadata": {},
   "outputs": [],
   "source": [
    "tetrad.run(algoId = 'rfci', dfs = df, testId = 'bdeu', priorKnowledge = prior, dataType = 'discrete',\n",
    "           structurePrior = 1.0, samplePrior = 1.0, depth = 3, maxPathLength = -1, \n",
    "           completeRuleSetUsed = True, verbose = True,\n",
    "           bootstrapSampleSize = 4, bootstrapEnsemble = 0)"
   ]
  },
  {
   "cell_type": "markdown",
   "metadata": {
    "collapsed": true
   },
   "source": [
    "#### Bootstrapping RFCI Discrete's Result's Nodes"
   ]
  },
  {
   "cell_type": "code",
   "execution_count": 7,
   "metadata": {},
   "outputs": [
    {
     "data": {
      "text/plain": [
       "[u'age_gt_60',\n",
       " u'air',\n",
       " u'airBoneGap',\n",
       " u'ar_c',\n",
       " u'ar_u',\n",
       " u'bone',\n",
       " u'boneAbnormal',\n",
       " u'bser',\n",
       " u'class',\n",
       " u'history_buzzing',\n",
       " u'history_dizziness',\n",
       " u'history_fluctuating',\n",
       " u'history_fullness',\n",
       " u'history_heredity',\n",
       " u'history_nausea',\n",
       " u'history_noise',\n",
       " u'history_recruitment',\n",
       " u'history_ringing',\n",
       " u'history_roaring',\n",
       " u'history_vomiting',\n",
       " u'indentifier',\n",
       " u'late_wave_poor',\n",
       " u'm_at_2k',\n",
       " u'm_cond_lt_1k',\n",
       " u'm_gt_1k',\n",
       " u'm_m_gt_2k',\n",
       " u'm_m_sn',\n",
       " u'm_m_sn_gt_1k',\n",
       " u'm_m_sn_gt_2k',\n",
       " u'm_m_sn_gt_500',\n",
       " u'm_p_sn_gt_2k',\n",
       " u'm_s_gt_500',\n",
       " u'm_s_sn',\n",
       " u'm_s_sn_gt_1k',\n",
       " u'm_s_sn_gt_2k',\n",
       " u'm_s_sn_gt_3k',\n",
       " u'm_s_sn_gt_4k',\n",
       " u'm_sn_2_3k',\n",
       " u'm_sn_gt_1k',\n",
       " u'm_sn_gt_2k',\n",
       " u'm_sn_gt_3k',\n",
       " u'm_sn_gt_4k',\n",
       " u'm_sn_gt_500',\n",
       " u'm_sn_gt_6k',\n",
       " u'm_sn_lt_1k',\n",
       " u'm_sn_lt_2k',\n",
       " u'm_sn_lt_3k',\n",
       " u'middle_wave_poor',\n",
       " u'mod_gt_4k',\n",
       " u'mod_mixed',\n",
       " u'mod_s_mixed',\n",
       " u'mod_s_sn_gt_500',\n",
       " u'mod_sn',\n",
       " u'mod_sn_gt_1k',\n",
       " u'mod_sn_gt_2k',\n",
       " u'mod_sn_gt_3k',\n",
       " u'mod_sn_gt_4k',\n",
       " u'mod_sn_gt_500',\n",
       " u'notch_4k',\n",
       " u'notch_at_4k',\n",
       " u'o_ar_c',\n",
       " u'o_ar_u',\n",
       " u's_sn_gt_1k',\n",
       " u's_sn_gt_2k',\n",
       " u's_sn_gt_4k',\n",
       " u'speech',\n",
       " u'static_normal',\n",
       " u'tymp',\n",
       " u'viith_nerve_signs',\n",
       " u'wave_V_delayed',\n",
       " u'waveform_ItoV_prolonged']"
      ]
     },
     "execution_count": 7,
     "metadata": {},
     "output_type": "execute_result"
    }
   ],
   "source": [
    "tetrad.getNodes()"
   ]
  },
  {
   "cell_type": "markdown",
   "metadata": {},
   "source": [
    "#### Bootstrapping RFCI Discrete's Result's Edges"
   ]
  },
  {
   "cell_type": "code",
   "execution_count": 8,
   "metadata": {},
   "outputs": [
    {
     "data": {
      "text/plain": [
       "[u'boneAbnormal o-> indentifier [no edge]:0.2500[-->]:0.0000[<--]:0.0000[o->]:0.7500[<-o]:0.0000[o-o]:0.0000[<->]:0.0000[---]:0.0000',\n",
       " u'm_m_sn_gt_2k o-o notch_4k [no edge]:0.7500[-->]:0.0000[<--]:0.0000[o->]:0.0000[<-o]:0.0000[o-o]:0.2500[<->]:0.0000[---]:0.0000',\n",
       " u'history_ringing o-o m_sn_gt_500 [no edge]:0.0000[-->]:0.0000[<--]:0.0000[o->]:0.0000[<-o]:0.2500[o-o]:0.7500[<->]:0.0000[---]:0.0000',\n",
       " u'speech o-> indentifier [no edge]:0.0000[-->]:0.0000[<--]:0.0000[o->]:0.0000[<-o]:1.0000[o-o]:0.0000[<->]:0.0000[---]:0.0000',\n",
       " u'history_heredity o-o s_sn_gt_2k [no edge]:0.5000[-->]:0.0000[<--]:0.0000[o->]:0.0000[<-o]:0.0000[o-o]:0.5000[<->]:0.0000[---]:0.0000',\n",
       " u'bone o-> indentifier [no edge]:0.0000[-->]:0.0000[<--]:0.0000[o->]:1.0000[<-o]:0.0000[o-o]:0.0000[<->]:0.0000[---]:0.0000',\n",
       " u'history_dizziness o-o m_m_sn [no edge]:0.7500[-->]:0.0000[<--]:0.0000[o->]:0.0000[<-o]:0.0000[o-o]:0.2500[<->]:0.0000[---]:0.0000',\n",
       " u'wave_V_delayed o-> history_ringing [no edge]:0.7500[-->]:0.0000[<--]:0.0000[o->]:0.0000[<-o]:0.2500[o-o]:0.0000[<->]:0.0000[---]:0.0000',\n",
       " u'history_fluctuating o-o m_sn_lt_1k [no edge]:0.5000[-->]:0.0000[<--]:0.0000[o->]:0.0000[<-o]:0.0000[o-o]:0.5000[<->]:0.0000[---]:0.0000',\n",
       " u'class o-> indentifier [no edge]:0.2500[-->]:0.0000[<--]:0.0000[o->]:0.7500[<-o]:0.0000[o-o]:0.0000[<->]:0.0000[---]:0.0000',\n",
       " u'history_nausea o-o history_roaring [no edge]:0.0000[-->]:0.0000[<--]:0.0000[o->]:0.0000[<-o]:0.0000[o-o]:1.0000[<->]:0.0000[---]:0.0000',\n",
       " u'airBoneGap o-o tymp [no edge]:0.5000[-->]:0.0000[<--]:0.0000[o->]:0.0000[<-o]:0.0000[o-o]:0.5000[<->]:0.0000[---]:0.0000',\n",
       " u'history_recruitment o-o m_sn_gt_1k [no edge]:0.7500[-->]:0.0000[<--]:0.0000[o->]:0.0000[<-o]:0.0000[o-o]:0.2500[<->]:0.0000[---]:0.0000',\n",
       " u'history_dizziness o-o static_normal [no edge]:0.7500[-->]:0.0000[<--]:0.0000[o->]:0.0000[<-o]:0.0000[o-o]:0.2500[<->]:0.0000[---]:0.0000']"
      ]
     },
     "execution_count": 8,
     "metadata": {},
     "output_type": "execute_result"
    }
   ],
   "source": [
    "tetrad.getEdges()"
   ]
  },
  {
   "cell_type": "markdown",
   "metadata": {},
   "source": [
    "#### Plot The Result's Graph"
   ]
  },
  {
   "cell_type": "code",
   "execution_count": 9,
   "metadata": {},
   "outputs": [
    {
     "data": {
      "image/svg+xml": [
       "<svg height=\"278pt\" viewBox=\"0.00 0.00 3158.24 278.00\" width=\"3158pt\" xmlns=\"http://www.w3.org/2000/svg\" xmlns:xlink=\"http://www.w3.org/1999/xlink\">\n",
       "<g class=\"graph\" id=\"graph0\" transform=\"scale(1 1) rotate(0) translate(4 274)\">\n",
       "<title>G</title>\n",
       "<polygon fill=\"white\" points=\"-4,4 -4,-274 3154.24,-274 3154.24,4 -4,4\" stroke=\"none\"/>\n",
       "<!-- history_heredity -->\n",
       "<g class=\"node\" id=\"node1\"><title>history_heredity</title>\n",
       "<ellipse cx=\"68.2439\" cy=\"-252\" fill=\"none\" rx=\"68.4888\" ry=\"18\" stroke=\"black\"/>\n",
       "<text font-family=\"Times,serif\" font-size=\"14.00\" text-anchor=\"middle\" x=\"68.2439\" y=\"-248.3\">history_heredity</text>\n",
       "</g>\n",
       "<!-- s_sn_gt_2k -->\n",
       "<g class=\"node\" id=\"node2\"><title>s_sn_gt_2k</title>\n",
       "<ellipse cx=\"68.2439\" cy=\"-135\" fill=\"none\" rx=\"50.8918\" ry=\"18\" stroke=\"black\"/>\n",
       "<text font-family=\"Times,serif\" font-size=\"14.00\" text-anchor=\"middle\" x=\"68.2439\" y=\"-131.3\">s_sn_gt_2k</text>\n",
       "</g>\n",
       "<!-- history_heredity&#45;&gt;s_sn_gt_2k -->\n",
       "<g class=\"edge\" id=\"edge1\"><title>history_heredity-&gt;s_sn_gt_2k</title>\n",
       "<path d=\"M68.2439,-225.315C68.2439,-206.272 68.2439,-180.433 68.2439,-161.446\" fill=\"none\" stroke=\"black\"/>\n",
       "<ellipse cx=\"68.244\" cy=\"-229.534\" fill=\"none\" rx=\"4\" ry=\"4\" stroke=\"black\"/>\n",
       "<ellipse cx=\"68.244\" cy=\"-157.254\" fill=\"none\" rx=\"4\" ry=\"4\" stroke=\"black\"/>\n",
       "<text font-family=\"Courier,monospace\" font-size=\"14.00\" text-anchor=\"middle\" x=\"188.244\" y=\"-204.8\">history_heredity - s_sn_gt_2k</text>\n",
       "<text font-family=\"Courier,monospace\" font-size=\"14.00\" text-anchor=\"middle\" x=\"188.244\" y=\"-189.8\">[no edge]:0.5000</text>\n",
       "<text font-family=\"Courier,monospace\" font-size=\"14.00\" text-anchor=\"middle\" x=\"188.244\" y=\"-174.8\">[o-o]:0.5000</text>\n",
       "</g>\n",
       "<!-- history_recruitment -->\n",
       "<g class=\"node\" id=\"node3\"><title>history_recruitment</title>\n",
       "<ellipse cx=\"331.244\" cy=\"-252\" fill=\"none\" rx=\"80.6858\" ry=\"18\" stroke=\"black\"/>\n",
       "<text font-family=\"Times,serif\" font-size=\"14.00\" text-anchor=\"middle\" x=\"331.244\" y=\"-248.3\">history_recruitment</text>\n",
       "</g>\n",
       "<!-- m_sn_gt_1k -->\n",
       "<g class=\"node\" id=\"node4\"><title>m_sn_gt_1k</title>\n",
       "<ellipse cx=\"331.244\" cy=\"-135\" fill=\"none\" rx=\"54.6905\" ry=\"18\" stroke=\"black\"/>\n",
       "<text font-family=\"Times,serif\" font-size=\"14.00\" text-anchor=\"middle\" x=\"331.244\" y=\"-131.3\">m_sn_gt_1k</text>\n",
       "</g>\n",
       "<!-- history_recruitment&#45;&gt;m_sn_gt_1k -->\n",
       "<g class=\"edge\" id=\"edge2\"><title>history_recruitment-&gt;m_sn_gt_1k</title>\n",
       "<path d=\"M331.244,-225.315C331.244,-206.272 331.244,-180.433 331.244,-161.446\" fill=\"none\" stroke=\"black\"/>\n",
       "<ellipse cx=\"331.244\" cy=\"-229.534\" fill=\"none\" rx=\"4\" ry=\"4\" stroke=\"black\"/>\n",
       "<ellipse cx=\"331.244\" cy=\"-157.254\" fill=\"none\" rx=\"4\" ry=\"4\" stroke=\"black\"/>\n",
       "<text font-family=\"Courier,monospace\" font-size=\"14.00\" text-anchor=\"middle\" x=\"463.744\" y=\"-204.8\">history_recruitment - m_sn_gt_1k</text>\n",
       "<text font-family=\"Courier,monospace\" font-size=\"14.00\" text-anchor=\"middle\" x=\"463.744\" y=\"-189.8\">[no edge]:0.7500</text>\n",
       "<text font-family=\"Courier,monospace\" font-size=\"14.00\" text-anchor=\"middle\" x=\"463.744\" y=\"-174.8\">[o-o]:0.2500</text>\n",
       "</g>\n",
       "<!-- history_fluctuating -->\n",
       "<g class=\"node\" id=\"node5\"><title>history_fluctuating</title>\n",
       "<ellipse cx=\"619.244\" cy=\"-252\" fill=\"none\" rx=\"77.1866\" ry=\"18\" stroke=\"black\"/>\n",
       "<text font-family=\"Times,serif\" font-size=\"14.00\" text-anchor=\"middle\" x=\"619.244\" y=\"-248.3\">history_fluctuating</text>\n",
       "</g>\n",
       "<!-- m_sn_lt_1k -->\n",
       "<g class=\"node\" id=\"node6\"><title>m_sn_lt_1k</title>\n",
       "<ellipse cx=\"619.244\" cy=\"-135\" fill=\"none\" rx=\"52.7911\" ry=\"18\" stroke=\"black\"/>\n",
       "<text font-family=\"Times,serif\" font-size=\"14.00\" text-anchor=\"middle\" x=\"619.244\" y=\"-131.3\">m_sn_lt_1k</text>\n",
       "</g>\n",
       "<!-- history_fluctuating&#45;&gt;m_sn_lt_1k -->\n",
       "<g class=\"edge\" id=\"edge3\"><title>history_fluctuating-&gt;m_sn_lt_1k</title>\n",
       "<path d=\"M619.244,-225.315C619.244,-206.272 619.244,-180.433 619.244,-161.446\" fill=\"none\" stroke=\"black\"/>\n",
       "<ellipse cx=\"619.244\" cy=\"-229.534\" fill=\"none\" rx=\"4\" ry=\"4\" stroke=\"black\"/>\n",
       "<ellipse cx=\"619.244\" cy=\"-157.254\" fill=\"none\" rx=\"4\" ry=\"4\" stroke=\"black\"/>\n",
       "<text font-family=\"Courier,monospace\" font-size=\"14.00\" text-anchor=\"middle\" x=\"751.744\" y=\"-204.8\">history_fluctuating - m_sn_lt_1k</text>\n",
       "<text font-family=\"Courier,monospace\" font-size=\"14.00\" text-anchor=\"middle\" x=\"751.744\" y=\"-189.8\">[no edge]:0.5000</text>\n",
       "<text font-family=\"Courier,monospace\" font-size=\"14.00\" text-anchor=\"middle\" x=\"751.744\" y=\"-174.8\">[o-o]:0.5000</text>\n",
       "</g>\n",
       "<!-- airBoneGap -->\n",
       "<g class=\"node\" id=\"node7\"><title>airBoneGap</title>\n",
       "<ellipse cx=\"907.244\" cy=\"-252\" fill=\"none\" rx=\"53.0913\" ry=\"18\" stroke=\"black\"/>\n",
       "<text font-family=\"Times,serif\" font-size=\"14.00\" text-anchor=\"middle\" x=\"907.244\" y=\"-248.3\">airBoneGap</text>\n",
       "</g>\n",
       "<!-- tymp -->\n",
       "<g class=\"node\" id=\"node8\"><title>tymp</title>\n",
       "<ellipse cx=\"907.244\" cy=\"-135\" fill=\"none\" rx=\"29.4969\" ry=\"18\" stroke=\"black\"/>\n",
       "<text font-family=\"Times,serif\" font-size=\"14.00\" text-anchor=\"middle\" x=\"907.244\" y=\"-131.3\">tymp</text>\n",
       "</g>\n",
       "<!-- airBoneGap&#45;&gt;tymp -->\n",
       "<g class=\"edge\" id=\"edge4\"><title>airBoneGap-&gt;tymp</title>\n",
       "<path d=\"M907.244,-225.315C907.244,-206.272 907.244,-180.433 907.244,-161.446\" fill=\"none\" stroke=\"black\"/>\n",
       "<ellipse cx=\"907.244\" cy=\"-229.534\" fill=\"none\" rx=\"4\" ry=\"4\" stroke=\"black\"/>\n",
       "<ellipse cx=\"907.244\" cy=\"-157.254\" fill=\"none\" rx=\"4\" ry=\"4\" stroke=\"black\"/>\n",
       "<text font-family=\"Courier,monospace\" font-size=\"14.00\" text-anchor=\"middle\" x=\"977.744\" y=\"-204.8\">airBoneGap - tymp</text>\n",
       "<text font-family=\"Courier,monospace\" font-size=\"14.00\" text-anchor=\"middle\" x=\"977.744\" y=\"-189.8\">[no edge]:0.5000</text>\n",
       "<text font-family=\"Courier,monospace\" font-size=\"14.00\" text-anchor=\"middle\" x=\"977.744\" y=\"-174.8\">[o-o]:0.5000</text>\n",
       "</g>\n",
       "<!-- wave_V_delayed -->\n",
       "<g class=\"node\" id=\"node9\"><title>wave_V_delayed</title>\n",
       "<ellipse cx=\"1071.24\" cy=\"-252\" fill=\"none\" rx=\"71.4873\" ry=\"18\" stroke=\"black\"/>\n",
       "<text font-family=\"Times,serif\" font-size=\"14.00\" text-anchor=\"middle\" x=\"1071.24\" y=\"-248.3\">wave_V_delayed</text>\n",
       "</g>\n",
       "<!-- history_ringing -->\n",
       "<g class=\"node\" id=\"node10\"><title>history_ringing</title>\n",
       "<ellipse cx=\"1071.24\" cy=\"-135\" fill=\"none\" rx=\"64.9885\" ry=\"18\" stroke=\"black\"/>\n",
       "<text font-family=\"Times,serif\" font-size=\"14.00\" text-anchor=\"middle\" x=\"1071.24\" y=\"-131.3\">history_ringing</text>\n",
       "</g>\n",
       "<!-- wave_V_delayed&#45;&gt;history_ringing -->\n",
       "<g class=\"edge\" id=\"edge5\"><title>wave_V_delayed-&gt;history_ringing</title>\n",
       "<path d=\"M1071.24,-225.315C1071.24,-206.872 1071.24,-182.055 1071.24,-163.262\" fill=\"none\" stroke=\"black\"/>\n",
       "<ellipse cx=\"1071.24\" cy=\"-229.534\" fill=\"none\" rx=\"4\" ry=\"4\" stroke=\"black\"/>\n",
       "<polygon fill=\"black\" points=\"1074.74,-163.254 1071.24,-153.254 1067.74,-163.254 1074.74,-163.254\" stroke=\"black\"/>\n",
       "<text font-family=\"Courier,monospace\" font-size=\"14.00\" text-anchor=\"middle\" x=\"1203.74\" y=\"-204.8\">history_ringing - wave_V_delayed</text>\n",
       "<text font-family=\"Courier,monospace\" font-size=\"14.00\" text-anchor=\"middle\" x=\"1203.74\" y=\"-189.8\">[no edge]:0.7500</text>\n",
       "<text font-family=\"Courier,monospace\" font-size=\"14.00\" text-anchor=\"middle\" x=\"1203.74\" y=\"-174.8\">[&lt;-o]:0.2500</text>\n",
       "</g>\n",
       "<!-- m_sn_gt_500 -->\n",
       "<g class=\"node\" id=\"node11\"><title>m_sn_gt_500</title>\n",
       "<ellipse cx=\"1071.24\" cy=\"-18\" fill=\"none\" rx=\"59.2899\" ry=\"18\" stroke=\"black\"/>\n",
       "<text font-family=\"Times,serif\" font-size=\"14.00\" text-anchor=\"middle\" x=\"1071.24\" y=\"-14.3\">m_sn_gt_500</text>\n",
       "</g>\n",
       "<!-- history_ringing&#45;&gt;m_sn_gt_500 -->\n",
       "<g class=\"edge\" id=\"edge6\"><title>history_ringing-&gt;m_sn_gt_500</title>\n",
       "<path d=\"M1071.24,-108.315C1071.24,-89.2715 1071.24,-63.4327 1071.24,-44.446\" fill=\"none\" stroke=\"black\"/>\n",
       "<ellipse cx=\"1071.24\" cy=\"-112.534\" fill=\"none\" rx=\"4\" ry=\"4\" stroke=\"black\"/>\n",
       "<ellipse cx=\"1071.24\" cy=\"-40.2536\" fill=\"none\" rx=\"4\" ry=\"4\" stroke=\"black\"/>\n",
       "<text font-family=\"Courier,monospace\" font-size=\"14.00\" text-anchor=\"middle\" x=\"1191.24\" y=\"-87.8\">history_ringing - m_sn_gt_500</text>\n",
       "<text font-family=\"Courier,monospace\" font-size=\"14.00\" text-anchor=\"middle\" x=\"1191.24\" y=\"-72.8\">[&lt;-o]:0.2500</text>\n",
       "<text font-family=\"Courier,monospace\" font-size=\"14.00\" text-anchor=\"middle\" x=\"1191.24\" y=\"-57.8\">[o-o]:0.7500</text>\n",
       "</g>\n",
       "<!-- speech -->\n",
       "<g class=\"node\" id=\"node12\"><title>speech</title>\n",
       "<ellipse cx=\"1359.24\" cy=\"-252\" fill=\"none\" rx=\"34.394\" ry=\"18\" stroke=\"black\"/>\n",
       "<text font-family=\"Times,serif\" font-size=\"14.00\" text-anchor=\"middle\" x=\"1359.24\" y=\"-248.3\">speech</text>\n",
       "</g>\n",
       "<!-- indentifier -->\n",
       "<g class=\"node\" id=\"node13\"><title>indentifier</title>\n",
       "<ellipse cx=\"1638.24\" cy=\"-135\" fill=\"none\" rx=\"47.3916\" ry=\"18\" stroke=\"black\"/>\n",
       "<text font-family=\"Times,serif\" font-size=\"14.00\" text-anchor=\"middle\" x=\"1638.24\" y=\"-131.3\">indentifier</text>\n",
       "</g>\n",
       "<!-- speech&#45;&gt;indentifier -->\n",
       "<g class=\"edge\" id=\"edge7\"><title>speech-&gt;indentifier</title>\n",
       "<path d=\"M1355.44,-225.806C1354.29,-208.043 1356.14,-185.009 1370.24,-171 1398.94,-142.496 1510.53,-136.51 1580.35,-135.641\" fill=\"none\" stroke=\"black\"/>\n",
       "<ellipse cx=\"1355.83\" cy=\"-230.057\" fill=\"none\" rx=\"4\" ry=\"4\" stroke=\"black\"/>\n",
       "<polygon fill=\"black\" points=\"1580.79,-139.137 1590.76,-135.545 1580.72,-132.137 1580.79,-139.137\" stroke=\"black\"/>\n",
       "<text font-family=\"Courier,monospace\" font-size=\"14.00\" text-anchor=\"middle\" x=\"1453.24\" y=\"-197.3\">indentifier - speech</text>\n",
       "<text font-family=\"Courier,monospace\" font-size=\"14.00\" text-anchor=\"middle\" x=\"1453.24\" y=\"-182.3\">[&lt;-o]:1.0000</text>\n",
       "</g>\n",
       "<!-- history_nausea -->\n",
       "<g class=\"node\" id=\"node14\"><title>history_nausea</title>\n",
       "<ellipse cx=\"2138.24\" cy=\"-252\" fill=\"none\" rx=\"63.8893\" ry=\"18\" stroke=\"black\"/>\n",
       "<text font-family=\"Times,serif\" font-size=\"14.00\" text-anchor=\"middle\" x=\"2138.24\" y=\"-248.3\">history_nausea</text>\n",
       "</g>\n",
       "<!-- history_roaring -->\n",
       "<g class=\"node\" id=\"node15\"><title>history_roaring</title>\n",
       "<ellipse cx=\"2138.24\" cy=\"-135\" fill=\"none\" rx=\"64.9885\" ry=\"18\" stroke=\"black\"/>\n",
       "<text font-family=\"Times,serif\" font-size=\"14.00\" text-anchor=\"middle\" x=\"2138.24\" y=\"-131.3\">history_roaring</text>\n",
       "</g>\n",
       "<!-- history_nausea&#45;&gt;history_roaring -->\n",
       "<g class=\"edge\" id=\"edge8\"><title>history_nausea-&gt;history_roaring</title>\n",
       "<path d=\"M2138.24,-225.315C2138.24,-206.272 2138.24,-180.433 2138.24,-161.446\" fill=\"none\" stroke=\"black\"/>\n",
       "<ellipse cx=\"2138.24\" cy=\"-229.534\" fill=\"none\" rx=\"4\" ry=\"4\" stroke=\"black\"/>\n",
       "<ellipse cx=\"2138.24\" cy=\"-157.254\" fill=\"none\" rx=\"4\" ry=\"4\" stroke=\"black\"/>\n",
       "<text font-family=\"Courier,monospace\" font-size=\"14.00\" text-anchor=\"middle\" x=\"2270.74\" y=\"-197.3\">history_nausea - history_roaring</text>\n",
       "<text font-family=\"Courier,monospace\" font-size=\"14.00\" text-anchor=\"middle\" x=\"2270.74\" y=\"-182.3\">[o-o]:1.0000</text>\n",
       "</g>\n",
       "<!-- class -->\n",
       "<g class=\"node\" id=\"node16\"><title>class</title>\n",
       "<ellipse cx=\"1548.24\" cy=\"-252\" fill=\"none\" rx=\"27.8951\" ry=\"18\" stroke=\"black\"/>\n",
       "<text font-family=\"Times,serif\" font-size=\"14.00\" text-anchor=\"middle\" x=\"1548.24\" y=\"-248.3\">class</text>\n",
       "</g>\n",
       "<!-- class&#45;&gt;indentifier -->\n",
       "<g class=\"edge\" id=\"edge9\"><title>class-&gt;indentifier</title>\n",
       "<path d=\"M1541.82,-226.179C1538.92,-209.178 1538.26,-186.913 1549.24,-171 1557.68,-158.789 1571.07,-150.838 1584.93,-145.661\" fill=\"none\" stroke=\"black\"/>\n",
       "<ellipse cx=\"1542.6\" cy=\"-230.128\" fill=\"none\" rx=\"4.00001\" ry=\"4.00001\" stroke=\"black\"/>\n",
       "<polygon fill=\"black\" points=\"1586.14,-148.949 1594.54,-142.502 1583.95,-142.298 1586.14,-148.949\" stroke=\"black\"/>\n",
       "<text font-family=\"Courier,monospace\" font-size=\"14.00\" text-anchor=\"middle\" x=\"1627.74\" y=\"-204.8\">class - indentifier</text>\n",
       "<text font-family=\"Courier,monospace\" font-size=\"14.00\" text-anchor=\"middle\" x=\"1627.74\" y=\"-189.8\">[no edge]:0.2500</text>\n",
       "<text font-family=\"Courier,monospace\" font-size=\"14.00\" text-anchor=\"middle\" x=\"1627.74\" y=\"-174.8\">[o-&gt;]:0.7500</text>\n",
       "</g>\n",
       "<!-- history_dizziness -->\n",
       "<g class=\"node\" id=\"node17\"><title>history_dizziness</title>\n",
       "<ellipse cx=\"2545.24\" cy=\"-252\" fill=\"none\" rx=\"71.4873\" ry=\"18\" stroke=\"black\"/>\n",
       "<text font-family=\"Times,serif\" font-size=\"14.00\" text-anchor=\"middle\" x=\"2545.24\" y=\"-248.3\">history_dizziness</text>\n",
       "</g>\n",
       "<!-- m_m_sn -->\n",
       "<g class=\"node\" id=\"node18\"><title>m_m_sn</title>\n",
       "<ellipse cx=\"2426.24\" cy=\"-135\" fill=\"none\" rx=\"42.4939\" ry=\"18\" stroke=\"black\"/>\n",
       "<text font-family=\"Times,serif\" font-size=\"14.00\" text-anchor=\"middle\" x=\"2426.24\" y=\"-131.3\">m_m_sn</text>\n",
       "</g>\n",
       "<!-- history_dizziness&#45;&gt;m_m_sn -->\n",
       "<g class=\"edge\" id=\"edge10\"><title>history_dizziness-&gt;m_m_sn</title>\n",
       "<path d=\"M2469.71,-243.605C2453.25,-238.332 2437.66,-229.768 2427.24,-216 2415.58,-200.576 2416.31,-178.269 2419.4,-161.126\" fill=\"none\" stroke=\"black\"/>\n",
       "<ellipse cx=\"2474\" cy=\"-244.835\" fill=\"none\" rx=\"4.00001\" ry=\"4.00001\" stroke=\"black\"/>\n",
       "<ellipse cx=\"2420.24\" cy=\"-157.093\" fill=\"none\" rx=\"4.00001\" ry=\"4.00001\" stroke=\"black\"/>\n",
       "<text font-family=\"Courier,monospace\" font-size=\"14.00\" text-anchor=\"middle\" x=\"2534.74\" y=\"-204.8\">history_dizziness - m_m_sn</text>\n",
       "<text font-family=\"Courier,monospace\" font-size=\"14.00\" text-anchor=\"middle\" x=\"2534.74\" y=\"-189.8\">[no edge]:0.7500</text>\n",
       "<text font-family=\"Courier,monospace\" font-size=\"14.00\" text-anchor=\"middle\" x=\"2534.74\" y=\"-174.8\">[o-o]:0.2500</text>\n",
       "</g>\n",
       "<!-- static_normal -->\n",
       "<g class=\"node\" id=\"node19\"><title>static_normal</title>\n",
       "<ellipse cx=\"2664.24\" cy=\"-135\" fill=\"none\" rx=\"59.2899\" ry=\"18\" stroke=\"black\"/>\n",
       "<text font-family=\"Times,serif\" font-size=\"14.00\" text-anchor=\"middle\" x=\"2664.24\" y=\"-131.3\">static_normal</text>\n",
       "</g>\n",
       "<!-- history_dizziness&#45;&gt;static_normal -->\n",
       "<g class=\"edge\" id=\"edge11\"><title>history_dizziness-&gt;static_normal</title>\n",
       "<path d=\"M2608.92,-237.854C2621.31,-232.775 2633.23,-225.741 2642.24,-216 2655.95,-201.187 2661.24,-178.633 2663.22,-161.243\" fill=\"none\" stroke=\"black\"/>\n",
       "<ellipse cx=\"2604.9\" cy=\"-239.362\" fill=\"none\" rx=\"4.00001\" ry=\"4.00001\" stroke=\"black\"/>\n",
       "<ellipse cx=\"2663.59\" cy=\"-157.162\" fill=\"none\" rx=\"4\" ry=\"4\" stroke=\"black\"/>\n",
       "<text font-family=\"Courier,monospace\" font-size=\"14.00\" text-anchor=\"middle\" x=\"2798.74\" y=\"-204.8\">history_dizziness - static_normal</text>\n",
       "<text font-family=\"Courier,monospace\" font-size=\"14.00\" text-anchor=\"middle\" x=\"2798.74\" y=\"-189.8\">[no edge]:0.7500</text>\n",
       "<text font-family=\"Courier,monospace\" font-size=\"14.00\" text-anchor=\"middle\" x=\"2798.74\" y=\"-174.8\">[o-o]:0.2500</text>\n",
       "</g>\n",
       "<!-- boneAbnormal -->\n",
       "<g class=\"node\" id=\"node20\"><title>boneAbnormal</title>\n",
       "<ellipse cx=\"1728.24\" cy=\"-252\" fill=\"none\" rx=\"63.8893\" ry=\"18\" stroke=\"black\"/>\n",
       "<text font-family=\"Times,serif\" font-size=\"14.00\" text-anchor=\"middle\" x=\"1728.24\" y=\"-248.3\">boneAbnormal</text>\n",
       "</g>\n",
       "<!-- boneAbnormal&#45;&gt;indentifier -->\n",
       "<g class=\"edge\" id=\"edge12\"><title>boneAbnormal-&gt;indentifier</title>\n",
       "<path d=\"M1726.51,-225.497C1724.18,-208.459 1718.77,-186.428 1706.24,-171 1699.84,-163.114 1691.19,-156.816 1682.21,-151.861\" fill=\"none\" stroke=\"black\"/>\n",
       "<ellipse cx=\"1727.02\" cy=\"-229.916\" fill=\"none\" rx=\"4.00001\" ry=\"4.00001\" stroke=\"black\"/>\n",
       "<polygon fill=\"black\" points=\"1683.7,-148.692 1673.19,-147.344 1680.57,-154.951 1683.7,-148.692\" stroke=\"black\"/>\n",
       "<text font-family=\"Courier,monospace\" font-size=\"14.00\" text-anchor=\"middle\" x=\"1832.74\" y=\"-204.8\">boneAbnormal - indentifier</text>\n",
       "<text font-family=\"Courier,monospace\" font-size=\"14.00\" text-anchor=\"middle\" x=\"1832.74\" y=\"-189.8\">[no edge]:0.2500</text>\n",
       "<text font-family=\"Courier,monospace\" font-size=\"14.00\" text-anchor=\"middle\" x=\"1832.74\" y=\"-174.8\">[o-&gt;]:0.7500</text>\n",
       "</g>\n",
       "<!-- m_m_sn_gt_2k -->\n",
       "<g class=\"node\" id=\"node21\"><title>m_m_sn_gt_2k</title>\n",
       "<ellipse cx=\"2960.24\" cy=\"-252\" fill=\"none\" rx=\"66.0889\" ry=\"18\" stroke=\"black\"/>\n",
       "<text font-family=\"Times,serif\" font-size=\"14.00\" text-anchor=\"middle\" x=\"2960.24\" y=\"-248.3\">m_m_sn_gt_2k</text>\n",
       "</g>\n",
       "<!-- notch_4k -->\n",
       "<g class=\"node\" id=\"node22\"><title>notch_4k</title>\n",
       "<ellipse cx=\"2960.24\" cy=\"-135\" fill=\"none\" rx=\"43.5923\" ry=\"18\" stroke=\"black\"/>\n",
       "<text font-family=\"Times,serif\" font-size=\"14.00\" text-anchor=\"middle\" x=\"2960.24\" y=\"-131.3\">notch_4k</text>\n",
       "</g>\n",
       "<!-- m_m_sn_gt_2k&#45;&gt;notch_4k -->\n",
       "<g class=\"edge\" id=\"edge13\"><title>m_m_sn_gt_2k-&gt;notch_4k</title>\n",
       "<path d=\"M2960.24,-225.315C2960.24,-206.272 2960.24,-180.433 2960.24,-161.446\" fill=\"none\" stroke=\"black\"/>\n",
       "<ellipse cx=\"2960.24\" cy=\"-229.534\" fill=\"none\" rx=\"4\" ry=\"4\" stroke=\"black\"/>\n",
       "<ellipse cx=\"2960.24\" cy=\"-157.254\" fill=\"none\" rx=\"4\" ry=\"4\" stroke=\"black\"/>\n",
       "<text font-family=\"Courier,monospace\" font-size=\"14.00\" text-anchor=\"middle\" x=\"3055.24\" y=\"-204.8\">m_m_sn_gt_2k - notch_4k</text>\n",
       "<text font-family=\"Courier,monospace\" font-size=\"14.00\" text-anchor=\"middle\" x=\"3055.24\" y=\"-189.8\">[no edge]:0.7500</text>\n",
       "<text font-family=\"Courier,monospace\" font-size=\"14.00\" text-anchor=\"middle\" x=\"3055.24\" y=\"-174.8\">[o-o]:0.2500</text>\n",
       "</g>\n",
       "<!-- bone -->\n",
       "<g class=\"node\" id=\"node23\"><title>bone</title>\n",
       "<ellipse cx=\"1966.24\" cy=\"-252\" fill=\"none\" rx=\"27.8951\" ry=\"18\" stroke=\"black\"/>\n",
       "<text font-family=\"Times,serif\" font-size=\"14.00\" text-anchor=\"middle\" x=\"1966.24\" y=\"-248.3\">bone</text>\n",
       "</g>\n",
       "<!-- bone&#45;&gt;indentifier -->\n",
       "<g class=\"edge\" id=\"edge14\"><title>bone-&gt;indentifier</title>\n",
       "<path d=\"M1966.28,-225.374C1964.84,-207.397 1959.76,-184.285 1944.24,-171 1908.1,-140.045 1774.27,-135.216 1696.08,-135.147\" fill=\"none\" stroke=\"black\"/>\n",
       "<ellipse cx=\"1966.51\" cy=\"-229.727\" fill=\"none\" rx=\"4\" ry=\"4\" stroke=\"black\"/>\n",
       "<polygon fill=\"black\" points=\"1695.89,-131.647 1685.9,-135.164 1695.9,-138.647 1695.89,-131.647\" stroke=\"black\"/>\n",
       "<text font-family=\"Courier,monospace\" font-size=\"14.00\" text-anchor=\"middle\" x=\"2039.74\" y=\"-197.3\">bone - indentifier</text>\n",
       "<text font-family=\"Courier,monospace\" font-size=\"14.00\" text-anchor=\"middle\" x=\"2039.74\" y=\"-182.3\">[o-&gt;]:1.0000</text>\n",
       "</g>\n",
       "</g>\n",
       "</svg>"
      ],
      "text/plain": [
       "<IPython.core.display.SVG object>"
      ]
     },
     "execution_count": 9,
     "metadata": {},
     "output_type": "execute_result"
    }
   ],
   "source": [
    "dot = tetrad.getDot()\n",
    "svg_str = dot.create_svg(prog='dot')\n",
    "SVG(svg_str)"
   ]
  },
  {
   "cell_type": "markdown",
   "metadata": {
    "collapsed": true
   },
   "source": [
    "#### Stop Java VM"
   ]
  },
  {
   "cell_type": "code",
   "execution_count": 10,
   "metadata": {
    "collapsed": true
   },
   "outputs": [],
   "source": [
    "pc.stop_vm()"
   ]
  },
  {
   "cell_type": "code",
   "execution_count": null,
   "metadata": {
    "collapsed": true
   },
   "outputs": [],
   "source": []
  }
 ],
 "metadata": {
  "kernelspec": {
   "display_name": "Python 2",
   "language": "python",
   "name": "python2"
  },
  "language_info": {
   "codemirror_mode": {
    "name": "ipython",
    "version": 2
   },
   "file_extension": ".py",
   "mimetype": "text/x-python",
   "name": "python",
   "nbconvert_exporter": "python",
   "pygments_lexer": "ipython2",
   "version": "2.7.13"
  },
  "widgets": {
   "state": {},
   "version": "1.1.1"
  }
 },
 "nbformat": 4,
 "nbformat_minor": 1
}
