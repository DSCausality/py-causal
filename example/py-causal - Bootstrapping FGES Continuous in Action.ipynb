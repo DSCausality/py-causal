{
 "cells": [
  {
   "cell_type": "code",
   "execution_count": 1,
   "metadata": {},
   "outputs": [],
   "source": [
    "import pandas as pd"
   ]
  },
  {
   "cell_type": "markdown",
   "metadata": {},
   "source": [
    "#### Load the example dataset"
   ]
  },
  {
   "cell_type": "code",
   "execution_count": 2,
   "metadata": {},
   "outputs": [],
   "source": [
    "data_dir = \"https://raw.githubusercontent.com/bd2kccd/py-causal/master/data/charity.txt\"\n",
    "df = pd.read_table(data_dir, sep=\"\\t\")"
   ]
  },
  {
   "cell_type": "markdown",
   "metadata": {
    "collapsed": true
   },
   "source": [
    "#### Start Java VM"
   ]
  },
  {
   "cell_type": "code",
   "execution_count": 3,
   "metadata": {},
   "outputs": [],
   "source": [
    "from pycausal.pycausal import pycausal as pc\n",
    "pc = pc()\n",
    "pc.start_vm()"
   ]
  },
  {
   "cell_type": "markdown",
   "metadata": {},
   "source": [
    "#### Create the Prior Knowledge Object"
   ]
  },
  {
   "cell_type": "code",
   "execution_count": 4,
   "metadata": {},
   "outputs": [
    {
     "data": {
      "text/plain": [
       "Instance of edu.cmu.tetrad.data.Knowledge2: /knowledge\n",
       "addtemporal\n",
       "\n",
       "1*  Imaginability TangibilityCondition\n",
       "2  AmountDonated Sympathy\n",
       "3  Impact\n",
       "\n",
       "forbiddirect\n",
       "TangibilityCondition Impact\n",
       "\n",
       "requiredirect\n",
       "Sympathy TangibilityCondition"
      ]
     },
     "execution_count": 4,
     "metadata": {},
     "output_type": "execute_result"
    }
   ],
   "source": [
    "from pycausal import prior as p\n",
    "forbid = [['TangibilityCondition','Impact']]\n",
    "require =[['Sympathy','TangibilityCondition']]\n",
    "tempForbid = p.ForbiddenWithin(['TangibilityCondition','Imaginability'])\n",
    "temporal = [tempForbid,['Sympathy','AmountDonated'],['Impact']]\n",
    "prior = p.knowledge(forbiddirect = forbid, requiredirect = require, addtemporal = temporal)\n",
    "prior"
   ]
  },
  {
   "cell_type": "markdown",
   "metadata": {
    "collapsed": true
   },
   "source": [
    "#### Load causal algorithms from the py-causal library and Run Bootstrapping FGES Continuous"
   ]
  },
  {
   "cell_type": "code",
   "execution_count": 5,
   "metadata": {},
   "outputs": [
    {
     "name": "stdout",
     "output_type": "stream",
     "text": [
      "bdeu-score\n",
      "cci-score\n",
      "cg-bic-score\n",
      "cg-other-bic-score\n",
      "d-sep-score\n",
      "disc-bic-score\n",
      "disc-mixed-bic-score\n",
      "mnlr-bic-score\n",
      "mvp-bic-score\n",
      "sem-bic-score\n"
     ]
    }
   ],
   "source": [
    "from pycausal import search as s\n",
    "tetrad = s.tetradrunner()\n",
    "tetrad.listScores()"
   ]
  },
  {
   "cell_type": "code",
   "execution_count": 6,
   "metadata": {},
   "outputs": [
    {
     "name": "stdout",
     "output_type": "stream",
     "text": [
      "faithfulnessAssumed: This is a parameter for FGES (“Fast GES”). If this is set to ‘Yes’, it will be assumed that if X _||_ Y, by an independence test, then X _||_ Y | Z for nonempty Z. If the model is faithful to the data, this will necessarily be the case. However, there are some non-faithful examples one can propose where this is not the case. If one is worried about this kind of unfaithfulness, one should set this parameter to ‘No’. If one is willing to tolerate this kind of unfaithfulness, then setting this parameter to ‘Yes’ leads to significantly faster searches. (java.lang.Boolean) [default:true]\n",
      "symmetricFirstStep: For discrete searches, and in some other situations, it may make a difference for an edge X—Y whether you score X->Y or X<-Y, even though theoretically they should have the same score. If this parameter is set to “Yes”, both scores will be calculated and the higher score used. (Recall we are calculating BIC as 2L – c k ln N, where c is the penalty discount.) (java.lang.Boolean) [default:false]\n",
      "maxDegree: It is possible for a random graph to have a single node with very high degree—i.e. number of adjacent edges. This parameter places an upper bound on the maximum such degree. If no limit is to be placed on the maximum degree, use the value -1. (java.lang.Integer) [default:100]\n",
      "verbose: If this parameter is set to ‘Yes’, extra (“verbose”) output will be printed if available giving some details about the step-by-step operation of the algorithm. (java.lang.Boolean) [default:true]\n"
     ]
    }
   ],
   "source": [
    "tetrad.getAlgorithmParameters(algoId = 'fges', scoreId = 'sem-bic-score')"
   ]
  },
  {
   "cell_type": "code",
   "execution_count": 7,
   "metadata": {},
   "outputs": [],
   "source": [
    "tetrad.run(algoId = 'fges', dfs = df, scoreId = 'sem-bic-score', priorKnowledge = prior,\n",
    "           maxDegree = -1, faithfulnessAssumed = True, symmetricFirstStep = True, \n",
    "           numberResampling = 5, resamplingEnsemble = 1, addOriginalDataset = True)"
   ]
  },
  {
   "cell_type": "markdown",
   "metadata": {
    "collapsed": true
   },
   "source": [
    "#### Bootstrapping FGES Continuous' Result's Nodes"
   ]
  },
  {
   "cell_type": "code",
   "execution_count": 8,
   "metadata": {},
   "outputs": [
    {
     "data": {
      "text/plain": [
       "['AmountDonated',\n",
       " 'Imaginability',\n",
       " 'Impact',\n",
       " 'Sympathy',\n",
       " 'TangibilityCondition']"
      ]
     },
     "execution_count": 8,
     "metadata": {},
     "output_type": "execute_result"
    }
   ],
   "source": [
    "tetrad.getNodes()"
   ]
  },
  {
   "cell_type": "markdown",
   "metadata": {},
   "source": [
    "#### Bootstrapping FGES Continuous' Result's Edges"
   ]
  },
  {
   "cell_type": "code",
   "execution_count": 9,
   "metadata": {},
   "outputs": [
    {
     "data": {
      "text/plain": [
       "['AmountDonated --- Sympathy [AmountDonated --- Sympathy]:0.6667;[AmountDonated <-- Sympathy]:0.3333;',\n",
       " 'Sympathy --> Impact [Impact <-- Sympathy]:1.0000;',\n",
       " 'Sympathy --> TangibilityCondition [Sympathy --> TangibilityCondition]:1.0000;',\n",
       " 'Imaginability --> Impact [Imaginability --> Impact]:1.0000;']"
      ]
     },
     "execution_count": 9,
     "metadata": {},
     "output_type": "execute_result"
    }
   ],
   "source": [
    "tetrad.getEdges()"
   ]
  },
  {
   "cell_type": "markdown",
   "metadata": {},
   "source": [
    "#### Plot The Result's Graph"
   ]
  },
  {
   "cell_type": "code",
   "execution_count": 10,
   "metadata": {},
   "outputs": [
    {
     "data": {
      "image/svg+xml": [
       "<svg height=\"365pt\" viewBox=\"0.00 0.00 498.44 365.00\" width=\"498pt\" xmlns=\"http://www.w3.org/2000/svg\" xmlns:xlink=\"http://www.w3.org/1999/xlink\">\n",
       "<g class=\"graph\" id=\"graph0\" transform=\"scale(1 1) rotate(0) translate(4 361)\">\n",
       "<title>g</title>\n",
       "<polygon fill=\"white\" points=\"-4,4 -4,-361 494.442,-361 494.442,4 -4,4\" stroke=\"none\"/>\n",
       "<!-- AmountDonated -->\n",
       "<g class=\"node\" id=\"node1\"><title>AmountDonated</title>\n",
       "<ellipse cx=\"86.4423\" cy=\"-237\" fill=\"none\" rx=\"86.3847\" ry=\"18\" stroke=\"black\"/>\n",
       "<text font-family=\"Times,serif\" font-size=\"14.00\" text-anchor=\"middle\" x=\"86.4423\" y=\"-233.3\">AmountDonated</text>\n",
       "</g>\n",
       "<!-- Sympathy -->\n",
       "<g class=\"node\" id=\"node2\"><title>Sympathy</title>\n",
       "<ellipse cx=\"197.442\" cy=\"-120\" fill=\"none\" rx=\"57.3905\" ry=\"18\" stroke=\"black\"/>\n",
       "<text font-family=\"Times,serif\" font-size=\"14.00\" text-anchor=\"middle\" x=\"197.442\" y=\"-116.3\">Sympathy</text>\n",
       "</g>\n",
       "<!-- AmountDonated&#45;&gt;Sympathy -->\n",
       "<g class=\"edge\" id=\"edge1\"><title>AmountDonated-&gt;Sympathy</title>\n",
       "<path d=\"M81.3298,-218.876C77.2049,-201.314 74.0474,-174.08 87.4423,-156 100.327,-138.609 121.917,-129.662 142.576,-125.13\" fill=\"none\" stroke=\"black\"/>\n",
       "<text font-family=\"Courier,monospace\" font-size=\"14.00\" text-anchor=\"middle\" x=\"186.942\" y=\"-189.8\">AmountDonated - Sympathy</text>\n",
       "<text font-family=\"Courier,monospace\" font-size=\"14.00\" text-anchor=\"middle\" x=\"186.942\" y=\"-174.8\">[---]:0.6666666666666666</text>\n",
       "<text font-family=\"Courier,monospace\" font-size=\"14.00\" text-anchor=\"middle\" x=\"186.942\" y=\"-159.8\">[&lt;--]:0.3333333333333333</text>\n",
       "</g>\n",
       "<!-- TangibilityCondition -->\n",
       "<g class=\"node\" id=\"node4\"><title>TangibilityCondition</title>\n",
       "<ellipse cx=\"197.442\" cy=\"-18\" fill=\"none\" rx=\"105.082\" ry=\"18\" stroke=\"black\"/>\n",
       "<text font-family=\"Times,serif\" font-size=\"14.00\" text-anchor=\"middle\" x=\"197.442\" y=\"-14.3\">TangibilityCondition</text>\n",
       "</g>\n",
       "<!-- Sympathy&#45;&gt;TangibilityCondition -->\n",
       "<g class=\"edge\" id=\"edge3\"><title>Sympathy-&gt;TangibilityCondition</title>\n",
       "<path d=\"M197.442,-101.581C197.442,-86.3816 197.442,-64.0669 197.442,-46.4644\" fill=\"none\" stroke=\"black\"/>\n",
       "<polygon fill=\"black\" points=\"200.942,-46.219 197.442,-36.2191 193.942,-46.2191 200.942,-46.219\" stroke=\"black\"/>\n",
       "<text font-family=\"Courier,monospace\" font-size=\"14.00\" text-anchor=\"middle\" x=\"325.442\" y=\"-72.8\">Sympathy - TangibilityCondition</text>\n",
       "<text font-family=\"Courier,monospace\" font-size=\"14.00\" text-anchor=\"middle\" x=\"325.442\" y=\"-57.8\">[--&gt;]:1.0</text>\n",
       "</g>\n",
       "<!-- Impact -->\n",
       "<g class=\"node\" id=\"node3\"><title>Impact</title>\n",
       "<ellipse cx=\"308.442\" cy=\"-237\" fill=\"none\" rx=\"44.393\" ry=\"18\" stroke=\"black\"/>\n",
       "<text font-family=\"Times,serif\" font-size=\"14.00\" text-anchor=\"middle\" x=\"308.442\" y=\"-233.3\">Impact</text>\n",
       "</g>\n",
       "<!-- Impact&#45;&gt;Sympathy -->\n",
       "<g class=\"edge\" id=\"edge2\"><title>Impact-&gt;Sympathy</title>\n",
       "<path d=\"M306.993,-208.481C304.746,-191.509 299.319,-170.324 286.442,-156 275.453,-143.776 259.654,-135.772 244.407,-130.553\" fill=\"none\" stroke=\"black\"/>\n",
       "<polygon fill=\"black\" points=\"303.56,-209.317 308.056,-218.911 310.524,-208.607 303.56,-209.317\" stroke=\"black\"/>\n",
       "<text font-family=\"Courier,monospace\" font-size=\"14.00\" text-anchor=\"middle\" x=\"376.942\" y=\"-182.3\">Impact - Sympathy</text>\n",
       "<text font-family=\"Courier,monospace\" font-size=\"14.00\" text-anchor=\"middle\" x=\"376.942\" y=\"-167.3\">[&lt;--]:1.0</text>\n",
       "</g>\n",
       "<!-- Imaginability -->\n",
       "<g class=\"node\" id=\"node5\"><title>Imaginability</title>\n",
       "<ellipse cx=\"308.442\" cy=\"-339\" fill=\"none\" rx=\"72.5877\" ry=\"18\" stroke=\"black\"/>\n",
       "<text font-family=\"Times,serif\" font-size=\"14.00\" text-anchor=\"middle\" x=\"308.442\" y=\"-335.3\">Imaginability</text>\n",
       "</g>\n",
       "<!-- Imaginability&#45;&gt;Impact -->\n",
       "<g class=\"edge\" id=\"edge4\"><title>Imaginability-&gt;Impact</title>\n",
       "<path d=\"M308.442,-320.581C308.442,-305.382 308.442,-283.067 308.442,-265.464\" fill=\"none\" stroke=\"black\"/>\n",
       "<polygon fill=\"black\" points=\"311.942,-265.219 308.442,-255.219 304.942,-265.219 311.942,-265.219\" stroke=\"black\"/>\n",
       "<text font-family=\"Courier,monospace\" font-size=\"14.00\" text-anchor=\"middle\" x=\"399.442\" y=\"-291.8\">Imaginability - Impact</text>\n",
       "<text font-family=\"Courier,monospace\" font-size=\"14.00\" text-anchor=\"middle\" x=\"399.442\" y=\"-276.8\">[--&gt;]:1.0</text>\n",
       "</g>\n",
       "</g>\n",
       "</svg>"
      ],
      "text/plain": [
       "<IPython.core.display.SVG object>"
      ]
     },
     "execution_count": 10,
     "metadata": {},
     "output_type": "execute_result"
    }
   ],
   "source": [
    "import pydot\n",
    "from IPython.display import SVG\n",
    "dot_str = pc.tetradGraphToDot(tetrad.getTetradGraph())\n",
    "graphs = pydot.graph_from_dot_data(dot_str)\n",
    "svg_str = graphs[0].create_svg()\n",
    "SVG(svg_str)"
   ]
  },
  {
   "cell_type": "markdown",
   "metadata": {
    "collapsed": true
   },
   "source": [
    "#### Stop Java VM"
   ]
  },
  {
   "cell_type": "code",
   "execution_count": 11,
   "metadata": {},
   "outputs": [],
   "source": [
    "pc.stop_vm()"
   ]
  },
  {
   "cell_type": "code",
   "execution_count": null,
   "metadata": {},
   "outputs": [],
   "source": []
  }
 ],
 "metadata": {
  "kernelspec": {
   "display_name": "Python 3",
   "language": "python",
   "name": "python3"
  },
  "language_info": {
   "codemirror_mode": {
    "name": "ipython",
    "version": 3
   },
   "file_extension": ".py",
   "mimetype": "text/x-python",
   "name": "python",
   "nbconvert_exporter": "python",
   "pygments_lexer": "ipython3",
   "version": "3.5.4"
  }
 },
 "nbformat": 4,
 "nbformat_minor": 1
}
